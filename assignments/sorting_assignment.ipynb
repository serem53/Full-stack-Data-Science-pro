{
 "cells": [
  {
   "cell_type": "markdown",
   "id": "e9b1940d-85a9-4773-816b-2736af9032f3",
   "metadata": {},
   "source": [
    "Problem 1.Given an array of n numbers, give an algorithm which gives the element appearing maximum\n",
    "number of times?"
   ]
  },
  {
   "cell_type": "code",
   "execution_count": 2,
   "id": "01f39a6a-8178-47a0-a452-5a2943e23067",
   "metadata": {},
   "outputs": [],
   "source": [
    "def most_appearing_element_by_sorting(array):\n",
    "    sorted_array = sorted(array)\n",
    "    \n",
    "    current_element = sorted_array[0]\n",
    "    current_count = 1\n",
    "    max_element = None\n",
    "    max_count = 0\n",
    "\n",
    "    for i in range(1, len(sorted_array)):\n",
    "        if sorted_array[i] == current_element:\n",
    "            current_count += 1\n",
    "        else:\n",
    "            if current_count > max_count:\n",
    "                max_count = current_count\n",
    "                max_element = current_element\n",
    "            current_element = sorted_array[i]\n",
    "            current_count = 1\n",
    "\n",
    "    # Check for the last element\n",
    "    if current_count > max_count:\n",
    "        max_element = current_element\n",
    "\n",
    "    return max_element\n",
    "#time complexity -- O(n log n) where n is num of elements in array\n",
    "##space complexity -- O(n) where n is numberof elements in the new array"
   ]
  },
  {
   "cell_type": "code",
   "execution_count": 6,
   "id": "868c797b-3bc6-425c-a74f-5a1f0197ede8",
   "metadata": {},
   "outputs": [
    {
     "data": {
      "text/plain": [
       "2"
      ]
     },
     "execution_count": 6,
     "metadata": {},
     "output_type": "execute_result"
    }
   ],
   "source": [
    "array = [1,1,2,2,2,2,2,4,5,6]\n",
    "most_appearing_element_by_sorting(array)"
   ]
  },
  {
   "cell_type": "code",
   "execution_count": 7,
   "id": "51cf5975-d817-4582-a81e-e4f5f8cd082d",
   "metadata": {},
   "outputs": [],
   "source": [
    "## optimized version"
   ]
  },
  {
   "cell_type": "code",
   "execution_count": 8,
   "id": "6b9960e0-f870-48aa-b1c8-adf8da94b8a7",
   "metadata": {},
   "outputs": [],
   "source": [
    "\n",
    "def most_appearing_element(array):\n",
    "    count = {}\n",
    "    for i in array:\n",
    "        if i in count:\n",
    "            count[i] += 1\n",
    "            \n",
    "        else:\n",
    "            count[i] = 1\n",
    "            \n",
    "    \n",
    "    num_count = 0\n",
    "    most_element = None\n",
    "    for key in count.keys():\n",
    "        if count[key] >= num_count:\n",
    "            num_count = count[key]\n",
    "            most_element = key\n",
    "            \n",
    "    return most_element      \n",
    "  \n",
    "    \n",
    "# time complexity -- 0(n) where n is the number of elements in the array \n",
    "# space complexity  -- 0(k) new data structure in use the set and at worst case it can have k distinct elements"
   ]
  },
  {
   "cell_type": "code",
   "execution_count": 9,
   "id": "4c564c20-8b5f-4739-b567-6886f1c49d4e",
   "metadata": {},
   "outputs": [
    {
     "name": "stdout",
     "output_type": "stream",
     "text": [
      "6 is the most appearing element in the array\n"
     ]
    }
   ],
   "source": [
    "array = [1,2,4,5,6]\n",
    "print(most_appearing_element(array),\"is the most appearing element in the array\")"
   ]
  },
  {
   "cell_type": "markdown",
   "id": "693c7a2e-6b2c-4f7d-8410-59cbfc867c86",
   "metadata": {},
   "source": [
    "Problem 2 : We are given a list of n-1 integers and these integers are in the range of 1 to n . There are no\n",
    "duplicates in the list. One of the integers is missing in the list. Give an algorithm to find that element Ex:\n",
    "[1,2,4,6,3,7,8] 5 is the missing num."
   ]
  },
  {
   "cell_type": "code",
   "execution_count": 33,
   "id": "008a7d7b-2072-4a4a-b5a9-c258d55c305a",
   "metadata": {},
   "outputs": [],
   "source": [
    "def find_missing_num(lst):\n",
    "    sorted_lst = sorted(lst)\n",
    "    for i in range(len(sorted_lst)-1):\n",
    "        if sorted_lst[i]+1 == sorted_lst[i+1]:\n",
    "            continue\n",
    "        else:\n",
    "            return \"the missing num is: \",sorted_lst[i]+1\n",
    "\n",
    "#time complextiy -- o(n) during calcution of the sum we are iterating over n where n is elements in list\n",
    "##space complexity --O(n)  extra list space  required for sorting\n"
   ]
  },
  {
   "cell_type": "code",
   "execution_count": 34,
   "id": "da842265-02ac-4b1b-afe5-830dee17c223",
   "metadata": {},
   "outputs": [
    {
     "data": {
      "text/plain": [
       "('the missing num is: ', 5)"
      ]
     },
     "execution_count": 34,
     "metadata": {},
     "output_type": "execute_result"
    }
   ],
   "source": [
    "lst = [1,2,4,6,3,7,8]\n",
    "find_missing_num(lst)"
   ]
  },
  {
   "cell_type": "code",
   "execution_count": 35,
   "id": "22b4e5c1-4f47-460f-ab96-6a7f7882c31f",
   "metadata": {},
   "outputs": [],
   "source": [
    "##optimizing the above problem"
   ]
  },
  {
   "cell_type": "code",
   "execution_count": 36,
   "id": "27a0af08-2e4f-494b-be83-96b637912ab4",
   "metadata": {},
   "outputs": [
    {
     "data": {
      "text/plain": [
       "5"
      ]
     },
     "execution_count": 36,
     "metadata": {},
     "output_type": "execute_result"
    }
   ],
   "source": [
    "def find_missing_number(nums):\n",
    "    n = len(nums) + 1  # n is the original length of the list + 1\n",
    "    expected_sum = (n * (n + 1)) // 2  # Sum of the first n natural numbers\n",
    "\n",
    "    actual_sum = sum(nums)  # Sum of the elements in the given list\n",
    "\n",
    "    missing_number = expected_sum - actual_sum\n",
    "    return missing_number\n",
    "\n",
    "\n",
    "#time complextiy -- o(n) during calcution of the sum we are iterating over n where n is elements in list\n",
    "##space complexity --O(1) constant space\n",
    "\n",
    "\n",
    "lst = [1,2,4,6,3,7,8]\n",
    "find_missing_number(lst)\n"
   ]
  },
  {
   "cell_type": "markdown",
   "id": "a7562d49-f4ef-486d-8770-d74e2b7659ca",
   "metadata": {},
   "source": [
    "Problem 3 : Given an array of n positive numbers. All numbers occurs even number of times except 1 which\n",
    "occurs odd number of times. Find that number in O(n) time and O(1) space. Ex: [1,2,3,2,3,1,3]. 3 is repeats odd\n",
    "times."
   ]
  },
  {
   "cell_type": "code",
   "execution_count": 10,
   "id": "4658c35a-fde3-4a25-95ba-7cae8cc737f2",
   "metadata": {},
   "outputs": [],
   "source": [
    "# utilizing XOR operation to solve the problem\n",
    "def find_odd_occuring_num(array):\n",
    "    result = 0\n",
    "    for num in array:\n",
    "        result ^= num\n",
    "    return result\n",
    "\n",
    "#by performing the xor operation we can achieve 0(n) time and 0(1) space complexities in the above problem"
   ]
  },
  {
   "cell_type": "code",
   "execution_count": 11,
   "id": "4edb3438-c57e-4494-a400-4655ff02a87e",
   "metadata": {},
   "outputs": [
    {
     "data": {
      "text/plain": [
       "3"
      ]
     },
     "execution_count": 11,
     "metadata": {},
     "output_type": "execute_result"
    }
   ],
   "source": [
    "arr = [1,2,3,2,3,1,3]\n",
    "find_odd_occuring_num(arr)"
   ]
  },
  {
   "cell_type": "markdown",
   "id": "28de640a-a6e8-48e9-8bbf-1de72987c395",
   "metadata": {},
   "source": [
    "Problem 4 : Given an array of n elements. Find two elements in the array such that their sum is equal to given\n",
    "element K."
   ]
  },
  {
   "cell_type": "code",
   "execution_count": 12,
   "id": "a6580a1c-e2df-479f-a68c-0280d685635b",
   "metadata": {},
   "outputs": [],
   "source": [
    "def  find_array_sum_of_two_pairs(array,k):\n",
    "    seen_elements = set()\n",
    "    \n",
    "    for num in array:\n",
    "        complement = k - num\n",
    "        \n",
    "        if complement in seen_elements:\n",
    "            return num,complement\n",
    "        \n",
    "        else:\n",
    "            seen_elements.add(num)\n",
    "            \n",
    "    return None\n",
    "\n",
    "#time complexity -- O(n) and space complexity O(n)"
   ]
  },
  {
   "cell_type": "code",
   "execution_count": 13,
   "id": "772d8d20-7ad6-4574-832f-7aed7ceffa73",
   "metadata": {},
   "outputs": [
    {
     "data": {
      "text/plain": [
       "(5, 4)"
      ]
     },
     "execution_count": 13,
     "metadata": {},
     "output_type": "execute_result"
    }
   ],
   "source": [
    "array = [1, 2, 3, 4, 5, 6]\n",
    "k = 9\n",
    "\n",
    "find_array_sum_of_two_pairs(array,k)"
   ]
  },
  {
   "cell_type": "markdown",
   "id": "f36af352-d053-42e5-ba7c-f6586a7df166",
   "metadata": {},
   "source": [
    "Problem 5 : Given an array of both positive and negative numbers, find two numbers such that their sum is\n",
    "closest to 0. Ex: [ 1 ,60 ,-10, 70, -80,85]. Ans : -80,85."
   ]
  },
  {
   "cell_type": "code",
   "execution_count": 1,
   "id": "aa6c5fb5-46aa-42f9-9bb5-8f0016ebcfc9",
   "metadata": {},
   "outputs": [],
   "source": [
    "def sum_close_to_zero(array):\n",
    "    if len(array) < 2:\n",
    "        return \"Array should have at least two elements.\"\n",
    "\n",
    "    element = [None, None, float('inf')]  # Initialize with positive infinity as the initial absolute sum\n",
    "    \n",
    "    for i in range(len(array)-1):\n",
    "        for j in range(i+1, len(array)):\n",
    "            current_sum = array[i] + array[j]\n",
    "            absolute_sum = abs(current_sum)\n",
    "            \n",
    "            if absolute_sum < element[2]:\n",
    "                element = [array[i], array[j], absolute_sum]\n",
    "    \n",
    "    return f\"In the array, the sum of {element[0]} and {element[1]} is closest to zero with an absolute sum of {element[2]}\"\n",
    "\n",
    "\n",
    "## time O(n^2)  space(1)  element list is fixed to be 3 in size"
   ]
  },
  {
   "cell_type": "code",
   "execution_count": 2,
   "id": "455dd22a-0e6f-44eb-8789-ae1d867b0ab8",
   "metadata": {},
   "outputs": [
    {
     "name": "stdout",
     "output_type": "stream",
     "text": [
      "In the array, the sum of -80 and 85 is closest to zero with an absolute sum of 5\n"
     ]
    }
   ],
   "source": [
    "array = [1, 60, -10, 70, -80, 85]\n",
    "result = sum_close_to_zero(array)\n",
    "print(result)"
   ]
  },
  {
   "cell_type": "markdown",
   "id": "da4572b1-ba30-4b2d-ba23-351834085399",
   "metadata": {},
   "source": [
    "Problem 6 : Given an array of n elements . Find three elements such that their sum is equal to the given\n",
    "number."
   ]
  },
  {
   "cell_type": "code",
   "execution_count": 28,
   "id": "bba064b1-e278-40ac-a1b5-921c10733c27",
   "metadata": {},
   "outputs": [
    {
     "name": "stdout",
     "output_type": "stream",
     "text": [
      "The three elements with sum 16 are: 4, 3, 9\n"
     ]
    },
    {
     "data": {
      "text/plain": [
       "'note: tthis is not efficient  because we are using 3 nested loops to iterate over the array resulting in O(n^3) time complexity in order to make it efficient we will use the 2-pointer technique\\n'"
      ]
     },
     "execution_count": 28,
     "metadata": {},
     "output_type": "execute_result"
    }
   ],
   "source": [
    "def find_three_elements(arr, target_sum):\n",
    "    n = len(arr)\n",
    "\n",
    "    for i in range(n - 2):\n",
    "        for j in range(i + 1, n - 1):\n",
    "            for k in range(j + 1, n):\n",
    "                if arr[i] + arr[j] + arr[k] == target_sum:\n",
    "                    return arr[i], arr[j], arr[k]\n",
    "\n",
    "    return None\n",
    "\n",
    "\n",
    "array = [1, 4, 2, 8, 3, 9, 5]\n",
    "target_sum = 16\n",
    "result = find_three_elements(array, target_sum)\n",
    "\n",
    "if result:\n",
    "    print(f\"The three elements with sum {target_sum} are: {result[0]}, {result[1]}, {result[2]}\")\n",
    "else:\n",
    "    print(\"No such three elements found.\")\n",
    "\n",
    "    \n",
    "\"\"\"note: tthis is not efficient  because we are using 3 nested loops to iterate over the array resulting in O(n^3) time complexity in order to make it efficient we will use the 2-pointer technique\n",
    "\"\"\""
   ]
  },
  {
   "cell_type": "markdown",
   "id": "32598f69-4b9c-40de-a05d-b6356b2187e3",
   "metadata": {},
   "source": [
    "##efficient algorithm"
   ]
  },
  {
   "cell_type": "code",
   "execution_count": 30,
   "id": "471eb9ad-4473-4787-92cc-bfe3403c4fb3",
   "metadata": {},
   "outputs": [
    {
     "name": "stdout",
     "output_type": "stream",
     "text": [
      "The three elements with sum 16 are: 2, 5, 9\n"
     ]
    },
    {
     "data": {
      "text/plain": [
       "' this is mush more efficient we first sort the array then using the the two-pointer technique we achieve our result.the sort results in O(n log n) complexity while the nested loop is O(n^2) therefore whe n combined theresulting time complexity is O(n^2) which is efficinet than the previous algorithm'"
      ]
     },
     "execution_count": 30,
     "metadata": {},
     "output_type": "execute_result"
    }
   ],
   "source": [
    "def find_three_elements_with_sum(arr, target_sum):\n",
    "    arr.sort()  # Sort the array\n",
    "\n",
    "    for i in range(len(arr) - 2):\n",
    "        left, right = i + 1, len(arr) - 1\n",
    "\n",
    "        while left < right:\n",
    "            current_sum = arr[i] + arr[left] + arr[right]\n",
    "\n",
    "            if current_sum == target_sum:\n",
    "                return arr[i], arr[left], arr[right]\n",
    "            elif current_sum < target_sum:\n",
    "                left += 1\n",
    "            else:\n",
    "                right -= 1\n",
    "\n",
    "    return None\n",
    "\n",
    "\n",
    "array = [1, 4, 2, 8, 3, 9, 5]\n",
    "target_sum = 16\n",
    "result = find_three_elements_with_sum(array, target_sum)\n",
    "\n",
    "if result:\n",
    "    print(f\"The three elements with sum {target_sum} are: {result[0]}, {result[1]}, {result[2]}\")\n",
    "else:\n",
    "    print(\"No such three elements found.\")\n",
    "\n",
    "\n",
    "\"\"\" this is mush more efficient we first sort the array then using the the two-pointer technique we achieve our result.the sort results in O(n log n) complexity while the nested loop is O(n^2) therefore whe n combined theresulting time complexity is O(n^2) which is efficinet than the previous algorithm\"\"\""
   ]
  },
  {
   "cell_type": "markdown",
   "id": "6a86d99c-b046-4688-be2b-5ceffc3b3b19",
   "metadata": {},
   "source": [
    "Problem 7 : Given an array of n elements . Find three elements i, j, k in the array such that\n",
    "i * i + j * j = k*k."
   ]
  },
  {
   "cell_type": "code",
   "execution_count": 32,
   "id": "9821b51f-4361-4d0e-ba28-8258705c9d05",
   "metadata": {},
   "outputs": [
    {
     "name": "stdout",
     "output_type": "stream",
     "text": [
      "The Pythagorean triplet is: 3, 4, 5\n"
     ]
    }
   ],
   "source": [
    "def find_pythagorean_triplet(arr):\n",
    "    arr.sort()  # Sort the array\n",
    "\n",
    "    for k in range(len(arr) - 1, 1, -1):\n",
    "        left, right = 0, k - 1\n",
    "\n",
    "        while left < right:\n",
    "            sum_of_squares = arr[left] * arr[left] + arr[right] * arr[right]\n",
    "\n",
    "            if sum_of_squares == arr[k] * arr[k]:\n",
    "                return arr[left], arr[right], arr[k]\n",
    "            elif sum_of_squares < arr[k] * arr[k]:\n",
    "                left += 1\n",
    "            else:\n",
    "                right -= 1\n",
    "\n",
    "    return None\n",
    "\n",
    "\n",
    "array = [3, 1, 4, 6, 5]\n",
    "result = find_pythagorean_triplet(array)\n",
    "\n",
    "if result:\n",
    "    print(f\"The Pythagorean triplet is: {result[0]}, {result[1]}, {result[2]}\")\n",
    "else:\n",
    "    print(\"No Pythagorean triplet found.\")\n"
   ]
  },
  {
   "cell_type": "markdown",
   "id": "ded2698a-c616-4245-903d-f05573782974",
   "metadata": {},
   "source": [
    "again we use the two-pointer approach to solve the problem\n",
    "this results in time complexity O(n^2) and space complexity O(1)"
   ]
  },
  {
   "cell_type": "markdown",
   "id": "3408f233-a355-49d5-842b-fe1214a7623c",
   "metadata": {},
   "source": [
    "Problem 8 : An element is a majority if it appears more than n/2 times. Give an algorithm takes an array of n\n",
    "element as argument and identifies a majority (if it exists)."
   ]
  },
  {
   "cell_type": "code",
   "execution_count": 33,
   "id": "b236054f-262c-40d5-b72c-aa66f24e461c",
   "metadata": {},
   "outputs": [
    {
     "name": "stdout",
     "output_type": "stream",
     "text": [
      "The majority element is: 2\n"
     ]
    }
   ],
   "source": [
    "def find_majority_element(arr):\n",
    "    candidate = None\n",
    "    count = 0\n",
    "\n",
    "    # Phase 1: Find a potential majority candidate\n",
    "    for num in arr:\n",
    "        if count == 0:\n",
    "            candidate = num\n",
    "\n",
    "        count += 1 if num == candidate else -1\n",
    "\n",
    "    # Phase 2: Verify if the candidate is a majority element\n",
    "    count = 0\n",
    "    for num in arr:\n",
    "        if num == candidate:\n",
    "            count += 1\n",
    "\n",
    "    if count > len(arr) // 2:\n",
    "        return candidate\n",
    "    else:\n",
    "        return None\n",
    "\n",
    "\n",
    "array = [2, 2, 1, 1, 1, 2, 2]\n",
    "result = find_majority_element(array)\n",
    "\n",
    "if result is not None:\n",
    "    print(f\"The majority element is: {result}\")\n",
    "else:\n",
    "    print(\"No majority element found.\")\n"
   ]
  },
  {
   "cell_type": "markdown",
   "id": "0435a42d-9103-421f-9f9d-53c7b7ccbc06",
   "metadata": {},
   "source": [
    "time-complexity == O(n) and space complexity is O(1)\n",
    "we implement the Boyer-Moore voting algorithm"
   ]
  },
  {
   "cell_type": "markdown",
   "id": "0e031ad8-594b-4dcc-9ab2-6e1677e74492",
   "metadata": {},
   "source": [
    "Problem 9 : Given n × n matrix, and in each row all 1’s are followed by 0’s. Find the row with the maximum\n",
    "number of 0’s."
   ]
  },
  {
   "cell_type": "code",
   "execution_count": 34,
   "id": "f6f1f8ab-2b5a-45a6-b20e-5c2f3dba41b9",
   "metadata": {},
   "outputs": [
    {
     "name": "stdout",
     "output_type": "stream",
     "text": [
      "The row with the maximum number of 0's is: 2\n"
     ]
    }
   ],
   "source": [
    "def find_row_with_max_zeros(matrix):\n",
    "    n = len(matrix)\n",
    "    max_zeros_row = -1\n",
    "    max_zeros_count = -1\n",
    "\n",
    "    for i in range(n):\n",
    "        # Binary search to find the position of the first occurrence of 0 in the row\n",
    "        left, right = 0, n - 1\n",
    "\n",
    "        while left <= right:\n",
    "            mid = left + (right - left) // 2\n",
    "\n",
    "            if matrix[i][mid] == 0:\n",
    "                right = mid - 1\n",
    "            else:\n",
    "                left = mid + 1\n",
    "\n",
    "        zeros_count = n - left  # Number of zeros in the row\n",
    "\n",
    "        if zeros_count > max_zeros_count:\n",
    "            max_zeros_count = zeros_count\n",
    "            max_zeros_row = i\n",
    "\n",
    "    return max_zeros_row\n",
    "\n",
    "\n",
    "matrix = [\n",
    "    [1, 1, 1, 0],\n",
    "    [1, 1, 0, 0],\n",
    "    [1, 0, 0, 0],\n",
    "    [1, 1, 1, 1]\n",
    "]\n",
    "\n",
    "result = find_row_with_max_zeros(matrix)\n",
    "print(f\"The row with the maximum number of 0's is: {result}\")\n"
   ]
  },
  {
   "cell_type": "markdown",
   "id": "82a9d8fc-0c7a-4853-96d1-2b12bb2afac2",
   "metadata": {},
   "source": [
    "The time complexity of this algorithm is O(n log n), where n is the size of the matrix.\n",
    "\n",
    "\n",
    "\n",
    "\n",
    "\n",
    "\n"
   ]
  },
  {
   "cell_type": "code",
   "execution_count": null,
   "id": "af0f460b-a372-4115-bda5-5c12f0ca2120",
   "metadata": {},
   "outputs": [],
   "source": []
  }
 ],
 "metadata": {
  "kernelspec": {
   "display_name": "Python 3 (ipykernel)",
   "language": "python",
   "name": "python3"
  },
  "language_info": {
   "codemirror_mode": {
    "name": "ipython",
    "version": 3
   },
   "file_extension": ".py",
   "mimetype": "text/x-python",
   "name": "python",
   "nbconvert_exporter": "python",
   "pygments_lexer": "ipython3",
   "version": "3.10.8"
  }
 },
 "nbformat": 4,
 "nbformat_minor": 5
}
