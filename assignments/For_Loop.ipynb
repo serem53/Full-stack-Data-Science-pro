{
 "cells": [
  {
   "cell_type": "markdown",
   "id": "521b86f2-17e8-4dcd-ad16-7844d37fd02c",
   "metadata": {
    "jp-MarkdownHeadingCollapsed": true,
    "tags": []
   },
   "source": [
    "## Basic Level:\n"
   ]
  },
  {
   "cell_type": "markdown",
   "id": "5be93db2-2664-4e8e-bb44-e2ecca7aa7b3",
   "metadata": {},
   "source": [
    "1. Write a Python program to print the numbers from 1 to 10 using a `for` loop."
   ]
  },
  {
   "cell_type": "code",
   "execution_count": 2,
   "id": "37089742-e926-4c70-8863-68f0f5dcf870",
   "metadata": {},
   "outputs": [
    {
     "name": "stdout",
     "output_type": "stream",
     "text": [
      "1\n",
      "2\n",
      "3\n",
      "4\n",
      "5\n",
      "6\n",
      "7\n",
      "8\n",
      "9\n",
      "10\n"
     ]
    }
   ],
   "source": [
    "# using the range() function to generate the numbes\n",
    "for i in range(1,11):\n",
    "    print(i)"
   ]
  },
  {
   "cell_type": "markdown",
   "id": "f770a710-0ac4-43ae-9ab5-597f41045fd4",
   "metadata": {},
   "source": [
    "2. Create a program that calculates the sum of all numbers in a list using a `for` loop."
   ]
  },
  {
   "cell_type": "code",
   "execution_count": 3,
   "id": "827ba68b-02a4-4862-8c29-4260a0b35174",
   "metadata": {},
   "outputs": [
    {
     "name": "stdout",
     "output_type": "stream",
     "text": [
      "75\n"
     ]
    }
   ],
   "source": [
    "# create a list\n",
    "my_list = [5,10,15,20,25]\n",
    "# using the sum() function to calculate sum\n",
    "summation = sum(my_list)\n",
    "print(summation)"
   ]
  },
  {
   "cell_type": "markdown",
   "id": "7e366c50-8c07-4720-bfe7-5f6013f16397",
   "metadata": {},
   "source": [
    "3. Write a program to print the characters of a string in reverse order using a `for` loop."
   ]
  },
  {
   "cell_type": "code",
   "execution_count": 5,
   "id": "e0f1f360-83cc-41a2-abc7-d5524cfbc411",
   "metadata": {},
   "outputs": [
    {
     "name": "stdout",
     "output_type": "stream",
     "text": [
      "reversed string: nohtyp evol i\n"
     ]
    }
   ],
   "source": [
    "# create string\n",
    "my_string = 'i love python'\n",
    "# initilizing the reversed string\n",
    "reversed_string = ''\n",
    "# using for loop to iterate over characters in reverse order\n",
    "# using the reversed() function\n",
    "for char in reversed(my_string):\n",
    "    reversed_string += char\n",
    "\n",
    "print('reversed string:', reversed_string)\n",
    "    "
   ]
  },
  {
   "cell_type": "markdown",
   "id": "a4163eb5-f3fa-4144-9def-ca817b46ce69",
   "metadata": {},
   "source": [
    "4. Develop a program that finds the factorial of a given number using a `for` loop."
   ]
  },
  {
   "cell_type": "code",
   "execution_count": 9,
   "id": "967f9b9c-c628-40d2-8f02-676dd8fc8dbf",
   "metadata": {},
   "outputs": [
    {
     "name": "stdin",
     "output_type": "stream",
     "text": [
      "Enter a number to find its factorial 2\n"
     ]
    },
    {
     "name": "stdout",
     "output_type": "stream",
     "text": [
      "the factorail if 2 is 2\n"
     ]
    }
   ],
   "source": [
    "# input a number  from the user\n",
    "num = int(input('Enter a number to find its factorial'))\n",
    "# initialize varaible to store the factorial\n",
    "factorial = 1\n",
    "# check if input is negative or 0\n",
    "if num < 0:\n",
    "    print('Factorial is not defined for negative numbers.')\n",
    "elif num == 0:\n",
    "    print('factorial of 0 is 1')\n",
    "else:\n",
    "    #calculate factorial using for loop\n",
    "    for i in range(1,num+1):\n",
    "        factorial *= i\n",
    "        \n",
    "print(f'the factorail if {num} is {factorial}')\n",
    "    \n"
   ]
  },
  {
   "cell_type": "markdown",
   "id": "418719b2-15d3-46ed-b580-83808ee7dda3",
   "metadata": {},
   "source": [
    "5. Create a program to print the multiplication table of a given number using a `for` loop."
   ]
  },
  {
   "cell_type": "code",
   "execution_count": 11,
   "id": "96ee8544-8dc8-4dc7-a102-6f5a70c9bb81",
   "metadata": {},
   "outputs": [
    {
     "name": "stdin",
     "output_type": "stream",
     "text": [
      "Enter a number:  8\n",
      "Enter th range of the table 5\n"
     ]
    },
    {
     "name": "stdout",
     "output_type": "stream",
     "text": [
      "Multiplication table for 8:\n",
      "8 x 1 = 8\n",
      "8 x 2 = 16\n",
      "8 x 3 = 24\n",
      "8 x 4 = 32\n",
      "8 x 5 = 40\n"
     ]
    }
   ],
   "source": [
    "# Input a number from the user for which you want to print the multiplication table\n",
    "num = int(input(\"Enter a number: \"))\n",
    "\n",
    "# Define the range for the multiplication table (e.g., up to 10)\n",
    "table_range = int(input('Enter th range of the table'))\n",
    "\n",
    "# Print the multiplication table using a for loop\n",
    "print(f\"Multiplication table for {num}:\")\n",
    "\n",
    "for i in range(1, table_range + 1):\n",
    "    result = num * i\n",
    "    print(f\"{num} x {i} = {result}\")\n"
   ]
  },
  {
   "cell_type": "markdown",
   "id": "b471ff35-164b-4b00-a923-92ba2a1edf7b",
   "metadata": {},
   "source": [
    "6. Write a program that counts the number of even and odd numbers in a list using a `for` loop."
   ]
  },
  {
   "cell_type": "code",
   "execution_count": 14,
   "id": "6fb15778-7788-4be5-a898-854ab9896a61",
   "metadata": {},
   "outputs": [
    {
     "name": "stdout",
     "output_type": "stream",
     "text": [
      "the number of even numbers are 5 and the number of odd numbers are 5\n"
     ]
    }
   ],
   "source": [
    "# create a list\n",
    "my_list = [1,2,3,4,5,6,7,8,9,10]\n",
    "# initailize variable to count even nums\n",
    "even_nums_count = 0\n",
    "# to count odd nums\n",
    "odd_nums_count = 0\n",
    "for i in my_list:\n",
    "    if i%2 == 0:\n",
    "        even_nums_count += 1\n",
    "    else:\n",
    "        odd_nums_count += 1\n",
    "print(f'the number of even numbers are {even_nums_count} and the number of odd numbers are {odd_nums_count}')\n",
    "        \n",
    "        "
   ]
  },
  {
   "cell_type": "markdown",
   "id": "50252c6e-0c79-40dd-9f40-db27e101f278",
   "metadata": {},
   "source": [
    "7. Develop a program that prints the squares of numbers from 1 to 5 using a `for` loop."
   ]
  },
  {
   "cell_type": "code",
   "execution_count": 15,
   "id": "48ebe854-254b-498b-97c8-4432b9a37496",
   "metadata": {},
   "outputs": [
    {
     "name": "stdout",
     "output_type": "stream",
     "text": [
      "1\n",
      "4\n",
      "9\n",
      "16\n",
      "25\n"
     ]
    }
   ],
   "source": [
    "# using the for loop and the range() to genrate numbers\n",
    "for i in range(1,6):\n",
    "    print(i**2)"
   ]
  },
  {
   "cell_type": "markdown",
   "id": "53f1e511-d0c8-4ce1-8539-0e2365325284",
   "metadata": {},
   "source": [
    "8. Create a program to find the length of a string without using the `len()` function."
   ]
  },
  {
   "cell_type": "code",
   "execution_count": 16,
   "id": "ab28342a-e1a8-4320-b657-4a0f1101674e",
   "metadata": {},
   "outputs": [
    {
     "name": "stdout",
     "output_type": "stream",
     "text": [
      "Length of the string: 11\n"
     ]
    }
   ],
   "source": [
    "# Input a string from the user\n",
    "input_string = 'hello world'\n",
    "\n",
    "# Initialize a counter to keep track of the length\n",
    "length = 0\n",
    "\n",
    "# Iterating through the characters of the string\n",
    "for char in input_string:\n",
    "    length += 1\n",
    "\n",
    "print(\"Length of the string:\", length)\n"
   ]
  },
  {
   "cell_type": "markdown",
   "id": "ca9719fc-93ea-456d-a7b2-87a37bba11b7",
   "metadata": {},
   "source": [
    "9. Write a program that calculates the average of a list of numbers using a `for` loop."
   ]
  },
  {
   "cell_type": "code",
   "execution_count": 17,
   "id": "4af61297-e491-48c0-add9-bb32dfda4ee0",
   "metadata": {},
   "outputs": [
    {
     "name": "stdout",
     "output_type": "stream",
     "text": [
      "[2.0, 2.5, 3.5, 4.0, 4.5, 5.0]\n"
     ]
    }
   ],
   "source": [
    "my_list = [4,5,7,8,9,10]\n",
    "# using list comprehension\n",
    "avg_list = [i/2 for i in my_list]\n",
    "print(avg_list)"
   ]
  },
  {
   "cell_type": "markdown",
   "id": "0ded2d0d-0fff-4382-a241-c84760deba61",
   "metadata": {},
   "source": [
    "10. Develop a program that prints the first `n` Fibonacci numbers using a `for` loop."
   ]
  },
  {
   "cell_type": "code",
   "execution_count": 20,
   "id": "47f0f2cd-2a79-452e-9fb1-06b03a442aba",
   "metadata": {},
   "outputs": [
    {
     "name": "stdin",
     "output_type": "stream",
     "text": [
      "Enter the number of fibonacci numbers to be printed 10\n"
     ]
    },
    {
     "name": "stdout",
     "output_type": "stream",
     "text": [
      "[0, 1, 1, 2, 3, 5, 8, 13, 21, 34, 55]\n"
     ]
    }
   ],
   "source": [
    "n = int(input('Enter the number of fibonacci numbers to be printed'))\n",
    "sum = 0\n",
    "a = 0\n",
    "b = 1\n",
    "# initailzie a list to store the fibonacci numberws\n",
    "fib_nums = [a,b]\n",
    "for i in range(len(fib_nums),n+1):\n",
    "    sum = a+b\n",
    "    fib_nums.append(sum)\n",
    "    a = b\n",
    "    b = sum\n",
    "print(fib_nums)"
   ]
  },
  {
   "cell_type": "markdown",
   "id": "4ca2919d-a0cd-4570-af0b-6f8d09aed62c",
   "metadata": {
    "jp-MarkdownHeadingCollapsed": true,
    "tags": []
   },
   "source": [
    "## Intermediate Level:"
   ]
  },
  {
   "cell_type": "markdown",
   "id": "8405f215-3b8c-4acc-a2f9-f6b720356fcc",
   "metadata": {},
   "source": [
    "11. Write a program to check if a given list contains any duplicates using a `for` loop."
   ]
  },
  {
   "cell_type": "code",
   "execution_count": 23,
   "id": "6949c738-fc6c-4d8f-9068-5fa1bd25c4e1",
   "metadata": {},
   "outputs": [
    {
     "name": "stdout",
     "output_type": "stream",
     "text": [
      "this list contain duplicates:  [2, 5]\n"
     ]
    }
   ],
   "source": [
    "my_list = [1,2,2,3,4,5,5]\n",
    "# intialize 2 variables one to store duplicates and another for checking if element is duplicate\n",
    "duplicates = []\n",
    "seen = []\n",
    "for i in my_list:\n",
    "    if i not in seen:\n",
    "        seen.append(i)\n",
    "    else:\n",
    "        duplicates.append(i)\n",
    "if not duplicates:\n",
    "    print('this list does not contain duplicates')\n",
    "else:\n",
    "    print(f'this list contain duplicates: ',duplicates)"
   ]
  },
  {
   "cell_type": "markdown",
   "id": "661e5831-714e-45c3-97fc-fb4862d21ceb",
   "metadata": {},
   "source": [
    "12. Create a program that prints the prime numbers in a given range using a `for` loop."
   ]
  },
  {
   "cell_type": "code",
   "execution_count": 4,
   "id": "bd052f2e-5850-49cf-84b5-06016267134c",
   "metadata": {},
   "outputs": [
    {
     "name": "stdin",
     "output_type": "stream",
     "text": [
      "Enter the starting number:  1\n",
      "Enter the ending number:  15\n"
     ]
    },
    {
     "name": "stdout",
     "output_type": "stream",
     "text": [
      "Prime numbers in the range 1 to 15 are:\n",
      "2\n",
      "3\n",
      "5\n",
      "7\n",
      "11\n",
      "13\n"
     ]
    }
   ],
   "source": [
    "def is_prime(number):\n",
    "    if number <= 1:\n",
    "        # Numbers less than or equal to 1 are not prime\n",
    "        return False\n",
    "    if number <= 3:\n",
    "        # 2 and 3 are prime\n",
    "        return True\n",
    "    if number % 2 == 0 or number % 3 == 0:\n",
    "        # Even numbers (except 2) and multiples of 3 are not prime\n",
    "        return False\n",
    "      # Check for prime using 6k +/- 1 rule for factors\n",
    "    i = 5\n",
    "    while i * i <= number:\n",
    "        if number % i == 0 or number % (i + 2) == 0:\n",
    "            return False\n",
    "        i += 6\n",
    "    return True\n",
    "\n",
    "# Input the range from the user\n",
    "start = int(input(\"Enter the starting number: \"))\n",
    "end = int(input(\"Enter the ending number: \"))\n",
    "\n",
    "print(f\"Prime numbers in the range {start} to {end} are:\")\n",
    "\n",
    "# Iterate through the range of numbers\n",
    "for num in range(start, end + 1):\n",
    "    if is_prime(num):\n",
    "        print(num)\n"
   ]
  },
  {
   "cell_type": "markdown",
   "id": "04410eee-2781-45c2-94b2-80d88ab35fbd",
   "metadata": {},
   "source": [
    "13. Develop a program that counts the number of vowels in a string using a `for` loop."
   ]
  },
  {
   "cell_type": "code",
   "execution_count": 6,
   "id": "5ca82097-475d-42fe-a155-37cfe35c0f0c",
   "metadata": {},
   "outputs": [
    {
     "name": "stdout",
     "output_type": "stream",
     "text": [
      "the number of vowels in the string is 4\n"
     ]
    }
   ],
   "source": [
    "my_string = 'i love python'\n",
    "# initialize variable to hold vowels\n",
    "vowels = ['a','e','i','o','u']\n",
    "# make my string case insensitive\n",
    "my_string = my_string.lower()\n",
    "\n",
    "# using for loop to check for vowels\n",
    "#initialize count\n",
    "count = 0\n",
    "for i in my_string:\n",
    "    if i in vowels:\n",
    "        count+=1\n",
    "\n",
    "# display number of vowels\n",
    "print(f'the number of vowels in the string is {count}')\n",
    "        "
   ]
  },
  {
   "cell_type": "markdown",
   "id": "aea3ac79-f18c-4ad4-b9ba-1ac3910dbb1b",
   "metadata": {},
   "source": [
    "14. Write a program to find the maximum element in a 2D list using a nested `for` loop."
   ]
  },
  {
   "cell_type": "code",
   "execution_count": 12,
   "id": "6228a4ee-8ffd-4be4-acc9-2781e0fc3180",
   "metadata": {},
   "outputs": [
    {
     "name": "stdout",
     "output_type": "stream",
     "text": [
      "The maximum element in the 2D list is: 8\n"
     ]
    }
   ],
   "source": [
    "# Define a 2D list (matrix)\n",
    "matrix = [\n",
    "   [1,2,3],\n",
    "   [3,4,5],\n",
    "   [6,7,8],  \n",
    "]\n",
    "\n",
    "# Initialize a variable to store the maximum element\n",
    "max_element = 0\n",
    "# Nested loop to iterate through the 2D list\n",
    "for row in matrix:\n",
    "    for element in row:\n",
    "        if element > max_element:\n",
    "            max_element = element\n",
    "# Print the maximum element\n",
    "print(\"The maximum element in the 2D list is:\", max_element)"
   ]
  },
  {
   "cell_type": "markdown",
   "id": "a0e3d3af-839d-4756-b370-9c9c13fecc1a",
   "metadata": {},
   "source": [
    "15. Create a program that removes all occurrences of a specific element from a list using a `for` loop."
   ]
  },
  {
   "cell_type": "code",
   "execution_count": 13,
   "id": "08d914e5-cc9b-47a9-b487-508aa9b95efd",
   "metadata": {},
   "outputs": [
    {
     "name": "stdout",
     "output_type": "stream",
     "text": [
      "[1, 2, 3, 6, 7, 8, 5]\n"
     ]
    }
   ],
   "source": [
    "my_list = [1,2,3,5,6,5,7,5,5,8,5]\n",
    "element_to_remove = 5\n",
    "for i in my_list:\n",
    "    if i == element_to_remove:\n",
    "        my_list.remove(i)\n",
    "print(my_list)"
   ]
  },
  {
   "cell_type": "markdown",
   "id": "0ed6266f-776b-4971-b2e8-a97c70fef440",
   "metadata": {},
   "source": [
    "16. Develop a program that generates a multiplication table for numbers from 1 to 5 using a nested `for` loop."
   ]
  },
  {
   "cell_type": "code",
   "execution_count": 17,
   "id": "f08ccd85-cd2e-4794-8d27-9c486e0b6c33",
   "metadata": {},
   "outputs": [
    {
     "name": "stdout",
     "output_type": "stream",
     "text": [
      "Multiplication table for 1:\n",
      "1*1 = 1\n",
      "1*2 = 2\n",
      "1*3 = 3\n",
      "1*4 = 4\n",
      "1*5 = 5\n",
      "1*6 = 6\n",
      "1*7 = 7\n",
      "1*8 = 8\n",
      "1*9 = 9\n",
      "\n",
      "Multiplication table for 2:\n",
      "2*1 = 2\n",
      "2*2 = 4\n",
      "2*3 = 6\n",
      "2*4 = 8\n",
      "2*5 = 10\n",
      "2*6 = 12\n",
      "2*7 = 14\n",
      "2*8 = 16\n",
      "2*9 = 18\n",
      "\n",
      "Multiplication table for 3:\n",
      "3*1 = 3\n",
      "3*2 = 6\n",
      "3*3 = 9\n",
      "3*4 = 12\n",
      "3*5 = 15\n",
      "3*6 = 18\n",
      "3*7 = 21\n",
      "3*8 = 24\n",
      "3*9 = 27\n",
      "\n",
      "Multiplication table for 4:\n",
      "4*1 = 4\n",
      "4*2 = 8\n",
      "4*3 = 12\n",
      "4*4 = 16\n",
      "4*5 = 20\n",
      "4*6 = 24\n",
      "4*7 = 28\n",
      "4*8 = 32\n",
      "4*9 = 36\n",
      "\n",
      "Multiplication table for 5:\n",
      "5*1 = 5\n",
      "5*2 = 10\n",
      "5*3 = 15\n",
      "5*4 = 20\n",
      "5*5 = 25\n",
      "5*6 = 30\n",
      "5*7 = 35\n",
      "5*8 = 40\n",
      "5*9 = 45\n",
      "\n"
     ]
    }
   ],
   "source": [
    "# Nested loop to generate the multiplication table\n",
    "n = 5\n",
    "for i in range(1,n+1):\n",
    "    print(f'Multiplication table for {i}:')\n",
    "    for j in range(1,10):\n",
    "        result = i*j\n",
    "        print(f'{i}*{j} = {result}')\n",
    "    print()  # Add a blank line after each table for clarity"
   ]
  },
  {
   "cell_type": "markdown",
   "id": "a389cdad-f860-4804-965f-eb37960f25b9",
   "metadata": {},
   "source": [
    "17. Write a program that converts a list of Fahrenheit temperatures to Celsius using a `for` loop."
   ]
  },
  {
   "cell_type": "code",
   "execution_count": 19,
   "id": "4997370a-8f31-465c-8cc6-0492fbe3667f",
   "metadata": {},
   "outputs": [
    {
     "name": "stdout",
     "output_type": "stream",
     "text": [
      "[25.0, 20.56, 26.67, 23.89, 23.33]\n"
     ]
    }
   ],
   "source": [
    "# defining a function to convert fahrenheit to celsius\n",
    "def converter(fah):\n",
    "    celsius = (fah -32)/1.8\n",
    "    return celsius\n",
    "\n",
    "# creating a fahrenheit list\n",
    "fah_list = [77,69,80,75,74]\n",
    "# intilaize an empty list to store celsius\n",
    "cel_list = []\n",
    "\n",
    "for i in fah_list:\n",
    "    cel_list.append(round(converter(i),2))\n",
    "\n",
    "#print the celsius list\n",
    "print(cel_list)"
   ]
  },
  {
   "cell_type": "markdown",
   "id": "3ae6e328-45e7-4d49-a1cb-e1afa59ae8d3",
   "metadata": {},
   "source": [
    "18. Create a program to print the common elements from two lists using a `for` loop."
   ]
  },
  {
   "cell_type": "code",
   "execution_count": 20,
   "id": "c5a71a3b-50e7-4ec8-b41b-7d5a584b05b7",
   "metadata": {},
   "outputs": [
    {
     "name": "stdout",
     "output_type": "stream",
     "text": [
      "the common elements from list1 and list2 are\n",
      "1\n",
      "2\n",
      "4\n"
     ]
    }
   ],
   "source": [
    "# create list1 and 2\n",
    "list1 = [1,2,3,4,5]\n",
    "list2 = [1,6,7,4,2]\n",
    "print('the common elements from list1 and list2 are')\n",
    "for i in list1:\n",
    "    if i in list2:\n",
    "        print(i)"
   ]
  },
  {
   "cell_type": "markdown",
   "id": "764e5cf7-0f50-4c60-bdeb-41465608f07d",
   "metadata": {},
   "source": [
    "19. Develop a program that prints the pattern of right-angled triangles using a `for` loop. Use ‘*’ to draw the\n",
    "pattern"
   ]
  },
  {
   "cell_type": "code",
   "execution_count": 26,
   "id": "39a6a7d0-9ddd-45b5-aaf6-5a67d9bdba6b",
   "metadata": {},
   "outputs": [
    {
     "name": "stdin",
     "output_type": "stream",
     "text": [
      "Enter the number of rows:  5\n"
     ]
    },
    {
     "name": "stdout",
     "output_type": "stream",
     "text": [
      "*\n",
      "**\n",
      "***\n",
      "****\n",
      "*****\n"
     ]
    }
   ],
   "source": [
    "# Input the number of rows for the pattern\n",
    "n = int(input(\"Enter the number of rows: \"))\n",
    "\n",
    "# Outer loop for the number of rows\n",
    "for i in range(1,n+1):\n",
    "       # Inner loop for printing '*' characters\n",
    "        for j in range(i):\n",
    "            print('*', end='')\n",
    "         # Move to the next line after each row is printed\n",
    "        print()\n",
    "    "
   ]
  },
  {
   "cell_type": "markdown",
   "id": "3a70b878-17d7-431f-9865-979170384c74",
   "metadata": {},
   "source": [
    "20. Write a program to find the greatest common divisor (GCD) of two numbers using a `for` loop."
   ]
  },
  {
   "cell_type": "code",
   "execution_count": 27,
   "id": "7c3682e5-ad6a-45ba-ab6b-a912a1c47de2",
   "metadata": {},
   "outputs": [
    {
     "name": "stdin",
     "output_type": "stream",
     "text": [
      "Enter the first number:  12\n",
      "Enter the second number:  24\n"
     ]
    },
    {
     "name": "stdout",
     "output_type": "stream",
     "text": [
      "The GCD of 12 and 24 is 12\n"
     ]
    }
   ],
   "source": [
    "# Input two numbers from the user\n",
    "num1 = int(input(\"Enter the first number: \"))\n",
    "num2 = int(input(\"Enter the second number: \"))\n",
    "\n",
    "# Determine the smaller number\n",
    "if num1 < num2:\n",
    "    smaller = num1\n",
    "else:\n",
    "    smaller = num2\n",
    "\n",
    "# Initialize the GCD to 1 (minimum possible GCD)\n",
    "gcd = 1\n",
    "\n",
    "# Use a for loop to find the GCD\n",
    "for i in range(1, smaller + 1):\n",
    "    if num1 % i == 0 and num2 % i == 0:\n",
    "        gcd = i\n",
    "\n",
    "# Print the GCD\n",
    "print(f\"The GCD of {num1} and {num2} is {gcd}\")\n"
   ]
  },
  {
   "cell_type": "markdown",
   "id": "ca93f2f1-d1ac-407d-85a6-58cf732fa23d",
   "metadata": {
    "jp-MarkdownHeadingCollapsed": true,
    "tags": []
   },
   "source": [
    "## Advanced Level:"
   ]
  },
  {
   "cell_type": "markdown",
   "id": "dedd7d49-6d28-4441-bfb2-eaffd561396f",
   "metadata": {},
   "source": [
    "21. Create a program that calculates the sum of the digits of numbers in a list using a list comprehension."
   ]
  },
  {
   "cell_type": "code",
   "execution_count": 2,
   "id": "1133ed47-6d53-4b0b-9b30-b6cac2ae4086",
   "metadata": {},
   "outputs": [
    {
     "name": "stdout",
     "output_type": "stream",
     "text": [
      "Sum of digits of 123 is 6\n",
      "Sum of digits of 45 is 9\n",
      "Sum of digits of 6789 is 30\n",
      "Sum of digits of 9876 is 30\n"
     ]
    }
   ],
   "source": [
    "# Function to calculate the sum of digits of a number\n",
    "def sum_of_digits(number):\n",
    "    return sum(int(digit) for digit in str(number))\n",
    "\n",
    "# List of numbers\n",
    "numbers = [123, 45, 6789, 9876]\n",
    "\n",
    "# Calculate the sum of digits using list comprehension\n",
    "sum_of_digit_sums = [sum_of_digits(number) for number in numbers]\n",
    "\n",
    "# Print the results\n",
    "for i, number in enumerate(numbers):\n",
    "    print(f\"Sum of digits of {number} is {sum_of_digit_sums[i]}\")\n"
   ]
  },
  {
   "cell_type": "markdown",
   "id": "61b9cf1c-ef23-4941-923c-01d29c988f25",
   "metadata": {},
   "source": [
    "22. Write a program to find the prime factors of a given number using a `for` loop and list comprehension."
   ]
  },
  {
   "cell_type": "code",
   "execution_count": 2,
   "id": "9c18e305-f937-4c22-af01-49b531482218",
   "metadata": {},
   "outputs": [
    {
     "name": "stdin",
     "output_type": "stream",
     "text": [
      "Enter a number:  7\n"
     ]
    },
    {
     "name": "stdout",
     "output_type": "stream",
     "text": [
      "Prime factors of 7 are: [7]\n"
     ]
    }
   ],
   "source": [
    "def is_prime(n):\n",
    "    if n <= 1:\n",
    "        return False\n",
    "    if n <= 3:\n",
    "        return True\n",
    "    if n % 2 == 0 or n % 3 == 0:\n",
    "        return False\n",
    "    i = 5\n",
    "    while i * i <= n:\n",
    "        if n % i == 0 or n % (i + 2) == 0:\n",
    "            return False\n",
    "        i += 6\n",
    "    return True\n",
    "\n",
    "def prime_factors(n):\n",
    "    factors = [x for x in range(2, n + 1) if n % x == 0 and is_prime(x)]\n",
    "    return factors\n",
    "\n",
    "num = int(input(\"Enter a number: \"))\n",
    "\n",
    "if num <= 1:\n",
    "    print(\"Prime factors cannot be found for numbers less than or equal to 1.\")\n",
    "else:\n",
    "    factors = prime_factors(num)\n",
    "    print(f\"Prime factors of {num} are: {factors}\")\n"
   ]
  },
  {
   "cell_type": "markdown",
   "id": "baa48c14-6681-4eea-a248-aecf93aeaafc",
   "metadata": {},
   "source": [
    "23. Develop a program that extracts unique elements from a list and stores them in a new list using a list\n",
    "comprehension."
   ]
  },
  {
   "cell_type": "code",
   "execution_count": 7,
   "id": "98c914a8-9544-4f2b-82ad-08c823085cd9",
   "metadata": {},
   "outputs": [
    {
     "name": "stdout",
     "output_type": "stream",
     "text": [
      "Original List: [1, 2, 2, 3, 4, 4, 5, 6, 6]\n",
      "Unique List: [1, 2, 3, 4, 5, 6]\n"
     ]
    }
   ],
   "source": [
    "my_list = [1,2,2,3,4,4,5,6,6]\n",
    "# Using a list comprehension to create a new list with unique elements\n",
    "unique_list = [x for i, x in enumerate(my_list) if x not in my_list[:i]]\n",
    "# Print the unique elements\n",
    "print(\"Original List:\", my_list)\n",
    "print(\"Unique List:\", unique_list)"
   ]
  },
  {
   "cell_type": "markdown",
   "id": "631b7901-7a96-4265-8b68-62e21786f3bf",
   "metadata": {},
   "source": [
    "24. Create a program that generates a list of all palindromic numbers up to a specified limit using a list\n",
    "comprehension."
   ]
  },
  {
   "cell_type": "code",
   "execution_count": 10,
   "id": "97e8b30d-92aa-4766-9291-8fd121246ede",
   "metadata": {},
   "outputs": [
    {
     "name": "stdin",
     "output_type": "stream",
     "text": [
      "Enter the limit:  22\n"
     ]
    },
    {
     "name": "stdout",
     "output_type": "stream",
     "text": [
      "Palindromic numbers up to 22 are: [0, 1, 2, 3, 4, 5, 6, 7, 8, 9, 11, 22]\n"
     ]
    }
   ],
   "source": [
    "def is_palindrome(num):\n",
    "    # Convert the number to a string and check if it reads the same forwards and backwards\n",
    "    num_str = str(num)\n",
    "    return num_str == num_str[::-1]\n",
    "\n",
    "def generate_palindromic_numbers(limit):\n",
    "    # Use a list comprehension to generate a list of palindromic numbers up to the specified limit\n",
    "    palindromic_numbers = [num for num in range(limit + 1) if is_palindrome(num)]\n",
    "    return palindromic_numbers\n",
    "\n",
    "# Input the limit\n",
    "limit = int(input(\"Enter the limit: \"))\n",
    "\n",
    "if limit < 0:\n",
    "    print(\"Please enter a non-negative limit.\")\n",
    "else:\n",
    "    palindromic_numbers = generate_palindromic_numbers(limit)\n",
    "    print(\"Palindromic numbers up to\", limit, \"are:\", palindromic_numbers)\n"
   ]
  },
  {
   "cell_type": "markdown",
   "id": "761cc27a-bcf1-4cfb-8ed1-d2f0979b6ca8",
   "metadata": {},
   "source": [
    "25. Write a program to flatten a nested list using list comprehension."
   ]
  },
  {
   "cell_type": "code",
   "execution_count": 20,
   "id": "6121a969-dd88-4781-b032-7dcfdc703f7b",
   "metadata": {},
   "outputs": [
    {
     "name": "stdout",
     "output_type": "stream",
     "text": [
      "[1, 2, 3, 4, 5, 6, 7, 8]\n"
     ]
    }
   ],
   "source": [
    "nested_list = [1, [2, 3, 4], 5, [6, 7, 8]]\n",
    "\n",
    "# Use list comprehension to flatten the nested list, including non-list characters\n",
    "flattened_list = [i if not isinstance(i, list) else i for sublist in nested_list for i in (sublist if isinstance(sublist, list) else [sublist])]\n",
    "\n",
    "print(flattened_list)\n"
   ]
  },
  {
   "cell_type": "markdown",
   "id": "bbb27f59-32ac-4b97-b5a3-4951c9006c16",
   "metadata": {},
   "source": [
    "26. Develop a program that computes the sum of even and odd numbers in a list separately using list\n",
    "comprehension."
   ]
  },
  {
   "cell_type": "code",
   "execution_count": 23,
   "id": "44563f8c-02ff-4a76-935e-d71d066ba77c",
   "metadata": {},
   "outputs": [
    {
     "name": "stdout",
     "output_type": "stream",
     "text": [
      "the sum of even numbers is 20 while the sum of odd numbers is 25\n"
     ]
    }
   ],
   "source": [
    "my_list = [1,2,3,4,5,6,7,8,9]\n",
    "# Calculate the sum of even and odd numbers separately using list comprehensions\n",
    "even_sum = sum([i for i in my_list if i%2 == 0])\n",
    "odd_sum = sum([i for i in my_list if i%2 != 0])\n",
    "print(f'the sum of even numbers is {even_sum} while the sum of odd numbers is {odd_sum}')"
   ]
  },
  {
   "cell_type": "markdown",
   "id": "c1f70f9c-cb83-404a-9fd2-4bbcf23b2ad1",
   "metadata": {},
   "source": [
    "27. Create a program that generates a list of squares of odd numbers between 1 and 10 using list\n",
    "comprehension."
   ]
  },
  {
   "cell_type": "code",
   "execution_count": 26,
   "id": "df7d99e5-f936-4f88-bd55-b794d4b7f276",
   "metadata": {},
   "outputs": [
    {
     "name": "stdout",
     "output_type": "stream",
     "text": [
      "the squares of odd numbers between 1 and 10 is:  [1, 9, 25, 49, 81]\n"
     ]
    }
   ],
   "source": [
    "my_list = [x for x in range(1,11)]\n",
    "odd_squares = [i**2 for i in my_list if i%2 != 0]\n",
    "\n",
    "print(f'the squares of odd numbers between 1 and 10 is: ',odd_squares)\n"
   ]
  },
  {
   "cell_type": "markdown",
   "id": "fa95c5fa-3800-4976-ac1d-947d12a3910b",
   "metadata": {},
   "source": [
    "28. Write a program that combines two lists into a dictionary using list comprehension."
   ]
  },
  {
   "cell_type": "code",
   "execution_count": 31,
   "id": "80d0b7b5-3f5e-4f44-9420-8862d8f4ae3b",
   "metadata": {},
   "outputs": [
    {
     "name": "stdout",
     "output_type": "stream",
     "text": [
      "{1: 10, 2: 20, 3: 30, 4: 40, 5: 50, 6: 60, 7: 70, 8: 80, 9: 90}\n"
     ]
    }
   ],
   "source": [
    "list1 = [1,2,3,4,5,6,7,8,9]\n",
    "list2 = [10,20,30,40,50,60,70,80,90]\n",
    "\n",
    "# Combine the two lists into a dictionary using list comprehension\n",
    "my_dict = {list1[i]: list2[i] for i in range(len(list1))}\n",
    "print(my_dict)"
   ]
  },
  {
   "cell_type": "markdown",
   "id": "76979690-55ea-48f4-a87e-bd7eb50525cc",
   "metadata": {},
   "source": [
    "29. Develop a program that extracts the vowels from a string and stores them in a list using list comprehension."
   ]
  },
  {
   "cell_type": "code",
   "execution_count": 32,
   "id": "cdef698c-2f0f-48e5-aa90-de6f9bace817",
   "metadata": {},
   "outputs": [
    {
     "name": "stdout",
     "output_type": "stream",
     "text": [
      "['e', 'o', 'o', 'i', 'o', 'e', 'o']\n"
     ]
    }
   ],
   "source": [
    "my_string = 'hello world i love python'\n",
    "vowels = ['a','e','i','o','u']\n",
    "vowel_list = [i for i in my_string if i in vowels]\n",
    "print(vowel_list)"
   ]
  },
  {
   "cell_type": "markdown",
   "id": "be62812c-4c61-463f-a166-4d5db8a838fe",
   "metadata": {},
   "source": [
    "30. Create a program that removes all non-numeric characters from a list of strings using list comprehension."
   ]
  },
  {
   "cell_type": "code",
   "execution_count": 34,
   "id": "6001f139-2691-4bc0-9952-b77a1fd3ab26",
   "metadata": {},
   "outputs": [
    {
     "name": "stdout",
     "output_type": "stream",
     "text": [
      "Original List: ['abc123', '456def', '789ghi', 'jklmno']\n",
      "Numeric Strings: ['123', '456', '789', '']\n"
     ]
    }
   ],
   "source": [
    "string_list = [\"abc123\", \"456def\", \"789ghi\", \"jklmno\"]\n",
    "\n",
    "# Use list comprehension to remove non-numeric characters from each string\n",
    "numeric_strings = [''.join(filter(str.isdigit, s)) for s in string_list]\n",
    "\n",
    "# Print the resulting list of numeric strings\n",
    "print(\"Original List:\", string_list)\n",
    "print(\"Numeric Strings:\", numeric_strings)\n"
   ]
  },
  {
   "cell_type": "markdown",
   "id": "c93ff346-9bef-48eb-b033-0ed621eaa7b3",
   "metadata": {
    "jp-MarkdownHeadingCollapsed": true,
    "tags": []
   },
   "source": [
    "## Challenge Level:"
   ]
  },
  {
   "cell_type": "markdown",
   "id": "bf808a40-3e6f-4d56-859f-083d8fa09c4f",
   "metadata": {},
   "source": [
    "31. Write a program to generate a list of prime numbers using the Sieve of Eratosthenes algorithm and list\n",
    "comprehension."
   ]
  },
  {
   "cell_type": "code",
   "execution_count": 2,
   "id": "3b2c9e55-2f77-4544-b922-5d0368ade682",
   "metadata": {},
   "outputs": [
    {
     "name": "stdin",
     "output_type": "stream",
     "text": [
      "Enter an upper limit to find prime numbers up to:  30\n"
     ]
    },
    {
     "name": "stdout",
     "output_type": "stream",
     "text": [
      "Prime numbers up to 30 are: [2, 3, 5, 7, 11, 13, 17, 19, 23, 29]\n"
     ]
    }
   ],
   "source": [
    "def sieve_eratosthenes(n):\n",
    "    # Create a boolean list 'is_prime' and initialize all entries as True\n",
    "    is_prime = [True] * (n + 1)\n",
    "    is_prime[0] = is_prime[1] = False  # 0 and 1 are not prime\n",
    "\n",
    "    # Mark the multiples of each prime number as False\n",
    "    for p in range(2, int(n**0.5) + 1):\n",
    "        if is_prime[p]:\n",
    "            for i in range(p * p, n + 1, p):\n",
    "                is_prime[i] = False\n",
    "\n",
    "    # Use list comprehension to generate a list of prime numbers\n",
    "    prime_numbers = [i for i in range(2, n + 1) if is_prime[i]]\n",
    "    \n",
    "    return prime_numbers\n",
    "\n",
    "# Input the upper limit\n",
    "n = int(input(\"Enter an upper limit to find prime numbers up to: \"))\n",
    "\n",
    "if limit < 2:\n",
    "    print(\"There are no prime numbers for the specified limit.\")\n",
    "else:\n",
    "    primes = sieve_eratosthenes(n)\n",
    "    print(f\"Prime numbers up to {n} are:\", primes)\n"
   ]
  },
  {
   "cell_type": "markdown",
   "id": "1330527c-0c44-42bf-8341-07b9ae5b5192",
   "metadata": {},
   "source": [
    "32. Create a program that generates a list of all Pythagorean triplets up to a specified limit using list\n",
    "comprehension."
   ]
  },
  {
   "cell_type": "code",
   "execution_count": 4,
   "id": "720011bd-5303-4b30-a052-d2e3741b5522",
   "metadata": {},
   "outputs": [
    {
     "name": "stdin",
     "output_type": "stream",
     "text": [
      "Enter the limit for Pythagorean triplets:  20\n"
     ]
    },
    {
     "name": "stdout",
     "output_type": "stream",
     "text": [
      "Pythagorean triplets up to 20 are:\n",
      "(6, 8, 10)\n",
      "(3, 4, 5)\n",
      "(8, 15, 17)\n",
      "(9, 12, 15)\n",
      "(5, 12, 13)\n",
      "(12, 16, 20)\n"
     ]
    }
   ],
   "source": [
    "limit = int(input(\"Enter the limit for Pythagorean triplets: \"))\n",
    "\n",
    "# Generate a list of Pythagorean triplets using list comprehension\n",
    "pythagorean_triplets = [\n",
    "    (a, b, c)\n",
    "    for a in range(1, limit + 1)\n",
    "    for b in range(a, limit + 1)\n",
    "    for c in range(b, limit + 1)\n",
    "    if a ** 2 + b ** 2 == c ** 2\n",
    "]\n",
    "\n",
    "# Filter out duplicates and permutations\n",
    "pythagorean_triplets = list(set(pythagorean_triplets))\n",
    "\n",
    "# Print the list of Pythagorean triplets\n",
    "print(\"Pythagorean triplets up to\", limit, \"are:\")\n",
    "for triplet in pythagorean_triplets:\n",
    "    print(triplet)\n"
   ]
  },
  {
   "cell_type": "markdown",
   "id": "4de48e47-fd06-4e55-93c6-4efb5ee8ad74",
   "metadata": {},
   "source": [
    "33. Develop a program that generates a list of all possible combinations of two lists using list comprehension."
   ]
  },
  {
   "cell_type": "code",
   "execution_count": 9,
   "id": "cf7e0854-04bb-422b-b2d9-c7bd78ac9afb",
   "metadata": {},
   "outputs": [
    {
     "name": "stdout",
     "output_type": "stream",
     "text": [
      "all possible combinations of list1 and list2 are:\n",
      "(1, 'a')\n",
      "(1, 'b')\n",
      "(1, 'c')\n",
      "(2, 'a')\n",
      "(2, 'b')\n",
      "(2, 'c')\n",
      "(3, 'a')\n",
      "(3, 'b')\n",
      "(3, 'c')\n"
     ]
    }
   ],
   "source": [
    "list1 = [1,2,3]\n",
    "list2 = ['a','b','c']\n",
    "\n",
    "# Generate all possible combinations of elements from the two lists\n",
    "combinations = [(x, y) for x in list1 for y in list2]\n",
    "# Print the list of combinations\n",
    "print('all possible combinations of list1 and list2 are:')\n",
    "for combination in combinations:\n",
    "    print(combination)"
   ]
  },
  {
   "cell_type": "markdown",
   "id": "47d5d227-be57-42fb-af22-b612cc0e3838",
   "metadata": {},
   "source": [
    "34. Write a program that calculates the mean, median, and mode of a list of numbers using list\n",
    "comprehension."
   ]
  },
  {
   "cell_type": "code",
   "execution_count": 17,
   "id": "9e6fa0ac-a613-4616-91af-4df51546b1b0",
   "metadata": {},
   "outputs": [
    {
     "name": "stdout",
     "output_type": "stream",
     "text": [
      "Original List: [5, 10, 15, 20, 25, 30]\n",
      "Mean: 17.5\n",
      "Median: 17.5\n",
      "Mode: [5, 10, 15, 20, 25, 30]\n"
     ]
    }
   ],
   "source": [
    "my_list = [5,10,15,20,25,30]\n",
    "# calculate mean using list comprehensions\n",
    "mean = sum([i for i in my_list])/len(my_list)\n",
    "# Calculate the median\n",
    "# sort the numbers first\n",
    "sorted_numbers = sorted(my_list)\n",
    "n = len(sorted_numbers)\n",
    "median = (sorted_numbers[n // 2] + sorted_numbers[(n - 1) // 2]) / 2 if n % 2 == 0 else sorted_numbers[n // 2]\n",
    "# Calculate the mode using list comprehension\n",
    "num_counts = {i: my_list.count(i) for i in my_list}\n",
    "max_count = max(num_counts.values())\n",
    "mode = [key for key, count in num_counts.items() if count == max_count]\n",
    "\n",
    "# Print the results\n",
    "print(\"Original List:\", my_list)\n",
    "print(\"Mean:\", mean)\n",
    "print(\"Median:\", median)\n",
    "print(\"Mode:\", mode)"
   ]
  },
  {
   "cell_type": "markdown",
   "id": "ed70ea8c-a0e8-4f04-bea2-2e963d447c54",
   "metadata": {},
   "source": [
    "35. Create a program that generates Pascal's triangle up to a specified number of rows using list\n",
    "comprehension."
   ]
  },
  {
   "cell_type": "code",
   "execution_count": 20,
   "id": "c23dd3ff-c87b-448c-bbc3-0823d0f36aec",
   "metadata": {},
   "outputs": [
    {
     "name": "stdin",
     "output_type": "stream",
     "text": [
      "Enter the number of rows for Pascal's triangle:  5\n"
     ]
    },
    {
     "name": "stdout",
     "output_type": "stream",
     "text": [
      "Pascal's Triangle:\n",
      "       1       \n",
      "      1 1      \n",
      "     1 2 1     \n",
      "    1 3 3 1    \n",
      "   1 4 6 4 1   \n"
     ]
    }
   ],
   "source": [
    "def generate_pascals_triangle(rows):\n",
    "    if rows <= 0:\n",
    "        return []\n",
    "\n",
    "    pascals_triangle = [[1]]\n",
    "\n",
    "    for i in range(1, rows):\n",
    "        # Use list comprehension to generate the next row\n",
    "        next_row = [1] + [pascals_triangle[i-1][j-1] + pascals_triangle[i-1][j] for j in range(1, i)] + [1]\n",
    "        pascals_triangle.append(next_row)\n",
    "\n",
    "    return pascals_triangle\n",
    "\n",
    "# Input the number of rows for Pascal's triangle\n",
    "num_rows = int(input(\"Enter the number of rows for Pascal's triangle: \"))\n",
    "\n",
    "if num_rows <= 0:\n",
    "    print(\"Please enter a positive number of rows.\")\n",
    "else:\n",
    "    pascals_triangle = generate_pascals_triangle(num_rows)\n",
    "\n",
    "    # Print Pascal's triangle\n",
    "    print(\"Pascal's Triangle:\")\n",
    "    for row in pascals_triangle:\n",
    "        print(\" \".join(map(str, row)).center(num_rows * 3))\n"
   ]
  },
  {
   "cell_type": "markdown",
   "id": "18da2801-f090-4109-b697-f08a03027b66",
   "metadata": {},
   "source": [
    "36. Develop a program that calculates the sum of the digits of a factorial of numbers from 1 to 5 using list\n",
    "comprehension."
   ]
  },
  {
   "cell_type": "code",
   "execution_count": 21,
   "id": "35e8aad5-095d-4d6d-939d-8fd2c95fd35a",
   "metadata": {},
   "outputs": [
    {
     "name": "stdout",
     "output_type": "stream",
     "text": [
      "Sum of digits of 1!: 1\n",
      "Sum of digits of 2!: 2\n",
      "Sum of digits of 3!: 6\n",
      "Sum of digits of 4!: 6\n",
      "Sum of digits of 5!: 3\n"
     ]
    }
   ],
   "source": [
    "# Function to calculate the factorial of a number\n",
    "def factorial(n):\n",
    "    if n == 0:\n",
    "        return 1\n",
    "    else:\n",
    "        return n * factorial(n - 1)\n",
    "\n",
    "# Calculate the sum of the digits of the factorial for numbers 1 to 5\n",
    "factorial_sums = [sum(int(digit) for digit in str(factorial(i))) for i in range(1, 6)]\n",
    "\n",
    "# Print the results\n",
    "for i, factorial_sum in enumerate(factorial_sums, start=1):\n",
    "    print(f\"Sum of digits of {i}!:\", factorial_sum)\n"
   ]
  },
  {
   "cell_type": "markdown",
   "id": "f9d4fe8f-f76d-424f-b517-b62603a94cfa",
   "metadata": {},
   "source": [
    "37. Write a program that finds the longest word in a sentence using list comprehension."
   ]
  },
  {
   "cell_type": "code",
   "execution_count": 25,
   "id": "9e371d35-07d7-462e-99ae-bbc9446482f2",
   "metadata": {},
   "outputs": [
    {
     "name": "stdout",
     "output_type": "stream",
     "text": [
      "The longest word in the sentence is: coding\n"
     ]
    }
   ],
   "source": [
    "sentence = 'i love coding in python'\n",
    "# Split the sentence into words using list comprehension\n",
    "s1 = sentence.split(' ')\n",
    "# Find the longest word using list comprehension\n",
    "longest_word = max(s1, key=len)\n",
    "# Print the longest word\n",
    "print(\"The longest word in the sentence is:\", longest_word)"
   ]
  },
  {
   "cell_type": "markdown",
   "id": "a21c1e42-971b-4429-b7ca-902bdc8d18f8",
   "metadata": {},
   "source": [
    "38. Create a program that filters a list of strings to include only those with more than three vowels using list\n",
    "comprehension."
   ]
  },
  {
   "cell_type": "code",
   "execution_count": 29,
   "id": "ee48e1d8-a21b-4728-b609-a019be9bb10a",
   "metadata": {},
   "outputs": [
    {
     "name": "stdout",
     "output_type": "stream",
     "text": [
      "Strings with more than three vowels: ['audio']\n"
     ]
    }
   ],
   "source": [
    "# Function to count vowels in a string\n",
    "def count_vowels(string):\n",
    "    vowels = \"AEIOUaeiou\"\n",
    "    return sum(1 for char in string if char in vowels)\n",
    "\n",
    "# List of strings\n",
    "string_list = [\"Hello\", \"Python\", \"programming\", \"is\", \"fun\", \"audio\", \"Example\"]\n",
    "\n",
    "# Filter strings with more than three vowels using list comprehension\n",
    "filtered_strings = [string for string in string_list if count_vowels(string) > 3]\n",
    "\n",
    "# Print the filtered strings\n",
    "print(\"Strings with more than three vowels:\", filtered_strings)\n"
   ]
  },
  {
   "cell_type": "markdown",
   "id": "8784543e-6097-4751-bd5c-7c9e220129fc",
   "metadata": {},
   "source": [
    "39. Develop a program that calculates the sum of the digits of numbers from 1 to 1000 using list\n",
    "comprehension."
   ]
  },
  {
   "cell_type": "code",
   "execution_count": 33,
   "id": "39793606-e89e-476d-b667-a09accf7b49c",
   "metadata": {},
   "outputs": [
    {
     "name": "stdout",
     "output_type": "stream",
     "text": [
      "The total sum of digits from 1 to 1000 is: 13501\n"
     ]
    }
   ],
   "source": [
    "def sum_digits(i):\n",
    "    return sum(int(digit) for digit in str(i))\n",
    "\n",
    "# Calculate the sum of digits for numbers from 1 to 1000 using list comprehension\n",
    "digits_sum = [sum_digits(i) for i in range(1,1001)]\n",
    "# Calculate the total sum of digit sums\n",
    "total_sum = sum(digits_sum)\n",
    "\n",
    "# Print the total sum\n",
    "print(\"The total sum of digits from 1 to 1000 is:\", total_sum)"
   ]
  },
  {
   "cell_type": "markdown",
   "id": "c28c529f-f963-4994-bf51-5d0b6f644c84",
   "metadata": {},
   "source": [
    "40. Write a program that generates a list of prime palindromic numbers using list comprehension."
   ]
  },
  {
   "cell_type": "code",
   "execution_count": 34,
   "id": "1e36a110-e535-4fa1-9ae4-5203ec2efe0e",
   "metadata": {},
   "outputs": [
    {
     "name": "stdout",
     "output_type": "stream",
     "text": [
      "Prime Palindromic Numbers: [2, 3, 5, 7, 11, 101, 131, 151, 181, 191, 313, 353, 373, 383, 727, 757, 787, 797, 919, 929]\n"
     ]
    }
   ],
   "source": [
    "# Function to check if a number is prime\n",
    "def is_prime(number):\n",
    "    if number <= 1:\n",
    "        return False\n",
    "    if number == 2:\n",
    "        return True\n",
    "    if number % 2 == 0:\n",
    "        return False\n",
    "    for divisor in range(3, int(number**0.5) + 1, 2):\n",
    "        if number % divisor == 0:\n",
    "            return False\n",
    "    return True\n",
    "\n",
    "# Generate a list of prime palindromic numbers using list comprehension\n",
    "prime_palindromes = [num for num in range(1, 1000) if is_prime(num) and str(num) == str(num)[::-1]]\n",
    "\n",
    "# Print the list of prime palindromic numbers\n",
    "print(\"Prime Palindromic Numbers:\", prime_palindromes)\n"
   ]
  },
  {
   "cell_type": "code",
   "execution_count": null,
   "id": "80a3b39f-f290-4c3c-9d12-33859578e560",
   "metadata": {},
   "outputs": [],
   "source": []
  }
 ],
 "metadata": {
  "kernelspec": {
   "display_name": "Python 3 (ipykernel)",
   "language": "python",
   "name": "python3"
  },
  "language_info": {
   "codemirror_mode": {
    "name": "ipython",
    "version": 3
   },
   "file_extension": ".py",
   "mimetype": "text/x-python",
   "name": "python",
   "nbconvert_exporter": "python",
   "pygments_lexer": "ipython3",
   "version": "3.10.8"
  }
 },
 "nbformat": 4,
 "nbformat_minor": 5
}
