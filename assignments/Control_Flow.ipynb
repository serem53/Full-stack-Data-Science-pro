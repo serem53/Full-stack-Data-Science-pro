{
 "cells": [
  {
   "cell_type": "markdown",
   "id": "e3835675-f051-4ea4-ab2c-491f644b6fe9",
   "metadata": {
    "jp-MarkdownHeadingCollapsed": true,
    "tags": []
   },
   "source": [
    "## Basic If-Else Statements:"
   ]
  },
  {
   "cell_type": "markdown",
   "id": "47414f1f-c617-4ab0-9436-618165975464",
   "metadata": {},
   "source": [
    "1. Write a Python program to check if a given number is positive or negative."
   ]
  },
  {
   "cell_type": "code",
   "execution_count": 22,
   "id": "59461bbc-cd11-4d2f-a6a8-8a4897264e1e",
   "metadata": {},
   "outputs": [
    {
     "name": "stdout",
     "output_type": "stream",
     "text": [
      "0 is 0\n"
     ]
    }
   ],
   "source": [
    "def check_sign(n):\n",
    "    # using elif statement\n",
    "    if n <  0:\n",
    "        print(f'{n} is a negative number')\n",
    "    elif n > 0:\n",
    "        print(f'{n} is a positive number')\n",
    "    else:\n",
    "        print(f'{n} is 0')\n",
    "        \n",
    "        \n",
    "n = 0\n",
    "check_sign(n)"
   ]
  },
  {
   "cell_type": "markdown",
   "id": "8753bc28-b7c4-458c-a923-a5d9fc18a93e",
   "metadata": {},
   "source": [
    "2. Create a program that determines if a person is eligible to vote based on their age."
   ]
  },
  {
   "cell_type": "code",
   "execution_count": 4,
   "id": "20be4373-84a5-4c0e-86d6-db87c445b701",
   "metadata": {},
   "outputs": [
    {
     "name": "stdin",
     "output_type": "stream",
     "text": [
      "Enter your age:  22\n"
     ]
    },
    {
     "name": "stdout",
     "output_type": "stream",
     "text": [
      "you are eligible to vote\n"
     ]
    }
   ],
   "source": [
    "def check_age(age):\n",
    "    # using if else statement\n",
    "    if age < 18:\n",
    "        print('you are not eligible to vote')\n",
    "    else:\n",
    "        print('you are eligible to vote')\n",
    "\n",
    "        \n",
    "age = int(input('Enter your age: '))\n",
    "check_age(age)"
   ]
  },
  {
   "cell_type": "markdown",
   "id": "bea2459e-eeb7-4214-af6a-5dcbd8e998ad",
   "metadata": {},
   "source": [
    "3. Develop a program to find the maximum of two numbers using if-else statements."
   ]
  },
  {
   "cell_type": "code",
   "execution_count": 5,
   "id": "e7c12259-cf48-42c5-bc7a-eab2ed9f7e0c",
   "metadata": {},
   "outputs": [
    {
     "name": "stdout",
     "output_type": "stream",
     "text": [
      "num2 is the bigger number\n"
     ]
    }
   ],
   "source": [
    "num1 = 24\n",
    "num2 = 77\n",
    "\n",
    "if num1 > num2:\n",
    "    print('num1 is the bigger number')\n",
    "else:\n",
    "    print('num2 is the bigger number')"
   ]
  },
  {
   "cell_type": "markdown",
   "id": "d5d72780-ebc6-477b-9eaf-274e1ceee364",
   "metadata": {},
   "source": [
    "4. Write a Python script to classify a given year as a leap year or not."
   ]
  },
  {
   "cell_type": "code",
   "execution_count": 7,
   "id": "84b1f5f8-966a-486d-ac87-eb85cbc5f016",
   "metadata": {},
   "outputs": [
    {
     "name": "stdin",
     "output_type": "stream",
     "text": [
      "Enter a year:  2024\n"
     ]
    },
    {
     "name": "stdout",
     "output_type": "stream",
     "text": [
      "2024 is a leap year.\n"
     ]
    }
   ],
   "source": [
    "def is_leap_year(year):\n",
    "    if (year%4 == 0 and year%100 != 0) or (year%400 == 0):\n",
    "        return True\n",
    "    else:\n",
    "        return False\n",
    "\n",
    "    \n",
    "\n",
    "# Input year from the user\n",
    "year = int(input(\"Enter a year: \"))\n",
    "\n",
    "if is_leap_year(year):\n",
    "    print(f\"{year} is a leap year.\")\n",
    "else:\n",
    "    print(f\"{year} is not a leap year.\")"
   ]
  },
  {
   "cell_type": "markdown",
   "id": "69b62cf6-c803-4b94-8c09-f10139026294",
   "metadata": {},
   "source": [
    "5. Create a program that checks whether a character is a vowel or a consonant."
   ]
  },
  {
   "cell_type": "code",
   "execution_count": 9,
   "id": "e388d1c4-54a6-4659-9c15-5af76cc42b34",
   "metadata": {},
   "outputs": [
    {
     "name": "stdin",
     "output_type": "stream",
     "text": [
      "Enter a character:  i\n"
     ]
    },
    {
     "name": "stdout",
     "output_type": "stream",
     "text": [
      "i is a vowel.\n"
     ]
    }
   ],
   "source": [
    "def is_vowel(char):\n",
    "    char = char.lower()\n",
    "    vowels = 'a,e,i,o,u'\n",
    "    return char in vowels\n",
    "\n",
    "# Input a character from the user\n",
    "char = input(\"Enter a character: \")\n",
    "\n",
    "# Check if the input character is a single alphabet character\n",
    "if len(char) == 1 and char.isalpha():\n",
    "    if is_vowel(char):\n",
    "        print(f\"{char} is a vowel.\")\n",
    "    else:\n",
    "        print(f\"{char} is a consonant.\")\n",
    "else:\n",
    "    print(\"Please enter a single alphabet character.\")\n"
   ]
  },
  {
   "cell_type": "markdown",
   "id": "e3e0f63b-cf4d-4da2-9c5a-ad7820955afa",
   "metadata": {},
   "source": [
    "6. Implement a program to determine whether a given number is even or odd."
   ]
  },
  {
   "cell_type": "code",
   "execution_count": 11,
   "id": "4c62bf97-d440-4e37-a4bc-306a11fb0310",
   "metadata": {},
   "outputs": [
    {
     "name": "stdin",
     "output_type": "stream",
     "text": [
      "Enter a number:  77\n"
     ]
    },
    {
     "name": "stdout",
     "output_type": "stream",
     "text": [
      "77 is odd\n"
     ]
    }
   ],
   "source": [
    "def check_num(num):\n",
    "    if num%2 == 0:\n",
    "        print(f'{num} is even')\n",
    "    else:\n",
    "        print(f'{num} is odd')\n",
    "        \n",
    "num = int(input('Enter a number: '))\n",
    "check_num(num)"
   ]
  },
  {
   "cell_type": "markdown",
   "id": "91208931-df6a-4461-bf8b-74632e2a1914",
   "metadata": {},
   "source": [
    "7. Write a Python function to calculate the absolute value of a number without using the `abs()` function."
   ]
  },
  {
   "cell_type": "code",
   "execution_count": 13,
   "id": "15df8764-f772-475f-aaae-5ef1110f89c2",
   "metadata": {},
   "outputs": [
    {
     "name": "stdin",
     "output_type": "stream",
     "text": [
      "Enter a number:  -6\n"
     ]
    },
    {
     "name": "stdout",
     "output_type": "stream",
     "text": [
      "The absolute value of -6.0 is 6.0.\n"
     ]
    }
   ],
   "source": [
    "# defining the function\n",
    "def absolute_value(num):\n",
    "    if num < 0:\n",
    "        return -num\n",
    "    else:\n",
    "        return num\n",
    "\n",
    "\n",
    "number = float(input(\"Enter a number: \"))\n",
    "result = absolute_value(number)\n",
    "print(f\"The absolute value of {number} is {result}.\")\n"
   ]
  },
  {
   "cell_type": "markdown",
   "id": "06c889c9-d005-49bc-b84c-fcffc0823b3d",
   "metadata": {},
   "source": [
    "8. Develop a program that determines the largest of three given numbers using if-else statements."
   ]
  },
  {
   "cell_type": "code",
   "execution_count": 15,
   "id": "dc13ecfd-ad7a-4513-95cb-eebcd40231e9",
   "metadata": {},
   "outputs": [
    {
     "name": "stdout",
     "output_type": "stream",
     "text": [
      "the largest number is 7\n"
     ]
    }
   ],
   "source": [
    "num1 = 5\n",
    "num2 = 2\n",
    "num3 = 7\n",
    "\n",
    "if num1 > num2 and num1>num3:\n",
    "    largest = num1\n",
    "elif num2 > num1 and num2 > num3:\n",
    "    largest = num2\n",
    "else:\n",
    "    largest = num3\n",
    "    \n",
    "print(f'the largest number is {largest}')"
   ]
  },
  {
   "cell_type": "markdown",
   "id": "18add482-674f-4132-a2b7-e37ce32d1639",
   "metadata": {},
   "source": [
    "9. Create a program that checks if a given string is a palindrome."
   ]
  },
  {
   "cell_type": "code",
   "execution_count": 18,
   "id": "157cb023-dc21-40f6-b708-2834392b1973",
   "metadata": {},
   "outputs": [
    {
     "name": "stdout",
     "output_type": "stream",
     "text": [
      "this string is not a palindrome\n"
     ]
    }
   ],
   "source": [
    "my_string = 'racecar'\n",
    "\n",
    "# my_string[::-1 to reverse the string\n",
    "if my_string == my_string[::-1]:\n",
    "    print('this string is a palindrome')\n",
    "else:\n",
    "    print('this string is not a palindrome')"
   ]
  },
  {
   "cell_type": "markdown",
   "id": "de6cbc14-009e-4910-873d-d9e14f4a0bb6",
   "metadata": {},
   "source": [
    "10. Write a Python program to calculate the grade based on a student's score."
   ]
  },
  {
   "cell_type": "code",
   "execution_count": 20,
   "id": "d9afc6c0-3c59-4cf3-b88e-d618407e766c",
   "metadata": {},
   "outputs": [
    {
     "name": "stdin",
     "output_type": "stream",
     "text": [
      "Enter your grade:  45\n"
     ]
    },
    {
     "name": "stdout",
     "output_type": "stream",
     "text": [
      "you scored 45 and your grade is D\n"
     ]
    }
   ],
   "source": [
    "marks = int(input('Enter your grade: '))\n",
    "\n",
    "if marks >= 90:\n",
    "    grade = 'A'\n",
    "elif marks >= 70 and marks < 90:\n",
    "    grade = 'B'\n",
    "elif marks >= 50 and marks < 70:\n",
    "    grade = 'C'\n",
    "elif marks >= 30 and marks < 50:\n",
    "    grade = 'D'\n",
    "else:\n",
    "    grade = 'E'\n",
    "print(f'you scored {marks} and your grade is {grade}')"
   ]
  },
  {
   "cell_type": "markdown",
   "id": "0e60ea1e-4f71-404b-a7ee-e663abda8f5c",
   "metadata": {
    "jp-MarkdownHeadingCollapsed": true,
    "tags": []
   },
   "source": [
    "## Nested If-Else Statements:"
   ]
  },
  {
   "cell_type": "markdown",
   "id": "142e4a30-1c3f-4661-b737-e5b4570982ba",
   "metadata": {},
   "source": [
    "11. Write a program to find the largest among three numbers using nested if-else statements."
   ]
  },
  {
   "cell_type": "code",
   "execution_count": 1,
   "id": "c7a8654d-3b98-44cd-a2ac-ddb3d2ccc3be",
   "metadata": {},
   "outputs": [
    {
     "name": "stdout",
     "output_type": "stream",
     "text": [
      "the largest number is:  12\n"
     ]
    }
   ],
   "source": [
    "num1 = 12\n",
    "num2 = 7\n",
    "num3 = 5\n",
    "\n",
    "if num1 > num2 and num1 > num3:\n",
    "    largest = num1\n",
    "if num2 > num3 and num2 >num1:\n",
    "    largest = num2\n",
    "if num3 > num1 and num3 > num2:\n",
    "    largest = num3\n",
    "    \n",
    "print('the largest number is: ',largest)"
   ]
  },
  {
   "cell_type": "code",
   "execution_count": 2,
   "id": "0182e77e-ff4c-4db8-8fae-3a39f020da40",
   "metadata": {},
   "outputs": [
    {
     "name": "stdout",
     "output_type": "stream",
     "text": [
      "The largest number among 12 , 5 and 7 is 12\n"
     ]
    }
   ],
   "source": [
    "num1 = 12\n",
    "num2 = 5\n",
    "num3 = 7\n",
    "\n",
    "# Check for the largest number using nested if-else statements\n",
    "if num1 >= num2:\n",
    "    if num1 >= num3:\n",
    "        largest = num1\n",
    "    else:\n",
    "        largest = num3\n",
    "else:\n",
    "    if num2 >= num3:\n",
    "        largest = num2\n",
    "    else:\n",
    "        largest = num3\n",
    "\n",
    "# Display the largest number\n",
    "print(\"The largest number among\", num1, \",\", num2, \"and\", num3, \"is\", largest)\n"
   ]
  },
  {
   "cell_type": "markdown",
   "id": "1926bc9f-d457-4d6b-8953-93d3c08efdf7",
   "metadata": {},
   "source": [
    "12. Implement a program to determine if a triangle is equilateral, isosceles, or scalene."
   ]
  },
  {
   "cell_type": "code",
   "execution_count": 1,
   "id": "a003ec43-08cc-4020-9656-ef546535ec90",
   "metadata": {},
   "outputs": [
    {
     "name": "stdin",
     "output_type": "stream",
     "text": [
      "Enter the length of the first side:  6\n",
      "Enter the length of the second side:  6\n",
      "Enter the length of the third side:  6\n"
     ]
    },
    {
     "name": "stdout",
     "output_type": "stream",
     "text": [
      "It is an equilateral triangle.\n"
     ]
    }
   ],
   "source": [
    "###### Input side lengths of the triangle\n",
    "side1 = float(input(\"Enter the length of the first side: \"))\n",
    "side2 = float(input(\"Enter the length of the second side: \"))\n",
    "side3 = float(input(\"Enter the length of the third side: \"))\n",
    "\n",
    "# Check if it's a valid triangle\n",
    "if side1 + side2 > side3 and side1 + side3 > side2 and side2 + side3 > side1:\n",
    "    # Check for the type of triangle\n",
    "    if side1 == side2 == side3:\n",
    "        print(\"It is an equilateral triangle.\")\n",
    "    elif side1 == side2 or side1 == side3 or side2 == side3:\n",
    "        print(\"It is an isosceles triangle.\")\n",
    "    else:\n",
    "        print(\"It is a scalene triangle.\")\n",
    "else:\n",
    "    print(\"It is not a valid triangle.\")\n"
   ]
  },
  {
   "cell_type": "markdown",
   "id": "da52a7a9-ad68-4069-b7aa-a903b3fd0b9c",
   "metadata": {},
   "source": [
    "13. Develop a program that checks if a year is a leap year and also if it is a century year."
   ]
  },
  {
   "cell_type": "code",
   "execution_count": 2,
   "id": "3ced3394-1135-40e4-9c0b-6eb4ff1b7bea",
   "metadata": {},
   "outputs": [
    {
     "name": "stdin",
     "output_type": "stream",
     "text": [
      "Enter a year:  2000\n"
     ]
    },
    {
     "name": "stdout",
     "output_type": "stream",
     "text": [
      "2000 is a leap year\n",
      "2000 is a century\n"
     ]
    }
   ],
   "source": [
    "year = int(input('Enter a year: '))\n",
    "# Check if it's a leap year\n",
    "if (year%4 == 0 and year%100 !=0) or (year%400 == 0):\n",
    "    is_leap_year = True\n",
    "else:\n",
    "    is_leap_year = False\n",
    "# Check if it's a century year\n",
    "is_century = year%100 == 0\n",
    "# Output the results\n",
    "if is_leap_year:\n",
    "    print(year, 'is a leap year')\n",
    "else:\n",
    "    print(year, 'is not a leap year')\n",
    "\n",
    "if is_century:\n",
    "    print(year, 'is a century')\n",
    "else:\n",
    "    print(year, 'is not a century')"
   ]
  },
  {
   "cell_type": "markdown",
   "id": "2b9b46e9-869f-46b0-a4e7-49ca6b345576",
   "metadata": {},
   "source": [
    "14. Write a Python script to determine if a number is positive, negative, or zero."
   ]
  },
  {
   "cell_type": "code",
   "execution_count": 5,
   "id": "18797334-6160-4426-bee1-5b3ae51757f6",
   "metadata": {},
   "outputs": [
    {
     "name": "stdout",
     "output_type": "stream",
     "text": [
      "-1 is a negative number\n"
     ]
    }
   ],
   "source": [
    "num = -1\n",
    "if num < 0:\n",
    "    print(num, 'is a negative number')\n",
    "elif num == 0:\n",
    "    print(num, 'is a zero')\n",
    "else:\n",
    "    print(num, 'is a positive number')"
   ]
  },
  {
   "cell_type": "markdown",
   "id": "de60bb30-3f3d-4d3c-b721-5bb662fe9554",
   "metadata": {},
   "source": [
    "15. Create a program to check if a person is a teenager (between 13 and 19 years old)."
   ]
  },
  {
   "cell_type": "code",
   "execution_count": 6,
   "id": "9ae34256-4985-42d9-8ea1-bb68f580d6a0",
   "metadata": {},
   "outputs": [
    {
     "name": "stdin",
     "output_type": "stream",
     "text": [
      "Enter your age:  17\n"
     ]
    },
    {
     "name": "stdout",
     "output_type": "stream",
     "text": [
      "this person is a teenager\n"
     ]
    }
   ],
   "source": [
    "age = int(input('Enter your age: '))\n",
    "\n",
    "if age >= 13 and age <= 19:\n",
    "    print('this person is a teenager')\n",
    "else:\n",
    "    print('this person is not a teenager')"
   ]
  },
  {
   "cell_type": "markdown",
   "id": "e1b3b381-3549-4603-9780-f364c9efdca9",
   "metadata": {},
   "source": [
    "16. Develop a program that determines the type of angle based on its measure (acute, obtuse, or right)."
   ]
  },
  {
   "cell_type": "code",
   "execution_count": 7,
   "id": "bddf2070-a49b-4ec8-9d35-c029aba66374",
   "metadata": {},
   "outputs": [
    {
     "name": "stdin",
     "output_type": "stream",
     "text": [
      "Enter the angle measure in degrees:  90\n"
     ]
    },
    {
     "name": "stdout",
     "output_type": "stream",
     "text": [
      "The angle with a measure of 90 degrees is right.\n"
     ]
    }
   ],
   "source": [
    "angle_measure = int(input(\"Enter the angle measure in degrees: \"))\n",
    "\n",
    "# Check the type of angle\n",
    "if angle_measure > 0 and angle_measure < 90:\n",
    "    angle_type = \"acute\"\n",
    "elif angle_measure == 90:\n",
    "    angle_type = \"right\"\n",
    "elif angle_measure > 90 and angle_measure < 180:\n",
    "    angle_type = \"obtuse\"\n",
    "else:\n",
    "    angle_type = \"invalid\"\n",
    "\n",
    "\n",
    "if angle_type == \"invalid\":\n",
    "    print(\"Invalid angle measure. Please enter a valid angle measure between 0 and 180 degrees.\")\n",
    "else:\n",
    "    print(f\"The angle with a measure of {angle_measure} degrees is {angle_type}.\")\n"
   ]
  },
  {
   "cell_type": "markdown",
   "id": "2845c3a1-2732-4fab-baf0-eb40c439c2af",
   "metadata": {},
   "source": [
    "17. Write a Python program to calculate the roots of a quadratic equation."
   ]
  },
  {
   "cell_type": "code",
   "execution_count": 8,
   "id": "aa49a045-01f1-4458-aca8-47bc0be5dcc1",
   "metadata": {},
   "outputs": [
    {
     "name": "stdin",
     "output_type": "stream",
     "text": [
      "Enter the coefficient a:  2\n",
      "Enter the coefficient b:  4\n",
      "Enter the coefficient c:  6\n"
     ]
    },
    {
     "name": "stdout",
     "output_type": "stream",
     "text": [
      "Root 1: -1.0 + 1.4142135623730951i\n",
      "Root 2: -1.0 - 1.4142135623730951i\n"
     ]
    }
   ],
   "source": [
    "import math\n",
    "\n",
    "# Input coefficients a, b, and c from the user\n",
    "a = float(input(\"Enter the coefficient a: \"))\n",
    "b = float(input(\"Enter the coefficient b: \"))\n",
    "c = float(input(\"Enter the coefficient c: \"))\n",
    "\n",
    "# Calculate the discriminant (D)\n",
    "D = b**2 - 4*a*c\n",
    "\n",
    "# Check the value of the discriminant\n",
    "if D > 0:\n",
    "    # Two distinct real roots\n",
    "    root1 = (-b + math.sqrt(D)) / (2*a)\n",
    "    root2 = (-b - math.sqrt(D)) / (2*a)\n",
    "    print(f\"Root 1: {root1}\")\n",
    "    print(f\"Root 2: {root2}\")\n",
    "elif D == 0:\n",
    "    # One real root (repeated)\n",
    "    root = -b / (2*a)\n",
    "    print(f\"Root: {root}\")\n",
    "else:\n",
    "    # Complex roots\n",
    "    real_part = -b / (2*a)\n",
    "    imaginary_part = math.sqrt(abs(D)) / (2*a)\n",
    "    print(f\"Root 1: {real_part} + {imaginary_part}i\")\n",
    "    print(f\"Root 2: {real_part} - {imaginary_part}i\")\n"
   ]
  },
  {
   "cell_type": "markdown",
   "id": "3b0d1916-80a5-4f0e-8f11-80112c43ed47",
   "metadata": {},
   "source": [
    "18. Implement a program to determine the day of the week based on a user-provided number (1 for Monday, 2\n",
    "for Tuesday, etc.)."
   ]
  },
  {
   "cell_type": "code",
   "execution_count": 13,
   "id": "4a23b7e5-e6e4-4f0d-9503-aa400fb550de",
   "metadata": {},
   "outputs": [
    {
     "name": "stdin",
     "output_type": "stream",
     "text": [
      "Enter a number (1 for Monday, 2 for Tuesday, etc.):  7\n"
     ]
    },
    {
     "name": "stdout",
     "output_type": "stream",
     "text": [
      "The day corresponding to 7 is Sunday.\n"
     ]
    }
   ],
   "source": [
    "day_number = int(input(\"Enter a number (1 for Monday, 2 for Tuesday, etc.): \"))\n",
    "\n",
    "# Define a list of days of the week\n",
    "days_of_week = [\"Monday\", \"Tuesday\", \"Wednesday\", \"Thursday\", \"Friday\", \"Saturday\", \"Sunday\"]\n",
    "\n",
    "# Check if the input number is within a valid range\n",
    "if day_number >= 1 and day_number <= 7:\n",
    "    day_name = days_of_week[day_number - 1]\n",
    "    print(f\"The day corresponding to {day_number} is {day_name}.\")\n",
    "else:\n",
    "    print(\"Invalid input. Please enter a number between 1 and 7.\")\n"
   ]
  },
  {
   "cell_type": "markdown",
   "id": "96500f16-dc2d-4a72-b4ee-0653bbb8509e",
   "metadata": {},
   "source": [
    "19. Create a program that determines if a year is a leap year and also if it is evenly divisible by 400."
   ]
  },
  {
   "cell_type": "code",
   "execution_count": 14,
   "id": "1a034f55-60e8-4d70-977c-292c6396aa60",
   "metadata": {},
   "outputs": [
    {
     "name": "stdin",
     "output_type": "stream",
     "text": [
      "Enter a year:  2000\n"
     ]
    },
    {
     "name": "stdout",
     "output_type": "stream",
     "text": [
      "2000 is a leap year.\n"
     ]
    }
   ],
   "source": [
    "year = int(input(\"Enter a year: \"))\n",
    "\n",
    "# Check if it's a leap year\n",
    "is_leap_year = (year % 4 == 0) and (year % 100 != 0 or year % 400 == 0)\n",
    "\n",
    "# Output the result\n",
    "if is_leap_year:\n",
    "    print(year, \"is a leap year.\")\n",
    "else:\n",
    "    print(year, \"is not a leap year.\")\n"
   ]
  },
  {
   "cell_type": "markdown",
   "id": "6cb937c3-7c81-485c-a647-ba010c403e86",
   "metadata": {},
   "source": [
    "20. Develop a program that checks if a given number is prime or not using nested if-else statements."
   ]
  },
  {
   "cell_type": "code",
   "execution_count": 15,
   "id": "4526e36c-e73e-4bb5-a234-d75a712859d1",
   "metadata": {},
   "outputs": [
    {
     "name": "stdin",
     "output_type": "stream",
     "text": [
      "Enter a number:  4\n"
     ]
    },
    {
     "name": "stdout",
     "output_type": "stream",
     "text": [
      "4 is not a prime number.\n"
     ]
    }
   ],
   "source": [
    "num = int(input(\"Enter a number: \"))\n",
    "\n",
    "# Check if the number is greater than 1\n",
    "if num > 1:\n",
    "    # Check for factors\n",
    "    for i in range(2, int(num/2) + 1):\n",
    "        if (num % i) == 0:\n",
    "            print(num, \"is not a prime number.\")\n",
    "            break\n",
    "    else:\n",
    "        print(num, \"is a prime number.\")\n",
    "else:\n",
    "    print(num, \"is not a prime number.\")\n"
   ]
  },
  {
   "cell_type": "markdown",
   "id": "4a717a11-1249-48f3-99e0-daa00096d09c",
   "metadata": {
    "jp-MarkdownHeadingCollapsed": true,
    "tags": []
   },
   "source": [
    "## Elif Statements:"
   ]
  },
  {
   "cell_type": "markdown",
   "id": "cb7c8d3d-e2f5-453b-a8a3-f4da929e8b8b",
   "metadata": {},
   "source": [
    "21. Write a Python program to assign grades based on different ranges of scores using elif statements."
   ]
  },
  {
   "cell_type": "code",
   "execution_count": 17,
   "id": "573bc657-944f-409d-a76a-9cce25e66c97",
   "metadata": {},
   "outputs": [
    {
     "name": "stdin",
     "output_type": "stream",
     "text": [
      "Enter the score:  70\n"
     ]
    },
    {
     "name": "stdout",
     "output_type": "stream",
     "text": [
      "your  marks of 70.0 is C.\n"
     ]
    }
   ],
   "source": [
    "# Input the score from the user\n",
    "marks = float(input(\"Enter the score: \"))\n",
    "\n",
    "# Assign grades based on score ranges\n",
    "if marks >= 90:\n",
    "    grade = \"A\"\n",
    "elif marks >= 80:\n",
    "    grade = \"B\"\n",
    "elif marks >= 70:\n",
    "    grade = \"C\"\n",
    "elif marks >= 60:\n",
    "    grade = \"D\"\n",
    "else:\n",
    "    grade = \"F\"\n",
    "\n",
    "# Output the assigned grade\n",
    "print(f\"your  marks of {marks} is {grade}.\")\n"
   ]
  },
  {
   "cell_type": "markdown",
   "id": "f3c9227c-b486-4226-99e4-3322d6879e12",
   "metadata": {},
   "source": [
    "22. Implement a program to determine the type of a triangle based on its angles."
   ]
  },
  {
   "cell_type": "code",
   "execution_count": 19,
   "id": "a8c6d4ef-cfad-4a18-9753-5af2dfd0fb82",
   "metadata": {},
   "outputs": [
    {
     "name": "stdin",
     "output_type": "stream",
     "text": [
      "Enter the first angle:  45\n",
      "Enter the second angle:  90\n",
      "Enter the third angle:  90\n"
     ]
    },
    {
     "name": "stdout",
     "output_type": "stream",
     "text": [
      "These angles do not form a valid triangle.\n"
     ]
    }
   ],
   "source": [
    "angle1 = int(input('Enter the first angle: '))\n",
    "angle2 = int(input('Enter the second angle: '))\n",
    "angle3 = int(input('Enter the third angle: '))\n",
    "\n",
    "# Check if the angles form a valid triangle\n",
    "if (angle1+angle2+angle3) == 180:\n",
    "     # Check the type of triangle based on angle measurements\n",
    "    if angle1 < 90 and angle2<90 and angle3<90:\n",
    "        triangle_type = \"acute\"\n",
    "    elif angle1 == 90 or angle2 == 0 or angle3 == 0:\n",
    "        triangle_type = 'right angle'\n",
    "    else:\n",
    "        triangle_type = 'obtuse'\n",
    "          \n",
    "  # Output the result\n",
    "    print(f\"The triangle with angles {angle1}, {angle2}, and {angle3} degrees is a {triangle_type} triangle.\")\n",
    "else:\n",
    "    print(\"These angles do not form a valid triangle.\")    "
   ]
  },
  {
   "cell_type": "markdown",
   "id": "b06f01c9-f7f4-4b09-ad5b-4b81485affe2",
   "metadata": {},
   "source": [
    "23. Develop a program to categorize a given person's BMI into underweight, normal, overweight, or obese using\n",
    "elif statements."
   ]
  },
  {
   "cell_type": "code",
   "execution_count": 4,
   "id": "345cce56-57a1-414f-aa26-7a393c68571d",
   "metadata": {},
   "outputs": [
    {
     "name": "stdin",
     "output_type": "stream",
     "text": [
      "Enter your weight in kilograms:  70\n",
      "Enter your height in meters:  1.81\n"
     ]
    },
    {
     "name": "stdout",
     "output_type": "stream",
     "text": [
      "Your BMI is  21.366869, and you are categorized as Normal Weight.\n"
     ]
    }
   ],
   "source": [
    "# Function to calculate BMI and categorize it\n",
    "def categorize_bmi(weight, height):\n",
    "    # Calculate BMI\n",
    "    bmi = weight / (height ** 2)\n",
    "\n",
    "    # Categorize BMI\n",
    "    if bmi < 18.5:\n",
    "        category = \"Underweight\"\n",
    "    elif 18.5 <= bmi < 24.9:\n",
    "        category = \"Normal Weight\"\n",
    "    elif 25 <= bmi < 29.9:\n",
    "        category = \"Overweight\"\n",
    "    else:\n",
    "        category = \"Obese\"\n",
    "\n",
    "    return bmi, category\n",
    "\n",
    "# Input weight in kilograms and height in meters\n",
    "weight = float(input(\"Enter your weight in kilograms: \"))\n",
    "height = float(input(\"Enter your height in meters: \"))\n",
    "\n",
    "# Call the categorize_bmi function\n",
    "bmi, category = categorize_bmi(weight, height)\n",
    "\n",
    "# Display the result\n",
    "print(f\"Your BMI is {bmi: 2f}, and you are categorized as {category}.\")\n"
   ]
  },
  {
   "cell_type": "markdown",
   "id": "6b66b708-94d3-41b5-9144-d026829240b0",
   "metadata": {},
   "source": [
    "24. Create a program that determines whether a given number is positive, negative, or zero using elif\n",
    "statements."
   ]
  },
  {
   "cell_type": "code",
   "execution_count": 2,
   "id": "2af55515-f2d8-4b3c-94e5-7d0fe09ee4d9",
   "metadata": {},
   "outputs": [
    {
     "name": "stdin",
     "output_type": "stream",
     "text": [
      "Enter a number:  -1\n"
     ]
    },
    {
     "name": "stdout",
     "output_type": "stream",
     "text": [
      "The number is negative.\n"
     ]
    }
   ],
   "source": [
    "number = int(input(\"Enter a number: \"))\n",
    "\n",
    "# Check if the number is positive, negative, or zero using elif statements\n",
    "if number > 0:\n",
    "    print(\"The number is positive.\")\n",
    "elif number < 0:\n",
    "    print(\"The number is negative.\")\n",
    "else:\n",
    "    print(\"The number is zero.\")\n"
   ]
  },
  {
   "cell_type": "markdown",
   "id": "0016c569-7cbd-48b7-b0a9-18eec1e79629",
   "metadata": {},
   "source": [
    "25. Write a Python script to determine the type of a character (uppercase, lowercase, or special) using elif\n",
    "statements."
   ]
  },
  {
   "cell_type": "code",
   "execution_count": 5,
   "id": "9ec0854d-1cd6-4f35-a7ae-f3e1a839669a",
   "metadata": {},
   "outputs": [
    {
     "name": "stdin",
     "output_type": "stream",
     "text": [
      "Enter a character:  d\n"
     ]
    },
    {
     "name": "stdout",
     "output_type": "stream",
     "text": [
      "The character is lowercase.\n"
     ]
    }
   ],
   "source": [
    "# Input a character\n",
    "char = input(\"Enter a character: \")\n",
    "\n",
    "# Check the type of character using elif statements\n",
    "if char.isalpha():\n",
    "    if char.isupper():\n",
    "        print(\"The character is uppercase.\")\n",
    "    elif char.islower():\n",
    "        print(\"The character is lowercase.\")\n",
    "else:\n",
    "    print(\"The character is special or not an alphabet character.\")\n"
   ]
  },
  {
   "cell_type": "markdown",
   "id": "aa63d578-fb39-4a12-ad0d-7834d9c5e943",
   "metadata": {},
   "source": [
    "26. Implement a program to calculate the discounted price based on different purchase amounts using elif\n",
    "statements."
   ]
  },
  {
   "cell_type": "code",
   "execution_count": 6,
   "id": "78e1b777-d6ec-49ea-a4bf-8602ad8088e6",
   "metadata": {},
   "outputs": [
    {
     "name": "stdin",
     "output_type": "stream",
     "text": [
      "Enter the purchase amount:  700\n"
     ]
    },
    {
     "name": "stdout",
     "output_type": "stream",
     "text": [
      "Purchase Amount: $700.00\n",
      "Discount Rate: 10.0%\n",
      "Discounted Price: $630.00\n"
     ]
    }
   ],
   "source": [
    "# Input the purchase amount\n",
    "purchase_amount = float(input(\"Enter the purchase amount: \"))\n",
    "\n",
    "# Calculate the discount based on the purchase amount using elif statements\n",
    "if purchase_amount < 100:\n",
    "    discount = 0\n",
    "elif purchase_amount < 500:\n",
    "    discount = 0.05  # 5% discount for purchase amounts between 100 and 499.99\n",
    "elif purchase_amount < 1000:\n",
    "    discount = 0.1   # 10% discount for purchase amounts between 500 and 999.99\n",
    "else:\n",
    "    discount = 0.15  # 15% discount for purchase amounts of 1000 or more\n",
    "\n",
    "# Calculate the discounted price\n",
    "discounted_price = purchase_amount - (purchase_amount * discount)\n",
    "\n",
    "# Display the result\n",
    "print(f\"Purchase Amount: ${purchase_amount:.2f}\")\n",
    "print(f\"Discount Rate: {discount * 100:.1f}%\")\n",
    "print(f\"Discounted Price: ${discounted_price:.2f}\")\n"
   ]
  },
  {
   "cell_type": "markdown",
   "id": "aa125139-8ce1-4e33-8d96-508e7b2817c0",
   "metadata": {},
   "source": [
    "27. Develop a program to calculate the electricity bill based on different consumption slabs using elif\n",
    "statements."
   ]
  },
  {
   "cell_type": "code",
   "execution_count": 7,
   "id": "8d6182f0-afc1-4691-8e11-6c8524dd2988",
   "metadata": {},
   "outputs": [
    {
     "name": "stdin",
     "output_type": "stream",
     "text": [
      "Enter your electricity consumption in kWh:  500\n"
     ]
    },
    {
     "name": "stdout",
     "output_type": "stream",
     "text": [
      "Electricity Consumption: 500.0 kWh\n",
      "Total Bill Amount: $80.00\n"
     ]
    }
   ],
   "source": [
    "# Entering electricity consumption in kilowatt-hours\n",
    "consumption = float(input(\"Enter your electricity consumption in kWh: \"))\n",
    "\n",
    "# Define the electricity rates for different consumption slabs\n",
    "rate_slab1 = 0.10  # Rate for the first 100 kWh\n",
    "rate_slab2 = 0.15  # Rate for the next 200 kWh\n",
    "rate_slab3 = 0.20  # Rate for consumption above 300 kWh\n",
    "\n",
    "# Initialize the total bill amount\n",
    "total_bill = 0\n",
    "\n",
    "# Calculate the bill based on consumption slabs using elif statements\n",
    "if consumption <= 100:\n",
    "    total_bill = consumption * rate_slab1\n",
    "elif consumption <= 300:\n",
    "    total_bill = (100 * rate_slab1) + ((consumption - 100) * rate_slab2)\n",
    "else:\n",
    "    total_bill = (100 * rate_slab1) + (200 * rate_slab2) + ((consumption - 300) * rate_slab3)\n",
    "\n",
    "# Display the result\n",
    "print(f\"Electricity Consumption: {consumption} kWh\")\n",
    "print(f\"Total Bill Amount: ${total_bill:.2f}\")\n"
   ]
  },
  {
   "cell_type": "markdown",
   "id": "63f09afc-c110-46d4-820a-578cf9c1b67c",
   "metadata": {},
   "source": [
    "28. Create a program to determine the type of quadrilateral based on its angles and sides using elif\n",
    "statements."
   ]
  },
  {
   "cell_type": "code",
   "execution_count": 2,
   "id": "43d662bd-081d-4479-a3b2-735fe1220c91",
   "metadata": {},
   "outputs": [
    {
     "name": "stdin",
     "output_type": "stream",
     "text": [
      "Enter the first angle in degrees:  60\n",
      "Enter the second angle in degrees:  60\n",
      "Enter the third angle in degrees:  40\n",
      "Enter the fourth angle in degrees:  40\n",
      "Enter the length of the first side:  6\n",
      "Enter the length of the second side:  6\n",
      "Enter the length of the third side:  6\n",
      "Enter the length of the fourth side:  6\n"
     ]
    },
    {
     "name": "stdout",
     "output_type": "stream",
     "text": [
      "It's a parallelogram.\n"
     ]
    }
   ],
   "source": [
    "###### Enter the angles and sides of the quadrilateral\n",
    "angle1 = float(input(\"Enter the first angle in degrees: \"))\n",
    "angle2 = float(input(\"Enter the second angle in degrees: \"))\n",
    "angle3 = float(input(\"Enter the third angle in degrees: \"))\n",
    "angle4 = float(input(\"Enter the fourth angle in degrees: \"))\n",
    "side1 = float(input(\"Enter the length of the first side: \"))\n",
    "side2 = float(input(\"Enter the length of the second side: \"))\n",
    "side3 = float(input(\"Enter the length of the third side: \"))\n",
    "side4 = float(input(\"Enter the length of the fourth side: \"))\n",
    "\n",
    "# Check the type of quadrilateral using elif statements\n",
    "if angle1 == angle2 == angle3 == angle4 == 90:\n",
    "    if side1 == side2 == side3 == side4:\n",
    "        print(\"It's a square.\")\n",
    "    else:\n",
    "        print(\"It's a rectangle.\")\n",
    "elif side1 == side2 == side3 == side4:\n",
    "    print(\"It's a parallelogram.\")\n",
    "elif (angle1 == angle3 and angle2 == angle4) or (angle1 == angle2 == angle3 == angle4):\n",
    "    print(\"It's a kite.\")\n",
    "elif (side1 == side3 and side2 == side4) or (side1 == side2 == side3 == side4):\n",
    "    print(\"It's a rhombus.\")\n",
    "else:\n",
    "    print(\"It's a general quadrilateral.\")\n"
   ]
  },
  {
   "cell_type": "markdown",
   "id": "bce3d7e9-9617-4d5e-b272-830273ddf8ce",
   "metadata": {},
   "source": [
    "29. Write a Python script to determine the season based on a user-provided month using elif statements."
   ]
  },
  {
   "cell_type": "code",
   "execution_count": 3,
   "id": "c9cdb07f-a95b-41ea-970e-3d7d351ac5f5",
   "metadata": {},
   "outputs": [
    {
     "name": "stdin",
     "output_type": "stream",
     "text": [
      "Enter a month (e.g., January, February, etc.):  march\n"
     ]
    },
    {
     "name": "stdout",
     "output_type": "stream",
     "text": [
      "March is in the Spring season.\n"
     ]
    }
   ],
   "source": [
    "# Input the month from the user\n",
    "month = input(\"Enter a month (e.g., January, February, etc.): \")\n",
    "\n",
    "# Convert the input to lowercase for case-insensitivity\n",
    "month = month.lower()\n",
    "\n",
    "# Check the season based on the input month using elif statements\n",
    "if month in [\"december\", \"january\", \"february\"]:\n",
    "    season = \"Winter\"\n",
    "elif month in [\"march\", \"april\", \"may\"]:\n",
    "    season = \"Spring\"\n",
    "elif month in [\"june\", \"july\", \"august\"]:\n",
    "    season = \"Summer\"\n",
    "elif month in [\"september\", \"october\", \"november\"]:\n",
    "    season = \"Autumn (Fall)\"\n",
    "else:\n",
    "    season = \"Invalid Month\"\n",
    "\n",
    "# Display the result\n",
    "if season != \"Invalid Month\":\n",
    "    print(f\"{month.capitalize()} is in the {season} season.\")\n",
    "else:\n",
    "    print(\"Invalid input. Please enter a valid month.\")\n"
   ]
  },
  {
   "cell_type": "markdown",
   "id": "0703657c-76e8-48e2-91ec-d825162bcba2",
   "metadata": {},
   "source": [
    "30. Implement a program to determine the type of a year (leap or common) and month (30 or 31 days) using\n",
    "elif statements."
   ]
  },
  {
   "cell_type": "code",
   "execution_count": 1,
   "id": "d3c96ff5-30ae-450b-a1a1-d952a6a7e160",
   "metadata": {},
   "outputs": [
    {
     "name": "stdin",
     "output_type": "stream",
     "text": [
      "Enter a year (e.g., 2022):  2020\n",
      "Enter a month (e.g., January, February, etc.):  february\n"
     ]
    },
    {
     "name": "stdout",
     "output_type": "stream",
     "text": [
      "2020 is a Leap Year.\n",
      "February in 2020 has 29 days.\n"
     ]
    }
   ],
   "source": [
    "## Input the year and month from the user\n",
    "year = int(input(\"Enter a year (e.g., 2022): \"))\n",
    "month = input(\"Enter a month (e.g., January, February, etc.): \")\n",
    "\n",
    "# Convert the month input to lowercase for case-insensitivity\n",
    "month = month.lower()\n",
    "\n",
    "# Check if it's a leap year or common year using elif statements\n",
    "if (year % 4 == 0 and year % 100 != 0) or (year % 400 == 0):\n",
    "    year_type = \"Leap Year\"\n",
    "else:\n",
    "    year_type = \"Common Year\"\n",
    "\n",
    "# Check the number of days in the month using elif statements\n",
    "if month in [\"january\", \"march\", \"may\", \"july\", \"august\", \"october\", \"december\"]:\n",
    "    month_days = 31\n",
    "elif month in [\"april\", \"june\", \"september\", \"november\"]:\n",
    "    month_days = 30\n",
    "elif month == \"february\":\n",
    "    if year_type == \"Leap Year\":\n",
    "        month_days = 29\n",
    "    else:\n",
    "        month_days = 28\n",
    "else:\n",
    "    year_type = \"Invalid Year\"\n",
    "    month_days = \"Invalid Month\"\n",
    "\n",
    "# Display the result\n",
    "if year_type == \"Invalid Year\" or month_days == \"Invalid Month\":\n",
    "    print(\"Invalid input. Please enter a valid year and month.\")\n",
    "else:\n",
    "    print(f\"{year} is a {year_type}.\")\n",
    "    print(f\"{month.capitalize()} in {year} has {month_days} days.\")\n"
   ]
  },
  {
   "cell_type": "markdown",
   "id": "217635a6-697e-4cb4-ba1c-29d0ac2dcfc3",
   "metadata": {
    "jp-MarkdownHeadingCollapsed": true,
    "tags": []
   },
   "source": [
    "## Basic Level:"
   ]
  },
  {
   "cell_type": "markdown",
   "id": "b2573963-89d5-4ce1-b004-c3ac00277f43",
   "metadata": {},
   "source": [
    "1. Write a Python program that checks if a given number is positive, negative, or zero."
   ]
  },
  {
   "cell_type": "code",
   "execution_count": 3,
   "id": "b6ec5ccf-c570-4076-b72f-4fe9c06938d0",
   "metadata": {},
   "outputs": [
    {
     "name": "stdin",
     "output_type": "stream",
     "text": [
      "Enter a number:  -1\n"
     ]
    },
    {
     "name": "stdout",
     "output_type": "stream",
     "text": [
      "-1 is negative\n"
     ]
    }
   ],
   "source": [
    "num = int(input('Enter a number: '))\n",
    "\n",
    "if num < 0:\n",
    "    print(f'{num} is negative')\n",
    "elif num == 0:\n",
    "    print(f'{num} is zero')\n",
    "else:\n",
    "    print(f'{num} is positive')\n",
    "\n",
    "    \n"
   ]
  },
  {
   "cell_type": "markdown",
   "id": "62631367-75d6-4472-8dc5-77e1b54d0fd6",
   "metadata": {},
   "source": [
    "2. Create a program to determine if a person is eligible to vote based on their age."
   ]
  },
  {
   "cell_type": "code",
   "execution_count": 4,
   "id": "d43b5a18-d95a-45ec-abf8-614577dd016a",
   "metadata": {},
   "outputs": [
    {
     "name": "stdin",
     "output_type": "stream",
     "text": [
      "Enter age:  22\n"
     ]
    },
    {
     "name": "stdout",
     "output_type": "stream",
     "text": [
      "the person is elligible to vote\n"
     ]
    }
   ],
   "source": [
    "age = int(input('Enter age: '))\n",
    "\n",
    "if age <= 18:\n",
    "    print('the person is not elligible to vote')\n",
    "else:\n",
    "    print('the person is elligible to vote')\n",
    "    \n"
   ]
  },
  {
   "cell_type": "markdown",
   "id": "7004530d-9110-472b-9222-b14d5c0e9618",
   "metadata": {},
   "source": [
    "3. Write a program to find the maximum of two given numbers using conditional statements."
   ]
  },
  {
   "cell_type": "code",
   "execution_count": 5,
   "id": "dedda78b-3e13-4614-8220-db9c56319dde",
   "metadata": {},
   "outputs": [
    {
     "name": "stdout",
     "output_type": "stream",
     "text": [
      "num1 is the largest number\n"
     ]
    }
   ],
   "source": [
    "num1 = 22\n",
    "num2 = 13\n",
    "\n",
    "if num1>num2:\n",
    "    print('num1 is the largest number')\n",
    "else:\n",
    "    print('num2 is the largest number')"
   ]
  },
  {
   "cell_type": "markdown",
   "id": "d0596735-f1c3-4632-bd30-7c319dfd3fa1",
   "metadata": {},
   "source": [
    "4. Develop a program that calculates the grade of a student based on their exam score."
   ]
  },
  {
   "cell_type": "code",
   "execution_count": 6,
   "id": "1eb38972-e0df-41f0-b1cb-883f2df97117",
   "metadata": {},
   "outputs": [
    {
     "name": "stdin",
     "output_type": "stream",
     "text": [
      "Enter your grade:  45\n"
     ]
    },
    {
     "name": "stdout",
     "output_type": "stream",
     "text": [
      "you scored 45 and your grade is D\n"
     ]
    }
   ],
   "source": [
    "marks = int(input('Enter your grade: '))\n",
    "\n",
    "if marks >= 90:\n",
    "    grade = 'A'\n",
    "elif marks >= 70 and marks < 90:\n",
    "    grade = 'B'\n",
    "elif marks >= 50 and marks < 70:\n",
    "    grade = 'C'\n",
    "elif marks >= 30 and marks < 50:\n",
    "    grade = 'D'\n",
    "else:\n",
    "    grade = 'E'\n",
    "print(f'you scored {marks} and your grade is {grade}')"
   ]
  },
  {
   "cell_type": "markdown",
   "id": "468c5b3e-d842-4853-bdab-c2a729608f97",
   "metadata": {},
   "source": [
    "5. Create a program that checks if a year is a leap year or not."
   ]
  },
  {
   "cell_type": "code",
   "execution_count": 7,
   "id": "e801e111-4f05-420e-abb4-bb31f542a974",
   "metadata": {},
   "outputs": [
    {
     "name": "stdin",
     "output_type": "stream",
     "text": [
      "Enter a year:  2026\n"
     ]
    },
    {
     "name": "stdout",
     "output_type": "stream",
     "text": [
      "2026 is not a leap year.\n"
     ]
    }
   ],
   "source": [
    "def is_leap_year(year):\n",
    "    if (year%4 == 0 and year%100 != 0) or (year%400 == 0):\n",
    "        return True\n",
    "    else:\n",
    "        return False\n",
    "\n",
    "    \n",
    "\n",
    "# Input year from the user\n",
    "year = int(input(\"Enter a year: \"))\n",
    "\n",
    "if is_leap_year(year):\n",
    "    print(f\"{year} is a leap year.\")\n",
    "else:\n",
    "    print(f\"{year} is not a leap year.\")"
   ]
  },
  {
   "cell_type": "markdown",
   "id": "c0e84062-b3ab-4df0-b0bd-b898d4bf586d",
   "metadata": {},
   "source": [
    "6. Write a program to classify a triangle based on its sides' lengths."
   ]
  },
  {
   "cell_type": "code",
   "execution_count": 8,
   "id": "2d90343a-9ffb-44a2-a101-bb1625c49dff",
   "metadata": {},
   "outputs": [
    {
     "name": "stdin",
     "output_type": "stream",
     "text": [
      "Enter the length of the first side:  6\n",
      "Enter the length of the second side:  6\n",
      "Enter the length of the third side:  6\n"
     ]
    },
    {
     "name": "stdout",
     "output_type": "stream",
     "text": [
      "The triangle with side lengths 6, 6, and 6 is a Equilateral triangle.\n"
     ]
    }
   ],
   "source": [
    "# Input the lengths of the three sides of the triangle\n",
    "side1 = int(input(\"Enter the length of the first side: \"))\n",
    "side2 = int(input(\"Enter the length of the second side: \"))\n",
    "side3 = int(input(\"Enter the length of the third side: \"))\n",
    "\n",
    "# Check the type of triangle based on side lengths\n",
    "if side1 == side2 == side3:\n",
    "    triangle_type = \"Equilateral\"\n",
    "elif side1 == side2 or side1 == side3 or side2 == side3:\n",
    "    triangle_type = \"Isosceles\"\n",
    "else:\n",
    "    triangle_type = \"Scalene\"\n",
    "\n",
    "# Check for valid triangle\n",
    "if side1 + side2 > side3 and side1 + side3 > side2 and side2 + side3 > side1:\n",
    "    valid_triangle = True\n",
    "else:\n",
    "    valid_triangle = False\n",
    "    triangle_type = \"Invalid\"\n",
    "\n",
    "# Display the result\n",
    "if valid_triangle:\n",
    "    print(f\"The triangle with side lengths {side1}, {side2}, and {side3} is a {triangle_type} triangle.\")\n",
    "else:\n",
    "    print(\"The given side lengths do not form a valid triangle.\")\n"
   ]
  },
  {
   "cell_type": "markdown",
   "id": "3277cd90-a4c9-4770-b024-5e957c7a7f12",
   "metadata": {},
   "source": [
    "7. Build a program that determines the largest of three given numbers."
   ]
  },
  {
   "cell_type": "code",
   "execution_count": 9,
   "id": "778231dc-5031-415a-9ab5-2f597cb7c56d",
   "metadata": {},
   "outputs": [
    {
     "name": "stdout",
     "output_type": "stream",
     "text": [
      "the largest number is:  12\n"
     ]
    }
   ],
   "source": [
    "num1 = 12\n",
    "num2 = 7\n",
    "num3 = 5\n",
    "\n",
    "if num1 > num2 and num1 > num3:\n",
    "    largest = num1\n",
    "if num2 > num3 and num2 >num1:\n",
    "    largest = num2\n",
    "if num3 > num1 and num3 > num2:\n",
    "    largest = num3\n",
    "    \n",
    "print('the largest number is: ',largest)"
   ]
  },
  {
   "cell_type": "markdown",
   "id": "79964bb0-24ad-44f9-bc46-14d7c89b28db",
   "metadata": {},
   "source": [
    "8. Develop a program that checks whether a character is a vowel or a consonant."
   ]
  },
  {
   "cell_type": "code",
   "execution_count": 11,
   "id": "aa36ec2f-154c-40bb-8b13-df67256561b9",
   "metadata": {},
   "outputs": [
    {
     "name": "stdin",
     "output_type": "stream",
     "text": [
      "Enter a character:  a\n"
     ]
    },
    {
     "name": "stdout",
     "output_type": "stream",
     "text": [
      "a is a vowel\n"
     ]
    }
   ],
   "source": [
    "vowels = 'a,e,i,o,u'\n",
    "\n",
    "char = input('Enter a character: ')\n",
    "char = char.lower()\n",
    "if char in vowels:\n",
    "    print(f'{char} is a vowel')\n",
    "else:\n",
    "    print(f'{char} is a consonant')"
   ]
  },
  {
   "cell_type": "markdown",
   "id": "20d86ff3-5afc-47a9-a991-c2e6a956151a",
   "metadata": {},
   "source": [
    "9. Create a program to calculate the total cost of a shopping cart based on discounts."
   ]
  },
  {
   "cell_type": "code",
   "execution_count": 12,
   "id": "74aee2ab-89ba-409d-bafe-960a5ba17a20",
   "metadata": {},
   "outputs": [
    {
     "name": "stdout",
     "output_type": "stream",
     "text": [
      "Total cost of the shopping cart: $77.75\n"
     ]
    }
   ],
   "source": [
    "# Defining the item prices and discounts\n",
    "item_prices = {\n",
    "    'item1': 10.0,\n",
    "    'item2': 20.0,\n",
    "    'item3': 15.0\n",
    "}\n",
    "\n",
    "item_discounts = {\n",
    "    'item1': 0.1,  # 10% discount on item1\n",
    "    'item2': 0.15,  # 15% discount on item2\n",
    "    'item3': 0.05  # 5% discount on item3\n",
    "}\n",
    "\n",
    "# Initializing the shopping cart\n",
    "shopping_cart = {\n",
    "    'item1': 2,  # Quantity of item1\n",
    "    'item2': 1,  # Quantity of item2\n",
    "    'item3': 3   # Quantity of item3\n",
    "}\n",
    "\n",
    "# Calculate the total cost of the cart including discounts\n",
    "total_cost = 0.0\n",
    "\n",
    "for item, quantity in shopping_cart.items():\n",
    "    if item in item_prices and item in item_discounts:\n",
    "        price = item_prices[item] * quantity\n",
    "        discount = item_discounts[item] * price\n",
    "        total_cost += (price - discount)\n",
    "    else:\n",
    "        print(f\"Unknown item: {item}\")\n",
    "\n",
    "# Display the total cost\n",
    "print(f\"Total cost of the shopping cart: ${total_cost:.2f}\")\n"
   ]
  },
  {
   "cell_type": "markdown",
   "id": "0a57955f-f666-4899-9456-741c7c3bcf45",
   "metadata": {},
   "source": [
    "10. Write a program that checks if a given number is even or odd."
   ]
  },
  {
   "cell_type": "code",
   "execution_count": 13,
   "id": "28e2434e-8022-4612-b119-ca4c4ca1948a",
   "metadata": {},
   "outputs": [
    {
     "name": "stdin",
     "output_type": "stream",
     "text": [
      "Enter a number:  5\n"
     ]
    },
    {
     "name": "stdout",
     "output_type": "stream",
     "text": [
      "5 is an odd number\n"
     ]
    }
   ],
   "source": [
    "num = int(input('Enter a number: '))\n",
    "\n",
    "if num%2 == 0:\n",
    "    print(f'{num} is an even number')\n",
    "else:\n",
    "    print(f'{num} is an odd number')"
   ]
  },
  {
   "cell_type": "markdown",
   "id": "5407c138-32c0-4c86-948b-350d3bf31739",
   "metadata": {
    "jp-MarkdownHeadingCollapsed": true,
    "tags": []
   },
   "source": [
    "## Intermediate Level:"
   ]
  },
  {
   "cell_type": "markdown",
   "id": "efe73ac3-0365-48c3-8d67-ba14698f8798",
   "metadata": {},
   "source": [
    "11. Write a program that calculates the roots of a quadratic equation ."
   ]
  },
  {
   "cell_type": "code",
   "execution_count": 15,
   "id": "e13758b9-fe93-47de-b572-b41a13e84365",
   "metadata": {},
   "outputs": [
    {
     "name": "stdin",
     "output_type": "stream",
     "text": [
      "Enter the coefficient a:  4\n",
      "Enter the coefficient b:  6\n",
      "Enter the coefficient c:  10\n"
     ]
    },
    {
     "name": "stdout",
     "output_type": "stream",
     "text": [
      "Root 1: -0.750000 +  1.391941i\n",
      "Root 2: -0.750000 -  1.391941i\n"
     ]
    }
   ],
   "source": [
    "import math\n",
    "\n",
    "# Input coefficients a, b, and c from the user\n",
    "a = float(input(\"Enter the coefficient a: \"))\n",
    "b = float(input(\"Enter the coefficient b: \"))\n",
    "c = float(input(\"Enter the coefficient c: \"))\n",
    "\n",
    "# Calculate the discriminant (D)\n",
    "D = b**2 - 4*a*c\n",
    "\n",
    "# Check the value of the discriminant\n",
    "if D > 0:\n",
    "    # Two distinct real roots\n",
    "    root1 = (-b + math.sqrt(D)) / (2*a)\n",
    "    root2 = (-b - math.sqrt(D)) / (2*a)\n",
    "    print(f\"Root 1: {root1}\")\n",
    "    print(f\"Root 2: {root2}\")\n",
    "elif D == 0:\n",
    "    # One real root (repeated)\n",
    "    root = -b / (2*a)\n",
    "    print(f\"Root: {root}\")\n",
    "else:\n",
    "    # Complex roots\n",
    "    real_part = -b / (2*a)\n",
    "    imaginary_part = math.sqrt(abs(D)) / (2*a)\n",
    "    print(f\"Root 1: {real_part: 2f} + {imaginary_part: 2f}i\")\n",
    "    print(f\"Root 2: {real_part: 2f} - {imaginary_part: 2f}i\")\n"
   ]
  },
  {
   "cell_type": "markdown",
   "id": "a53774ba-a886-4d75-8434-d5836f6c2fee",
   "metadata": {},
   "source": [
    "12. Create a program that determines the day of the week based on the day number (1-7)."
   ]
  },
  {
   "cell_type": "code",
   "execution_count": 16,
   "id": "a8e3248e-2b09-4441-9584-15cf88d34a3d",
   "metadata": {},
   "outputs": [
    {
     "name": "stdin",
     "output_type": "stream",
     "text": [
      "Enter the day number (1-7):  7\n"
     ]
    },
    {
     "name": "stdout",
     "output_type": "stream",
     "text": [
      "The day corresponding to day number 7 is Sunday.\n"
     ]
    }
   ],
   "source": [
    "# Define a dictionary to map day numbers to day names\n",
    "day_number_to_name = {\n",
    "    1: \"Monday\",\n",
    "    2: \"Tuesday\",\n",
    "    3: \"Wednesday\",\n",
    "    4: \"Thursday\",\n",
    "    5: \"Friday\",\n",
    "    6: \"Saturday\",\n",
    "    7: \"Sunday\"\n",
    "}\n",
    "\n",
    "# Input the day number (1-7)\n",
    "day_number = int(input(\"Enter the day number (1-7): \"))\n",
    "\n",
    "# Check if the input is valid\n",
    "if day_number < 1 or day_number > 7:\n",
    "    print(\"Invalid day number. Please enter a number between 1 and 7.\")\n",
    "else:\n",
    "    # Retrieve the day name based on the day number\n",
    "    day_name = day_number_to_name[day_number]\n",
    "    print(f\"The day corresponding to day number {day_number} is {day_name}.\")\n"
   ]
  },
  {
   "cell_type": "markdown",
   "id": "f1e0569b-7446-4d2b-99e8-296485d7d9eb",
   "metadata": {},
   "source": [
    "13. Develop a program that calculates the factorial of a given number using recursion."
   ]
  },
  {
   "cell_type": "code",
   "execution_count": 17,
   "id": "efe6b3d1-6338-4227-ba17-513e4c0efa35",
   "metadata": {},
   "outputs": [
    {
     "name": "stdin",
     "output_type": "stream",
     "text": [
      "Enter a non-negative integer:  45\n"
     ]
    },
    {
     "name": "stdout",
     "output_type": "stream",
     "text": [
      "The factorial of 45 is 119622220865480194561963161495657715064383733760000000000.\n"
     ]
    }
   ],
   "source": [
    "def factorial(n):\n",
    "    # Base case: factorial of 0 or 1 is 1\n",
    "    if n == 0 or n == 1:\n",
    "        return 1\n",
    "    # Recursive case: n! = n * (n-1)!\n",
    "    else:\n",
    "        return n * factorial(n - 1)\n",
    "\n",
    "# Input the number for which factorial is to be calculated\n",
    "number = int(input(\"Enter a non-negative integer: \"))\n",
    "\n",
    "# Check if the number is non-negative\n",
    "if number < 0:\n",
    "    print(\"Factorial is not defined for negative numbers.\")\n",
    "else:\n",
    "    # Calculate the factorial using the factorial function\n",
    "    result = factorial(number)\n",
    "    print(f\"The factorial of {number} is {result}.\")\n"
   ]
  },
  {
   "cell_type": "markdown",
   "id": "f4e2c1ec-a6b4-4021-add9-8ac58e3f3272",
   "metadata": {},
   "source": [
    "14. Write a program to find the largest among three numbers without using the `max()` function."
   ]
  },
  {
   "cell_type": "code",
   "execution_count": 18,
   "id": "66866673-f3d8-4482-b7c9-29d9df4104fc",
   "metadata": {},
   "outputs": [
    {
     "name": "stdout",
     "output_type": "stream",
     "text": [
      "the largest number is 70\n"
     ]
    }
   ],
   "source": [
    "num1 = 45\n",
    "num2 = 21\n",
    "num3 = 70\n",
    "\n",
    "if num1 > num2 and num1>num3:\n",
    "    largest = num1\n",
    "elif num2 > num1 and num2 > num3:\n",
    "    largest = num2\n",
    "else:\n",
    "    largest = num3\n",
    "    \n",
    "print(f'the largest number is {largest}')"
   ]
  },
  {
   "cell_type": "markdown",
   "id": "76d51926-0dce-44a3-a07b-81f7b6c37961",
   "metadata": {},
   "source": [
    "15. Create a program that simulates a basic ATM transaction menu."
   ]
  },
  {
   "cell_type": "code",
   "execution_count": 20,
   "id": "8c8e7b13-a6d3-4c2a-a516-7060838a9c11",
   "metadata": {},
   "outputs": [
    {
     "name": "stdout",
     "output_type": "stream",
     "text": [
      "\n",
      "ATM Menu:\n",
      "1. Check Balance\n",
      "2. Deposit Funds\n",
      "3. Withdraw Funds\n",
      "4. Quit\n"
     ]
    },
    {
     "name": "stdin",
     "output_type": "stream",
     "text": [
      "Enter your choice (1/2/3/4):  4\n"
     ]
    },
    {
     "name": "stdout",
     "output_type": "stream",
     "text": [
      "Thank you for using the ATM. Have a nice day!\n"
     ]
    }
   ],
   "source": [
    "# Initialize account balance\n",
    "account_balance = 1000.0\n",
    "\n",
    "# Define ATM menu\n",
    "def display_menu():\n",
    "    print(\"\\nATM Menu:\")\n",
    "    print(\"1. Check Balance\")\n",
    "    print(\"2. Deposit Funds\")\n",
    "    print(\"3. Withdraw Funds\")\n",
    "    print(\"4. Quit\")\n",
    "\n",
    "# Function to check account balance\n",
    "def check_balance():\n",
    "    print(f\"Your account balance is ${account_balance:.2f}\")\n",
    "\n",
    "# Function to deposit funds\n",
    "def deposit_funds():\n",
    "    global account_balance\n",
    "    amount = float(input(\"Enter the amount to deposit: $\"))\n",
    "    if amount > 0:\n",
    "        account_balance += amount\n",
    "        print(f\"${amount:.2f} has been deposited successfully.\")\n",
    "    else:\n",
    "        print(\"Invalid amount. Please enter a positive value.\")\n",
    "\n",
    "# Function to withdraw funds\n",
    "def withdraw_funds():\n",
    "    global account_balance\n",
    "    amount = float(input(\"Enter the amount to withdraw: $\"))\n",
    "    if amount > 0:\n",
    "        if amount <= account_balance:\n",
    "            account_balance -= amount\n",
    "            print(f\"${amount:.2f} has been withdrawn successfully.\")\n",
    "        else:\n",
    "            print(\"Insufficient funds.\")\n",
    "    else:\n",
    "        print(\"Invalid amount. Please enter a positive value.\")\n",
    "\n",
    "# Main ATM loop\n",
    "while True:\n",
    "    display_menu()\n",
    "    choice = input(\"Enter your choice (1/2/3/4): \")\n",
    "\n",
    "    if choice == '1':\n",
    "        check_balance()\n",
    "    elif choice == '2':\n",
    "        deposit_funds()\n",
    "    elif choice == '3':\n",
    "        withdraw_funds()\n",
    "    elif choice == '4':\n",
    "        print(\"Thank you for using the ATM. Have a nice day!\")\n",
    "        break\n",
    "    else:\n",
    "        print(\"Invalid choice. Please select a valid option (1/2/3/4).\")\n"
   ]
  },
  {
   "cell_type": "markdown",
   "id": "4be8216e-3ab7-4343-a009-f4e81678c869",
   "metadata": {},
   "source": [
    "16. Build a program that checks if a given string is a palindrome or not."
   ]
  },
  {
   "cell_type": "code",
   "execution_count": 22,
   "id": "cf46673b-b8d6-42ba-9989-d54310417f6a",
   "metadata": {},
   "outputs": [
    {
     "name": "stdin",
     "output_type": "stream",
     "text": [
      "Enter a string:  radar\n"
     ]
    },
    {
     "name": "stdout",
     "output_type": "stream",
     "text": [
      "radar is a palindrome\n"
     ]
    }
   ],
   "source": [
    "string = input('Enter a string: ')\n",
    "# for case insensitivity\n",
    "string = string.lower()\n",
    "if string == string[::-1]:\n",
    "    print(f'{string} is a palindrome')\n",
    "else:\n",
    "    print(f'{string} is not a palindrome')\n",
    "            "
   ]
  },
  {
   "cell_type": "markdown",
   "id": "a4945a80-bb3e-4a21-b797-11059b148869",
   "metadata": {},
   "source": [
    "17. Write a program that calculates the average of a list of numbers, excluding the smallest and largest values."
   ]
  },
  {
   "cell_type": "code",
   "execution_count": 23,
   "id": "51391491-c20e-48c5-a5f0-f00b9585b89e",
   "metadata": {},
   "outputs": [
    {
     "name": "stdin",
     "output_type": "stream",
     "text": [
      "Enter a list of numbers (comma-separated):  2,4,6,8,9\n"
     ]
    },
    {
     "name": "stdout",
     "output_type": "stream",
     "text": [
      "The average excluding the smallest and largest values is: 6.00\n"
     ]
    }
   ],
   "source": [
    "def calculate_average(numbers):\n",
    "    # Check if the list is empty\n",
    "    if not numbers:\n",
    "        return None\n",
    "\n",
    "    # Sort the list in ascending order\n",
    "    sorted_numbers = sorted(numbers)\n",
    "\n",
    "    # Exclude the smallest and largest values\n",
    "    excluded_numbers = sorted_numbers[1:-1]\n",
    "\n",
    "    # Calculate the average of the remaining numbers\n",
    "    average = sum(excluded_numbers) / len(excluded_numbers)\n",
    "\n",
    "    return average\n",
    "\n",
    "# Input the list of numbers (comma-separated)\n",
    "user_input = input(\"Enter a list of numbers (comma-separated): \")\n",
    "\n",
    "# Convert the input to a list of floats\n",
    "numbers = [float(num) for num in user_input.split(',')]\n",
    "\n",
    "# Calculate the average excluding the smallest and largest values\n",
    "average = calculate_average(numbers)\n",
    "\n",
    "if average is not None:\n",
    "    print(f\"The average excluding the smallest and largest values is: {average:.2f}\")\n",
    "else:\n",
    "    print(\"The list is empty.\")\n"
   ]
  },
  {
   "cell_type": "markdown",
   "id": "aee08bc0-0ef7-44c9-b4b1-0772214e5bf4",
   "metadata": {},
   "source": [
    "18. Develop a program that converts a given temperature from Celsius to Fahrenheit."
   ]
  },
  {
   "cell_type": "code",
   "execution_count": 24,
   "id": "e0042d34-997e-4c03-a45b-cc0eb94f05c2",
   "metadata": {},
   "outputs": [
    {
     "name": "stdin",
     "output_type": "stream",
     "text": [
      "Enter temperature in Celsius:  20\n"
     ]
    },
    {
     "name": "stdout",
     "output_type": "stream",
     "text": [
      "The temperature in Fahrenheit is: 68.00°F\n"
     ]
    }
   ],
   "source": [
    "def celsius_to_fahrenheit(celsius):\n",
    "    return (celsius * 9/5) + 32\n",
    "\n",
    "# Input temperature in Celsius\n",
    "celsius = float(input(\"Enter temperature in Celsius: \"))\n",
    "\n",
    "# Convert Celsius to Fahrenheit\n",
    "fahrenheit = celsius_to_fahrenheit(celsius)\n",
    "\n",
    "# Display the result\n",
    "print(f\"The temperature in Fahrenheit is: {fahrenheit:.2f}°F\")\n"
   ]
  },
  {
   "cell_type": "markdown",
   "id": "0bed2999-1668-4221-bd98-9f2af46d6e73",
   "metadata": {},
   "source": [
    "19. Create a program that simulates a basic calculator for addition, subtraction, multiplication, and division."
   ]
  },
  {
   "cell_type": "code",
   "execution_count": 1,
   "id": "5c0f04a9-08b9-4976-83d9-375daf334825",
   "metadata": {},
   "outputs": [
    {
     "name": "stdout",
     "output_type": "stream",
     "text": [
      "Simple Calculator\n",
      "Select operation:\n",
      "1. Addition\n",
      "2. Subtraction\n",
      "3. Multiplication\n",
      "4. Division\n"
     ]
    },
    {
     "name": "stdin",
     "output_type": "stream",
     "text": [
      "Enter choice (1/2/3/4):  4\n",
      "Enter first number:  30\n",
      "Enter second number:  10\n"
     ]
    },
    {
     "name": "stdout",
     "output_type": "stream",
     "text": [
      "Result: 3.0\n"
     ]
    },
    {
     "name": "stdin",
     "output_type": "stream",
     "text": [
      "Do you want to perform another calculation? (yes/no):  no\n"
     ]
    }
   ],
   "source": [
    "def add(x, y):\n",
    "    return x + y\n",
    "\n",
    "def subtract(x, y):\n",
    "    return x - y\n",
    "\n",
    "def multiply(x, y):\n",
    "    return x * y\n",
    "\n",
    "def divide(x, y):\n",
    "    if y != 0:\n",
    "        return x / y\n",
    "    else:\n",
    "        return \"Cannot divide by zero\"\n",
    "\n",
    "print(\"Simple Calculator\")\n",
    "print(\"Select operation:\")\n",
    "print(\"1. Addition\")\n",
    "print(\"2. Subtraction\")\n",
    "print(\"3. Multiplication\")\n",
    "print(\"4. Division\")\n",
    "\n",
    "while True:\n",
    "    choice = input(\"Enter choice (1/2/3/4): \")\n",
    "\n",
    "    if choice in ('1', '2', '3', '4'):\n",
    "        num1 = float(input(\"Enter first number: \"))\n",
    "        num2 = float(input(\"Enter second number: \"))\n",
    "\n",
    "        if choice == '1':\n",
    "            print(\"Result:\", add(num1, num2))\n",
    "        elif choice == '2':\n",
    "            print(\"Result:\", subtract(num1, num2))\n",
    "        elif choice == '3':\n",
    "            print(\"Result:\", multiply(num1, num2))\n",
    "        elif choice == '4':\n",
    "            print(\"Result:\", divide(num1, num2))\n",
    "    else:\n",
    "        print(\"Invalid input\")\n",
    "\n",
    "    next_calculation = input(\"Do you want to perform another calculation? (yes/no): \").lower()\n",
    "    if next_calculation != 'yes':\n",
    "        break\n"
   ]
  },
  {
   "cell_type": "code",
   "execution_count": 2,
   "id": "4c467795-d581-4947-8a34-286f6880d267",
   "metadata": {},
   "outputs": [
    {
     "name": "stdin",
     "output_type": "stream",
     "text": [
      "Enter coefficient a:  4\n",
      "Enter coefficient b:  6\n",
      "Enter coefficient c:  8\n",
      "Enter coefficient d:  10\n"
     ]
    },
    {
     "name": "stdout",
     "output_type": "stream",
     "text": [
      "Roots of the cubic equation:\n",
      "Root 1: (0.45027771716561205+1.0515927364911j)\n"
     ]
    }
   ],
   "source": [
    "import cmath\n",
    "\n",
    "def cubic_roots(a, b, c, d):\n",
    "    p = (3 * a * c - b**2) / (3 * a**2)\n",
    "    q = (2 * b**3 - 9 * a * b * c + 27 * a**2 * d) / (27 * a**3)\n",
    "    delta = (q / 2)**2 + (p / 3)**3\n",
    "    \n",
    "    # Case 1: Delta > 0 (1 real root, 2 complex roots)\n",
    "    if delta > 0:\n",
    "        u1 = (-q / 2 + cmath.sqrt(delta))**(1/3)\n",
    "        u2 = (-q / 2 - cmath.sqrt(delta))**(1/3)\n",
    "        root1 = u1 + u2 - b / (3 * a)\n",
    "        return [root1]\n",
    "    \n",
    "    # Case 2: Delta = 0 (3 real roots, at least 2 are equal)\n",
    "    elif delta == 0:\n",
    "        if q >= 0:\n",
    "            u = (-q / 2)**(1/3)\n",
    "        else:\n",
    "            u = (q / 2)**(1/3)\n",
    "        root1 = 2 * u - b / (3 * a)\n",
    "        root2 = -u - b / (3 * a)\n",
    "        return [root1, root2]\n",
    "    \n",
    "    # Case 3: Delta < 0 (3 real roots)\n",
    "    else:\n",
    "        r = cmath.sqrt((q / 2)**2 - delta)\n",
    "        theta = cmath.phase(r + (q / 2) * 1j)\n",
    "        rho = cmath.sqrt(r)\n",
    "        u1 = rho * cmath.exp((theta + 0j) / 3)\n",
    "        u2 = rho * cmath.exp((theta + 2j * cmath.pi) / 3)\n",
    "        u3 = rho * cmath.exp((theta + 4j * cmath.pi) / 3)\n",
    "        root1 = u1 - b / (3 * a)\n",
    "        root2 = u2 - b / (3 * a)\n",
    "        root3 = u3 - b / (3 * a)\n",
    "        return [root1, root2, root3]\n",
    "\n",
    "# Input coefficients of the cubic equation\n",
    "a = float(input(\"Enter coefficient a: \"))\n",
    "b = float(input(\"Enter coefficient b: \"))\n",
    "c = float(input(\"Enter coefficient c: \"))\n",
    "d = float(input(\"Enter coefficient d: \"))\n",
    "\n",
    "# Find the roots using Cardano's formula\n",
    "roots = cubic_roots(a, b, c, d)\n",
    "\n",
    "# Display the roots\n",
    "print(\"Roots of the cubic equation:\")\n",
    "for idx, root in enumerate(roots):\n",
    "    print(f\"Root {idx + 1}: {root}\")\n"
   ]
  },
  {
   "cell_type": "markdown",
   "id": "7a678ddb-d7e5-4fcc-90c4-fcd7639a67f6",
   "metadata": {
    "jp-MarkdownHeadingCollapsed": true,
    "tags": []
   },
   "source": [
    "## Advanced Level:"
   ]
  },
  {
   "cell_type": "markdown",
   "id": "4ba0fff9-3866-4e25-a79e-9c8370f28dd1",
   "metadata": {},
   "source": [
    "21. Create a program that calculates the income tax based on the user's income and tax brackets."
   ]
  },
  {
   "cell_type": "code",
   "execution_count": 6,
   "id": "9c7e8e29-d754-4c42-aff5-91a2fecec0f6",
   "metadata": {},
   "outputs": [
    {
     "name": "stdin",
     "output_type": "stream",
     "text": [
      "Enter your income:  100000\n"
     ]
    },
    {
     "name": "stdout",
     "output_type": "stream",
     "text": [
      "Income tax to pay is; $20000.0\n"
     ]
    }
   ],
   "source": [
    "def calculate_income_tax(income):\n",
    "    # Define tax brackets and corresponding tax rates\n",
    "    brackets = [10000,30000,60000,100000] # Income brackets\n",
    "    rates = [0.1,0.2,0.3,0.4]# Corresponding tax rates\n",
    "    \n",
    "    # tax will be zero intiaally\n",
    "    \n",
    "    tax = 0\n",
    "     # Iterating through each tax bracket and calculate tax\n",
    "    for i in range(len(brackets)):\n",
    "        if income > brackets[i]:\n",
    "            # For the last bracket, calculate tax at the highest rate\n",
    "            if i == len(brackets)-1:\n",
    "                tax += rates[i]*(income-brackets[i])\n",
    "            else:\n",
    "                 # For other brackets, calculate tax within the bracket range\n",
    "                tax += rates[i]*(brackets[i+1]- brackets[i])\n",
    "        else:\n",
    "             # Stop if income is within the current bracket\n",
    "            break\n",
    "                \n",
    "    return tax\n",
    "\n",
    "# Get user input for income\n",
    "income = float(input('Enter your income: '))\n",
    "\n",
    "# Calculate income tax\n",
    "tax = calculate_income_tax(income)\n",
    "\n",
    "# dispalying results\n",
    "print('Income tax to pay is; $'+str(tax))\n",
    "\n",
    "   "
   ]
  },
  {
   "cell_type": "markdown",
   "id": "21732329-b158-4a83-84f0-081cb00cf9c8",
   "metadata": {},
   "source": [
    "22. Write a program that simulates a rock-paper-scissors game against the computer."
   ]
  },
  {
   "cell_type": "code",
   "execution_count": 12,
   "id": "3558e526-6be9-4ac1-8226-dab708d7495a",
   "metadata": {},
   "outputs": [
    {
     "name": "stdin",
     "output_type": "stream",
     "text": [
      "Enter your choce (rock,paper or scissors):  scssors\n"
     ]
    },
    {
     "name": "stdout",
     "output_type": "stream",
     "text": [
      "Invalid choice. Please choose rock, paper, or scissors.\n"
     ]
    },
    {
     "name": "stdin",
     "output_type": "stream",
     "text": [
      "Enter your choce (rock,paper or scissors):  scissors\n"
     ]
    },
    {
     "name": "stdout",
     "output_type": "stream",
     "text": [
      "you chose:  scissors\n",
      "the computer chose:  scissors\n",
      "It's a Tie!!!\n",
      "play again,we need a winner...\n"
     ]
    },
    {
     "name": "stdin",
     "output_type": "stream",
     "text": [
      "Enter your choce (rock,paper or scissors):  paper\n"
     ]
    },
    {
     "name": "stdout",
     "output_type": "stream",
     "text": [
      "you chose:  paper\n",
      "the computer chose:  scissors\n",
      "you lose!!!\n"
     ]
    },
    {
     "name": "stdin",
     "output_type": "stream",
     "text": [
      "do you want to play again? enter (y/n):  n\n"
     ]
    }
   ],
   "source": [
    "import random\n",
    "def play_game():\n",
    "    choices = ['rock', 'paper', 'scissors']\n",
    "    while True:\n",
    "        user_choice = input('Enter your choce (rock,paper or scissors): ')\n",
    "        if user_choice not in choices:\n",
    "            print('Invalid choice. Please choose rock, paper, or scissors.')\n",
    "            continue\n",
    "        computer_choice = random.choice(choices)\n",
    "        \n",
    "        print('you chose: ',user_choice)\n",
    "        print('the computer chose: ',computer_choice)\n",
    "        \n",
    "        if user_choice == computer_choice:\n",
    "            print(\"It's a Tie!!!\")\n",
    "            print('play again,we need a winner...')\n",
    "            continue\n",
    "        elif (user_choice == 'rock' and computer_choice == 'scissors') or \\\n",
    "             (user_choice == 'paper' and computer_choice == 'rock') or \\\n",
    "             (user_choice == 'scissors' and computer_choice == 'paper'):\n",
    "            print('you win!!!')\n",
    "        else:\n",
    "            print('you lose!!!')\n",
    "        \n",
    "        \n",
    "        play_again = input('do you want to play again? enter (y/n): ').lower()\n",
    "        \n",
    "        if play_again == 'n':\n",
    "            break\n",
    "             \n",
    "\n",
    "# Run the game\n",
    "play_game()"
   ]
  },
  {
   "cell_type": "markdown",
   "id": "6d278d00-fc23-4735-afb5-831c7cbf3588",
   "metadata": {},
   "source": [
    "23. Develop a program that generates a random password based on user preferences (length, complexity)."
   ]
  },
  {
   "cell_type": "code",
   "execution_count": 5,
   "id": "55a77823-00c3-44fd-80f8-c94ffda010a4",
   "metadata": {},
   "outputs": [
    {
     "name": "stdout",
     "output_type": "stream",
     "text": [
      "generate your password..\n"
     ]
    },
    {
     "name": "stdin",
     "output_type": "stream",
     "text": [
      "Enter password length 10\n",
      "Include lowercase leters? (y/n):  y\n",
      "Include uppercase letters? (y/n):  n\n",
      "Include digits? (y/n):  y\n",
      "Include special characters? (y/n):  n\n"
     ]
    },
    {
     "name": "stdout",
     "output_type": "stream",
     "text": [
      "Generated password:  ovs5mwgu3k\n"
     ]
    }
   ],
   "source": [
    "import random\n",
    "import string\n",
    "def random_password(length, use_lowercase=True, use_uppercase=True, use_digits=True, use_special_chars=True):\n",
    "    characters = ''\n",
    "    \n",
    "    if use_lowercase:\n",
    "        characters += string.ascii_lowercase\n",
    "    if use_uppercase:\n",
    "        characters += string.ascii_uppercase\n",
    "    if use_digits:\n",
    "        characters += string.digits\n",
    "    if use_special_chars:\n",
    "        characters += string.punctuation\n",
    "        \n",
    "     # Generate the password\n",
    "    password = ''.join(random.choice(characters) for i in range(length))\n",
    "    return password\n",
    "\n",
    "print('generate your password..')\n",
    "    \n",
    "# getting user preferences\n",
    "length = int(input('Enter password length'))\n",
    "use_lowercase = input('Include lowercase leters? (y/n): ').lower() == 'y'\n",
    "use_uppercase = input('Include uppercase letters? (y/n): ').lower() == 'y'\n",
    "use_digits = input('Include digits? (y/n): ').lower() == 'y'\n",
    "use_special_chars = input('Include special characters? (y/n): ').lower() == 'y'\n",
    "    \n",
    "# Generate the password\n",
    "password = random_password(length,use_lowercase,use_uppercase,use_digits,use_special_chars)\n",
    "    \n",
    "# displaying pasword\n",
    "print('Generated password: ',password)\n"
   ]
  },
  {
   "cell_type": "markdown",
   "id": "b165c9a7-8c42-45fd-8e6d-6d71883ad1d7",
   "metadata": {},
   "source": [
    "24. Create a program that implements a simple text-based adventure game with branching scenarios."
   ]
  },
  {
   "cell_type": "code",
   "execution_count": 17,
   "id": "39bf6f67-ccd9-4c4b-a08c-1263d59def66",
   "metadata": {},
   "outputs": [
    {
     "name": "stdout",
     "output_type": "stream",
     "text": [
      "Welcome to the text-based Adventure Game!\n",
      "You find yourself in a mysterious forest...\n",
      "Your Adventure begins!\n",
      "You see a path to the left and a cave to the right.\n",
      "what do you want to do?\n",
      "1.Go left to the path\n",
      "2.Enter the cave\n"
     ]
    },
    {
     "name": "stdin",
     "output_type": "stream",
     "text": [
      "Enter the number of your choice:  1\n"
     ]
    },
    {
     "name": "stdout",
     "output_type": "stream",
     "text": [
      "You follow the path.\n",
      "You find a hidden treasure!\n",
      "Congratulations! You win!\n"
     ]
    }
   ],
   "source": [
    "import time\n",
    "\n",
    "def introduction():\n",
    "    print('Welcome to the text-based Adventure Game!')\n",
    "    time.sleep(2)\n",
    "    print('You find yourself in a mysterious forest...')\n",
    "    time.sleep(3)\n",
    "    print('Your Adventure begins!')\n",
    "\n",
    "def make_choice(prompt, options):\n",
    "    print(prompt)\n",
    "    \n",
    "    for i, option in enumerate(options, start=1):\n",
    "        print(f'{i}.{option}')\n",
    "    while True:\n",
    "        choice = input('Enter the number of your choice: ')\n",
    "        if choice.isdigit() and 1 <= int(choice) <= len(options):\n",
    "            return int(choice)\n",
    "        else:\n",
    "            print('Invalid choice. Please try a valid option')\n",
    "        \n",
    "def forest_scenario():\n",
    "    time.sleep(3)\n",
    "    print(\"You see a path to the left and a cave to the right.\")\n",
    "    choice = make_choice('what do you want to do?',['Go left to the path','Enter the cave'])\n",
    "    \n",
    "    if choice == 1:\n",
    "        print(\"You follow the path.\")\n",
    "        time.sleep(2)\n",
    "        print(\"You find a hidden treasure!\")\n",
    "        print(\"Congratulations! You win!\")\n",
    "    else:\n",
    "        print(\"You enter the cave.\")\n",
    "        time.sleep(2)\n",
    "        print(\"It's too dark and you get lost.\")\n",
    "        print(\"Game over.\")\n",
    "\n",
    "\n",
    "        \n",
    "introduction()\n",
    "forest_scenario()"
   ]
  },
  {
   "cell_type": "markdown",
   "id": "dec71d6d-3264-4376-8e82-b19126c7fbb9",
   "metadata": {},
   "source": [
    "25. Build a program that solves a linear equation for x, considering different cases."
   ]
  },
  {
   "cell_type": "code",
   "execution_count": 20,
   "id": "859a48f3-ad64-49ed-8754-ae778c04f4eb",
   "metadata": {},
   "outputs": [
    {
     "name": "stdout",
     "output_type": "stream",
     "text": [
      "Linear Equation Solver (ax + b = 0)\n"
     ]
    },
    {
     "name": "stdin",
     "output_type": "stream",
     "text": [
      "Enter the value of 'a':  10\n",
      "Enter the value of 'b':  20\n"
     ]
    },
    {
     "name": "stdout",
     "output_type": "stream",
     "text": [
      "Solution: The solution is x = -2.0\n"
     ]
    }
   ],
   "source": [
    "def solve_linear_equation(a, b):\n",
    "    if a == 0:\n",
    "        if b == 0:\n",
    "            return \"Infinite solutions (any x is a solution)\"\n",
    "        else:\n",
    "            return \"No solution (contradiction)\"\n",
    "    else:\n",
    "        x = -b / a\n",
    "        return f\"The solution is x = {x}\"\n",
    "\n",
    "\n",
    "print(\"Linear Equation Solver (ax + b = 0)\")\n",
    "a = float(input(\"Enter the value of 'a': \"))\n",
    "b = float(input(\"Enter the value of 'b': \"))\n",
    "\n",
    "solution = solve_linear_equation(a, b)\n",
    "print(\"Solution:\", solution)\n",
    "\n"
   ]
  },
  {
   "cell_type": "markdown",
   "id": "b7a974df-fe02-44f4-bdad-ca6607165bad",
   "metadata": {},
   "source": [
    "26. Write a program that simulates a basic quiz game with multiple-choice questions and scoring."
   ]
  },
  {
   "cell_type": "code",
   "execution_count": 4,
   "id": "7937197d-e55d-4e0f-b39a-e1ba88231e2e",
   "metadata": {},
   "outputs": [
    {
     "name": "stdout",
     "output_type": "stream",
     "text": [
      "welcome to this quiz game..\n",
      "What is the capital of France?\n",
      "1. Paris\n",
      "2. Berlin\n",
      "3. London\n"
     ]
    },
    {
     "name": "stdin",
     "output_type": "stream",
     "text": [
      "Enter the number of your answer:  1\n"
     ]
    },
    {
     "name": "stdout",
     "output_type": "stream",
     "text": [
      "correct!\n",
      "\n",
      "Which planet is known as the 'Red Planet'?\n",
      "1. Earth\n",
      "2. Mars\n",
      "3. Jupiter\n"
     ]
    },
    {
     "name": "stdin",
     "output_type": "stream",
     "text": [
      "Enter the number of your answer:  2\n"
     ]
    },
    {
     "name": "stdout",
     "output_type": "stream",
     "text": [
      "correct!\n",
      "\n",
      "What is the largest mammal?\n",
      "1. Elephant\n",
      "2. Blue Whale\n",
      "3. Giraffe\n"
     ]
    },
    {
     "name": "stdin",
     "output_type": "stream",
     "text": [
      "Enter the number of your answer:  2\n"
     ]
    },
    {
     "name": "stdout",
     "output_type": "stream",
     "text": [
      "correct!\n",
      "\n",
      "what is the only continent with land in all 4 hemispheres\n",
      "1. Europe\n",
      "2. Arica\n",
      "3. North America\n"
     ]
    },
    {
     "name": "stdin",
     "output_type": "stream",
     "text": [
      "Enter the number of your answer:  2\n"
     ]
    },
    {
     "name": "stdout",
     "output_type": "stream",
     "text": [
      "wrong answer. the correct answer is: Africa\n",
      "\n",
      "you scored:  100.0 %\n",
      "Excellent!!!\n"
     ]
    }
   ],
   "source": [
    "def run_quiz(questions):\n",
    "    score = 0\n",
    "    \n",
    "    for question,options, correct_option in questions:\n",
    "        print(question)\n",
    "        for i , option in enumerate(options, start=1):\n",
    "            print(f'{i}. {option}')\n",
    "            \n",
    "        user_answer = int(input('Enter the number of your answer: '))\n",
    "        if user_answer and 1 <= int(user_answer) <= len(options):\n",
    "            user_choice = user_answer\n",
    "            if options[user_choice -1] == correct_option:\n",
    "                print('correct!\\n')\n",
    "                score +=10\n",
    "            else:\n",
    "                print(f'wrong answer. the correct answer is: {correct_option}\\n')\n",
    "        else:\n",
    "            print('invalid input.skipping this question.\\n')\n",
    "    return score\n",
    "\n",
    "\n",
    "print('welcome to this quiz game..')\n",
    "\n",
    "quiz_questions = [\n",
    "        (\"What is the capital of France?\", [\"Paris\", \"Berlin\", \"London\"], \"Paris\"),\n",
    "        (\"Which planet is known as the 'Red Planet'?\", [\"Earth\", \"Mars\", \"Jupiter\"], \"Mars\"),\n",
    "        (\"What is the largest mammal?\", [\"Elephant\", \"Blue Whale\", \"Giraffe\"], \"Blue Whale\"),\n",
    "        ('what is the only continent with land in all 4 hemispheres',['Europe','Arica','North America'], 'Africa')\n",
    "    ]\n",
    "\n",
    "    \n",
    "score = run_quiz(quiz_questions)    \n",
    "\n",
    "percentage = (score*100)/30\n",
    "if percentage == 100:\n",
    "    comment = 'Excellent!!!'\n",
    "elif percentage >= 75:\n",
    "    comment = 'well done!!'\n",
    "elif percentage >= 50:\n",
    "    comment = 'good!'\n",
    "elif percentage >= 25:\n",
    "    comment = 'can do better'\n",
    "else:\n",
    "    comment = 'Failed'\n",
    "print('you scored: ',percentage,'%')\n",
    "print(comment)\n"
   ]
  },
  {
   "cell_type": "markdown",
   "id": "f628bf21-cf4b-4ba4-9ae6-96360593b9e6",
   "metadata": {},
   "source": [
    "27. Develop a program that determines whether a given year is a prime number or not."
   ]
  },
  {
   "cell_type": "code",
   "execution_count": 5,
   "id": "3bab4e9e-ba46-427b-97b4-b861996175ca",
   "metadata": {},
   "outputs": [
    {
     "name": "stdin",
     "output_type": "stream",
     "text": [
      "Enter a year to check if it's a prime number:  2020\n"
     ]
    },
    {
     "name": "stdout",
     "output_type": "stream",
     "text": [
      "2020 is not a prime number.\n"
     ]
    }
   ],
   "source": [
    "def is_prime(year):\n",
    "    if year < 2:\n",
    "        return False\n",
    "    \n",
    "    for i in range(2, int(year**0.5) + 1):\n",
    "        if year % i == 0:\n",
    "            return False\n",
    "    \n",
    "    return True\n",
    "\n",
    "year = int(input(\"Enter a year to check if it's a prime number: \"))\n",
    "    \n",
    "if is_prime(year):\n",
    "    print(f\"{year} is a prime number.\")\n",
    "else:\n",
    "    print(f\"{year} is not a prime number.\")\n"
   ]
  },
  {
   "cell_type": "markdown",
   "id": "370bf625-334d-4d8a-9b5b-eabffcf47637",
   "metadata": {},
   "source": [
    "28. Create a program that sorts three numbers in ascending order using conditional statements."
   ]
  },
  {
   "cell_type": "code",
   "execution_count": 7,
   "id": "d2cf5256-13b3-490d-b06b-4f664ebf4fcd",
   "metadata": {},
   "outputs": [
    {
     "name": "stdin",
     "output_type": "stream",
     "text": [
      "Enter the first number:  40\n",
      "Enter the second number:  70\n",
      "Enter the third number:  100\n"
     ]
    },
    {
     "name": "stdout",
     "output_type": "stream",
     "text": [
      "Numbers in ascending order: (40.0, 70.0, 100.0)\n"
     ]
    }
   ],
   "source": [
    "def sort_numbers(num1, num2, num3):\n",
    "    # Find the smallest number\n",
    "    smallest = min(num1, num2, num3)\n",
    "    \n",
    "    # Find the largest number\n",
    "    largest = max(num1, num2, num3)\n",
    "    \n",
    "    # Calculate the middle number\n",
    "    middle = num1 + num2 + num3 - smallest - largest\n",
    "    \n",
    "    return smallest, middle, largest\n",
    "\n",
    "\n",
    "\n",
    "num1 = float(input(\"Enter the first number: \"))\n",
    "num2 = float(input(\"Enter the second number: \"))\n",
    "num3 = float(input(\"Enter the third number: \"))\n",
    "        \n",
    "sorted_nums = sort_numbers(num1, num2, num3)\n",
    "\n",
    "if sorted_nums:       \n",
    "    print(\"Numbers in ascending order:\", sorted_nums)\n",
    "else:\n",
    "    print(\"Invalid input. Please enter numeric values.\")\n",
    "\n",
    "\n",
    "\n"
   ]
  },
  {
   "cell_type": "markdown",
   "id": "991ad06a-57cb-459d-85f1-b00833ca19ee",
   "metadata": {},
   "source": [
    "29. Build a program that determines the roots of a quartic equation using numerical methods."
   ]
  },
  {
   "cell_type": "code",
   "execution_count": 8,
   "id": "67112d61-3391-4a8d-a2b5-9fa4f89b7f69",
   "metadata": {},
   "outputs": [
    {
     "name": "stdout",
     "output_type": "stream",
     "text": [
      "Approximate root: 0.38196606140909045\n",
      "Value at approximate root: 1.2656542480726785e-14\n"
     ]
    }
   ],
   "source": [
    "def quartic_equation(x, coefficients):\n",
    "    a, b, c, d, e = coefficients\n",
    "    return a * x**4 + b * x**3 + c * x**2 + d * x + e\n",
    "\n",
    "def quartic_derivative(x, coefficients):\n",
    "    a, b, c, d, _ = coefficients\n",
    "    return 4 * a * x**3 + 3 * b * x**2 + 2 * c * x + d\n",
    "\n",
    "def newton_raphson(initial_guess, coefficients, tolerance=1e-6, max_iterations=1000):\n",
    "    x = initial_guess\n",
    "    for i in range(max_iterations):\n",
    "        f_x = quartic_equation(x, coefficients)\n",
    "        f_prime_x = quartic_derivative(x, coefficients)\n",
    "        \n",
    "        if abs(f_prime_x) < tolerance:\n",
    "            return x\n",
    "        \n",
    "        x = x - f_x / f_prime_x\n",
    "    \n",
    "    print(\"Newton-Raphson did not converge to a root.\")\n",
    "    return None\n",
    "\n",
    "\n",
    "coefficients = [1, -6, 11, -6, 1]  # Coefficients of the quartic equation\n",
    "    \n",
    "# Initial guess for the root\n",
    "initial_guess = 1.0\n",
    "    \n",
    "root = newton_raphson(initial_guess, coefficients)\n",
    "    \n",
    "if root is not None:\n",
    "    print(\"Approximate root:\", root)\n",
    "    print(\"Value at approximate root:\", quartic_equation(root, coefficients))\n",
    "\n"
   ]
  },
  {
   "cell_type": "markdown",
   "id": "c6a2f801-cf79-4be4-9bf9-c714ac25d816",
   "metadata": {},
   "source": [
    "30. Write a program that calculates the BMI (Body Mass Index) and provides health recommendations based\n",
    "on the user's input."
   ]
  },
  {
   "cell_type": "code",
   "execution_count": 9,
   "id": "48a7ce26-0569-46dc-ac17-c6c98c0479bc",
   "metadata": {},
   "outputs": [
    {
     "name": "stdout",
     "output_type": "stream",
     "text": [
      "BMI Calculator and Health Recommendations\n"
     ]
    },
    {
     "name": "stdin",
     "output_type": "stream",
     "text": [
      "Enter your weight (in kg):  63\n",
      "Enter your height (in meters):  1.74\n"
     ]
    },
    {
     "name": "stdout",
     "output_type": "stream",
     "text": [
      "Your BMI is: 20.81\n",
      "Health recommendation: You have a healthy weight. Maintain a balanced diet and regular physical activity.\n"
     ]
    }
   ],
   "source": [
    "def calculate_bmi(weight, height):\n",
    "    # Formula to calculate BMI: weight (kg) / (height (m))^2\n",
    "    return weight / (height ** 2)\n",
    "\n",
    "def get_health_recommendation(bmi):\n",
    "    if bmi < 18.5:\n",
    "        return \"You are underweight. It's important to reach a healthy weight. Consult a healthcare professional.\"\n",
    "    elif 18.5 <= bmi < 24.9:\n",
    "        return \"You have a healthy weight. Maintain a balanced diet and regular physical activity.\"\n",
    "    elif 25 <= bmi < 29.9:\n",
    "        return \"You are overweight. Consider improving your diet and increasing physical activity.\"\n",
    "    else:\n",
    "        return \"You are obese. It's crucial to consult a healthcare professional for advice and support.\"\n",
    "\n",
    "\n",
    "print(\"BMI Calculator and Health Recommendations\")\n",
    "weight = float(input(\"Enter your weight (in kg): \"))\n",
    "height = float(input(\"Enter your height (in meters): \"))\n",
    "\n",
    "bmi = calculate_bmi(weight, height)\n",
    "print(f\"Your BMI is: {bmi:.2f}\")\n",
    "\n",
    "recommendation = get_health_recommendation(bmi)\n",
    "print(\"Health recommendation:\", recommendation)\n",
    "\n"
   ]
  },
  {
   "cell_type": "markdown",
   "id": "289b5373-a462-4d74-9ee9-0579e7827a71",
   "metadata": {
    "tags": []
   },
   "source": [
    "## Challenge Level:"
   ]
  },
  {
   "cell_type": "markdown",
   "id": "8fc0dc05-b292-4541-9cbc-c7bb1a47b38b",
   "metadata": {},
   "source": [
    "31. Create a program that validates a password based on complexity rules (length, characters, etc.)."
   ]
  },
  {
   "cell_type": "code",
   "execution_count": 2,
   "id": "d39d47df-b472-4589-850c-56cbb2361169",
   "metadata": {},
   "outputs": [
    {
     "name": "stdin",
     "output_type": "stream",
     "text": [
      "Enter a password to validate:  Xyz.1234\n"
     ]
    },
    {
     "name": "stdout",
     "output_type": "stream",
     "text": [
      "Password is valid.\n"
     ]
    }
   ],
   "source": [
    "def validate_password(password):\n",
    "    # Minimum password length\n",
    "    min_length = 8\n",
    "\n",
    "    # Check if password meets the minimum length requirement\n",
    "    if len(password) < min_length:\n",
    "        return False, \"Password must be at least {} characters long.\".format(min_length)\n",
    "\n",
    "    # Check if password contains at least one uppercase letter\n",
    "    if not any(char.isupper() for char in password):\n",
    "        return False, \"Password must contain at least one uppercase letter.\"\n",
    "\n",
    "    # Check if password contains at least one lowercase letter\n",
    "    if not any(char.islower() for char in password):\n",
    "        return False, \"Password must contain at least one lowercase letter.\"\n",
    "\n",
    "    # Check if password contains at least one digit\n",
    "    if not any(char.isdigit() for char in password):\n",
    "        return False, \"Password must contain at least one digit.\"\n",
    "\n",
    "    # Check if password contains at least one special character\n",
    "    special_characters = \"!@#$%^&*()_-+=[]{}|;:,.<>?/`~\"\n",
    "    if not any(char in special_characters for char in password):\n",
    "        return False, \"Password must contain at least one special character (e.g., !@#$%^&*).\"\n",
    "\n",
    "    return True, \"Password is valid.\"\n",
    "\n",
    "\n",
    "while True:\n",
    "    password = input(\"Enter a password to validate: \")\n",
    "    is_valid, message = validate_password(password)\n",
    "    print(message)\n",
    "    if is_valid:\n",
    "        break\n"
   ]
  },
  {
   "cell_type": "markdown",
   "id": "f64eb348-a0e2-43d5-a10e-450475814577",
   "metadata": {},
   "source": [
    "32. Develop a program that performs matrix addition and subtraction based on user input."
   ]
  },
  {
   "cell_type": "code",
   "execution_count": 3,
   "id": "df34f099-effc-4f8a-9a12-ca3ede941e24",
   "metadata": {},
   "outputs": [
    {
     "name": "stdin",
     "output_type": "stream",
     "text": [
      "Enter the number of rows for the matrices:  2\n",
      "Enter the number of columns for the matrices:  2\n"
     ]
    },
    {
     "name": "stdout",
     "output_type": "stream",
     "text": [
      "Enter elements for the first matrix:\n",
      "Enter the elements for the matrix:\n"
     ]
    },
    {
     "name": "stdin",
     "output_type": "stream",
     "text": [
      "Enter element at position (1, 1):  2\n",
      "Enter element at position (1, 2):  2\n",
      "Enter element at position (2, 1):  3\n",
      "Enter element at position (2, 2):  3\n"
     ]
    },
    {
     "name": "stdout",
     "output_type": "stream",
     "text": [
      "\n",
      "Enter elements for the second matrix:\n",
      "Enter the elements for the matrix:\n"
     ]
    },
    {
     "name": "stdin",
     "output_type": "stream",
     "text": [
      "Enter element at position (1, 1):  1\n",
      "Enter element at position (1, 2):  1\n",
      "Enter element at position (2, 1):  2\n",
      "Enter element at position (2, 2):  2\n"
     ]
    },
    {
     "name": "stdout",
     "output_type": "stream",
     "text": [
      "\n",
      "Matrix Addition:\n",
      "3 3\n",
      "5 5\n",
      "\n",
      "Matrix Subtraction:\n",
      "1 1\n",
      "1 1\n"
     ]
    }
   ],
   "source": [
    "def create_matrix(rows, cols):\n",
    "    matrix = []\n",
    "    print(\"Enter the elements for the matrix:\")\n",
    "    for i in range(rows):\n",
    "        row = []\n",
    "        for j in range(cols):\n",
    "            element = int(input(\"Enter element at position ({}, {}): \".format(i+1, j+1)))\n",
    "            row.append(element)\n",
    "        matrix.append(row)\n",
    "    return matrix\n",
    "\n",
    "def add_matrices(matrix1, matrix2):\n",
    "    result_matrix = [[matrix1[i][j] + matrix2[i][j] for j in range(len(matrix1[0]))] for i in range(len(matrix1))]\n",
    "    return result_matrix\n",
    "\n",
    "def subtract_matrices(matrix1, matrix2):\n",
    "    result_matrix = [[matrix1[i][j] - matrix2[i][j] for j in range(len(matrix1[0]))] for i in range(len(matrix1))]\n",
    "    return result_matrix\n",
    "\n",
    "def print_matrix(matrix):\n",
    "    for row in matrix:\n",
    "        print(' '.join(map(str, row)))\n",
    "\n",
    "\n",
    "# Get dimensions of matrices\n",
    "rows = int(input(\"Enter the number of rows for the matrices: \"))\n",
    "cols = int(input(\"Enter the number of columns for the matrices: \"))\n",
    "\n",
    "# Create the matrices\n",
    "print(\"Enter elements for the first matrix:\")\n",
    "matrix1 = create_matrix(rows, cols)\n",
    "\n",
    "print(\"\\nEnter elements for the second matrix:\")\n",
    "matrix2 = create_matrix(rows, cols)\n",
    "\n",
    "# Perform addition and subtraction\n",
    "sum_matrix = add_matrices(matrix1, matrix2)\n",
    "difference_matrix = subtract_matrices(matrix1, matrix2)\n",
    "\n",
    "# Display the results\n",
    "print(\"\\nMatrix Addition:\")\n",
    "print_matrix(sum_matrix)\n",
    "\n",
    "print(\"\\nMatrix Subtraction:\")\n",
    "print_matrix(difference_matrix)\n"
   ]
  },
  {
   "cell_type": "markdown",
   "id": "5d1d5f09-07c7-44ae-8d30-52474dffde7b",
   "metadata": {},
   "source": [
    "33. Write a program that calculates the greatest common divisor (GCD) of two numbers using the Euclidean\n",
    "algorithm."
   ]
  },
  {
   "cell_type": "code",
   "execution_count": 4,
   "id": "5a0468df-8190-496a-ba68-396ebb14415f",
   "metadata": {},
   "outputs": [
    {
     "name": "stdin",
     "output_type": "stream",
     "text": [
      "Enter the first number:  4\n",
      "Enter the second number:  8\n"
     ]
    },
    {
     "name": "stdout",
     "output_type": "stream",
     "text": [
      "The GCD of 4 and 8 is: 4\n"
     ]
    }
   ],
   "source": [
    "def gcd(a, b):\n",
    "    # Ensure a is greater than or equal to b\n",
    "    if a < b:\n",
    "        a, b = b, a\n",
    "\n",
    "    while b:\n",
    "        a, b = b, a % b\n",
    "\n",
    "    return a\n",
    "\n",
    "\n",
    "# Input the two numbers for which you want to find the GCD\n",
    "num1 = int(input(\"Enter the first number: \"))\n",
    "num2 = int(input(\"Enter the second number: \"))\n",
    "\n",
    "# Calculate and print the GCD\n",
    "result = gcd(num1, num2)\n",
    "print(\"The GCD of\", num1, \"and\", num2, \"is:\", result)\n"
   ]
  },
  {
   "cell_type": "markdown",
   "id": "e3ada91f-4ffb-4319-a54a-d8adbbba89ac",
   "metadata": {},
   "source": [
    "34. Build a program that performs matrix multiplication using nested loops and conditional statements."
   ]
  },
  {
   "cell_type": "code",
   "execution_count": 5,
   "id": "a260d469-d6ea-46a9-b84f-8df2355d3ef2",
   "metadata": {},
   "outputs": [
    {
     "name": "stdout",
     "output_type": "stream",
     "text": [
      "Matrix 1:\n",
      "[1, 2]\n",
      "[3, 4]\n",
      "\n",
      "Matrix 2:\n",
      "[5, 6]\n",
      "[7, 8]\n",
      "\n",
      "Result of Matrix Multiplication:\n",
      "[19, 22]\n",
      "[43, 50]\n"
     ]
    }
   ],
   "source": [
    "def matrix_multiplication(matrix1, matrix2):\n",
    "    # Check if the matrices can be multiplied\n",
    "    if len(matrix1[0]) != len(matrix2):\n",
    "        return None\n",
    "\n",
    "    result = []\n",
    "\n",
    "    # Initialize the result matrix with zeros\n",
    "    for i in range(len(matrix1)):\n",
    "        result.append([0] * len(matrix2[0]))\n",
    "\n",
    "    # Perform matrix multiplication\n",
    "    for i in range(len(matrix1)):\n",
    "        for j in range(len(matrix2[0])):\n",
    "            for k in range(len(matrix2)):\n",
    "                result[i][j] += matrix1[i][k] * matrix2[k][j]\n",
    "\n",
    "    return result\n",
    "\n",
    "\n",
    "# Example matrices to demonstrate multiplication\n",
    "matrix1 = [[1, 2], [3, 4]]\n",
    "matrix2 = [[5, 6], [7, 8]]\n",
    "\n",
    "# Perform matrix multiplication\n",
    "result = matrix_multiplication(matrix1, matrix2)\n",
    "\n",
    "# Display the result\n",
    "if result:\n",
    "    print(\"Matrix 1:\")\n",
    "    for row in matrix1:\n",
    "        print(row)\n",
    "\n",
    "    print(\"\\nMatrix 2:\")\n",
    "    for row in matrix2:\n",
    "        print(row)\n",
    "\n",
    "    print(\"\\nResult of Matrix Multiplication:\")\n",
    "    for row in result:\n",
    "        print(row)\n",
    "else:\n",
    "    print(\"Matrices cannot be multiplied. Invalid dimensions.\")\n"
   ]
  },
  {
   "cell_type": "markdown",
   "id": "23002566-cb61-4120-b204-8e2c5e45693b",
   "metadata": {},
   "source": [
    "35. Create a program that simulates a basic text-based tic-tac-toe game against the computer."
   ]
  },
  {
   "cell_type": "code",
   "execution_count": 8,
   "id": "aea23ef6-9869-4b39-bd46-f0990afad71c",
   "metadata": {},
   "outputs": [
    {
     "name": "stdout",
     "output_type": "stream",
     "text": [
      "Welcome to Tic-Tac-Toe against the computer!\n",
      "  |   |  \n",
      "---------\n",
      "  |   |  \n",
      "---------\n",
      "  |   |  \n",
      "---------\n"
     ]
    },
    {
     "name": "stdin",
     "output_type": "stream",
     "text": [
      "Enter your move (row[0-2] and column[0-2] separated by a space):  1 2\n"
     ]
    },
    {
     "name": "stdout",
     "output_type": "stream",
     "text": [
      "  |   | O\n",
      "---------\n",
      "  |   | X\n",
      "---------\n",
      "  |   |  \n",
      "---------\n"
     ]
    },
    {
     "name": "stdin",
     "output_type": "stream",
     "text": [
      "Enter your move (row[0-2] and column[0-2] separated by a space):  1 2\n"
     ]
    },
    {
     "name": "stdout",
     "output_type": "stream",
     "text": [
      "Cell already taken. Try again.\n"
     ]
    },
    {
     "name": "stdin",
     "output_type": "stream",
     "text": [
      "Enter your move (row[0-2] and column[0-2] separated by a space):  1 1\n"
     ]
    },
    {
     "name": "stdout",
     "output_type": "stream",
     "text": [
      "  |   | O\n",
      "---------\n",
      "  | X | X\n",
      "---------\n",
      "O |   |  \n",
      "---------\n"
     ]
    },
    {
     "name": "stdin",
     "output_type": "stream",
     "text": [
      "Enter your move (row[0-2] and column[0-2] separated by a space):  1 0\n"
     ]
    },
    {
     "name": "stdout",
     "output_type": "stream",
     "text": [
      "  |   | O\n",
      "---------\n",
      "X | X | X\n",
      "---------\n",
      "O |   |  \n",
      "---------\n",
      "Congratulations! You win!\n"
     ]
    }
   ],
   "source": [
    "import random\n",
    "\n",
    "def print_board(board):\n",
    "    # Print the tic-tac-toe board\n",
    "    for row in board:\n",
    "        print(\" | \".join(row))\n",
    "        print(\"-\" * 9)\n",
    "\n",
    "def check_winner(board, player):\n",
    "    # Check if the player has won\n",
    "    for row in board:\n",
    "        if all(cell == player for cell in row):\n",
    "            return True\n",
    "    for col in range(3):\n",
    "        if all(row[col] == player for row in board):\n",
    "            return True\n",
    "    if all(board[i][i] == player for i in range(3)) or all(board[i][2 - i] == player for i in range(3)):\n",
    "        return True\n",
    "    return False\n",
    "\n",
    "def get_empty_cells(board):\n",
    "    # Get a list of empty cells on the board\n",
    "    empty_cells = []\n",
    "    for i in range(3):\n",
    "        for j in range(3):\n",
    "            if board[i][j] == ' ':\n",
    "                empty_cells.append((i, j))\n",
    "    return empty_cells\n",
    "\n",
    "def make_computer_move(board):\n",
    "    # Make a random move for the computer\n",
    "    empty_cells = get_empty_cells(board)\n",
    "    return random.choice(empty_cells)\n",
    "\n",
    "if __name__ == \"__main__\":\n",
    "    # Initialize the board\n",
    "    board = [[' ' for _ in range(3)] for _ in range(3)]\n",
    "\n",
    "    print(\"Welcome to Tic-Tac-Toe against the computer!\")\n",
    "\n",
    "    player = 'X'\n",
    "    computer = 'O'\n",
    "\n",
    "    while True:\n",
    "        print_board(board)\n",
    "\n",
    "        # Player's move\n",
    "        while True:\n",
    "            row, col = map(int, input(\"Enter your move (row[0-2] and column[0-2] separated by a space): \").split())\n",
    "            if board[row][col] == ' ':\n",
    "                board[row][col] = player\n",
    "                break\n",
    "            else:\n",
    "                print(\"Cell already taken. Try again.\")\n",
    "\n",
    "        # Check if player wins\n",
    "        if check_winner(board, player):\n",
    "            print_board(board)\n",
    "            print(\"Congratulations! You win!\")\n",
    "            break\n",
    "\n",
    "        # Check for a draw\n",
    "        if all(cell != ' ' for row in board for cell in row):\n",
    "            print_board(board)\n",
    "            print(\"It's a draw!\")\n",
    "            break\n",
    "\n",
    "        # Computer's move\n",
    "        row, col = make_computer_move(board)\n",
    "        board[row][col] = computer\n",
    "\n",
    "        # Check if computer wins\n",
    "        if check_winner(board, computer):\n",
    "            print_board(board)\n",
    "            print(\"Computer wins! Better luck next time.\")\n",
    "            break\n"
   ]
  },
  {
   "cell_type": "markdown",
   "id": "0dff1b8a-724a-4a72-9caf-b136137f0833",
   "metadata": {},
   "source": [
    "36. Write a program that generates Fibonacci numbers up to a specified term using iterative methods."
   ]
  },
  {
   "cell_type": "code",
   "execution_count": 10,
   "id": "d6af5daa-1476-410d-aab4-b8fb6f177a47",
   "metadata": {},
   "outputs": [
    {
     "name": "stdin",
     "output_type": "stream",
     "text": [
      "Enter the number of Fibonacci terms to generate:  10\n"
     ]
    },
    {
     "name": "stdout",
     "output_type": "stream",
     "text": [
      "Fibonacci sequence up to the 10 term(s): [0, 1, 1, 2, 3, 5, 8, 13, 21, 34]\n"
     ]
    }
   ],
   "source": [
    "def generate_fibonacci(n):\n",
    "    fibonacci_sequence = []\n",
    "    \n",
    "    if n <= 0:\n",
    "        return fibonacci_sequence\n",
    "\n",
    "    # Initialize the first two terms\n",
    "    fibonacci_sequence.append(0)\n",
    "    if n == 1:\n",
    "        return fibonacci_sequence\n",
    "\n",
    "    fibonacci_sequence.append(1)\n",
    "    if n == 2:\n",
    "        return fibonacci_sequence\n",
    "\n",
    "    # Generate the rest of the Fibonacci sequence iteratively\n",
    "    for i in range(2, n):\n",
    "        next_fibonacci = fibonacci_sequence[-1] + fibonacci_sequence[-2]\n",
    "        fibonacci_sequence.append(next_fibonacci)\n",
    "\n",
    "    return fibonacci_sequence\n",
    "\n",
    "\n",
    " \n",
    "# Input the number of terms for the Fibonacci sequence\n",
    "n = int(input(\"Enter the number of Fibonacci terms to generate: \"))\n",
    "\n",
    "# Generate and print the Fibonacci sequence\n",
    "fibonacci_sequence = generate_fibonacci(n)\n",
    "print(\"Fibonacci sequence up to the {} term(s):\".format(n), fibonacci_sequence)\n",
    "\n"
   ]
  },
  {
   "cell_type": "markdown",
   "id": "22901dba-b3b4-4a30-bce9-8308bf90f870",
   "metadata": {},
   "source": [
    "37. Develop a program that calculates the nth term of the Fibonacci sequence using memoization."
   ]
  },
  {
   "cell_type": "code",
   "execution_count": 11,
   "id": "50c0c7e0-1406-469d-92e6-391bd97becb4",
   "metadata": {},
   "outputs": [
    {
     "name": "stdin",
     "output_type": "stream",
     "text": [
      "Enter the term (n) for which you want to calculate the Fibonacci number:  12\n"
     ]
    },
    {
     "name": "stdout",
     "output_type": "stream",
     "text": [
      "The Fibonacci number at term 12 is: 144\n"
     ]
    }
   ],
   "source": [
    "def fibonacci_memo(n, memo={}):\n",
    "    # Base cases: Fibonacci(0) = 0, Fibonacci(1) = 1\n",
    "    if n == 0:\n",
    "        return 0\n",
    "    elif n == 1:\n",
    "        return 1\n",
    "    \n",
    "    # Check if the result is already calculated\n",
    "    if n in memo:\n",
    "        return memo[n]\n",
    "    \n",
    "    # Calculate and memoize the Fibonacci sequence using recursion\n",
    "    result = fibonacci_memo(n-1, memo) + fibonacci_memo(n-2, memo)\n",
    "    memo[n] = result\n",
    "    \n",
    "    return result\n",
    "\n",
    "\n",
    "\n",
    "# Input the term for which you want to calculate the Fibonacci number\n",
    "n = int(input(\"Enter the term (n) for which you want to calculate the Fibonacci number: \"))\n",
    "\n",
    "# Calculate and print the nth term of the Fibonacci sequence\n",
    "fibonacci_number = fibonacci_memo(n)\n",
    "print(\"The Fibonacci number at term\", n, \"is:\", fibonacci_number)\n",
    "    "
   ]
  },
  {
   "cell_type": "markdown",
   "id": "b3fc35bf-0171-499d-86bf-3eb755ba8427",
   "metadata": {},
   "source": [
    "38. Create a program that generates a calendar for a given month and year using conditional statements."
   ]
  },
  {
   "cell_type": "code",
   "execution_count": 12,
   "id": "6f165532-57e1-4022-94e3-ac01d926559b",
   "metadata": {},
   "outputs": [
    {
     "name": "stdin",
     "output_type": "stream",
     "text": [
      "Enter the year:  2023\n",
      "Enter the month (1-12):  9\n"
     ]
    },
    {
     "name": "stdout",
     "output_type": "stream",
     "text": [
      "Calendar for September 2023:\n",
      "\n",
      "   September 2023\n",
      "Mo Tu We Th Fr Sa Su\n",
      "             1  2  3\n",
      " 4  5  6  7  8  9 10\n",
      "11 12 13 14 15 16 17\n",
      "18 19 20 21 22 23 24\n",
      "25 26 27 28 29 30\n",
      "\n"
     ]
    }
   ],
   "source": [
    "import calendar\n",
    "\n",
    "def generate_calendar(year, month):\n",
    "    cal = calendar.month(year, month)\n",
    "    return cal\n",
    "\n",
    "\n",
    "  \n",
    "year = int(input(\"Enter the year: \"))\n",
    "month = int(input(\"Enter the month (1-12): \"))\n",
    "\n",
    "if 1 <= month <= 12:\n",
    "    cal = generate_calendar(year, month)\n",
    "    print(f\"Calendar for {calendar.month_name[month]} {year}:\\n\")\n",
    "    print(cal)\n",
    "else:\n",
    "    print(\"Invalid month. Please enter a month between 1 and 12.\")\n",
    "\n",
    "  "
   ]
  },
  {
   "cell_type": "markdown",
   "id": "63262605-a31f-4cf9-8c1b-e13f34079091",
   "metadata": {},
   "source": [
    "39. Build a program that simulates a basic text-based blackjack game against the computer."
   ]
  },
  {
   "cell_type": "code",
   "execution_count": 1,
   "id": "af20e981-0c2e-44d2-ae97-f3cc097cebfc",
   "metadata": {},
   "outputs": [
    {
     "name": "stdout",
     "output_type": "stream",
     "text": [
      "Your hand: Nine of Clubs, King of Diamonds\n",
      "Your hand value: 19\n",
      "Dealer's hand: Two of Clubs, [Hidden Card]\n"
     ]
    },
    {
     "name": "stdin",
     "output_type": "stream",
     "text": [
      "Do you want to hit or stand?  hit\n"
     ]
    },
    {
     "name": "stdout",
     "output_type": "stream",
     "text": [
      "Your hand: Nine of Clubs, King of Diamonds, Eight of Spades\n",
      "Your hand value: 27\n",
      "Dealer's hand: Two of Clubs, [Hidden Card]\n",
      "Dealer wins!\n"
     ]
    }
   ],
   "source": [
    "import random\n",
    "\n",
    "# Initialize deck\n",
    "suits = ['Hearts', 'Diamonds', 'Clubs', 'Spades']\n",
    "ranks = ['Two', 'Three', 'Four', 'Five', 'Six', 'Seven', 'Eight', 'Nine', 'Ten', 'Jack', 'Queen', 'King', 'Ace']\n",
    "deck = [(rank, suit) for suit in suits for rank in ranks]\n",
    "\n",
    "# Define card values\n",
    "card_values = {'Two': 2, 'Three': 3, 'Four': 4, 'Five': 5, 'Six': 6, 'Seven': 7, 'Eight': 8, 'Nine': 9, 'Ten': 10,\n",
    "               'Jack': 10, 'Queen': 10, 'King': 10, 'Ace': 11}\n",
    "\n",
    "# Function to calculate the total value of a hand\n",
    "def calculate_hand_value(hand):\n",
    "    value = 0\n",
    "    num_aces = 0\n",
    "\n",
    "    for card in hand:\n",
    "        rank = card[0]\n",
    "        value += card_values[rank]\n",
    "\n",
    "        if rank == 'Ace':\n",
    "            num_aces += 1\n",
    "\n",
    "    while value > 21 and num_aces:\n",
    "        value -= 10\n",
    "        num_aces -= 1\n",
    "\n",
    "    return value\n",
    "\n",
    "# Function to display the player's and dealer's hands\n",
    "def display_hands(player_hand, dealer_hand):\n",
    "    print(\"Your hand:\", ', '.join([f\"{card[0]} of {card[1]}\" for card in player_hand]))\n",
    "    print(\"Your hand value:\", calculate_hand_value(player_hand))\n",
    "    print(\"Dealer's hand:\", f\"{dealer_hand[0][0]} of {dealer_hand[0][1]}, [Hidden Card]\")\n",
    "\n",
    "# Function to play a round of blackjack\n",
    "def play_blackjack():\n",
    "    # Shuffle the deck\n",
    "    random.shuffle(deck)\n",
    "\n",
    "    # Deal initial cards\n",
    "    player_hand = [deck.pop(), deck.pop()]\n",
    "    dealer_hand = [deck.pop(), deck.pop()]\n",
    "\n",
    "    while calculate_hand_value(player_hand) < 21:\n",
    "        # Display hands\n",
    "        display_hands(player_hand, dealer_hand)\n",
    "\n",
    "        # Ask player to hit or stand\n",
    "        action = input(\"Do you want to hit or stand? \").lower()\n",
    "\n",
    "        if action == 'hit':\n",
    "            player_hand.append(deck.pop())\n",
    "        elif action == 'stand':\n",
    "            break\n",
    "\n",
    "    # Dealer's turn\n",
    "    while calculate_hand_value(dealer_hand) < 17:\n",
    "        dealer_hand.append(deck.pop())\n",
    "\n",
    "    # Display final hands\n",
    "    display_hands(player_hand, dealer_hand)\n",
    "\n",
    "    # Determine the winner\n",
    "    player_value = calculate_hand_value(player_hand)\n",
    "    dealer_value = calculate_hand_value(dealer_hand)\n",
    "\n",
    "    if player_value > 21 or (dealer_value <= 21 and dealer_value >= player_value):\n",
    "        print(\"Dealer wins!\")\n",
    "    else:\n",
    "        print(\"You win!\")\n",
    "\n",
    "# Play the game\n",
    "play_blackjack()\n"
   ]
  },
  {
   "cell_type": "markdown",
   "id": "6ec2a539-76b9-40c2-9ec3-a625452a65f5",
   "metadata": {},
   "source": [
    "40. Write a program that generates the prime factors of a given number using trial division."
   ]
  },
  {
   "cell_type": "code",
   "execution_count": 2,
   "id": "2ab09d02-0980-4b2a-b555-77545eaafb23",
   "metadata": {},
   "outputs": [
    {
     "name": "stdin",
     "output_type": "stream",
     "text": [
      "Enter a positive integer:  9\n"
     ]
    },
    {
     "name": "stdout",
     "output_type": "stream",
     "text": [
      "Prime factors of 9 are: [3, 3]\n"
     ]
    }
   ],
   "source": [
    "def generate_prime_factors(number):\n",
    "    prime_factors = []\n",
    "    divisor = 2\n",
    "\n",
    "    while number > 1:\n",
    "        # Check if the current divisor is a factor\n",
    "        if number % divisor == 0:\n",
    "            prime_factors.append(divisor)\n",
    "            number /= divisor\n",
    "        else:\n",
    "            # If not a factor, try the next divisor\n",
    "            divisor += 1\n",
    "\n",
    "    return prime_factors\n",
    "\n",
    "# Get user input for the number\n",
    "number = int(input(\"Enter a positive integer: \"))\n",
    "if number <= 0:\n",
    "    print(\"Please enter a positive integer.\")\n",
    "else:\n",
    "    prime_factors = generate_prime_factors(number)\n",
    "if len(prime_factors) > 0:\n",
    "    print(\"Prime factors of\", number, \"are:\", prime_factors)\n",
    "else:\n",
    "    print(number, \"is a prime number.\")\n",
    "\n"
   ]
  },
  {
   "cell_type": "code",
   "execution_count": null,
   "id": "e7560a37-34b2-4f5e-b587-f2c15ea0e9a8",
   "metadata": {},
   "outputs": [],
   "source": []
  }
 ],
 "metadata": {
  "kernelspec": {
   "display_name": "Python 3 (ipykernel)",
   "language": "python",
   "name": "python3"
  },
  "language_info": {
   "codemirror_mode": {
    "name": "ipython",
    "version": 3
   },
   "file_extension": ".py",
   "mimetype": "text/x-python",
   "name": "python",
   "nbconvert_exporter": "python",
   "pygments_lexer": "ipython3",
   "version": "3.10.8"
  }
 },
 "nbformat": 4,
 "nbformat_minor": 5
}
