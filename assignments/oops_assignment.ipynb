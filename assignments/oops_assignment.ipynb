{
 "cells": [
  {
   "cell_type": "markdown",
   "id": "1b090cdc-0149-4982-8eb1-6133ed4bc722",
   "metadata": {
    "jp-MarkdownHeadingCollapsed": true,
    "tags": []
   },
   "source": [
    "## CONSTRUCTOR:"
   ]
  },
  {
   "cell_type": "markdown",
   "id": "c58aae7c-9dc8-43f0-acaf-0db40eb09dad",
   "metadata": {},
   "source": [
    "1. What is a constructor in Python? Explain its purpose and usage."
   ]
  },
  {
   "cell_type": "markdown",
   "id": "0913311f-5f29-4679-ac6c-455a2119525b",
   "metadata": {},
   "source": [
    "a constructor is a special method used to initialize objects when you create an instance of a class. It is defined within a class and has a predefined name: __init__. \n",
    "it is  automatically called when you create a new object from that class. Its primary purpose is to set the initial state or attributes of the object."
   ]
  },
  {
   "cell_type": "code",
   "execution_count": 3,
   "id": "e4deac82-97b4-4c60-8800-c3dc5d320428",
   "metadata": {},
   "outputs": [],
   "source": [
    "##usage\n",
    "class MyClass:\n",
    "    def __init__(self, param1, param2):\n",
    "        # Constructor code to initialize object attributes\n",
    "        self.attribute1 = param1\n",
    "        self.attribute2 = param2\n",
    "\n",
    "# Creating an instance of the class and calling the constructor\n",
    "obj = MyClass('value1', 'value2')\n"
   ]
  },
  {
   "cell_type": "markdown",
   "id": "3e661c72-c9d1-45d3-908f-a3cca6fa4cd1",
   "metadata": {},
   "source": [
    "We define a class called MyClass.\n",
    "Inside the class, we define the __init__ constructor method, which takes self as its first parameter (self refers to the instance being created) and any additional parameters you want to initialize the object with (in this case, param1 and param2).\n",
    "Inside the constructor, we set the initial state of the object by assigning values to its attributes (self.attribute1 and self.attribute2) using the parameters passed to the constructor.\n",
    "When you create an instance of the class, like obj = MyClass(value1, value2), the constructor is automatically called with the specified arguments. This initializes the object's attributes, and you can access them using obj.attribute1 and obj.attribute2."
   ]
  },
  {
   "cell_type": "markdown",
   "id": "aedcd06a-86fb-45f8-a064-a775c95c1673",
   "metadata": {},
   "source": [
    "2. Differentiate between a parameterless constructor and a parameterized constructor in Python"
   ]
  },
  {
   "cell_type": "markdown",
   "id": "407cf1cb-aacf-459f-8cde-d205ae63fd10",
   "metadata": {},
   "source": [
    "Parameterless Constructor (also known as the default constructor):\n",
    "\n",
    "A parameterless constructor does not take any explicit parameters other than self.\n",
    "Its purpose is to provide a default initialization for object attributes.\n",
    "It is automatically called when an object is created without passing any arguments.\n",
    "Typically, a parameterless constructor initializes attributes with default values."
   ]
  },
  {
   "cell_type": "code",
   "execution_count": null,
   "id": "540d13e7-d803-4097-969e-0f27fcb56f9e",
   "metadata": {},
   "outputs": [],
   "source": [
    "class MyClass:\n",
    "    def __init__(self):\n",
    "        # Parameterless constructor with default attribute values\n",
    "        self.attribute1 = \"default_value1\"\n",
    "        self.attribute2 = \"default_value2\"\n",
    "\n",
    "# Creating an instance of the class without passing any arguments\n",
    "obj = MyClass()\n"
   ]
  },
  {
   "cell_type": "markdown",
   "id": "2ce14a7e-6d23-4cbd-8424-0eba6d636a10",
   "metadata": {},
   "source": [
    "Parameterized Constructor:\n",
    "\n",
    "A parameterized constructor accepts one or more parameters in addition to self.\n",
    "Its purpose is to initialize object attributes with specific values provided as arguments when creating an object.\n",
    "It is automatically called when an object is created with arguments, and it sets the initial state of the object based on those arguments."
   ]
  },
  {
   "cell_type": "code",
   "execution_count": 1,
   "id": "aaf4b248-8716-46d2-8f75-201330d27b48",
   "metadata": {},
   "outputs": [],
   "source": [
    "class MyClass:\n",
    "    def __init__(self, param1, param2):\n",
    "        # Parameterized constructor initializes attributes with provided values\n",
    "        self.attribute1 = param1\n",
    "        self.attribute2 = param2\n",
    "\n",
    "# Creating an instance of the class and passing arguments to the constructor\n",
    "obj = MyClass(\"value1\", \"value2\")\n"
   ]
  },
  {
   "cell_type": "markdown",
   "id": "f33f05ac-621b-4880-96d8-58f8dcb61a44",
   "metadata": {},
   "source": [
    "3. How do you define a constructor in a Python class? Provide an example"
   ]
  },
  {
   "cell_type": "markdown",
   "id": "24a9c462-7c38-49ab-83df-a75d553457fc",
   "metadata": {},
   "source": [
    "You define a constructor within a class using a special method called __init__. The __init__ method is automatically called when you create an instance of the class, and it is used to initialize the object's attributes."
   ]
  },
  {
   "cell_type": "code",
   "execution_count": 2,
   "id": "864a211a-c557-47cb-a228-06b4f9dd2eec",
   "metadata": {},
   "outputs": [
    {
     "name": "stdout",
     "output_type": "stream",
     "text": [
      "trevor\n",
      "34526326\n"
     ]
    }
   ],
   "source": [
    "class MyClass:\n",
    "    def __init__(self, name, phone_num):\n",
    "        # Constructor code to initialize object attributes\n",
    "        self.name = name\n",
    "        self.phone_num = phone_num\n",
    "\n",
    "# Creating an instance of the class and calling the constructor\n",
    "obj = MyClass(\"trevor\", 34526326)\n",
    "\n",
    "# Accessing object attributes\n",
    "print(obj.name)   \n",
    "print(obj.phone_num)  \n"
   ]
  },
  {
   "cell_type": "markdown",
   "id": "82c9f62e-e404-442e-8081-5319e0be5e9a",
   "metadata": {},
   "source": [
    "we define a class myclass  with  a special method called a constructor which initializes an object with attributes name and phone_num"
   ]
  },
  {
   "cell_type": "markdown",
   "id": "86a4ba48-3f82-45d8-9998-4b1205faa294",
   "metadata": {},
   "source": [
    "4. Explain the `__init__` method in Python and its role in constructors"
   ]
  },
  {
   "cell_type": "markdown",
   "id": "18637a3c-2767-4321-b9a5-26f7735cdc33",
   "metadata": {},
   "source": [
    "the __init__ method is a special dunder method, often referred to as the constructor method, which plays a critical role in initializing objects when you create instances of a class. The name __init__ is a double underscore method that is automatically called when a new object of a class is instantiated. Its primary role is to set the initial state or attributes of the object."
   ]
  },
  {
   "cell_type": "markdown",
   "id": "a63fb32c-a102-4dd0-af01-e505bf34250d",
   "metadata": {},
   "source": [
    "5. In a class named `Person`, create a constructor that initializes the `name` and `age` attributes. Provide an \n",
    "example of creating an object of this class"
   ]
  },
  {
   "cell_type": "code",
   "execution_count": 5,
   "id": "819ff64c-a058-4514-a369-fe160ea1a53b",
   "metadata": {},
   "outputs": [
    {
     "data": {
      "text/plain": [
       "'trevor'"
      ]
     },
     "execution_count": 5,
     "metadata": {},
     "output_type": "execute_result"
    }
   ],
   "source": [
    "#creating class named person\n",
    "class Person:\n",
    "    # Parameterized constructor\n",
    "    def __init__(self,name,age):\n",
    "        #initalizing attributes\n",
    "        self.name = name\n",
    "        self.age = age\n",
    "    \n",
    "# creating an instance of the class person\n",
    "obj1 = Person('trevor',21)\n",
    "obj1.name   \n",
    "    \n",
    "    "
   ]
  },
  {
   "cell_type": "markdown",
   "id": "e846a373-c8e1-41bd-b838-1c6f7512d58e",
   "metadata": {},
   "source": [
    "6. How can you call a constructor explicitly in Python? Give an example."
   ]
  },
  {
   "cell_type": "markdown",
   "id": "56a4c4aa-99d0-4383-ba8d-b9edb960e484",
   "metadata": {},
   "source": [
    "To call a constructor explicitly, you use the class name and the .__init__() method. Here's an example:"
   ]
  },
  {
   "cell_type": "code",
   "execution_count": 12,
   "id": "5e980b93-ad05-4c09-92fd-8ce1f81775b9",
   "metadata": {},
   "outputs": [
    {
     "name": "stdout",
     "output_type": "stream",
     "text": [
      "value1\n",
      "value2\n"
     ]
    }
   ],
   "source": [
    "class MyClass:\n",
    "    def __init__(self, param1, param2):\n",
    "        self.attribute1 = param1\n",
    "        self.attribute2 = param2\n",
    "\n",
    "# Explicitly calling the constructor\n",
    "obj = MyClass.__new__(MyClass)\n",
    "MyClass.__init__(obj, \"value1\", \"value2\")\n",
    "\n",
    "# Accessing object attributes\n",
    "print(obj.attribute1)  \n",
    "print(obj.attribute2)  "
   ]
  },
  {
   "cell_type": "markdown",
   "id": "e471e407-9129-4ed5-a913-275f917a0f48",
   "metadata": {},
   "source": [
    "We use MyClass.__new__(MyClass) to create a new instance of the MyClass class explicitly. The .__new__() method is responsible for creating a new instance.\n",
    "After creating the instance, we call the MyClass.__init__(obj, \"value1\", \"value2\") method explicitly to initialize the object with the desired attribute values. "
   ]
  },
  {
   "cell_type": "markdown",
   "id": "42e523ba-fa07-4df3-a9ad-5635966fe005",
   "metadata": {},
   "source": [
    "7. What is the significance of the `self` parameter in Python constructors? Explain with an example."
   ]
  },
  {
   "cell_type": "markdown",
   "id": "c800ea7d-90a8-447b-a4c3-3faf94538d90",
   "metadata": {},
   "source": [
    " the self parameter plays a crucial role. It represents the instance of the class, i.e., the object being created. The self parameter is not a reserved keyword but is a convention used in Python. It's common practice to name the first parameter of instance methods as self. When you call a constructor, the self parameter is automatically passed, and it refers to the newly created object. You use self to access and manipulate the object's attributes and methods within the class."
   ]
  },
  {
   "cell_type": "code",
   "execution_count": 13,
   "id": "3be02883-cd81-479a-b183-30b27534ac1d",
   "metadata": {},
   "outputs": [
    {
     "name": "stdout",
     "output_type": "stream",
     "text": [
      "Alice\n",
      "30\n",
      "Hi, I'm Alice, and I'm 30 years old.\n"
     ]
    }
   ],
   "source": [
    "class Person:\n",
    "    def __init__(self, name, age):\n",
    "        # Initialize object attributes\n",
    "        self.name = name\n",
    "        self.age = age\n",
    "\n",
    "    def introduce(self):\n",
    "        # A method to introduce the person\n",
    "        print(f\"Hi, I'm {self.name}, and I'm {self.age} years old.\")\n",
    "\n",
    "# Creating an instance of the class\n",
    "person1 = Person(\"Alice\", 30)\n",
    "\n",
    "# Accessing attributes and calling methods using self\n",
    "print(person1.name)  \n",
    "print(person1.age)   \n",
    "person1.introduce()  "
   ]
  },
  {
   "cell_type": "markdown",
   "id": "48a995a1-3cf7-43c2-9976-292d8fa08ad8",
   "metadata": {},
   "source": [
    "8. Discuss the concept of default constructors in Python. When are they used"
   ]
  },
  {
   "cell_type": "markdown",
   "id": "dee41bae-c413-4f15-9fff-9bf07a65d031",
   "metadata": {},
   "source": [
    "a default constructor is a constructor that takes no parameters,it is used to create objects that take default values for its attributes(also known as parameterless constructor)\n",
    "they are used when:\n"
   ]
  },
  {
   "cell_type": "markdown",
   "id": "65b0237b-6258-4cac-9ea3-147db4325a65",
   "metadata": {},
   "source": [
    "Subclassing and Method Overriding: In inheritance, when you create a subclass, you may override the constructor of the parent class. In some cases, you might want to call the parent class's constructor using super().__init__() without any additional parameters."
   ]
  },
  {
   "cell_type": "code",
   "execution_count": 18,
   "id": "2d2c6e39-ee38-4ffb-bfb5-17879aec6490",
   "metadata": {},
   "outputs": [],
   "source": [
    "class ParentClass:\n",
    "    def __init__(self):\n",
    "        self.attribute = \"parent_value\"\n",
    "\n",
    "class ChildClass(ParentClass):\n",
    "    def __init__(self):\n",
    "        super().__init__()  # Call the parent class's constructor\n",
    "        self.child_attribute = \"child_value\"\n"
   ]
  },
  {
   "cell_type": "markdown",
   "id": "f9b2ed13-36bb-4320-ad34-47e06ab4dda8",
   "metadata": {},
   "source": [
    "Default Initialization: You can use a parameterless constructor to set default values for object attributes. This is especially useful when you want to create objects with some initial state without needing specific data at the time of object creation."
   ]
  },
  {
   "cell_type": "code",
   "execution_count": 19,
   "id": "5311549f-fec8-4582-a54b-b7eedb619fbf",
   "metadata": {},
   "outputs": [],
   "source": [
    "class MyClass:\n",
    "    def __init__(self):\n",
    "        # Default constructor to initialize object attributes\n",
    "        self.attribute1 = \"default_value1\"\n",
    "        self.attribute2 = \"default_value2\"\n"
   ]
  },
  {
   "cell_type": "markdown",
   "id": "f82aca07-95be-45f6-aca6-c10fd25f3c64",
   "metadata": {},
   "source": [
    "9. Create a Python class called `Rectangle` with a constructor that initializes the `width` and `height` \n",
    "attributes. Provide a method to calculate the area of the rectangle"
   ]
  },
  {
   "cell_type": "code",
   "execution_count": 10,
   "id": "13a01618-582b-45de-a942-0e2baa7bbe95",
   "metadata": {},
   "outputs": [
    {
     "name": "stdout",
     "output_type": "stream",
     "text": [
      "8\n",
      "4\n",
      "32\n"
     ]
    }
   ],
   "source": [
    "#defining class rectangle\n",
    "class Rectangle:\n",
    "    #Parameterized constructor with widht and height \n",
    "    def __init__(self,width,height):\n",
    "        self.width = width\n",
    "        self.height = height\n",
    "        \n",
    "    def calculate_area(self):\n",
    "        area = self.width * self.height\n",
    "        return area\n",
    "\n",
    "#creating an instance of class rectangle\n",
    "rect1 = Rectangle(8,4)\n",
    "print(rect1.width)   \n",
    "print(rect1.height)\n",
    "print(rect1.calculate_area())"
   ]
  },
  {
   "cell_type": "markdown",
   "id": "4a6eaf20-64b6-4d88-8cee-d234fb3c1c2c",
   "metadata": {},
   "source": [
    "10. How can you have multiple constructors in a Python class? Explain with an example"
   ]
  },
  {
   "cell_type": "markdown",
   "id": "59baddac-30a1-48af-b272-6a13038f2e1f",
   "metadata": {},
   "source": [
    "we can usea decorator called @classmethod. This decorator allows you to turn a regular method into a class method.\n",
    "\n",
    "Unlike regular methods, class methods don’t take the current instance, self, as an argument. Instead, they take the class itself, which is commonly passed in as the cls argument. Using cls to name this argument is a popular convention in the Python community."
   ]
  },
  {
   "cell_type": "code",
   "execution_count": 11,
   "id": "0cd4ccc1-c340-4af8-a0b1-4b308ff352ee",
   "metadata": {},
   "outputs": [
    {
     "name": "stdout",
     "output_type": "stream",
     "text": [
      "arg1: 10, arg2: 0\n",
      "arg1: 20, arg2: 30\n",
      "arg1: 40, arg2: 50\n"
     ]
    }
   ],
   "source": [
    "class MyClass:\n",
    "    def __init__(self, arg1, arg2=0):\n",
    "        self.arg1 = arg1\n",
    "        self.arg2 = arg2\n",
    "\n",
    "    @classmethod\n",
    "    def from_list(cls, arg_list):\n",
    "        # Create an instance using values from a list\n",
    "        return cls(arg_list[0], arg_list[1])\n",
    "\n",
    "    @classmethod\n",
    "    def from_string(cls, input_string):\n",
    "        # Parse a string and create an instance\n",
    "        parts = input_string.split(',')\n",
    "        return cls(int(parts[0]), int(parts[1]))\n",
    "\n",
    "    def display(self):\n",
    "        print(f'arg1: {self.arg1}, arg2: {self.arg2}')\n",
    "\n",
    "# Using the primary constructor\n",
    "obj1 = MyClass(10)\n",
    "obj1.display()\n",
    "\n",
    "# Using the secondary constructor from a list\n",
    "obj2 = MyClass.from_list([20, 30])\n",
    "obj2.display()\n",
    "\n",
    "# Using the secondary constructor from a string\n",
    "obj3 = MyClass.from_string(\"40,50\")\n",
    "obj3.display()\n"
   ]
  },
  {
   "cell_type": "markdown",
   "id": "e657c5ce-107a-4863-9401-7c0ffbcb0bcf",
   "metadata": {},
   "source": [
    "in this example, the MyClass has a primary constructor that takes two arguments, arg1 and arg2, with arg2 having a default value of 0. It also has two class methods, from_list and from_string, which act as alternative constructors. These class methods create instances of the class by using different input formats (a list or a string)."
   ]
  },
  {
   "cell_type": "markdown",
   "id": "4d04e1b4-6c2e-4cbf-8b6c-6c9326af5145",
   "metadata": {},
   "source": [
    "11. What is method overloading, and how is it related to constructors in Python?"
   ]
  },
  {
   "cell_type": "markdown",
   "id": "b996f1d8-9acd-484c-8d63-db1453566b99",
   "metadata": {},
   "source": [
    "Method overloading is a concept in object-oriented programming that allows a class to have multiple methods with the same name but different parameter lists. The method that gets executed is determined by the number, type, and order of the method's parameters when it's called. Method overloading provides a way to define multiple behaviors for methods with the same name based on the context of the method invocation."
   ]
  },
  {
   "cell_type": "markdown",
   "id": "3d9f7690-be12-4f25-ba08-8a331054234b",
   "metadata": {},
   "source": [
    "how it is related to constructors in python:\n",
    "When it comes to constructors in Python, it follows the same rule. You can define only one constructor for a class (i.e., the __init__ method), and if you define multiple __init__ methods with different parameter lists, the last one defined will override any previous ones. You can, however, use default argument values and other techniques to provide some level of flexibility in object initialization, as mentioned in a previous response."
   ]
  },
  {
   "cell_type": "markdown",
   "id": "6f07438f-db0f-4c63-a488-77a3db7be86c",
   "metadata": {},
   "source": [
    "12. Explain the use of the `super()` function in Python constructors. Provide an example."
   ]
  },
  {
   "cell_type": "markdown",
   "id": "ec49bc8b-f4cb-4bac-931c-55878ce5574f",
   "metadata": {},
   "source": [
    "The super() function in Python is used to call a method from a parent or superclass within a subclass. It is often used in constructors to invoke the constructor of the parent class, which can help in initializing the inherited attributes and behavior before adding the specific functionality of the subclass."
   ]
  },
  {
   "cell_type": "code",
   "execution_count": 11,
   "id": "a964340f-78fd-4467-9945-3fcbbd6b183d",
   "metadata": {},
   "outputs": [
    {
     "data": {
      "text/plain": [
       "'doors- 4,brand- toyota'"
      ]
     },
     "execution_count": 11,
     "metadata": {},
     "output_type": "execute_result"
    }
   ],
   "source": [
    "# parent class\n",
    "class Vehicle:\n",
    "    #constructor\n",
    "    def __init__(self,brand):\n",
    "        self.brand = brand\n",
    "    \n",
    "#child class\n",
    "class Car(Vehicle):\n",
    "    def __init__(self, doors,brand):\n",
    "        self.doors = doors\n",
    "        # calling the parent constructor to set the brand\n",
    "        super().__init__(brand)\n",
    "    \n",
    "    # displaying \n",
    "    def display(self):\n",
    "        return f'doors- {self.doors},brand- {self.brand}'\n",
    "    \n",
    "obj = Car(4,'toyota')\n",
    "obj.display()"
   ]
  },
  {
   "cell_type": "markdown",
   "id": "34f3b8b9-6e9d-47c7-a7b7-39d9b1490f63",
   "metadata": {},
   "source": [
    "13. Create a class called `Book` with a constructor that initializes the `title`, `author`, and `published_year` \n",
    "attributes. Provide a method to display book details"
   ]
  },
  {
   "cell_type": "code",
   "execution_count": 13,
   "id": "56e436ee-b1e4-4f08-8eff-175d8e5b4866",
   "metadata": {},
   "outputs": [
    {
     "name": "stdout",
     "output_type": "stream",
     "text": [
      "title: oops explained,\n",
      "author: trevor,\n",
      "published_year: 2020\n"
     ]
    }
   ],
   "source": [
    "class Book:\n",
    "    def __init__(self,title,author,published_year):\n",
    "        self.title = title\n",
    "        self.author = author\n",
    "        self.published_year = published_year\n",
    "        \n",
    "    def display_book(self):\n",
    "        print(f\"title: {self.title},\\nauthor: {self.author},\\npublished_year: {self.published_year}\")\n",
    "\n",
    "book1 = Book('oops explained','trevor','2020')\n",
    "book1.display_book()"
   ]
  },
  {
   "cell_type": "markdown",
   "id": "595e1eb6-ddd6-4aed-b966-a8407fbde2f9",
   "metadata": {},
   "source": [
    "14. Discuss the differences between constructors and regular methods in Python classes."
   ]
  },
  {
   "cell_type": "markdown",
   "id": "45d301ab-4e25-459f-8a96-46a6cc0a941c",
   "metadata": {},
   "source": [
    "Purpose:\n",
    "\n",
    "Constructor (usually __init__ method): Constructors are special methods that are called when an object of the class is created. They are primarily used to initialize the object's attributes, setting the initial state of the object. Constructors are not mandatory, but they are commonly used to ensure that objects are in a valid state upon creation.\n",
    "\n",
    "Regular methods: Regular methods are used to define the behavior and actions that objects of the class can perform. They can operate on the object's attributes and are called on instances of the class to perform specific tasks."
   ]
  },
  {
   "cell_type": "markdown",
   "id": "1122d7ad-fcdb-49f5-92bf-48afd16e96f1",
   "metadata": {},
   "source": [
    "Invocation:\n",
    "\n",
    "Constructor: Constructors are automatically called when an object is created. You don't need to call them explicitly. For example, when you create an object like obj = MyClass(), the __init__ constructor is automatically invoked.\n",
    "\n",
    "Regular methods: Regular methods must be called explicitly on an object, like obj.my_method()"
   ]
  },
  {
   "cell_type": "markdown",
   "id": "29edaee8-c057-44a2-a6f1-9ae7f1d5c635",
   "metadata": {},
   "source": [
    "Call Frequency:\n",
    "\n",
    "Constructor: A class can have only one constructor (__init__ method), and it is called once per object during object creation.\n",
    "\n",
    "Regular methods: A class can have multiple regular methods, and they can be called multiple times on the same or different objects."
   ]
  },
  {
   "cell_type": "markdown",
   "id": "7d30783a-f942-42aa-80e3-2b243794bd62",
   "metadata": {},
   "source": [
    "Return Value:\n",
    "\n",
    "Constructor: Constructors typically don't return anything explicitly. They are responsible for initializing object attributes.\n",
    "\n",
    "Regular methods: Regular methods can return values, perform operations, and modify object attributes."
   ]
  },
  {
   "cell_type": "markdown",
   "id": "348f063e-7d5b-4a94-8067-9b84fe6f73c8",
   "metadata": {},
   "source": [
    "15. Explain the role of the `self` parameter in instance variable initialization within a constructor"
   ]
  },
  {
   "cell_type": "markdown",
   "id": "f4f764a7-7948-4d85-aa62-2f88e38a591e",
   "metadata": {},
   "source": [
    "it is used to refer to the instance of that class that is being created or manipulated.\n",
    "By using self, you ensure that each object's attributes are separate and do not interfere with attributes of other instances of the same class."
   ]
  },
  {
   "cell_type": "markdown",
   "id": "061ec586-5d54-4a58-89e7-8d41ef4c988f",
   "metadata": {},
   "source": [
    "16. How do you prevent a class from having multiple instances by using constructors in Python? Provide an \n",
    "example"
   ]
  },
  {
   "cell_type": "markdown",
   "id": "2b8b5b1d-912e-4e89-a53b-920f8568d84d",
   "metadata": {},
   "source": [
    "you can prevent a class from having multiple instances by using a design pattern called the Singleton pattern. The Singleton pattern ensures that a class has only one instance, and it provides a global point of access to that instance. To implement this pattern, you can override the __new__ method of a class to control instance creation and return the existing instance if it has already been created."
   ]
  },
  {
   "cell_type": "code",
   "execution_count": 15,
   "id": "c38b333d-a926-4284-8c6e-31c58dbeafc2",
   "metadata": {},
   "outputs": [
    {
     "name": "stdout",
     "output_type": "stream",
     "text": [
      "Data for instance 1\n",
      "Data for instance 1\n",
      "True\n"
     ]
    }
   ],
   "source": [
    "class Singleton:\n",
    "    _instance = None  # Private class variable to store the single instance\n",
    "\n",
    "    def __new__(cls):\n",
    "        if cls._instance is None:\n",
    "            cls._instance = super(Singleton, cls).__new__(cls)\n",
    "            cls._instance.initialized = False\n",
    "        return cls._instance\n",
    "\n",
    "    def __init__(self):\n",
    "        if not self.initialized:\n",
    "            # Perform one-time initialization here\n",
    "            self.data = None\n",
    "            self.initialized = True\n",
    "\n",
    "# Usage\n",
    "instance1 = Singleton()\n",
    "instance1.data = \"Data for instance 1\"\n",
    "\n",
    "instance2 = Singleton()\n",
    "\n",
    "print(instance1.data)  # Output: \"Data for instance 1\"\n",
    "print(instance2.data)  # Output: \"Data for instance 1\"\n",
    "\n",
    "# Checking if instance1 and instance2 are the same object\n",
    "print(instance1 is instance2)  \n"
   ]
  },
  {
   "cell_type": "markdown",
   "id": "703afe1f-90bd-4e00-9367-d6bc9de75cec",
   "metadata": {},
   "source": [
    "17. Create a Python class called `Student` with a constructor that takes a list of subjects as a parameter and \n",
    "initializes the `subjects` attribute"
   ]
  },
  {
   "cell_type": "code",
   "execution_count": 18,
   "id": "f60f4f4c-250b-4831-8bf1-a1e9606d5d9a",
   "metadata": {},
   "outputs": [
    {
     "name": "stdout",
     "output_type": "stream",
     "text": [
      "['Math', 'Science', 'History']\n",
      "['English', 'Art']\n"
     ]
    }
   ],
   "source": [
    "class Student:\n",
    "    def __init__(self, subjects):\n",
    "        self.subjects = subjects\n",
    "\n",
    "# Example usage:\n",
    "student1 = Student([\"Math\", \"Science\", \"History\"])\n",
    "student2 = Student([\"English\", \"Art\"])\n",
    "\n",
    "print(student1.subjects)  \n",
    "print(student2.subjects)  "
   ]
  },
  {
   "cell_type": "markdown",
   "id": "50e5cd37-762c-4b4e-b8ab-9d58508327e4",
   "metadata": {},
   "source": [
    "18. What is the purpose of the `__del__` method in Python classes, and how does it relate to constructors?"
   ]
  },
  {
   "cell_type": "markdown",
   "id": "8b530d0e-c025-463a-b824-3f02f1f3c066",
   "metadata": {},
   "source": [
    "The __del__ method relates to constructors (__init__) in the sense that while the constructor is responsible for initializing an object when it is created, the __del__ method is responsible for cleaning up or finalizing the object when it is about to be destroyed. In other words, the constructor sets up the initial state of an object, and the __del__ method performs any necessary cleanup or finalization before the object is removed from memory."
   ]
  },
  {
   "cell_type": "code",
   "execution_count": 19,
   "id": "705335d2-909c-4f09-b912-79f7311c8a6d",
   "metadata": {},
   "outputs": [
    {
     "name": "stdout",
     "output_type": "stream",
     "text": [
      "Object created\n"
     ]
    }
   ],
   "source": [
    "class MyClass:\n",
    "    def __init__(self):\n",
    "        print(\"Object created\")\n",
    "\n",
    "    def __del__(self):\n",
    "        print(\"Object destroyed\")\n",
    "\n",
    "# Create an instance of MyClass\n",
    "obj = MyClass()\n",
    "\n",
    "# Output:\n",
    "# Object created\n",
    "\n",
    "# The object is destroyed when it goes out of scope\n",
    "# or when it is explicitly deleted with 'del' statement\n"
   ]
  },
  {
   "cell_type": "markdown",
   "id": "806d0c46-5cf6-4a5c-93d1-62babc0622da",
   "metadata": {},
   "source": [
    "19. Explain the use of constructor chaining in Python. Provide a practical example."
   ]
  },
  {
   "cell_type": "markdown",
   "id": "ff0b9ed0-d4df-4eda-8015-1fc836ff8475",
   "metadata": {},
   "source": [
    "Constructor chaining in Python refers to the practice of one constructor (usually in a subclass) invoking the constructor of its parent class (superclass). This allows you to reuse the initialization logic defined in the parent class's constructor while also extending or customizing it in the subclass's constructor."
   ]
  },
  {
   "cell_type": "code",
   "execution_count": 20,
   "id": "c3b016af-2bd9-4037-834f-8f6a744d43ce",
   "metadata": {},
   "outputs": [
    {
     "name": "stdout",
     "output_type": "stream",
     "text": [
      "Parent class constructor: Alice\n",
      "Child class constructor: Alice, 10\n"
     ]
    }
   ],
   "source": [
    "class Parent:\n",
    "    def __init__(self, name):\n",
    "        self.name = name\n",
    "        print(f\"Parent class constructor: {self.name}\")\n",
    "\n",
    "class Child(Parent):\n",
    "    def __init__(self, name, age):\n",
    "        super().__init__(name)  # Call the parent class constructor\n",
    "        self.age = age\n",
    "        print(f\"Child class constructor: {self.name}, {self.age}\")\n",
    "\n",
    "# Example usage\n",
    "child = Child(\"Alice\", 10)\n"
   ]
  },
  {
   "cell_type": "markdown",
   "id": "e601a318-944a-4c5a-95e1-ca5f3ac15b9b",
   "metadata": {},
   "source": [
    "20. Create a Python class called `Car` with a default constructor that initializes the `make` and `model` \n",
    "attributes. Provide a method to display car information"
   ]
  },
  {
   "cell_type": "code",
   "execution_count": 26,
   "id": "cdd57805-71f5-4897-bd11-7adea94ab142",
   "metadata": {},
   "outputs": [
    {
     "name": "stdout",
     "output_type": "stream",
     "text": [
      "make: toyota humvee\n",
      "model: 2015\n"
     ]
    }
   ],
   "source": [
    "class Car:\n",
    "    def __init__(self,make,model):\n",
    "        self.make = make\n",
    "        self.model = model\n",
    "        \n",
    "    def car_information(self):\n",
    "        print(f'make: {self.make}\\nmodel: {self.model}')\n",
    "    \n",
    "    \n",
    "car1 = Car('toyota humvee','2015')\n",
    "car1.car_information()"
   ]
  },
  {
   "cell_type": "markdown",
   "id": "6c16f632-c7d8-46d8-bef7-2df0a949fd81",
   "metadata": {
    "jp-MarkdownHeadingCollapsed": true,
    "tags": []
   },
   "source": [
    "## Inheritance:"
   ]
  },
  {
   "cell_type": "markdown",
   "id": "7ecade39-e20a-4863-9f82-51187ce014c4",
   "metadata": {},
   "source": [
    "1. What is inheritance in Python? Explain its significance in object-oriented programming"
   ]
  },
  {
   "cell_type": "markdown",
   "id": "1387da17-9204-4aca-9f69-452244d5375a",
   "metadata": {},
   "source": [
    "Inheritance is a fundamental concept in object-oriented programming (OOP) and is a key feature of the Python programming language. It allows you to create new classes (derived or child classes) that are based on existing classes (base or parent classes). Inheritance enables code reuse and the creation of a hierarchy of classes, where child classes inherit attributes and behaviors (i.e., methods and properties) from their parent classes."
   ]
  },
  {
   "cell_type": "markdown",
   "id": "291647e9-4314-433d-a260-e065f662190d",
   "metadata": {},
   "source": [
    " significance of inheritance in object-oriented programming:\n",
    " \n",
    "Code Reusability: Inheritance allows you to reuse existing code by creating new classes that inherit the attributes and methods of a parent class. This minimizes code duplication and makes your code more maintainable.\n",
    "\n",
    "Hierarchy and Organization: Inheritance provides a way to create a hierarchy of classes, allowing you to represent relationships between different objects more intuitively. For example, you can have a base class called \"Animal\" and derive specific animal types like \"Dog\" and \"Cat\" as child classes.\n",
    "\n",
    "Encapsulation: Inheritance can be used in conjunction with encapsulation to control access to attributes and methods. Parent classes can define attributes or methods as private, protected, or public, and child classes inherit these access levels."
   ]
  },
  {
   "cell_type": "markdown",
   "id": "a83808f0-072a-48b1-aee9-0f5089649835",
   "metadata": {},
   "source": [
    "2. Differentiate between single inheritance and multiple inheritance in Python. Provide examples for each"
   ]
  },
  {
   "cell_type": "markdown",
   "id": "407c0ff8-dd56-49e6-aaf1-8624c9c68dea",
   "metadata": {},
   "source": [
    "Single Inheritance:\n",
    "In single inheritance, a class can inherit from only one base class. It forms a linear hierarchy of classes.\n",
    "This is the most straightforward form of inheritance and is supported by Python.\n",
    "Here's an example of single inheritance:\n",
    "\n",
    "In this example, the Car class inherits from the Vehicle class using single inheritance. The Car class can access the start_engine method from the base class, and it also has its own method, drive."
   ]
  },
  {
   "cell_type": "code",
   "execution_count": 1,
   "id": "5024e833-34c9-4ee0-82b2-19a184c1000a",
   "metadata": {},
   "outputs": [
    {
     "name": "stdout",
     "output_type": "stream",
     "text": [
      "Vehicle engine started.\n",
      "Car is moving.\n"
     ]
    }
   ],
   "source": [
    "class Vehicle:\n",
    "    def start_engine(self):\n",
    "        print(\"Vehicle engine started.\")\n",
    "\n",
    "class Car(Vehicle):\n",
    "    def drive(self):\n",
    "        print(\"Car is moving.\")\n",
    "\n",
    "car = Car()\n",
    "car.start_engine()  # Accessing the base class method\n",
    "car.drive()         # Accessing the derived class method\n"
   ]
  },
  {
   "cell_type": "markdown",
   "id": "a7913025-c674-4fae-9108-d17ebd43cd43",
   "metadata": {},
   "source": [
    "Multiple Inheritance:\n",
    "In multiple inheritance, a class can inherit from more than one base class. This allows a class to inherit attributes and methods from multiple sources.\n",
    "Python supports multiple inheritance, and it can be a powerful but complex feature.\n",
    "Here's an example of multiple inheritance:\n",
    "\n",
    "In this example, the class C inherits from both classes A and B, demonstrating multiple inheritance. The instance of class C can access methods from both parent classes, as well as its own methods."
   ]
  },
  {
   "cell_type": "code",
   "execution_count": 2,
   "id": "ca792901-455b-4e56-8611-ce36f584ae1f",
   "metadata": {},
   "outputs": [
    {
     "name": "stdout",
     "output_type": "stream",
     "text": [
      "Method A from class A.\n",
      "Method B from class B.\n",
      "Method C from class C.\n"
     ]
    }
   ],
   "source": [
    "class A:\n",
    "    def method_A(self):\n",
    "        print(\"Method A from class A.\")\n",
    "\n",
    "class B:\n",
    "    def method_B(self):\n",
    "        print(\"Method B from class B.\")\n",
    "\n",
    "class C(A, B):\n",
    "    def method_C(self):\n",
    "        print(\"Method C from class C.\")\n",
    "\n",
    "obj = C()\n",
    "obj.method_A()  # Accessing method from class A\n",
    "obj.method_B()  # Accessing method from class B\n",
    "obj.method_C()  # Accessing method from class C\n"
   ]
  },
  {
   "cell_type": "markdown",
   "id": "1906ec8e-a4a8-4d19-baf8-d529e1d86152",
   "metadata": {},
   "source": [
    "3. Create a Python class called `Vehicle` with attributes `color` and `speed`. Then, create a child class called \n",
    "`Car` that inherits from `Vehicle` and adds a `brand` attribute. Provide an example of creating a `Car` object"
   ]
  },
  {
   "cell_type": "code",
   "execution_count": 1,
   "id": "baf3566c-c409-4392-b409-f87e0a83855f",
   "metadata": {},
   "outputs": [],
   "source": [
    "class Vehicle:\n",
    "    def __init__(self,color,speed):\n",
    "        self.color = color\n",
    "        self.speed = speed\n",
    "        \n",
    "class Car(Vehicle):\n",
    "    def __init__(self,color,speed,brand):\n",
    "        super().__init__(color,speed)\n",
    "        self.brand = brand\n",
    "        \n",
    "        \n",
    "toyota = Car('green','180','toyota')"
   ]
  },
  {
   "cell_type": "code",
   "execution_count": 4,
   "id": "4c61a06b-e862-4c68-b564-e412d8458e5a",
   "metadata": {},
   "outputs": [
    {
     "name": "stdout",
     "output_type": "stream",
     "text": [
      "green\n",
      " toyota \n",
      " 180\n"
     ]
    }
   ],
   "source": [
    "print(f'{toyota.color}\\n {toyota.brand} \\n {toyota.speed}')"
   ]
  },
  {
   "cell_type": "markdown",
   "id": "676cd006-4d31-49e5-ad47-679f385ec17c",
   "metadata": {},
   "source": [
    "4. Explain the concept of method overriding in inheritance. Provide a practical example"
   ]
  },
  {
   "cell_type": "markdown",
   "id": "78f67ab9-33aa-4812-8300-886135351130",
   "metadata": {},
   "source": [
    "When a method is overridden in a subclass, the subclass version of the method is called instead of the parent class version when the method is invoked on an object of the subclass. This concept allows you to customize the behavior of methods in the derived class while retaining the overall structure and interface of the parent class."
   ]
  },
  {
   "cell_type": "code",
   "execution_count": 22,
   "id": "daefe6df-1fbf-4178-a40d-896f082aa71c",
   "metadata": {},
   "outputs": [],
   "source": [
    "# parent class\n",
    "class Shape:\n",
    "    def area(self):\n",
    "        return 0\n",
    "\n",
    "# child class\n",
    "class Square(Shape):\n",
    "    def __init__(self, side_length):\n",
    "        self.side_length = side_length\n",
    "    \n",
    "    # overiridng area method in parnet class\n",
    "    def area(self):\n",
    "        return self.side_length ** 2\n",
    "        \n",
    "\n",
    "# child class\n",
    "class  Circle(Shape):\n",
    "    def __init__(self, radius):\n",
    "        self.radius = radius\n",
    "    \n",
    "    # area method not overiden,using implementation of parent class\n",
    "        \n",
    "square1 = Square(5)\n",
    "circle1 = Circle(6)"
   ]
  },
  {
   "cell_type": "code",
   "execution_count": 23,
   "id": "e47a9938-dc72-4ed3-9485-bec376acc160",
   "metadata": {},
   "outputs": [
    {
     "name": "stdout",
     "output_type": "stream",
     "text": [
      "25\n"
     ]
    }
   ],
   "source": [
    "print(square1.area())"
   ]
  },
  {
   "cell_type": "code",
   "execution_count": 24,
   "id": "7d0169f4-c83d-4015-ade6-b2519736f351",
   "metadata": {},
   "outputs": [
    {
     "data": {
      "text/plain": [
       "0"
      ]
     },
     "execution_count": 24,
     "metadata": {},
     "output_type": "execute_result"
    }
   ],
   "source": [
    "circle1.area()"
   ]
  },
  {
   "cell_type": "markdown",
   "id": "2db7743d-aa52-4350-a9bb-5a01079abdcf",
   "metadata": {},
   "source": [
    "5. How can you access the methods and attributes of a parent class from a child class in Python? Give an \n",
    "example"
   ]
  },
  {
   "cell_type": "markdown",
   "id": "f2f3fc26-b2e5-4cdd-a6f9-1d0965c506d2",
   "metadata": {},
   "source": [
    "In Python, you can access the methods and attributes of a parent class from a child class using the super() function. super() allows you to call methods and access attributes defined in the parent class within the context of the child class. Here's an example to demonstrate this:"
   ]
  },
  {
   "cell_type": "code",
   "execution_count": 14,
   "id": "6ea9e53f-3064-4678-97b3-4b0f94d9e2cd",
   "metadata": {},
   "outputs": [
    {
     "name": "stdout",
     "output_type": "stream",
     "text": [
      "Child's age is 5\n",
      "Parent's name is Alice\n",
      "Child's name is Alice\n",
      "Parent's name is Bob\n"
     ]
    }
   ],
   "source": [
    "class Parent:\n",
    "    def __init__(self, name):\n",
    "        self.name = name\n",
    "\n",
    "    def show_name(self):\n",
    "        print(f\"Parent's name is {self.name}\")\n",
    "\n",
    "class Child(Parent):\n",
    "    def __init__(self, name, age):\n",
    "        super().__init__(name)  # Call the parent class constructor\n",
    "        self.age = age\n",
    "\n",
    "    def show_age(self):\n",
    "        print(f\"Child's age is {self.age}\")\n",
    "\n",
    "    def show_name(self):\n",
    "        super().show_name()  # Call the parent class method\n",
    "        print(f\"Child's name is {self.name}\")\n",
    "\n",
    "# Create an instance of the Child class\n",
    "child = Child(\"Alice\", 5)\n",
    "\n",
    "# Access methods and attributes from the child class\n",
    "child.show_age()  # Calls the Child class method\n",
    "child.show_name()  # Calls the overridden method in Child, which also calls the Parent method using super()\n",
    "\n",
    "# Access methods and attributes from the parent class\n",
    "parent = Parent(\"Bob\")\n",
    "parent.show_name()\n"
   ]
  },
  {
   "cell_type": "markdown",
   "id": "fe9c7bb5-6589-4702-b788-6f8d7127daf9",
   "metadata": {},
   "source": [
    "6. Discuss the use of the `super()` function in Python inheritance. When and why is it used? Provide an \n",
    "example"
   ]
  },
  {
   "cell_type": "markdown",
   "id": "ef59127a-9c98-4b42-ab51-f697f072e3e0",
   "metadata": {},
   "source": [
    "Accessing Parent Class Methods and Attributes: When a child class inherits from a parent class, you can use super() to access methods and attributes of the parent class. This allows you to reuse and extend the functionality of the parent class.\n",
    "\n",
    "Method Overriding: In many cases, a child class may want to override a method that is already defined in the parent class. By using super(), you can call the parent class's version of the method within the child class and then add additional functionality or customization to it.\n",
    "\n",
    "Constructor Initialization: When a child class has its own constructor (__init__ method), it can call the constructor of the parent class using super().__init__() to initialize the inherited attributes. This is particularly useful when the parent class has some attributes or logic that should be retained in the child class.\n",
    "\n",
    "Multiple Inheritance: In situations involving multiple inheritance (when a class inherits from more than one parent class), super() helps ensure that the method resolution order (MRO) is followed correctly, allowing you to call methods in the intended order."
   ]
  },
  {
   "cell_type": "code",
   "execution_count": 24,
   "id": "4d13ba89-e229-4a5e-8a97-3217e9aea89f",
   "metadata": {},
   "outputs": [],
   "source": [
    "class University:\n",
    "    def __init__(self,name):\n",
    "        self.name = name\n",
    "    \n",
    "    def greetings(self):\n",
    "        return f'hello {self.name}'\n",
    "class Student(University):\n",
    "    def __init__(self,name,course):\n",
    "        super().__init__(name)\n",
    "        self.course = course\n",
    "        \n",
    "    def greetings(self):\n",
    "        return super().greetings()\n",
    "        \n",
    "    "
   ]
  },
  {
   "cell_type": "code",
   "execution_count": 25,
   "id": "caa40294-d0ad-4693-8c88-6695922a35db",
   "metadata": {},
   "outputs": [
    {
     "data": {
      "text/plain": [
       "'hello trevor'"
      ]
     },
     "execution_count": 25,
     "metadata": {},
     "output_type": "execute_result"
    }
   ],
   "source": [
    "student1 = Student('trevor','big data')\n",
    "student1.greetings()"
   ]
  },
  {
   "cell_type": "markdown",
   "id": "37d0a653-ed56-4a18-808b-09d43fe2c877",
   "metadata": {},
   "source": [
    "7. Create a Python class called `Animal` with a method `speak()`. Then, create child classes `Dog` and `Cat` that inherit from `Animal` and override the `speak()` method. Provide an example of using these classes."
   ]
  },
  {
   "cell_type": "code",
   "execution_count": 29,
   "id": "3eedbde0-6cdc-4364-b7cf-df55a7224e38",
   "metadata": {},
   "outputs": [
    {
     "data": {
      "text/plain": [
       "'meowww'"
      ]
     },
     "execution_count": 29,
     "metadata": {},
     "output_type": "execute_result"
    }
   ],
   "source": [
    "# parent class\n",
    "class Animal:\n",
    "    def speak(self):\n",
    "        return 'make a sound'\n",
    "\n",
    "#child class    \n",
    "class Dog(Animal):\n",
    "    def speak(self):\n",
    "        super().speak()\n",
    "        return 'bark wowo'\n",
    "    \n",
    " #child class\n",
    "class Cat(Animal):\n",
    "    def speak(self):\n",
    "        return 'meowww'\n",
    "    \n",
    "    \n",
    "\n",
    "\n",
    "\n",
    "cat = Cat()\n",
    "cat.speak()"
   ]
  },
  {
   "cell_type": "code",
   "execution_count": 30,
   "id": "df3de6ae-f181-4912-8fb4-419eefb27eca",
   "metadata": {},
   "outputs": [
    {
     "data": {
      "text/plain": [
       "'bark wowo'"
      ]
     },
     "execution_count": 30,
     "metadata": {},
     "output_type": "execute_result"
    }
   ],
   "source": [
    "dog = Dog()\n",
    "dog.speak()"
   ]
  },
  {
   "cell_type": "markdown",
   "id": "4298f128-1d36-4603-9350-3111ed913c58",
   "metadata": {},
   "source": [
    "8. Explain the role of the `isinstance()` function in Python and how it relates to inheritance"
   ]
  },
  {
   "cell_type": "markdown",
   "id": "da7cc208-7c01-420d-9ce6-8413ee38a5c7",
   "metadata": {},
   "source": [
    "The isinstance() function in Python is used to check whether an object belongs to a specific class or a tuple of classes. It helps determine if an object is an instance of a particular class or any of its subclasses. This function plays a crucial role in checking the type or class of an object, especially in the context of inheritance."
   ]
  },
  {
   "cell_type": "code",
   "execution_count": 35,
   "id": "80a2b30a-f2fb-4a9f-8ca5-b3586b828141",
   "metadata": {},
   "outputs": [
    {
     "name": "stdout",
     "output_type": "stream",
     "text": [
      "True\n",
      "True\n",
      "True\n",
      "True\n",
      "True\n",
      "Woof!\n",
      "Meow!\n",
      "Unknown animal sound\n"
     ]
    }
   ],
   "source": [
    "class Animal:\n",
    "    def speak(self):\n",
    "        pass\n",
    "\n",
    "class Dog(Animal):\n",
    "    def speak(self):\n",
    "        return \"Woof!\"\n",
    "\n",
    "class Cat(Animal):\n",
    "    def speak(self):\n",
    "        return \"Meow!\"\n",
    "\n",
    "# Create instances of the classes\n",
    "dog = Dog()\n",
    "cat = Cat()\n",
    "animal = Animal()\n",
    "\n",
    "# Check if objects belong to specific classes\n",
    "print(isinstance(dog, Dog)) \n",
    "print(isinstance(dog, Animal)) \n",
    "print(isinstance(cat, Cat))  \n",
    "print(isinstance(cat, Animal))  \n",
    "print(isinstance(animal, Animal))  \n",
    "\n",
    "# Using isinstance() for polymorphism\n",
    "def make_animal_speak(animal_obj):\n",
    "    if isinstance(animal_obj, Animal):\n",
    "        return animal_obj.speak()\n",
    "    else:\n",
    "        return \"Unknown animal sound\"\n",
    "\n",
    "    \n",
    "class Cow:\n",
    "    pass\n",
    "\n",
    "cow = Cow()\n",
    "\n",
    "print(make_animal_speak(dog))  \n",
    "print(make_animal_speak(cat)) \n",
    "print(make_animal_speak(cow))  \n"
   ]
  },
  {
   "cell_type": "markdown",
   "id": "53ebf59f-ea9b-48f2-92f5-014e117a7afa",
   "metadata": {},
   "source": [
    "9. What is the purpose of the `issubclass()` function in Python? Provide an example"
   ]
  },
  {
   "cell_type": "markdown",
   "id": "5953416b-a371-4f06-9331-b5660cb0ccd7",
   "metadata": {},
   "source": [
    "The issubclass() function in Python is used to check whether a given class is a subclass of another class. It allows you to determine the inheritance relationship between two classes, helping you understand if one class is derived from another or if they share a common inheritance hierarchy."
   ]
  },
  {
   "cell_type": "markdown",
   "id": "d57bda6d-14fb-4a80-ad61-cb43d9b7baa6",
   "metadata": {},
   "source": [
    "The issubclass() function takes two arguments:\n",
    "\n",
    "The first argument is the class you want to check if it is a subclass.\n",
    "The second argument is the class you want to check if it's the parent or superclass.\n",
    "The function returns True if the first class is a subclass of the second class, and False otherwise."
   ]
  },
  {
   "cell_type": "code",
   "execution_count": 1,
   "id": "c020f109-e465-4189-a5e9-d8bd8b751d31",
   "metadata": {},
   "outputs": [
    {
     "name": "stdout",
     "output_type": "stream",
     "text": [
      "True False True False\n"
     ]
    }
   ],
   "source": [
    "class Animal:\n",
    "    pass\n",
    "\n",
    "class Mammal(Animal):\n",
    "    pass\n",
    "\n",
    "class Reptile(Animal):\n",
    "    pass\n",
    "\n",
    "class Dog(Mammal):\n",
    "    pass\n",
    "\n",
    "class Cat(Mammal):\n",
    "    pass\n",
    "\n",
    "# Check if Dog is a subclass of Animal\n",
    "result1 = issubclass(Dog, Animal)  # True\n",
    "\n",
    "# Check if Cat is a subclass of Reptile\n",
    "result2 = issubclass(Cat, Reptile)  # False\n",
    "\n",
    "# Check if Mammal is a subclass of Animal\n",
    "result3 = issubclass(Mammal, Animal)  # True\n",
    "\n",
    "# Check if Animal is a subclass of Mammal\n",
    "result4 = issubclass(Animal, Mammal)  # False\n",
    "\n",
    "print(result1, result2, result3, result4)\n"
   ]
  },
  {
   "cell_type": "markdown",
   "id": "3cacec41-5bf0-4b4f-b1e0-f404d1acaf7f",
   "metadata": {},
   "source": [
    "10. Discuss the concept of constructor inheritance in Python. How are constructors inherited in child classes?"
   ]
  },
  {
   "cell_type": "markdown",
   "id": "4b890782-ed5f-4bc8-a20c-21a98579bd39",
   "metadata": {},
   "source": [
    "constructors are special methods in classes that are used for initializing the attributes and properties of an object when an instance of the class is created. A constructor method in Python is typically named __init__"
   ]
  },
  {
   "cell_type": "markdown",
   "id": "a7902455-c121-4122-b2eb-9064345baa24",
   "metadata": {},
   "source": [
    "Here's how constructors are inherited in child classes:\n",
    "\n",
    "Constructor Inheritance: By default, if a child class does not define its own __init__ constructor, it will inherit the constructor from its parent class. This means that the child class will use the constructor of the parent class to initialize its attributes."
   ]
  },
  {
   "cell_type": "code",
   "execution_count": 2,
   "id": "b34eb09c-7590-4778-9c7e-474d65cda816",
   "metadata": {},
   "outputs": [
    {
     "name": "stdout",
     "output_type": "stream",
     "text": [
      "Child's name is Alice\n"
     ]
    }
   ],
   "source": [
    "class Parent:\n",
    "    def __init__(self, name):\n",
    "        self.name = name\n",
    "\n",
    "class Child(Parent):\n",
    "    def print_name(self):\n",
    "        print(f\"Child's name is {self.name}\")\n",
    "\n",
    "child = Child(\"Alice\")\n",
    "child.print_name()  # This works because the child class inherits the constructor\n"
   ]
  },
  {
   "cell_type": "markdown",
   "id": "5dabd307-e00c-4c98-b706-f3942237d4b0",
   "metadata": {},
   "source": [
    "In the example above, the Child class does not define its own constructor, so it inherits the constructor from the Parent class. The name attribute is initialized when creating an instance of the Child class."
   ]
  },
  {
   "cell_type": "markdown",
   "id": "db9877c3-f321-472e-9f04-95f59f51b6a3",
   "metadata": {},
   "source": [
    "Overriding Constructors: Child classes can override the constructor of the parent class by defining their own __init__ method. If the child class has its constructor, the constructor of the parent class is not automatically called. Instead, the child class can call the constructor of the parent class explicitly using super() if needed."
   ]
  },
  {
   "cell_type": "code",
   "execution_count": 3,
   "id": "25867c88-4509-4a1b-8869-30f8a713d8fd",
   "metadata": {},
   "outputs": [
    {
     "name": "stdout",
     "output_type": "stream",
     "text": [
      "Name: Bob, Age: 25\n"
     ]
    }
   ],
   "source": [
    "class Parent:\n",
    "    def __init__(self, name):\n",
    "        self.name = name\n",
    "\n",
    "class Child(Parent):\n",
    "    def __init__(self, name, age):\n",
    "        super().__init__(name)  # Call the constructor of the parent class\n",
    "        self.age = age\n",
    "\n",
    "    def print_details(self):\n",
    "        print(f\"Name: {self.name}, Age: {self.age}\")\n",
    "\n",
    "child = Child(\"Bob\", 25)\n",
    "child.print_details()\n"
   ]
  },
  {
   "cell_type": "markdown",
   "id": "536a0f34-6766-46f7-825c-b5852d5831ef",
   "metadata": {},
   "source": [
    "In this example, the Child class defines its constructor, which takes both a name and an age parameter. It explicitly calls the constructor of the Parent class using super() to initialize the name attribute. Then, it sets the age attribute."
   ]
  },
  {
   "cell_type": "markdown",
   "id": "44d67b3f-8a9a-48a1-afe7-a2fb950df8ae",
   "metadata": {},
   "source": [
    "11. Create a Python class called `Shape` with a method `area()` that calculates the area of a shape. Then, create child classes `Circle` and `Rectangle` that inherit from `Shape` and implement the `area()` method \n",
    "accordingly. Provide an example"
   ]
  },
  {
   "cell_type": "code",
   "execution_count": 4,
   "id": "a65e78ad-4a67-4fdc-b51f-aaa118362af7",
   "metadata": {},
   "outputs": [
    {
     "name": "stdout",
     "output_type": "stream",
     "text": [
      "circle area is 201.06\n",
      "rectangle area is 20.00\n"
     ]
    }
   ],
   "source": [
    "# import math\n",
    "import math\n",
    "class Shape:\n",
    "    # This method will be overridden by child classes\n",
    "    def area(self):\n",
    "        pass\n",
    "    \n",
    "class Circle(Shape):\n",
    "    def __init__(self,radius):\n",
    "        self.radius = radius\n",
    "        \n",
    "    def area(self):\n",
    "        return math.pi * self.radius** 2\n",
    "    \n",
    "class Rectangle(Shape):\n",
    "    def __init__(self,length,width):\n",
    "        self.length = length\n",
    "        self.width = width\n",
    "        \n",
    "    def area(self):\n",
    "        return self.length * self.width\n",
    "    \n",
    "    \n",
    "circle1 = Circle(8)\n",
    "rectangle = Rectangle(4,5)\n",
    "\n",
    "circle_area=circle1.area()\n",
    "rec_area = rectangle.area()\n",
    "\n",
    "print(f'circle area is {circle_area:.2f}')\n",
    "print(f'rectangle area is {rec_area:.2f}')"
   ]
  },
  {
   "cell_type": "markdown",
   "id": "0592ac16-450f-494f-a6b3-51f230e8b687",
   "metadata": {},
   "source": [
    "12. Explain the use of abstract base classes (ABCs) in Python and how they relate to inheritance. Provide an \n",
    "example using the `abc` module"
   ]
  },
  {
   "cell_type": "markdown",
   "id": "6058e927-563f-4fa3-83fa-a6553b478f29",
   "metadata": {},
   "source": [
    "Abstract Base Classes (ABCs) in Python are a way to define abstract classes and abstract methods. Abstract classes are classes that cannot be instantiated themselves and are meant to be subclassed by other classes. Abstract methods are methods declared in abstract classes but have no implementation in the abstract class itself. Subclasses of an abstract class must provide implementations for its abstract methods.\n",
    "\n",
    "In Python, you can create abstract base classes using the abc module. The abc module provides the ABC metaclass for creating abstract classes and the @abstractmethod decorator for marking methods as abstract."
   ]
  },
  {
   "cell_type": "code",
   "execution_count": 5,
   "id": "0c730870-89d9-4ddf-b965-6278a0894a75",
   "metadata": {},
   "outputs": [
    {
     "name": "stdout",
     "output_type": "stream",
     "text": [
      "Area of the circle with radius 5 is: 78.5\n",
      "Area of the rectangle with length 4 and width 6 is: 24\n"
     ]
    }
   ],
   "source": [
    "from abc import ABC, abstractmethod\n",
    "\n",
    "class Shape(ABC):\n",
    "    @abstractmethod\n",
    "    def area(self):\n",
    "        pass\n",
    "\n",
    "class Circle(Shape):\n",
    "    def __init__(self, radius):\n",
    "        self.radius = radius\n",
    "\n",
    "    def area(self):\n",
    "        return 3.14 * self.radius**2\n",
    "\n",
    "class Rectangle(Shape):\n",
    "    def __init__(self, length, width):\n",
    "        self.length = length\n",
    "        self.width = width\n",
    "\n",
    "    def area(self):\n",
    "        return self.length * self.width\n",
    "\n",
    "# Attempt to create an instance of the abstract class will result in a TypeError\n",
    "# shape = Shape()  # This will raise a TypeError\n",
    "\n",
    "circle = Circle(5)\n",
    "rectangle = Rectangle(4, 6)\n",
    "\n",
    "print(f\"Area of the circle with radius 5 is: {circle.area()}\")\n",
    "print(f\"Area of the rectangle with length 4 and width 6 is: {rectangle.area()}\")\n"
   ]
  },
  {
   "cell_type": "markdown",
   "id": "c0e677bc-738f-4808-ac12-aa35653df706",
   "metadata": {},
   "source": [
    "13. How can you prevent a child class from modifying certain attributes or methods inherited from a parent \n",
    "class in Python?"
   ]
  },
  {
   "cell_type": "markdown",
   "id": "b8e5a30b-d83a-4e27-8ed7-bbb5d441f139",
   "metadata": {},
   "source": [
    "Private Attributes and Methods:\n",
    "You can make attributes and methods in the parent class \"private\" by prefixing their names with an underscore, such as _attribute or _method(). This is a convention in Python, indicating that the attribute or method is not intended to be accessed or modified directly by child classes. However, it's important to note that this is a convention rather than a strict access control mechanism, and it doesn't prevent access; it merely signals to developers that these elements are intended for internal use."
   ]
  },
  {
   "cell_type": "code",
   "execution_count": 6,
   "id": "4934d0b8-fedf-4b0a-bd55-9f899f8d578c",
   "metadata": {},
   "outputs": [
    {
     "name": "stdout",
     "output_type": "stream",
     "text": [
      "42\n"
     ]
    }
   ],
   "source": [
    "class Parent:\n",
    "    def __init__(self):\n",
    "        self._private_attribute = 42\n",
    "\n",
    "    def _private_method(self):\n",
    "        print(\"This is a private method.\")\n",
    "\n",
    "class Child(Parent):\n",
    "    def modify_private_attribute(self):\n",
    "        # Attempt to modify the private attribute, which is not recommended\n",
    "        self._private_attribute = 0\n",
    "\n",
    "parent = Parent()\n",
    "child = Child()\n",
    "\n",
    "print(parent._private_attribute)  # Accessing the private attribute is still possible\n",
    "child.modify_private_attribute()   # Modifying the private attribute is possible but discouraged\n"
   ]
  },
  {
   "cell_type": "markdown",
   "id": "73d680bd-410c-45a9-87e6-c947b989a971",
   "metadata": {},
   "source": [
    "Use of Properties:\n",
    "You can define properties in the parent class to control access to attributes. By using properties, you can provide a controlled way to access and modify attributes while adding custom logic to control what happens when they are accessed or modified. This allows you to define \"getter\" and \"setter\" methods to restrict or validate changes."
   ]
  },
  {
   "cell_type": "code",
   "execution_count": 9,
   "id": "78b85cf0-0074-492e-a5cc-3d7c5369d4b1",
   "metadata": {},
   "outputs": [
    {
     "name": "stdout",
     "output_type": "stream",
     "text": [
      "42\n",
      "42\n"
     ]
    }
   ],
   "source": [
    "class Parent:\n",
    "    def __init__(self):\n",
    "        self._protected_attribute = 42\n",
    "\n",
    "    @property\n",
    "    def protected_attribute(self):\n",
    "        return self._protected_attribute\n",
    "\n",
    "    @protected_attribute.setter\n",
    "    def protected_attribute(self, value):\n",
    "        raise AttributeError(\"Modification of protected attribute is not allowed.\")\n",
    "\n",
    "class Child(Parent):\n",
    "    pass\n",
    "\n",
    "parent = Parent()\n",
    "child = Child()\n",
    "\n",
    "print(parent.protected_attribute)  # Accessing the protected attribute through property\n",
    "#child.protected_attribute = 0  # Attempt to modify the protected attribute raises an exception\n",
    "\n",
    "print(child.protected_attribute)  # Accessing the protected attribute in the child is allowed\n"
   ]
  },
  {
   "cell_type": "markdown",
   "id": "a1341350-54f4-421a-b98f-a52ad09b86f5",
   "metadata": {},
   "source": [
    "14. Create a Python class called `Employee` with attributes `name` and `salary`. Then, create a child class \n",
    "`Manager` that inherits from `Employee` and adds an attribute `department`. Provide an example."
   ]
  },
  {
   "cell_type": "code",
   "execution_count": 10,
   "id": "4c6e5c45-4689-4100-aabd-28c08cac02a8",
   "metadata": {},
   "outputs": [
    {
     "name": "stdout",
     "output_type": "stream",
     "text": [
      "Employee Info:\n",
      "Name: Alice\n",
      "Salary: 50000\n",
      "\n",
      "Manager Info:\n",
      "Name: Bob\n",
      "Salary: 80000\n",
      "Department: HR\n"
     ]
    }
   ],
   "source": [
    "class Employee:\n",
    "    def __init__(self, name, salary):\n",
    "        self.name = name\n",
    "        self.salary = salary\n",
    "\n",
    "class Manager(Employee):\n",
    "    def __init__(self, name, salary, department):\n",
    "        super().__init__(name, salary)  # Call the constructor of the parent class\n",
    "        self.department = department\n",
    "\n",
    "    def display_info(self):\n",
    "        print(f\"Name: {self.name}\")\n",
    "        print(f\"Salary: {self.salary}\")\n",
    "        print(f\"Department: {self.department}\")\n",
    "\n",
    "# Example usage:\n",
    "\n",
    "employee1 = Employee(\"Alice\", 50000)\n",
    "manager1 = Manager(\"Bob\", 80000, \"HR\")\n",
    "\n",
    "print(\"Employee Info:\")\n",
    "print(f\"Name: {employee1.name}\")\n",
    "print(f\"Salary: {employee1.salary}\")\n",
    "print(\"\\nManager Info:\")\n",
    "manager1.display_info()\n"
   ]
  },
  {
   "cell_type": "markdown",
   "id": "d11e69d4-6cad-4ccd-8cb2-a276a9d5f4ac",
   "metadata": {},
   "source": [
    "15. Discuss the concept of method overloading in Python inheritance. How does it differ from method \n",
    "overriding?"
   ]
  },
  {
   "cell_type": "markdown",
   "id": "f2fd2b47-59cb-44e2-8ca9-9a7bc6edd84e",
   "metadata": {},
   "source": [
    "Method overloading is about defining multiple methods with the same name but different parameters in the same class, which is not directly supported in Python.\n",
    "\n",
    "Method overriding is about providing a specific implementation of a method in a subclass that is already defined in a superclass, allowing you to customize the behavior of the method for the subclass."
   ]
  },
  {
   "cell_type": "markdown",
   "id": "f4d0b80f-fce1-4d14-a5bd-9c20b2d246b9",
   "metadata": {},
   "source": [
    "in python,you cannot achieve method overloading in the same way as you would in languages like Java. Python does not support method overloading based on the number or types of arguments because Python functions are dynamically typed and arguments are not explicitly declared.\n"
   ]
  },
  {
   "cell_type": "markdown",
   "id": "9ce84840-075f-48d5-86e4-81042eaee04a",
   "metadata": {},
   "source": [
    "16. Explain the purpose of the `__init__()` method in Python inheritance and how it is utilized in child classes"
   ]
  },
  {
   "cell_type": "markdown",
   "id": "ec512090-2292-40a9-99ce-bf785c4bfb65",
   "metadata": {},
   "source": [
    "the __init__() method is a special method called  constructor which is used to initialize the attributes of an object created from a class\n"
   ]
  },
  {
   "cell_type": "code",
   "execution_count": 4,
   "id": "63b31bce-37b9-4ab4-a38d-c53cf3020028",
   "metadata": {},
   "outputs": [],
   "source": [
    "# utilization in child class\n",
    "class Animal:\n",
    "    def __init__(self, name, species):\n",
    "        self.name = name\n",
    "        self.species = species\n",
    "\n",
    "        \n",
    "class Dog(Animal):\n",
    "    \"\"\"using constructor to set name and breed insode constructor we call the parnet constructor to set species \"\"\"\n",
    "    def __init__(self, name, breed):\n",
    "        super().__init__(name, species=\"Dog\")\n",
    "        self.breed = breed\n"
   ]
  },
  {
   "cell_type": "code",
   "execution_count": 5,
   "id": "6885ac26-e197-4a7b-b5df-e92c03a848ee",
   "metadata": {},
   "outputs": [
    {
     "data": {
      "text/plain": [
       "'Golden Retriever'"
      ]
     },
     "execution_count": 5,
     "metadata": {},
     "output_type": "execute_result"
    }
   ],
   "source": [
    "my_dog = Dog(name=\"Buddy\", breed=\"Golden Retriever\")\n",
    "my_dog.breed"
   ]
  },
  {
   "cell_type": "markdown",
   "id": "c78874c3-d548-4c1f-9a51-999ffd7d2270",
   "metadata": {},
   "source": [
    "17. Create a Python class called `Bird` with a method `fly()`. Then, create child classes `Eagle` and `Sparrow` that inherit from `Bird` and implement the `fly()` method differently. Provide an example of using these \n",
    "classes"
   ]
  },
  {
   "cell_type": "code",
   "execution_count": 6,
   "id": "81090380-7a79-4469-a6eb-499eaca07a66",
   "metadata": {},
   "outputs": [
    {
     "name": "stdout",
     "output_type": "stream",
     "text": [
      "Eagles fly high\n",
      "sparrows fly low\n"
     ]
    }
   ],
   "source": [
    "class Bird:\n",
    "    def fly(self):\n",
    "        pass\n",
    "# child classes    \n",
    "class Eagle(Bird):\n",
    "    def fly(self):\n",
    "        return 'Eagles fly high'\n",
    "    \n",
    "class Sparrow(Bird):\n",
    "    def fly(self):\n",
    "        return 'sparrows fly low'\n",
    "    \n",
    " # creating objects   \n",
    "eagle = Eagle()\n",
    "sparrow = Sparrow()\n",
    "\n",
    "print(eagle.fly())\n",
    "print(sparrow.fly())\n"
   ]
  },
  {
   "cell_type": "markdown",
   "id": "6efb9fbe-482e-4b7c-933c-8925cdad07d4",
   "metadata": {},
   "source": [
    "18. What is the \"diamond problem\" in multiple inheritance, and how does Python address it"
   ]
  },
  {
   "cell_type": "markdown",
   "id": "ee536c44-f913-4390-ae2d-eb3a9b74fee1",
   "metadata": {},
   "source": [
    "The \"diamond problem\" is a common issue in programming languages that support multiple inheritance, such as C++ and some versions of Python (prior to Python 3). It occurs when a particular class inherits from two or more classes that have a common base class. This creates an ambiguity in the method resolution order (MRO), making it unclear which method should be called when a method is invoked on the derived class. The name \"diamond problem\" is used because the class hierarchy can resemble a diamond shape."
   ]
  },
  {
   "cell_type": "code",
   "execution_count": 7,
   "id": "05546e91-d75b-4d3a-ae68-63f2266bcab8",
   "metadata": {},
   "outputs": [],
   "source": [
    "class A:\n",
    "    def method(self):\n",
    "        print(\"Method in class A\")\n",
    "\n",
    "class B(A):\n",
    "    def method(self):\n",
    "        print(\"Method in class B\")\n",
    "\n",
    "class C(A):\n",
    "    def method(self):\n",
    "        print(\"Method in class C\")\n",
    "\n",
    "class D(B, C):\n",
    "    pass\n"
   ]
  },
  {
   "cell_type": "markdown",
   "id": "02f9e755-8746-43bd-96ee-8076ee7d2949",
   "metadata": {},
   "source": [
    "In this example, class D inherits from both class B and class C, which, in turn, inherit from class A. When you create an instance of class D and call the method on it, it's unclear which version of the method should be invoked, as both class B and class C override the method from class `A.\n",
    "\n",
    "Python addresses the diamond problem by using a method resolution order (MRO) based on the C3 linearization algorithm. In this algorithm, the MRO is computed at runtime, ensuring that method lookup is predictable and unambiguous."
   ]
  },
  {
   "cell_type": "markdown",
   "id": "33bda082-9760-4136-8081-a3c72ea2cf5e",
   "metadata": {},
   "source": [
    "19. Discuss the concept of \"is-a\" and \"has-a\" relationships in inheritance, and provide examples of each"
   ]
  },
  {
   "cell_type": "markdown",
   "id": "11f63ade-d52a-47a6-abd3-8c4d3754a569",
   "metadata": {},
   "source": [
    "\"is-a\" Relationship (Inheritance):\n",
    "\n",
    "An \"is-a\" relationship, also known as an inheritance relationship, represents a hierarchical relationship between classes where one class is a specialized version of another. This implies that the child class inherits attributes and behaviors from the parent class.\n",
    "In an \"is-a\" relationship, a subclass (child class) is a more specific or specialized type of the superclass (parent class).\n",
    "The child class inherits the properties and methods of the parent class and can add or override them as needed."
   ]
  },
  {
   "cell_type": "code",
   "execution_count": 9,
   "id": "3169a6cf-4de0-47cf-a437-74a15fab58db",
   "metadata": {},
   "outputs": [],
   "source": [
    "class Animal:\n",
    "    def speak(self):\n",
    "        pass\n",
    "\n",
    "class Dog(Animal):\n",
    "    def speak(self):\n",
    "        return \"Woof!\"\n",
    "\n",
    "class Cat(Animal):\n",
    "    def speak(self):\n",
    "        return \"Meow!\"\n",
    "\n",
    "    \n",
    "## Dog and Cat are subclasses of Animal. They inherit the speak method from Animal and provide their own specialized implementations."
   ]
  },
  {
   "cell_type": "markdown",
   "id": "ddecb252-d92f-48ae-ae5e-7cd654d3b2a9",
   "metadata": {},
   "source": [
    "\"has-a\" Relationship (Composition):\n",
    "\n",
    "A \"has-a\" relationship, also known as a composition relationship, represents an association between classes where one class contains an instance of another class as one of its attributes.\n",
    "In a \"has-a\" relationship, the containing class has an object of another class, and it can delegate certain tasks to that object. This is used to model complex objects made up of other objects."
   ]
  },
  {
   "cell_type": "code",
   "execution_count": 1,
   "id": "9a47a573-4572-4df1-929d-c6409839cc76",
   "metadata": {},
   "outputs": [],
   "source": [
    "class Engine:\n",
    "    def start(self):\n",
    "        print(\"Engine started\")\n",
    "\n",
    "class Car:\n",
    "    def __init__(self):\n",
    "        self.engine = Engine()\n",
    "\n",
    "    def start(self):\n",
    "        print(\"Car started\")\n",
    "        self.engine.start()\n"
   ]
  },
  {
   "cell_type": "markdown",
   "id": "6d86ca7a-0d92-49f6-a05f-ba80e156800c",
   "metadata": {},
   "source": [
    "20. Create a Python class hierarchy for a university system. Start with a base class `Person` and create child \n",
    "classes `Student` and `Professor`, each with their own attributes and methods. Provide an example of using \n",
    "these classes in a university context"
   ]
  },
  {
   "cell_type": "code",
   "execution_count": 7,
   "id": "ba3cdbb8-9f0e-4018-804c-bebf65c9a186",
   "metadata": {},
   "outputs": [],
   "source": [
    "# Base class\n",
    "class University:\n",
    "    def __init__(self,name,email,phone_num):\n",
    "        self.name = name\n",
    "        self.email = email\n",
    "        self.phone_num = phone_num\n",
    "     \n",
    "    #this method will be overriden in the child classes\n",
    "    def personal_details(self):\n",
    "        pass\n",
    "#child class\n",
    "class Student(University):\n",
    "    def __init__(self,name,email,phone_num,course):\n",
    "        #calling the parent costructor in order to set the named attributes\n",
    "        super().__init__(name,email,phone_num)\n",
    "        self.course = course\n",
    "     \n",
    "    # overidden method from parent class\n",
    "    def personal_details(self):\n",
    "        return self.name,self.email,self.phone_num,self.course\n",
    "    \n",
    "# child class\n",
    "class Professor(University):\n",
    "    def __init__(self,name,email,phone_num,department):\n",
    "        super().__init__(name,email,phone_num)\n",
    "        self.department = department\n",
    "        \n",
    "    def personal_details(self):\n",
    "        return self.name,self.email,self.phone_num,self.department\n",
    "    \n",
    "    \n"
   ]
  },
  {
   "cell_type": "code",
   "execution_count": 8,
   "id": "30e27f88-0d71-47aa-96b4-c68e84947244",
   "metadata": {},
   "outputs": [
    {
     "data": {
      "text/plain": [
       "('trevor', 'revor@gmail.com', '24213526', 'big data')"
      ]
     },
     "execution_count": 8,
     "metadata": {},
     "output_type": "execute_result"
    }
   ],
   "source": [
    "trevor = Student('trevor','revor@gmail.com','24213526','big data')\n",
    "trevor.personal_details()"
   ]
  },
  {
   "cell_type": "code",
   "execution_count": 9,
   "id": "de073adb-10ab-46f9-b467-04e596a9a68b",
   "metadata": {},
   "outputs": [
    {
     "data": {
      "text/plain": [
       "('yogan', 'yogan24@gmail.com', '54788579', 'computer science')"
      ]
     },
     "execution_count": 9,
     "metadata": {},
     "output_type": "execute_result"
    }
   ],
   "source": [
    "prof = Professor('yogan','yogan24@gmail.com','54788579','computer science')\n",
    "prof.personal_details()"
   ]
  },
  {
   "cell_type": "markdown",
   "id": "d69427fb-4da8-4b41-8143-57eb9b127e9f",
   "metadata": {
    "jp-MarkdownHeadingCollapsed": true,
    "tags": []
   },
   "source": [
    "## Encapsulation"
   ]
  },
  {
   "cell_type": "markdown",
   "id": "75d42b1a-c56b-42d7-8e77-83ac077d52d7",
   "metadata": {},
   "source": [
    "1. Explain the concept of encapsulation in Python. What is its role in object-oriented programming"
   ]
  },
  {
   "cell_type": "markdown",
   "id": "bd41f444-e701-4c9c-b376-25044370cb87",
   "metadata": {},
   "source": [
    "It refers to the practice of bundling the data (attributes) and the methods (functions) that operate on the data into a single unit known as a class. This unit restricts direct access to some of its components and provides controlled access through methods, also known as getters and setters. "
   ]
  },
  {
   "cell_type": "markdown",
   "id": "34619833-defe-405f-9421-33ae5d1c3bda",
   "metadata": {},
   "source": [
    "role in object-oriented  programming:\n",
    "\n",
    "Data Hiding: Encapsulation helps in hiding the internal details and implementation of a class. It restricts direct access to the internal data (attributes), making it private or protected, and allows controlled access through methods\n",
    "\n",
    "Code Reusability: Encapsulation allows for code reuse through the concept of inheritance and composition.\n",
    "\n",
    "Abstraction: Encapsulation encourages the concept of abstraction. By exposing only essential methods and data while hiding the internal complexities, it simplifies the interface to the object.\n",
    "\n",
    "Modularity: Encapsulation promotes modularity in software design. Each class encapsulates a set of related attributes and behaviors, creating a self-contained unit. This makes it easier to understand, maintain, and modify the codebase since changes within a class do not necessarily affect other parts of the program.\n"
   ]
  },
  {
   "cell_type": "markdown",
   "id": "3c049f01-ee91-4fe6-bda9-4b6e834ce92c",
   "metadata": {},
   "source": [
    "2. Describe the key principles of encapsulation, including access control and data hiding"
   ]
  },
  {
   "cell_type": "markdown",
   "id": "79f817e1-34b3-41a5-a81e-023812934b5e",
   "metadata": {},
   "source": [
    "Encapsulation is one of the fundamental principles of object-oriented programming (OOP) that helps in organizing and structuring code. It involves the bundling of data and the methods that operate on that data into a single unit, known as a class."
   ]
  },
  {
   "cell_type": "markdown",
   "id": "5f38cf56-a39b-46c5-ac73-3212d71675ee",
   "metadata": {},
   "source": [
    "Data Hiding:\n",
    "\n",
    "Data hiding is the practice of restricting direct access to the internal state (attributes or variables) of an object. This means that the data within an object is not directly accessible from outside the object, and external code should not be able to modify it directly. Instead, data is encapsulated within the object, and only specific methods (getters and setters) defined in the class are allowed to access or modify the data."
   ]
  },
  {
   "cell_type": "markdown",
   "id": "0de7a0cc-09c9-4cf1-a41c-255e3dafd541",
   "metadata": {},
   "source": [
    "Access Control:\n",
    "    \n",
    "Access control is the mechanism that defines the visibility and accessibility of class members (data and methods) from outside the class. In most object-oriented programming languages, there are different access control modifiers to specify the level of visibility and access permissions for class members. The most common access control modifiers include:\n",
    "\n",
    "Public: Members marked as public are accessible from anywhere in the code, including external classes and objects.\n",
    "\n",
    "Private: Private members are only accessible within the same class and are not visible or accessible from outside the class.\n",
    "\n",
    "Protected: Protected members are accessible within the same class and its subclasses (inheritance), but not from outside classes.\n",
    "\n",
    "Package (or Default): Members with no access control modifier are typically accessible within the same package or namespace, depending on the language."
   ]
  },
  {
   "cell_type": "markdown",
   "id": "3ff41048-6e0b-46d0-8ded-df14d867a124",
   "metadata": {},
   "source": [
    "3. How can you achieve encapsulation in Python classes? Provide an example"
   ]
  },
  {
   "cell_type": "markdown",
   "id": "e0131b40-b644-49fc-b059-0ebafa834460",
   "metadata": {},
   "source": [
    "Encapsulation in Python classes is achieved by using access control modifiers and getter and setter methods. Python does not have strict access control keywords like some other programming languages (e.g., Java or C++), but it uses naming conventions and properties to implement encapsulation"
   ]
  },
  {
   "cell_type": "code",
   "execution_count": 2,
   "id": "f3cc4fde-2b3d-44ee-970d-a03fdcfbf1b1",
   "metadata": {},
   "outputs": [
    {
     "name": "stdout",
     "output_type": "stream",
     "text": [
      "Name: Alice\n",
      "Age: 30\n",
      "Updated Name: Bob\n",
      "Updated Age: 25\n"
     ]
    }
   ],
   "source": [
    "class Person:\n",
    "    def __init__(self, name, age):\n",
    "        self.__name = name  # Private attribute with name mangling\n",
    "        self.__age = age    # Private attribute with name mangling\n",
    "\n",
    "    # Getter methods to access private attributes\n",
    "    def get_name(self):\n",
    "        return self.__name\n",
    "\n",
    "    def get_age(self):\n",
    "        return self.__age\n",
    "\n",
    "    # Setter methods to modify private attributes\n",
    "    def set_name(self, name):\n",
    "        self.__name = name\n",
    "\n",
    "    def set_age(self, age):\n",
    "        if age >= 0:\n",
    "            self.__age = age\n",
    "        else:\n",
    "            print(\"Age cannot be negative.\")\n",
    "\n",
    "# Creating an instance of the Person class\n",
    "person = Person(\"Alice\", 30)\n",
    "\n",
    "# Accessing attributes using getters\n",
    "print(\"Name:\", person.get_name())\n",
    "print(\"Age:\", person.get_age())\n",
    "\n",
    "# Modifying attributes using setters\n",
    "person.set_name(\"Bob\")\n",
    "person.set_age(25)\n",
    "\n",
    "print(\"Updated Name:\", person.get_name())\n",
    "print(\"Updated Age:\", person.get_age())\n"
   ]
  },
  {
   "cell_type": "markdown",
   "id": "bd0d7eea-baf3-48fb-88b5-990d92ff26b4",
   "metadata": {},
   "source": [
    "While Python uses naming conventions and name mangling to achieve encapsulation, it's worth noting that it doesn't provide the same level of access control as some other languages. Developers are expected to follow the convention and respect the privacy of attributes and methods, but there is still a level of trust and responsibility involved in adhering to these practices."
   ]
  },
  {
   "cell_type": "markdown",
   "id": "d50ec481-2519-44e6-ad87-7e06da07909d",
   "metadata": {},
   "source": [
    "4. Discuss the difference between public, private, and protected access modifiers in Python"
   ]
  },
  {
   "cell_type": "markdown",
   "id": "793fb975-283e-4dbf-b977-fdf3f51a0ba8",
   "metadata": {},
   "source": [
    "public:\n",
    "\n",
    "the attributes and methods of a particular class can be accessed and modified both inside and outside the class"
   ]
  },
  {
   "cell_type": "code",
   "execution_count": 3,
   "id": "ee2a413e-2d8b-45e1-a889-e70bf29ce613",
   "metadata": {},
   "outputs": [
    {
     "name": "stdout",
     "output_type": "stream",
     "text": [
      "42\n"
     ]
    }
   ],
   "source": [
    "class MyClass:\n",
    "    def __init__(self):\n",
    "        self.public_variable = 42\n",
    "\n",
    "obj = MyClass()\n",
    "print(obj.public_variable)  # Accessing a public variable\n"
   ]
  },
  {
   "cell_type": "markdown",
   "id": "eb679b29-c065-4ffe-b7a3-da2e104ee305",
   "metadata": {},
   "source": [
    "private:\n",
    "\n",
    "the attributes and methods of a particular class can only be accessed inside that class \n",
    "\n",
    "indicated by prefixing their names with double underscores (e.g., __private_variable). This uses a technique called name mangling, which changes the name of the attribute to make it less accessible from outside the class."
   ]
  },
  {
   "cell_type": "code",
   "execution_count": 6,
   "id": "1c29106e-117c-46c6-8502-b62dcb39ca39",
   "metadata": {},
   "outputs": [
    {
     "name": "stdout",
     "output_type": "stream",
     "text": [
      "42\n"
     ]
    }
   ],
   "source": [
    "class MyClass:\n",
    "    def __init__(self):\n",
    "        self.__private_variable = 42\n",
    "\n",
    "obj = MyClass()\n",
    "# Accessing a private variable using name mangling\n",
    "print(obj._MyClass__private_variable)\n"
   ]
  },
  {
   "cell_type": "markdown",
   "id": "59fdd2a9-5292-4e5b-b021-3d900ac9ee9a",
   "metadata": {},
   "source": [
    "protected:\n",
    "\n",
    "Protected members are accessible within the same class and its subclasses (inheritance), but not from outside classes.\n",
    "    \n",
    " indicated by prefixing their names with a single underscore (e.g., _protected_variable). This is a convention to suggest that these members are intended for internal use within the class and its subclasses."
   ]
  },
  {
   "cell_type": "code",
   "execution_count": 7,
   "id": "8db24444-8a83-4b40-b6e3-f587ce4a9b1d",
   "metadata": {},
   "outputs": [
    {
     "name": "stdout",
     "output_type": "stream",
     "text": [
      "42\n"
     ]
    }
   ],
   "source": [
    "class MyClass:\n",
    "    def __init__(self):\n",
    "        self._protected_variable = 42\n",
    "\n",
    "obj = MyClass()\n",
    "print(obj._protected_variable)  # Accessing a protected variable\n"
   ]
  },
  {
   "cell_type": "markdown",
   "id": "5c031941-66ed-40c6-96c6-28c12f2ad7ff",
   "metadata": {},
   "source": [
    "however its important python are more about signaling intent to other developers rather than enforcing strict access control. "
   ]
  },
  {
   "cell_type": "markdown",
   "id": "e030e12a-c743-4ca5-a1b0-4e70d925a726",
   "metadata": {},
   "source": [
    "5. Create a Python class called `Person` with a private attribute `__name`. Provide methods to get and set the \n",
    "name attribute"
   ]
  },
  {
   "cell_type": "code",
   "execution_count": 13,
   "id": "30c50714-3ab4-456a-85e6-89bbdf554f77",
   "metadata": {},
   "outputs": [],
   "source": [
    "class Person:\n",
    "    def __init__(self,name):\n",
    "        # use of double underscore to define private attribute\n",
    "        self.__name = name\n",
    "        \n",
    "    def get_name(self):\n",
    "        print('name is {}'.format(self.__name))\n",
    "        \n",
    "    def set_name(self,name):\n",
    "        self.__name = name\n",
    "        \n",
    "        \n",
    "person = Person('trevor')\n",
    "        "
   ]
  },
  {
   "cell_type": "code",
   "execution_count": 14,
   "id": "9ec5e759-fb43-44ce-a92f-01dc576f9878",
   "metadata": {},
   "outputs": [
    {
     "name": "stdout",
     "output_type": "stream",
     "text": [
      "name is trevor\n"
     ]
    }
   ],
   "source": [
    "person.get_name()"
   ]
  },
  {
   "cell_type": "code",
   "execution_count": 15,
   "id": "b86695c9-0ecd-42f3-a17a-19a215f9ff20",
   "metadata": {},
   "outputs": [],
   "source": [
    "person.set_name('ken')"
   ]
  },
  {
   "cell_type": "code",
   "execution_count": 16,
   "id": "bfbce60d-0242-48aa-a1bb-8573e64c1417",
   "metadata": {},
   "outputs": [
    {
     "name": "stdout",
     "output_type": "stream",
     "text": [
      "name is ken\n"
     ]
    }
   ],
   "source": [
    "person.get_name()"
   ]
  },
  {
   "cell_type": "markdown",
   "id": "d194475b-c33c-4eeb-ac2c-cd66d3488786",
   "metadata": {},
   "source": [
    "6. Explain the purpose of getter and setter methods in encapsulation. Provide examples"
   ]
  },
  {
   "cell_type": "markdown",
   "id": "c29f7f7d-f64e-44c9-bfae-eb217106d2cd",
   "metadata": {},
   "source": [
    "Getter Methods:\n",
    "\n",
    "Getter methods (also known as accessor methods) are used to retrieve the values of private or protected attributes. They provide controlled access to an object's data, ensuring that the data is accessed in a controlled and predictable manner.\n",
    "Getter methods can include additional logic or validation before returning the attribute's value."
   ]
  },
  {
   "cell_type": "code",
   "execution_count": 21,
   "id": "862ac4af-1fef-49a9-9cac-fca1c0b853e1",
   "metadata": {},
   "outputs": [
    {
     "name": "stdout",
     "output_type": "stream",
     "text": [
      "personal info ('Alice', 30)\n"
     ]
    }
   ],
   "source": [
    "class Person:\n",
    "    def __init__(self, name, age):\n",
    "        self.__name = name  # Private attribute\n",
    "        self.__age = age    # Private attribute\n",
    "\n",
    "    # Getter methods to access private attributes\n",
    "    def get_name_age(self):\n",
    "        return self.__name,self.__age\n",
    "\n",
    "    \n",
    "\n",
    "# Creating an instance of the Person class\n",
    "person = Person(\"Alice\", 30)\n",
    "\n",
    "# Accessing attributes using getter methods\n",
    "info = person.get_name_age()\n",
    "\n",
    "print(\"personal info\", info)\n",
    "\n"
   ]
  },
  {
   "cell_type": "markdown",
   "id": "68ecbb76-c4b8-4956-abdf-4aaf7f19bc99",
   "metadata": {},
   "source": [
    "Setter Methods:\n",
    "\n",
    "Setter methods (also known as mutator methods) are used to modify the values of private or protected attributes. They allow you to enforce rules and constraints when changing the state of an object.\n",
    "Setter methods often include validation logic to ensure that the new value being set is valid."
   ]
  },
  {
   "cell_type": "code",
   "execution_count": 24,
   "id": "6feeab04-31fd-4cdc-965f-163cb5ab304e",
   "metadata": {},
   "outputs": [],
   "source": [
    "class Person:\n",
    "    def __init__(self, name, age):\n",
    "        self.__name = name  # Private attribute\n",
    "        self.__age = age    # Private attribute\n",
    "\n",
    "    # Setter methods to modify private attributes\n",
    "    def set_name(self, name):\n",
    "        self.__name = name\n",
    "\n",
    "    def set_age(self, age):\n",
    "        if age >= 0:\n",
    "            self.__age = age\n",
    "        else:\n",
    "            print(\"Age cannot be negative.\")\n",
    "\n",
    "# Creating an instance of the Person class\n",
    "person = Person(\"Alice\", 30)\n",
    "\n",
    "# Modifying attributes using setter methods\n",
    "person.set_name(\"Bob\")\n",
    "person.set_age(25)\n",
    "\n"
   ]
  },
  {
   "cell_type": "markdown",
   "id": "56a02206-42b6-4edd-b37c-f406f2f68fb4",
   "metadata": {},
   "source": [
    "7. What is name mangling in Python, and how does it affect encapsulation?"
   ]
  },
  {
   "cell_type": "markdown",
   "id": "db2658c3-29fa-4f0b-ab82-cdfe145006bc",
   "metadata": {},
   "source": [
    "The name mangling convention in Python involves adding a double underscore (__) as a prefix to attribute names. When this prefix is applied, Python internally renames the attribute to include the class name as a prefix. This makes it more challenging for external code to access the attribute directly.\n",
    "\n",
    "For example, if a class MyClass has a private attribute named __private_variable, Python internally renames it to _MyClass__private_variable. Here's how it affects encapsulation:"
   ]
  },
  {
   "cell_type": "code",
   "execution_count": 28,
   "id": "3db5a0fd-abbb-45ea-bd1c-b89a3641149f",
   "metadata": {},
   "outputs": [
    {
     "name": "stdout",
     "output_type": "stream",
     "text": [
      "42\n"
     ]
    }
   ],
   "source": [
    "class MyClass:\n",
    "    def __init__(self):\n",
    "        self.__private_variable = 42\n",
    "\n",
    "class SubClass(MyClass):\n",
    "    def access_private_variable(self):\n",
    "        # Accessing the mangled name from a subclass\n",
    "        return self._MyClass__private_variable\n",
    "\n",
    "obj = MyClass()\n",
    "sub_obj = SubClass()\n",
    "\n",
    "#print(obj.__private_variable)  # This will raise an AttributeError\n",
    "print(sub_obj.access_private_variable())  # Accessing the mangled name from a subclass\n"
   ]
  },
  {
   "cell_type": "markdown",
   "id": "8e13c1f1-ccf0-4714-82e9-c14a770c7b2b",
   "metadata": {},
   "source": [
    "8. Create a Python class called `BankAccount` with private attributes for the account balance (`__balance`) and account number (`__account_number`). Provide methods for depositing and withdrawing money"
   ]
  },
  {
   "cell_type": "code",
   "execution_count": 7,
   "id": "9d91c78a-29bd-4dc4-88c1-86d79ffed1d7",
   "metadata": {},
   "outputs": [
    {
     "name": "stdin",
     "output_type": "stream",
     "text": [
      "how much do you want to deposit? 500\n"
     ]
    },
    {
     "name": "stdout",
     "output_type": "stream",
     "text": [
      "you have succussefully deposited 500\n"
     ]
    }
   ],
   "source": [
    "class BankAccount:\n",
    "    def __init__(self,account_number):\n",
    "        self.__balance = 0\n",
    "        self.__account_number = account_number\n",
    "        \n",
    "    def deposit(self):\n",
    "        amount = int(input('how much do you want to deposit?'))\n",
    "        self.__balance += amount\n",
    "        print(f'you have succussefully deposited {amount}')\n",
    "        \n",
    "    def withdraw(self):\n",
    "        amount = int(input('Enter how much you want to withdraw'))\n",
    "        self.__balance -= amount\n",
    "        print(f'you have succussefully withdrawn {amount}')\n",
    "        \n",
    "        \n",
    "    def check_balance(self):\n",
    "        return f'you have {self.__balance} in your account'\n",
    "\n",
    "        \n",
    "        \n",
    "        \n",
    "user = BankAccount('066758458')\n",
    "user.deposit()"
   ]
  },
  {
   "cell_type": "code",
   "execution_count": 8,
   "id": "c6f9452f-ed5d-431e-845a-b515a33b1de1",
   "metadata": {},
   "outputs": [
    {
     "data": {
      "text/plain": [
       "'you have 500 in your account'"
      ]
     },
     "execution_count": 8,
     "metadata": {},
     "output_type": "execute_result"
    }
   ],
   "source": [
    "user.check_balance()"
   ]
  },
  {
   "cell_type": "code",
   "execution_count": 9,
   "id": "bfdd9886-03b9-459b-bd96-14941f2e5a11",
   "metadata": {},
   "outputs": [
    {
     "name": "stdin",
     "output_type": "stream",
     "text": [
      "Enter how much you want to withdraw 200\n"
     ]
    },
    {
     "name": "stdout",
     "output_type": "stream",
     "text": [
      "you have succussefully withdrawn 200\n"
     ]
    }
   ],
   "source": [
    "user.withdraw()"
   ]
  },
  {
   "cell_type": "code",
   "execution_count": 10,
   "id": "4382d934-9c16-446d-8e41-815ff44c85bd",
   "metadata": {},
   "outputs": [
    {
     "data": {
      "text/plain": [
       "'you have 300 in your account'"
      ]
     },
     "execution_count": 10,
     "metadata": {},
     "output_type": "execute_result"
    }
   ],
   "source": [
    "user.check_balance()"
   ]
  },
  {
   "cell_type": "markdown",
   "id": "4c0e83d3-129d-4ca4-ae9c-22fd0f8cc88b",
   "metadata": {},
   "source": [
    "9. Discuss the advantages of encapsulation in terms of code maintainability and security"
   ]
  },
  {
   "cell_type": "markdown",
   "id": "a565ddb1-2ac1-4009-beb1-ce0926004166",
   "metadata": {},
   "source": [
    "Encapsulation  involves bundling the data (attributes) and methods (functions) that operate on the data into a single unit, typically a class\n",
    "\n",
    "advantages in code maintainability\n",
    "\n",
    "Modularity: Encapsulation promotes modularity by organizing code into discrete units. Each class encapsulates a specific functionality, making it easier to understand, update, and maintain.\n",
    "\n",
    "Easier Debugging: Debugging becomes more straightforward as encapsulation allows you to focus on specific modules or classes without having to understand the entire codebase. This isolation of concerns simplifies the process of identifying and fixing issues.\n",
    "\n",
    "advantages in security\n",
    "\n",
    "Access Control: Encapsulation provides a way to control access to the internal state of an object. By using access modifiers (like private or protected), you can restrict direct access to certain data or methods, preventing unauthorized manipulation and ensuring data integrity.\n",
    "\n",
    "Hiding Implementation Details: Encapsulation hides the implementation details of a class, revealing only what is necessary for external use. This reduces the risk of exploitation since potential attackers have limited knowledge of how the class operates internally."
   ]
  },
  {
   "cell_type": "markdown",
   "id": "22af8c65-aaac-446a-b561-3801d6ec1327",
   "metadata": {},
   "source": [
    "10. How can you access private attributes in Python? Provide an example demonstrating the use of name \n",
    "mangling."
   ]
  },
  {
   "cell_type": "markdown",
   "id": "74ca7525-5875-4bd2-85fe-432adbe71025",
   "metadata": {},
   "source": [
    "private attributes are intended to be accessible only within the class that defines them. However, Python uses a concept called \"name mangling\" to make it a bit more difficult (but not impossible) to access these attributes from outside the class.\n",
    "\n",
    "Name mangling is achieved by adding a prefix to the attribute's name, which is formed by combining a double underscore (__) and the name of the attribute. For example, if you have a private attribute called __my_private_attribute, Python internally changes its name to _classname__my_private_attribute, where classname is the name of the class."
   ]
  },
  {
   "cell_type": "code",
   "execution_count": 3,
   "id": "1375a27a-b2c7-4054-ab77-4ba8eace6dcc",
   "metadata": {},
   "outputs": [
    {
     "name": "stdout",
     "output_type": "stream",
     "text": [
      "Value of private attribute: 42\n",
      "Value of private attribute using name mangling: 42\n"
     ]
    }
   ],
   "source": [
    "class MyClass:\n",
    "    def __init__(self):\n",
    "        self.__my_private_attribute = 42\n",
    "\n",
    "    def get_private_attribute(self):\n",
    "        return self.__my_private_attribute\n",
    "\n",
    "# Create an instance of MyClass\n",
    "obj = MyClass()\n",
    "\n",
    "# Access the private attribute using a public method\n",
    "value = obj.get_private_attribute()\n",
    "print(\"Value of private attribute:\", value)\n",
    "\n",
    "# Try to access the private attribute directly (this will raise an AttributeError)\n",
    "# Uncomment the line below to see the error\n",
    "#print(obj.__my_private_attribute)\n",
    "\n",
    "# Access the private attribute using name mangling\n",
    "# Note: This is discouraged and should be avoided in practice\n",
    "mangled_name = obj._MyClass__my_private_attribute\n",
    "print(\"Value of private attribute using name mangling:\", mangled_name)\n"
   ]
  },
  {
   "cell_type": "markdown",
   "id": "6dcce3b3-7a12-4da3-9757-fe3167cdfb12",
   "metadata": {},
   "source": [
    "11. Create a Python class hierarchy for a school system, including classes for students, teachers, and courses, \n",
    "and implement encapsulation principles to protect sensitive information"
   ]
  },
  {
   "cell_type": "code",
   "execution_count": 8,
   "id": "eb2032f0-316b-4747-b772-ec28c139352c",
   "metadata": {},
   "outputs": [],
   "source": [
    "class Person:\n",
    "    def __init__(self,name,age,phone_no):\n",
    "        self.__name = name\n",
    "        self.__age = age\n",
    "        self.__phone_no = phone_no\n",
    "        \n",
    "    def get_name(self):\n",
    "        return self.__name\n",
    "    \n",
    "    def get_age(self):\n",
    "        return self.__age\n",
    "        \n",
    "    def get_phone_no(self):\n",
    "        return self.__phone_no\n",
    "    \n",
    "    \n",
    "class Student(Person):\n",
    "    def __init__(self,name,age,phone_no,student_id):\n",
    "        super().__init__(name,age,phone_no)\n",
    "        self._student_id = student_id\n",
    "        self._courses = []\n",
    "        \n",
    "        \n",
    "    def get_student_id(self):\n",
    "        return self._student_id\n",
    "    \n",
    "    def enroll_course(self,course):\n",
    "        self._courses.append(course)\n",
    "        \n",
    "    def get_enrolled_course(self):\n",
    "        return self._courses\n",
    "    \n",
    "    \n",
    "class Teacher(Person):\n",
    "    def __init__(self,name,age,phone_no,employee_id):\n",
    "        super().__init__(name,age,phone_no)\n",
    "        self._employee_id = employee_id\n",
    "        self.taught_courses = []\n",
    "        \n",
    "        \n",
    "    def get_employee_id(self):\n",
    "        return self.employee_id\n",
    "    \n",
    "    def assign_course(self,course):\n",
    "        self.taught_courses.append(course)\n",
    "        print('course assigned succussefully')\n",
    "        \n",
    "    def get_taught_courses(self):\n",
    "        return self.taught_courses\n",
    "    \n",
    "    \n",
    "class Course:\n",
    "    def __init__(self,course_name,course_code):\n",
    "        self._course_name = course_name\n",
    "        self._course_code = course_code\n",
    "        \n",
    "        \n",
    "    def get_course_code(self):\n",
    "        return self._course_code\n",
    "        \n",
    "    def get_course_name(self):\n",
    "        return self._course_name\n",
    "    \n",
    "    \n",
    "    "
   ]
  },
  {
   "cell_type": "code",
   "execution_count": 9,
   "id": "8c979042-739b-4f85-846a-f74e66623ad7",
   "metadata": {},
   "outputs": [],
   "source": [
    "trevor = Student('trevor',22,43526645,'cit-566')"
   ]
  },
  {
   "cell_type": "code",
   "execution_count": 10,
   "id": "9cc7fd17-1f6a-4881-bb2a-850a5abd41c9",
   "metadata": {},
   "outputs": [
    {
     "data": {
      "text/plain": [
       "'trevor'"
      ]
     },
     "execution_count": 10,
     "metadata": {},
     "output_type": "execute_result"
    }
   ],
   "source": [
    "trevor.get_name()"
   ]
  },
  {
   "cell_type": "code",
   "execution_count": 11,
   "id": "f10d6f56-8f0f-44be-9493-87151bf5acb0",
   "metadata": {},
   "outputs": [],
   "source": [
    "trevor.enroll_course('big data')"
   ]
  },
  {
   "cell_type": "code",
   "execution_count": 12,
   "id": "3057c371-ee65-4dba-95f6-da8acd3ed17f",
   "metadata": {},
   "outputs": [
    {
     "data": {
      "text/plain": [
       "['big data']"
      ]
     },
     "execution_count": 12,
     "metadata": {},
     "output_type": "execute_result"
    }
   ],
   "source": [
    "trevor.get_enrolled_course()"
   ]
  },
  {
   "cell_type": "markdown",
   "id": "f9c4e628-5859-40e9-abba-51e6b66200e9",
   "metadata": {},
   "source": [
    "12. Explain the concept of property decorators in Python and how they relate to encapsulation."
   ]
  },
  {
   "cell_type": "markdown",
   "id": "4f6adfcd-6e2e-4326-ace1-089fdd2dca8f",
   "metadata": {},
   "source": [
    "In Python, property decorators are a way to define and manage attributes in a class with getter, setter, and deleter methods. They are used to encapsulate the access to an object's attributes, providing a controlled interface for getting, setting, and deleting values. Property decorators make it possible to implement encapsulation by allowing the developer to define custom behavior for attribute access without changing the external interface."
   ]
  },
  {
   "cell_type": "markdown",
   "id": "5e3d4ea6-af1e-45da-8c38-d78e4395ddfa",
   "metadata": {},
   "source": [
    "The getter method is responsible for retrieving the value of the attribute.\n",
    "It is decorated with @property.\n",
    "The method name becomes the property name that can be accessed as if it were an attribute.\n",
    "\n",
    "\n",
    "The setter method is responsible for setting the value of the attribute.\n",
    "It is decorated with @<property_name>.setter.\n",
    "The method name is the same as the getter method with .setter appended.\n",
    "\n",
    "\n",
    "The deleter method is responsible for deleting the attribute.\n",
    "It is decorated with @<property_name>.deleter.\n",
    "The method name is the same as the getter method with .deleter appended."
   ]
  },
  {
   "cell_type": "code",
   "execution_count": 29,
   "id": "0d0e36df-5289-40d4-bbf5-8591e1fb7780",
   "metadata": {},
   "outputs": [],
   "source": [
    "class Vehicle:\n",
    "    def __init__(self,make):\n",
    "        self.make = make\n",
    "        \n",
    "    @property\n",
    "    def vehicle(self):\n",
    "        return self.make\n",
    "    \n",
    "    @vehicle.setter\n",
    "    def vehicle(self,make):\n",
    "        self.make = make\n",
    "        \n",
    "    @vehicle.deleter\n",
    "    def vehicle(self):\n",
    "        print('deleting make')\n",
    "        del self.make\n",
    "        "
   ]
  },
  {
   "cell_type": "code",
   "execution_count": 30,
   "id": "fa61b6a8-d75c-445c-a098-a2814caca53e",
   "metadata": {},
   "outputs": [
    {
     "name": "stdout",
     "output_type": "stream",
     "text": [
      "toyota\n"
     ]
    }
   ],
   "source": [
    "car1 = Vehicle('toyota')\n",
    "print(car1.make)"
   ]
  },
  {
   "cell_type": "code",
   "execution_count": 31,
   "id": "b80ff0c5-4c57-4472-9b6d-c3fd7691af29",
   "metadata": {},
   "outputs": [],
   "source": [
    "car1.make = 'corolla'"
   ]
  },
  {
   "cell_type": "code",
   "execution_count": 32,
   "id": "c9d74e91-1596-46ba-9531-06593b52d9e9",
   "metadata": {},
   "outputs": [
    {
     "name": "stdout",
     "output_type": "stream",
     "text": [
      "corolla\n"
     ]
    }
   ],
   "source": [
    "print(car1.make)"
   ]
  },
  {
   "cell_type": "code",
   "execution_count": 33,
   "id": "fc46e9e3-83c6-4d0f-a85d-4637b3b26178",
   "metadata": {},
   "outputs": [],
   "source": [
    "del car1.make"
   ]
  },
  {
   "cell_type": "code",
   "execution_count": 18,
   "id": "7bf30a30-a887-434b-a414-9fe58e6a44ba",
   "metadata": {},
   "outputs": [
    {
     "ename": "AttributeError",
     "evalue": "'Vehicle' object has no attribute 'make'",
     "output_type": "error",
     "traceback": [
      "\u001b[0;31m---------------------------------------------------------------------------\u001b[0m",
      "\u001b[0;31mAttributeError\u001b[0m                            Traceback (most recent call last)",
      "Cell \u001b[0;32mIn[18], line 1\u001b[0m\n\u001b[0;32m----> 1\u001b[0m \u001b[38;5;28mprint\u001b[39m(\u001b[43mcar1\u001b[49m\u001b[38;5;241;43m.\u001b[39;49m\u001b[43mmake\u001b[49m)\n",
      "\u001b[0;31mAttributeError\u001b[0m: 'Vehicle' object has no attribute 'make'"
     ]
    }
   ],
   "source": [
    "print(car1.make)"
   ]
  },
  {
   "cell_type": "markdown",
   "id": "20c9b01e-b58c-4939-8bbc-46bb3c3fa453",
   "metadata": {},
   "source": [
    "13. What is data hiding, and why is it important in encapsulation? Provide examples."
   ]
  },
  {
   "cell_type": "markdown",
   "id": "cd08bd49-a696-47de-ba3b-6588c973073e",
   "metadata": {},
   "source": [
    "Data hiding is a concept in programming that refers to the practice of restricting access to certain details of an object and exposing only what is necessary for external use. It is a crucial aspect of encapsulation, which is the bundling of data and methods that operate on that data into a single unit (usually a class). Data hiding helps in creating a well-defined interface for interacting with objects while keeping the implementation details hidden."
   ]
  },
  {
   "cell_type": "code",
   "execution_count": 1,
   "id": "ffa7626f-eb00-44a7-8cbd-c45f8ec3735b",
   "metadata": {},
   "outputs": [
    {
     "name": "stdout",
     "output_type": "stream",
     "text": [
      "Car information: 2022 Toyota Camry\n"
     ]
    }
   ],
   "source": [
    "class Car:\n",
    "    def __init__(self, make, model, year):\n",
    "        self._make = make  # Protected attribute\n",
    "        self._model = model  # Protected attribute\n",
    "        self._year = year  # Protected attribute\n",
    "\n",
    "    def get_make(self):\n",
    "        return self._make\n",
    "\n",
    "    def get_model(self):\n",
    "        return self._model\n",
    "\n",
    "    def get_year(self):\n",
    "        return self._year\n",
    "\n",
    "    def display_info(self):\n",
    "        return f\"{self._year} {self._make} {self._model}\"\n",
    "\n",
    "\n",
    "# Usage example\n",
    "my_car = Car(\"Toyota\", \"Camry\", 2022)\n",
    "print(\"Car information:\", my_car.display_info())\n",
    "\n",
    "# External code does not rely on the internal attribute names\n",
    "# This allows for flexibility in modifying the internal implementation\n"
   ]
  },
  {
   "cell_type": "markdown",
   "id": "bd2b08f7-c735-47af-8e6c-bc702c42c485",
   "metadata": {},
   "source": [
    "the attributes _make, _model, and _year are marked as protected. The external code interacts with the car object through well-defined methods like get_make, get_model, and display_info, ensuring that the internal details are hidden. If the internal attribute names are changed in the future for any reason, the external code remains unaffected as long as the interface methods remain consistent."
   ]
  },
  {
   "cell_type": "markdown",
   "id": "f6007562-3235-4c47-8dea-8adf835205cc",
   "metadata": {},
   "source": [
    "14. Create a Python class called `Employee` with private attributes for salary (`__salary`) and employee ID (`__employee_id`). Provide a method to calculate yearly bonuses."
   ]
  },
  {
   "cell_type": "code",
   "execution_count": 1,
   "id": "e9d10eb9-58e8-49ae-9a56-d0e0c68f2a39",
   "metadata": {},
   "outputs": [
    {
     "name": "stdout",
     "output_type": "stream",
     "text": [
      "Employee ID: 1\n",
      "Salary: 50000\n",
      "Yearly Bonus (10%): $5000.0\n"
     ]
    }
   ],
   "source": [
    "class Employee:\n",
    "    def __init__(self, employee_id, salary):\n",
    "        self.__employee_id = employee_id\n",
    "        self.__salary = salary\n",
    "\n",
    "    def calculate_yearly_bonus(self, bonus_percentage):\n",
    "        \"\"\"\n",
    "        Calculate yearly bonus based on the provided bonus_percentage.\n",
    "\n",
    "        Parameters:\n",
    "        - bonus_percentage (float): The bonus percentage to be applied.\n",
    "\n",
    "        Returns:\n",
    "        - float: The calculated yearly bonus.\n",
    "        \"\"\"\n",
    "        if not (0 <= bonus_percentage <= 100):\n",
    "            raise ValueError(\"Bonus percentage must be between 0 and 100.\")\n",
    "\n",
    "        bonus_amount = (bonus_percentage / 100) * self.__salary\n",
    "        return bonus_amount\n",
    "\n",
    "    # Getter methods to access private attributes\n",
    "    def get_employee_id(self):\n",
    "        return self.__employee_id\n",
    "\n",
    "    def get_salary(self):\n",
    "        return self.__salary\n",
    "\n",
    "    # Setter methods to modify private attributes (optional)\n",
    "    def set_employee_id(self, employee_id):\n",
    "        self.__employee_id = employee_id\n",
    "\n",
    "    def set_salary(self, salary):\n",
    "        self.__salary = salary\n",
    "\n",
    "# Example usage:\n",
    "employee1 = Employee(employee_id=1, salary=50000)\n",
    "\n",
    "# Accessing private attributes using getter methods\n",
    "print(\"Employee ID:\", employee1.get_employee_id())\n",
    "print(\"Salary:\", employee1.get_salary())\n",
    "\n",
    "# Calculating and printing yearly bonus\n",
    "bonus_percentage = 10  # 10% bonus\n",
    "yearly_bonus = employee1.calculate_yearly_bonus(bonus_percentage)\n",
    "print(f\"Yearly Bonus ({bonus_percentage}%): ${yearly_bonus}\")\n"
   ]
  },
  {
   "cell_type": "markdown",
   "id": "2486dc8f-dba0-4858-8551-f7140e7f807b",
   "metadata": {},
   "source": [
    "15. Discuss the use of accessors and mutators in encapsulation. How do they help maintain control over \n",
    "attribute access?"
   ]
  },
  {
   "cell_type": "markdown",
   "id": "93e73ff5-8840-470a-a0c5-4aee9d658ae3",
   "metadata": {},
   "source": [
    "Accessors (Getters):\n",
    "\n",
    "Purpose: Accessors are methods that provide read access to the private attributes of a class.\n",
    "\n",
    "Example: If you have a private attribute __salary, an accessor method like get_salary would allow external code to retrieve the value of __salary.\n",
    "\n",
    "Control: By using accessors, you have control over how the attribute is accessed. You can implement additional logic, such as validation or calculations, before returning the attribute value."
   ]
  },
  {
   "cell_type": "markdown",
   "id": "ac0ac510-e0ed-4231-adf5-9068a20aeda9",
   "metadata": {},
   "source": [
    "Mutators (Setters):\n",
    "\n",
    "Purpose: Mutators are methods that provide write access to the private attributes of a class.\n",
    "\n",
    "Example: If you have a private attribute __salary, a mutator method like set_salary would allow external code to modify the value of __salary.\n",
    "\n",
    "Control: Using mutators, you can enforce validation rules or trigger certain actions when modifying an attribute. This helps maintain the integrity of the object's state."
   ]
  },
  {
   "cell_type": "markdown",
   "id": "338e3854-1b60-45fd-a38c-af0cba9c7f33",
   "metadata": {},
   "source": [
    "16. What are the potential drawbacks or disadvantages of using encapsulation in Python?"
   ]
  },
  {
   "cell_type": "markdown",
   "id": "da4116a4-95ff-4e00-9ef4-684ec34544a1",
   "metadata": {},
   "source": [
    "Complexity:\n",
    "\n",
    "Overuse of encapsulation can lead to complex class hierarchies with numerous getter and setter methods. This complexity may make the code harder to understand and maintain, especially for small projects.\n",
    "\n",
    "Boilerplate Code:\n",
    "\n",
    "Encapsulation often involves writing getter and setter methods for each attribute. This can lead to a lot of boilerplate code, making the codebase longer and potentially less readable.\n",
    "\n",
    "Limited Enforcement:\n",
    "\n",
    "In Python, encapsulation is a guideline rather than a strict rule. Unlike some other languages (e.g., Java), Python does not enforce private access to attributes. This means that it's still possible to access private attributes from outside the class, although it's considered a convention not to do so.\n",
    "\n",
    "Flexibility vs. Rigidity:\n",
    "\n",
    "While encapsulation provides a level of abstraction and protects the internal implementation, it can also make the code more rigid. If changes to the internal structure are frequent, the need to update getter and setter methods may become cumbersome."
   ]
  },
  {
   "cell_type": "markdown",
   "id": "6337b308-03a8-4a6e-8914-d4b8de6d75ee",
   "metadata": {},
   "source": [
    "17. Create a Python class for a library system that encapsulates book information, including titles, authors, \n",
    "and availability status"
   ]
  },
  {
   "cell_type": "code",
   "execution_count": 2,
   "id": "f69e458c-69f5-4604-b96b-2a6055abe460",
   "metadata": {},
   "outputs": [
    {
     "name": "stdout",
     "output_type": "stream",
     "text": [
      "Book 'The Great Gatsby' by F. Scott Fitzgerald has been added to the library.\n",
      "Book 'To Kill a Mockingbird' by Harper Lee has been added to the library.\n",
      "Book '1984' by George Orwell has been added to the library.\n",
      "Library Catalog:\n",
      "- 'The Great Gatsby' by F. Scott Fitzgerald (Available)\n",
      "- 'To Kill a Mockingbird' by Harper Lee (Available)\n",
      "- '1984' by George Orwell (Available)\n",
      "Book 'The Great Gatsby' by F. Scott Fitzgerald has been checked out.\n",
      "Book 'To Kill a Mockingbird' by Harper Lee has been checked out.\n",
      "Library Catalog:\n",
      "- 'The Great Gatsby' by F. Scott Fitzgerald (Checked Out)\n",
      "- 'To Kill a Mockingbird' by Harper Lee (Checked Out)\n",
      "- '1984' by George Orwell (Available)\n",
      "Book 'The Great Gatsby' by F. Scott Fitzgerald has been returned.\n",
      "Library Catalog:\n",
      "- 'The Great Gatsby' by F. Scott Fitzgerald (Available)\n",
      "- 'To Kill a Mockingbird' by Harper Lee (Checked Out)\n",
      "- '1984' by George Orwell (Available)\n"
     ]
    }
   ],
   "source": [
    "class Book:\n",
    "    def __init__(self, title, author):\n",
    "        self.title = title\n",
    "        self.author = author\n",
    "        self.is_available = True\n",
    "\n",
    "    def checkout(self):\n",
    "        if self.is_available:\n",
    "            self.is_available = False\n",
    "            print(f\"Book '{self.title}' by {self.author} has been checked out.\")\n",
    "        else:\n",
    "            print(f\"Sorry, the book '{self.title}' is not available for checkout.\")\n",
    "\n",
    "    def return_book(self):\n",
    "        if not self.is_available:\n",
    "            self.is_available = True\n",
    "            print(f\"Book '{self.title}' by {self.author} has been returned.\")\n",
    "        else:\n",
    "            print(f\"The book '{self.title}' is already available.\")\n",
    "\n",
    "class Library:\n",
    "    def __init__(self):\n",
    "        self.books = []\n",
    "\n",
    "    def add_book(self, book):\n",
    "        self.books.append(book)\n",
    "        print(f\"Book '{book.title}' by {book.author} has been added to the library.\")\n",
    "\n",
    "    def display_books(self):\n",
    "        print(\"Library Catalog:\")\n",
    "        for book in self.books:\n",
    "            status = \"Available\" if book.is_available else \"Checked Out\"\n",
    "            print(f\"- '{book.title}' by {book.author} ({status})\")\n",
    "\n",
    "\n",
    "# Example Usage:\n",
    "\n",
    "# Create books\n",
    "book1 = Book(\"The Great Gatsby\", \"F. Scott Fitzgerald\")\n",
    "book2 = Book(\"To Kill a Mockingbird\", \"Harper Lee\")\n",
    "book3 = Book(\"1984\", \"George Orwell\")\n",
    "\n",
    "# Create a library\n",
    "library = Library()\n",
    "\n",
    "# Add books to the library\n",
    "library.add_book(book1)\n",
    "library.add_book(book2)\n",
    "library.add_book(book3)\n",
    "\n",
    "# Display the library catalog\n",
    "library.display_books()\n",
    "\n",
    "# Checkout and return books\n",
    "book1.checkout()\n",
    "book2.checkout()\n",
    "library.display_books()\n",
    "\n",
    "book1.return_book()\n",
    "library.display_books()\n"
   ]
  },
  {
   "cell_type": "markdown",
   "id": "d51b383b-22fe-4476-8fa0-29722eb80ceb",
   "metadata": {},
   "source": [
    "18. Explain how encapsulation enhances code reusability and modularity in Python programs."
   ]
  },
  {
   "cell_type": "markdown",
   "id": "cae3dbb8-aa1f-406f-a6e5-76ad475160bc",
   "metadata": {},
   "source": [
    "Modularity:\n",
    "\n",
    "Encapsulation promotes modularity by breaking down a program into smaller, manageable units (classes). Each class is responsible for a specific set of functionalities. This modular structure makes it easier to understand, maintain, and extend the codebase.\n",
    "\n",
    "Code Reusability:\n",
    "\n",
    "Encapsulated classes are designed to be reusable in different parts of a program or even in different projects. Since the internal details are hidden, you can use a class without needing to understand its implementation. This promotes a \"black box\" approach, where you only need to know how to use the class, not how it works internally.\n",
    "\n",
    "Code Organization:\n",
    "\n",
    "Encapsulation encourages a clear separation between the internal implementation of a class and its external interface. This separation makes the codebase more organized and facilitates collaboration among team members. Each class becomes a self-contained unit with a well-defined purpose.\n",
    "\n",
    "Maintenance and Updates:\n",
    "\n",
    "Encapsulation makes it easier to maintain and update code. If the internal implementation of a class needs to change, the external code that uses the class (assuming it follows the public interface) remains unaffected. This reduces the ripple effects of modifications and minimizes the risk of introducing bugs during updates."
   ]
  },
  {
   "cell_type": "markdown",
   "id": "0d16f752-6cd0-4dc0-a3fe-3321bc18e50b",
   "metadata": {},
   "source": [
    "19. Describe the concept of information hiding in encapsulation. Why is it essential in software development?"
   ]
  },
  {
   "cell_type": "markdown",
   "id": "514ac0c1-89ba-4c12-bbe4-1fd82af46416",
   "metadata": {},
   "source": [
    "Information hiding is a fundamental concept in encapsulation that involves restricting access to certain details of an object's implementation, typically by making attributes or methods private. The goal is to hide the internal workings of an object from the outside world, revealing only what is necessary for the object's proper use"
   ]
  },
  {
   "cell_type": "markdown",
   "id": "3c6b1ab5-f60a-4312-b3c4-a8ce814e624e",
   "metadata": {},
   "source": [
    "Abstraction:\n",
    "\n",
    "Information hiding allows developers to create abstractions by exposing only essential details and hiding the complexity of the underlying implementation. Users of a class or module don't need to understand how something is implemented internally; they only need to know how to interact with the public interface.\n",
    "\n",
    "Reduced Complexity:\n",
    "\n",
    "By hiding unnecessary details, information hiding reduces the overall complexity of a system. Users can focus on the high-level functionality provided by a class without being overwhelmed by the internal intricacies. This simplification improves code readability and comprehension\n",
    "\n",
    "Modularity:\n",
    "\n",
    "Information hiding supports modularity by encapsulating implementation details within individual modules or classes. Each module becomes a self-contained unit with a well-defined interface. This modular structure makes it easier to maintain, update, and extend the codebase without affecting other parts of the system."
   ]
  },
  {
   "cell_type": "markdown",
   "id": "3271476f-aa7b-496d-9129-17afed488d01",
   "metadata": {},
   "source": [
    "20. Create a Python class called `Customer` with private attributes for customer details like name, address, \n",
    "and contact information. Implement encapsulation to ensure data integrity and security"
   ]
  },
  {
   "cell_type": "code",
   "execution_count": 3,
   "id": "c3421dd0-5fbf-4746-adba-d16951508076",
   "metadata": {},
   "outputs": [
    {
     "name": "stdout",
     "output_type": "stream",
     "text": [
      "Customer Name: John Doe\n",
      "Customer Address: 123 Main Street\n",
      "Contact Information: 555-1234\n",
      "Updated Customer Address: 456 Oak Avenue\n"
     ]
    }
   ],
   "source": [
    "class Customer:\n",
    "    def __init__(self, name, address, contact_info):\n",
    "        self.__name = name\n",
    "        self.__address = address\n",
    "        self.__contact_info = contact_info\n",
    "\n",
    "    # Getter methods to access private attributes\n",
    "    def get_name(self):\n",
    "        return self.__name\n",
    "\n",
    "    def get_address(self):\n",
    "        return self.__address\n",
    "\n",
    "    def get_contact_info(self):\n",
    "        return self.__contact_info\n",
    "\n",
    "    # Setter methods to modify private attributes (optional)\n",
    "    def set_name(self, name):\n",
    "        self.__name = name\n",
    "\n",
    "    def set_address(self, address):\n",
    "        self.__address = address\n",
    "\n",
    "    def set_contact_info(self, contact_info):\n",
    "        self.__contact_info = contact_info\n",
    "\n",
    "# Example usage:\n",
    "customer1 = Customer(name=\"John Doe\", address=\"123 Main Street\", contact_info=\"555-1234\")\n",
    "\n",
    "# Accessing private attributes using getter methods\n",
    "print(\"Customer Name:\", customer1.get_name())\n",
    "print(\"Customer Address:\", customer1.get_address())\n",
    "print(\"Contact Information:\", customer1.get_contact_info())\n",
    "\n",
    "# Modifying attributes using setter methods (optional)\n",
    "customer1.set_address(\"456 Oak Avenue\")\n",
    "print(\"Updated Customer Address:\", customer1.get_address())\n"
   ]
  },
  {
   "cell_type": "markdown",
   "id": "46fc7047-4d25-4cc1-bade-acf26bae76f3",
   "metadata": {
    "jp-MarkdownHeadingCollapsed": true,
    "tags": []
   },
   "source": [
    "## polymorphism"
   ]
  },
  {
   "cell_type": "markdown",
   "id": "027d154f-0057-47f8-b210-1cf4a0abd2d0",
   "metadata": {},
   "source": [
    "1. What is polymorphism in Python? Explain how it is related to object-oriented programming."
   ]
  },
  {
   "cell_type": "markdown",
   "id": "0d8eb2bb-2b1c-4e8a-bbe6-5515cd01df22",
   "metadata": {},
   "source": [
    "Polymorphism is a concept in object-oriented programming (OOP) that allows objects of different classes to be treated as objects of a common base class. It enables a single interface to represent different underlying data types or forms. The word \"polymorphism\" comes from the Greek words \"poly\" (many) and \"morphos\" (forms), emphasizing the ability of a single entity to take on multiple forms."
   ]
  },
  {
   "cell_type": "markdown",
   "id": "f6425ab6-ed0d-4815-a968-16c30277fa6f",
   "metadata": {},
   "source": [
    "types of polymorphism"
   ]
  },
  {
   "cell_type": "markdown",
   "id": "3fb21f75-448c-4edf-a95a-4f6ab8f6e372",
   "metadata": {},
   "source": [
    "Compile-Time Polymorphism (Method Overloading):\n",
    "\n",
    "This type of polymorphism is achieved through method overloading, where a class has multiple methods with the same name but different parameters.\n",
    "The decision on which method to execute is made at compile time based on the number and types of arguments passed.\n",
    "Python, however, does not support true method overloading like some statically-typed languages. In Python, if multiple methods with the same name are defined in a class, the last one defined will override the previous ones."
   ]
  },
  {
   "cell_type": "code",
   "execution_count": 5,
   "id": "1b27feeb-b3ce-4314-996d-2ad71c92ae4d",
   "metadata": {},
   "outputs": [
    {
     "name": "stdout",
     "output_type": "stream",
     "text": [
      "Displaying: Default\n",
      "Displaying: Hello\n"
     ]
    }
   ],
   "source": [
    "class Example:\n",
    "    def display(self, value=None):\n",
    "        if value is not None:\n",
    "            print(\"Displaying:\", value)\n",
    "        else:\n",
    "            print(\"Displaying: Default\")\n",
    "\n",
    "obj = Example()\n",
    "obj.display()            # Calls the method without arguments\n",
    "obj.display(\"Hello\")      # Calls the method with an argument\n"
   ]
  },
  {
   "cell_type": "markdown",
   "id": "f7efed08-e31d-4340-8b5f-e66f5195a6f5",
   "metadata": {},
   "source": [
    "Runtime Polymorphism (Method Overriding):\n",
    "\n",
    "Runtime polymorphism is achieved through method overriding, where a subclass provides a specific implementation of a method that is already defined in its superclass.\n",
    "The decision on which method to execute is made at runtime based on the actual type of the object.\n",
    "This is a key feature of inheritance in OOP, where a subclass can provide its own implementation of a method while still adhering to the method signature of its superclass."
   ]
  },
  {
   "cell_type": "code",
   "execution_count": 6,
   "id": "9fdb77fc-1bf2-43e8-ae05-161e57adbd1b",
   "metadata": {},
   "outputs": [
    {
     "name": "stdout",
     "output_type": "stream",
     "text": [
      "Woof!\n",
      "Meow!\n"
     ]
    }
   ],
   "source": [
    "class Animal:\n",
    "    def make_sound(self):\n",
    "        pass\n",
    "\n",
    "class Dog(Animal):\n",
    "    def make_sound(self):\n",
    "        print(\"Woof!\")\n",
    "\n",
    "class Cat(Animal):\n",
    "    def make_sound(self):\n",
    "        print(\"Meow!\")\n",
    "\n",
    "def animal_sounds(animal):\n",
    "    animal.make_sound()\n",
    "\n",
    "dog = Dog()\n",
    "cat = Cat()\n",
    "\n",
    "animal_sounds(dog)  \n",
    "animal_sounds(cat)  "
   ]
  },
  {
   "cell_type": "markdown",
   "id": "91cbeb1e-85ef-4c99-b020-e49f461aee20",
   "metadata": {},
   "source": [
    "2. Describe the difference between compile-time polymorphism and runtime polymorphism in Python."
   ]
  },
  {
   "cell_type": "markdown",
   "id": "f8579630-ed9b-49dc-9851-f219843d8b9c",
   "metadata": {},
   "source": [
    "Compile-time polymorphism in Python is commonly associated with method overloading, where a class has multiple methods with the same name but different parameters. (example is above)\n",
    "\n",
    "Runtime polymorphism in Python is achieved through method overriding, where a subclass provides a specific implementation of a method that is already defined in its superclass (example is above)"
   ]
  },
  {
   "cell_type": "markdown",
   "id": "b066c6e6-51e7-4be9-b0e9-4fd6edd94c98",
   "metadata": {},
   "source": [
    "3. Create a Python class hierarchy for shapes (e.g., circle, square, triangle) and demonstrate polymorphism \n",
    " through a common method, such as `calculate_area()`."
   ]
  },
  {
   "cell_type": "code",
   "execution_count": 7,
   "id": "117cb05e-6115-4127-9c0c-1cbe1a635954",
   "metadata": {},
   "outputs": [
    {
     "name": "stdout",
     "output_type": "stream",
     "text": [
      "Area of Circle: 28.274333882308138\n",
      "Area of Square: 16\n",
      "Area of Triangle: 5.0\n"
     ]
    }
   ],
   "source": [
    "import math\n",
    "\n",
    "class Shape:\n",
    "    def calculate_area(self):\n",
    "        pass  # This method will be overridden by subclasses\n",
    "\n",
    "class Circle(Shape):\n",
    "    def __init__(self, radius):\n",
    "        self.radius = radius\n",
    "\n",
    "    def calculate_area(self):\n",
    "        return math.pi * self.radius ** 2\n",
    "\n",
    "class Square(Shape):\n",
    "    def __init__(self, side_length):\n",
    "        self.side_length = side_length\n",
    "\n",
    "    def calculate_area(self):\n",
    "        return self.side_length ** 2\n",
    "\n",
    "class Triangle(Shape):\n",
    "    def __init__(self, base, height):\n",
    "        self.base = base\n",
    "        self.height = height\n",
    "\n",
    "    def calculate_area(self):\n",
    "        return 0.5 * self.base * self.height\n",
    "\n",
    "# Demonstration of polymorphism\n",
    "\n",
    "shapes = [Circle(radius=3), Square(side_length=4), Triangle(base=5, height=2)]\n",
    "\n",
    "for shape in shapes:\n",
    "    print(f\"Area of {shape.__class__.__name__}: {shape.calculate_area()}\")\n"
   ]
  },
  {
   "cell_type": "markdown",
   "id": "aebfcb91-b02c-4135-91fc-8f53025e690b",
   "metadata": {},
   "source": [
    "4. Explain the concept of method overriding in polymorphism. Provide an example."
   ]
  },
  {
   "cell_type": "markdown",
   "id": "adece9db-d31e-4b39-8e6e-98c9a6af415d",
   "metadata": {},
   "source": [
    "Method overriding is a concept in object-oriented programming (OOP) where a subclass provides a specific implementation for a method that is already defined in its superclass.\n",
    "\n",
    "In Python, method overriding is closely tied to inheritance. When a subclass inherits from a superclass, it can provide its own implementation of a method defined in the superclass, thus customizing the behavior of that method for the specific subclass. The decision on which method to execute is made at runtime based on the actual type of the object."
   ]
  },
  {
   "cell_type": "code",
   "execution_count": 9,
   "id": "2d0f0c93-adbb-4da4-a022-a02c4fd13313",
   "metadata": {},
   "outputs": [
    {
     "name": "stdout",
     "output_type": "stream",
     "text": [
      "Woof!\n",
      "Meow!\n"
     ]
    }
   ],
   "source": [
    "class Animal:\n",
    "    def make_sound(self):\n",
    "        print(\"Generic animal sound\")\n",
    "\n",
    "class Dog(Animal):\n",
    "    def make_sound(self):\n",
    "        print(\"Woof!\")\n",
    "\n",
    "class Cat(Animal):\n",
    "    def make_sound(self):\n",
    "        print(\"Meow!\")\n",
    "\n",
    "# Using overridden methods\n",
    "\n",
    "dog = Dog()\n",
    "cat = Cat()\n",
    "\n",
    "dog.make_sound()  \n",
    "cat.make_sound() \n"
   ]
  },
  {
   "cell_type": "markdown",
   "id": "7921adc4-5833-4b15-a807-2201364cc765",
   "metadata": {},
   "source": [
    "5. How is polymorphism different from method overloading in Python? Provide examples for both"
   ]
  },
  {
   "cell_type": "markdown",
   "id": "76c427aa-e2df-49ae-ab83-40f9514196dc",
   "metadata": {},
   "source": [
    "Polymorphism refers to the ability of objects or methods to take on multiple forms based on the context or the specific types of objects involved."
   ]
  },
  {
   "cell_type": "code",
   "execution_count": 10,
   "id": "191719bf-86ce-4244-aef5-dd2090757760",
   "metadata": {},
   "outputs": [
    {
     "name": "stdout",
     "output_type": "stream",
     "text": [
      "Woof!\n",
      "Meow!\n"
     ]
    }
   ],
   "source": [
    "class Animal:\n",
    "    def make_sound(self):\n",
    "        pass\n",
    "\n",
    "class Dog(Animal):\n",
    "    def make_sound(self):\n",
    "        print(\"Woof!\")\n",
    "\n",
    "class Cat(Animal):\n",
    "    def make_sound(self):\n",
    "        print(\"Meow!\")\n",
    "\n",
    "def animal_sounds(animal):\n",
    "    animal.make_sound()\n",
    "\n",
    "dog = Dog()\n",
    "cat = Cat()\n",
    "\n",
    "animal_sounds(dog)  # Outputs: Woof!\n",
    "animal_sounds(cat)  # Outputs: Meow!\n"
   ]
  },
  {
   "cell_type": "markdown",
   "id": "82e9148c-8a5a-4b4b-ab07-7595cf18ae4e",
   "metadata": {},
   "source": [
    "Method overloading in Python involves defining multiple methods in a class with the same name but different parameter types or a different number of parameters. However, Python does not support true method overloading based on different parameter types (as in some statically-typed languages)."
   ]
  },
  {
   "cell_type": "code",
   "execution_count": 11,
   "id": "6775db42-aa7c-48a1-9a39-639aba012a3a",
   "metadata": {},
   "outputs": [
    {
     "name": "stdout",
     "output_type": "stream",
     "text": [
      "Displaying: Default\n",
      "Displaying: Hello\n"
     ]
    }
   ],
   "source": [
    "class Example:\n",
    "    def display(self, value=None):\n",
    "        if value is not None:\n",
    "            print(\"Displaying:\", value)\n",
    "        else:\n",
    "            print(\"Displaying: Default\")\n",
    "\n",
    "obj = Example()\n",
    "obj.display()           # Calls the method without arguments\n",
    "obj.display(\"Hello\")     # Calls the method with an argument\n"
   ]
  },
  {
   "cell_type": "markdown",
   "id": "98743323-7fb4-41e4-8635-8a0fb92e1924",
   "metadata": {},
   "source": [
    "6. Create a Python class called `Animal` with a method `speak()`. Then, create child classes like `Dog`, `Cat`, and `Bird`, each with their own `speak()` method. Demonstrate polymorphism by calling the `speak()` method \n",
    "on objects of different subclasses"
   ]
  },
  {
   "cell_type": "code",
   "execution_count": 13,
   "id": "15cacc05-8164-4932-b39e-c15adfadb593",
   "metadata": {},
   "outputs": [
    {
     "name": "stdout",
     "output_type": "stream",
     "text": [
      "Woof!\n",
      "Meow!\n",
      "Tweet!\n"
     ]
    }
   ],
   "source": [
    "class Animal:\n",
    "    def speak(self):\n",
    "        print(\"Generic animal sound\")\n",
    "\n",
    "class Dog(Animal):\n",
    "    def speak(self):\n",
    "        print(\"Woof!\")\n",
    "\n",
    "class Cat(Animal):\n",
    "    def speak(self):\n",
    "        print(\"Meow!\")\n",
    "\n",
    "class Bird(Animal):\n",
    "    def speak(self):\n",
    "        print(\"Tweet!\")\n",
    "\n",
    "# Demonstration of polymorphism\n",
    "\n",
    "def animal_speak(animal):\n",
    "    animal.speak()\n",
    "\n",
    "# Create instances of different subclasses\n",
    "dog = Dog()\n",
    "cat = Cat()\n",
    "bird = Bird()\n",
    "\n",
    "# Call the speak() method on objects of different subclasses\n",
    "animal_speak(dog)  \n",
    "animal_speak(cat) \n",
    "animal_speak(bird) \n"
   ]
  },
  {
   "cell_type": "markdown",
   "id": "b1ee5ed3-cff2-41bb-8c3f-9c60fcbbd7c5",
   "metadata": {},
   "source": [
    "7. Discuss the use of abstract methods and classes in achieving polymorphism in Python. Provide an example \n",
    "using the `abc` module"
   ]
  },
  {
   "cell_type": "markdown",
   "id": "d7bbeffd-a7f4-47c6-b461-0713519054d4",
   "metadata": {},
   "source": [
    " abstract classes and abstract methods are tools provided by the abc (Abstract Base Classes) module to achieve polymorphism and enforce a common interface across multiple classes. Abstract classes cannot be instantiated, and they are meant to be subclassed by concrete classes that provide implementations for abstract methods. This ensures that subclasses adhere to a certain contract, promoting a consistent interface and facilitating polymorphism.m"
   ]
  },
  {
   "cell_type": "code",
   "execution_count": 16,
   "id": "fb8ba389-8871-44c4-a805-35d6e5afc610",
   "metadata": {},
   "outputs": [
    {
     "name": "stdout",
     "output_type": "stream",
     "text": [
      "Woof!\n",
      "Meow!\n",
      "Tweet!\n"
     ]
    }
   ],
   "source": [
    "from abc import ABC, abstractmethod\n",
    "\n",
    "# Abstract class with abstract method\n",
    "class Animal(ABC):\n",
    "    @abstractmethod\n",
    "    def speak(self):\n",
    "        pass\n",
    "\n",
    "# Concrete classes implementing the abstract method\n",
    "class Dog(Animal):\n",
    "    def speak(self):\n",
    "        print(\"Woof!\")\n",
    "\n",
    "class Cat(Animal):\n",
    "    def speak(self):\n",
    "        print(\"Meow!\")\n",
    "\n",
    "class Bird(Animal):\n",
    "    def speak(self):\n",
    "        print(\"Tweet!\")\n",
    "\n",
    "# Function demonstrating polymorphism\n",
    "def animal_speak(animal):\n",
    "    animal.speak()\n",
    "\n",
    "# Create instances of different subclasses\n",
    "dog = Dog()\n",
    "cat = Cat()\n",
    "bird = Bird()\n",
    "\n",
    "# Call the speak() method on objects of different subclasses\n",
    "animal_speak(dog) \n",
    "animal_speak(cat)  \n",
    "animal_speak(bird)  \n"
   ]
  },
  {
   "cell_type": "markdown",
   "id": "eb8187c9-9c74-4686-8e7b-7dcaa8ffe40b",
   "metadata": {},
   "source": [
    "8. Create a Python class hierarchy for a vehicle system (e.g., car, bicycle, boat) and implement a polymorphic `start()` method that prints a message specific to each vehicle type"
   ]
  },
  {
   "cell_type": "code",
   "execution_count": 17,
   "id": "0acb3ec2-540b-44b8-b1d4-42cee3b9fbce",
   "metadata": {},
   "outputs": [
    {
     "name": "stdout",
     "output_type": "stream",
     "text": [
      "Car engine started. Vroom!\n",
      "Pedaling the bicycle. Ready to go!\n",
      "Boat engine started. Setting sail!\n"
     ]
    }
   ],
   "source": [
    "class Vehicle:\n",
    "    def start(self):\n",
    "        pass  # Abstract method, to be overridden by subclasses\n",
    "\n",
    "class Car(Vehicle):\n",
    "    def start(self):\n",
    "        print(\"Car engine started. Vroom!\")\n",
    "\n",
    "class Bicycle(Vehicle):\n",
    "    def start(self):\n",
    "        print(\"Pedaling the bicycle. Ready to go!\")\n",
    "\n",
    "class Boat(Vehicle):\n",
    "    def start(self):\n",
    "        print(\"Boat engine started. Setting sail!\")\n",
    "\n",
    "# Using polymorphism\n",
    "\n",
    "def start_vehicle(vehicle):\n",
    "    vehicle.start()\n",
    "\n",
    "# Create instances of different vehicle types\n",
    "car = Car()\n",
    "bicycle = Bicycle()\n",
    "boat = Boat()\n",
    "\n",
    "# Call the start() method on objects of different vehicle types\n",
    "start_vehicle(car)       # Outputs: Car engine started. Vroom!\n",
    "start_vehicle(bicycle)   # Outputs: Pedaling the bicycle. Ready to go!\n",
    "start_vehicle(boat)      # Outputs: Boat engine started. Setting sail!\n"
   ]
  },
  {
   "cell_type": "markdown",
   "id": "8290c78b-ba0d-4ecc-8cda-847b11556165",
   "metadata": {},
   "source": [
    "9. Explain the significance of the `isinstance()` and `issubclass()` functions in Python polymorphism."
   ]
  },
  {
   "cell_type": "markdown",
   "id": "079c0063-8852-4b42-9c5b-77cd695eaf45",
   "metadata": {},
   "source": [
    "In Python, the isinstance() and issubclass() functions play a significant role in working with polymorphism, especially when dealing with object types and class hierarchies. These functions provide a way to check the relationships between objects and classes, allowing for more dynamic and flexible code that takes advantage of polymorphic behavior."
   ]
  },
  {
   "cell_type": "markdown",
   "id": "2f476704-16b1-46f4-968b-40231d449e04",
   "metadata": {},
   "source": [
    "The isinstance() function checks if an object is an instance of a specified class or a tuple of classes.\n",
    "\n",
    "When working with polymorphic code, you may not always know the exact type of an object. isinstance() allows you to handle objects based on their actual types, enabling more flexible and generic code."
   ]
  },
  {
   "cell_type": "code",
   "execution_count": 20,
   "id": "79eedfe0-c7ba-4824-bec3-800b93966de8",
   "metadata": {},
   "outputs": [
    {
     "name": "stdout",
     "output_type": "stream",
     "text": [
      "It's an animal!\n"
     ]
    }
   ],
   "source": [
    "class Animal:\n",
    "    pass\n",
    "\n",
    "class Dog(Animal):\n",
    "    pass\n",
    "\n",
    "my_dog = Dog()\n",
    "\n",
    "if isinstance(my_dog, Animal):\n",
    "    print(\"It's an animal!\")\n"
   ]
  },
  {
   "cell_type": "markdown",
   "id": "3d7874dc-5436-4d00-a43a-a3a6225252c9",
   "metadata": {},
   "source": [
    "the issubclass() function checks if a class is a subclass of a specified class or a tuple of classes.\n",
    "\n",
    "When designing polymorphic functions or methods that accept a range of related classes, issubclass() helps ensure that the provided classes adhere to a certain inheritance structure."
   ]
  },
  {
   "cell_type": "code",
   "execution_count": 21,
   "id": "8f23d27c-71f1-48c4-afc4-cb609a042037",
   "metadata": {},
   "outputs": [
    {
     "name": "stdout",
     "output_type": "stream",
     "text": [
      "Car is a subclass of Vehicle\n"
     ]
    }
   ],
   "source": [
    "class Vehicle:\n",
    "    pass\n",
    "\n",
    "class Car(Vehicle):\n",
    "    pass\n",
    "\n",
    "if issubclass(Car, Vehicle):\n",
    "    print(\"Car is a subclass of Vehicle\")\n"
   ]
  },
  {
   "cell_type": "markdown",
   "id": "08586ab8-e744-4078-bc1e-412c8717323a",
   "metadata": {},
   "source": [
    "10. What is the role of the `@abstractmethod` decorator in achieving polymorphism in Python? Provide an \n",
    "example"
   ]
  },
  {
   "cell_type": "markdown",
   "id": "2e437874-1544-4ef3-b70d-ddb995904b7e",
   "metadata": {},
   "source": [
    "The @abstractmethod decorator in Python is part of the abc (Abstract Base Classes) module. It is used to declare abstract methods within abstract classes. Abstract methods are methods that must be implemented by concrete subclasses, enforcing a common interface across multiple classes. This mechanism helps achieve polymorphism by ensuring that subclasses provide their own implementations for specific methods."
   ]
  },
  {
   "cell_type": "code",
   "execution_count": 25,
   "id": "9fa6e757-f5ae-42ae-adfb-7fcfd7a5c63c",
   "metadata": {},
   "outputs": [
    {
     "name": "stdout",
     "output_type": "stream",
     "text": [
      "Circle Area: 78.5\n",
      "Square Area: 16\n"
     ]
    }
   ],
   "source": [
    "from abc import ABC, abstractmethod\n",
    "\n",
    "# Abstract class with abstract method\n",
    "class Shape(ABC):\n",
    "    @abstractmethod\n",
    "    def area(self):\n",
    "        pass\n",
    "\n",
    "# Concrete subclasses implementing the abstract method\n",
    "class Circle(Shape):\n",
    "    def __init__(self, radius):\n",
    "        self.radius = radius\n",
    "\n",
    "    def area(self):\n",
    "        return 3.14 * self.radius ** 2\n",
    "\n",
    "class Square(Shape):\n",
    "    def __init__(self, side_length):\n",
    "        self.side_length = side_length\n",
    "\n",
    "    def area(self):\n",
    "        return self.side_length ** 2\n",
    "\n",
    "# Using the classes\n",
    "circle = Circle(radius=5)\n",
    "square = Square(side_length=4)\n",
    "\n",
    "print(\"Circle Area:\", circle.area())  # Outputs: Circle Area: 78.5\n",
    "print(\"Square Area:\", square.area())  # Outputs: Square Area: 16\n"
   ]
  },
  {
   "cell_type": "markdown",
   "id": "8c0a461f-a6d7-48c5-a15c-0f9ac1ca7607",
   "metadata": {},
   "source": [
    "11. Create a Python class called `Shape` with a polymorphic method `area()` that calculates the area of different shapes (e.g., circle, rectangle, triangle)."
   ]
  },
  {
   "cell_type": "code",
   "execution_count": 1,
   "id": "06d7583c-6273-4129-ae31-6f74e4a82a80",
   "metadata": {},
   "outputs": [
    {
     "name": "stdout",
     "output_type": "stream",
     "text": [
      "Area of the circle: 78.53981633974483\n",
      "Area of the rectangle: 24\n",
      "Area of the triangle: 12.0\n"
     ]
    }
   ],
   "source": [
    "import math\n",
    "\n",
    "class Shape:\n",
    "    def area(self):\n",
    "        pass  # This method will be overridden by subclasses\n",
    "\n",
    "class Circle(Shape):\n",
    "    def __init__(self, radius):\n",
    "        self.radius = radius\n",
    "\n",
    "    def area(self):\n",
    "        return math.pi * self.radius ** 2\n",
    "\n",
    "class Rectangle(Shape):\n",
    "    def __init__(self, length, width):\n",
    "        self.length = length\n",
    "        self.width = width\n",
    "\n",
    "    def area(self):\n",
    "        return self.length * self.width\n",
    "\n",
    "class Triangle(Shape):\n",
    "    def __init__(self, base, height):\n",
    "        self.base = base\n",
    "        self.height = height\n",
    "\n",
    "    def area(self):\n",
    "        return 0.5 * self.base * self.height\n",
    "\n",
    "# Example usage:\n",
    "circle = Circle(5)\n",
    "rectangle = Rectangle(4, 6)\n",
    "triangle = Triangle(3, 8)\n",
    "\n",
    "print(\"Area of the circle:\", circle.area())\n",
    "print(\"Area of the rectangle:\", rectangle.area())\n",
    "print(\"Area of the triangle:\", triangle.area())\n"
   ]
  },
  {
   "cell_type": "markdown",
   "id": "573ff5bd-1fe2-4ca3-a057-35ed4204bc80",
   "metadata": {},
   "source": [
    "12. Discuss the benefits of polymorphism in terms of code reusability and flexibility in Python programs."
   ]
  },
  {
   "cell_type": "markdown",
   "id": "e515fd0b-0ca7-40d5-8000-6c493035d792",
   "metadata": {},
   "source": [
    "Code Reusability:\n",
    "\n",
    "Method Overriding: Polymorphism allows a method to be implemented in various ways in different classes. This means that you can use a common interface (like a method name) in a base class, and each subclass can provide its own specific implementation. This promotes code reuse because you can use the same method name across different classes without having to rewrite the entire method.\n",
    "\n",
    "Inheritance: Polymorphism is closely tied to inheritance. By creating a common base class and then deriving multiple classes from it, you can reuse the code and attributes of the base class in the derived classes. This helps in avoiding redundancy and promotes a more modular and organized code structure."
   ]
  },
  {
   "cell_type": "markdown",
   "id": "f9724e32-607d-4bf4-a034-2352cb809381",
   "metadata": {},
   "source": [
    "Flexibility:\n",
    "\n",
    "Dynamic Binding: Polymorphism in Python is achieved through dynamic binding. This means that the decision on which method to call is made at runtime. This flexibility allows you to substitute objects of a derived class for objects of the base class, making the code more adaptable to changes.\n",
    "\n",
    "Ease of Maintenance: Polymorphism makes it easier to maintain and extend code. If a new class needs to be added with a different implementation of a common method, you can create a new subclass without modifying the existing code. This follows the open-closed principle, which states that a class should be open for extension but closed for modification.\n",
    "\n",
    "Interchangeability: Objects of different classes that share a common base class can be used interchangeably. This is known as interface-based programming. You can write functions or methods that accept objects of the base class and, due to polymorphism, these functions will work seamlessly with objects of any derived class."
   ]
  },
  {
   "cell_type": "markdown",
   "id": "b997b266-a1c8-4db3-b5aa-3d8c9cd36955",
   "metadata": {},
   "source": [
    "13. Explain the use of the `super()` function in Python polymorphism. How does it help call methods of parent \n",
    "classes?"
   ]
  },
  {
   "cell_type": "markdown",
   "id": "73c29aca-c9aa-4038-8580-bce566fe019c",
   "metadata": {},
   "source": [
    "In Python, the super() function is used to call methods from a parent class within a subclass. It is particularly useful in the context of polymorphism and inheritance. When a class inherits from another class, the subclass can override methods from the parent class. However, sometimes it's necessary to call the overridden method of the parent class from the subclass. This is where super() comes in."
   ]
  },
  {
   "cell_type": "code",
   "execution_count": 2,
   "id": "650a7252-f032-47f7-a814-746f088ddacc",
   "metadata": {},
   "outputs": [
    {
     "name": "stdout",
     "output_type": "stream",
     "text": [
      "Animal speaks Woof!\n",
      "Animal speaks Meow!\n"
     ]
    }
   ],
   "source": [
    "class Animal:\n",
    "    def speak(self):\n",
    "        return \"Animal speaks\"\n",
    "\n",
    "class Dog(Animal):\n",
    "    def speak(self):\n",
    "        # Call the speak method of the parent class using super()\n",
    "        return super().speak() + \" Woof!\"\n",
    "\n",
    "class Cat(Animal):\n",
    "    def speak(self):\n",
    "        # Call the speak method of the parent class using super()\n",
    "        return super().speak() + \" Meow!\"\n",
    "\n",
    "# Create instances of Dog and Cat\n",
    "dog = Dog()\n",
    "cat = Cat()\n",
    "\n",
    "# Call the speak method of each instance\n",
    "print(dog.speak())  # Output: Animal speaks Woof!\n",
    "print(cat.speak())  # Output: Animal speaks Meow!\n"
   ]
  },
  {
   "cell_type": "markdown",
   "id": "c5aadc67-bd2d-475e-a872-ba2d00b7355c",
   "metadata": {},
   "source": [
    "14. Create a Python class hierarchy for a banking system with various account types (e.g., savings, checking, credit card) and demonstrate polymorphism by implementing a common `withdraw()` method"
   ]
  },
  {
   "cell_type": "code",
   "execution_count": 3,
   "id": "0f417528-ae1e-405f-b0e3-689ecef796e6",
   "metadata": {},
   "outputs": [
    {
     "name": "stdout",
     "output_type": "stream",
     "text": [
      "\n",
      "Performing withdrawal for Account Number SA001\n",
      "Withdrew $200. New balance: $800\n",
      "Account Number: SA001\n",
      "Balance: $800\n",
      "\n",
      "Performing withdrawal for Account Number CA001\n",
      "Withdrew $700. New balance: $-200\n",
      "Account Number: CA001\n",
      "Balance: $-200\n",
      "\n",
      "Performing withdrawal for Account Number CC001\n",
      "Insufficient funds!\n",
      "Account Number: CC001\n",
      "Balance: $100\n",
      "Interest added: $16.0. New balance: $816.0\n",
      "Account Number: CA001\n",
      "Balance: $-200\n",
      "Interest added: $10.0. New balance: $110.0\n"
     ]
    }
   ],
   "source": [
    "class BankAccount:\n",
    "    def __init__(self, account_number, balance=0):\n",
    "        self.account_number = account_number\n",
    "        self.balance = balance\n",
    "\n",
    "    def deposit(self, amount):\n",
    "        self.balance += amount\n",
    "        print(f\"Deposited ${amount}. New balance: ${self.balance}\")\n",
    "\n",
    "    def withdraw(self, amount):\n",
    "        if amount <= self.balance:\n",
    "            self.balance -= amount\n",
    "            print(f\"Withdrew ${amount}. New balance: ${self.balance}\")\n",
    "        else:\n",
    "            print(\"Insufficient funds!\")\n",
    "\n",
    "    def display_balance(self):\n",
    "        print(f\"Account Number: {self.account_number}\\nBalance: ${self.balance}\")\n",
    "\n",
    "\n",
    "class SavingsAccount(BankAccount):\n",
    "    def __init__(self, account_number, balance=0, interest_rate=0.02):\n",
    "        super().__init__(account_number, balance)\n",
    "        self.interest_rate = interest_rate\n",
    "\n",
    "    def add_interest(self):\n",
    "        interest = self.balance * self.interest_rate\n",
    "        self.balance += interest\n",
    "        print(f\"Interest added: ${interest}. New balance: ${self.balance}\")\n",
    "\n",
    "\n",
    "class CheckingAccount(BankAccount):\n",
    "    def __init__(self, account_number, balance=0, overdraft_limit=100):\n",
    "        super().__init__(account_number, balance)\n",
    "        self.overdraft_limit = overdraft_limit\n",
    "\n",
    "    def withdraw(self, amount):\n",
    "        if amount <= self.balance + self.overdraft_limit:\n",
    "            self.balance -= amount\n",
    "            print(f\"Withdrew ${amount}. New balance: ${self.balance}\")\n",
    "        else:\n",
    "            print(\"Overdraft limit exceeded!\")\n",
    "\n",
    "\n",
    "class CreditCardAccount(BankAccount):\n",
    "    def __init__(self, account_number, balance=0, credit_limit=500, interest_rate=0.1):\n",
    "        super().__init__(account_number, balance)\n",
    "        self.credit_limit = credit_limit\n",
    "        self.interest_rate = interest_rate\n",
    "\n",
    "    def calculate_interest(self):\n",
    "        interest = self.balance * self.interest_rate\n",
    "        self.balance += interest\n",
    "        print(f\"Interest added: ${interest}. New balance: ${self.balance}\")\n",
    "\n",
    "# Demonstrating polymorphism using the common withdraw() method\n",
    "def perform_withdrawal(account, amount):\n",
    "    print(f\"\\nPerforming withdrawal for Account Number {account.account_number}\")\n",
    "    account.withdraw(amount)\n",
    "    account.display_balance()\n",
    "\n",
    "# Create instances of different account types\n",
    "savings_account = SavingsAccount(\"SA001\", balance=1000)\n",
    "checking_account = CheckingAccount(\"CA001\", balance=500, overdraft_limit=200)\n",
    "credit_card_account = CreditCardAccount(\"CC001\", balance=100, credit_limit=1000)\n",
    "\n",
    "# Demonstrate polymorphism by calling the common withdraw() method\n",
    "perform_withdrawal(savings_account, 200)\n",
    "perform_withdrawal(checking_account, 700)\n",
    "perform_withdrawal(credit_card_account, 150)\n",
    "\n",
    "# Demonstrate specific methods of each account type\n",
    "savings_account.add_interest()\n",
    "checking_account.display_balance()\n",
    "credit_card_account.calculate_interest()\n"
   ]
  },
  {
   "cell_type": "markdown",
   "id": "6409ed82-42a6-4a4e-b320-bbb3f6463a35",
   "metadata": {},
   "source": [
    "15. Describe the concept of operator overloading in Python and how it relates to polymorphism. Provide \n",
    "examples using operators like `+` and `*`"
   ]
  },
  {
   "cell_type": "markdown",
   "id": "8d58aead-25cd-4647-aa5f-333edc069952",
   "metadata": {},
   "source": [
    "Operator overloading in Python refers to the ability to define or redefine the behavior of operators for user-defined data types or classes. It allows you to define how operators should behave for objects of a particular class. This feature makes it possible to perform operations on objects in a way that is intuitive and meaningful for the given class.\n",
    "\n",
    "Polymorphism, on the other hand, is the ability of a function or operator to take on different forms or behaviors based on the type of arguments it is applied to. Operator overloading is a form of polymorphism in which the same operator can exhibit different behaviors based on the types of its operands."
   ]
  },
  {
   "cell_type": "code",
   "execution_count": 11,
   "id": "2c76035e-8382-4136-a8fd-df43604c3278",
   "metadata": {},
   "outputs": [
    {
     "name": "stdout",
     "output_type": "stream",
     "text": [
      "4 6\n"
     ]
    }
   ],
   "source": [
    "class Point:\n",
    "    def __init__(self, x, y):\n",
    "        self.x = x\n",
    "        self.y = y\n",
    "    \n",
    "    # Overloading the '+' operator\n",
    "    # you can define any other operator as a dunder method amd implement its functionality in the function body\n",
    "    # for example __mul__\n",
    "    def __add__(self, other):\n",
    "        if isinstance(other, Point):\n",
    "            return Point(self.x + other.x, self.y + other.y)\n",
    "        else:\n",
    "            raise TypeError(\"Unsupported operand type\")\n",
    "\n",
    "# Creating two Point objects\n",
    "point1 = Point(1, 2)\n",
    "point2 = Point(3, 4)\n",
    "\n",
    "# Using the overloaded '+' operator\n",
    "result = point1 + point2\n",
    "\n",
    "# Displaying the result\n",
    "print(result.x, result.y)  \n"
   ]
  },
  {
   "cell_type": "markdown",
   "id": "b8ad8bed-bea9-451d-945e-892e63252e32",
   "metadata": {},
   "source": [
    "In this example, the __add__ method is defined in the Point class to overload the + operator. When the + operator is used with two Point objects, the __add__ method is called, and the addition operation is performed based on the class's logic."
   ]
  },
  {
   "cell_type": "markdown",
   "id": "f3daac4e-94f8-46ef-b40c-56e2fe252e7a",
   "metadata": {},
   "source": [
    "16. What is dynamic polymorphism, and how is it achieved in Python?"
   ]
  },
  {
   "cell_type": "markdown",
   "id": "8f27a6ce-911b-4904-8b8c-9834ef4cf585",
   "metadata": {},
   "source": [
    "Dynamic polymorphism, also known as runtime polymorphism, is a concept in object-oriented programming where the method that should be executed in response to a function or method call is determined at runtime. In other words, the decision about which method to invoke is made during program execution."
   ]
  },
  {
   "cell_type": "markdown",
   "id": "ca5ea006-ec73-41e0-863d-e801830e67c2",
   "metadata": {},
   "source": [
    "In Python, dynamic polymorphism is achieved through a mechanism called \"Duck Typing\" and the use of inheritance and method overriding. Duck typing is a concept that focuses on the object's behavior rather than its type. If an object behaves like a certain type, then it is treated as an instance of that type, regardless of its actual class."
   ]
  },
  {
   "cell_type": "code",
   "execution_count": 13,
   "id": "83850132-2653-41d9-a6c5-e34bd1d7e3ab",
   "metadata": {},
   "outputs": [
    {
     "name": "stdout",
     "output_type": "stream",
     "text": [
      "Woof!\n",
      "Meow!\n"
     ]
    }
   ],
   "source": [
    "class Animal:\n",
    "    def speak(self):\n",
    "        pass\n",
    "\n",
    "class Dog(Animal):\n",
    "    def speak(self):\n",
    "        return \"Woof!\"\n",
    "\n",
    "class Cat(Animal):\n",
    "    def speak(self):\n",
    "        return \"Meow!\"\n",
    "    \n",
    "def animal_speak(animal):\n",
    "    return animal.speak()\n",
    "\n",
    "dog = Dog()\n",
    "cat = Cat()\n",
    "\n",
    "print(animal_speak(dog))\n",
    "print(animal_speak(cat))"
   ]
  },
  {
   "cell_type": "markdown",
   "id": "2bdd52b5-93c4-46f5-8c38-76915e55b7c8",
   "metadata": {},
   "source": [
    "Static polymorphism, also known as compile-time polymorphism, is a type of polymorphism that is resolved during the compilation phase rather than at runtime. In languages that support static polymorphism, the decision about which method to call is made at compile time based on the types of the arguments and the method signatures."
   ]
  },
  {
   "cell_type": "code",
   "execution_count": 15,
   "id": "26278f8f-0d23-4263-973e-1f86aa0d9ef3",
   "metadata": {},
   "outputs": [
    {
     "ename": "TypeError",
     "evalue": "Calculator.add() missing 1 required positional argument: 'z'",
     "output_type": "error",
     "traceback": [
      "\u001b[0;31m---------------------------------------------------------------------------\u001b[0m",
      "\u001b[0;31mTypeError\u001b[0m                                 Traceback (most recent call last)",
      "Cell \u001b[0;32mIn[15], line 12\u001b[0m\n\u001b[1;32m      9\u001b[0m calc \u001b[38;5;241m=\u001b[39m Calculator()\n\u001b[1;32m     11\u001b[0m \u001b[38;5;66;03m# Calling the overloaded methods\u001b[39;00m\n\u001b[0;32m---> 12\u001b[0m result1 \u001b[38;5;241m=\u001b[39m \u001b[43mcalc\u001b[49m\u001b[38;5;241;43m.\u001b[39;49m\u001b[43madd\u001b[49m\u001b[43m(\u001b[49m\u001b[38;5;241;43m2\u001b[39;49m\u001b[43m,\u001b[49m\u001b[43m \u001b[49m\u001b[38;5;241;43m3\u001b[39;49m\u001b[43m)\u001b[49m\n\u001b[1;32m     13\u001b[0m result2 \u001b[38;5;241m=\u001b[39m calc\u001b[38;5;241m.\u001b[39madd(\u001b[38;5;241m2\u001b[39m, \u001b[38;5;241m3\u001b[39m, \u001b[38;5;241m4\u001b[39m)\n\u001b[1;32m     15\u001b[0m \u001b[38;5;28mprint\u001b[39m(result1)  \u001b[38;5;66;03m# Output: Error (because the method with two parameters is overridden)\u001b[39;00m\n",
      "\u001b[0;31mTypeError\u001b[0m: Calculator.add() missing 1 required positional argument: 'z'"
     ]
    }
   ],
   "source": [
    "class Calculator:\n",
    "    def add(self, x, y):\n",
    "        return x + y\n",
    "\n",
    "    def add(self, x, y, z):\n",
    "        return x + y + z\n",
    "\n",
    "# Creating an instance of Calculator\n",
    "calc = Calculator()\n",
    "\n",
    "# Calling the overloaded methods\n",
    "result1 = calc.add(2, 3)\n",
    "result2 = calc.add(2, 3, 4)\n",
    "\n",
    "print(result1)  # Output: Error (because the method with two parameters is overridden)\n",
    "print(result2)  # Output: 9\n",
    "\n",
    "\n",
    "#depending on the numbero of parameters or type of parameters we can achieve method overloading not achievable in python because python is dynamically typed"
   ]
  },
  {
   "cell_type": "markdown",
   "id": "89471c7f-2b06-4d90-8867-968a0e803808",
   "metadata": {},
   "source": [
    "17. Create a Python class hierarchy for employees in a company (e.g., manager, developer, designer) and implement polymorphism through a common `calculate_salary()` method."
   ]
  },
  {
   "cell_type": "code",
   "execution_count": 16,
   "id": "a907a69a-1e7f-45f9-a19e-b82a2f132fcf",
   "metadata": {},
   "outputs": [
    {
     "data": {
      "text/plain": [
       "'your salary is $200000'"
      ]
     },
     "execution_count": 16,
     "metadata": {},
     "output_type": "execute_result"
    }
   ],
   "source": [
    "class Employee:\n",
    "    def __init__(self,name):\n",
    "        self.name = name\n",
    "        \n",
    "    def calculate_salary(self):\n",
    "        pass\n",
    "    \n",
    "    \n",
    "class Manager(Employee):\n",
    "    def __init__(self,name):\n",
    "        super().__init__(name)\n",
    "        \n",
    "    def calculate_salary(self):\n",
    "        return f'your salary is $200000'\n",
    "    \n",
    "class Develoer(Employee):\n",
    "    def _init__(self,name):\n",
    "        super().__init__(name)\n",
    "        \n",
    "    def calculate_salary(self):\n",
    "        return f'your salary is $150000'\n",
    "\n",
    "class Designer(Employee):\n",
    "    def __init__(self,name):\n",
    "        super().__init__(name)\n",
    "        \n",
    "    def calculate_salary(self):\n",
    "        return f'your salary is $100000'\n",
    "    \n",
    "    \n",
    "def calculate_salary(instance):\n",
    "    return instance.calculate_salary()\n",
    "\n",
    "\n",
    "trevor = Manager('trevor')\n",
    "calculate_salary(trevor)\n",
    "        "
   ]
  },
  {
   "cell_type": "markdown",
   "id": "3b98c6cf-1aca-4d7a-a65f-6f2376cf70b4",
   "metadata": {},
   "source": [
    "18. Discuss the concept of function pointers and how they can be used to achieve polymorphism in Python."
   ]
  },
  {
   "cell_type": "markdown",
   "id": "360701ed-e1ef-43c0-bd93-56d31b17fd3a",
   "metadata": {},
   "source": [
    "In many programming languages, including C and C++, function pointers allow you to create variables that store the address of functions. This provides a way to call functions indirectly and pass functions as arguments to other functions."
   ]
  },
  {
   "cell_type": "markdown",
   "id": "f40c652f-8e2d-419b-8f60-2853fa5459fa",
   "metadata": {},
   "source": [
    "In Python, functions are first-class objects, meaning they can be assigned to variables, passed as arguments to other functions, and returned as values from other functions. This enables the use of functions as objects that can be manipulated like any other data type."
   ]
  },
  {
   "cell_type": "markdown",
   "id": "a697ccc4-b38b-499f-85df-cc81c6e3bba7",
   "metadata": {},
   "source": [
    "Achieving Polymorphism:\n",
    "\n"
   ]
  },
  {
   "cell_type": "markdown",
   "id": "b16ee345-5afd-461d-92d4-306e403832e4",
   "metadata": {},
   "source": [
    " In Python, polymorphism can be achieved through the use of first-class functions, allowing different functions to be used interchangeably.\n",
    " \n",
    " for example:"
   ]
  },
  {
   "cell_type": "code",
   "execution_count": 8,
   "id": "8e078fa2-7547-4a24-ab74-d6ef9f1d242d",
   "metadata": {},
   "outputs": [],
   "source": [
    "def add(x, y):\n",
    "    return x + y\n",
    "\n",
    "def multiply(x, y):\n",
    "    return x * y\n",
    "\n",
    "def perform_operation(x, y, operation):\n",
    "    return operation(x, y)\n",
    "\n",
    "# Using the functions interchangeably\n",
    "result_add = perform_operation(3, 4, add)\n",
    "result_multiply = perform_operation(3, 4, multiply)\n"
   ]
  },
  {
   "cell_type": "code",
   "execution_count": 9,
   "id": "b353817e-ceb3-4014-9a24-e1ff2a88e3f6",
   "metadata": {},
   "outputs": [
    {
     "name": "stdout",
     "output_type": "stream",
     "text": [
      "7\n"
     ]
    }
   ],
   "source": [
    "print(result_add)"
   ]
  },
  {
   "cell_type": "markdown",
   "id": "421fab7a-00a7-445b-ae88-3f9218668879",
   "metadata": {},
   "source": [
    "19. Explain the role of interfaces and abstract classes in polymorphism, drawing comparisons between them"
   ]
  },
  {
   "cell_type": "markdown",
   "id": "70dc3de2-47a7-487f-a9d4-1cc0a054abfe",
   "metadata": {},
   "source": [
    "An interface in Python is a class that has abstract methods (methods without implementation). Any class that inherits from this interface (abstract class) is required to provide concrete implementations for all the abstract methods while Abstract classes in Python are classes that cannot be instantiated on their own and may contain abstract methods it is instansiated with the ABC module"
   ]
  },
  {
   "cell_type": "markdown",
   "id": "042bc274-b214-4f71-af4a-136be17a8898",
   "metadata": {},
   "source": [
    "Interfaces:\n",
    "\n",
    "Role in Polymorphism:\n",
    "\n",
    "Interfaces provide a way to achieve abstraction and define a contract that classes must adhere to.\n",
    "A class implementing an interface promises to provide concrete implementations for all methods declared in that interface.\n",
    "Objects of classes implementing the same interface can be treated interchangeably."
   ]
  },
  {
   "cell_type": "markdown",
   "id": "d7121540-46cf-41d7-8a19-4932ee3cc073",
   "metadata": {},
   "source": [
    "Comparison:\n",
    "\n",
    "An interface can declare methods, but it cannot provide a default implementation.\n",
    "A class can implement multiple interfaces, allowing it to exhibit polymorphism across multiple contracts.\n",
    "Interfaces support multiple inheritance, as a class can implement multiple interfaces."
   ]
  },
  {
   "cell_type": "markdown",
   "id": "f2371a29-76f9-4a00-b17b-b1fe13ce90e6",
   "metadata": {},
   "source": [
    "Abstract Classes:\n",
    "\n",
    "Role in Polymorphism:\n",
    "\n",
    "Abstract classes allow for partial abstraction by defining abstract methods (methods without implementation) that must be implemented by derived classes.\n",
    "Objects of different classes derived from the same abstract class can be treated as instances of the abstract class, promoting polymorphism.\n",
    "\n",
    "Comparison:\n",
    "\n",
    "An abstract class can have abstract methods (methods without implementation) and concrete methods (methods with implementation).\n",
    "A class can inherit from only one abstract class, limiting the ability to exhibit polymorphism across multiple base classes.\n",
    "Abstract classes can have member variables and constructors, providing more features than interfaces."
   ]
  },
  {
   "cell_type": "markdown",
   "id": "ecb7b0c2-243f-4493-96e1-d51c276d496e",
   "metadata": {},
   "source": [
    "20. Create a Python class for a zoo simulation, demonstrating polymorphism with different animal types (e.g., mammals, birds, reptiles) and their behavior (e.g., eating, sleeping, making sounds)"
   ]
  },
  {
   "cell_type": "code",
   "execution_count": 3,
   "id": "a405b16a-9f56-482f-8269-2d7e5d383ca2",
   "metadata": {},
   "outputs": [
    {
     "name": "stdout",
     "output_type": "stream",
     "text": [
      "elephant is sleeping\n",
      "gecko is eating\n",
      "eagle is making a sound\n"
     ]
    }
   ],
   "source": [
    "## zoo simulation\n",
    "## interface class\n",
    "class Animal:\n",
    "    def __init__(self,animal):\n",
    "        self.animal = animal\n",
    "        \n",
    "    \n",
    "    def  eating(self):\n",
    "        pass\n",
    "    \n",
    "    def sleeping(self):\n",
    "        pass\n",
    "    \n",
    "    def making_sounds(self):\n",
    "        pass\n",
    "    \n",
    "    \n",
    "    \n",
    "class Mammal(Animal):\n",
    "    def eating(self):\n",
    "        return f\"{self.animal} is eating\"\n",
    "    \n",
    "    def sleeping(self):\n",
    "        return  f\"{self.animal} is sleeping\"\n",
    "    \n",
    "    def making_sounds(self):\n",
    "        return  f\"{self.animal} is making a sound\"\n",
    "    \n",
    "\n",
    "class Reptile(Animal):\n",
    "    def eating(self):\n",
    "        return f\"{self.animal} is eating\"\n",
    "    \n",
    "    def sleeping(self):\n",
    "        return  f\"{self.animal} is sleeping\"\n",
    "    \n",
    "    def making_sounds(self):\n",
    "        return  f\"{self.animal} is making a sound\"\n",
    "    \n",
    "\n",
    "class Bird(Animal):\n",
    "    def eating(self):\n",
    "        return f\"{self.animal} is eating\"\n",
    "    \n",
    "    def sleeping(self):\n",
    "        return  f\"{self.animal} is sleeping\"\n",
    "    \n",
    "    def making_sounds(self):\n",
    "        return  f\"{self.animal} is making a sound\"\n",
    "    \n",
    "    \n",
    "    \n",
    "def sleeping(animal):\n",
    "    return animal.sleeping()\n",
    "\n",
    "def eating(animal):\n",
    "    return animal.eating()\n",
    "\n",
    "def making_sounds(animal):\n",
    "    return animal.making_sounds()\n",
    "\n",
    "\n",
    "elephant = Mammal('elephant')\n",
    "gecko = Reptile('gecko')\n",
    "eagle = Bird('eagle')\n",
    "\n",
    "print(sleeping(elephant))\n",
    "print(eating(gecko))\n",
    "print(making_sounds(eagle))\n",
    "\n"
   ]
  },
  {
   "cell_type": "markdown",
   "id": "6eceaa2d-332d-4273-85f9-d9f86afb8cc1",
   "metadata": {},
   "source": [
    "all in all (summarry)"
   ]
  },
  {
   "cell_type": "markdown",
   "id": "814286fb-84b1-414d-9dae-ddeeee66f05d",
   "metadata": {},
   "source": [
    "Polymorphism allows objects of different types to be treated as instances of a common type, enabling flexibility and interchangeability. Here's an example in Python:"
   ]
  },
  {
   "cell_type": "code",
   "execution_count": 5,
   "id": "2147530c-dc18-404e-b64b-91f90b7b8fef",
   "metadata": {},
   "outputs": [
    {
     "name": "stdout",
     "output_type": "stream",
     "text": [
      "Woof!\n",
      "Meow!\n",
      "Tweet!\n"
     ]
    }
   ],
   "source": [
    "class Animal:\n",
    "    def __init__(self, name):\n",
    "        self.name = name\n",
    "\n",
    "    def make_sound(self):\n",
    "        pass\n",
    "\n",
    "class Dog(Animal):\n",
    "    def make_sound(self):\n",
    "        return \"Woof!\"\n",
    "\n",
    "class Cat(Animal):\n",
    "    def make_sound(self):\n",
    "        return \"Meow!\"\n",
    "\n",
    "class Bird(Animal):\n",
    "    def make_sound(self):\n",
    "        return \"Tweet!\"\n",
    "\n",
    "# Function demonstrating polymorphism\n",
    "def animal_sound(animal):\n",
    "    return animal.make_sound()\n",
    "\n",
    "# Create instances of different classes\n",
    "dog = Dog(name=\"Buddy\")\n",
    "cat = Cat(name=\"Whiskers\")\n",
    "bird = Bird(name=\"Tweetie\")\n",
    "\n",
    "# Use the function with different objects\n",
    "print(animal_sound(dog))  # Output: Woof!\n",
    "print(animal_sound(cat))  # Output: Meow!\n",
    "print(animal_sound(bird))  # Output: Tweet!\n"
   ]
  },
  {
   "cell_type": "markdown",
   "id": "d6350192-8324-4b21-a370-32ba9b1c3e44",
   "metadata": {},
   "source": [
    "The Animal class defines a common interface with the make_sound method.\n",
    "The Dog, Cat, and Bird classes inherit from Animal and provide specific implementations for the make_sound method.\n",
    "The animal_sound function takes an object of type Animal and calls the make_sound method, regardless of the specific type of animal.\n",
    "This demonstrates polymorphism because different objects (dog, cat, and bird) are treated as instances of the common type Animal, allowing the same method (make_sound) to be called on them. This flexibility simplifies code and allows for more generic and reusable functions."
   ]
  },
  {
   "cell_type": "markdown",
   "id": "b9cb7ded-d5a6-4fa5-a3bb-38c5036d140c",
   "metadata": {
    "jp-MarkdownHeadingCollapsed": true,
    "tags": []
   },
   "source": [
    "## Abstraction:"
   ]
  },
  {
   "cell_type": "markdown",
   "id": "40dd4ea9-737f-479d-84d7-1c26dc968b45",
   "metadata": {},
   "source": [
    "1. What is abstraction in Python, and how does it relate to object-oriented programming?"
   ]
  },
  {
   "cell_type": "markdown",
   "id": "e300f9dc-ad33-4676-a519-c8816b4acaa9",
   "metadata": {},
   "source": [
    "abstraction is a fundamental concept in object-oriented programming (OOP) and is closely related to the idea of modeling real-world entities in a simplified manner. Abstraction involves representing the essential features of an object while hiding the non-essential details. In Python, as in other object-oriented languages, abstraction is implemented using classes and objects."
   ]
  },
  {
   "cell_type": "markdown",
   "id": "435cc203-5bf4-439d-a058-c12552e86bea",
   "metadata": {},
   "source": [
    "2. Describe the benefits of abstraction in terms of code organization and complexity reduction"
   ]
  },
  {
   "cell_type": "markdown",
   "id": "0bf97538-bd1b-4187-a0b4-de24e0416188",
   "metadata": {},
   "source": [
    "Simplification of Complex Systems:\n",
    "\n",
    "Abstraction allows developers to model complex systems in a simplified manner by focusing on essential features and hiding unnecessary details. This makes it easier for programmers to understand and work with the code."
   ]
  },
  {
   "cell_type": "markdown",
   "id": "53e244ba-9b62-443a-ab36-5a4d122bcf1f",
   "metadata": {},
   "source": [
    "Modularity and Code Reusability:\n",
    "\n",
    "Abstraction encourages the creation of modular code by organizing functionality into classes and objects. Modules can be developed and tested independently, promoting code reusability across different parts of a program or in different projects."
   ]
  },
  {
   "cell_type": "markdown",
   "id": "79ff7d7e-730f-4c06-9569-149819fb6672",
   "metadata": {},
   "source": [
    "Encapsulation:\n",
    "\n",
    "By encapsulating data and methods within classes, abstraction promotes information hiding and reduces the chances of unintended interference or modification. This enhances the security and stability of the codebase."
   ]
  },
  {
   "cell_type": "markdown",
   "id": "a26a65bd-01a5-4760-8e34-98d01cfb5a27",
   "metadata": {},
   "source": [
    "Improved Collaboration:\n",
    "\n",
    "Abstraction facilitates collaboration among developers by providing a clear and standardized way of interacting with different parts of the codebase. It allows multiple developers to work on different components simultaneously without causing conflicts, as long as they adhere to the defined interfaces."
   ]
  },
  {
   "cell_type": "markdown",
   "id": "a2859ea5-3983-466a-a14d-93e93abe9718",
   "metadata": {},
   "source": [
    "Scalability:\n",
    "\n",
    "Abstraction contributes to the scalability of a software system. As the requirements evolve and the system grows, developers can extend or modify the existing abstraction without affecting the entire codebase. This makes it easier to adapt the software to changing needs."
   ]
  },
  {
   "cell_type": "markdown",
   "id": "a3f1690c-6e06-46db-b4d3-cd0dab36e905",
   "metadata": {},
   "source": [
    "3. Create a Python class called `Shape` with an abstract method `calculate_area()`. Then, create child classes (e.g., `Circle`, `Rectangle`) that implement the `calculate_area()` method. Provide an example of \n",
    "using these classes."
   ]
  },
  {
   "cell_type": "code",
   "execution_count": 6,
   "id": "8c89775b-f2e9-4c18-8e43-b8e4ce1e74b2",
   "metadata": {},
   "outputs": [
    {
     "name": "stdout",
     "output_type": "stream",
     "text": [
      "Area of the circle: 78.54 square units\n",
      "Area of the rectangle: 24 square units\n"
     ]
    }
   ],
   "source": [
    "from abc import ABC, abstractmethod\n",
    "from math import pi\n",
    "\n",
    "class Shape(ABC):\n",
    "    @abstractmethod\n",
    "    def calculate_area(self):\n",
    "        pass\n",
    "\n",
    "class Circle(Shape):\n",
    "    def __init__(self, radius):\n",
    "        self.radius = radius\n",
    "\n",
    "    def calculate_area(self):\n",
    "        return pi * self.radius**2\n",
    "\n",
    "class Rectangle(Shape):\n",
    "    def __init__(self, width, height):\n",
    "        self.width = width\n",
    "        self.height = height\n",
    "\n",
    "    def calculate_area(self):\n",
    "        return self.width * self.height\n",
    "\n",
    "# Example usage:\n",
    "\n",
    "# Create instances of the Circle and Rectangle classes\n",
    "circle = Circle(radius=5)\n",
    "rectangle = Rectangle(width=4, height=6)\n",
    "\n",
    "# Calculate and print the area of the Circle\n",
    "circle_area = circle.calculate_area()\n",
    "print(f\"Area of the circle: {circle_area:.2f} square units\")\n",
    "\n",
    "# Calculate and print the area of the Rectangle\n",
    "rectangle_area = rectangle.calculate_area()\n",
    "print(f\"Area of the rectangle: {rectangle_area} square units\")\n"
   ]
  },
  {
   "cell_type": "markdown",
   "id": "50bd003c-78f0-43d1-88a2-9fa15cf6777d",
   "metadata": {},
   "source": [
    "The ABC (Abstract Base Class) module is used to define abstract classes and abstract methods. The @abstractmethod decorator is applied to the calculate_area() method in the Shape class to indicate that it must be implemented by any concrete subclass.\n",
    "\n",
    "\n",
    "\n",
    "\n",
    "\n"
   ]
  },
  {
   "cell_type": "markdown",
   "id": "9169c7f6-7217-417d-9a8e-b247806e83a7",
   "metadata": {},
   "source": [
    "4. Explain the concept of abstract classes in Python and how they are defined using the `abc` module. Provide \n",
    "an example"
   ]
  },
  {
   "cell_type": "markdown",
   "id": "98012c2b-5f8e-427e-92c7-5e7f8c076f40",
   "metadata": {},
   "source": [
    "Abstract classes in Python are classes that cannot be instantiated on their own and are meant to be subclassed by other classes. They may contain abstract methods, which are methods declared but have no implementation in the abstract class itself. Subclasses of an abstract class must provide concrete implementations for these abstract methods. The primary purpose of abstract classes is to define a common interface for a group of related classes while leaving the specific implementation details to the subclasses."
   ]
  },
  {
   "cell_type": "markdown",
   "id": "35598881-da39-4584-9238-e94d604b9766",
   "metadata": {},
   "source": [
    "In Python, the abc (Abstract Base Classes) module provides tools for working with abstract classes. The ABC class and the abstractmethod decorator from this module are used to define abstract classes and abstract methods, respectively."
   ]
  },
  {
   "cell_type": "code",
   "execution_count": 7,
   "id": "633e6f01-8cd9-4047-9a3d-2ff91074fa65",
   "metadata": {},
   "outputs": [
    {
     "name": "stdout",
     "output_type": "stream",
     "text": [
      "Area of the circle: 78.50 square units\n",
      "Area of the rectangle: 24 square units\n"
     ]
    }
   ],
   "source": [
    "from abc import ABC, abstractmethod\n",
    "\n",
    "class Shape(ABC):\n",
    "    @abstractmethod\n",
    "    def calculate_area(self):\n",
    "        pass\n",
    "\n",
    "class Circle(Shape):\n",
    "    def __init__(self, radius):\n",
    "        self.radius = radius\n",
    "\n",
    "    def calculate_area(self):\n",
    "        return 3.14 * self.radius**2  # Concrete implementation for Circle\n",
    "\n",
    "class Rectangle(Shape):\n",
    "    def __init__(self, width, height):\n",
    "        self.width = width\n",
    "        self.height = height\n",
    "\n",
    "    def calculate_area(self):\n",
    "        return self.width * self.height  # Concrete implementation for Rectangle\n",
    "\n",
    "# Example usage:\n",
    "\n",
    "# Creating instances of the Circle and Rectangle classes\n",
    "circle = Circle(radius=5)\n",
    "rectangle = Rectangle(width=4, height=6)\n",
    "\n",
    "# Calling the calculate_area method on Circle and Rectangle objects\n",
    "circle_area = circle.calculate_area()\n",
    "rectangle_area = rectangle.calculate_area()\n",
    "\n",
    "# Printing the calculated areas\n",
    "print(f\"Area of the circle: {circle_area:.2f} square units\")\n",
    "print(f\"Area of the rectangle: {rectangle_area} square units\")\n"
   ]
  },
  {
   "cell_type": "markdown",
   "id": "066d2936-66aa-4bfa-a1ce-153d89313b0f",
   "metadata": {},
   "source": [
    "5. How do abstract classes differ from regular classes in Python? Discuss their use cases"
   ]
  },
  {
   "cell_type": "markdown",
   "id": "270a30b2-d786-4edf-a28e-ccc1b78e5117",
   "metadata": {},
   "source": [
    "Abstract Classes:\n",
    "Cannot Be Instantiated Directly:\n",
    "\n",
    "Abstract classes cannot be instantiated directly. They are meant to serve as a blueprint for other classes. Instances can only be created from concrete subclasses that provide implementations for the abstract methods.\n",
    "May Contain Abstract Methods:\n",
    "\n",
    "Abstract classes may contain abstract methods, which are methods declared but not implemented in the abstract class itself. Subclasses must provide concrete implementations for these abstract methods.\n",
    "Defined Using the abc Module:\n",
    "\n",
    "Abstract classes in Python are typically defined using the abc (Abstract Base Classes) module. The ABC class and the @abstractmethod decorator are used to declare abstract classes and methods, respectively.\n",
    "Enforce Structure in Subclasses:\n",
    "\n",
    "Abstract classes are used to enforce a common structure or interface in a group of related classes. They provide a way to define a set of methods that must be implemented by subclasses, ensuring a consistent API.\n",
    "Promote Code Flexibility:\n",
    "\n",
    "Abstract classes promote flexibility in code design. They allow developers to provide a common interface for a family of classes while allowing individual subclasses to have their own specific implementations."
   ]
  },
  {
   "cell_type": "markdown",
   "id": "2e77211f-34b4-423d-905c-26c76607bb86",
   "metadata": {},
   "source": [
    "Regular Classes:\n",
    "Can Be Instantiated Directly:\n",
    "\n",
    "Regular classes can be instantiated directly. They provide concrete implementations for all methods, and objects can be created without the need for further subclassing.\n",
    "May Have Both Data and Methods:\n",
    "\n",
    "Regular classes can have both data attributes and methods with implementations. They are used to represent concrete entities or concepts in a program.\n",
    "No Requirement for Abstract Methods:\n",
    "\n",
    "Regular classes do not have a requirement to include abstract methods. All methods in a regular class have concrete implementations within the class.\n",
    "Use Case:\n",
    "\n",
    "Regular classes are suitable for situations where you have a concrete implementation for all methods and attributes, and you want to create instances of the class directly. For example, a Person class with attributes like name and age and methods like get_details could be a regular class."
   ]
  },
  {
   "cell_type": "markdown",
   "id": "6b283b15-408b-48b5-a4b6-3e137392f04c",
   "metadata": {},
   "source": [
    "6. Create a Python class for a bank account and demonstrate abstraction by hiding the account balance and \n",
    "providing methods to deposit and withdraw funds"
   ]
  },
  {
   "cell_type": "code",
   "execution_count": 19,
   "id": "1f089e28-a966-4057-b0d9-9ef4375889cd",
   "metadata": {},
   "outputs": [
    {
     "name": "stdout",
     "output_type": "stream",
     "text": [
      "trevor your account balance is 5000$\n",
      "you have succussefully deposited 2000$, new account balance is 7000$\n",
      "you have succussefully withdrawn 1000$, new account balance is 6000$\n"
     ]
    }
   ],
   "source": [
    "class Bank_account:\n",
    "    def __init__(self,name,acc_no,balance=0):\n",
    "        self.name = name\n",
    "        self._acc_no = acc_no\n",
    "        self.__balance = balance\n",
    "        \n",
    "    def get_balance(self):\n",
    "        return f\"{self.name} your account balance is {self.__balance}$\"\n",
    "    \n",
    "    def deposit(self,amount):\n",
    "        self.__balance += amount\n",
    "        return f\"you have succussefully deposited {amount}$, new account balance is {self.__balance}$\"\n",
    "    \n",
    "    def withdraw(self,amount):\n",
    "        self.__balance -= amount\n",
    "        return f\"you have succussefully withdrawn {amount}$, new account balance is {self.__balance}$\"\n",
    "    \n",
    "    \n",
    "trevor = Bank_account('trevor','45455555',5000)\n",
    "print(trevor.get_balance())\n",
    "print(trevor.deposit(2000))\n",
    "print(trevor.withdraw(1000))"
   ]
  },
  {
   "cell_type": "markdown",
   "id": "90b10cbe-33fa-41c8-baef-4b76608fff7d",
   "metadata": {},
   "source": [
    "7. Discuss the concept of interface classes in Python and their role in achieving abstraction"
   ]
  },
  {
   "cell_type": "markdown",
   "id": "e7e81003-fb59-43d7-825e-60b792551093",
   "metadata": {},
   "source": [
    "In Python, interface classes are not a built-in feature like in some other programming languages (e.g., Java). However, the concept of interface-like behavior and achieving abstraction is often implemented through abstract base classes (ABCs) in Python."
   ]
  },
  {
   "cell_type": "markdown",
   "id": "b92d12bb-1f70-41cc-b937-bc9d7e4841a0",
   "metadata": {},
   "source": [
    "This is where you define a class and its methods and the subclasses implement the super class methods.Abstract base classes provide a way to define a common interface for a set of related classes, without necessarily providing a complete implementation. They allow you to define a blueprint for methods that must be implemented by any concrete (non-abstract) class that inherits from them. The abc module in Python is typically used for creating abstract base classes."
   ]
  },
  {
   "cell_type": "markdown",
   "id": "1b4ff826-bbe2-4f1d-9183-b4e188a852f3",
   "metadata": {},
   "source": [
    "8. Create a Python class hierarchy for animals and implement abstraction by defining common methods (e.g., `eat()`, `sleep()`) in an abstract base class"
   ]
  },
  {
   "cell_type": "code",
   "execution_count": 2,
   "id": "9792b5b5-3dd3-4bae-9452-3fbf5be4c38d",
   "metadata": {},
   "outputs": [
    {
     "name": "stdout",
     "output_type": "stream",
     "text": [
      "the dog is eating\n",
      "the cat is sleeping\n"
     ]
    }
   ],
   "source": [
    "from abc import ABC,abstractmethod\n",
    "\n",
    "class Animal(ABC):\n",
    "    @abstractmethod\n",
    "    def eat(self):\n",
    "        pass\n",
    "    \n",
    "    def sleep(self):\n",
    "        pass\n",
    "    \n",
    "class Dog(Animal):\n",
    "    def eat(self):\n",
    "        return \"the dog is eating\"\n",
    "    \n",
    "    def sleep(self):\n",
    "        return \"the dog is sleeping\"\n",
    "    \n",
    "\n",
    "class Cat(Animal):\n",
    "    def eat(self):\n",
    "        return \"the cat is eating\"\n",
    "    \n",
    "    def sleep(self):\n",
    "        return \"the cat is sleeping\"\n",
    "    \n",
    "    \n",
    "    \n",
    "def eat(animal):\n",
    "    return animal.eat()\n",
    "\n",
    "def sleep(animal):\n",
    "    return animal.sleep()\n",
    "\n",
    "dog = Dog()\n",
    "cat = Cat()\n",
    "\n",
    "print(eat(dog))\n",
    "print(sleep(cat))\n",
    "    "
   ]
  },
  {
   "cell_type": "markdown",
   "id": "c397505a-1744-4607-88b8-4568e470a45e",
   "metadata": {},
   "source": [
    "9. Explain the significance of encapsulation in achieving abstraction. Provide examples."
   ]
  },
  {
   "cell_type": "markdown",
   "id": "d305b8ee-c93a-4d4e-a3b7-6359f2da5708",
   "metadata": {},
   "source": [
    "\n",
    "Encapsulation is one of the fundamental principles of object-oriented programming (OOP) and plays a crucial role in achieving abstraction, which is the process of hiding the internal details of an object and exposing only what is necessary. Encapsulation involves bundling the data (attributes) and the methods (functions) that operate on the data into a single unit, known as a class. This helps in controlling access to the internal details of an object, providing a way to enforce data integrity and promoting a clear and well-defined interface."
   ]
  },
  {
   "cell_type": "markdown",
   "id": "7c810a1e-9675-45c2-8d21-76a82d13c17b",
   "metadata": {},
   "source": [
    "1. Data Hiding:\n",
    "Encapsulation allows you to hide the internal state of an object from the outside world. This helps in preventing unauthorized access and modification of an object's data."
   ]
  },
  {
   "cell_type": "markdown",
   "id": "f741a3e3-e483-4505-95db-8faf6b01a201",
   "metadata": {},
   "source": [
    " Implementation Hiding:\n",
    "Encapsulation allows you to hide the implementation details of methods, exposing only the method signatures. This shields the users of a class from the complexity of its internal workings."
   ]
  },
  {
   "cell_type": "markdown",
   "id": "bda66a26-18f9-4c14-a30a-3df1caa57a8d",
   "metadata": {},
   "source": [
    "3. Code Maintenance:\n",
    "Encapsulation simplifies code maintenance by providing a clear and well-defined interface. If the internal implementation of a class needs to change, the external code that uses the class can remain unchanged as long as the interface remains consistent."
   ]
  },
  {
   "cell_type": "markdown",
   "id": "cd0690e8-161d-47e1-a4a7-6a07ab206ef3",
   "metadata": {},
   "source": [
    "10. What is the purpose of abstract methods, and how do they enforce abstraction in Python classes?"
   ]
  },
  {
   "cell_type": "markdown",
   "id": "94af5998-7bca-4fc9-95b3-f6a754b9d34a",
   "metadata": {},
   "source": [
    "Abstract methods in Python are methods declared in an abstract base class (ABC) that have no implementation in the base class itself. Instead, the responsibility for providing an implementation lies with the concrete (non-abstract) classes that inherit from the abstract base class. Abstract methods serve the purpose of defining a common interface that concrete classes must adhere to, enforcing a level of abstraction."
   ]
  },
  {
   "cell_type": "markdown",
   "id": "5f60a636-d7af-4b10-a3f1-5aed8a8a43cd",
   "metadata": {},
   "source": [
    "**how they enforce abstraction**\n",
    "Using the abc Module:\n",
    "\n",
    "Abstract base classes are typically created using the abc module in Python. The ABC (Abstract Base Class) class and the @abstractmethod decorator are used to define abstract methods.\n",
    "\n",
    "Concrete Class Implementation:\n",
    "\n",
    "Concrete classes that inherit from the abstract base class are required to implement all abstract methods. If a concrete class fails to do so, it itself becomes abstract, and an attempt to instantiate it will result in a TypeError."
   ]
  },
  {
   "cell_type": "markdown",
   "id": "ba3c128e-a57b-42fb-ac54-fec2278f3bc0",
   "metadata": {},
   "source": [
    "Enforcement at Runtime:\n",
    "\n",
    "Abstraction is enforced at runtime when an attempt is made to instantiate a concrete class that hasn't implemented all the abstract methods from its base class. This results in a TypeError."
   ]
  },
  {
   "cell_type": "markdown",
   "id": "fbec5c23-621d-4382-a8b6-3bbc6f3a58a3",
   "metadata": {},
   "source": [
    "11. Create a Python class for a vehicle system and demonstrate abstraction by defining common methods (e.g., `start()`, `stop()`) in an abstract base class."
   ]
  },
  {
   "cell_type": "code",
   "execution_count": 4,
   "id": "a8c01c57-2e87-42f6-bea7-6c6dbb9012c1",
   "metadata": {},
   "outputs": [
    {
     "name": "stdout",
     "output_type": "stream",
     "text": [
      "The Toyota Camry car with Petrol is starting.\n",
      "The Toyota Camry car is stopping.\n",
      "The Honda CBR motorcycle (Sport) is starting.\n",
      "The Honda CBR motorcycle is stopping.\n"
     ]
    }
   ],
   "source": [
    "from abc import ABC, abstractmethod\n",
    "\n",
    "class Vehicle(ABC):\n",
    "    def __init__(self, brand, model):\n",
    "        self.brand = brand\n",
    "        self.model = model\n",
    "\n",
    "    @abstractmethod\n",
    "    def start(self):\n",
    "        pass\n",
    "\n",
    "    @abstractmethod\n",
    "    def stop(self):\n",
    "        pass\n",
    "\n",
    "class Car(Vehicle):\n",
    "    def __init__(self, brand, model, fuel_type):\n",
    "        super().__init__(brand, model)\n",
    "        self.fuel_type = fuel_type\n",
    "        self.is_running = False\n",
    "\n",
    "    def start(self):\n",
    "        if not self.is_running:\n",
    "            print(f\"The {self.brand} {self.model} car with {self.fuel_type} is starting.\")\n",
    "            self.is_running = True\n",
    "        else:\n",
    "            print(\"The car is already running.\")\n",
    "\n",
    "    def stop(self):\n",
    "        if self.is_running:\n",
    "            print(f\"The {self.brand} {self.model} car is stopping.\")\n",
    "            self.is_running = False\n",
    "        else:\n",
    "            print(\"The car is already stopped.\")\n",
    "\n",
    "class Motorcycle(Vehicle):\n",
    "    def __init__(self, brand, model, bike_type):\n",
    "        super().__init__(brand, model)\n",
    "        self.bike_type = bike_type\n",
    "        self.is_running = False\n",
    "\n",
    "    def start(self):\n",
    "        if not self.is_running:\n",
    "            print(f\"The {self.brand} {self.model} motorcycle ({self.bike_type}) is starting.\")\n",
    "            self.is_running = True\n",
    "        else:\n",
    "            print(\"The motorcycle is already running.\")\n",
    "\n",
    "    def stop(self):\n",
    "        if self.is_running:\n",
    "            print(f\"The {self.brand} {self.model} motorcycle is stopping.\")\n",
    "            self.is_running = False\n",
    "        else:\n",
    "            print(\"The motorcycle is already stopped.\")\n",
    "\n",
    "# Example Usage\n",
    "car_instance = Car(brand=\"Toyota\", model=\"Camry\", fuel_type=\"Petrol\")\n",
    "motorcycle_instance = Motorcycle(brand=\"Honda\", model=\"CBR\", bike_type=\"Sport\")\n",
    "\n",
    "# Using common methods defined in the abstract base class\n",
    "car_instance.start()\n",
    "car_instance.stop()\n",
    "\n",
    "motorcycle_instance.start()\n",
    "motorcycle_instance.stop()\n"
   ]
  },
  {
   "cell_type": "markdown",
   "id": "7d07dbc3-b3ce-48d3-908f-999b58d4a14f",
   "metadata": {},
   "source": [
    "12. Describe the use of abstract properties in Python and how they can be employed in abstract classes"
   ]
  },
  {
   "cell_type": "markdown",
   "id": "001883f4-fe1b-4da9-a744-6a48fbda75e8",
   "metadata": {},
   "source": [
    "\n",
    "Abstract properties in Python are properties that are defined in abstract base classes (ABCs) but lack an implementation. They provide a way to define a blueprint for attributes that must be implemented by concrete (non-abstract) classes that inherit from the abstract base class. Abstract properties are created using the @property decorator along with the @abstractmethod decorator from the abc module."
   ]
  },
  {
   "cell_type": "code",
   "execution_count": 10,
   "id": "8e88657f-0bd5-4486-9e64-6f0ceec4304f",
   "metadata": {},
   "outputs": [
    {
     "name": "stdout",
     "output_type": "stream",
     "text": [
      "Petrol\n",
      "Electric\n"
     ]
    }
   ],
   "source": [
    "from abc import ABC, abstractmethod\n",
    "\n",
    "class Vehicle(ABC):\n",
    "    def __init__(self, brand, model):\n",
    "        self.brand = brand\n",
    "        self.model = model\n",
    "\n",
    "    @property\n",
    "    @abstractmethod\n",
    "    def fuel_type(self):\n",
    "        pass\n",
    "\n",
    "    @fuel_type.setter\n",
    "    @abstractmethod\n",
    "    def fuel_type(self, value):\n",
    "        pass\n",
    "\n",
    "class Car(Vehicle):\n",
    "    def __init__(self, brand, model, fuel_type):\n",
    "        super().__init__(brand, model)\n",
    "        self._fuel_type = fuel_type\n",
    "\n",
    "    @property\n",
    "    def fuel_type(self):\n",
    "        return self._fuel_type\n",
    "\n",
    "    @fuel_type.setter\n",
    "    def fuel_type(self, value):\n",
    "        self._fuel_type = value\n",
    "\n",
    "# Example Usage\n",
    "car_instance = Car(brand=\"Toyota\", model=\"Camry\", fuel_type=\"Petrol\")\n",
    "\n",
    "print(car_instance.fuel_type)  # Accessing the property\n",
    "\n",
    "car_instance.fuel_type = \"Electric\"  # Setting the property\n",
    "print(car_instance.fuel_type)\n"
   ]
  },
  {
   "cell_type": "markdown",
   "id": "da0db428-4c1e-48dc-ba88-c0ec3b95eb28",
   "metadata": {},
   "source": [
    "Vehicle is an abstract base class that defines abstract properties: fuel_type and its corresponding setter.\n",
    "Car is a concrete class that inherits from Vehicle and provides implementations for the abstract properties.\n",
    "Abstract properties enforce that any concrete class derived from the Vehicle class must implement the fuel_type property and its setter. This ensures that specific attributes of the vehicle (such as fuel_type) are present in all subclasses while allowing flexibility in their implementation.\n",
    "\n",
    "The use of abstract properties, much like abstract methods, helps define a contract that concrete classes must follow, ensuring consistency and providing a clear interface for accessing and modifying attributes across different implementations."
   ]
  },
  {
   "cell_type": "markdown",
   "id": "14582309-70ef-4cdc-a191-dd1a4d6efde2",
   "metadata": {},
   "source": [
    "simply the @property defines the getter and you access the value can be accessed as an attribute without the use f paranthesis"
   ]
  },
  {
   "cell_type": "markdown",
   "id": "8fcdb5ac-2909-4fe4-bd69-c65c87a5f1ab",
   "metadata": {},
   "source": [
    "@property_name.setter defines the setter, in both setter and getter we access the values as attributes as the function is already implemented"
   ]
  },
  {
   "cell_type": "markdown",
   "id": "48b96bd3-b4da-4ac0-abd2-9c9acd7d8f94",
   "metadata": {},
   "source": [
    "13. Create a Python class hierarchy for employees in a company (e.g., manager, developer, designer) and implement abstraction by defining a common `get"
   ]
  },
  {
   "cell_type": "code",
   "execution_count": 14,
   "id": "d282eef6-a75c-4295-9718-8ea13e3ac293",
   "metadata": {},
   "outputs": [
    {
     "name": "stdout",
     "output_type": "stream",
     "text": [
      "Manager: Alice (ID: M001), Team Size: 10\n",
      "Developer: Bob (ID: D001), Programming Language: Python\n",
      "Designer: Charlie (ID: DS001), Design Tool: Sketch\n"
     ]
    }
   ],
   "source": [
    "from abc import ABC, abstractmethod\n",
    "\n",
    "class Employee(ABC):\n",
    "    def __init__(self, name, employee_id):\n",
    "        self.name = name\n",
    "        self.employee_id = employee_id\n",
    "\n",
    "    @abstractmethod\n",
    "    def get_info(self):\n",
    "        pass\n",
    "\n",
    "class Manager(Employee):\n",
    "    def __init__(self, name, employee_id, team_size):\n",
    "        super().__init__(name, employee_id)\n",
    "        self.team_size = team_size\n",
    "\n",
    "    def get_info(self):\n",
    "        return f\"Manager: {self.name} (ID: {self.employee_id}), Team Size: {self.team_size}\"\n",
    "\n",
    "class Developer(Employee):\n",
    "    def __init__(self, name, employee_id, programming_language):\n",
    "        super().__init__(name, employee_id)\n",
    "        self.programming_language = programming_language\n",
    "\n",
    "    def get_info(self):\n",
    "        return f\"Developer: {self.name} (ID: {self.employee_id}), Programming Language: {self.programming_language}\"\n",
    "\n",
    "class Designer(Employee):\n",
    "    def __init__(self, name, employee_id, design_tool):\n",
    "        super().__init__(name, employee_id)\n",
    "        self.design_tool = design_tool\n",
    "\n",
    "    def get_info(self):\n",
    "        return f\"Designer: {self.name} (ID: {self.employee_id}), Design Tool: {self.design_tool}\"\n",
    "\n",
    "# Example Usage\n",
    "manager = Manager(name=\"Alice\", employee_id=\"M001\", team_size=10)\n",
    "developer = Developer(name=\"Bob\", employee_id=\"D001\", programming_language=\"Python\")\n",
    "designer = Designer(name=\"Charlie\", employee_id=\"DS001\", design_tool=\"Sketch\")\n",
    "\n",
    "# Displaying employee information using the common method get_info()\n",
    "def get_info(employee):\n",
    "    return employee.get_info()\n",
    "    \n",
    "\n",
    "print(get_info(manager))\n",
    "print(get_info(developer))\n",
    "print(get_info(designer))\n"
   ]
  },
  {
   "cell_type": "markdown",
   "id": "3db11bfe-3723-4320-a634-bb9458f22488",
   "metadata": {},
   "source": [
    "14. Discuss the differences between abstract classes and concrete classes in Python, including their \n",
    "instantiation"
   ]
  },
  {
   "cell_type": "markdown",
   "id": "9dd855be-967b-4d63-bf45-be2aacdc843d",
   "metadata": {},
   "source": [
    "Abstract Classes:\n",
    "Definition:\n",
    "\n",
    "Abstract classes in Python are classes that cannot be instantiated on their own. They are meant to be subclassed by other classes.\n",
    "Abstract classes are created using the ABC (Abstract Base Class) module in Python, and they often contain abstract methods (methods without implementation).\n",
    "Abstract classes may have both abstract and concrete methods."
   ]
  },
  {
   "cell_type": "markdown",
   "id": "2830f3f4-49ae-4d47-9331-7380fce043af",
   "metadata": {},
   "source": [
    "Purpose:\n",
    "\n",
    "The primary purpose of an abstract class is to define a common interface or blueprint for a group of related classes.\n",
    "Abstract classes enforce that all subclasses provide an implementation for the abstract methods."
   ]
  },
  {
   "cell_type": "markdown",
   "id": "39f706e5-a7a7-49ca-b454-d44a111e6b86",
   "metadata": {},
   "source": [
    "Instantiation:\n",
    "\n",
    "Abstract classes cannot be instantiated directly. You cannot create objects of an abstract class using obj = AbstractClass().\n",
    "You need to create concrete subclasses that inherit from the abstract class. Objects of these concrete subclasses can be instantiated."
   ]
  },
  {
   "cell_type": "code",
   "execution_count": 20,
   "id": "8630e48f-9c40-4919-b036-f5eff621661b",
   "metadata": {},
   "outputs": [
    {
     "name": "stdout",
     "output_type": "stream",
     "text": [
      "Woof!\n"
     ]
    }
   ],
   "source": [
    "from abc import ABC, abstractmethod\n",
    "\n",
    "class Animal(ABC):\n",
    "    @abstractmethod\n",
    "    def make_sound(self):\n",
    "        pass\n",
    "\n",
    "class Dog(Animal):\n",
    "    def make_sound(self):\n",
    "        return \"Woof!\"\n",
    "\n",
    "my_dog = Dog()\n",
    "print(my_dog.make_sound())  # Output: Woof!\n"
   ]
  },
  {
   "cell_type": "markdown",
   "id": "37e5ccf6-8e3d-4bae-9c76-2b1c0be1ef79",
   "metadata": {},
   "source": [
    "Concrete Classes:\n",
    "    \n",
    "Definition:\n",
    "\n",
    "Concrete classes are classes that can be instantiated directly. They provide a complete implementation of all methods, including any inherited abstract methods.\n",
    "\n",
    "Purpose:\n",
    "\n",
    "Concrete classes provide actual implementations for the methods defined in abstract classes.\n",
    "These classes can be instantiated, and objects created from concrete classes can be used directly.\n",
    "\n",
    "Instantiation:\n",
    "\n",
    "Concrete classes can be instantiated using the standard syntax, such as obj = ConcreteClass().\n",
    "They may or may not inherit from abstract classes, but they must provide implementations for all methods inherited from abstract classes.\n",
    "\n"
   ]
  },
  {
   "cell_type": "code",
   "execution_count": 19,
   "id": "08fa1df5-dbb6-45ea-aae5-ca45915490bb",
   "metadata": {},
   "outputs": [
    {
     "name": "stdout",
     "output_type": "stream",
     "text": [
      "The Toyota Camry is starting.\n"
     ]
    }
   ],
   "source": [
    "class Car:\n",
    "    def __init__(self, brand, model):\n",
    "        self.brand = brand\n",
    "        self.model = model\n",
    "\n",
    "    def start_engine(self):\n",
    "        return f\"The {self.brand} {self.model} is starting.\"\n",
    "\n",
    "my_car = Car(brand=\"Toyota\", model=\"Camry\")\n",
    "print(my_car.start_engine())  # Output: The Toyota Camry is starting.\n"
   ]
  },
  {
   "cell_type": "markdown",
   "id": "3e6a3850-2683-4479-a3f5-c7e67f480376",
   "metadata": {},
   "source": [
    "15. Explain the concept of abstract data types (ADTs) and their role in achieving abstraction in Python"
   ]
  },
  {
   "cell_type": "markdown",
   "id": "1fd398c6-e4ad-41d2-afa3-5abdc5a55aa6",
   "metadata": {},
   "source": [
    "An Abstract Data Type (ADT) is a high-level description of a set of operations that can be performed on a particular data structure, without specifying how those operations are implemented. In simpler terms, an ADT defines what operations can be done on a data structure and what properties these operations should have, without specifying how the data is organized or manipulated internally."
   ]
  },
  {
   "cell_type": "markdown",
   "id": "1ca11417-360d-46fb-a030-8dbf91f2840f",
   "metadata": {},
   "source": [
    "role in achieving abstraction:"
   ]
  },
  {
   "cell_type": "markdown",
   "id": "dccd5192-f5ab-4136-97b2-4d87b0fd5ab4",
   "metadata": {},
   "source": [
    "Abstraction:\n",
    "\n",
    "ADTs provide a level of abstraction, allowing programmers to work with data structures in a way that is independent of the underlying implementation.\n",
    "This abstraction simplifies the complexity of dealing with intricate data structures, making the code more understandable and maintainable."
   ]
  },
  {
   "cell_type": "markdown",
   "id": "12a1d386-2b85-413e-be53-c49bea8e1579",
   "metadata": {},
   "source": [
    "Flexibility:\n",
    "\n",
    "Since ADTs separate the interface from the implementation, it becomes easier to switch between different implementations of the same ADT without affecting the rest of the code. This promotes flexibility and adaptability."
   ]
  },
  {
   "cell_type": "markdown",
   "id": "06d019f6-a567-4ead-8ea3-c64528001195",
   "metadata": {},
   "source": [
    "Modularity:\n",
    "\n",
    "ADTs promote modularity by encapsulating functionality into self-contained units. This modular approach makes it easier to understand, test, and modify code."
   ]
  },
  {
   "cell_type": "markdown",
   "id": "3d835599-3172-4780-b4a9-6c4c848ec24f",
   "metadata": {},
   "source": [
    "example:"
   ]
  },
  {
   "cell_type": "markdown",
   "id": "51703ad6-30b6-40db-be81-fc575e1a1c7b",
   "metadata": {},
   "source": [
    "Consider a stack ADT. The abstract behavior includes operations like push, pop, peek, and is_empty. The implementation details, such as whether the stack is implemented using an array or a linked list, are hidden."
   ]
  },
  {
   "cell_type": "code",
   "execution_count": 4,
   "id": "14429b9e-ee5f-4a7d-bdf4-04d94dbdb7c1",
   "metadata": {},
   "outputs": [],
   "source": [
    "class StackADT:\n",
    "    def push(self, item):\n",
    "        pass\n",
    "\n",
    "    def pop(self):\n",
    "        pass\n",
    "\n",
    "    def peek(self):\n",
    "        pass\n",
    "\n",
    "    def is_empty(self):\n",
    "        pass\n"
   ]
  },
  {
   "cell_type": "markdown",
   "id": "656d2c8b-fb57-45e6-ad66-95666f3ee5a9",
   "metadata": {},
   "source": [
    "Here, we have defined the abstract behavior of a stack without specifying how these operations are implemented. This allows for different implementations of a stack (e.g., using a list, a linked list, etc.) while adhering to the same abstract interface.\n",
    "\n",
    "In summary, an ADT provides a high-level description of a data structure, focusing on what can be done rather than how it is done. This separation of concerns simplifies code, promotes flexibility, and allows for the creation of modular and maintainable software."
   ]
  },
  {
   "cell_type": "markdown",
   "id": "aedb5737-b2dd-4cf5-b3a0-e137417fb02e",
   "metadata": {},
   "source": [
    "16. Create a Python class for a computer system, demonstrating abstraction by defining common methods (e.g., `power_on()`, `shutdown()`) in an abstract base class."
   ]
  },
  {
   "cell_type": "code",
   "execution_count": 5,
   "id": "a82e154b-6de2-43e3-b904-4b7783e8544e",
   "metadata": {},
   "outputs": [
    {
     "name": "stdout",
     "output_type": "stream",
     "text": [
      "Dell OptiPlex Desktop is powering on.\n",
      "Dell OptiPlex Desktop is shutting down.\n",
      "HP EliteBook Laptop is powering on.\n",
      "HP EliteBook Laptop is shutting down.\n"
     ]
    }
   ],
   "source": [
    "from abc import ABC, abstractmethod\n",
    "\n",
    "class ComputerSystem(ABC):\n",
    "    def __init__(self, brand, model):\n",
    "        self.brand = brand\n",
    "        self.model = model\n",
    "        self.is_powered_on = False\n",
    "\n",
    "    @abstractmethod\n",
    "    def power_on(self):\n",
    "        pass\n",
    "\n",
    "    @abstractmethod\n",
    "    def shutdown(self):\n",
    "        pass\n",
    "\n",
    "class Desktop(ComputerSystem):\n",
    "    def power_on(self):\n",
    "        if not self.is_powered_on:\n",
    "            print(f\"{self.brand} {self.model} Desktop is powering on.\")\n",
    "            self.is_powered_on = True\n",
    "        else:\n",
    "            print(\"Desktop is already powered on.\")\n",
    "\n",
    "    def shutdown(self):\n",
    "        if self.is_powered_on:\n",
    "            print(f\"{self.brand} {self.model} Desktop is shutting down.\")\n",
    "            self.is_powered_on = False\n",
    "        else:\n",
    "            print(\"Desktop is already powered off.\")\n",
    "\n",
    "class Laptop(ComputerSystem):\n",
    "    def power_on(self):\n",
    "        if not self.is_powered_on:\n",
    "            print(f\"{self.brand} {self.model} Laptop is powering on.\")\n",
    "            self.is_powered_on = True\n",
    "        else:\n",
    "            print(\"Laptop is already powered on.\")\n",
    "\n",
    "    def shutdown(self):\n",
    "        if self.is_powered_on:\n",
    "            print(f\"{self.brand} {self.model} Laptop is shutting down.\")\n",
    "            self.is_powered_on = False\n",
    "        else:\n",
    "            print(\"Laptop is already powered off.\")\n",
    "\n",
    "# Example Usage\n",
    "desktop = Desktop(brand=\"Dell\", model=\"OptiPlex\")\n",
    "laptop = Laptop(brand=\"HP\", model=\"EliteBook\")\n",
    "\n",
    "# Using common methods defined in the abstract base class\n",
    "desktop.power_on()\n",
    "desktop.shutdown()\n",
    "\n",
    "laptop.power_on()\n",
    "laptop.shutdown()\n"
   ]
  },
  {
   "cell_type": "markdown",
   "id": "c904c236-a8ba-4a4b-959d-3c0f10201bc6",
   "metadata": {},
   "source": [
    "17. Discuss the benefits of using abstraction in large-scale software development projects"
   ]
  },
  {
   "cell_type": "markdown",
   "id": "b79181c7-fe1a-40fe-bc77-ad3769046155",
   "metadata": {},
   "source": [
    "Complexity Management:\n",
    "\n",
    "Abstraction helps manage the complexity of large-scale systems by breaking them down into smaller, more manageable components.\n",
    "Developers can focus on specific parts of the system without being overwhelmed by the entire codebase, making it easier to understand, maintain, and extend the software.\n",
    "\n",
    "Modularity:\n",
    "\n",
    "Abstraction encourages modularity, allowing developers to design and implement components with well-defined interfaces and responsibilities.\n",
    "Modular code is easier to test, debug, and maintain. It also facilitates code reuse, as modular components can be plugged into different parts of the system.\n",
    "\n",
    "Code Reusability:\n",
    "\n",
    "Abstraction promotes the creation of reusable components and libraries. Abstract classes and interfaces define common behaviors and interfaces that can be implemented by multiple classes.\n",
    "Code reuse reduces redundancy, accelerates development, and ensures consistency across the software project.\n",
    "\n",
    "Encapsulation:\n",
    "\n",
    "Abstraction supports encapsulation by hiding the internal details of a component and exposing only the necessary interfaces.\n",
    "This protects the implementation details, reduces dependencies between different parts of the system, and makes it easier to modify or replace components without affecting the entire system.\n",
    "\n",
    "Scalability:\n",
    "\n",
    "Abstraction facilitates scalability by providing a framework that allows developers to add new features or components without disrupting existing functionality.\n",
    "As the software project grows, developers can extend and enhance the system by building upon the abstractions already in place.\n",
    "\n",
    "ollaboration:\n",
    "\n",
    "Abstraction enhances collaboration among development teams. Different teams can work on separate components or modules independently, as long as they adhere to the defined interfaces.\n",
    "This modular approach supports parallel development and allows teams with different expertise to contribute to the project effectively."
   ]
  },
  {
   "cell_type": "markdown",
   "id": "91399052-cf6d-45aa-8dab-751a5541426a",
   "metadata": {},
   "source": [
    "18. Explain how abstraction enhances code reusability and modularity in Python programs"
   ]
  },
  {
   "cell_type": "markdown",
   "id": "b6bb7c7c-b23c-40a4-b9f6-ff482af5447e",
   "metadata": {},
   "source": [
    "Reusable Abstract Classes and Interfaces:\n",
    "Abstract classes and interfaces provide a blueprint for common behaviors without specifying the implementation details.\n",
    "In Python, abstract classes are defined using the ABC (Abstract Base Class) module, and interfaces can be represented by classes with abstract methods.\n",
    "By defining abstract classes and interfaces, you create reusable templates that can be implemented by different classes, promoting code reuse across different parts of the program."
   ]
  },
  {
   "cell_type": "markdown",
   "id": "8838b5fe-282b-4167-aeed-2fa7e9496e16",
   "metadata": {},
   "source": [
    "Modularity:\n",
    "Abstraction encourages the creation of modular components, where each module has a specific responsibility and well-defined interface.\n",
    "Modules can be developed and tested independently, promoting a modular architecture that is easier to understand and maintain.\n",
    "Python's support for modules and packages enables developers to organize code into separate files and directories, further enhancing modularity."
   ]
  },
  {
   "cell_type": "markdown",
   "id": "0e4cbe58-72ee-47ef-9d17-554eb2dda525",
   "metadata": {},
   "source": [
    "19. Create a Python class for a library system, implementing abstraction by defining common methods (e.g., `add_book()`, `borrow_book()`) in an abstract base class."
   ]
  },
  {
   "cell_type": "code",
   "execution_count": 7,
   "id": "a42de6cc-49a4-4e94-9c25-ab157b3764c1",
   "metadata": {},
   "outputs": [
    {
     "name": "stdout",
     "output_type": "stream",
     "text": [
      "Added 'The Great Gatsby' by F. Scott Fitzgerald to the library.\n",
      "Added 'To Kill a Mockingbird' by Harper Lee to the library.\n",
      "Added '1984' by George Orwell to the library.\n",
      "Books available in Simple City Library Library:\n",
      "The Great Gatsby by F. Scott Fitzgerald\n",
      "To Kill a Mockingbird by Harper Lee\n",
      "1984 by George Orwell\n",
      "User User123 borrowed 'The Great Gatsby' from the library.\n",
      "Books available in Simple City Library Library:\n",
      "To Kill a Mockingbird by Harper Lee\n",
      "1984 by George Orwell\n",
      "Returned 'The Great Gatsby' to the library.\n",
      "Books available in Simple City Library Library:\n",
      "To Kill a Mockingbird by Harper Lee\n",
      "1984 by George Orwell\n",
      "The Great Gatsby by Unknown\n"
     ]
    }
   ],
   "source": [
    "from abc import ABC, abstractmethod\n",
    "\n",
    "class LibrarySystem(ABC):\n",
    "    def __init__(self, library_name):\n",
    "        self.library_name = library_name\n",
    "        self.books = {}\n",
    "\n",
    "    @abstractmethod\n",
    "    def add_book(self, book_title, author):\n",
    "        pass\n",
    "\n",
    "    @abstractmethod\n",
    "    def borrow_book(self, book_title, user_id):\n",
    "        pass\n",
    "\n",
    "    @abstractmethod\n",
    "    def return_book(self, book_title):\n",
    "        pass\n",
    "\n",
    "    def display_books(self):\n",
    "        print(f\"Books available in {self.library_name} Library:\")\n",
    "        for title, author in self.books.items():\n",
    "            print(f\"{title} by {author}\")\n",
    "\n",
    "class SimpleLibrary(LibrarySystem):\n",
    "    def add_book(self, book_title, author):\n",
    "        if book_title not in self.books:\n",
    "            self.books[book_title] = author\n",
    "            print(f\"Added '{book_title}' by {author} to the library.\")\n",
    "\n",
    "    def borrow_book(self, book_title, user_id):\n",
    "        if book_title in self.books:\n",
    "            print(f\"User {user_id} borrowed '{book_title}' from the library.\")\n",
    "            del self.books[book_title]\n",
    "        else:\n",
    "            print(f\"'{book_title}' is not available in the library.\")\n",
    "\n",
    "    def return_book(self, book_title):\n",
    "        self.books[book_title] = \"Unknown\"\n",
    "        print(f\"Returned '{book_title}' to the library.\")\n",
    "\n",
    "# Example Usage\n",
    "simple_library = SimpleLibrary(library_name=\"Simple City Library\")\n",
    "\n",
    "simple_library.add_book(\"The Great Gatsby\", \"F. Scott Fitzgerald\")\n",
    "simple_library.add_book(\"To Kill a Mockingbird\", \"Harper Lee\")\n",
    "simple_library.add_book(\"1984\", \"George Orwell\")\n",
    "\n",
    "simple_library.display_books()\n",
    "\n",
    "simple_library.borrow_book(\"The Great Gatsby\", user_id=\"User123\")\n",
    "\n",
    "simple_library.display_books()\n",
    "\n",
    "simple_library.return_book(\"The Great Gatsby\")\n",
    "\n",
    "simple_library.display_books()\n"
   ]
  },
  {
   "cell_type": "markdown",
   "id": "a8ba9aa6-40bc-4a90-bb58-8be852de3f5f",
   "metadata": {},
   "source": [
    "20. Describe the concept of method abstraction in Python and how it relates to polymorphism."
   ]
  },
  {
   "cell_type": "markdown",
   "id": "09172e2c-d962-4d79-8631-bb0dc7abd170",
   "metadata": {},
   "source": [
    "Method abstraction in Python refers to the process of defining a method in a way that focuses on what the method does rather than how it achieves its functionality. It involves creating methods with a common interface across different classes or objects, allowing them to be used interchangeably. Method abstraction is closely related to polymorphism, which is the ability of objects of different types to be treated as objects of a common type."
   ]
  },
  {
   "cell_type": "code",
   "execution_count": 9,
   "id": "f05c4fa2-b4d3-4379-a132-e6744842a6b6",
   "metadata": {},
   "outputs": [
    {
     "name": "stdout",
     "output_type": "stream",
     "text": [
      "Area: 78.5\n",
      "Area: 24\n"
     ]
    }
   ],
   "source": [
    "from abc import ABC, abstractmethod\n",
    "\n",
    "# Abstract base class with a method abstraction\n",
    "class Shape(ABC):\n",
    "    @abstractmethod\n",
    "    def area(self):\n",
    "        pass\n",
    "\n",
    "# Concrete classes providing specific implementations\n",
    "class Circle(Shape):\n",
    "    def __init__(self, radius):\n",
    "        self.radius = radius\n",
    "\n",
    "    def area(self):\n",
    "        return 3.14 * self.radius * self.radius\n",
    "\n",
    "class Rectangle(Shape):\n",
    "    def __init__(self, length, width):\n",
    "        self.length = length\n",
    "        self.width = width\n",
    "\n",
    "    def area(self):\n",
    "        return self.length * self.width\n",
    "\n",
    "# Using method abstraction and polymorphism\n",
    "def print_area(shape):\n",
    "    print(f\"Area: {shape.area()}\")\n",
    "\n",
    "# Creating instances of different classes\n",
    "circle = Circle(radius=5)\n",
    "rectangle = Rectangle(length=4, width=6)\n",
    "\n",
    "# Using the common interface for method abstraction\n",
    "print_area(circle)     # Output: Area: 78.5\n",
    "print_area(rectangle)  # Output: Area: 24\n"
   ]
  },
  {
   "cell_type": "markdown",
   "id": "689df9c7-7a89-4ad9-a391-e0bf6ae415b0",
   "metadata": {},
   "source": [
    "The Shape abstract base class defines a common interface with the abstract method area().\n",
    "The Circle and Rectangle classes provide specific implementations for the area() method.\n",
    "The print_area() function uses method abstraction and polymorphism to print the area of different shapes, demonstrating that objects of different types can be treated uniformly based on the common method interface."
   ]
  },
  {
   "cell_type": "markdown",
   "id": "5b27f212-5a72-414c-8bbd-39b3f326bd02",
   "metadata": {},
   "source": [
    "in the above example, different objects of circle and rectangle class behave as if they are all instances of one base class Shape\n",
    "therefore with method abstraction we can achieve polymorphism since the method takes a subclass object  as an argument and returns the correct output"
   ]
  },
  {
   "cell_type": "markdown",
   "id": "8cfc1a94-d6dd-433b-960c-370fb7cc1b4d",
   "metadata": {
    "jp-MarkdownHeadingCollapsed": true,
    "tags": []
   },
   "source": [
    "## Composition:"
   ]
  },
  {
   "cell_type": "markdown",
   "id": "93ac15f5-a5a8-4dd8-b39a-a99da6e2ee87",
   "metadata": {},
   "source": [
    "1. Explain the concept of composition in Python and how it is used to build complex objects from simpler ones"
   ]
  },
  {
   "cell_type": "markdown",
   "id": "4f29abe1-8811-4aa3-af5c-c99043a0c3aa",
   "metadata": {},
   "source": [
    "composition is a design principle that allows you to build complex objects by combining simpler ones. It is a way to create more modular and reusable code by organizing classes in a hierarchical structure.\n",
    "\n",
    "Composition is different from inheritance, another object-oriented programming concept. While inheritance involves creating a new class by deriving from an existing class, composition involves creating objects that are composed of other objects."
   ]
  },
  {
   "cell_type": "code",
   "execution_count": 1,
   "id": "7d8d9887-7f83-4e54-bc4d-816216a47dc5",
   "metadata": {},
   "outputs": [
    {
     "name": "stdout",
     "output_type": "stream",
     "text": [
      "Car started\n",
      "Engine started\n"
     ]
    }
   ],
   "source": [
    "class Engine:\n",
    "    def start(self):\n",
    "        print(\"Engine started\")\n",
    "\n",
    "class Car:\n",
    "    def __init__(self):\n",
    "        self.engine = Engine()\n",
    "\n",
    "    def start(self):\n",
    "        print(\"Car started\")\n",
    "        self.engine.start()\n",
    "\n",
    "# Create a car object\n",
    "my_car = Car()\n",
    "\n",
    "# Start the car\n",
    "my_car.start()\n"
   ]
  },
  {
   "cell_type": "markdown",
   "id": "437de679-f9aa-4db4-839c-5fe1c04f843e",
   "metadata": {},
   "source": [
    "the Car class has a composition relationship with the Engine class. The Car class has an instance variable engine that is an object of the Engine class. This means that a Car \"has-a\" Engine."
   ]
  },
  {
   "cell_type": "markdown",
   "id": "a85cd8ff-f30c-4556-b7d5-5ee3fb35a694",
   "metadata": {},
   "source": [
    "2. Describe the difference between composition and inheritance in object-oriented programming"
   ]
  },
  {
   "cell_type": "markdown",
   "id": "94108a74-f88d-4632-94f6-4c2c84c9c32f",
   "metadata": {},
   "source": [
    "Composition:\n",
    "\n",
    "\"Has-a\" Relationship:\n",
    "\n",
    "Composition represents a \"has-a\" relationship, where a class is composed of other classes or objects.\n",
    "It involves creating objects of other classes within your class.\n",
    "Flexibility:\n",
    "\n",
    "Provides more flexibility because you can change the behavior of your class by changing the objects it contains.\n",
    "Allows for dynamic behavior at runtime by changing the components of an object.\n",
    "Modularity:\n",
    "\n",
    "Encourages modularity by breaking down complex systems into smaller, more manageable components.\n",
    "Changes to one class do not necessarily affect the behavior of other classes.\n",
    "Code Reusability:\n",
    "\n",
    "Promotes code reusability by using existing classes as components in new classes."
   ]
  },
  {
   "cell_type": "markdown",
   "id": "040f20a5-08ba-4283-9b69-df38156154b2",
   "metadata": {},
   "source": [
    "Inheritance:\n",
    "    \n",
    "\"Is-a\" Relationship:\n",
    "\n",
    "Inheritance represents an \"is-a\" relationship, where a new class is derived from an existing class.\n",
    "It involves creating a new class that inherits attributes and behaviors from a base class.\n",
    "Rigidity:\n",
    "\n",
    "Can lead to a more rigid design because changes to the base class can affect all derived classes.\n",
    "Changes to the base class may propagate down the inheritance hierarchy.\n",
    "Code Reusability:\n",
    "\n",
    "Also promotes code reusability by allowing the reuse of code from the base class.\n",
    "Single Inheritance:\n",
    "\n",
    "Some programming languages, like Python, support single inheritance, meaning a class can inherit from only one class at a time."
   ]
  },
  {
   "cell_type": "markdown",
   "id": "2d4026f2-4f65-4c4b-8c25-ee7a0391e4c3",
   "metadata": {},
   "source": [
    "3. Create a Python class called `Author` with attributes for name and birthdate. Then, create a `Book` class \n",
    "that contains an instance of `Author` as a composition. Provide an example of creating a `Book` object"
   ]
  },
  {
   "cell_type": "code",
   "execution_count": 5,
   "id": "cbaa9bb4-cab0-4c7e-9b43-d0c088568e6f",
   "metadata": {},
   "outputs": [],
   "source": [
    "class Author:\n",
    "    def __init__(self,name,birthdate):\n",
    "        self.name = name\n",
    "        self.birthdate = birthdate\n",
    "        \n",
    "    def __str__(self):\n",
    "        return f'name: {self.name}, birthdate: {self.birthdate}'\n",
    "    \n",
    "    \n",
    "class Book:\n",
    "    def __init__(self,title,pages,author):\n",
    "        self.title = title\n",
    "        self.pages = pages\n",
    "        self.author = author\n",
    "        \n",
    "        \n",
    "    def __str__(self):\n",
    "        return f'title: {self.title}, pages: {self.pages}, author: {self.author}'\n",
    "\n",
    "    \n",
    "author1 = Author('john doe','8-11-1991')    \n",
    "\n",
    "book1 = Book('catch a rat',300,author1)"
   ]
  },
  {
   "cell_type": "code",
   "execution_count": 6,
   "id": "70d68175-d053-44f7-9591-dbf111fa3745",
   "metadata": {},
   "outputs": [
    {
     "name": "stdout",
     "output_type": "stream",
     "text": [
      "title: catch a rat, pages: 300, author: name: john doe, birthdate: 8-11-1991\n"
     ]
    }
   ],
   "source": [
    "print(book1)"
   ]
  },
  {
   "cell_type": "markdown",
   "id": "52dbf5bf-3bec-4e1a-b50b-513dac1ea9a8",
   "metadata": {},
   "source": [
    "this demonstrates how the Book class uses composition to include an Author object. The Book class \"has-a\" relationship with the Author class, and you can access the author's information through the author attribute of the Book object."
   ]
  },
  {
   "cell_type": "markdown",
   "id": "9dd1bd5c-5a49-46cb-921a-48159831edbd",
   "metadata": {},
   "source": [
    "4. Discuss the benefits of using composition over inheritance in Python, especially in terms of code flexibility \n",
    "and reusability."
   ]
  },
  {
   "cell_type": "markdown",
   "id": "703848bc-9eda-4edd-a28a-6d7e28ee2cfc",
   "metadata": {},
   "source": [
    "Flexibility:\n",
    "\n",
    "Dynamic Composition: With composition, you can dynamically change the behavior of a class at runtime by altering the components it contains. This provides more flexibility compared to the static nature of inheritance.\n",
    "\n",
    "Easy Modification: Modifying the behavior of a class in a composition relationship is often simpler than modifying a class in an inheritance hierarchy. Changes in one component class do not necessarily affect the entire system."
   ]
  },
  {
   "cell_type": "markdown",
   "id": "bc871fde-5062-49e6-a445-b7d5f341a2cc",
   "metadata": {},
   "source": [
    "Code Reusability:\n",
    "\n",
    "Granular Reusability: Composition allows for granular code reusability by using existing classes as components in new classes. You can reuse specific components in different contexts, promoting a more efficient and reusable codebase.\n",
    "\n",
    "Avoiding Diamond Problem: Inheritance can lead to the \"diamond problem\" in languages that support multiple inheritance. Composition helps avoid such issues, as it doesn't introduce complex inheritance hierarchies with potential conflicts."
   ]
  },
  {
   "cell_type": "markdown",
   "id": "a2730ea3-c24b-4100-86a3-596a734a836b",
   "metadata": {},
   "source": [
    "5. How can you implement composition in Python classes? Provide examples of using composition to create \n",
    "complex objects"
   ]
  },
  {
   "cell_type": "code",
   "execution_count": 7,
   "id": "d5b890ab-a75d-4854-9c9e-ae83c894833f",
   "metadata": {},
   "outputs": [
    {
     "name": "stdout",
     "output_type": "stream",
     "text": [
      "Car started\n",
      "Engine started\n",
      "Wheels rolling\n"
     ]
    }
   ],
   "source": [
    "# Example 2: Composition with Multiple Classes\n",
    "\n",
    "class Engine:\n",
    "    def start(self):\n",
    "        print(\"Engine started\")\n",
    "\n",
    "class Wheels:\n",
    "    def roll(self):\n",
    "        print(\"Wheels rolling\")\n",
    "\n",
    "class Car:\n",
    "    def __init__(self):\n",
    "        self.engine = Engine()  # Composition: Car \"has-a\" Engine\n",
    "        self.wheels = Wheels()  # Composition: Car \"has-a\" Wheels\n",
    "\n",
    "    def start(self):\n",
    "        print(\"Car started\")\n",
    "        self.engine.start()\n",
    "        self.wheels.roll()\n",
    "\n",
    "# Create a Car object and start it\n",
    "my_car = Car()\n",
    "my_car.start()\n"
   ]
  },
  {
   "cell_type": "markdown",
   "id": "2979d5c0-ac82-4362-a3e0-fe1387c9a5f9",
   "metadata": {},
   "source": [
    "the Car class  has composition relationships with both the Engine and Wheels classes. It contains instances of both classes as attributes (self.engine and self.wheels). The start method of the Car class calls the start method of the Engine class and the roll method of the Wheels class."
   ]
  },
  {
   "cell_type": "markdown",
   "id": "06180e7d-ac71-481f-9a04-3cba1555b179",
   "metadata": {},
   "source": [
    "6. Create a Python class hierarchy for a music player system, using composition to represent playlists and \n",
    "songs"
   ]
  },
  {
   "cell_type": "code",
   "execution_count": 2,
   "id": "fc4dc3a9-d178-4f02-8c7e-284228603cfc",
   "metadata": {},
   "outputs": [
    {
     "name": "stdout",
     "output_type": "stream",
     "text": [
      "Playing all songs in the playlist 'playlist1':\n",
      "now playing : Song 1 by Artist 1\n",
      "now playing : Song 2 by Artist 2\n",
      "now playing : Song 3 by Artist 3\n"
     ]
    }
   ],
   "source": [
    "import time\n",
    "\n",
    "class Song:\n",
    "    def __init__(self,title,artist,duration):\n",
    "        self.title = title\n",
    "        self.artist = artist\n",
    "        self.duration = duration\n",
    "        \n",
    "    def play(self):\n",
    "        print(f'now playing : {self.title} by {self.artist}')\n",
    "    \n",
    "class Playlist:\n",
    "    def __init__(self,name):\n",
    "        self.name = name\n",
    "        self.songs = []\n",
    "        \n",
    "    def add_song(self,song):\n",
    "        self.songs.append(song)\n",
    "        \n",
    "    def play_all(self):\n",
    "        print(f\"Playing all songs in the playlist '{self.name}':\")\n",
    "        for song in self.songs:\n",
    "            song.play()\n",
    "            time.sleep(song.duration)\n",
    "            \n",
    "            \n",
    "            \n",
    "            \n",
    "# Create songs\n",
    "song1 = Song(\"Song 1\", \"Artist 1\", 40)\n",
    "song2 = Song(\"Song 2\", \"Artist 2\", 60)\n",
    "song3 = Song(\"Song 3\", \"Artist 3\", 50)\n",
    "\n",
    "\n",
    "playlist1 = Playlist('playlist1')\n",
    "playlist1.add_song(song1)\n",
    "playlist1.add_song(song2)\n",
    "playlist1.add_song(song3)\n",
    "\n",
    "playlist1.play_all()\n",
    "        \n",
    "        "
   ]
  },
  {
   "cell_type": "markdown",
   "id": "e8fe787b-027f-45c9-8568-e83764ce77d9",
   "metadata": {},
   "source": [
    "7. Explain the concept of \"has-a\" relationships in composition and how it helps design software systems"
   ]
  },
  {
   "cell_type": "markdown",
   "id": "bfbbca72-84ef-45b1-84e6-5f8820ea88d6",
   "metadata": {},
   "source": [
    "In object-oriented programming, a \"has-a\" relationship is a type of association between classes that denotes that one class contains an object of another class. This relationship is often implemented through composition, where one class includes an instance of another class as part of its structure. The \"has-a\" relationship is a fundamental concept in composition, and it helps design software systems in several ways:"
   ]
  },
  {
   "cell_type": "markdown",
   "id": "62dd81ff-6c96-4690-a9a5-8d01f1c1c239",
   "metadata": {},
   "source": [
    "Modularity and Reusability:\n",
    "\n",
    "The \"has-a\" relationship encourages the creation of modular, reusable components. Each class encapsulates a specific functionality, and these classes can be easily reused in different contexts.\n",
    "\n",
    "Flexibility and Adaptability:\n",
    "\n",
    "The ability to compose objects provides flexibility in designing software systems. Changes in one class don't necessarily affect other classes, making the system more adaptable to modifications and updates.\n",
    "\n",
    "Code Organization:\n",
    "\n",
    "The \"has-a\" relationship promotes a clean and organized code structure. It allows developers to break down complex systems into smaller, manageable components, each responsible for a specific aspect of functionality.\n",
    "\n",
    "Encapsulation:\n",
    "\n",
    "Encapsulation is a key principle in object-oriented design, and the \"has-a\" relationship supports this by encapsulating the implementation details of one class within another. This enhances information hiding and reduces the complexity of interacting with the system.\n",
    "\n",
    "Ease of Maintenance:\n",
    "\n",
    "Software systems designed with a \"has-a\" relationship are often easier to maintain. Since components are independent, modifying or updating one component typically has limited impact on others, reducing the risk of introducing bugs."
   ]
  },
  {
   "cell_type": "markdown",
   "id": "1092a68e-d298-4756-9222-cc38973dd353",
   "metadata": {},
   "source": [
    "8. Create a Python class for a computer system, using composition to represent components like CPU, RAM, \n",
    "and storage devices."
   ]
  },
  {
   "cell_type": "code",
   "execution_count": 3,
   "id": "13cf7ccb-9b96-4405-8f41-74d510a68446",
   "metadata": {},
   "outputs": [
    {
     "name": "stdout",
     "output_type": "stream",
     "text": [
      "Computer System:\n",
      "CPU: Intel i7 (2.8 GHz)\n",
      "RAM: 16 GB (2400 MHz)\n",
      "Storage: 512 GB SSD\n"
     ]
    }
   ],
   "source": [
    "class CPU:\n",
    "    def __init__(self, brand, model, speed):\n",
    "        self.brand = brand\n",
    "        self.model = model\n",
    "        self.speed = speed\n",
    "\n",
    "    def __str__(self):\n",
    "        return f\"CPU: {self.brand} {self.model} ({self.speed} GHz)\"\n",
    "\n",
    "class RAM:\n",
    "    def __init__(self, capacity, speed):\n",
    "        self.capacity = capacity\n",
    "        self.speed = speed\n",
    "\n",
    "    def __str__(self):\n",
    "        return f\"RAM: {self.capacity} GB ({self.speed} MHz)\"\n",
    "\n",
    "class Storage:\n",
    "    def __init__(self, capacity, type):\n",
    "        self.capacity = capacity\n",
    "        self.type = type\n",
    "\n",
    "    def __str__(self):\n",
    "        return f\"Storage: {self.capacity} GB {self.type}\"\n",
    "\n",
    "class ComputerSystem:\n",
    "    def __init__(self, cpu, ram, storage):\n",
    "        self.cpu = cpu  # Composition: ComputerSystem \"has-a\" CPU\n",
    "        self.ram = ram  # Composition: ComputerSystem \"has-a\" RAM\n",
    "        self.storage = storage  # Composition: ComputerSystem \"has-a\" Storage\n",
    "\n",
    "    def __str__(self):\n",
    "        return f\"Computer System:\\n{self.cpu}\\n{self.ram}\\n{self.storage}\"\n",
    "\n",
    "# Example Usage:\n",
    "\n",
    "# Create components\n",
    "cpu = CPU(brand=\"Intel\", model=\"i7\", speed=2.8)\n",
    "ram = RAM(capacity=16, speed=2400)\n",
    "storage = Storage(capacity=512, type=\"SSD\")\n",
    "\n",
    "# Create a computer system with the components\n",
    "my_computer = ComputerSystem(cpu=cpu, ram=ram, storage=storage)\n",
    "\n",
    "# Print information about the computer system\n",
    "print(my_computer)\n"
   ]
  },
  {
   "cell_type": "markdown",
   "id": "bc18ee74-61a9-4570-91e7-4e27e867030b",
   "metadata": {},
   "source": [
    "9. Describe the concept of \"delegation\" in composition and how it simplifies the design of complex systems"
   ]
  },
  {
   "cell_type": "markdown",
   "id": "abf95194-f023-4ade-917f-b16010ad5e0b",
   "metadata": {},
   "source": [
    "Delegation is a concept in composition where an object passes on its responsibilities to another object. In other words, an object delegates certain tasks or functionalities to another object rather than implementing them directly. This is achieved through composition, where the delegating object contains an instance of the delegate object."
   ]
  },
  {
   "cell_type": "markdown",
   "id": "3f2ba4df-ef0f-4d2f-8023-f26c9df58c43",
   "metadata": {},
   "source": [
    "Modularity:\n",
    "\n",
    "Delegation encourages a modular design by breaking down complex systems into smaller, more manageable components. Each class is responsible for a specific set of tasks, making the codebase easier to understand and maintain.\n",
    "\n",
    "Code Reusability:\n",
    "\n",
    "Delegation promotes code reusability. Since responsibilities are delegated to separate classes, those classes can be reused in different contexts. This reduces the need to duplicate code and allows for a more efficient and maintainable codebase.\n",
    "\n",
    "Flexibility and Adaptability:\n",
    "\n",
    "Delegation makes a system more flexible and adaptable to changes. If requirements evolve or new features need to be added, it's often easier to delegate responsibilities to new or modified classes rather than making extensive changes to existing classes.\n",
    "\n",
    "Encapsulation:\n",
    "\n",
    "Delegation enhances encapsulation by allowing each class to hide its internal implementation details. The delegating class doesn't need to know how the delegate class accomplishes its tasks; it only needs to know that the delegate can handle those tasks."
   ]
  },
  {
   "cell_type": "code",
   "execution_count": 4,
   "id": "f13acd06-1151-4820-b3bd-8efef40d200b",
   "metadata": {},
   "outputs": [
    {
     "name": "stdout",
     "output_type": "stream",
     "text": [
      "Processing: Report\n",
      "Printing: Report\n"
     ]
    }
   ],
   "source": [
    "class Printer:\n",
    "    def print_document(self, document):\n",
    "        print(f\"Printing: {document}\")\n",
    "\n",
    "class Office:\n",
    "    def __init__(self, printer):\n",
    "        self.printer = printer  # Delegation: Office delegates printing to a Printer\n",
    "\n",
    "    def process_document(self, document):\n",
    "        print(f\"Processing: {document}\")\n",
    "        self.printer.print_document(document)\n",
    "\n",
    "# Example Usage:\n",
    "\n",
    "# Create a Printer\n",
    "printer = Printer()\n",
    "\n",
    "# Create an Office with a Printer\n",
    "office = Office(printer)\n",
    "\n",
    "# Process and print a document in the Office\n",
    "office.process_document(\"Report\")\n"
   ]
  },
  {
   "cell_type": "markdown",
   "id": "f2227902-8420-4a3b-bcba-348f0cac9220",
   "metadata": {},
   "source": [
    "10. Create a Python class for a car, using composition to represent components like the engine, wheels, and \n",
    "transmission"
   ]
  },
  {
   "cell_type": "code",
   "execution_count": 5,
   "id": "520431fe-ae40-4dfe-b461-70d4993a77ea",
   "metadata": {},
   "outputs": [
    {
     "name": "stdout",
     "output_type": "stream",
     "text": [
      "Starting the car...\n",
      "Engine started\n",
      "Driving the car...\n",
      "Gear shifted\n",
      "Wheels rolling\n"
     ]
    }
   ],
   "source": [
    "class Engine:\n",
    "    def __init__(self, fuel_type, horsepower):\n",
    "        self.fuel_type = fuel_type\n",
    "        self.horsepower = horsepower\n",
    "\n",
    "    def start(self):\n",
    "        print(\"Engine started\")\n",
    "\n",
    "class Wheels:\n",
    "    def __init__(self, brand, size):\n",
    "        self.brand = brand\n",
    "        self.size = size\n",
    "\n",
    "    def roll(self):\n",
    "        print(\"Wheels rolling\")\n",
    "\n",
    "class Transmission:\n",
    "    def __init__(self, transmission_type):\n",
    "        self.transmission_type = transmission_type\n",
    "\n",
    "    def shift_gear(self):\n",
    "        print(\"Gear shifted\")\n",
    "\n",
    "class Car:\n",
    "    def __init__(self, engine, wheels, transmission):\n",
    "        self.engine = engine  # Composition: Car \"has-a\" Engine\n",
    "        self.wheels = wheels  # Composition: Car \"has-a\" Wheels\n",
    "        self.transmission = transmission  # Composition: Car \"has-a\" Transmission\n",
    "\n",
    "    def start(self):\n",
    "        print(\"Starting the car...\")\n",
    "        self.engine.start()\n",
    "\n",
    "    def drive(self):\n",
    "        print(\"Driving the car...\")\n",
    "        self.transmission.shift_gear()\n",
    "        self.wheels.roll()\n",
    "\n",
    "# Example Usage:\n",
    "\n",
    "# Create components\n",
    "car_engine = Engine(fuel_type=\"Gasoline\", horsepower=200)\n",
    "car_wheels = Wheels(brand=\"Michelin\", size=\"17 inches\")\n",
    "car_transmission = Transmission(transmission_type=\"Automatic\")\n",
    "\n",
    "# Create a car with the components\n",
    "my_car = Car(engine=car_engine, wheels=car_wheels, transmission=car_transmission)\n",
    "\n",
    "# Start and drive the car\n",
    "my_car.start()\n",
    "my_car.drive()\n"
   ]
  },
  {
   "cell_type": "markdown",
   "id": "83393aa6-6328-47d3-bc5b-0581f0f3cba7",
   "metadata": {},
   "source": [
    "11. How can you encapsulate and hide the details of composed objects in Python classes to maintain \n",
    "abstraction"
   ]
  },
  {
   "cell_type": "markdown",
   "id": "52aa5e5f-da75-47a6-8142-c3d62ee98f13",
   "metadata": {},
   "source": [
    "Private Attributes:\n",
    "\n",
    "Use private attributes in your classes by prefixing them with double underscores (__). This makes the attributes not directly accessible from outside the class. Access to these attributes is controlled through getter and setter methods."
   ]
  },
  {
   "cell_type": "code",
   "execution_count": 1,
   "id": "ee027b09-e467-4cf4-9d3b-c38847109a99",
   "metadata": {},
   "outputs": [],
   "source": [
    "class Car:\n",
    "    def __init__(self, engine):\n",
    "        self.__engine = engine\n",
    "\n",
    "    # Getter method\n",
    "    def get_engine(self):\n",
    "        return self.__engine\n",
    "\n",
    "    # Setter method\n",
    "    def set_engine(self, new_engine):\n",
    "        self.__engine = new_engine\n"
   ]
  },
  {
   "cell_type": "markdown",
   "id": "d22639d4-bb57-494a-b7de-161d312d2877",
   "metadata": {},
   "source": [
    "Property Decorators:\n",
    "\n",
    "Use property decorators to create getter and setter methods in a more concise and Pythonic way."
   ]
  },
  {
   "cell_type": "code",
   "execution_count": 2,
   "id": "b413ad37-a31f-411f-9ef1-94d70ed5228b",
   "metadata": {},
   "outputs": [],
   "source": [
    "class Car:\n",
    "    def __init__(self, engine):\n",
    "        self.__engine = engine\n",
    "\n",
    "    @property\n",
    "    def engine(self):\n",
    "        return self.__engine\n",
    "\n",
    "    @engine.setter\n",
    "    def engine(self, new_engine):\n",
    "        self.__engine = new_engine\n"
   ]
  },
  {
   "cell_type": "markdown",
   "id": "45740970-a5a7-46d5-b967-0ebbc814d39e",
   "metadata": {},
   "source": [
    "12. Create a Python class for a university course, using composition to represent students, instructors, and \n",
    "course materials"
   ]
  },
  {
   "cell_type": "code",
   "execution_count": 3,
   "id": "4d02e85c-f127-4398-b314-c547222a579f",
   "metadata": {},
   "outputs": [
    {
     "name": "stdout",
     "output_type": "stream",
     "text": [
      "Course Code: CS101\n",
      "Course Name: Introduction to Python Programming\n",
      "Instructor: Instructor ID: I001, Name: Professor Smith\n",
      "Students:\n",
      "  - Student ID: S001, Name: Alice\n",
      "  - Student ID: S002, Name: Bob\n",
      "Course Material:\n",
      "Course Material - Title: Introduction to Python\n",
      "Content: Basic Python programming concepts.\n"
     ]
    }
   ],
   "source": [
    "class Student:\n",
    "    def __init__(self, student_id, name):\n",
    "        self.student_id = student_id\n",
    "        self.name = name\n",
    "\n",
    "    def __str__(self):\n",
    "        return f\"Student ID: {self.student_id}, Name: {self.name}\"\n",
    "\n",
    "class Instructor:\n",
    "    def __init__(self, instructor_id, name):\n",
    "        self.instructor_id = instructor_id\n",
    "        self.name = name\n",
    "\n",
    "    def __str__(self):\n",
    "        return f\"Instructor ID: {self.instructor_id}, Name: {self.name}\"\n",
    "\n",
    "class CourseMaterial:\n",
    "    def __init__(self, title, content):\n",
    "        self.title = title\n",
    "        self.content = content\n",
    "\n",
    "    def __str__(self):\n",
    "        return f\"Course Material - Title: {self.title}\\nContent: {self.content}\"\n",
    "\n",
    "class UniversityCourse:\n",
    "    def __init__(self, course_code, course_name, instructor, students, course_material):\n",
    "        self.course_code = course_code\n",
    "        self.course_name = course_name\n",
    "        self.instructor = instructor  # Composition: UniversityCourse \"has-an\" Instructor\n",
    "        self.students = students  # Composition: UniversityCourse \"has-many\" Students\n",
    "        self.course_material = course_material  # Composition: UniversityCourse \"has-a\" CourseMaterial\n",
    "\n",
    "    def display_course_info(self):\n",
    "        print(f\"Course Code: {self.course_code}\")\n",
    "        print(f\"Course Name: {self.course_name}\")\n",
    "        print(f\"Instructor: {self.instructor}\")\n",
    "        print(\"Students:\")\n",
    "        for student in self.students:\n",
    "            print(f\"  - {student}\")\n",
    "        print(f\"Course Material:\\n{self.course_material}\")\n",
    "\n",
    "# Example Usage:\n",
    "\n",
    "# Create students\n",
    "student1 = Student(student_id=\"S001\", name=\"Alice\")\n",
    "student2 = Student(student_id=\"S002\", name=\"Bob\")\n",
    "\n",
    "# Create an instructor\n",
    "instructor = Instructor(instructor_id=\"I001\", name=\"Professor Smith\")\n",
    "\n",
    "# Create course material\n",
    "course_material = CourseMaterial(title=\"Introduction to Python\", content=\"Basic Python programming concepts.\")\n",
    "\n",
    "# Create a university course with the components\n",
    "python_course = UniversityCourse(\n",
    "    course_code=\"CS101\",\n",
    "    course_name=\"Introduction to Python Programming\",\n",
    "    instructor=instructor,\n",
    "    students=[student1, student2],\n",
    "    course_material=course_material\n",
    ")\n",
    "\n",
    "# Display information about the university course\n",
    "python_course.display_course_info()\n"
   ]
  },
  {
   "cell_type": "markdown",
   "id": "3b08f9fb-3557-41bd-afd3-c6ee97f5591c",
   "metadata": {},
   "source": [
    "The Student, Instructor, and CourseMaterial classes represent individual components of a university course.\n",
    "The UniversityCourse class uses composition to include instances of the Instructor, Student, and CourseMaterial classes as attributes. It \"has-an\" instructor, \"has-many\" students, and \"has-a\" course material.\n",
    "This composition allows you to model a university course in a modular way, where each component can be individually created, modified, or replaced without affecting the entire course system. The display_course_info method in the UniversityCourse class demonstrates how the course can use its composed components to display information."
   ]
  },
  {
   "cell_type": "markdown",
   "id": "18b50c22-458a-4345-a368-83f92efdedc8",
   "metadata": {},
   "source": [
    "13. Discuss the challenges and drawbacks of composition, such as increased complexity and potential for \n",
    "tight coupling between objects"
   ]
  },
  {
   "cell_type": "markdown",
   "id": "d9cbadca-8abe-4e13-ba67-55fa952b8395",
   "metadata": {},
   "source": [
    "Increased Complexity:\n",
    "\n",
    "As a system grows and more components are composed to create complex objects, the overall complexity of the system may increase. Managing relationships between numerous components can become challenging, and the codebase may become harder to understand and maintain."
   ]
  },
  {
   "cell_type": "markdown",
   "id": "a52ec6cd-27ac-4826-bc66-d402876a75cf",
   "metadata": {},
   "source": [
    "Potential for Tight Coupling:\n",
    "\n",
    "If not managed carefully, composition can lead to tight coupling between classes. Tight coupling occurs when the internal details of one class are dependent on the internal details of another class. This can reduce the flexibility of the system and make it more difficult to modify or extend."
   ]
  },
  {
   "cell_type": "markdown",
   "id": "5e7b96fe-e511-440b-b059-cca28399b616",
   "metadata": {},
   "source": [
    "Boilerplate Code:\n",
    "\n",
    "In certain scenarios, composing multiple components may result in boilerplate code, especially when there is a need to expose methods or attributes of the composed objects through the composing object. This additional code may make the system more verbose."
   ]
  },
  {
   "cell_type": "markdown",
   "id": "ec47f3d8-2cd2-47ad-917e-41428a41fd8b",
   "metadata": {},
   "source": [
    "Dependency Management:\n",
    "\n",
    "Managing dependencies between components can be a challenge. If there are dependencies between multiple components, changes to one component may have a cascading effect, requiring modifications in other components."
   ]
  },
  {
   "cell_type": "markdown",
   "id": "56aebdb6-0ab2-4b8e-8c4e-dac0e05b93bf",
   "metadata": {},
   "source": [
    "Debugging Complexity:\n",
    "\n",
    "Debugging a system with deep composition hierarchies can be challenging. Identifying the source of issues or unexpected behaviors may require navigating through multiple layers of composed objects."
   ]
  },
  {
   "cell_type": "markdown",
   "id": "808eb9ae-76c0-43a2-9782-964b03e95f88",
   "metadata": {},
   "source": [
    "create a python class hierarchy for a restaurant system, using composition to represent menus, dishes, \n",
    "and ingredients"
   ]
  },
  {
   "cell_type": "code",
   "execution_count": 5,
   "id": "8337b2bc-06bf-4fca-a739-d0dfd6878759",
   "metadata": {},
   "outputs": [
    {
     "name": "stdout",
     "output_type": "stream",
     "text": [
      "Welcome to The Food Haven!\n",
      "\n",
      "Lunch Menu Menu\n",
      "\n",
      "Margherita Pizza - Classic Margherita pizza with tomato and cheese\n",
      "Price: $12.99\n",
      "Ingredients: 2 pieces of Tomato, 100 grams of Cheese\n",
      "\n",
      "Grilled Cheese Sandwich - Toasted bread with melted cheese\n",
      "Price: $8.99\n",
      "Ingredients: 100 grams of Cheese, 2 slices of Bread\n",
      "\n",
      "Dinner Menu Menu\n",
      "\n",
      "Margherita Pizza - Classic Margherita pizza with tomato and cheese\n",
      "Price: $12.99\n",
      "Ingredients: 2 pieces of Tomato, 100 grams of Cheese\n"
     ]
    }
   ],
   "source": [
    "class Ingredient:\n",
    "    def __init__(self, name, quantity, unit):\n",
    "        self.name = name\n",
    "        self.quantity = quantity\n",
    "        self.unit = unit\n",
    "\n",
    "    def __str__(self):\n",
    "        return f\"{self.quantity} {self.unit} of {self.name}\"\n",
    "\n",
    "class Dish:\n",
    "    def __init__(self, name, description, price, ingredients):\n",
    "        self.name = name\n",
    "        self.description = description\n",
    "        self.price = price\n",
    "        self.ingredients = ingredients  # Composition: Dish \"has-many\" Ingredients\n",
    "\n",
    "    def __str__(self):\n",
    "        return f\"{self.name} - {self.description}\\nPrice: ${self.price}\\nIngredients: {', '.join(map(str, self.ingredients))}\"\n",
    "\n",
    "class Menu:\n",
    "    def __init__(self, name, dishes):\n",
    "        self.name = name\n",
    "        self.dishes = dishes  # Composition: Menu \"has-many\" Dishes\n",
    "\n",
    "    def __str__(self):\n",
    "        return f\"{self.name} Menu\\n\\n\" + \"\\n\\n\".join(map(str, self.dishes))\n",
    "\n",
    "class Restaurant:\n",
    "    def __init__(self, name, menus):\n",
    "        self.name = name\n",
    "        self.menus = menus  # Composition: Restaurant \"has-many\" Menus\n",
    "\n",
    "    def __str__(self):\n",
    "        return f\"Welcome to {self.name}!\\n\\n\" + \"\\n\\n\".join(map(str, self.menus))\n",
    "\n",
    "# Example Usage:\n",
    "\n",
    "# Create ingredients\n",
    "ingredient1 = Ingredient(name=\"Tomato\", quantity=2, unit=\"pieces\")\n",
    "ingredient2 = Ingredient(name=\"Cheese\", quantity=100, unit=\"grams\")\n",
    "ingredient3 = Ingredient(name=\"Bread\", quantity=2, unit=\"slices\")\n",
    "\n",
    "# Create dishes\n",
    "dish1 = Dish(name=\"Margherita Pizza\", description=\"Classic Margherita pizza with tomato and cheese\", price=12.99, ingredients=[ingredient1, ingredient2])\n",
    "dish2 = Dish(name=\"Grilled Cheese Sandwich\", description=\"Toasted bread with melted cheese\", price=8.99, ingredients=[ingredient2, ingredient3])\n",
    "\n",
    "# Create menus\n",
    "menu1 = Menu(name=\"Lunch Menu\", dishes=[dish1, dish2])\n",
    "menu2 = Menu(name=\"Dinner Menu\", dishes=[dish1])\n",
    "\n",
    "# Create a restaurant with menus\n",
    "my_restaurant = Restaurant(name=\"The Food Haven\", menus=[menu1, menu2])\n",
    "\n",
    "# Display information about the restaurant\n",
    "print(my_restaurant)\n"
   ]
  },
  {
   "cell_type": "markdown",
   "id": "bb3f934b-fce8-4ac0-9410-97fbce88bf18",
   "metadata": {},
   "source": [
    "15. Explain how composition enhances code maintainability and modularity in Python programs"
   ]
  },
  {
   "cell_type": "markdown",
   "id": "a5c6dafd-5b39-4d0d-96d6-5ebc4e5e384b",
   "metadata": {},
   "source": [
    "Modularity:\n",
    "\n",
    "Composition encourages breaking down a system into smaller, independent modules or components. Each class or module can focus on a specific aspect of functionality, making it easier to understand, maintain, and test. This modular structure allows developers to work on individual components without needing an in-depth understanding of the entire system."
   ]
  },
  {
   "cell_type": "markdown",
   "id": "75444d41-1e0a-4564-a228-34fcbe7780f3",
   "metadata": {},
   "source": [
    "Code Reusability:\n",
    "\n",
    "With composition, you can create reusable components that can be easily employed in different parts of your program or in different projects. This promotes the development of libraries or modules that encapsulate specific functionality, reducing the need to reinvent the wheel and leading to more efficient and maintainable code."
   ]
  },
  {
   "cell_type": "markdown",
   "id": "14d9958a-9b01-4bc2-905e-9077f2c2abad",
   "metadata": {},
   "source": [
    "Encapsulation:\n",
    "\n",
    "Composition facilitates encapsulation, a fundamental principle of object-oriented programming. Each class can hide its internal implementation details, exposing only a well-defined interface to the outside world. This helps reduce complexity and makes it easier to reason about the behavior of individual components."
   ]
  },
  {
   "cell_type": "markdown",
   "id": "59fdbe42-ee53-4b26-98f2-d61ed63da864",
   "metadata": {},
   "source": [
    "Flexibility and Extensibility:\n",
    "\n",
    "Composition allows you to build systems that are flexible and extensible. New functionality can be added by composing new classes or modifying existing ones without affecting the entire system. This makes it easier to adapt to changing requirements or add features incrementally."
   ]
  },
  {
   "cell_type": "markdown",
   "id": "6a9b45c7-5964-4eb0-877c-4824b3aedfb3",
   "metadata": {},
   "source": [
    "16. Create a Python class for a computer game character, using composition to represent attributes like \n",
    "weapons, armor, and inventory"
   ]
  },
  {
   "cell_type": "code",
   "execution_count": 7,
   "id": "8a7fd7a4-2fa5-4eac-8f7e-79e27e3f7b80",
   "metadata": {},
   "outputs": [
    {
     "name": "stdout",
     "output_type": "stream",
     "text": [
      "Hero's Status:\n",
      "Health: 100\n",
      "Equipped Weapon: Weapon: Sword, Damage: 10\n",
      "Equipped Armor: Armor: Shield, Defense: 5\n",
      "Inventory:\n",
      "Enemy's Status:\n",
      "Health: 50\n",
      "Inventory:\n",
      "Hero attacks Enemy with Sword for 10 damage!\n",
      "Enemy attacks Hero with bare hands!\n",
      "Hero's Status:\n",
      "Health: 100\n",
      "Equipped Weapon: Weapon: Sword, Damage: 10\n",
      "Equipped Armor: Armor: Shield, Defense: 5\n",
      "Inventory:\n",
      "  - Health Potion\n",
      "Enemy's Status:\n",
      "Health: 40\n",
      "Inventory:\n"
     ]
    }
   ],
   "source": [
    "class Weapon:\n",
    "    def __init__(self, name, damage):\n",
    "        self.name = name\n",
    "        self.damage = damage\n",
    "\n",
    "    def __str__(self):\n",
    "        return f\"Weapon: {self.name}, Damage: {self.damage}\"\n",
    "\n",
    "class Armor:\n",
    "    def __init__(self, name, defense):\n",
    "        self.name = name\n",
    "        self.defense = defense\n",
    "\n",
    "    def __str__(self):\n",
    "        return f\"Armor: {self.name}, Defense: {self.defense}\"\n",
    "\n",
    "class Inventory:\n",
    "    def __init__(self):\n",
    "        self.items = []\n",
    "\n",
    "    def add_item(self, item):\n",
    "        self.items.append(item)\n",
    "\n",
    "    def display_inventory(self):\n",
    "        print(\"Inventory:\")\n",
    "        for item in self.items:\n",
    "            print(f\"  - {item}\")\n",
    "\n",
    "class GameCharacter:\n",
    "    def __init__(self, name, health, weapon=None, armor=None, inventory=None):\n",
    "        self.name = name\n",
    "        self.health = health\n",
    "        self.weapon = weapon  # Composition: GameCharacter \"has-a\" Weapon\n",
    "        self.armor = armor  # Composition: GameCharacter \"has-a\" Armor\n",
    "        self.inventory = inventory if inventory else Inventory()  # Composition: GameCharacter \"has-a\" Inventory\n",
    "\n",
    "    def equip_weapon(self, weapon):\n",
    "        self.weapon = weapon\n",
    "\n",
    "    def equip_armor(self, armor):\n",
    "        self.armor = armor\n",
    "\n",
    "    def take_damage(self, damage):\n",
    "        effective_damage = max(0, damage - (self.armor.defense if self.armor else 0))\n",
    "        self.health -= effective_damage\n",
    "\n",
    "    def attack(self, target):\n",
    "        if self.weapon:\n",
    "            print(f\"{self.name} attacks {target.name} with {self.weapon.name} for {self.weapon.damage} damage!\")\n",
    "            target.take_damage(self.weapon.damage)\n",
    "        else:\n",
    "            print(f\"{self.name} attacks {target.name} with bare hands!\")\n",
    "\n",
    "    def pick_up_item(self, item):\n",
    "        self.inventory.add_item(item)\n",
    "\n",
    "    def display_status(self):\n",
    "        print(f\"{self.name}'s Status:\")\n",
    "        print(f\"Health: {self.health}\")\n",
    "        if self.weapon:\n",
    "            print(f\"Equipped Weapon: {self.weapon}\")\n",
    "        if self.armor:\n",
    "            print(f\"Equipped Armor: {self.armor}\")\n",
    "        self.inventory.display_inventory()\n",
    "\n",
    "# Example Usage:\n",
    "\n",
    "# Create weapons, armor, and items\n",
    "sword = Weapon(name=\"Sword\", damage=10)\n",
    "shield = Armor(name=\"Shield\", defense=5)\n",
    "potion = \"Health Potion\"\n",
    "\n",
    "# Create a game character with inventory\n",
    "player = GameCharacter(name=\"Hero\", health=100, weapon=sword, armor=shield)\n",
    "\n",
    "# Create another game character\n",
    "enemy = GameCharacter(name=\"Enemy\", health=50)\n",
    "\n",
    "# Display initial status\n",
    "player.display_status()\n",
    "enemy.display_status()\n",
    "\n",
    "# Player attacks the enemy\n",
    "player.attack(enemy)\n",
    "\n",
    "# Enemy attacks the player\n",
    "enemy.attack(player)\n",
    "\n",
    "# Player picks up a health potion\n",
    "player.pick_up_item(potion)\n",
    "\n",
    "# Display updated status\n",
    "player.display_status()\n",
    "enemy.display_status()\n"
   ]
  },
  {
   "cell_type": "markdown",
   "id": "1395acb2-a584-4468-a474-7a645444d02a",
   "metadata": {},
   "source": [
    "17. Describe the concept of \"aggregation\" in composition and how it differs from simple composition."
   ]
  },
  {
   "cell_type": "markdown",
   "id": "5acce41c-fa41-4cbd-a137-4002ede0bfda",
   "metadata": {},
   "source": [
    "Aggregation is a specific form of composition where one object, known as the container or aggregate, contains references to other objects, known as components. The key distinction in aggregation is that the components can exist independently of the container. In other words, the lifecycle of the components is not tightly bound to the container. If the container is destroyed, the components can continue to exist."
   ]
  },
  {
   "cell_type": "markdown",
   "id": "01370130-9138-4049-900c-e1fd51573224",
   "metadata": {},
   "source": [
    "Lifecycle Dependency:\n",
    "\n",
    "In simple composition, the components' lifecycle is often tightly bound to the container. If the container is destroyed, the components are typically also destroyed. In aggregation, the components can exist independently of the container, and their lifecycle is not directly tied to the container."
   ]
  },
  {
   "cell_type": "markdown",
   "id": "5b850429-febd-44bb-842b-ae7560d4c149",
   "metadata": {},
   "source": [
    "Flexibility and Independence:\n",
    "\n",
    "Aggregation provides more flexibility and independence for the components. They can be shared among multiple containers or exist independently without being exclusively owned by a single container. This allows for better reusability of components across different contexts."
   ]
  },
  {
   "cell_type": "markdown",
   "id": "e498252c-eeac-43b1-b0a6-8d1795e28889",
   "metadata": {},
   "source": [
    "Multiplicity:\n",
    "\n",
    "Aggregation can involve multiple instances of components within a container. For example, a classroom (container) can have multiple students (components). The multiplicity in aggregation allows for one-to-many or many-to-many relationships between the container and components."
   ]
  },
  {
   "cell_type": "code",
   "execution_count": 5,
   "id": "d6cfe8f2-3490-45dd-8802-51714f1307d2",
   "metadata": {},
   "outputs": [
    {
     "name": "stdout",
     "output_type": "stream",
     "text": [
      "Employee 1: Alice\n"
     ]
    }
   ],
   "source": [
    "class Department:\n",
    "    def __init__(self, name):\n",
    "        self.name = name\n",
    "        self.employees = []  # Aggregation: Department \"has-many\" Employees\n",
    "\n",
    "    def add_employee(self, employee):\n",
    "        self.employees.append(employee)\n",
    "\n",
    "class Employee:\n",
    "    def __init__(self, name, employee_id):\n",
    "        self.name = name\n",
    "        self.employee_id = employee_id\n",
    "\n",
    "# Example Usage:\n",
    "\n",
    "# Create instances\n",
    "department = Department(name=\"Engineering\")\n",
    "employee1 = Employee(name=\"Alice\", employee_id=\"E001\")\n",
    "employee2 = Employee(name=\"Bob\", employee_id=\"E002\")\n",
    "\n",
    "# Add employees to the department (aggregation)\n",
    "department.add_employee(employee1)\n",
    "department.add_employee(employee2)\n",
    "\n",
    "# Employees can exist independently of the department\n",
    "print(f\"Employee 1: {employee1.name}\") \n"
   ]
  },
  {
   "cell_type": "markdown",
   "id": "454a5062-a9f8-4f2e-a500-a2339ffd4d3f",
   "metadata": {},
   "source": [
    "example of simple composition"
   ]
  },
  {
   "cell_type": "code",
   "execution_count": 7,
   "id": "7455e1ca-a155-45a8-b84e-6af4a638164f",
   "metadata": {},
   "outputs": [
    {
     "name": "stdout",
     "output_type": "stream",
     "text": [
      "Car is moving\n",
      "Engine started\n",
      "Car is parked\n",
      "Engine stopped\n"
     ]
    }
   ],
   "source": [
    "class Engine:\n",
    "    def start(self):\n",
    "        print(\"Engine started\")\n",
    "\n",
    "    def stop(self):\n",
    "        print(\"Engine stopped\")\n",
    "\n",
    "class Car:\n",
    "    def __init__(self):\n",
    "        self.engine = Engine()  # Simple Composition: Car \"has-a\" Engine\n",
    "\n",
    "    def drive(self):\n",
    "        print(\"Car is moving\")\n",
    "        self.engine.start()\n",
    "\n",
    "    def park(self):\n",
    "        print(\"Car is parked\")\n",
    "        self.engine.stop()\n",
    "\n",
    "# Example Usage:\n",
    "\n",
    "# Create a car (composition)\n",
    "my_car = Car()\n",
    "\n",
    "# Drive the car (uses the composed Engine)\n",
    "my_car.drive()\n",
    "\n",
    "# Park the car (uses the composed Engine)\n",
    "my_car.park()\n"
   ]
  },
  {
   "cell_type": "markdown",
   "id": "a49f3f7b-7e53-4a2d-b382-17fc2b40d277",
   "metadata": {},
   "source": [
    "18. Create a Python class for a house, using composition to represent rooms, furniture, and appliances."
   ]
  },
  {
   "cell_type": "code",
   "execution_count": 10,
   "id": "f5d3f33f-b02b-403f-afa8-8401c5ae26d6",
   "metadata": {},
   "outputs": [
    {
     "name": "stdout",
     "output_type": "stream",
     "text": [
      "House: My Dream House\n",
      "Rooms:\n",
      "Room: Living Room\n",
      "Furniture:\n",
      "  Furniture: Sofa\n",
      "Appliances:\n",
      "  Appliance: TV\n",
      "\n",
      "Room: Kitchen\n",
      "Furniture:\n",
      "  \n",
      "Appliances:\n",
      "  Appliance: Oven\n"
     ]
    }
   ],
   "source": [
    "class Furniture:\n",
    "    def __init__(self, name):\n",
    "        self.name = name\n",
    "\n",
    "    def __str__(self):\n",
    "        return f\"Furniture: {self.name}\"\n",
    "\n",
    "class Appliance:\n",
    "    def __init__(self, name):\n",
    "        self.name = name\n",
    "\n",
    "    def __str__(self):\n",
    "        return f\"Appliance: {self.name}\"\n",
    "\n",
    "class Room:\n",
    "    def __init__(self, name):\n",
    "        self.name = name\n",
    "        self.furniture = []  # Composition: Room \"has-many\" Furniture\n",
    "        self.appliances = []  # Composition: Room \"has-many\" Appliances\n",
    "\n",
    "    def add_furniture(self, furniture):\n",
    "        self.furniture.append(furniture)\n",
    "\n",
    "    def add_appliance(self, appliance):\n",
    "        self.appliances.append(appliance)\n",
    "\n",
    "    def __str__(self):\n",
    "        furniture_str = \"\\n  \".join(map(str, self.furniture))\n",
    "        appliance_str = \"\\n  \".join(map(str, self.appliances))\n",
    "        return f\"Room: {self.name}\\nFurniture:\\n  {furniture_str}\\nAppliances:\\n  {appliance_str}\"\n",
    "\n",
    "class House:\n",
    "    def __init__(self, name):\n",
    "        self.name = name\n",
    "        self.rooms = []  # Composition: House \"has-many\" Rooms\n",
    "\n",
    "    def add_room(self, room):\n",
    "        self.rooms.append(room)\n",
    "\n",
    "    def __str__(self):\n",
    "        room_str = \"\\n\\n\".join(map(str, self.rooms))\n",
    "        return f\"House: {self.name}\\nRooms:\\n{room_str}\"\n",
    "\n",
    "# Example Usage:\n",
    "\n",
    "# Create instances\n",
    "living_room = Room(name=\"Living Room\")\n",
    "kitchen = Room(name=\"Kitchen\")\n",
    "sofa = Furniture(name=\"Sofa\")\n",
    "tv = Appliance(name=\"TV\")\n",
    "oven = Appliance(name=\"Oven\")\n",
    "\n",
    "# Add furniture and appliances to rooms\n",
    "living_room.add_furniture(sofa)\n",
    "living_room.add_appliance(tv)\n",
    "kitchen.add_appliance(oven)\n",
    "\n",
    "# Create a house and add rooms\n",
    "my_house = House(name=\"My Dream House\")\n",
    "my_house.add_room(living_room)\n",
    "my_house.add_room(kitchen)\n",
    "\n",
    "# Display information about the house\n",
    "print(my_house)\n"
   ]
  },
  {
   "cell_type": "markdown",
   "id": "e1d8c2e5-580a-4a49-bf19-3e6542a37e5f",
   "metadata": {},
   "source": [
    "19. How can you achieve flexibility in composed objects by allowing them to be replaced or modified \n",
    "dynamically at runtime?"
   ]
  },
  {
   "cell_type": "markdown",
   "id": "0114aeed-4263-4ca6-8795-832e956f04d9",
   "metadata": {},
   "source": [
    "Achieving flexibility in composed objects by allowing them to be replaced or modified dynamically at runtime involves implementing designs that support runtime changes without affecting the overall functionality of the system. Here are some strategies to achieve this flexibility:"
   ]
  },
  {
   "cell_type": "markdown",
   "id": "def9e0bd-6320-4ff3-8b3d-01a734ab448d",
   "metadata": {},
   "source": [
    "Interfaces and Abstract Classes:\n",
    "\n",
    "Define interfaces or abstract classes for the components involved in composition. This allows different implementations (subclasses) to be created and swapped at runtime without affecting the code that uses the interface."
   ]
  },
  {
   "cell_type": "markdown",
   "id": "e6ebd012-bb4c-4c6f-9c67-1a6b364f219e",
   "metadata": {},
   "source": [
    "Polymorphism:\n",
    "\n",
    "Leverage polymorphism to allow different objects to be used interchangeably if they adhere to a common interface or inherit from a common base class. This enables dynamic substitution of objects without changing the client code."
   ]
  },
  {
   "cell_type": "markdown",
   "id": "b24cde3b-f325-4628-ae80-4a7cc7c190ac",
   "metadata": {},
   "source": [
    "Dependency Injection:\n",
    "\n",
    "Use dependency injection to inject components into a class rather than hard-coding them. This allows for easy substitution of components at runtime. Dependency injection frameworks or containers can be employed to manage the injection process."
   ]
  },
  {
   "cell_type": "code",
   "execution_count": 11,
   "id": "e34ff9d1-43ec-42ac-9ab0-4d5eefef935e",
   "metadata": {},
   "outputs": [
    {
     "name": "stdout",
     "output_type": "stream",
     "text": [
      "Console: Hello, World!\n"
     ]
    }
   ],
   "source": [
    "## simple example using dependency injection\n",
    "class Printer:\n",
    "    def print_message(self, message):\n",
    "        pass\n",
    "\n",
    "class ConsolePrinter(Printer):\n",
    "    def print_message(self, message):\n",
    "        print(f\"Console: {message}\")\n",
    "\n",
    "class FilePrinter(Printer):\n",
    "    def __init__(self, filename):\n",
    "        self.filename = filename\n",
    "\n",
    "    def print_message(self, message):\n",
    "        with open(self.filename, 'a') as file:\n",
    "            file.write(f\"File: {message}\\n\")\n",
    "\n",
    "class MessageProcessor:\n",
    "    def __init__(self, printer):\n",
    "        self.printer = printer\n",
    "\n",
    "    def process_message(self, message):\n",
    "        self.printer.print_message(message)\n",
    "\n",
    "# Example Usage:\n",
    "\n",
    "console_printer = ConsolePrinter()\n",
    "file_printer = FilePrinter(filename=\"output.txt\")\n",
    "\n",
    "message_processor = MessageProcessor(printer=console_printer)\n",
    "message_processor.process_message(\"Hello, World!\")\n",
    "\n",
    "message_processor.printer = file_printer\n",
    "message_processor.process_message(\"Logging to file\")\n"
   ]
  },
  {
   "cell_type": "markdown",
   "id": "981460f2-b87b-4acc-ae73-27995de4ad61",
   "metadata": {},
   "source": [
    "20. Create a Python class for a social media application, using composition to represent users, posts, and \n",
    "comments"
   ]
  },
  {
   "cell_type": "code",
   "execution_count": 12,
   "id": "a2992d81-5795-4ca2-83a8-b65a52b7715e",
   "metadata": {},
   "outputs": [
    {
     "name": "stdout",
     "output_type": "stream",
     "text": [
      "Post by alice123:\n",
      "Hello, social media!\n",
      "Comment by bob456:\n",
      "Great post, Alice!\n",
      "User: alice123 (Alice Wonderland)\n",
      "User: bob456 (Bob Smith)\n"
     ]
    }
   ],
   "source": [
    "class User:\n",
    "    def __init__(self, username, full_name):\n",
    "        self.username = username\n",
    "        self.full_name = full_name\n",
    "        self.posts = []  # Composition: User \"has-many\" Posts\n",
    "\n",
    "    def create_post(self, content):\n",
    "        post = Post(content=content, author=self)\n",
    "        self.posts.append(post)\n",
    "        return post\n",
    "\n",
    "    def __str__(self):\n",
    "        return f\"User: {self.username} ({self.full_name})\"\n",
    "\n",
    "class Post:\n",
    "    def __init__(self, content, author):\n",
    "        self.content = content\n",
    "        self.author = author\n",
    "        self.comments = []  # Composition: Post \"has-many\" Comments\n",
    "\n",
    "    def add_comment(self, user, text):\n",
    "        comment = Comment(user=user, text=text)\n",
    "        self.comments.append(comment)\n",
    "        return comment\n",
    "\n",
    "    def __str__(self):\n",
    "        return f\"Post by {self.author.username}:\\n{self.content}\"\n",
    "\n",
    "class Comment:\n",
    "    def __init__(self, user, text):\n",
    "        self.user = user\n",
    "        self.text = text\n",
    "\n",
    "    def __str__(self):\n",
    "        return f\"Comment by {self.user.username}:\\n{self.text}\"\n",
    "\n",
    "# Example Usage:\n",
    "\n",
    "# Create users\n",
    "alice = User(username=\"alice123\", full_name=\"Alice Wonderland\")\n",
    "bob = User(username=\"bob456\", full_name=\"Bob Smith\")\n",
    "\n",
    "# Alice creates a post\n",
    "post1 = alice.create_post(\"Hello, social media!\")\n",
    "\n",
    "# Bob comments on Alice's post\n",
    "comment1 = post1.add_comment(user=bob, text=\"Great post, Alice!\")\n",
    "\n",
    "# Display information about the social media activity\n",
    "print(post1)\n",
    "print(comment1)\n",
    "print(alice)\n",
    "print(bob)\n"
   ]
  },
  {
   "cell_type": "code",
   "execution_count": null,
   "id": "7c61d07a-20c4-43dd-9ed0-eae2d2026cc7",
   "metadata": {},
   "outputs": [],
   "source": []
  }
 ],
 "metadata": {
  "kernelspec": {
   "display_name": "Python 3 (ipykernel)",
   "language": "python",
   "name": "python3"
  },
  "language_info": {
   "codemirror_mode": {
    "name": "ipython",
    "version": 3
   },
   "file_extension": ".py",
   "mimetype": "text/x-python",
   "name": "python",
   "nbconvert_exporter": "python",
   "pygments_lexer": "ipython3",
   "version": "3.10.8"
  }
 },
 "nbformat": 4,
 "nbformat_minor": 5
}
