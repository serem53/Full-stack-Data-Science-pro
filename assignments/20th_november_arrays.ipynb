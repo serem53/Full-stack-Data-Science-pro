{
 "cells": [
  {
   "cell_type": "markdown",
   "id": "76dfbd42-3cb2-4827-9d82-0903bf7f7b56",
   "metadata": {},
   "source": [
    "1. Given an array, check if it contains any duplicates or not. \n",
    "\n",
    "arr = [1, 2, 4, 2, 5, 9] \n",
    "\n",
    "Output = True"
   ]
  },
  {
   "cell_type": "code",
   "execution_count": 2,
   "id": "eaf960b5-c00b-4a5b-a7fa-a971e61eb063",
   "metadata": {},
   "outputs": [
    {
     "name": "stdout",
     "output_type": "stream",
     "text": [
      "True\n"
     ]
    }
   ],
   "source": [
    "## function to check for duplicates \n",
    "def has_duplicates(arr):\n",
    "    seen = set()\n",
    "    for element in arr: #time comlexity == 0(n) and space complexity is also 0(n) because we require an additional data structure set\n",
    "        if element in seen:\n",
    "            return True\n",
    "        seen.add(element)\n",
    "    return False\n",
    "\n",
    "\n",
    "## defining array\n",
    "arr = [1, 2, 4, 2, 5, 9]\n",
    "\n",
    "#driver code\n",
    "output = has_duplicates(arr)\n",
    "print(output)\n",
    "\n",
    "## space compexity is 0(n) because we are using an additional data structure"
   ]
  },
  {
   "cell_type": "code",
   "execution_count": 3,
   "id": "270dcb55-1d86-4055-9074-2e7e30930fd6",
   "metadata": {},
   "outputs": [
    {
     "name": "stdout",
     "output_type": "stream",
     "text": [
      "True\n"
     ]
    }
   ],
   "source": [
    "## optimized code for the above problem\n",
    "def has_duplicates(arr):\n",
    "    \"\"\"argument -- array\n",
    "       output True if array has duplicates else false\"\"\"\n",
    "    #first sort the array\n",
    "    arr.sort()\n",
    "    for i in range(1, len(arr)):## time complexity 0(n) but space compexity is constant 0(1) because we are not using any additional data structure\n",
    "        if arr[i] == arr[i - 1]:\n",
    "            return True\n",
    "    return False\n",
    "\n",
    "\n",
    "##driver code\n",
    "arr = [1, 2, 4, 2, 5, 9]\n",
    "output = has_duplicates(arr)\n",
    "print(output)\n"
   ]
  },
  {
   "cell_type": "markdown",
   "id": "3ebdd731-9ca7-4e46-981c-21066526ffe5",
   "metadata": {},
   "source": [
    "2. Given an array and an integer k, rotate the array to the right by k steps. \n",
    "\n",
    "arr = [1, 2, 3, 4, 5, 6, 7] k = 3 \n",
    "\n",
    "Output = [5, 6, 7, 1, 2, 3, 4]"
   ]
  },
  {
   "cell_type": "markdown",
   "id": "b4bd62c0-6494-44bf-8683-2e9b11690795",
   "metadata": {},
   "source": [
    "less optimized solution"
   ]
  },
  {
   "cell_type": "code",
   "execution_count": 5,
   "id": "54ec2c10-b1ec-4891-ac14-87ab61177517",
   "metadata": {},
   "outputs": [
    {
     "name": "stdout",
     "output_type": "stream",
     "text": [
      "[5, 6, 7, 1, 2, 3, 4]\n"
     ]
    }
   ],
   "source": [
    "def rotate_array_basic(arr, k):\n",
    "    \"\"\"\n",
    "    argument -- array,number of right rotations to be performed\n",
    "    This solution uses the pop and insert operations to rotate\n",
    "    the array one step at a time for k steps. The time complexity is O(k * n) since it performs k rotations, each taking O(n) time.\n",
    "    \n",
    "    \"\"\"\n",
    "    n = len(arr)\n",
    "    k = k % n  # Ensure k is within the range of array length\n",
    "\n",
    "    for _ in range(k):\n",
    "        # Rotate the array one step to the right\n",
    "        last_element = arr.pop()\n",
    "        arr.insert(0, last_element)\n",
    "\n",
    "# Driver code\n",
    "arr = [1, 2, 3, 4, 5, 6, 7]\n",
    "k = 3\n",
    "rotate_array_basic(arr, k)\n",
    "print(arr)\n"
   ]
  },
  {
   "cell_type": "markdown",
   "id": "663159fe-b2dd-470f-977b-c8e63f34eb3e",
   "metadata": {},
   "source": [
    "More optimized soultion"
   ]
  },
  {
   "cell_type": "code",
   "execution_count": 3,
   "id": "d5cb3868-77fa-42a5-9328-e8d577d829dd",
   "metadata": {},
   "outputs": [
    {
     "data": {
      "text/plain": [
       "[5, 6, 7, 1, 2, 3, 4]"
      ]
     },
     "execution_count": 3,
     "metadata": {},
     "output_type": "execute_result"
    }
   ],
   "source": [
    "def rotate_array_optimized(arr, k):\n",
    "    \"\"\"\n",
    "    argument -- array,number of right rotations to be performed\n",
    "    no usage of loops therefore time complexiy is 0(n) where n is the number of elements in array\n",
    "    no new data structure theirfore space complexity is 0(1)\n",
    "    \"\"\"\n",
    "    n = len(arr)\n",
    "    k = k % n  # Ensure k is within the range of array length\n",
    "\n",
    "    # Reverse the entire array\n",
    "    arr.reverse()\n",
    "\n",
    "    # Reverse the first k elements\n",
    "    arr[:k] = reversed(arr[:k])\n",
    "\n",
    "    # Reverse the remaining elements\n",
    "    arr[k:] = reversed(arr[k:])\n",
    "    return arr\n",
    "\n",
    "# Driver code\n",
    "arr = [1, 2, 3, 4, 5, 6, 7]\n",
    "k = 3\n",
    "rotate_array_optimized(arr, k)\n",
    "\n"
   ]
  },
  {
   "cell_type": "markdown",
   "id": "35896acd-f3ad-4184-a7c7-24a2beb75aaf",
   "metadata": {},
   "source": [
    "The optimized solution first reverses the entire array, then reverses the first k elements, and finally reverses the remaining elements. This approach has a time complexity of O(n) and a space complexity of O(1)."
   ]
  },
  {
   "cell_type": "markdown",
   "id": "54e97a53-fda0-4e42-81ef-f8135b6169e7",
   "metadata": {},
   "source": [
    "3. Reverse the given array in-place, means without using any extra data structure. \n",
    "arr = [2, 4, 5, 7, 9, 12] \n",
    "\n",
    "\n",
    "Output = [12, 9, 7, 5, 4, 2]"
   ]
  },
  {
   "cell_type": "markdown",
   "id": "814fddd5-ee01-42f2-bda9-42d2dac8e095",
   "metadata": {},
   "source": [
    "as i have done in the previous question the pace complexity will be 0(1) since we will be using the same list when working on our problem"
   ]
  },
  {
   "cell_type": "code",
   "execution_count": 4,
   "id": "0b56fa6f-c2df-4c71-bab1-cd333f775bda",
   "metadata": {},
   "outputs": [
    {
     "data": {
      "text/plain": [
       "[12, 9, 7, 5, 4, 2]"
      ]
     },
     "execution_count": 4,
     "metadata": {},
     "output_type": "execute_result"
    }
   ],
   "source": [
    "##using the reverse method\n",
    "def reverse_array(arr):\n",
    "    \"\"\"\n",
    "    argument -- array\n",
    "    using the reverse method\n",
    "    time complexity -- 0(n)\n",
    "    space complexity -- 0(1)\n",
    "    \n",
    "    \"\"\"\n",
    "    arr.reverse()\n",
    "    return arr\n",
    "\n",
    "## driver code\n",
    "arr = [2, 4, 5, 7, 9, 12] \n",
    "reverse_array(arr)"
   ]
  },
  {
   "cell_type": "code",
   "execution_count": 6,
   "id": "7b47b123-4094-4849-b324-fe0adc960b8a",
   "metadata": {},
   "outputs": [
    {
     "data": {
      "text/plain": [
       "[12, 9, 7, 5, 4, 2]"
      ]
     },
     "execution_count": 6,
     "metadata": {},
     "output_type": "execute_result"
    }
   ],
   "source": [
    "## using while loop \n",
    "## more optimized than above interms of time complexity but also constant time complexity\n",
    "def reverse_array(arr):\n",
    "    \"\"\"\n",
    "    argument -- array\n",
    "    using the while loop \n",
    "    time complexity -- 0(n/2) the loop runs for half the array length\n",
    "    space complexity -- 0(1)\n",
    "    \"\"\"\n",
    "    start_index = 0\n",
    "    end_index = len(arr)-1\n",
    "    \n",
    "    while start_index < end_index:\n",
    "        #swap elements at start index and end_index\n",
    "        arr[start_index],arr[end_index] = arr[end_index],arr[start_index]\n",
    "        \n",
    "        start_index +=1\n",
    "        end_index -=1\n",
    "        \n",
    "    return arr\n",
    "\n",
    "\n",
    "##driver code\n",
    "arr = [2, 4, 5, 7, 9, 12] \n",
    "reverse_array(arr)"
   ]
  },
  {
   "cell_type": "markdown",
   "id": "b3556936-6241-4034-a4f2-6963d9a1e3ae",
   "metadata": {},
   "source": [
    "4. Given an array of integers, find the maximum element in an array\n",
    "\n",
    " arr = [10, 5, 20, 8, 15]\n",
    "\n",
    " Output = 20"
   ]
  },
  {
   "cell_type": "code",
   "execution_count": 21,
   "id": "af96f6ef-b866-4561-9b62-227dcac62154",
   "metadata": {},
   "outputs": [
    {
     "data": {
      "text/plain": [
       "20"
      ]
     },
     "execution_count": 21,
     "metadata": {},
     "output_type": "execute_result"
    }
   ],
   "source": [
    "def find_max(arr):\n",
    "    \"\"\"\n",
    "    argument --arr\n",
    "    time complexity -- 0(n) the code will run for n-1 times where n is the length of array \n",
    "    space complexity -- 0(1)\n",
    "    \"\"\"\n",
    "    ## checking for empty arrays\n",
    "    if not arr:\n",
    "        return None  \n",
    "    \n",
    "    max_element = arr[0]\n",
    "    \n",
    "    for element in arr[1:]:\n",
    "        ## using the max method to compare \n",
    "        max_element = max(max_element,element)\n",
    "            \n",
    "    return max_element\n",
    "            \n",
    "        \n",
    "        \n",
    "        \n",
    "##driver code\n",
    "arr = [10,5,20,8,15]\n",
    "find_max(arr)"
   ]
  },
  {
   "cell_type": "markdown",
   "id": "bb7371e1-89e2-4374-9c04-1f9cf617594d",
   "metadata": {},
   "source": [
    "5. Given a sorted array, remove the duplicate element without using any extra data structure. \n",
    "\n",
    "arr = [1, 1, 2, 2, 2, 3, 3, 4, 4, 4, 5, 5] \n",
    "\n",
    "Output = [1, 2, 3, 4, 5]"
   ]
  },
  {
   "cell_type": "code",
   "execution_count": 11,
   "id": "7e0965b6-2158-42ac-b71d-435373cbf976",
   "metadata": {},
   "outputs": [
    {
     "name": "stdout",
     "output_type": "stream",
     "text": [
      "[1, 2, 3, 4, 5]\n"
     ]
    }
   ],
   "source": [
    "def remove_duplicates(arr):\n",
    "    \"\"\"\n",
    "    argument --arr\n",
    "    time complexity -- 0(n)\n",
    "    space complexity -- 0(1)\n",
    "    \"\"\"\n",
    "    ## check if array is empty\n",
    "    if not arr:\n",
    "        return \"array is empty\"\n",
    "\n",
    "    # Initialize variables\n",
    "    current_index = 0\n",
    "\n",
    "    for i in range(1, len(arr)):\n",
    "        if arr[i] != arr[current_index]:\n",
    "            current_index += 1\n",
    "            arr[current_index] = arr[i]\n",
    "\n",
    "    arr = arr[:current_index + 1]\n",
    "    return arr\n",
    "\n",
    "# Driver code\n",
    "arr = [1, 1, 2, 2, 2, 3, 3, 4, 4, 4, 5, 5]\n",
    "result = remove_duplicates(arr)\n",
    "print(result)\n"
   ]
  },
  {
   "cell_type": "code",
   "execution_count": 10,
   "id": "0c2f037e-a16f-46b2-a49f-ba445bb0df20",
   "metadata": {},
   "outputs": [
    {
     "name": "stdout",
     "output_type": "stream",
     "text": [
      "1\n",
      "2\n",
      "3\n",
      "4\n",
      "5\n"
     ]
    }
   ],
   "source": [
    "## less optimized than the one above\n",
    "def remove_duplicates(arr):\n",
    "    \"\"\"\n",
    "    argument --arr\n",
    "    time complexity -- 0(n) takes 2n times to run,where n is the number of elements in array \n",
    "    \"\"\"\n",
    "    ## check if array is empty\n",
    "    if not arr:\n",
    "        return 0\n",
    "\n",
    "    j = 0\n",
    "    #checks if the current element is not equal to the next element.\n",
    "    #If they are not equal, it means the current element is unique or the last occurrence of a repeated element.\n",
    "    for i in range(len(arr) - 1):\n",
    "        if arr[i] != arr[i + 1]:\n",
    "             #updates the array by placing the current unique element at the position j in the array.\n",
    "            arr[j] = arr[i]\n",
    "            j += 1\n",
    "    \n",
    "    #assigns the last element of the array to the next available position in the array (at index j).\n",
    "    arr[j] = arr[-1]\n",
    "    j += 1\n",
    "\n",
    "    for i in range(j):\n",
    "        print(arr[i])\n",
    "\n",
    "\n",
    "##driver code\n",
    "arr = [1,2,2,3,4,4,4,5,5]\n",
    "remove_duplicates(arr)\n",
    "\n"
   ]
  },
  {
   "cell_type": "code",
   "execution_count": null,
   "id": "036f8f32-a68f-47c7-a55d-4e88b00605a7",
   "metadata": {},
   "outputs": [],
   "source": []
  }
 ],
 "metadata": {
  "kernelspec": {
   "display_name": "Python 3 (ipykernel)",
   "language": "python",
   "name": "python3"
  },
  "language_info": {
   "codemirror_mode": {
    "name": "ipython",
    "version": 3
   },
   "file_extension": ".py",
   "mimetype": "text/x-python",
   "name": "python",
   "nbconvert_exporter": "python",
   "pygments_lexer": "ipython3",
   "version": "3.10.8"
  }
 },
 "nbformat": 4,
 "nbformat_minor": 5
}
