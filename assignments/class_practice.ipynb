{
 "cells": [
  {
   "cell_type": "markdown",
   "id": "d1f08e64-bd2c-425f-9ab0-060e090ad2f5",
   "metadata": {},
   "source": [
    "Problem 1: Bank Account Create a class representing a bank account with attributes like account number, account holder name, and balance. Implement methods to deposit and withdraw money from the account."
   ]
  },
  {
   "cell_type": "code",
   "execution_count": 25,
   "id": "cba3a5d1-8e46-4724-8bd9-10c6b6452aac",
   "metadata": {},
   "outputs": [],
   "source": [
    "class BankAccount:\n",
    "    \"\"\"\n",
    "    Represents a bank account with attributes such as account number, account holder name, and balance.\n",
    "    Provides methods to deposit and withdraw money from the account.\n",
    "    \"\"\"\n",
    "      \n",
    "    def __init__(self,name,acc_no):\n",
    "        self.name = name\n",
    "        self.acc_no =acc_no\n",
    "        self.balance = 0\n",
    "    \n",
    "    def deposit(self,amount):\n",
    "        \"\"\"\n",
    "        deposits money to the account, \n",
    "        Args:\n",
    "        amount (float): The amount to deposit.\n",
    "        Returns:\n",
    "        str: A message indicating the result of the deposit.\n",
    "        \"\"\"\n",
    "        \n",
    "        \n",
    "        try:\n",
    "            if amount <= 0:\n",
    "                raise ValueError('Deposit should be greater than zero')\n",
    "            else:\n",
    "                self.balance += amount\n",
    "                return f'new account balance is: {self.balance}$'\n",
    "        except ValueError as e:\n",
    "            return str(e)\n",
    "        \n",
    "    def withdraw(self,amount):\n",
    "        \"\"\"\n",
    "        Withdraws money from the account, \n",
    "        Args:\n",
    "        amount (float): The amount to withdraw.\n",
    "        Returns:\n",
    "        str: A message indicating the result of the withdrawal.\n",
    "        \"\"\"\n",
    "        try:\n",
    "            if amount <= 0:\n",
    "                raise ValueError ('amount should be greater than zero')\n",
    "            else:\n",
    "                if amount > self.balance:\n",
    "                    raise ValueError('low account balance!!')\n",
    "                else:\n",
    "                    self.balance = self.balance-amount\n",
    "                    return f'new account balance is: {self.balance}$'\n",
    "        except ValueError as e:\n",
    "            return str(e)\n",
    "            \n",
    "\n",
    "\n",
    "    \n",
    "        \n",
    "        \n",
    "\n",
    "\n",
    "        "
   ]
  },
  {
   "cell_type": "code",
   "execution_count": 26,
   "id": "f2d4fc85-bb75-4777-847b-3530329fc08c",
   "metadata": {},
   "outputs": [
    {
     "data": {
      "text/plain": [
       "'new account balance is: 60$'"
      ]
     },
     "execution_count": 26,
     "metadata": {},
     "output_type": "execute_result"
    }
   ],
   "source": [
    "# name = input('enter your name: ')\n",
    "# acc_no = input('enter your account number: ')\n",
    "trevor = BankAccount('trevor','152361')\n",
    "\n",
    "trevor.deposit(60)\n",
    "\n"
   ]
  },
  {
   "cell_type": "code",
   "execution_count": 27,
   "id": "3df20403-023e-4c3c-b9db-ae13e6bc23a3",
   "metadata": {},
   "outputs": [
    {
     "data": {
      "text/plain": [
       "'new account balance is: 10$'"
      ]
     },
     "execution_count": 27,
     "metadata": {},
     "output_type": "execute_result"
    }
   ],
   "source": [
    "trevor.withdraw(50)"
   ]
  },
  {
   "cell_type": "markdown",
   "id": "d9101f63-affe-42cd-8412-bda314b5e699",
   "metadata": {},
   "source": [
    "Problem 2: Employee Management Create a class representing an employee with attributes like employee ID, name, and salary. Implement methods to calculate the yearly bonus and display employee details."
   ]
  },
  {
   "cell_type": "code",
   "execution_count": 30,
   "id": "e3bc59ca-2196-46a0-ba73-300401ec951c",
   "metadata": {},
   "outputs": [],
   "source": [
    "class Employee:\n",
    "    \"\"\"\n",
    "    reprsenting an employee and provides methods to calculate yearly bonus and employee details\n",
    "    \"\"\"\n",
    "    def __init__(self, emp_id,name,salary):\n",
    "        self.emp_id = emp_id\n",
    "        self.name = name\n",
    "        self.salary = salary\n",
    "    \n",
    "    def calculate_yearly_bonus(self):\n",
    "        \"\"\"\n",
    "        does not take any arguments\n",
    "        calculate yearly bonus and total salary after bonus addition\n",
    "        returns bonus and total salary\n",
    "        \"\"\"\n",
    "        self.bonus = 0.2 * self.salary\n",
    "        self.total_salary = self.salary+self.bonus\n",
    "        return f'bonus: {self.bonus} ,total salary  at the end of the year: {self.total_salary}'\n",
    "     \n",
    "    def dispaly_details(self):\n",
    "        \"\"\"\n",
    "        does not take any arguments\n",
    "        returns employee full information\n",
    "        \"\"\"\n",
    "        details = {\n",
    "                   'employee_id': self.emp_id,\n",
    "                   'name': self.name,\n",
    "                    'yearly_salary': self.salary,\n",
    "                   'bonus': self.bonus,\n",
    "                    'yearly_salary after bonus addition': self.total_salary\n",
    "                    }\n",
    "        for key,value in details.items():\n",
    "            print (f'{key}: {value}')"
   ]
  },
  {
   "cell_type": "code",
   "execution_count": 31,
   "id": "2b4df8eb-cde1-4fbf-a209-7bfd539fbe15",
   "metadata": {},
   "outputs": [
    {
     "data": {
      "text/plain": [
       "'bonus: 10000.0 ,total salary  at the end of the year: 60000.0'"
      ]
     },
     "execution_count": 31,
     "metadata": {},
     "output_type": "execute_result"
    }
   ],
   "source": [
    "serem = Employee('1','serem', 50000)\n",
    "serem.calculate_yearly_bonus()"
   ]
  },
  {
   "cell_type": "code",
   "execution_count": 32,
   "id": "39224b99-87e8-4998-a0da-5628cb264ede",
   "metadata": {},
   "outputs": [
    {
     "name": "stdout",
     "output_type": "stream",
     "text": [
      "employee_id: 1\n",
      "name: serem\n",
      "yearly_salary: 50000\n",
      "bonus: 10000.0\n",
      "yearly_salary after bonus addition: 60000.0\n"
     ]
    }
   ],
   "source": [
    "serem.dispaly_details()"
   ]
  },
  {
   "cell_type": "markdown",
   "id": "1d9b3b79-5205-4405-8299-34d3d740c950",
   "metadata": {},
   "source": [
    "Problem 3: Vehicle Rental Create a class representing a vehicle rental system. Implement methods to rent a vehicle, return a vehicle, and display available vehicles."
   ]
  },
  {
   "cell_type": "code",
   "execution_count": 33,
   "id": "9d2dec96-7547-4264-860f-7f44e34e1fa2",
   "metadata": {},
   "outputs": [],
   "source": [
    "# We create a blueprint for each car.\n",
    "class Vehicle:\n",
    "    \"\"\"\n",
    "    represents a vehicle with attributes name and rented which is boolean\n",
    "    and functions rent and return_vehicle\n",
    "    \"\"\"\n",
    "    def __init__(self,name):\n",
    "        self.name = name\n",
    "        self.rented = False\n",
    "    \n",
    "    def rent(self):\n",
    "        \"\"\"\n",
    "        rent a vehicle\n",
    "        \"\"\"\n",
    "        if self.rented:\n",
    "            return f'{self.name} is already rented'\n",
    "        else:\n",
    "            self.rented = True\n",
    "            return f'you have successfully rented {self.name}'\n",
    "       \n",
    "    \n",
    "    def return_vehicle(self):\n",
    "        \"\"\"\n",
    "        function to return a car after renting\n",
    "        \"\"\"\n",
    "        if  self.rented:\n",
    "            self.rented = False\n",
    "            return f'you have returned {self.name}'\n",
    "        else:\n",
    "            return f'{self.name} was not rented'\n",
    "\n",
    "        \n",
    "        \n",
    "class VehicleRentalSystem:\n",
    "    \"\"\"\n",
    "    represents the vehicle renting system where the available cars are stored in\n",
    "    a list as objects of the vehicle class,for example Vehicle('car1') is a created object of class Vehicle\n",
    "    \"\"\"\n",
    "    def __init__(self):\n",
    "        self.vehicles = [Vehicle('car1'),Vehicle('car2'),Vehicle('car3'),Vehicle('car4')]\n",
    "        \n",
    "    def display_available_vehicles(self):\n",
    "        \"\"\"\n",
    "        return cars which are available for renting\n",
    "        \"\"\"\n",
    "        print('Available Vehicles:')\n",
    "        for vehicle in self.vehicles:\n",
    "            if not vehicle.rented:\n",
    "                print(vehicle.name)\n",
    "                \n",
    "    def rent_vehicle(self, vehicle_name):\n",
    "        \"\"\"\n",
    "        rent an available car \n",
    "        \"\"\"\n",
    "        for vehicle in self.vehicles:\n",
    "            if vehicle.name == vehicle_name:\n",
    "                return  vehicle.rent()\n",
    "        return f'we dont have {vehicle.name} in our fleet'\n",
    "    \n",
    "    def return_vehicle(self, vehicle_name):\n",
    "        \"\"\"\n",
    "        function to return a car after renting\n",
    "        \"\"\"\n",
    "        for vehicle in self.vehicles:\n",
    "            if vehicle.name == vehicle_name:\n",
    "                return vehicle.return_vehicle()\n",
    "        return f'we dont have {vehice.name} in our fleet'\n",
    "        \n",
    "            \n"
   ]
  },
  {
   "cell_type": "code",
   "execution_count": 34,
   "id": "173b1a5f-bcf9-4597-858d-5b842f877407",
   "metadata": {},
   "outputs": [
    {
     "name": "stdout",
     "output_type": "stream",
     "text": [
      "Available Vehicles:\n",
      "car1\n",
      "car2\n",
      "car3\n",
      "car4\n"
     ]
    }
   ],
   "source": [
    "rental_system = VehicleRentalSystem()\n",
    "\n",
    "rental_system.display_available_vehicles()"
   ]
  },
  {
   "cell_type": "code",
   "execution_count": 35,
   "id": "fc5c7cc4-7433-4765-afa0-b20a3a02430a",
   "metadata": {},
   "outputs": [
    {
     "data": {
      "text/plain": [
       "'you have successfully rented car1'"
      ]
     },
     "execution_count": 35,
     "metadata": {},
     "output_type": "execute_result"
    }
   ],
   "source": [
    "\n",
    "rental_system.rent_vehicle('car1')"
   ]
  },
  {
   "cell_type": "code",
   "execution_count": 36,
   "id": "593983ec-e769-432f-ae50-f97e321c5781",
   "metadata": {},
   "outputs": [
    {
     "name": "stdout",
     "output_type": "stream",
     "text": [
      "Available Vehicles:\n",
      "car2\n",
      "car3\n",
      "car4\n"
     ]
    }
   ],
   "source": [
    "rental_system.display_available_vehicles()"
   ]
  },
  {
   "cell_type": "code",
   "execution_count": 37,
   "id": "3e353f23-458f-44c1-8005-98a30db89f50",
   "metadata": {},
   "outputs": [
    {
     "data": {
      "text/plain": [
       "'you have successfully rented car2'"
      ]
     },
     "execution_count": 37,
     "metadata": {},
     "output_type": "execute_result"
    }
   ],
   "source": [
    "rental_system.rent_vehicle('car2')"
   ]
  },
  {
   "cell_type": "code",
   "execution_count": 38,
   "id": "cb5d3e3c-8ebd-4a0b-8d83-77d322147c8b",
   "metadata": {},
   "outputs": [
    {
     "name": "stdout",
     "output_type": "stream",
     "text": [
      "Available Vehicles:\n",
      "car3\n",
      "car4\n"
     ]
    }
   ],
   "source": [
    "rental_system.display_available_vehicles()"
   ]
  },
  {
   "cell_type": "code",
   "execution_count": 9,
   "id": "ed45feee-bd64-4796-8ca4-16cc9964626e",
   "metadata": {},
   "outputs": [
    {
     "data": {
      "text/plain": [
       "'car2 is already rented'"
      ]
     },
     "execution_count": 9,
     "metadata": {},
     "output_type": "execute_result"
    }
   ],
   "source": [
    "rental_system.rent_vehicle('car2')"
   ]
  },
  {
   "cell_type": "code",
   "execution_count": 10,
   "id": "3d27148f-71c7-44ae-b2a1-0a713c42852d",
   "metadata": {},
   "outputs": [
    {
     "data": {
      "text/plain": [
       "'you have returned car2'"
      ]
     },
     "execution_count": 10,
     "metadata": {},
     "output_type": "execute_result"
    }
   ],
   "source": [
    "rental_system.return_vehicle('car2')"
   ]
  },
  {
   "cell_type": "code",
   "execution_count": 11,
   "id": "7dd1d36f-dcb1-4619-9ce5-3b7ac9bdbda4",
   "metadata": {},
   "outputs": [
    {
     "name": "stdout",
     "output_type": "stream",
     "text": [
      "Available Vehicles:\n",
      "car2\n",
      "car3\n",
      "car4\n"
     ]
    }
   ],
   "source": [
    "rental_system.display_available_vehicles()"
   ]
  },
  {
   "cell_type": "markdown",
   "id": "82992a4b-307c-4d85-a553-dc9de1d65278",
   "metadata": {},
   "source": [
    "Problem 4: Library Catalog Create classes representing a library and a book. Implement methods to add books to the library, borrow books, and display available books."
   ]
  },
  {
   "cell_type": "code",
   "execution_count": 44,
   "id": "03dabed6-a5c6-416c-8a91-160f09e25b79",
   "metadata": {},
   "outputs": [],
   "source": [
    "class Library:\n",
    "    \"\"\"\n",
    "    represents a library\n",
    "    contains available books\n",
    "    functions:\n",
    "    add_books,books\n",
    "    \"\"\"\n",
    "    def __init__(self):\n",
    "        self.available_books = ['noah','cassie cage','super nova']\n",
    "    \n",
    "    def add_books(self,book):\n",
    "        \"\"\"\n",
    "        add book to the library\n",
    "        argument: book_name\n",
    "        \"\"\"\n",
    "        self.available_books.append(book)\n",
    "        print(f'{book} was added succussefully')\n",
    "        \n",
    "        \n",
    "    def books(self):\n",
    "        \"\"\"\n",
    "        display available books\n",
    "        \"\"\"\n",
    "        print('this are the books we have: ')\n",
    "        for book in self.available_books:\n",
    "            print(book)\n",
    "            \n",
    "class Borrower:\n",
    "    \"\"\"\n",
    "    represents a borrower who will borrow a book\n",
    "    argument:\n",
    "    name\n",
    "    phone_number\n",
    "    \"\"\"\n",
    "    def __init__(self,name,num):\n",
    "        self.name = name\n",
    "        self.num = num\n",
    "        \n",
    "    def borrow(self, book):\n",
    "        \"\"\"\n",
    "        borrow a book\n",
    "        argument:\n",
    "        book\n",
    "        \"\"\"\n",
    "        if book in library.available_books:\n",
    "            library.available_books.remove(book)\n",
    "            print(f'you have borrowed {book}')\n",
    "        else:\n",
    "            print(f'{book} is not available for borrowing')\n",
    "        \n"
   ]
  },
  {
   "cell_type": "code",
   "execution_count": 47,
   "id": "669e07a2-5176-483c-9f42-73d3b414583d",
   "metadata": {},
   "outputs": [
    {
     "name": "stdout",
     "output_type": "stream",
     "text": [
      "this are the books we have: \n",
      "noah\n",
      "cassie cage\n",
      "super nova\n"
     ]
    }
   ],
   "source": [
    "library = Library()\n",
    "serem = Borrower('trevor',76756734)\n",
    "library.books()"
   ]
  },
  {
   "cell_type": "code",
   "execution_count": 48,
   "id": "08343090-72b5-4068-9325-f3eaad3bd766",
   "metadata": {},
   "outputs": [
    {
     "name": "stdout",
     "output_type": "stream",
     "text": [
      "you have borrowed noah\n"
     ]
    }
   ],
   "source": [
    "serem.borrow('noah')"
   ]
  },
  {
   "cell_type": "code",
   "execution_count": 49,
   "id": "3bb1c400-b6d9-43cd-9659-6bbbf97794ac",
   "metadata": {},
   "outputs": [
    {
     "name": "stdout",
     "output_type": "stream",
     "text": [
      "this are the books we have: \n",
      "cassie cage\n",
      "super nova\n"
     ]
    }
   ],
   "source": [
    "library.books()"
   ]
  },
  {
   "cell_type": "markdown",
   "id": "6224d6d1-a36a-4e2e-96c0-1f575432a3af",
   "metadata": {},
   "source": [
    "Problem 5: Product Inventory Create classes representing a product and an inventory system. Implement methods to add products to the inventory, update product quantity, and display available products."
   ]
  },
  {
   "cell_type": "code",
   "execution_count": 56,
   "id": "b7e8faae-94a6-46b8-a0b8-736a1e1f48a0",
   "metadata": {},
   "outputs": [],
   "source": [
    "class Product:\n",
    "    \"\"\"\n",
    "    attribute:\n",
    "    product_id, name, quantity,price\n",
    "    this is the product class with methods to add products update product quantity and display avialable products \n",
    "    \"\"\"\n",
    "    def __init__(self, product_id, name, quantity,price):\n",
    "        self.product_id = product_id\n",
    "        self.name = name\n",
    "        self.quantity = quantity\n",
    "        self.price = price\n",
    "        \n",
    "    def __str__(self):\n",
    "        return f\"PRODUCT | ID: {self.product_id}, NAME: {self.name}, QUANTITY: {self.quantity}, PRICE: {self.price} \"\n",
    "    \n",
    "class InventorySystem:\n",
    "    \"\"\"\n",
    "    this is the inventory system with methods\n",
    "    add_p\n",
    "    \"\"\"\n",
    "    def __init__(self):\n",
    "        self.products = {}\n",
    "        \n",
    "    def add_product(self, product):\n",
    "        self.products[product.product_id] = product\n",
    "        print('the product was added succusefully')\n",
    "        \n",
    "    def update_product(self,product_id, quantity):\n",
    "        if product_id in self.products:\n",
    "            self.products[product_id].quantity = quantity\n",
    "            print(f\"{ self.products[product_id].name}'s quantity was updated succusefully\")\n",
    "        else:\n",
    "             print('we dont have that product in our inventory')\n",
    "    \n",
    "    def available_products(self):\n",
    "        print('these are the products we have')\n",
    "        for product_id,product  in self.products.items():\n",
    "            print(product_id,product)\n",
    "        "
   ]
  },
  {
   "cell_type": "code",
   "execution_count": 57,
   "id": "4b3dd4d6-ac85-4d8c-bd92-452ddae51a0e",
   "metadata": {},
   "outputs": [],
   "source": [
    "# creating products\n",
    "product1 = Product(1,'bread',10,50)\n",
    "product2 = Product(2,'redbull',30,20)\n",
    "product3 = Product(3,'soap',5,5)\n",
    "product4 = Product(4,'laptop',100,500)\n",
    "\n",
    "inventory_system = InventorySystem()"
   ]
  },
  {
   "cell_type": "code",
   "execution_count": 58,
   "id": "e717dc19-477b-4a7a-8e06-9192f7185b3c",
   "metadata": {},
   "outputs": [
    {
     "name": "stdout",
     "output_type": "stream",
     "text": [
      "the product was added succusefully\n",
      "the product was added succusefully\n",
      "the product was added succusefully\n",
      "the product was added succusefully\n"
     ]
    }
   ],
   "source": [
    "# adding products\n",
    "inventory_system.add_product(product1)\n",
    "inventory_system.add_product(product2)\n",
    "inventory_system.add_product(product3)\n",
    "inventory_system.add_product(product4)"
   ]
  },
  {
   "cell_type": "code",
   "execution_count": 59,
   "id": "419f973a-bca0-4de9-a485-322cd6739f8c",
   "metadata": {},
   "outputs": [
    {
     "name": "stdout",
     "output_type": "stream",
     "text": [
      "these are the products we have\n",
      "1 PRODUCT | ID: 1, NAME: bread, QUANTITY: 10, PRICE: 50 \n",
      "2 PRODUCT | ID: 2, NAME: redbull, QUANTITY: 30, PRICE: 20 \n",
      "3 PRODUCT | ID: 3, NAME: soap, QUANTITY: 5, PRICE: 5 \n",
      "4 PRODUCT | ID: 4, NAME: laptop, QUANTITY: 100, PRICE: 500 \n"
     ]
    }
   ],
   "source": [
    "# displaying avaialble products\n",
    "inventory_system.available_products()"
   ]
  },
  {
   "cell_type": "code",
   "execution_count": 60,
   "id": "69386495-0455-40e1-92aa-3d12294d64fb",
   "metadata": {},
   "outputs": [
    {
     "name": "stdout",
     "output_type": "stream",
     "text": [
      "soap's quantity was updated succusefully\n"
     ]
    }
   ],
   "source": [
    "# updating quantity\n",
    "inventory_system.update_product(3, 400)"
   ]
  },
  {
   "cell_type": "code",
   "execution_count": 61,
   "id": "67d78853-a015-4a9c-85eb-b3bff30c88c7",
   "metadata": {},
   "outputs": [
    {
     "name": "stdout",
     "output_type": "stream",
     "text": [
      "these are the products we have\n",
      "1 PRODUCT | ID: 1, NAME: bread, QUANTITY: 10, PRICE: 50 \n",
      "2 PRODUCT | ID: 2, NAME: redbull, QUANTITY: 30, PRICE: 20 \n",
      "3 PRODUCT | ID: 3, NAME: soap, QUANTITY: 400, PRICE: 5 \n",
      "4 PRODUCT | ID: 4, NAME: laptop, QUANTITY: 100, PRICE: 500 \n"
     ]
    }
   ],
   "source": [
    "# displaying available products\n",
    "inventory_system.available_products()"
   ]
  },
  {
   "cell_type": "markdown",
   "id": "b9b41c27-ab9f-4011-aab2-3f44cf1c4629",
   "metadata": {},
   "source": [
    "Problem 6: Shape Calculation Create a class representing a shape with attributes like length, width, and height. Implement methods to calculate the area and perimeter of the shape."
   ]
  },
  {
   "cell_type": "code",
   "execution_count": 62,
   "id": "ab800c91-cee3-474f-a043-88e600897ce9",
   "metadata": {},
   "outputs": [],
   "source": [
    "class Shape:\n",
    "    \"\"\"\n",
    "    represents shape\n",
    "    attribute:length,width,height\n",
    "    \"\"\"\n",
    "    def __init__(self,length=0,width=0,height=0):\n",
    "        self.length = length\n",
    "        self.width = width\n",
    "        self.height = height\n",
    "        \n",
    "    def area(self):\n",
    "        pass\n",
    "    def perimeter(self):\n",
    "        pass\n",
    "    \n",
    "class Rectangle(Shape):\n",
    "    \"\"\"\n",
    "    inherits from shape\n",
    "    \"\"\"\n",
    "    def area(self):\n",
    "        \"\"\"\n",
    "        calculate area\n",
    "        \"\"\"\n",
    "        return self.length*self.width\n",
    "    \n",
    "    def perimeter(self):\n",
    "        \"\"\"\n",
    "        calculate perimeter\n",
    "        \"\"\"\n",
    "        return 2*(self.length+self.width)\n",
    "\n",
    "class Square(Shape):\n",
    "    \"\"\"\n",
    "    inherits from shape\n",
    "    \"\"\"\n",
    "    def area(self):\n",
    "        return self.width*self.width\n",
    "    \n",
    "    def perimeter(self):\n",
    "        return 4*(self.width+self.width)\n",
    "    "
   ]
  },
  {
   "cell_type": "code",
   "execution_count": 63,
   "id": "3b0182f8-5d34-4569-be9e-20c5a89ef6ec",
   "metadata": {},
   "outputs": [
    {
     "data": {
      "text/plain": [
       "48"
      ]
     },
     "execution_count": 63,
     "metadata": {},
     "output_type": "execute_result"
    }
   ],
   "source": [
    "rectangle = Rectangle(12,4,8)\n",
    "square = Square(4,4)\n",
    "square.perimeter()\n",
    "rectangle.area()\n"
   ]
  },
  {
   "cell_type": "code",
   "execution_count": 64,
   "id": "ffdfd968-fafd-48c9-8b31-51d692e133c6",
   "metadata": {},
   "outputs": [
    {
     "data": {
      "text/plain": [
       "32"
      ]
     },
     "execution_count": 64,
     "metadata": {},
     "output_type": "execute_result"
    }
   ],
   "source": [
    "square.perimeter()"
   ]
  },
  {
   "cell_type": "markdown",
   "id": "2bc5d130-f02c-4744-8e13-8708c5c86899",
   "metadata": {},
   "source": [
    "Problem 7: Student Management Create a class representing a student with attributes like student ID, name, and grades. Implement methods to calculate the average grade and display student details."
   ]
  },
  {
   "cell_type": "code",
   "execution_count": 10,
   "id": "63a24add-4cb2-4348-9496-53ffd77612d5",
   "metadata": {},
   "outputs": [],
   "source": [
    "class Student:\n",
    "    \"\"\"\n",
    "    repesents a student\n",
    "    attributes: student_id,name,english,maths,history\n",
    "    \"\"\"\n",
    "    def __init__(self, student_id,name,english,maths,history):\n",
    "        self.student_id = student_id\n",
    "        self.name = name\n",
    "        self.english = english\n",
    "        self.maths = maths\n",
    "        self.history = history\n",
    "        self.avg_grade = 0\n",
    "        \n",
    "    def __str__(self):\n",
    "        return f'student_id:{self.student_id}, name:{self.name}, english:{self.english} , maths:{self.maths}, history{self.history} , average_grade:{self.avg_grade}'\n",
    "        \n",
    "class StudentManagement:\n",
    "    \"\"\"\n",
    "    represents student management\n",
    "    functions:average_grade,student_details\n",
    "    \"\"\"\n",
    "    def average_grade(self,student):\n",
    "        avg = int((student.english+student.maths+student.history)/3)\n",
    "        student.avg_grade = avg\n",
    "        print(f'{student.name} has an average grade of {avg}')\n",
    "        \n",
    "    def student_details(self,student):\n",
    "        return str(student)\n",
    "        "
   ]
  },
  {
   "cell_type": "code",
   "execution_count": 11,
   "id": "401fce97-0270-4373-a1ff-f3979ad8dbd7",
   "metadata": {},
   "outputs": [
    {
     "name": "stdout",
     "output_type": "stream",
     "text": [
      "trevor has an average grade of 75\n"
     ]
    }
   ],
   "source": [
    "trevor = Student(1,'trevor',78,88,60)\n",
    "manage = StudentManagement()\n",
    "manage.average_grade(trevor)"
   ]
  },
  {
   "cell_type": "code",
   "execution_count": 12,
   "id": "4613f90f-563b-40c3-9513-43f568c3918d",
   "metadata": {},
   "outputs": [
    {
     "data": {
      "text/plain": [
       "'student_id:1, name:trevor, english:78 , maths:88, history60 , average_grade:75'"
      ]
     },
     "execution_count": 12,
     "metadata": {},
     "output_type": "execute_result"
    }
   ],
   "source": [
    "manage.student_details(trevor)"
   ]
  },
  {
   "cell_type": "markdown",
   "id": "036462a4-23dd-484d-a2d1-27c0664feea7",
   "metadata": {},
   "source": [
    "Problem 8: Email Management Create a class representing an email with attributes like sender, recipient, and subject. Implement methods to send an email and display email details."
   ]
  },
  {
   "cell_type": "code",
   "execution_count": 14,
   "id": "cb20c5e1-9721-44ed-8189-1e4d955e4b56",
   "metadata": {},
   "outputs": [
    {
     "name": "stdout",
     "output_type": "stream",
     "text": [
      "sender--trevor\n",
      "recipient--victor\n",
      "body--are you going to class today?\n"
     ]
    }
   ],
   "source": [
    "class Email:\n",
    "    \"\"\"\n",
    "    represents an Email system\n",
    "    attributes:sender,recipient,subject\n",
    "    functions:send_email,display_email_details\n",
    "    \"\"\"\n",
    "    def __init__(self,sender,recipient,subject):\n",
    "        self.sender = sender\n",
    "        self.recipient = recipient\n",
    "        self.subject = subject\n",
    "        \n",
    "    def send_email(self):\n",
    "        print(f'{self.sender}, your message has been sent to {self.recipient} succesfully')\n",
    "        \n",
    "    def display_email_details(self):\n",
    "        print(f'sender--{self.sender}\\nrecipient--{self.recipient}\\nbody--{self.subject}')\n",
    "\n",
    "\n",
    "        \n",
    "        \n",
    "email1 = Email('trevor','victor','are you going to class today?')\n",
    "\n",
    "email1.display_email_details()\n",
    "        "
   ]
  },
  {
   "cell_type": "code",
   "execution_count": 15,
   "id": "ed62a3b1-ac05-4864-8bbd-314be890a438",
   "metadata": {},
   "outputs": [
    {
     "name": "stdout",
     "output_type": "stream",
     "text": [
      "trevor, your message has been sent to victor succesfully\n"
     ]
    }
   ],
   "source": [
    "email1.send_email()"
   ]
  },
  {
   "cell_type": "markdown",
   "id": "a60b2d4b-c04f-4a88-bd81-1adeb01613d9",
   "metadata": {},
   "source": [
    "Problem 9: Social Media Profile Create a class representing a social media profile with attributes like username and posts. Implement methods to add posts, display posts, and search for posts by keyword.\n"
   ]
  },
  {
   "cell_type": "code",
   "execution_count": 26,
   "id": "9301320f-638f-4af9-9d10-a72c46b1c7bd",
   "metadata": {},
   "outputs": [
    {
     "name": "stdout",
     "output_type": "stream",
     "text": [
      "post is suucessful\n",
      "post is suucessful\n",
      "post is suucessful\n",
      "post is suucessful\n"
     ]
    }
   ],
   "source": [
    "class SocialProfile:\n",
    "    \"\"\"\n",
    "    represents a socialmediaprofile\n",
    "    attributes:username,posts\n",
    "    functions:add_post,display_posts,search_posts\n",
    "    \"\"\"\n",
    "    def __init__(self,username):\n",
    "        self.username = username\n",
    "        self.posts = []\n",
    "        \n",
    "    def add_post(self,post):\n",
    "        self.posts.append(post)\n",
    "        print('post is suucessful')\n",
    "    \n",
    "    \n",
    "    def display_posts(self):\n",
    "        for item in self.posts:\n",
    "            print(item)\n",
    "            \n",
    "    def search_post(self,keyword):\n",
    "        found_posts = []\n",
    "        for item in self.posts:\n",
    "            if keyword.lower() in item.lower():\n",
    "                found_posts.append(item)\n",
    "                print(found_posts)\n",
    "            \n",
    "trevor = SocialProfile('trevor')\n",
    "trevor.add_post('hey brothers')\n",
    "trevor.add_post('i love cars ')\n",
    "trevor.add_post('cars are fast')\n",
    "trevor.add_post('come here')"
   ]
  },
  {
   "cell_type": "code",
   "execution_count": 27,
   "id": "dfcfe8c9-4d07-433b-a5ce-ee91588ae3e4",
   "metadata": {},
   "outputs": [
    {
     "name": "stdout",
     "output_type": "stream",
     "text": [
      "hey brothers\n",
      "i love cars \n",
      "cars are fast\n",
      "come here\n"
     ]
    }
   ],
   "source": [
    "trevor.display_posts()"
   ]
  },
  {
   "cell_type": "code",
   "execution_count": 29,
   "id": "3c6124c3-c38d-461a-b322-0584cb827740",
   "metadata": {},
   "outputs": [
    {
     "name": "stdout",
     "output_type": "stream",
     "text": [
      "['hey brothers']\n"
     ]
    }
   ],
   "source": [
    "trevor.search_post('bro')"
   ]
  },
  {
   "cell_type": "markdown",
   "id": "5780df8a-d5c6-466e-bef9-56d26ce548e5",
   "metadata": {},
   "source": [
    "Problem 10: ToDo List Create a class representing a ToDo list with attributes like tasks and due dates. Implement methods to add tasks, mark tasks as completed, and display pending tasks."
   ]
  },
  {
   "cell_type": "code",
   "execution_count": 30,
   "id": "f835a614-257a-4361-8dbf-c30a9f5e4483",
   "metadata": {},
   "outputs": [],
   "source": [
    "import datetime\n",
    "class ToDo:\n",
    "    \"\"\"\n",
    "    represents Todo list \n",
    "    function:add_task,mark_tasks,display_tasks\n",
    "    \"\"\"\n",
    "    def __init__(self):\n",
    "        self.todos = {}\n",
    "        \n",
    "    def add_task(self,task_name,date):\n",
    "        self.todos[task_name] = date\n",
    "        print('task added succusefully')\n",
    "        \n",
    "    def mark_tasks(self,task_name):\n",
    "        if self.todos[task_name]:\n",
    "            del self.todos[task_name]\n",
    "            print(task_name,'is marked as completed')\n",
    "        else:\n",
    "            print(task_name,'does not exist')\n",
    "            \n",
    "    def display_tasks(self):\n",
    "        print('task'   ,'end_date')\n",
    "        for key,value in self.todos.items():\n",
    "            print(f\"- {key} (Due Date: {value.strftime('%Y-%m-%d %H:%M')})\")\n",
    "            \n",
    "            \n",
    "    "
   ]
  },
  {
   "cell_type": "code",
   "execution_count": 31,
   "id": "71540e86-16fa-4943-b470-6cf6ffd32ef6",
   "metadata": {},
   "outputs": [
    {
     "name": "stdout",
     "output_type": "stream",
     "text": [
      "task added succusefully\n",
      "task added succusefully\n",
      "task added succusefully\n",
      "task added succusefully\n"
     ]
    }
   ],
   "source": [
    "todo = ToDo()\n",
    "\n",
    "todo.add_task(\"Buy groceries\", datetime.datetime(2023, 10, 11, 8, 0))\n",
    "todo.add_task(\"study\", datetime.datetime(2023, 10, 10, 21, 0))\n",
    "todo.add_task(\"walk\", datetime.datetime(2023, 10, 10, 20, 0))\n",
    "todo.add_task(\"wash car\", datetime.datetime(2023, 10, 10, 14, 0))"
   ]
  },
  {
   "cell_type": "code",
   "execution_count": 32,
   "id": "98a8574b-6002-4e53-bbc7-00e7044b39dc",
   "metadata": {},
   "outputs": [
    {
     "name": "stdout",
     "output_type": "stream",
     "text": [
      "task end_date\n",
      "- Buy groceries (Due Date: 2023-10-11 08:00)\n",
      "- study (Due Date: 2023-10-10 21:00)\n",
      "- walk (Due Date: 2023-10-10 20:00)\n",
      "- wash car (Due Date: 2023-10-10 14:00)\n"
     ]
    }
   ],
   "source": [
    "todo.display_tasks()"
   ]
  },
  {
   "cell_type": "code",
   "execution_count": 32,
   "id": "dae374f2-4ca2-4469-aac1-9cba05f8095d",
   "metadata": {},
   "outputs": [
    {
     "name": "stdout",
     "output_type": "stream",
     "text": [
      "walk is marked as completed\n"
     ]
    }
   ],
   "source": [
    "todo.mark_tasks('walk')"
   ]
  },
  {
   "cell_type": "code",
   "execution_count": 33,
   "id": "a4ec385b-caa8-4021-b993-f36a9012e46a",
   "metadata": {},
   "outputs": [
    {
     "name": "stdout",
     "output_type": "stream",
     "text": [
      "task end_date\n",
      "- Buy groceries (Due Date: 2023-10-11 08:00)\n",
      "- study (Due Date: 2023-10-10 21:00)\n",
      "- wash car (Due Date: 2023-10-10 14:00)\n"
     ]
    }
   ],
   "source": [
    "todo.display_tasks()"
   ]
  },
  {
   "cell_type": "code",
   "execution_count": null,
   "id": "a9c3fd72-0921-4eb9-b201-2b64bef46d4f",
   "metadata": {},
   "outputs": [],
   "source": []
  }
 ],
 "metadata": {
  "kernelspec": {
   "display_name": "Python 3 (ipykernel)",
   "language": "python",
   "name": "python3"
  },
  "language_info": {
   "codemirror_mode": {
    "name": "ipython",
    "version": 3
   },
   "file_extension": ".py",
   "mimetype": "text/x-python",
   "name": "python",
   "nbconvert_exporter": "python",
   "pygments_lexer": "ipython3",
   "version": "3.10.8"
  }
 },
 "nbformat": 4,
 "nbformat_minor": 5
}
