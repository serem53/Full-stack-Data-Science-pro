{
 "cells": [
  {
   "cell_type": "markdown",
   "id": "dd07a244-24ad-47cf-8a03-38c4cabaa9c7",
   "metadata": {},
   "source": [
    "**1.What is a Python library? Why do we use Python libraries?**"
   ]
  },
  {
   "cell_type": "markdown",
   "id": "448b8403-2b3b-46e7-af76-306f1e95a0d1",
   "metadata": {},
   "source": [
    " Python library is a collection of modules, which are essentially Python files with a .py extension, that provide reusable code for various functionalities. These libraries can include functions, classes, and variables that allow you to perform many actions without writing your code.\n",
    " \n",
    "We use Python libraries for several reasons:\n",
    "\n",
    "Efficiency: Libraries often contain optimized code for complex operations, making your programs run more efficiently.\n",
    "Code Reusability: Instead of writing code from scratch, you can use pre-written, tested, and optimized code, saving time and effort.\n",
    "Simplicity: Libraries often have user-friendly interfaces, making complex tasks simpler.\n",
    "Community Support: Popular Python libraries are maintained by a community of developers, ensuring they stay up-to-date and receive bug fixes."
   ]
  },
  {
   "cell_type": "markdown",
   "id": "0f73efc3-d768-4417-b4ea-eb4994059ddc",
   "metadata": {},
   "source": [
    "**2.What is the difference between Numpy array and List?**"
   ]
  },
  {
   "cell_type": "markdown",
   "id": "550f4216-7a82-472a-9264-7fd96c5b1fd8",
   "metadata": {},
   "source": [
    "Memory Usage: Numpy arrays are more memory-efficient than lists. This means that they can store more data than lists for the same amount of memory.\n",
    "\n",
    "Performance: Numpy arrays are faster and more performance-efficient than lists when it comes to mathematical and scientific computations.\n",
    "\n",
    "Functionality: Numpy arrays offer several functions that are optimized for array computations, making them more suitable for mathematical operations. Lists, however, have a variety of built-in methods for different purposes, making them more versatile for general use cases.\n",
    "\n",
    "Homogeneity: Numpy arrays are homogeneous, meaning they can only contain items of the same data type. Lists, on the other hand, are heterogeneous and can contain items of different data types.\n",
    "\n",
    "Size Flexibility: The size of a Numpy array is fixed at the time of creation, whereas a list’s size can be changed (elements can be added or removed)."
   ]
  },
  {
   "cell_type": "markdown",
   "id": "643bd68c-525f-4aaa-a818-607fea8f5c3c",
   "metadata": {},
   "source": [
    "**3.Find the shape, size and dimension of the following array?**\n",
    "\n",
    "[[1, 2, 3, 4]\n",
    "\n",
    "[5, 6, 7, 8],\n",
    "\n",
    "[9, 10, 11, 12]]"
   ]
  },
  {
   "cell_type": "code",
   "execution_count": 2,
   "id": "9e5cffec-6005-46df-86fe-7383eb8cfdd0",
   "metadata": {},
   "outputs": [
    {
     "name": "stdout",
     "output_type": "stream",
     "text": [
      "Shape of the array:  (3, 4)\n",
      "Size of the array:  12\n",
      "Dimension of the array:  2\n"
     ]
    }
   ],
   "source": [
    "import numpy as np\n",
    "# Define the array\n",
    "array = np.array([[1, 2, 3, 4], [5, 6, 7, 8], [9, 10, 11, 12]])\n",
    "# Get the shape of the array\n",
    "shape = array.shape\n",
    "\n",
    "# Get the size of the array\n",
    "size = array.size\n",
    "\n",
    "# Get the dimension of the array\n",
    "dimension = array.ndim\n",
    "\n",
    "print(\"Shape of the array: \", shape)\n",
    "print(\"Size of the array: \", size)\n",
    "print(\"Dimension of the array: \", dimension)"
   ]
  },
  {
   "cell_type": "markdown",
   "id": "a2e11e6b-5a27-42e3-8d79-6e0a71c32a56",
   "metadata": {},
   "source": [
    " **4.Write python code to access the first row of the following array**\n",
    "\n",
    "[[1, 2, 3, 4]\n",
    "\n",
    "[5, 6, 7, 8],\n",
    "\n",
    "[9, 10, 11, 12]]"
   ]
  },
  {
   "cell_type": "code",
   "execution_count": 6,
   "id": "0402bd4a-38fd-4143-924a-84212ee74cae",
   "metadata": {},
   "outputs": [
    {
     "name": "stdout",
     "output_type": "stream",
     "text": [
      "First row of the array:  [1 2 3 4]\n"
     ]
    }
   ],
   "source": [
    "\n",
    "# Define the array\n",
    "array = np.array([[1, 2, 3, 4], [5, 6, 7, 8], [9, 10, 11, 12]])\n",
    "\n",
    "# Access the first row of the array\n",
    "first_row = array[0]\n",
    "\n",
    "print(\"First row of the array: \", first_row)"
   ]
  },
  {
   "cell_type": "markdown",
   "id": "a0fe90af-3c44-4fa6-aef0-328c11bf18eb",
   "metadata": {},
   "source": [
    "**5. How do you access the element at the third row and fourth column from the given numpy array?**\n",
    "\n",
    "[[1, 2, 3, 4]\n",
    "\n",
    "[5, 6, 7, 8],\n",
    "\n",
    "[9, 10, 11, 12]]"
   ]
  },
  {
   "cell_type": "code",
   "execution_count": 12,
   "id": "d9c02513-48bf-4920-a958-621385a6da0c",
   "metadata": {},
   "outputs": [
    {
     "name": "stdout",
     "output_type": "stream",
     "text": [
      "Element at the third row and fourth column:  12\n"
     ]
    }
   ],
   "source": [
    "# Define the array\n",
    "array = np.array([[1, 2, 3, 4], [5, 6, 7, 8], [9, 10, 11, 12]])\n",
    "\n",
    "# Access the element at the third row and fourth column\n",
    "element = array[2,3]\n",
    "\n",
    "print(\"Element at the third row and fourth column: \", element)"
   ]
  },
  {
   "cell_type": "markdown",
   "id": "31899538-0b93-4306-8096-8cd2323d377d",
   "metadata": {},
   "source": [
    "**6.Write code to extract all odd-indexed elements from the given numpy array?**\n",
    "\n",
    "[[1, 2, 3, 4]\n",
    "\n",
    "[5, 6, 7, 8],\n",
    "\n",
    "[9, 10, 11, 12]]"
   ]
  },
  {
   "cell_type": "code",
   "execution_count": 13,
   "id": "d254e815-3ddb-40a7-bb7f-e5f30e8ed20b",
   "metadata": {},
   "outputs": [
    {
     "name": "stdout",
     "output_type": "stream",
     "text": [
      "Odd-indexed elements:  [[ 2  4]\n",
      " [10 12]]\n"
     ]
    }
   ],
   "source": [
    "# Define the array\n",
    "array = np.array([[1, 2, 3, 4], [5, 6, 7, 8], [9, 10, 11, 12]])\n",
    "\n",
    "# Extract all odd-indexed elements\n",
    "odd_indexed_elements = array[::2, 1::2]\n",
    "\n",
    "print(\"Odd-indexed elements: \", odd_indexed_elements)"
   ]
  },
  {
   "cell_type": "markdown",
   "id": "1726b894-773a-40a1-808a-aa0d668194e3",
   "metadata": {},
   "source": [
    "**7.How can you generate a random 3x3 matrix with values between 0 and 1?**"
   ]
  },
  {
   "cell_type": "code",
   "execution_count": 14,
   "id": "fb3a4ea8-7937-4d60-aa4c-c78577fe6b43",
   "metadata": {},
   "outputs": [
    {
     "name": "stdout",
     "output_type": "stream",
     "text": [
      "Random 3x3 matrix:\n",
      " [[0.67413918 0.84208325 0.25684087]\n",
      " [0.88942656 0.12971116 0.2268938 ]\n",
      " [0.53102035 0.39652999 0.44328739]]\n"
     ]
    }
   ],
   "source": [
    "# Generate a random 3x3 matrix with values between 0 and 1\n",
    "matrix = np.random.rand(3, 3)\n",
    "\n",
    "print(\"Random 3x3 matrix:\\n\", matrix)"
   ]
  },
  {
   "cell_type": "markdown",
   "id": "709e74b0-0c3b-4101-89ba-c12afdd7d11e",
   "metadata": {},
   "source": [
    "**8.Describe the difference between np.random.rand and np.random.randn**"
   ]
  },
  {
   "cell_type": "markdown",
   "id": "f5d159f0-b93f-401c-94f7-f529346a8f5c",
   "metadata": {},
   "source": [
    "np.random.rand: This function generates random numbers from a uniform distribution in the range [0, 1). In a uniform distribution, all numbers in the specified range are equally likely to be generated.\n",
    "\n",
    "np.random.randn: This function generates random numbers from a standard normal (Gaussian) distribution with mean 0 and variance 1. In a standard normal distribution, numbers close to the mean (in this case 0) are more likely to be generated."
   ]
  },
  {
   "cell_type": "markdown",
   "id": "30a7c23e-7927-4c2e-a2b5-921e9cdd12e0",
   "metadata": {},
   "source": [
    "**9. Write code to increase the dimension of the following array?**\n",
    "\n",
    "[[1, 2, 3, 4]\n",
    "\n",
    "[5, 6, 7, 8],\n",
    "\n",
    "[9, 10, 11, 12]]"
   ]
  },
  {
   "cell_type": "code",
   "execution_count": 16,
   "id": "350f723d-83e1-4a9e-a8b2-cd22d101e572",
   "metadata": {},
   "outputs": [
    {
     "name": "stdout",
     "output_type": "stream",
     "text": [
      "Array with increased dimension:\n",
      " [[[ 1  2  3  4]\n",
      "  [ 5  6  7  8]\n",
      "  [ 9 10 11 12]]]\n"
     ]
    }
   ],
   "source": [
    "# Define the array\n",
    "array = np.array([[1, 2, 3, 4], [5, 6, 7, 8], [9, 10, 11, 12]])\n",
    "\n",
    "# Increase the dimension of the array\n",
    "array_new_dim = array[np.newaxis, :]\n",
    "\n",
    "print(\"Array with increased dimension:\\n\", array_new_dim)"
   ]
  },
  {
   "cell_type": "code",
   "execution_count": 19,
   "id": "89a50d92-7b00-4e98-8298-8cbca13d3f7e",
   "metadata": {},
   "outputs": [
    {
     "data": {
      "text/plain": [
       "((3, 4), (1, 3, 4))"
      ]
     },
     "execution_count": 19,
     "metadata": {},
     "output_type": "execute_result"
    }
   ],
   "source": [
    "array.shape,array_new_dim.shape"
   ]
  },
  {
   "cell_type": "markdown",
   "id": "8fb91081-cf95-4fc9-9d79-63731083cf46",
   "metadata": {},
   "source": [
    "**10. How to transpose the following array in NumPy?**\n",
    "\n",
    "[[1, 2, 3, 4]\n",
    "\n",
    "[5, 6, 7, 8],\n",
    "\n",
    "[9, 10, 11, 12]]"
   ]
  },
  {
   "cell_type": "code",
   "execution_count": 22,
   "id": "caa64083-dec0-45b8-bcf7-24c03fccfe7e",
   "metadata": {},
   "outputs": [
    {
     "name": "stdout",
     "output_type": "stream",
     "text": [
      "Transposed array:\n",
      " [[ 1  5  9]\n",
      " [ 2  6 10]\n",
      " [ 3  7 11]\n",
      " [ 4  8 12]]\n"
     ]
    }
   ],
   "source": [
    "# Define the array\n",
    "array = np.array([[1, 2, 3, 4], [5, 6, 7, 8], [9, 10, 11, 12]])\n",
    "\n",
    "# Transpose the array rows become column and vice versa\n",
    "transposed_array = array.T\n",
    "\n",
    "print(\"Transposed array:\\n\", transposed_array)"
   ]
  },
  {
   "cell_type": "markdown",
   "id": "ff3a95d1-cb92-4dd9-ab62-6d340edd2c0e",
   "metadata": {},
   "source": [
    "**11.Consider the following matrix:**\n",
    "\n",
    "Matrix A2 [[1, 2, 3, 4] [5, 6, 7, 8],[9, 10, 11, 12]]\n",
    "\n",
    "Matrix B2 [[1, 2, 3, 4] [5, 6, 7, 8],[9, 10, 11, 12]]\n",
    "\n",
    "1.perform the following \n",
    "\n",
    "2.index wise multiplication\n",
    "\n",
    "3.matrix multiplication\n",
    "\n",
    "4.add both the matrics\n",
    "\n",
    "5.subtract matrix B from A\n",
    "\n",
    "6.divide matrix B by A"
   ]
  },
  {
   "cell_type": "code",
   "execution_count": 24,
   "id": "8b49e093-8ee9-4d1f-bde3-7cc7a9290e9b",
   "metadata": {},
   "outputs": [
    {
     "name": "stdout",
     "output_type": "stream",
     "text": [
      "Index-wise multiplication:\n",
      " [[  1   4   9  16]\n",
      " [ 25  36  49  64]\n",
      " [ 81 100 121 144]]\n",
      "\n",
      "Matrix multiplication:\n",
      " [[ 38  44  50]\n",
      " [ 98 116 134]\n",
      " [158 188 218]]\n",
      "\n",
      "Addition:\n",
      " [[ 2  4  6  8]\n",
      " [10 12 14 16]\n",
      " [18 20 22 24]]\n",
      "\n",
      "Subtraction:\n",
      " [[0 0 0 0]\n",
      " [0 0 0 0]\n",
      " [0 0 0 0]]\n",
      "\n",
      "Division:\n",
      " [[0.9999999  0.99999995 0.99999997 0.99999998]\n",
      " [0.99999998 0.99999998 0.99999999 0.99999999]\n",
      " [0.99999999 0.99999999 0.99999999 0.99999999]]\n"
     ]
    }
   ],
   "source": [
    " #Define the matrices\n",
    "A2 = np.array([[1, 2, 3, 4], [5, 6, 7, 8], [9, 10, 11, 12]])\n",
    "B2 = np.array([[1, 2, 3, 4], [5, 6, 7, 8], [9, 10, 11, 12]])\n",
    "\n",
    "# Index-wise (element-wise) multiplication\n",
    "index_wise_multiplication = A2 * B2\n",
    "\n",
    "# Matrix multiplication\n",
    "# For matrix multiplication, we need square matrices. So, let's take the first 3x3 part of A2 and B2.\n",
    "matrix_multiplication = A2[:3, :3] @ B2[:3, :3]\n",
    "\n",
    "# Add both the matrices\n",
    "addition = A2 + B2\n",
    "\n",
    "# Subtract matrix B from A\n",
    "subtraction = A2 - B2\n",
    "\n",
    "# Divide matrix B by A\n",
    "# To avoid division by zero, we'll add a small constant to A2\n",
    "division = B2 / (A2 + 1e-7)\n",
    "\n",
    "print(\"Index-wise multiplication:\\n\", index_wise_multiplication)\n",
    "print(\"\\nMatrix multiplication:\\n\", matrix_multiplication)\n",
    "print(\"\\nAddition:\\n\", addition)\n",
    "print(\"\\nSubtraction:\\n\", subtraction)\n",
    "print(\"\\nDivision:\\n\", division)"
   ]
  },
  {
   "cell_type": "markdown",
   "id": "5679069a-63fa-470a-9feb-70cd606b07e3",
   "metadata": {},
   "source": [
    " **12.Which function in Numpy can be used to swap the byte order of an array?**"
   ]
  },
  {
   "cell_type": "markdown",
   "id": "dc8fe608-2ed9-47fa-886a-ef145353252a",
   "metadata": {},
   "source": [
    "byteswap() method to swap the byte order of an array1. This method toggles between low-endian and big-endian data representation by returning a byteswapped array1. "
   ]
  },
  {
   "cell_type": "code",
   "execution_count": 26,
   "id": "a4e95b93-7953-4f14-a24b-40a45f594eed",
   "metadata": {},
   "outputs": [
    {
     "name": "stdout",
     "output_type": "stream",
     "text": [
      "Swapped array:  [  256     1 13090]\n"
     ]
    }
   ],
   "source": [
    "# Define the array\n",
    "array = np.array([1, 256, 8755], dtype=np.int16)\n",
    "\n",
    "# Swap the bytes of the array elements\n",
    "swapped_array = array.byteswap()\n",
    "\n",
    "print(\"Swapped array: \", swapped_array)"
   ]
  },
  {
   "cell_type": "markdown",
   "id": "b49d310b-eeed-4ae6-b993-4972cbd94b72",
   "metadata": {},
   "source": [
    "**13.What is the significance of the np.linalg.inv function?**\n",
    "\n"
   ]
  },
  {
   "cell_type": "markdown",
   "id": "f7885932-ac2d-44fb-9445-c3dd95c3a5a1",
   "metadata": {},
   "source": [
    "The np.linalg.inv function in NumPy is used to compute the (multiplicative) inverse of a square matrix. The multiplicative inverse of a matrix is a crucial concept in linear algebra and has many applications in fields like machine learning, physics, and engineering.\n",
    "\n",
    "Given a square matrix A, the function np.linalg.inv(A) returns a matrix B such that the dot product of A and B (and B and A) equals the identity matrix. In mathematical terms, if A is the original matrix and B is the inverse, then A @ B = B @ A = I, where I is the identity matrix, and @ represents matrix multiplication.\n",
    "\n",
    "However, not all matrices have an inverse. A matrix has an inverse only if it is square (i.e., has the same number of rows and columns) and its determinant is not zero. If these conditions are not met, np.linalg.inv will raise a LinAlgError."
   ]
  },
  {
   "cell_type": "code",
   "execution_count": 28,
   "id": "2f6a9c44-c05b-4f15-9dc5-51401bb15674",
   "metadata": {},
   "outputs": [
    {
     "name": "stdout",
     "output_type": "stream",
     "text": [
      "Matrix A:\n",
      " [[4 7]\n",
      " [2 6]]\n",
      "\n",
      "Inverse of A:\n",
      " [[ 0.6 -0.7]\n",
      " [-0.2  0.4]]\n"
     ]
    }
   ],
   "source": [
    "# Define a 2x2 matrix\n",
    "A = np.array([[4, 7], [2, 6]])\n",
    "\n",
    "# Compute the inverse of the matrix\n",
    "B = np.linalg.inv(A)\n",
    "\n",
    "print(\"Matrix A:\\n\", A)\n",
    "print(\"\\nInverse of A:\\n\", B)"
   ]
  },
  {
   "cell_type": "markdown",
   "id": "bb013b0e-63f8-41bb-83c6-38b13e0df54e",
   "metadata": {},
   "source": [
    "**14.What does the np.reshape function do, and how is it used**"
   ]
  },
  {
   "cell_type": "markdown",
   "id": "fd607716-9398-4eca-a3a1-0f9517530719",
   "metadata": {},
   "source": [
    "The np.reshape function in NumPy is used to change the shape of an array without altering its data. The new shape should be compatible with the original shape."
   ]
  },
  {
   "cell_type": "code",
   "execution_count": 29,
   "id": "c2705961-a0a4-468f-bd12-c1456f4c97a7",
   "metadata": {},
   "outputs": [
    {
     "name": "stdout",
     "output_type": "stream",
     "text": [
      "Original array:\n",
      " [[1 2 3 4]\n",
      " [5 6 7 8]]\n",
      "\n",
      "Reshaped array:\n",
      " [1 2 3 4 5 6 7 8]\n"
     ]
    }
   ],
   "source": [
    "# Define a 2x2 matrix\n",
    "A = np.array([[1, 2, 3, 4], [5, 6, 7, 8]])\n",
    "\n",
    "# Reshape the array to a 1-D array of length 8\n",
    "B = np.reshape(A, 8)\n",
    "\n",
    "print(\"Original array:\\n\", A)\n",
    "print(\"\\nReshaped array:\\n\", B)"
   ]
  },
  {
   "cell_type": "markdown",
   "id": "ef823ba4-09ec-43e1-a728-49f82df3dfa1",
   "metadata": {},
   "source": [
    "**15. What is broadcasting in Numpy?**"
   ]
  },
  {
   "cell_type": "markdown",
   "id": "ccfaf4e9-13d3-43c7-84f3-5246a8e90cb7",
   "metadata": {},
   "source": [
    "Broadcasting in NumPy is a powerful mechanism that allows NumPy to perform operations on arrays of different shapes. It eliminates the need to create explicit copies of arrays to match their shapes, making code more efficient and easier to write.\n",
    "\n",
    "\n",
    "Basic Concept\n",
    "Broadcasting works by virtually replicating the smaller array along the larger array so that they have compatible shapes for element-wise operations. This is done without actually making multiple copies of the data, which saves memory and improves performance.\n",
    "\n",
    "Rules for Broadcasting\n",
    "Trailing dimensions of size 1: If two arrays have different shapes, NumPy compares their shapes element-wise starting from the trailing dimensions. If the shapes are not equal, NumPy tries to stretch the dimensions with size 1 to match the other array.\n",
    "\n",
    "One of the dimensions is 1: If one of the dimensions of an array is 1, it can be stretched to match the corresponding dimension of the other array.\n",
    "\n",
    "Compatible shapes: Two shapes are compatible for broadcasting if for each dimension pair, they are either equal, or one of them is 1."
   ]
  },
  {
   "cell_type": "code",
   "execution_count": null,
   "id": "f953ec8b-9a42-421e-b19d-ae52bc1a44b6",
   "metadata": {},
   "outputs": [],
   "source": []
  }
 ],
 "metadata": {
  "kernelspec": {
   "display_name": "Python 3 (ipykernel)",
   "language": "python",
   "name": "python3"
  },
  "language_info": {
   "codemirror_mode": {
    "name": "ipython",
    "version": 3
   },
   "file_extension": ".py",
   "mimetype": "text/x-python",
   "name": "python",
   "nbconvert_exporter": "python",
   "pygments_lexer": "ipython3",
   "version": "3.10.8"
  }
 },
 "nbformat": 4,
 "nbformat_minor": 5
}
