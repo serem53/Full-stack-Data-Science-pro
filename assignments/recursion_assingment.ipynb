{
 "cells": [
  {
   "cell_type": "markdown",
   "id": "1b2b9dac-f8b7-43e7-89e7-3c848a08e512",
   "metadata": {},
   "source": [
    "Q.1 Can you explain the logic and working of the Tower of Hanoi algorithm by writing a Java program?\n",
    "How does the recursion work, and how are the movements of disks between rods accomplished?\n",
    " "
   ]
  },
  {
   "cell_type": "markdown",
   "id": "d3417f1a-700c-4702-91c3-90e4cdb9ccc1",
   "metadata": {},
   "source": [
    "The Tower of Hanoi is a classic problem that can be solved using a recursive algorithm. The problem consists of three rods and a number of disks of different sizes. The goal is to move all the disks from the source rod to the destination rod, adhering to the following rules:"
   ]
  },
  {
   "cell_type": "markdown",
   "id": "cd87981a-6d12-478e-a0ef-554e05948c3f",
   "metadata": {},
   "source": [
    "1.Only one disk can be moved at a time.\n",
    "\n",
    "2.A disk can only be placed on top of a larger disk or an empty rod.\n",
    "\n",
    "3.No disk can be placed on top of a smaller disk."
   ]
  },
  {
   "cell_type": "code",
   "execution_count": 1,
   "id": "46a18dfe-eb4d-461a-b88c-94daee52022b",
   "metadata": {},
   "outputs": [],
   "source": [
    "##java program\n",
    "import java.util.Scanner;\n",
    "\n",
    "public class TowerOfHanoi {\n",
    "\n",
    "    public static void towerOfHanoi(int n, char source, char destination, char auxiliary) {\n",
    "        // Base case: If there's only one disk, move it from the source rod to the destination rod\n",
    "        if (n == 1) {\n",
    "            System.out.println(\"Move disk 1 from rod \" + source + \" to rod \" + destination);\n",
    "            return;\n",
    "        }\n",
    "\n",
    "        // Move (n-1) disks from the source rod to the auxiliary rod using the destination rod as an auxiliary\n",
    "        towerOfHanoi(n - 1, source, auxiliary, destination);\n",
    "\n",
    "        // Move the nth disk from the source rod to the destination rod\n",
    "        System.out.println(\"Move disk \" + n + \" from rod \" + source + \" to rod \" + destination);\n",
    "\n",
    "        // Move (n-1) disks from the auxiliary rod to the destination rod using the source rod as an auxiliary\n",
    "        towerOfHanoi(n - 1, auxiliary, destination, source);\n",
    "    }\n",
    "\n",
    "    public static void main(String[] args) {\n",
    "        Scanner scanner = new Scanner(System.in);\n",
    "        System.out.print(\"Enter the number of disks: \");\n",
    "        int numberOfDisks = scanner.nextInt();\n",
    "\n",
    "        towerOfHanoi(numberOfDisks, 'A', 'C', 'B');\n",
    "    }\n",
    "}\n"
   ]
  },
  {
   "cell_type": "markdown",
   "id": "cf312b7f-9174-491d-84ab-8fbc737b8ad1",
   "metadata": {},
   "source": [
    "The towerOfHanoi function is a recursive function that solves the Tower of Hanoi problem. It takes four parameters: the number of disks (n), the source rod (source), the destination rod (destination), and the auxiliary rod (auxiliary).\n",
    "\n",
    "The base case checks if there is only one disk. If so, it prints the move to transfer that disk from the source rod to the destination rod.\n",
    "\n",
    "If there is more than one disk, the function follows these steps:\n",
    "\n",
    "Move (n-1) disks from the source rod to the auxiliary rod using the destination rod as an auxiliary (recursive call).\n",
    "Move the nth disk from the source rod to the destination rod.\n",
    "Move (n-1) disks from the auxiliary rod to the destination rod using the source rod as an auxiliary (recursive call)."
   ]
  },
  {
   "cell_type": "markdown",
   "id": "473ace56-0a0a-47c7-80c5-d17ab492b8ca",
   "metadata": {},
   "source": [
    "Q.2 Given two strings word1 and word2, return the minimum number of operations required to convert word1\n",
    "to word2.\n",
    "\n",
    "Example 1:\n",
    "\n",
    "Input: word1 = \"horse\", word2 = \"ros\"\n",
    "\n",
    "Output: 3\n",
    "\n",
    "Explanation:\n",
    "horse -> rorse (replace 'h' with 'r')\n",
    "\n",
    "rorse -> rose (remove 'r')\n",
    "\n",
    "rose -> ros (remove 'e')\n",
    "\n",
    "Example 2:\n",
    "\n",
    "Input: word1 = \"intention\", word2 = \"execution\"\n",
    "\n",
    "Output: 5\n",
    "\n",
    "Explanation:\n",
    "intention -> inention (remove 't')\n",
    "\n",
    "inention -> enention (replace 'i' with 'e')\n",
    "\n",
    "enention -> exention (replace 'n' with 'x')\n",
    "\n",
    "exention -> exection (replace 'n' with 'c')\n",
    "\n",
    "exection -> execution (insert 'u')"
   ]
  },
  {
   "cell_type": "code",
   "execution_count": 1,
   "id": "57d3264a-96fa-45dc-9078-b97f83d9de0a",
   "metadata": {},
   "outputs": [
    {
     "name": "stdout",
     "output_type": "stream",
     "text": [
      "Example 1 Output: 3\n",
      "Example 2 Output: 5\n"
     ]
    }
   ],
   "source": [
    "#levenshtein problem\n",
    "def min_distance(word1, word2):\n",
    "    m, n = len(word1), len(word2)\n",
    "\n",
    "    # Create a 2D array to store the minimum edit distances\n",
    "    dp = [[0] * (n + 1) for _ in range(m + 1)]\n",
    "\n",
    "    # Initialize the base cases\n",
    "    for i in range(m + 1):\n",
    "        for j in range(n + 1):\n",
    "            if i == 0:\n",
    "                dp[i][j] = j\n",
    "            elif j == 0:\n",
    "                dp[i][j] = i\n",
    "            elif word1[i - 1] == word2[j - 1]:\n",
    "                dp[i][j] = dp[i - 1][j - 1]\n",
    "            else:\n",
    "                dp[i][j] = 1 + min(dp[i - 1][j],        # Deletion\n",
    "                                  dp[i][j - 1],        # Insertion\n",
    "                                  dp[i - 1][j - 1])    # Substitution\n",
    "\n",
    "    return dp[m][n]\n",
    "\n",
    "# Example 1\n",
    "word1_1 = \"horse\"\n",
    "word2_1 = \"ros\"\n",
    "output_1 = min_distance(word1_1, word2_1)\n",
    "print(f\"Example 1 Output: {output_1}\")\n",
    "\n",
    "# Example 2\n",
    "word1_2 = \"intention\"\n",
    "word2_2 = \"execution\"\n",
    "output_2 = min_distance(word1_2, word2_2)\n",
    "print(f\"Example 2 Output: {output_2}\")\n"
   ]
  },
  {
   "cell_type": "markdown",
   "id": "e395ddf1-f77d-490b-aac6-e7e7c4a0c445",
   "metadata": {},
   "source": [
    "Q. 3 Print the max value of the array [ 13, 1, -3, 22, 5].\n"
   ]
  },
  {
   "cell_type": "code",
   "execution_count": 7,
   "id": "e84f3015-c163-4455-8b2f-f6f4c86cb2af",
   "metadata": {},
   "outputs": [
    {
     "name": "stdout",
     "output_type": "stream",
     "text": [
      "The maximum value in the array is: 22\n"
     ]
    }
   ],
   "source": [
    "#using recursion\n",
    "def find_max(arr, n):\n",
    "    # Base case: if the array has only one element, return that element\n",
    "    if n == 1:\n",
    "        return arr[0]\n",
    "    \n",
    "    # Recursive case: find the maximum in the rest of the array\n",
    "    max_in_rest = find_max(arr[1:], n - 1)\n",
    "    \n",
    "    # Compare the maximum in the rest with the first element of the array\n",
    "    if arr[0] > max_in_rest:\n",
    "        return arr[0]\n",
    "    else:\n",
    "        return max_in_rest\n",
    "\n",
    "# Example usage\n",
    "arr = [13, 1, -3, 22, 5]\n",
    "max_value = find_max(arr, len(arr))\n",
    "\n",
    "print(f\"The maximum value in the array is: {max_value}\")\n"
   ]
  },
  {
   "cell_type": "markdown",
   "id": "91090673-8879-4f2d-b6a4-48ff814b6c25",
   "metadata": {},
   "source": [
    "Q.4 Find the sum of the values of the array [92, 23, 15, -20, 10].\n",
    "\n"
   ]
  },
  {
   "cell_type": "code",
   "execution_count": 8,
   "id": "08d36340-4579-4ada-bd79-2e9897732529",
   "metadata": {},
   "outputs": [
    {
     "name": "stdout",
     "output_type": "stream",
     "text": [
      "The sum of the values in the array is: 120\n"
     ]
    }
   ],
   "source": [
    "def find_sum(arr, n):\n",
    "    # Base case: if the array has only one element, return that element\n",
    "    if n == 1:\n",
    "        return arr[0]\n",
    "    \n",
    "    # Recursive case: find the sum of the rest of the array\n",
    "    sum_in_rest = find_sum(arr[1:], n - 1)\n",
    "    \n",
    "    # Add the current element to the sum of the rest\n",
    "    return arr[0] + sum_in_rest\n",
    "\n",
    "# Example usage\n",
    "arr = [92, 23, 15, -20, 10]\n",
    "sum_values = find_sum(arr, len(arr))\n",
    "\n",
    "print(f\"The sum of the values in the array is: {sum_values}\")\n"
   ]
  },
  {
   "cell_type": "code",
   "execution_count": null,
   "id": "da368e4c-e302-437c-8ece-a582666023c0",
   "metadata": {},
   "outputs": [],
   "source": []
  }
 ],
 "metadata": {
  "kernelspec": {
   "display_name": "Python 3 (ipykernel)",
   "language": "python",
   "name": "python3"
  },
  "language_info": {
   "codemirror_mode": {
    "name": "ipython",
    "version": 3
   },
   "file_extension": ".py",
   "mimetype": "text/x-python",
   "name": "python",
   "nbconvert_exporter": "python",
   "pygments_lexer": "ipython3",
   "version": "3.10.8"
  }
 },
 "nbformat": 4,
 "nbformat_minor": 5
}
