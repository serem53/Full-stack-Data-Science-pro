{
 "cells": [
  {
   "cell_type": "markdown",
   "id": "34e7d7d3-aae1-426f-8872-c2537db07112",
   "metadata": {
    "jp-MarkdownHeadingCollapsed": true,
    "tags": []
   },
   "source": [
    "## For Loop :-\n"
   ]
  },
  {
   "cell_type": "markdown",
   "id": "c3738235-3b60-4049-b906-36fa4c68a071",
   "metadata": {},
   "source": [
    "1.Write a Python program to print numbers from 1 to 10 using a for loop.\n"
   ]
  },
  {
   "cell_type": "code",
   "execution_count": 1,
   "id": "c51bdc77-5e7d-456e-ba0a-a956843edf8e",
   "metadata": {},
   "outputs": [
    {
     "name": "stdout",
     "output_type": "stream",
     "text": [
      "1\n",
      "2\n",
      "3\n",
      "4\n",
      "5\n",
      "6\n",
      "7\n",
      "8\n",
      "9\n",
      "10\n"
     ]
    }
   ],
   "source": [
    "for i in range(1,11):\n",
    "    print(i)"
   ]
  },
  {
   "cell_type": "markdown",
   "id": "771e1e26-a584-49c8-863d-712ff6641d0f",
   "metadata": {
    "tags": []
   },
   "source": [
    "2.Explain the difference between a for loop and a while loop in Python.\n"
   ]
  },
  {
   "cell_type": "markdown",
   "id": "acc2cc63-02e1-443a-9eea-1d883a07605d",
   "metadata": {},
   "source": [
    "    1.A for loop is used for iterating over a sequence, while a while loop is used for iterating based on a condition.\n",
    "\n",
    "    2.A for loop iterates a fixed number of times (determined by the length of the sequence), while a while loop can \n",
    "    continue indefinitely until a specific condition becomes false.\n",
    "\n",
    "    3.For loops are ideal when you know the number of iterations in advance, whereas while loops are suitable when you\n",
    "    need to repeat an action until a condition is met, and you may not know how many iterations will be needed."
   ]
  },
  {
   "cell_type": "markdown",
   "id": "d2f22779-a0d6-4be7-9fab-533c31d80326",
   "metadata": {},
   "source": [
    "3.Write a Python program to calculate the sum of all numbers from 1 to 100 using a for loop.\n"
   ]
  },
  {
   "cell_type": "code",
   "execution_count": 5,
   "id": "d8c3e479-8e91-4dc9-ad6b-0455bbb8576f",
   "metadata": {},
   "outputs": [
    {
     "name": "stdout",
     "output_type": "stream",
     "text": [
      "the sum of numbers from 1 to 100 is  5050\n"
     ]
    }
   ],
   "source": [
    "sum1 = 0\n",
    "for i in range(1,101):\n",
    "    sum1 = sum1+i\n",
    "\n",
    "print('the sum of numbers from 1 to 100 is ',sum1)"
   ]
  },
  {
   "cell_type": "markdown",
   "id": "e7d236ee-6f99-4132-ad00-ee5a883f2c32",
   "metadata": {},
   "source": [
    "4.How do you iterate through a list using a for loop in Python?\n"
   ]
  },
  {
   "cell_type": "markdown",
   "id": "105d426f-109d-42ca-9011-e486f390cc4c",
   "metadata": {},
   "source": [
    "    1.define a list with items you want to iterate over\n",
    "    2.use a for loop with the syntax 'for item in my_list' to iterate over the items\n",
    "    3.inide the loop you can access each itme with the variable item,you can choose any variable name"
   ]
  },
  {
   "cell_type": "code",
   "execution_count": 7,
   "id": "61cf0176-aa97-43ce-8294-0883cc75c1a9",
   "metadata": {},
   "outputs": [
    {
     "name": "stdout",
     "output_type": "stream",
     "text": [
      "10\n",
      "20\n",
      "30\n",
      "40\n",
      "50\n"
     ]
    }
   ],
   "source": [
    "# for eaxmple\n",
    "my_list = [10, 20, 30, 40, 50]\n",
    "\n",
    "for item in my_list:\n",
    "    print(item)\n"
   ]
  },
  {
   "cell_type": "markdown",
   "id": "0e912ba7-bc69-4575-8b73-de52a8565dbc",
   "metadata": {},
   "source": [
    "5.Write a Python program to find the product of all elements in a list using a for loop"
   ]
  },
  {
   "cell_type": "code",
   "execution_count": 9,
   "id": "79d6c776-b335-4fd4-be4e-0f19ecd3b2bc",
   "metadata": {},
   "outputs": [
    {
     "name": "stdout",
     "output_type": "stream",
     "text": [
      "the product of all the elements is  12000000\n"
     ]
    }
   ],
   "source": [
    "my_list = [10, 20, 30, 40, 50]\n",
    "product = 1\n",
    "for i in my_list:\n",
    "    product = product*i\n",
    "    \n",
    "print('the product of all the elements is ',product)"
   ]
  },
  {
   "cell_type": "markdown",
   "id": "df8131c8-1a51-40a7-90d3-f99a84b1d0a8",
   "metadata": {},
   "source": [
    "6.Create a Python program that prints all even numbers from 1 to 20 using a for loop.\n"
   ]
  },
  {
   "cell_type": "code",
   "execution_count": 11,
   "id": "ce5cab98-4424-4dde-8789-1f660ac13bf7",
   "metadata": {},
   "outputs": [
    {
     "name": "stdout",
     "output_type": "stream",
     "text": [
      "2\n",
      "4\n",
      "6\n",
      "8\n",
      "10\n",
      "12\n",
      "14\n",
      "16\n",
      "18\n",
      "20\n"
     ]
    }
   ],
   "source": [
    "for i in range(1,21):\n",
    "    # checking if i is even\n",
    "    if i%2 == 0:\n",
    "        print(i)"
   ]
  },
  {
   "cell_type": "markdown",
   "id": "a51cb2e5-8f71-48ed-9eef-dfb33d0e55b1",
   "metadata": {},
   "source": [
    "7.Write a Python program that calculates the factorial of a number using a for loop.\n"
   ]
  },
  {
   "cell_type": "code",
   "execution_count": 12,
   "id": "a91bfe77-7f06-4716-9c12-0a98e4c54b40",
   "metadata": {},
   "outputs": [
    {
     "name": "stdin",
     "output_type": "stream",
     "text": [
      "Enter a number to find its factorial 5\n"
     ]
    },
    {
     "name": "stdout",
     "output_type": "stream",
     "text": [
      "the factorial of 5 is  120\n"
     ]
    }
   ],
   "source": [
    "num = int(input('Enter a number to find its factorial'))\n",
    "\n",
    "fact = 1\n",
    "for i in range(1,num+1):\n",
    "    fact *= i\n",
    "\n",
    "print(f'the factorial of {num} is ',fact)"
   ]
  },
  {
   "cell_type": "markdown",
   "id": "8f8e26f1-ad24-4ce3-a74b-e62bcb2f765e",
   "metadata": {},
   "source": [
    "8.How can you iterate through the characters of a string using a for loop in Python?\n"
   ]
  },
  {
   "cell_type": "markdown",
   "id": "61124832-e82b-4634-af17-5cff64eb0695",
   "metadata": {},
   "source": [
    "    1.Define a string (in this case, my_string) that you want to iterate through.\n",
    "    2.Use a for loop with the syntax for char in my_string: to iterate over each character in the string.\n",
    "    3.Inside the loop, you can access each character using the variable char (you can choose any variable name)."
   ]
  },
  {
   "cell_type": "code",
   "execution_count": 13,
   "id": "a678bd55-5c13-43f5-80e3-d15a73b347d9",
   "metadata": {},
   "outputs": [
    {
     "name": "stdout",
     "output_type": "stream",
     "text": [
      "p\n",
      "r\n",
      "o\n",
      "g\n",
      "r\n",
      "a\n",
      "m\n",
      "m\n",
      "i\n",
      "n\n",
      "g\n"
     ]
    }
   ],
   "source": [
    "my_string = 'programming'\n",
    "for char in my_string:\n",
    "    print(char)"
   ]
  },
  {
   "cell_type": "markdown",
   "id": "26f1c107-19c1-4a97-b092-23716e219a7a",
   "metadata": {},
   "source": [
    "9.Write a Python program to find the largest number in a list using a for loop.\n"
   ]
  },
  {
   "cell_type": "code",
   "execution_count": 15,
   "id": "9a750481-036d-4218-a1c8-67fff54e5bc0",
   "metadata": {},
   "outputs": [
    {
     "name": "stdout",
     "output_type": "stream",
     "text": [
      "the largest number is  60\n"
     ]
    }
   ],
   "source": [
    "my_list = [60,20,10,5,30]\n",
    "largest = 0\n",
    "for i in my_list:\n",
    "    if i > largest:\n",
    "        largest = i\n",
    "\n",
    "print('the largest number is ',largest)"
   ]
  },
  {
   "cell_type": "markdown",
   "id": "91e2a3e7-00fb-4b7d-94d8-fa9e6527b389",
   "metadata": {},
   "source": [
    "10.Create a Python program that prints the Fibonacci sequence up to a specified limit using a for loop.\n"
   ]
  },
  {
   "cell_type": "code",
   "execution_count": 17,
   "id": "dd6c4e21-8e76-45da-adbb-31819e75f86f",
   "metadata": {},
   "outputs": [
    {
     "name": "stdin",
     "output_type": "stream",
     "text": [
      "enter the fibonacci limit 5\n"
     ]
    },
    {
     "name": "stdout",
     "output_type": "stream",
     "text": [
      "0 1 1 2 3 "
     ]
    }
   ],
   "source": [
    "limit = int(input('enter the fibonacci limit'))\n",
    "# intialize  0 and 1\n",
    "num1,num2 = 0,1\n",
    "# Print the first two numbers (0 and 1)\n",
    "print(num1, num2, end=\" \")\n",
    "\n",
    "for i in range(2,limit):\n",
    "    next_num = num1 + num2\n",
    "    print(next_num, end=\" \")\n",
    "    # Update num1 and num2 for the next iteration\n",
    "    num1,num2 = num2,next_num \n",
    "    \n",
    "    "
   ]
  },
  {
   "cell_type": "markdown",
   "id": "c8750bec-66e5-4d69-ad3a-8170e823d310",
   "metadata": {},
   "source": [
    "11.Write a Python program to count the number of vowels in a given string using a for loop.\n"
   ]
  },
  {
   "cell_type": "code",
   "execution_count": 18,
   "id": "426f208d-daf8-4dea-9ed2-61ebdabf5d08",
   "metadata": {},
   "outputs": [
    {
     "name": "stdout",
     "output_type": "stream",
     "text": [
      "the number of vowels is:  3\n"
     ]
    }
   ],
   "source": [
    "my_string = 'hello world'\n",
    "vowels = 'AEIOUaeiou'\n",
    "count = 0\n",
    "for i in my_string:\n",
    "    if i in vowels:\n",
    "        count += 1\n",
    "\n",
    "        \n",
    "print('the number of vowels is: ',count)"
   ]
  },
  {
   "cell_type": "markdown",
   "id": "b7bb6205-2d93-44a6-a2eb-03e193ddfddf",
   "metadata": {},
   "source": [
    "12.Create a Python program that generates a multiplication table for a given number using a for loop.\n"
   ]
  },
  {
   "cell_type": "code",
   "execution_count": 25,
   "id": "78860560-01c7-4c39-a849-51ffb6530458",
   "metadata": {},
   "outputs": [
    {
     "name": "stdin",
     "output_type": "stream",
     "text": [
      "enter a number 9\n"
     ]
    },
    {
     "name": "stdout",
     "output_type": "stream",
     "text": [
      "the multiplication table for 9\n",
      "9 X 1 = 9\n",
      "9 X 2 = 18\n",
      "9 X 3 = 27\n",
      "9 X 4 = 36\n",
      "9 X 5 = 45\n",
      "9 X 6 = 54\n",
      "9 X 7 = 63\n",
      "9 X 8 = 72\n",
      "9 X 9 = 81\n"
     ]
    }
   ],
   "source": [
    "num = int(input('enter a number'))\n",
    "print(f'the multiplication table for {num}')\n",
    "for i in range(1,10):\n",
    "    result = num*i\n",
    "    print(f'{num} X {i} = {result}')"
   ]
  },
  {
   "cell_type": "markdown",
   "id": "3ad2c165-a9c2-46f8-8982-6a165ea27384",
   "metadata": {},
   "source": [
    "13.Write a Python program to reverse a list using a for loop."
   ]
  },
  {
   "cell_type": "code",
   "execution_count": 26,
   "id": "5a6da6f5-5c09-4e84-8b72-8d1f82d37764",
   "metadata": {},
   "outputs": [
    {
     "name": "stdout",
     "output_type": "stream",
     "text": [
      "[5, 4, 3, 2, 1]\n"
     ]
    }
   ],
   "source": [
    "my_list = [1,2,3,4,5]\n",
    "reverse_list = []\n",
    "for i in range(len(my_list)-1,-1,-1):\n",
    "    reverse_list.append(my_list[i])\n",
    "    \n",
    "print(reverse_list)"
   ]
  },
  {
   "cell_type": "markdown",
   "id": "0c8c6b13-fe34-4809-99a1-f5a9e766db78",
   "metadata": {},
   "source": [
    "14.Write a Python program to find the common elements between two lists using a for loop.\n"
   ]
  },
  {
   "cell_type": "code",
   "execution_count": 10,
   "id": "6c2b126c-815e-4e3b-abd4-ff348136f7ee",
   "metadata": {},
   "outputs": [
    {
     "name": "stdout",
     "output_type": "stream",
     "text": [
      "this are the common elements between list1 and list2: \n",
      "4 5 "
     ]
    }
   ],
   "source": [
    "list1 = [1,2,3,4,5]\n",
    "list2 = [6,4,5,7,8]\n",
    "print('this are the common elements between list1 and list2: ')\n",
    "for i in list1:\n",
    "    if i in list2:\n",
    "        print(i,end=\" \")"
   ]
  },
  {
   "cell_type": "markdown",
   "id": "684e7a03-4f95-43ef-8dff-53fc64a9ce21",
   "metadata": {},
   "source": [
    "15. Explain how to use a for loop to iterate through the keys and values of a dictionary in Python."
   ]
  },
  {
   "cell_type": "markdown",
   "id": "940cd111-ce13-47f5-9170-1f627961a8f5",
   "metadata": {},
   "source": [
    "    Create a Dictionary:\n",
    "    First, create a dictionary with some key-value pairs that you want to iterate over.\n",
    "\n",
    "    Use a For Loop:\n",
    "    Use a for loop to iterate over the key-value pairs using the items() method.\n",
    "    In this loop:\n",
    "    key will iterate over the keys of the dictionary.\n",
    "    value will iterate over the corresponding values for each key.\n",
    "\n",
    "    Print or Use the Key-Value Pairs:\n",
    "    Within the loop, you can perform any desired actions using the key and value variables. In the example above, we're simply printing         them."
   ]
  },
  {
   "cell_type": "code",
   "execution_count": 13,
   "id": "9d73d202-7ca0-447e-b110-cbe7b61b91bd",
   "metadata": {},
   "outputs": [
    {
     "name": "stdout",
     "output_type": "stream",
     "text": [
      "key: a , value: 1\n",
      "key: b , value: 2\n",
      "key: c , value: 3\n"
     ]
    }
   ],
   "source": [
    "my_dict = {'a': 1, 'b': 2, 'c': 3}\n",
    "\n",
    "for key,value in my_dict.items():\n",
    "    print(f'key: {key} , value: {value}')"
   ]
  },
  {
   "cell_type": "markdown",
   "id": "e1484fef-7fd8-4a79-b64a-1c3076fb6574",
   "metadata": {},
   "source": [
    "16. Write a Python program to find the GCD (Greatest Common Divisor) of two numbers using a for\n",
    "loop"
   ]
  },
  {
   "cell_type": "code",
   "execution_count": 15,
   "id": "49cc24a7-d75f-4f46-8d29-d8ad0448df98",
   "metadata": {},
   "outputs": [
    {
     "name": "stdin",
     "output_type": "stream",
     "text": [
      "enter first number;  24\n",
      "enter second number;  15\n"
     ]
    },
    {
     "name": "stdout",
     "output_type": "stream",
     "text": [
      "the gcd of 24 and 15 is: 3\n"
     ]
    }
   ],
   "source": [
    "def gcd(num1,num2):\n",
    "    # ensure num1 > num2\n",
    "    if num2 > num1:\n",
    "        num2,num1 = num1,num2\n",
    "    \n",
    "     # Iterate from 1 to the smaller of the two numbers\n",
    "    for i in range(1,num2+1):\n",
    "        if num1%i == 0 and num2%i == 0:\n",
    "            gcd_value = i\n",
    "    return gcd_value\n",
    "\n",
    "num1 = int(input('enter first number; '))\n",
    "num2 = int(input('enter second number; '))\n",
    "\n",
    "print(f'the gcd of {num1} and {num2} is: {gcd(num1,num2)}')"
   ]
  },
  {
   "cell_type": "markdown",
   "id": "96b728ff-f571-4087-8ce7-3053c9f889c0",
   "metadata": {},
   "source": [
    "17. Create a Python program that checks if a string is a palindrome using a for loop"
   ]
  },
  {
   "cell_type": "code",
   "execution_count": 27,
   "id": "f63dd11e-34a2-4247-b9f5-9c46fad62064",
   "metadata": {},
   "outputs": [
    {
     "name": "stdout",
     "output_type": "stream",
     "text": [
      "racecar is palindrome\n"
     ]
    }
   ],
   "source": [
    "def is_palindrome(s):\n",
    "    length = len(s)\n",
    "    # for optimization we use length // 2\n",
    "    for i in range(length):\n",
    "        if s[i] != s[length-1-i]:\n",
    "            return False\n",
    "    return True\n",
    "\n",
    "my_string = 'racecar'\n",
    "\n",
    "if is_palindrome(my_string):\n",
    "    print(f'{my_string} is palindrome')\n",
    "else:\n",
    "    print(f'{my_string} is not a palindrome')\n"
   ]
  },
  {
   "cell_type": "markdown",
   "id": "7d9b86be-b975-4b4c-9a3f-72c84e69618c",
   "metadata": {},
   "source": [
    "18. Write a Python program to remove duplicates from a list using a for loop."
   ]
  },
  {
   "cell_type": "code",
   "execution_count": 30,
   "id": "65974ce4-2c20-4353-9d12-ccb4e540daa9",
   "metadata": {},
   "outputs": [
    {
     "name": "stdout",
     "output_type": "stream",
     "text": [
      "[1, 2, 3, 4, 5, 6]\n"
     ]
    }
   ],
   "source": [
    "my_list = [1,2,2,3,4,5,5,6]\n",
    "unique = []\n",
    "for i in my_list:\n",
    "    if i in unique:\n",
    "        my_list.remove(i)\n",
    "    else:\n",
    "        unique.append(i)\n",
    "print(my_list)"
   ]
  },
  {
   "cell_type": "markdown",
   "id": "b2b727c3-2605-466b-9431-339f0b928270",
   "metadata": {},
   "source": [
    "19. Create a Python program that counts the number of words in a sentence using a for loop.\n"
   ]
  },
  {
   "cell_type": "code",
   "execution_count": 33,
   "id": "5aa62aa4-1195-4ce9-aae5-385cca42ba19",
   "metadata": {},
   "outputs": [
    {
     "name": "stdout",
     "output_type": "stream",
     "text": [
      "the number of words in the sentence is 5\n"
     ]
    }
   ],
   "source": [
    "sentence = 'my name is trevor serem'\n",
    "sentence = sentence.split(' ')\n",
    "\n",
    "count = 0\n",
    "for i in sentence:\n",
    "    count+=1\n",
    "print(f'the number of words in the sentence is {count}')"
   ]
  },
  {
   "cell_type": "markdown",
   "id": "f9f0faa0-8b6c-4673-acea-6c90345fa9b2",
   "metadata": {},
   "source": [
    "20. Write a Python program to find the sum of all odd numbers from 1 to 50 using a for loop."
   ]
  },
  {
   "cell_type": "code",
   "execution_count": 34,
   "id": "4bd3199a-240d-4f28-aee9-4872fe028e8b",
   "metadata": {},
   "outputs": [
    {
     "name": "stdout",
     "output_type": "stream",
     "text": [
      "the sum of odd numbers from 1 to 50 is  625\n"
     ]
    }
   ],
   "source": [
    "odd_sum = 0\n",
    "for i in range(1,51):\n",
    "    if i%2 != 0:\n",
    "        odd_sum+=i\n",
    "        \n",
    "print('the sum of odd numbers from 1 to 50 is ',odd_sum)"
   ]
  },
  {
   "cell_type": "markdown",
   "id": "79990d6c-b066-446f-8c79-9580b6c50677",
   "metadata": {},
   "source": [
    "21. Write a Python program that checks if a given year is a leap year using a for loop."
   ]
  },
  {
   "cell_type": "code",
   "execution_count": 35,
   "id": "558f3608-b259-4c9b-b651-9634f36c6f85",
   "metadata": {},
   "outputs": [
    {
     "name": "stdin",
     "output_type": "stream",
     "text": [
      "Enter a year:  2020\n"
     ]
    },
    {
     "name": "stdout",
     "output_type": "stream",
     "text": [
      "2020 is a leap year.\n"
     ]
    }
   ],
   "source": [
    "def is_leap_year(year):\n",
    "    # Check if the year is divisible by 4\n",
    "    if year % 4 == 0:\n",
    "        # Check if the year is divisible by 100\n",
    "        if year % 100 == 0:\n",
    "            # Check if the year is divisible by 400\n",
    "            if year % 400 == 0:\n",
    "                return True\n",
    "            else:\n",
    "                return False\n",
    "        else:\n",
    "            return True\n",
    "    else:\n",
    "        return False\n",
    "\n",
    "# Input the year to check for a leap year\n",
    "year = int(input(\"Enter a year: \"))\n",
    "\n",
    "# Check if the input year is a leap year\n",
    "if is_leap_year(year):\n",
    "    print(f\"{year} is a leap year.\")\n",
    "else:\n",
    "    print(f\"{year} is not a leap year.\")\n"
   ]
  },
  {
   "cell_type": "markdown",
   "id": "b0675525-a6b0-41ab-b6fb-a2575682bb2d",
   "metadata": {},
   "source": [
    "22. Create a Python program that calculates the square root of a number using a for loop."
   ]
  },
  {
   "cell_type": "code",
   "execution_count": 41,
   "id": "1e9ce833-a56a-4831-b0c0-cb933247d76c",
   "metadata": {},
   "outputs": [
    {
     "name": "stdin",
     "output_type": "stream",
     "text": [
      "Enter a number:  49\n"
     ]
    },
    {
     "name": "stdout",
     "output_type": "stream",
     "text": [
      "The square root of 49.0 is approximately: 7.0\n"
     ]
    }
   ],
   "source": [
    "def calculate_square_root(number):\n",
    "    # Ensure the input number is non-negative\n",
    "    if number < 0:\n",
    "        raise ValueError(\"Cannot calculate square root of a negative number.\")\n",
    "\n",
    "    # Initial guess for the square root\n",
    "    guess = number / 2.0\n",
    "\n",
    "    # Number of iterations for approximation\n",
    "    num_iterations = 10\n",
    "\n",
    "    # Iterate to approximate the square root\n",
    "    for _ in range(num_iterations):\n",
    "        guess = 0.5 * (guess + number / guess)\n",
    "\n",
    "    return guess\n",
    "\n",
    "# Input the number for which you want to calculate the square root\n",
    "number = float(input(\"Enter a number: \"))\n",
    "\n",
    "# Calculate the square root using the calculate_square_root function\n",
    "square_root = calculate_square_root(number)\n",
    "\n",
    "# Display the square root\n",
    "print(f\"The square root of {number} is approximately: {square_root}\")\n"
   ]
  },
  {
   "cell_type": "markdown",
   "id": "a20a1baa-686f-49b3-bab9-3ec3622bd21e",
   "metadata": {},
   "source": [
    "23. Write a Python program to find the LCM (Least Common Multiple) of two numbers using a for\n",
    "loop."
   ]
  },
  {
   "cell_type": "code",
   "execution_count": 40,
   "id": "3acf0f50-3c4a-46d7-93f6-c039e9ac19a6",
   "metadata": {},
   "outputs": [
    {
     "name": "stdin",
     "output_type": "stream",
     "text": [
      "Enter the first number:  8\n",
      "Enter the second number:  4\n"
     ]
    },
    {
     "name": "stdout",
     "output_type": "stream",
     "text": [
      "The LCM of 8 and 4 is: 8\n"
     ]
    }
   ],
   "source": [
    "def gcd(a, b):\n",
    "    # Ensure a is greater than or equal to b\n",
    "    if b > a:\n",
    "        a, b = b, a\n",
    "\n",
    "    # Iterate until b becomes zero\n",
    "    while b:\n",
    "        # Update a to b and update b to the remainder of a divided by b\n",
    "        a, b = b, a % b\n",
    "\n",
    "    return a\n",
    "\n",
    "def lcm(a, b):\n",
    "    # Calculate the LCM using the formula: LCM(a, b) = (a * b) / GCD(a, b)\n",
    "    return (a * b) // gcd(a, b)\n",
    "\n",
    "def calculate_lcm(a, b):\n",
    "    max_num = max(a, b)\n",
    "    for i in range(max_num, a * b + 1, max_num):\n",
    "        if i % a == 0 and i % b == 0:\n",
    "            return i\n",
    "\n",
    "# Input the two numbers for which you want to find the LCM\n",
    "num1 = int(input(\"Enter the first number: \"))\n",
    "num2 = int(input(\"Enter the second number: \"))\n",
    "\n",
    "# Calculate the LCM using the calculate_lcm function\n",
    "result_lcm = calculate_lcm(num1, num2)\n",
    "\n",
    "# Display the LCM\n",
    "print(f\"The LCM of {num1} and {num2} is: {result_lcm}\")\n"
   ]
  },
  {
   "cell_type": "markdown",
   "id": "6236b224-6b62-4fbc-ac1d-e7fdf0630567",
   "metadata": {
    "tags": []
   },
   "source": [
    "## If else :"
   ]
  },
  {
   "cell_type": "markdown",
   "id": "bad80428-c6e5-4017-9280-07c122b0547f",
   "metadata": {},
   "source": [
    "1. Write a Python program to check if a number is positive, negative, or zero using an if-else\n",
    "statement."
   ]
  },
  {
   "cell_type": "code",
   "execution_count": 3,
   "id": "e74b4267-7c7d-45a2-8d54-60081c437e13",
   "metadata": {},
   "outputs": [
    {
     "name": "stdin",
     "output_type": "stream",
     "text": [
      "Enter a number 0\n"
     ]
    },
    {
     "name": "stdout",
     "output_type": "stream",
     "text": [
      "the number is zero\n"
     ]
    }
   ],
   "source": [
    "num = int(input('Enter a number'))\n",
    "if num == 0:\n",
    "    print('the number is zero')\n",
    "elif num > 0:\n",
    "    print('the number is postive')\n",
    "else:\n",
    "    print('the number is negative')"
   ]
  },
  {
   "cell_type": "markdown",
   "id": "291de8cc-6745-4d5f-9b7f-0bdd5c29110d",
   "metadata": {},
   "source": [
    "2. Create a Python program that checks if a given number is even or odd using an if-else statement.\n"
   ]
  },
  {
   "cell_type": "code",
   "execution_count": 4,
   "id": "9249cda8-c442-4ab7-b902-b105fb584217",
   "metadata": {},
   "outputs": [
    {
     "name": "stdin",
     "output_type": "stream",
     "text": [
      "Enter a number 6\n"
     ]
    },
    {
     "name": "stdout",
     "output_type": "stream",
     "text": [
      "the number is even\n"
     ]
    }
   ],
   "source": [
    "num = int(input('Enter a number'))\n",
    "if num%2 == 0:\n",
    "    print('the number is even')\n",
    "else:\n",
    "    print('the number is an odd number')"
   ]
  },
  {
   "cell_type": "markdown",
   "id": "5081ca54-7aca-4960-94ab-0a66a64bd5cf",
   "metadata": {},
   "source": [
    "3. How can you use nested if-else statements in Python, and provide an example?"
   ]
  },
  {
   "cell_type": "markdown",
   "id": "6ff8fc34-02bf-45db-a9c7-8e2a14f3227e",
   "metadata": {},
   "source": [
    "    In Python, nested if-else statements are used to create decision structures with multiple levels of conditions. This allows for more         complex decision-making based on different conditions.\n",
    "    In this example, we have a nested if-else structure. The outer if-else checks if the age is greater than or equal to 18. If it is, it       prints \"You are an adult\" and then goes into a nested if-else structure to check the income. If the income is greater than $30,000, it       prints \"You have a good income,\" otherwise \"You have a moderate income.\" If the age is less than 18, it prints \"You are a minor.\""
   ]
  },
  {
   "cell_type": "code",
   "execution_count": 6,
   "id": "7f4281b4-efd0-40ac-b97c-0e126809a643",
   "metadata": {},
   "outputs": [
    {
     "name": "stdout",
     "output_type": "stream",
     "text": [
      "you are an adult\n",
      "you have a moderate inome\n"
     ]
    }
   ],
   "source": [
    "age = 25\n",
    "income = 50000\n",
    "\n",
    "if age >= 18:\n",
    "    print('you are an adult')\n",
    "    if income > 50000:\n",
    "        print('you have a good income')\n",
    "    else:\n",
    "        print('you have a moderate inome')\n",
    "else:\n",
    "    print('you are a minor')"
   ]
  },
  {
   "cell_type": "markdown",
   "id": "8ca2c549-617d-451a-9cc2-022c24a75ca8",
   "metadata": {},
   "source": [
    "4. Write a Python program to determine the largest of three numbers using if-else."
   ]
  },
  {
   "cell_type": "code",
   "execution_count": 8,
   "id": "ef3946c3-7d42-4f8f-8912-3b5058ae0c13",
   "metadata": {},
   "outputs": [
    {
     "name": "stdout",
     "output_type": "stream",
     "text": [
      "80 is the largest\n"
     ]
    }
   ],
   "source": [
    "num1 = 40\n",
    "num2 = 80\n",
    "num3 = 20\n",
    "\n",
    "if num1 >num2 and num1 >num3:\n",
    "    print(f'{num1} is the largest')\n",
    "elif num2 > num1 and num2 > num3:\n",
    "    print(f'{num2} is the largest')\n",
    "else:\n",
    "    print(f'{num3} is the largest')"
   ]
  },
  {
   "cell_type": "markdown",
   "id": "aa91d66c-11c3-4a88-a881-a527f2749238",
   "metadata": {},
   "source": [
    "5. Write a Python program that calculates the absolute value of a number using if-else"
   ]
  },
  {
   "cell_type": "code",
   "execution_count": 13,
   "id": "8065b190-3afb-426a-adb8-1ae7abc41daf",
   "metadata": {},
   "outputs": [
    {
     "name": "stdin",
     "output_type": "stream",
     "text": [
      "Enter a number -6\n"
     ]
    },
    {
     "name": "stdout",
     "output_type": "stream",
     "text": [
      "6\n"
     ]
    }
   ],
   "source": [
    "num = int(input('Enter a number'))\n",
    "\n",
    "if num <= 0:\n",
    "    print(-num)\n",
    "else:\n",
    "    print(num)"
   ]
  },
  {
   "cell_type": "markdown",
   "id": "241dedc5-9fd7-4ae9-85ba-2cca86d52c88",
   "metadata": {},
   "source": [
    "6. Create a Python program that checks if a given character is a vowel or consonant using if-else."
   ]
  },
  {
   "cell_type": "code",
   "execution_count": 16,
   "id": "83e9c4a8-4330-490a-bf8a-47286248699a",
   "metadata": {},
   "outputs": [
    {
     "name": "stdin",
     "output_type": "stream",
     "text": [
      "enter a character a\n"
     ]
    },
    {
     "name": "stdout",
     "output_type": "stream",
     "text": [
      "a is a vowel\n"
     ]
    }
   ],
   "source": [
    "vowels = 'aeiou'\n",
    "\n",
    "char = input('enter a character')\n",
    "char = char.lower()\n",
    "if char in vowels:\n",
    "    print(f'{char} is a vowel')\n",
    "else:\n",
    "    print(f'{char} is a consonant')\n",
    "    "
   ]
  },
  {
   "cell_type": "markdown",
   "id": "add9aa35-225c-4c55-8a9d-cd85485c917b",
   "metadata": {},
   "source": [
    "7. Write a Python program to determine if a user is eligible to vote based on their age using if-else."
   ]
  },
  {
   "cell_type": "code",
   "execution_count": 18,
   "id": "041675d1-c376-410a-87ae-17c36b124d03",
   "metadata": {},
   "outputs": [
    {
     "name": "stdout",
     "output_type": "stream",
     "text": [
      "you are not eligible to vote\n"
     ]
    }
   ],
   "source": [
    "age = 10\n",
    "\n",
    "if age >= 18:\n",
    "    print('you are eligible to vote')\n",
    "else:\n",
    "    print('you are not eligible to vote')"
   ]
  },
  {
   "cell_type": "markdown",
   "id": "c5c6cb62-d6c7-4ba6-a7c8-91dc18aec3b3",
   "metadata": {},
   "source": [
    "8. Create a Python program that calculates the discount amount based on the purchase amount\n",
    "using if-else."
   ]
  },
  {
   "cell_type": "code",
   "execution_count": 35,
   "id": "bac04b91-bd08-412f-8fe9-557f1dce4c87",
   "metadata": {},
   "outputs": [
    {
     "name": "stdin",
     "output_type": "stream",
     "text": [
      "enter your purchase price 7000\n"
     ]
    },
    {
     "name": "stdout",
     "output_type": "stream",
     "text": [
      "due to your purchase of 7000$ we have given you a discount of 700.0$, so you only have to pay 6300.0$\n"
     ]
    }
   ],
   "source": [
    "def discount(p):\n",
    "    if p < 1000:\n",
    "        new_amount = p\n",
    "    elif p >= 1000:\n",
    "        new_amount = p - (p*10/100)\n",
    "    elif p >= 2000:\n",
    "        new_amount = p - (p*20/100)\n",
    "    elif p >= 3000:\n",
    "        new_amount = p - (p*30/100)\n",
    "    else:\n",
    "        new_amount = p - (p*40/100)\n",
    "        \n",
    "    return new_amount\n",
    "        \n",
    "purchase = int(input('enter your purchase price'))\n",
    "\n",
    "\n",
    "new_amount = discount(purchase)\n",
    "if new_amount < 1000:\n",
    "    print(f'we only give discounts to purchases above 1000$, you have to pay {new_amount}$')\n",
    "else:\n",
    "    discount = purchase-new_amount\n",
    "    print(f'due to your purchase of {purchase}$ we have given you a discount of {discount}$, so you only have to pay {new_amount}$')"
   ]
  },
  {
   "cell_type": "markdown",
   "id": "5a29bf22-71e8-4868-9218-660610e4bb60",
   "metadata": {},
   "source": [
    "9. Write a Python program to check if a number is within a specified range using if-else"
   ]
  },
  {
   "cell_type": "code",
   "execution_count": 36,
   "id": "32f6b753-87f0-4236-a202-3e77615904ee",
   "metadata": {},
   "outputs": [
    {
     "name": "stdout",
     "output_type": "stream",
     "text": [
      "70 is within the specified limit\n"
     ]
    }
   ],
   "source": [
    "upper_limit = 100\n",
    "lower_limit = 50\n",
    "\n",
    "num = 70\n",
    "\n",
    "if upper_limit >= num >= lower_limit: \n",
    "    print(f'{num} is within the specified limit')\n",
    "else:\n",
    "    print(f'{num} is not within the specified limit')"
   ]
  },
  {
   "cell_type": "markdown",
   "id": "79dafe5c-5143-4338-917f-592f4ea89bed",
   "metadata": {},
   "source": [
    "10. Create a Python program that determines the grade of a student based on their score using\n",
    "if-else"
   ]
  },
  {
   "cell_type": "code",
   "execution_count": 37,
   "id": "c8a27aa9-5c09-48c5-b42c-7c82f49214a4",
   "metadata": {},
   "outputs": [
    {
     "name": "stdin",
     "output_type": "stream",
     "text": [
      "Enter the student's score:  90\n"
     ]
    },
    {
     "name": "stdout",
     "output_type": "stream",
     "text": [
      "The student's grade is: A\n"
     ]
    }
   ],
   "source": [
    "def calculate_grade(score):\n",
    "    if score >= 90:\n",
    "        return 'A'\n",
    "    elif score >= 80:\n",
    "        return 'B'\n",
    "    elif score >= 70:\n",
    "        return 'C'\n",
    "    elif score >= 60:\n",
    "        return 'D'\n",
    "    else:\n",
    "        return 'F'\n",
    "\n",
    "# Sample score\n",
    "score = int(input('Enter the student\\'s score: '))\n",
    "\n",
    "if 0 <= score <= 100:\n",
    "    grade = calculate_grade(score)\n",
    "    print(f'The student\\'s grade is: {grade}')\n",
    "else:\n",
    "    print('Please enter a valid score between 0 and 100.')\n"
   ]
  },
  {
   "cell_type": "markdown",
   "id": "70b5bfb7-cca8-4896-a0e0-1dfe8f65f263",
   "metadata": {},
   "source": [
    "11. Write a Python program to check if a string is empty or not using if-else"
   ]
  },
  {
   "cell_type": "code",
   "execution_count": 3,
   "id": "bf34d103-ba58-4bdf-8ebf-dcb826325e12",
   "metadata": {},
   "outputs": [
    {
     "name": "stdout",
     "output_type": "stream",
     "text": [
      "my_string is not empty\n"
     ]
    }
   ],
   "source": [
    "my_string = 'hello'\n",
    "\n",
    "# using the not keyword\n",
    "if not my_string:\n",
    "    print('my_string is empty')\n",
    "else:\n",
    "    print('my_string is not empty')"
   ]
  },
  {
   "cell_type": "markdown",
   "id": "9085813e-78d0-4341-bc94-7dfd1f377557",
   "metadata": {},
   "source": [
    "12. Create a Python program that identifies the type of a triangle (e.g., equilateral, isosceles, or\n",
    "scalene) based on input values using if-else"
   ]
  },
  {
   "cell_type": "code",
   "execution_count": 4,
   "id": "a2043705-2b70-440a-9087-f2e634527624",
   "metadata": {},
   "outputs": [
    {
     "name": "stdin",
     "output_type": "stream",
     "text": [
      "Enter the length of side 1:  4\n",
      "Enter the length of side 2:  6\n",
      "Enter the length of side 3:  8\n"
     ]
    },
    {
     "name": "stdout",
     "output_type": "stream",
     "text": [
      "The triangle is a Scalene Triangle\n"
     ]
    }
   ],
   "source": [
    "def triangle_type(a, b, c):\n",
    "    if a == b == c:\n",
    "        return \"Equilateral Triangle\"\n",
    "    elif a == b or b == c or a == c:\n",
    "        return \"Isosceles Triangle\"\n",
    "    else:\n",
    "        return \"Scalene Triangle\"\n",
    "\n",
    "# Input side lengths of the triangle\n",
    "side1 = float(input(\"Enter the length of side 1: \"))\n",
    "side2 = float(input(\"Enter the length of side 2: \"))\n",
    "side3 = float(input(\"Enter the length of side 3: \"))\n",
    "\n",
    "# Check for valid triangle sides\n",
    "if side1 + side2 > side3 and side1 + side3 > side2 and side2 + side3 > side1:\n",
    "    triangle_category = triangle_type(side1, side2, side3)\n",
    "    print(f\"The triangle is a {triangle_category}\")\n",
    "else:\n",
    "    print(\"Invalid side lengths. Cannot form a triangle.\")\n"
   ]
  },
  {
   "cell_type": "markdown",
   "id": "4c66dcfd-f17a-4d71-a6a4-82cf3827caa8",
   "metadata": {},
   "source": [
    "13. Write a Python program to determine the day of the week based on a user-provided number\n",
    "using if-else"
   ]
  },
  {
   "cell_type": "code",
   "execution_count": 6,
   "id": "5f58be06-836a-4eb2-ad81-a915ba9017dd",
   "metadata": {},
   "outputs": [
    {
     "name": "stdin",
     "output_type": "stream",
     "text": [
      "Enter a number to determine the day of the week:  7\n"
     ]
    },
    {
     "name": "stdout",
     "output_type": "stream",
     "text": [
      "the day of the week that corresponds to 7 is sunday\n"
     ]
    }
   ],
   "source": [
    "def day_week(num):\n",
    "    if num == 1:\n",
    "        day = 'Monday'\n",
    "    elif num == 2:\n",
    "        day = 'Tuesday'\n",
    "    elif num == 3:\n",
    "        day = 'Wednesday'\n",
    "    elif num == 4:\n",
    "        day = 'Thursday'\n",
    "    elif num == 5:\n",
    "        day = 'Friday'\n",
    "    elif num == 6:\n",
    "        day = 'Saturday'\n",
    "    else:\n",
    "        day = 'sunday'\n",
    "    return day\n",
    "\n",
    "num = int(input('Enter a number to determine the day of the week: '))\n",
    "\n",
    "if 0 < num < 8:\n",
    "    day = day_week(num)\n",
    "    print(f'the day of the week that corresponds to {num} is {day}')\n",
    "else:\n",
    "    print('invalid number, enter a number between 1 and 7')"
   ]
  },
  {
   "cell_type": "markdown",
   "id": "04e66258-f08f-48b9-8376-2b29494dcb37",
   "metadata": {},
   "source": [
    "14. Create a Python program that checks if a given year is a leap year using both if-else and a\n",
    "function."
   ]
  },
  {
   "cell_type": "code",
   "execution_count": 1,
   "id": "fac3cca1-cf49-4312-a825-c194cab7d9a6",
   "metadata": {},
   "outputs": [
    {
     "name": "stdin",
     "output_type": "stream",
     "text": [
      "Enter a year:  2002\n"
     ]
    },
    {
     "name": "stdout",
     "output_type": "stream",
     "text": [
      "2002 is not a leap year\n"
     ]
    }
   ],
   "source": [
    "def is_leap_year(year):\n",
    "    if (year % 4 == 0 and year % 100 != 0) or (year % 400 == 0):\n",
    "        return True\n",
    "    else:\n",
    "        return False\n",
    "\n",
    "year = int(input('Enter a year: '))\n",
    "\n",
    "if is_leap_year(year):\n",
    "    print(f'{year} is a leap year')\n",
    "else:\n",
    "    print(f'{year} is not a leap year')"
   ]
  },
  {
   "cell_type": "markdown",
   "id": "991bd3ac-66fb-4fb0-98c4-64cbc9110ff9",
   "metadata": {},
   "source": [
    "15. How do you use the \"assert\" statement in Python to add debugging checks within if-else blocks?"
   ]
  },
  {
   "cell_type": "markdown",
   "id": "605ac852-b89d-4626-8ecb-1a7cebf4635c",
   "metadata": {},
   "source": [
    "     Python, the assert statement is used to add debugging checks within if-else blocks or throughout your code to verify certain        conditions. If the condition specified after assert is False, it raises an AssertionError with an optional error message."
   ]
  },
  {
   "cell_type": "code",
   "execution_count": null,
   "id": "ec78b410-8645-4d9a-ba05-27a8560d0218",
   "metadata": {},
   "outputs": [
    {
     "name": "stdout",
     "output_type": "stream",
     "text": [
      "the result of the division is  5.0\n"
     ]
    }
   ],
   "source": [
    "def divide(a,b):\n",
    "    assert b != 0  # whe b is 0 it will raise an AssertionError\n",
    "    return a/b\n",
    "\n",
    "\n",
    "a = 10\n",
    "b = 2\n",
    "\n",
    "try:\n",
    "    result = divide(a,b)\n",
    "    print('the result of the division is ',result)\n",
    "\n",
    "except AssertionError:\n",
    "    print('Error: Division by zero is not allowed')"
   ]
  },
  {
   "cell_type": "markdown",
   "id": "bcb8c035-a3ec-427f-9b3e-9223d59125c8",
   "metadata": {},
   "source": [
    "16. Create a Python program that determines the eligibility of a person for a senior citizen discount\n",
    "based on age using if-else."
   ]
  },
  {
   "cell_type": "code",
   "execution_count": 19,
   "id": "70c5d346-6f14-4b3b-8601-957d2f4eaa75",
   "metadata": {},
   "outputs": [
    {
     "name": "stdin",
     "output_type": "stream",
     "text": [
      "Enter your age:  61\n"
     ]
    },
    {
     "name": "stdout",
     "output_type": "stream",
     "text": [
      "You are eligible for a senior citizen discount.\n"
     ]
    }
   ],
   "source": [
    "def check_senior_citizen_discount(age):\n",
    "    # Age criteria for senior citizen discount\n",
    "    senior_citizen_age = 60\n",
    "\n",
    "    if age >= senior_citizen_age:\n",
    "        return True\n",
    "    else:\n",
    "        return False\n",
    "\n",
    "\n",
    "try:\n",
    "    age = int(input(\"Enter your age: \"))\n",
    "\n",
    "    if check_senior_citizen_discount(age):\n",
    "        print(\"You are eligible for a senior citizen discount.\")\n",
    "    else:\n",
    "        print(\"You are not eligible for a senior citizen discount.\")\n",
    "\n",
    "\n",
    "\n",
    "\n"
   ]
  },
  {
   "cell_type": "markdown",
   "id": "c4a3bcef-cf17-48b6-bbfc-1714075b00c3",
   "metadata": {},
   "source": [
    "17. Write a Python program to categorize a given character as uppercase, lowercase, or neither\n",
    "using if-else.\n"
   ]
  },
  {
   "cell_type": "code",
   "execution_count": 22,
   "id": "175752c1-ca0a-466a-a71d-3c340cd284bb",
   "metadata": {},
   "outputs": [
    {
     "name": "stdin",
     "output_type": "stream",
     "text": [
      "enter a character R\n"
     ]
    },
    {
     "name": "stdout",
     "output_type": "stream",
     "text": [
      "R is uppercase\n"
     ]
    }
   ],
   "source": [
    "char = input('enter a character')\n",
    "\n",
    "if char.islower():\n",
    "    print(f'{char} is lowercase')\n",
    "elif char.isupper():\n",
    "    print(f'{char} is uppercase')\n",
    "else:\n",
    "    print('neither uppercase nor lowercase')"
   ]
  },
  {
   "cell_type": "markdown",
   "id": "286dcf1d-8b91-4518-832f-80dafee1f88f",
   "metadata": {},
   "source": [
    "18. Write a Python program to determine the roots of a quadratic equation using if-else"
   ]
  },
  {
   "cell_type": "code",
   "execution_count": 28,
   "id": "52b2cc34-3f54-4d3a-8403-339fc390371a",
   "metadata": {},
   "outputs": [
    {
     "name": "stdin",
     "output_type": "stream",
     "text": [
      "Enter the coefficient a:  4\n",
      "Enter the coefficient b:  5\n",
      "Enter the coefficient c:  6\n"
     ]
    },
    {
     "name": "stdout",
     "output_type": "stream",
     "text": [
      "The roots of the quadratic equation are complex: -0.625 + 1.0532687216470449i, -0.625 - 1.0532687216470449i\n"
     ]
    }
   ],
   "source": [
    "import math\n",
    "\n",
    "def calculate_roots(a, b, c):\n",
    "    discriminant = b**2 - 4*a*c\n",
    "\n",
    "    if discriminant > 0:\n",
    "        root1 = (-b + math.sqrt(discriminant)) / (2*a)\n",
    "        root2 = (-b - math.sqrt(discriminant)) / (2*a)\n",
    "        return f\"The roots of the quadratic equation are real and different: {root1}, {root2}\"\n",
    "    elif discriminant == 0:\n",
    "        root = -b / (2*a)\n",
    "        return f\"The root of the quadratic equation is real and same: {root}\"\n",
    "    else:\n",
    "        real_part = -b / (2*a)\n",
    "        imaginary_part = math.sqrt(abs(discriminant)) / (2*a)\n",
    "        return f\"The roots of the quadratic equation are complex: {real_part} + {imaginary_part}i, {real_part} - {imaginary_part}i\"\n",
    "\n",
    "try:\n",
    "    a = float(input(\"Enter the coefficient a: \"))\n",
    "    b = float(input(\"Enter the coefficient b: \"))\n",
    "    c = float(input(\"Enter the coefficient c: \"))\n",
    "\n",
    "    if a == 0:\n",
    "        print(\"Coefficient 'a' should not be zero for a quadratic equation.\")\n",
    "    \n",
    "\n",
    "    roots = calculate_roots(a, b, c)\n",
    "    print(roots)\n",
    "\n",
    "except ValueError:\n",
    "    print(\"Invalid input. Please enter valid numerical coefficients.\")\n",
    "\n",
    "\n",
    " \n"
   ]
  },
  {
   "cell_type": "markdown",
   "id": "25098f77-11fd-439d-b8a1-fdd6be75e241",
   "metadata": {},
   "source": [
    "19. Create a Python program that checks if a given year is a century year or not using if-else."
   ]
  },
  {
   "cell_type": "code",
   "execution_count": 29,
   "id": "69d13125-491a-4e6c-bf34-0eff42e06ca0",
   "metadata": {},
   "outputs": [
    {
     "name": "stdin",
     "output_type": "stream",
     "text": [
      "Enter a year:  ggg\n"
     ]
    },
    {
     "name": "stdout",
     "output_type": "stream",
     "text": [
      "Invalid input. Please enter a valid year.\n"
     ]
    }
   ],
   "source": [
    "def is_century_year(year):\n",
    "    # Check if the year is a multiple of 100\n",
    "    if year % 100 == 0:\n",
    "        return True\n",
    "    else:\n",
    "        return False\n",
    "\n",
    "\n",
    "try:\n",
    "    year = int(input(\"Enter a year: \"))\n",
    "\n",
    "    if is_century_year(year):\n",
    "        print(f\"{year} is a century year.\")\n",
    "    else:\n",
    "        print(f\"{year} is not a century year.\")\n",
    "\n",
    "except ValueError:\n",
    "    print(\"Invalid input. Please enter a valid year.\")\n",
    "\n"
   ]
  },
  {
   "cell_type": "markdown",
   "id": "b8a50e57-1ede-4273-af05-b78b91b3e975",
   "metadata": {},
   "source": [
    "20. Write a Python program to determine if a given number is a perfect square using if-else.\n"
   ]
  },
  {
   "cell_type": "code",
   "execution_count": 30,
   "id": "e985df72-d4ad-4168-836c-6e3c8a9cb7ab",
   "metadata": {},
   "outputs": [
    {
     "name": "stdin",
     "output_type": "stream",
     "text": [
      "Enter a number:  25\n"
     ]
    },
    {
     "name": "stdout",
     "output_type": "stream",
     "text": [
      "25 is a perfect square.\n"
     ]
    }
   ],
   "source": [
    "def is_perfect_square(number):\n",
    "    # Check if the square root of the number is an integer\n",
    "    square_root = int(number**0.5)\n",
    "    if square_root * square_root == number:\n",
    "        return True\n",
    "    else:\n",
    "        return False\n",
    "\n",
    "\n",
    "try:\n",
    "    number = int(input(\"Enter a number: \"))\n",
    "\n",
    "    if is_perfect_square(number):\n",
    "         print(f\"{number} is a perfect square.\")\n",
    "    else:\n",
    "        print(f\"{number} is not a perfect square.\")\n",
    "\n",
    "except ValueError:\n",
    "    print(\"Invalid input. Please enter a valid number.\")\n",
    "\n"
   ]
  },
  {
   "cell_type": "markdown",
   "id": "3f1fac04-8cf2-40ba-9622-a0e7e73f4c2c",
   "metadata": {},
   "source": [
    "21. Explain the purpose of the \"continue\" and \"break\" statements within if-else loops."
   ]
  },
  {
   "cell_type": "markdown",
   "id": "30dede1b-e64a-4615-be0e-c9fec76e4458",
   "metadata": {},
   "source": [
    "The \"continue\" and \"break\" statements are control flow statements used within loops (such as \"for\" and \"while\" loops) in Python to alter the flow of execution and control the loop's behavior."
   ]
  },
  {
   "cell_type": "markdown",
   "id": "caa18ff7-a9fb-4b70-a0f4-d35ac5f50c36",
   "metadata": {},
   "source": [
    "\"continue\" statement:\n",
    "The \"continue\" statement is used to skip the rest of the current iteration of a loop and proceed to the next iteration. When encountered, it effectively interrupts the current iteration and jumps back to the loop's beginning"
   ]
  },
  {
   "cell_type": "code",
   "execution_count": 31,
   "id": "5d5288d3-d5d0-49c5-9472-d3636f521559",
   "metadata": {},
   "outputs": [
    {
     "name": "stdout",
     "output_type": "stream",
     "text": [
      "1\n",
      "3\n",
      "5\n",
      "7\n",
      "9\n"
     ]
    }
   ],
   "source": [
    "for i in range(1, 11):\n",
    "    if i % 2 == 0:\n",
    "        continue  # Skip even numbers\n",
    "    print(i)\n"
   ]
  },
  {
   "cell_type": "markdown",
   "id": "c15e9051-a855-409d-bf94-ae3cf51d3638",
   "metadata": {},
   "source": [
    "\"break\" statement:\n",
    "The \"break\" statement is used to exit a loop prematurely, before its normal termination condition is met. When encountered, \"break\" immediately terminates the loop, and the program continues with the next statement after the loop."
   ]
  },
  {
   "cell_type": "code",
   "execution_count": 38,
   "id": "4ae71aef-ef59-4510-835c-dc34b669fd73",
   "metadata": {},
   "outputs": [
    {
     "name": "stdin",
     "output_type": "stream",
     "text": [
      "Enter 'q' to quit:  w\n"
     ]
    },
    {
     "name": "stdout",
     "output_type": "stream",
     "text": [
      "You entered: w\n"
     ]
    },
    {
     "name": "stdin",
     "output_type": "stream",
     "text": [
      "Enter 'q' to quit:  q\n"
     ]
    }
   ],
   "source": [
    "while True:\n",
    "    user_input = input(\"Enter 'q' to quit: \")\n",
    "    if user_input.lower() == 'q':\n",
    "        break  # Exit the loop if 'q' is entered\n",
    "    print(\"You entered:\", user_input)\n"
   ]
  },
  {
   "cell_type": "markdown",
   "id": "cf79b9f1-0448-4c83-9b20-a27a7f7353f0",
   "metadata": {},
   "source": [
    "22. Create a Python program that calculates the BMI (Body Mass Index) of a person based on their\n",
    "weight and height using if-else.\n"
   ]
  },
  {
   "cell_type": "code",
   "execution_count": null,
   "id": "9886b40d-10e9-4a4c-8491-b6462808d20f",
   "metadata": {},
   "outputs": [],
   "source": [
    "def calculte_bmi(weight, height):\n",
    "    # formula: weight in kg / height^2 in m\n",
    "    bmi = weight/(height ** 2)\n",
    "    return bmi\n",
    "\n",
    "\n",
    "try:\n",
    "    weight = float(input('Enter your weight in (kg): '))\n",
    "    height = float(input('Enter you height in (m): '))\n",
    "    \n",
    "    if weight <= 0 or height <= 0:\n",
    "        "
   ]
  },
  {
   "cell_type": "code",
   "execution_count": null,
   "id": "86b671b4-24e3-428d-8967-91b2725c638a",
   "metadata": {},
   "outputs": [],
   "source": [
    "def calculate_bmi(weight, height):\n",
    "    # BMI formula: weight (kg) / (height (m))^2\n",
    "    bmi = weight / (height ** 2)\n",
    "    return bmi\n",
    "\n",
    "\n",
    "try:\n",
    "    weight = float(input(\"Enter your weight (kg): \"))\n",
    "    height = float(input(\"Enter your height (m): \"))\n",
    "        \n",
    "    assert weight > 0,'weight should be a positive value'\n",
    "    assert height > 0,'height should be a positive value'\n",
    "\n",
    "       \n",
    "\n",
    "    bmi = calculate_bmi(weight, height)\n",
    "    print(f\"Your BMI is: {bmi:.2f}\")\n",
    "\n",
    "    if bmi < 18.5:\n",
    "        print(\"You are underweight.\")\n",
    "    elif 18.5 <= bmi < 24.9:\n",
    "        print(\"You are in the normal weight range.\")\n",
    "    elif 25 <= bmi < 29.9:\n",
    "        print(\"You are overweight.\")\n",
    "    else:\n",
    "        print(\"You are obese.\")\n",
    "\n",
    "except ValueError:\n",
    "    print(\"Invalid input. Please enter valid numerical values.\")\n",
    "except AssertionError as e:\n",
    "    print(\"Assertion Error:\", str(e))\n",
    "\n",
    "\n"
   ]
  },
  {
   "cell_type": "markdown",
   "id": "451fdae8-7e19-4ce1-8428-58130cfb52e4",
   "metadata": {},
   "source": [
    "23. How can you use the \"filter()\" function with if-else statements to filter elements from a list?"
   ]
  },
  {
   "cell_type": "markdown",
   "id": "dd30e256-c1f9-4f80-8e51-684434e7a643",
   "metadata": {},
   "source": [
    "While the filter() function is typically used with a separate function or lambda expression as the filtering criterion, you can also incorporate if-else statements within the filtering function to determine whether an element should be included or not\n",
    "for example:"
   ]
  },
  {
   "cell_type": "code",
   "execution_count": 48,
   "id": "eda9661b-6cc1-4c5a-b156-d0372ee4e96e",
   "metadata": {},
   "outputs": [
    {
     "name": "stdout",
     "output_type": "stream",
     "text": [
      "the even numbers are: \n",
      "[2, 4, 6, 8, 10, 12, 14, 16, 18, 20, 22, 24, 26, 28, 30, 32, 34, 36, 38, 40, 42, 44, 46, 48, 50]\n"
     ]
    }
   ],
   "source": [
    "def is_even(element):\n",
    "    if element%2 == 0:\n",
    "        return True\n",
    "    else:\n",
    "        return False\n",
    "    \n",
    "# Sample list of elements\n",
    "elements = [i for i in range(1,51)]\n",
    "\n",
    "even_elements = filter(is_even,elements)\n",
    "\n",
    "print('the even numbers are: ')\n",
    "print(list(even_elements))\n",
    "    "
   ]
  },
  {
   "cell_type": "markdown",
   "id": "707fc57c-3018-495e-83ab-4d54327b4fcc",
   "metadata": {},
   "source": [
    "24. Write a Python program to determine if a given number is prime or not using if-else.\n"
   ]
  },
  {
   "cell_type": "code",
   "execution_count": 1,
   "id": "bc73bde9-1166-42bf-a7aa-bb3f6b3da745",
   "metadata": {},
   "outputs": [
    {
     "name": "stdin",
     "output_type": "stream",
     "text": [
      "Enter a number:  24\n"
     ]
    },
    {
     "name": "stdout",
     "output_type": "stream",
     "text": [
      "24 is not a prime number.\n"
     ]
    }
   ],
   "source": [
    "def is_prime(num):\n",
    "    if num < 2:\n",
    "        return False  # Numbers less than 2 are not prime\n",
    "\n",
    "    # Check for factors from 2 to the square root of the number\n",
    "    for i in range(2, int(num**0.5) + 1):\n",
    "        if num % i == 0:\n",
    "            return False  # Found a factor, the number is not prime\n",
    "\n",
    "    return True  # No factors found, the number is prime\n",
    "\n",
    "\n",
    "try:\n",
    "    num = int(input(\"Enter a number: \"))\n",
    "\n",
    "    if is_prime(num):\n",
    "        print(f\"{num} is a prime number.\")\n",
    "    else:\n",
    "        print(f\"{num} is not a prime number.\")\n",
    "\n",
    "except ValueError:\n",
    "    print(\"Invalid input. Please enter a valid number.\")\n",
    "\n"
   ]
  },
  {
   "cell_type": "markdown",
   "id": "491152c5-5074-4d6b-a89f-a059a9fc3477",
   "metadata": {
    "tags": []
   },
   "source": [
    "## Map :"
   ]
  },
  {
   "cell_type": "markdown",
   "id": "5cdc96f8-3854-4201-9347-7ee103706992",
   "metadata": {},
   "source": [
    "1. Explain the purpose of the `map()` function in Python and provide an example of how it can be\n",
    "used to apply a function to each element of an iterable."
   ]
  },
  {
   "cell_type": "markdown",
   "id": "c9cf93d0-507b-4c67-9267-179bfa735802",
   "metadata": {},
   "source": [
    "The map() function in Python is used to apply a specified function to every item in an iterable (e.g., a list, tuple, etc.) and returns an iterator that yields the results of applying the function. Essentially, it allows you to transform each element in the iterable by applying a given function without having to use explicit loops."
   ]
  },
  {
   "cell_type": "code",
   "execution_count": 10,
   "id": "da95b8ae-e655-473d-9ac0-8469b118afb2",
   "metadata": {},
   "outputs": [],
   "source": [
    "#### syntax for the map() function:\n",
    "# map(function, iterable)\n",
    "# function: The function to apply to each element in the iterable.\n",
    "# iterable: The iterable (e.g., list, tuple, etc.) whose elements will be passed to the function."
   ]
  },
  {
   "cell_type": "code",
   "execution_count": 12,
   "id": "ceb54f8b-ee04-46d2-a59f-d06fd0cd9dca",
   "metadata": {},
   "outputs": [
    {
     "name": "stdout",
     "output_type": "stream",
     "text": [
      "[2, 4, 6, 8, 10]\n"
     ]
    }
   ],
   "source": [
    "# Function to double a number\n",
    "def double(n):\n",
    "    return n * 2\n",
    "\n",
    "# List of numbers\n",
    "numbers = [1, 2, 3, 4, 5]\n",
    "\n",
    "# Using map to double each number in the list\n",
    "doubled_numbers = map(double, numbers)\n",
    "\n",
    "# The result of map() is an iterator, so we need to convert it to a list to see the results\n",
    "doubled_numbers_list = list(doubled_numbers)\n",
    "\n",
    "# Print the doubled numbers\n",
    "print(doubled_numbers_list)  # Output: [2, 4, 6, 8, 10]\n"
   ]
  },
  {
   "cell_type": "markdown",
   "id": "b1206364-01b5-450c-995c-ddef723338bc",
   "metadata": {},
   "source": [
    "2. Write a Python program that uses the `map()` function to square each element of a list of\n",
    "numbers.\n"
   ]
  },
  {
   "cell_type": "code",
   "execution_count": 13,
   "id": "c24faaca-0f7e-43c8-849e-9736fd16b5a6",
   "metadata": {},
   "outputs": [
    {
     "name": "stdout",
     "output_type": "stream",
     "text": [
      "[1, 4, 9, 16, 25]\n"
     ]
    }
   ],
   "source": [
    "# Function to square a number\n",
    "def square(n):\n",
    "    return n ** 2\n",
    "\n",
    "# List of numbers\n",
    "numbers = [1, 2, 3, 4, 5]\n",
    "\n",
    "# Using map to square each number in the list\n",
    "squared_numbers = map(square, numbers)\n",
    "\n",
    "# The result of map() is an iterator, so we need to convert it to a list to see the results\n",
    "squared_numbers_list = list(squared_numbers)\n",
    "\n",
    "# Print the squared numbers\n",
    "print(squared_numbers_list)  \n"
   ]
  },
  {
   "cell_type": "markdown",
   "id": "4f1c4a32-37f0-40fd-8d43-6a063563780b",
   "metadata": {},
   "source": [
    "3. How does the `map()` function differ from a list comprehension in Python, and when would you\n",
    "choose one over the other?"
   ]
  },
  {
   "cell_type": "markdown",
   "id": "c105e9ba-b288-4914-a384-42063a72a160",
   "metadata": {},
   "source": [
    "-the map() function and list comprehensions are both constructs in Python used for transforming elements in an iterable, like a list\n",
    "\n",
    "The map() function in Python takes two arguments: a function and an iterable (e.g., a list). It applies the specified function to each element in the iterable and returns an iterator that yields the results.\n",
    "List comprehensions are a more concise and expressive way to create lists based on existing iterables. They allow you to create a new list by specifying an expression and an optional predicate (if statement) to filter elements."
   ]
  },
  {
   "cell_type": "markdown",
   "id": "437b31bd-c771-46c5-a346-ea37e0504cb2",
   "metadata": {},
   "source": [
    "DIFFERENCES\n",
    "\n",
    "Return type:\n",
    "map() returns an iterator, so you might need to convert it to a list or iterate through it to access the transformed values.\n",
    "List comprehension returns a list directly.\n",
    "\n",
    "Performance:\n",
    "In some cases, map() might offer a slight performance advantage over list comprehensions, especially for larger datasets. However, the difference is often negligible.\n",
    "\n",
    "Use Cases:\n",
    "Use map() when you want to apply a specific function to each element in an iterable and you prefer an iterator as the result.\n",
    "Use a list comprehension when you want to create a new list by applying an expression or transformation to each element, possibly with filtering.\n",
    "\n",
    "Complex Transformations:\n",
    "For more complex transformations involving multiple iterables or conditionals, list comprehensions might be easier to use and understand.\n",
    "\n",
    "Readability and Expressiveness:\n",
    "List comprehensions are often considered more readable and concise for simple transformations and filtering operations."
   ]
  },
  {
   "cell_type": "markdown",
   "id": "0e3690cd-6ccc-448f-accc-b8a7ee9cbf91",
   "metadata": {},
   "source": [
    "WHEN TO CHOOSE ONE OVER THE OTHER:\n",
    "Use map() when you specifically need an iterator as the result and you're applying a function to each element in the iterable.\n",
    "Use a list comprehension when you want to create a new list and the transformation is simple and can be expressed.\n",
    "HOWEVER:In practice, the choice between map() and list comprehensions often comes down to personal preference, code readability, and the specific requirements of the task at hand."
   ]
  },
  {
   "cell_type": "markdown",
   "id": "3e669222-fb31-40bb-8e62-d23d6cbdc134",
   "metadata": {},
   "source": [
    "4. Create a Python program that uses the `map()` function to convert a list of names to uppercase.\n"
   ]
  },
  {
   "cell_type": "code",
   "execution_count": 2,
   "id": "cce34a83-19ec-49a0-9c6b-9f3a8237203c",
   "metadata": {},
   "outputs": [
    {
     "name": "stdout",
     "output_type": "stream",
     "text": [
      "['TREVOR', 'SEREM', 'KEN', 'RYAN']\n"
     ]
    }
   ],
   "source": [
    "names = ['trevor','serem','ken','ryan']\n",
    "\n",
    "# using map() and lambda function to access each element and make it uppercase\n",
    "upper_names = map(lambda i: i.upper(),names)\n",
    "\n",
    "print(list(upper_names))"
   ]
  },
  {
   "cell_type": "code",
   "execution_count": 6,
   "id": "10263c5d-98d7-406c-bb97-b2072ec9c96c",
   "metadata": {},
   "outputs": [
    {
     "name": "stdout",
     "output_type": "stream",
     "text": [
      "10\n"
     ]
    }
   ],
   "source": [
    "\n",
    "x = lambda x: x*2\n",
    "\n",
    "print(x(5))\n"
   ]
  },
  {
   "cell_type": "markdown",
   "id": "6e7183de-2645-4b76-b78a-780542024bf5",
   "metadata": {},
   "source": [
    "5. Write a Python program that uses the `map()` function to calculate the length of each word in a\n",
    "list of strings"
   ]
  },
  {
   "cell_type": "code",
   "execution_count": 12,
   "id": "76c4a38f-5ee6-4ef5-a08a-8b90672e0cbf",
   "metadata": {},
   "outputs": [
    {
     "name": "stdout",
     "output_type": "stream",
     "text": [
      "the lenght of each string in the list are:\n",
      "car: 3\n",
      "house: 5\n",
      "train: 5\n",
      "country: 7\n"
     ]
    }
   ],
   "source": [
    "string_list = ['car','house','train','country']\n",
    "\n",
    "x = list(map(lambda i: len(i),string_list))\n",
    "print('the lenght of each string in the list are:')\n",
    "for i in range(len(string_list)):\n",
    "    print(f'{string_list[i]}: {x[i]}')\n",
    "    "
   ]
  },
  {
   "cell_type": "code",
   "execution_count": 13,
   "id": "370f537f-a554-4eb0-ad96-ff2f6ec6239d",
   "metadata": {},
   "outputs": [
    {
     "name": "stdout",
     "output_type": "stream",
     "text": [
      "The length of 'apple' is 5.\n",
      "The length of 'banana' is 6.\n",
      "The length of 'cherry' is 6.\n",
      "The length of 'date' is 4.\n"
     ]
    }
   ],
   "source": [
    "## simpler version,#another version\n",
    "\n",
    "words_list = [\"apple\", \"banana\", \"cherry\", \"date\"]\n",
    "\n",
    "# Function to calculate the length of a word\n",
    "def calculate_word_length(word):\n",
    "    return len(word)\n",
    "\n",
    "# Using map() to calculate the length of each word\n",
    "word_lengths = list(map(calculate_word_length, words_list))\n",
    "\n",
    "# Print the original words and their corresponding lengths\n",
    "for word, length in zip(words_list, word_lengths):\n",
    "    print(f\"The length of '{word}' is {length}.\")\n",
    "\n"
   ]
  },
  {
   "cell_type": "markdown",
   "id": "b2f36884-f339-43ba-898c-d4ab7a6e56c7",
   "metadata": {},
   "source": [
    "6. How can you use the `map()` function to apply a custom function to elements of multiple lists\n",
    "simultaneously in Python?"
   ]
  },
  {
   "cell_type": "markdown",
   "id": "c4591a44-d57d-4404-b59a-02eeca79dbd4",
   "metadata": {},
   "source": [
    "To apply a custom function to elements of multiple lists simultaneously using the map() function in Python, you can pass the custom function and the multiple lists as arguments to map().\n",
    "\n",
    "Define a function that takes arguments corresponding to the elements from each list.\n",
    "Use the map() function, passing the custom function and the lists as arguments. The map() function will apply the custom function to corresponding elements from each list."
   ]
  },
  {
   "cell_type": "code",
   "execution_count": 19,
   "id": "2713f9f4-6128-48b4-ac52-b6ea93209f24",
   "metadata": {},
   "outputs": [
    {
     "name": "stdout",
     "output_type": "stream",
     "text": [
      "[11, 22, 33, 44, 55]\n"
     ]
    }
   ],
   "source": [
    "## use case\n",
    "def add_elements(a,b):\n",
    "    return a+b\n",
    "# sample lists\n",
    "list1 = [1,2,3,4,5]\n",
    "list2 = [10,20,30,40,50]\n",
    "\n",
    "result = list(map(add_elements,list1,list2))\n",
    "\n",
    "print(result)"
   ]
  },
  {
   "cell_type": "markdown",
   "id": "94a5c235-fa09-4761-9eb8-e88b7c63b720",
   "metadata": {},
   "source": [
    "7. Create a Python program that uses `map()` to convert a list of temperatures from Celsius to\n",
    "Fahrenheit.\n"
   ]
  },
  {
   "cell_type": "code",
   "execution_count": 24,
   "id": "002df359-754d-4be0-b2f6-11f527196130",
   "metadata": {},
   "outputs": [
    {
     "name": "stdout",
     "output_type": "stream",
     "text": [
      "['77.0 °F', '82.4 °F', '69.8 °F', '86.0 °F', '73.4 °F']\n"
     ]
    }
   ],
   "source": [
    "def convert_temp(celsius):\n",
    "    fahr = (celsius*9/5)+32\n",
    "    return f'{fahr:.1f} \\u00b0F'\n",
    "\n",
    "celsius_list = [25,28,21,30,23]\n",
    "\n",
    "fahr_list = list(map(convert_temp,celsius_list))\n",
    "\n",
    "print(fahr_list)"
   ]
  },
  {
   "cell_type": "markdown",
   "id": "bb3bb36e-32a8-4341-84ac-9aa142a003a8",
   "metadata": {},
   "source": [
    "8. Write a Python program that uses the `map()` function to round each element of a list of\n",
    "floating-point numbers to the nearest integer."
   ]
  },
  {
   "cell_type": "code",
   "execution_count": 29,
   "id": "809aef85-b300-45a6-a970-b3fb9e2751cc",
   "metadata": {},
   "outputs": [
    {
     "name": "stdout",
     "output_type": "stream",
     "text": [
      "[2, 5, 3, 9, 8]\n"
     ]
    }
   ],
   "source": [
    "float_numbers = [2.14,4.78,3.45,9.11,7.55]\n",
    "\n",
    "rounded_numbers = list(map(round,float_numbers))\n",
    "\n",
    "print(rounded_numbers)"
   ]
  },
  {
   "cell_type": "markdown",
   "id": "5149c398-d26c-481f-b988-f1b3b61f6b94",
   "metadata": {
    "tags": []
   },
   "source": [
    "## Reduce :"
   ]
  },
  {
   "cell_type": "markdown",
   "id": "91736b57-7335-43e4-8a39-64d02011b3c4",
   "metadata": {},
   "source": [
    "1. What is the `reduce()` function in Python, and what module should you import to use it? Provide\n",
    "an example of its basic usage"
   ]
  },
  {
   "cell_type": "markdown",
   "id": "b55ff7c7-7e64-4539-8942-b8c90509dfe4",
   "metadata": {},
   "source": [
    "The reduce() function is part of the functools module in Python. It's used to apply a rolling computation to sequential pairs of elements from an iterable, effectively reducing the iterable to a single value.\n",
    "\n",
    "you should import functools module for you to use the reduce() function\n",
    "\n",
    "basic syntax:\n",
    "functools.reduce(function, iterable[, initializer])\n"
   ]
  },
  {
   "cell_type": "code",
   "execution_count": 5,
   "id": "bd21e11b-2171-4449-8a60-95c02af17693",
   "metadata": {},
   "outputs": [
    {
     "name": "stdout",
     "output_type": "stream",
     "text": [
      "15\n"
     ]
    }
   ],
   "source": [
    "import functools\n",
    "\n",
    "def add(a,b):\n",
    "    return a+b\n",
    "\n",
    "list1 = [1,2,3,4,5]\n",
    "\n",
    "result = functools.reduce(add,list1)\n",
    "\n",
    "print(result)"
   ]
  },
  {
   "cell_type": "markdown",
   "id": "d16d055d-18d8-4265-b3cd-ca3eab008626",
   "metadata": {},
   "source": [
    "2. Write a Python program that uses the `reduce()` function to find the product of all elements in a\n",
    "list."
   ]
  },
  {
   "cell_type": "code",
   "execution_count": 1,
   "id": "cea95277-ab34-49c6-82de-0ff1b5b99ffd",
   "metadata": {},
   "outputs": [
    {
     "name": "stdout",
     "output_type": "stream",
     "text": [
      "3840\n"
     ]
    }
   ],
   "source": [
    "import functools\n",
    "list1 = [2,4,6,8,10]\n",
    "\n",
    "product = functools.reduce(lambda a,b : a*b,list1)\n",
    "\n",
    "print(product)"
   ]
  },
  {
   "cell_type": "markdown",
   "id": "89056668-56f7-4337-a9a3-a3d59b9636d9",
   "metadata": {},
   "source": [
    "3. Create a Python program that uses `reduce()` to find the maximum element in a list of numbers"
   ]
  },
  {
   "cell_type": "code",
   "execution_count": 4,
   "id": "5dd47168-f37f-4d41-a5c5-b41027f268a0",
   "metadata": {},
   "outputs": [
    {
     "name": "stdout",
     "output_type": "stream",
     "text": [
      "50\n"
     ]
    }
   ],
   "source": [
    "\n",
    "def check_max(a,b):\n",
    "    max_num = 0\n",
    "    if a > b:\n",
    "        max_num = a\n",
    "    else:\n",
    "        max_num = b\n",
    "    return max_num\n",
    "\n",
    "\n",
    "list2 = [2,4,6,8,10,20,50]\n",
    "max_element = functools.reduce(check_max,list2)\n",
    "\n",
    "print(max_element)"
   ]
  },
  {
   "cell_type": "markdown",
   "id": "beb0d823-42c9-42e7-ab74-e78019b067dc",
   "metadata": {},
   "source": [
    "4. How can you use the `reduce()` function to concatenate a list of strings into a single string?"
   ]
  },
  {
   "cell_type": "code",
   "execution_count": 8,
   "id": "47ca1937-fa9f-4889-a2c8-13f0736ddb85",
   "metadata": {},
   "outputs": [
    {
     "name": "stdout",
     "output_type": "stream",
     "text": [
      "trevor serem is clever\n"
     ]
    }
   ],
   "source": [
    "string_list = ['trevor ','serem ','is',' clever']\n",
    "def join(a,b):\n",
    "    return a + b\n",
    "\n",
    "joined = functools.reduce(join,string_list)\n",
    "\n",
    "print(joined)\n",
    "    "
   ]
  },
  {
   "cell_type": "markdown",
   "id": "a1df304f-9cb2-4fff-ac0d-3505061e3eb8",
   "metadata": {},
   "source": [
    "5. Write a Python program that calculates the factorial of a number using the `reduce()` function"
   ]
  },
  {
   "cell_type": "code",
   "execution_count": 16,
   "id": "e6d63a65-7101-4e33-9f84-d392a158a21d",
   "metadata": {},
   "outputs": [
    {
     "name": "stdin",
     "output_type": "stream",
     "text": [
      "Enter a number to find its factorial:  10\n"
     ]
    },
    {
     "name": "stdout",
     "output_type": "stream",
     "text": [
      "the factorial of 10 is 3628800\n"
     ]
    }
   ],
   "source": [
    "num = int(input('Enter a number to find its factorial: '))\n",
    "if num < 0:\n",
    "    print('Factorial is not defined for negative numbers')\n",
    "elif num == 1:\n",
    "    print(f'the factorial of {num} is 1')\n",
    "else:\n",
    "    fact_list = list(range(1,num+1))\n",
    "\n",
    "\n",
    "    fact = functools.reduce(lambda a,b: a*b,fact_list)\n",
    "\n",
    "    print(f'the factorial of {num} is {fact}')\n"
   ]
  },
  {
   "cell_type": "markdown",
   "id": "bb6df2ed-651a-4f19-960a-9185d3e28aeb",
   "metadata": {},
   "source": [
    "6. Create a Python program that uses `reduce()` to find the GCD (Greatest Common Divisor) of a list\n",
    "of numbers."
   ]
  },
  {
   "cell_type": "code",
   "execution_count": 19,
   "id": "11daf6f7-c986-4e44-9e71-5b57ba80a4aa",
   "metadata": {},
   "outputs": [
    {
     "name": "stdout",
     "output_type": "stream",
     "text": [
      "6\n"
     ]
    }
   ],
   "source": [
    "def gcd(a, b):\n",
    "    \"\"\"Calculate the Greatest Common Divisor (GCD) using Euclidean algorithm.\"\"\"\n",
    "    while b:\n",
    "        a, b = b, a % b\n",
    "    return a\n",
    "\n",
    "\"\"\"Find the GCD of a list of numbers using reduce.\"\"\"\n",
    "    \n",
    "numbers = [48,18]\n",
    "gcd_result = functools.reduce(gcd,numbers)\n",
    "print(gcd_result)\n"
   ]
  },
  {
   "cell_type": "markdown",
   "id": "5934c2d1-391a-40a3-b958-b4642d958aba",
   "metadata": {},
   "source": [
    "7. Write a Python program that uses the `reduce()` function to find the sum of the digits of a given\n",
    "number.\n"
   ]
  },
  {
   "cell_type": "code",
   "execution_count": 29,
   "id": "1879202d-226f-40c6-9e7f-143389f42803",
   "metadata": {},
   "outputs": [
    {
     "name": "stdout",
     "output_type": "stream",
     "text": [
      "15\n"
     ]
    }
   ],
   "source": [
    "number = 555\n",
    "# split the number to individual digits\n",
    "digits = [int(i) for i in str(number)]\n",
    "sum_digits = functools.reduce(lambda a,b : a+b,digits)\n",
    "\n",
    "print(sum_digits)"
   ]
  },
  {
   "cell_type": "code",
   "execution_count": 25,
   "id": "b21e697e-1171-4189-bb6a-a36bd4f8322d",
   "metadata": {},
   "outputs": [
    {
     "data": {
      "text/plain": [
       "[5, 5, 5]"
      ]
     },
     "execution_count": 25,
     "metadata": {},
     "output_type": "execute_result"
    }
   ],
   "source": [
    "digits"
   ]
  },
  {
   "cell_type": "markdown",
   "id": "05211500-4aab-4c81-8676-3e8fa0bd37c3",
   "metadata": {
    "tags": []
   },
   "source": [
    "## Filter :-"
   ]
  },
  {
   "cell_type": "markdown",
   "id": "a68331c0-ff7c-40be-880c-ac1629212a54",
   "metadata": {},
   "source": [
    "1. Explain the purpose of the `filter()` function in Python and provide an example of how it can be\n",
    "used to filter elements from an iterable."
   ]
  },
  {
   "cell_type": "markdown",
   "id": "0dee31aa-7d1d-4fd8-bc90-f90a2527c417",
   "metadata": {},
   "source": [
    "The filter() function in Python is used to construct an iterator from elements of an iterable for which a function returns true. Essentially, it's a way to filter out elements from an iterable based on a certain condition specified by a function."
   ]
  },
  {
   "cell_type": "code",
   "execution_count": 33,
   "id": "4330ed51-6dc5-4317-b300-8ddfef39827d",
   "metadata": {},
   "outputs": [],
   "source": [
    "# syntax\n",
    "# filter(function, iterable)\n"
   ]
  },
  {
   "cell_type": "code",
   "execution_count": 38,
   "id": "54fc6dbf-c141-4d56-bb2c-cd42298bb3e3",
   "metadata": {},
   "outputs": [
    {
     "name": "stdout",
     "output_type": "stream",
     "text": [
      "numbers greater than 4 are: [5, 6, 7, 8, 9, 10]\n"
     ]
    }
   ],
   "source": [
    "# example\n",
    "numbers = [1,2,3,4,5,6,7,8,9,10]\n",
    "\n",
    "numbers_greater_than_4 = list(filter(lambda i: i>=5,numbers))\n",
    "\n",
    "print(f'numbers greater than 4 are: {numbers_greater_than_5}')"
   ]
  },
  {
   "cell_type": "markdown",
   "id": "02325600-acdf-433b-8a77-0ea85baa5ca9",
   "metadata": {},
   "source": [
    "2. Write a Python program that uses the `filter()` function to select even numbers from a list of\n",
    "integers."
   ]
  },
  {
   "cell_type": "code",
   "execution_count": 41,
   "id": "ea01cfd2-ebce-446c-b646-b3b678bd44f0",
   "metadata": {},
   "outputs": [
    {
     "name": "stdout",
     "output_type": "stream",
     "text": [
      "[2, 4, 6, 8, 10]\n"
     ]
    }
   ],
   "source": [
    "numbers = [1,2,3,4,5,6,7,8,9,10]\n",
    "\n",
    "def is_even(num):\n",
    "    return num%2 == 0\n",
    "    \n",
    "even_numbers = list(filter(is_even,numbers))\n",
    "print(even_numbers)"
   ]
  },
  {
   "cell_type": "markdown",
   "id": "a1889e23-7254-4f52-a801-c052e91550f3",
   "metadata": {},
   "source": [
    "3. Create a Python program that uses the `filter()` function to select names that start with a specific\n",
    "letter from a list of strings.\n"
   ]
  },
  {
   "cell_type": "code",
   "execution_count": 42,
   "id": "4a6b0c11-092b-4490-86ca-bbd7150ebf19",
   "metadata": {},
   "outputs": [
    {
     "name": "stdout",
     "output_type": "stream",
     "text": [
      "['serem', 'student']\n"
     ]
    }
   ],
   "source": [
    "my_names = ['serem','ken','lecturer','student']\n",
    "\n",
    "def check_start_s(word):\n",
    "    return word[0] == 's'\n",
    "\n",
    "filtered = list(filter(check_start_s,my_names))\n",
    "print(filtered)"
   ]
  },
  {
   "cell_type": "markdown",
   "id": "2ac76943-fbf0-498a-bd55-277abd98a97a",
   "metadata": {},
   "source": [
    "4. Write a Python program that uses the `filter()` function to select prime numbers from a list of\n",
    "integers."
   ]
  },
  {
   "cell_type": "code",
   "execution_count": 18,
   "id": "59278025-dffc-403e-b1e3-225927f203df",
   "metadata": {},
   "outputs": [],
   "source": [
    "import math\n",
    "def isprime(num):\n",
    "    if num < 2:\n",
    "        return False\n",
    "    \n",
    "    if num == 2:\n",
    "        return True\n",
    "    \n",
    "    if num % 2 == 0:\n",
    "        return False\n",
    "    \n",
    "    max_divisor = math.isqrt(num)+1\n",
    "    \n",
    "    for i in range(3,max_divisor,2):\n",
    "        if num % i == 0:\n",
    "            return False\n",
    "    return True"
   ]
  },
  {
   "cell_type": "code",
   "execution_count": 19,
   "id": "8bd0f131-0ad5-4a10-ab9c-0405f08ba3fd",
   "metadata": {},
   "outputs": [
    {
     "name": "stdout",
     "output_type": "stream",
     "text": [
      "The prime numbers are:  [2, 3, 5, 7]\n"
     ]
    }
   ],
   "source": [
    "# example list\n",
    "list2 = [1,2,3,4,5,6,7,8,9,10]\n",
    "\n",
    "prime_nums = list(filter(isprime,list2))\n",
    "print('The prime numbers are: ',prime_nums)"
   ]
  },
  {
   "cell_type": "code",
   "execution_count": 8,
   "id": "047c49c7-6037-40dc-9ef8-1807816e6e92",
   "metadata": {},
   "outputs": [
    {
     "data": {
      "text/plain": [
       "5"
      ]
     },
     "execution_count": 8,
     "metadata": {},
     "output_type": "execute_result"
    }
   ],
   "source": [
    "max_divisor"
   ]
  },
  {
   "cell_type": "markdown",
   "id": "d61204f0-ba66-4ddd-854c-74fff5c5e44c",
   "metadata": {},
   "source": [
    "5. How can you use the `filter()` function to remove None values from a list in Python?"
   ]
  },
  {
   "cell_type": "code",
   "execution_count": 24,
   "id": "b740be51-bdc8-4a37-9457-ed678e51d79c",
   "metadata": {},
   "outputs": [
    {
     "name": "stdout",
     "output_type": "stream",
     "text": [
      "[1, 2, 3, 4, 5, 6]\n"
     ]
    }
   ],
   "source": [
    "def remove_none(item):\n",
    "    return item is not None\n",
    "\n",
    "my_list = [1,2,None,3,4,5,None,6,None]\n",
    "filtered = list(filter(remove_none,my_list))\n",
    "print(filtered)"
   ]
  },
  {
   "cell_type": "markdown",
   "id": "30661dff-ee6f-4c9e-8b35-874cc47e5652",
   "metadata": {},
   "source": [
    "6. Create a Python program that uses `filter()` to select words longer than a certain length from a\n",
    "list of strings"
   ]
  },
  {
   "cell_type": "code",
   "execution_count": 25,
   "id": "5bd2095b-6496-4a0f-869f-ef78885d4b72",
   "metadata": {},
   "outputs": [
    {
     "name": "stdout",
     "output_type": "stream",
     "text": [
      "['serem', 'trevor']\n"
     ]
    }
   ],
   "source": [
    "def check_length(word):\n",
    "    return len(word) > 4\n",
    "\n",
    "my_list = ['serem','pk','trevor','esc']\n",
    "filtered_words = list(filter(check_length,my_list))\n",
    "\n",
    "print(filtered_words)"
   ]
  },
  {
   "cell_type": "markdown",
   "id": "af89529c-9158-4b4e-a17d-887da91fcb70",
   "metadata": {},
   "source": [
    "7. Write a Python program that uses the `filter()` function to select elements greater than a\n",
    "specified threshold from a list of values."
   ]
  },
  {
   "cell_type": "code",
   "execution_count": 26,
   "id": "242ee5f0-ded8-4a0b-abc6-7b11bbfe9d38",
   "metadata": {},
   "outputs": [
    {
     "name": "stdout",
     "output_type": "stream",
     "text": [
      "the numbers greater than 14 are:  [15, 17, 19, 20]\n"
     ]
    }
   ],
   "source": [
    "my_list = [5,7,8,9,12,15,14,17,19,20]\n",
    "\n",
    "\n",
    "greater_14 = list(filter(lambda num: num>14,my_list))\n",
    "\n",
    "print('the numbers greater than 14 are: ',greater_14)"
   ]
  },
  {
   "cell_type": "markdown",
   "id": "0c4bdd25-4b6c-46bd-b644-48ddaa66277f",
   "metadata": {
    "tags": []
   },
   "source": [
    "## Recursion:-"
   ]
  },
  {
   "cell_type": "markdown",
   "id": "3b4c7867-bcd3-4ffe-9438-989c00fe6833",
   "metadata": {},
   "source": [
    "1. Explain the concept of recursion in Python. How does it differ from iteration?"
   ]
  },
  {
   "cell_type": "markdown",
   "id": "604404ad-d30b-49da-ae8a-033cd05ea829",
   "metadata": {},
   "source": [
    "Recursion:\n",
    "Recursion is a programming technique where a function calls itself in order to solve a problem. In a recursive function, the problem is divided into smaller, similar subproblems, and the function is applied recursively to these subproblems. This process continues until a base case is reached, which is a simple case that can be solved directly without further recursion. The results from the base cases are combined to obtain the final result.\n",
    "\n",
    "A recursive function generally consists of two parts:\n",
    "\n",
    "Base Case: The condition that defines when the recursion should stop and provides a known answer for the simplest cases.\n",
    "Recursive Case: The function calls itself with a modified input, making the problem smaller and closer to the base case.\n",
    "\n",
    "Iteration:\n",
    "Iteration involves repeatedly executing a set of statements a certain number of times or until a specific condition is met. It uses loops (e.g., for loop, while loop) to execute a block of code iteratively. In iteration, the program explicitly controls the flow based on the loop structure and the termination condition.\n",
    "\n",
    "Differences:\n",
    "\n",
    "Control Flow:\n",
    "Recursion: Control flow is managed implicitly through function calls, and the base case determines the termination.\n",
    "Iteration: Control flow is explicit and managed using loops with defined entry and exit conditions.\n",
    "Space Complexity:\n",
    "Recursion: Typically consumes more memory due to the call stack, which stores intermediate states for each recursive call.\n",
    "Iteration: Generally has a lower memory footprint as it doesn't involve additional call stack memory.\n",
    "Code Clarity:\n",
    "Recursion: Can lead to more concise and elegant code for problems that naturally exhibit a recursive structure.\n",
    "Iteration: May be more straightforward and easier to understand for some problems, especially those that don't have a natural recursive structure."
   ]
  },
  {
   "cell_type": "markdown",
   "id": "69a17096-2e10-42fa-aa66-e394b4af997d",
   "metadata": {},
   "source": [
    "2. Write a Python program to calculate the factorial of a number using recursion."
   ]
  },
  {
   "cell_type": "code",
   "execution_count": 28,
   "id": "ddb57fe8-c48c-4fe8-9aab-e74e5da3afb8",
   "metadata": {},
   "outputs": [
    {
     "data": {
      "text/plain": [
       "120"
      ]
     },
     "execution_count": 28,
     "metadata": {},
     "output_type": "execute_result"
    }
   ],
   "source": [
    "def factorial(num):\n",
    "    if num == 0:\n",
    "        return 1\n",
    "    return num*factorial(num-1)\n",
    "\n",
    "factorial(5)"
   ]
  },
  {
   "cell_type": "markdown",
   "id": "5c04e747-002a-4386-8f5a-fe736452fcec",
   "metadata": {},
   "source": [
    "3. Create a recursive Python function to find the nth Fibonacci number.\n"
   ]
  },
  {
   "cell_type": "code",
   "execution_count": 30,
   "id": "c2f2dcdc-5517-4cd5-b739-2ffb5c073995",
   "metadata": {},
   "outputs": [
    {
     "data": {
      "text/plain": [
       "55"
      ]
     },
     "execution_count": 30,
     "metadata": {},
     "output_type": "execute_result"
    }
   ],
   "source": [
    "def fibonacci(n):\n",
    "    if n == 0:\n",
    "        return 0\n",
    "    elif n == 1:\n",
    "        return 1\n",
    "    else:\n",
    "        return fibonacci(n-1)+fibonacci(n-2)\n",
    "    \n",
    "fibonacci()"
   ]
  },
  {
   "cell_type": "markdown",
   "id": "7a7cf5b1-2aac-4cfb-a37b-c611d7c75893",
   "metadata": {},
   "source": [
    "4. Write a recursive Python function to calculate the sum of all elements in a list."
   ]
  },
  {
   "cell_type": "code",
   "execution_count": 32,
   "id": "a190acd3-5b0a-44e8-8079-56dc76faa8e4",
   "metadata": {},
   "outputs": [
    {
     "data": {
      "text/plain": [
       "45"
      ]
     },
     "execution_count": 32,
     "metadata": {},
     "output_type": "execute_result"
    }
   ],
   "source": [
    "def list_sum(lst):\n",
    "    if not lst:\n",
    "        return 0\n",
    "    else:\n",
    "        return lst[0]+list_sum(lst[1:])\n",
    "\n",
    "my_list = [5,6,7,8,9,10]\n",
    "list_sum(my_list)\n",
    "        \n",
    "    "
   ]
  },
  {
   "cell_type": "markdown",
   "id": "eda7074a-1b93-4691-8baa-72da5cd4a680",
   "metadata": {},
   "source": [
    "5. How can you prevent a recursive function from running indefinitely, causing a stack overflow\n",
    "error?"
   ]
  },
  {
   "cell_type": "markdown",
   "id": "68bfda91-81f3-4dbc-90fa-b3a1e66cdce7",
   "metadata": {},
   "source": [
    "To prevent a recursive function from running indefinitely and causing a stack overflow error, you need to implement proper termination conditions and ensure that the recursion eventually reaches these termination conditions.\n",
    "\n",
    "ensure you have a well defined base-case and ensuring each recursive call progresses towards the bas-case"
   ]
  },
  {
   "cell_type": "markdown",
   "id": "5f2ef764-0dd4-4efb-9664-a44b9b12d1e3",
   "metadata": {},
   "source": [
    "6. Create a recursive Python function to find the greatest common divisor (GCD) of two numbers\n",
    "using the Euclidean algorithm."
   ]
  },
  {
   "cell_type": "code",
   "execution_count": 36,
   "id": "8d3e1a9d-5f46-449d-928e-ba3873e56ccd",
   "metadata": {},
   "outputs": [
    {
     "data": {
      "text/plain": [
       "6"
      ]
     },
     "execution_count": 36,
     "metadata": {},
     "output_type": "execute_result"
    }
   ],
   "source": [
    "def gcd(a,b):\n",
    "    if b == 0:\n",
    "        return a\n",
    "    else:\n",
    "        return gcd(b,a%b)\n",
    "    \n",
    "num1 = 48\n",
    "num2 = 18\n",
    "gcd(num1,num2)"
   ]
  },
  {
   "cell_type": "markdown",
   "id": "69d83134-c1cb-4514-9e8a-42f378d24f1f",
   "metadata": {},
   "source": [
    "7. Write a recursive Python function to reverse a string.\n"
   ]
  },
  {
   "cell_type": "code",
   "execution_count": 2,
   "id": "f8eb39fe-04e9-4098-b932-56aa10d14b38",
   "metadata": {},
   "outputs": [
    {
     "data": {
      "text/plain": [
       "'meres'"
      ]
     },
     "execution_count": 2,
     "metadata": {},
     "output_type": "execute_result"
    }
   ],
   "source": [
    "def reverse(string):\n",
    "    if len(string) == 1:\n",
    "        return string\n",
    "    else:\n",
    "        return reverse(string[1:])+ string[0]\n",
    "        \n",
    "reverse('serem')\n",
    "    "
   ]
  },
  {
   "cell_type": "markdown",
   "id": "8107e65e-3cdf-42c1-b14d-99d464f3e4f3",
   "metadata": {},
   "source": [
    "8. Create a recursive Python function to calculate the power of a number (x^n)."
   ]
  },
  {
   "cell_type": "code",
   "execution_count": 5,
   "id": "cf24fa01-b6c1-4ef5-b1dc-262a3a33a51d",
   "metadata": {},
   "outputs": [
    {
     "name": "stdin",
     "output_type": "stream",
     "text": [
      "enter a number to find its power:  10\n",
      "to what power?  3\n"
     ]
    },
    {
     "data": {
      "text/plain": [
       "1000"
      ]
     },
     "execution_count": 5,
     "metadata": {},
     "output_type": "execute_result"
    }
   ],
   "source": [
    "def power(x,n):\n",
    "    if n == 0:\n",
    "        return 1\n",
    "    else:\n",
    "        return x* power(x,n-1)\n",
    "    \n",
    "x=int(input('enter a number to find its power: '))\n",
    "n=int(input('to what power? '))\n",
    "power(x,n)\n",
    "    "
   ]
  },
  {
   "cell_type": "markdown",
   "id": "32758cd4-02f9-4e52-a117-5f60306b1a84",
   "metadata": {},
   "source": [
    "9. Write a recursive Python function to find all permutations of a given string.\n"
   ]
  },
  {
   "cell_type": "code",
   "execution_count": 12,
   "id": "5940d723-cdc4-4145-a0e8-74ebfdad1459",
   "metadata": {},
   "outputs": [
    {
     "name": "stdout",
     "output_type": "stream",
     "text": [
      "['heh', 'hhe', 'ehh', 'hhe', 'heh']\n"
     ]
    }
   ],
   "source": [
    "def generate_permutations(s):\n",
    "    if len(s) <= 1:\n",
    "        return [s]\n",
    "    \n",
    "    permutations = []\n",
    "    for i, char in enumerate(s):\n",
    "        # Exclude duplicates to avoid repeated permutations\n",
    "        if i > 0 and s[i] == s[i - 1]:\n",
    "            continue\n",
    "\n",
    "        remaining_chars = s[:i] + s[i + 1:]\n",
    "        for sub_permutation in generate_permutations(remaining_chars):\n",
    "            permutations.append(char + sub_permutation)\n",
    "    \n",
    "    return permutations\n",
    "\n",
    "# Example usage\n",
    "string_to_permute = \"heh\"\n",
    "permutations = generate_permutations(string_to_permute)\n",
    "print(permutations)\n"
   ]
  },
  {
   "cell_type": "markdown",
   "id": "f7cafa1c-04b6-4dae-9914-188b24b411e3",
   "metadata": {},
   "source": [
    "10. Write a recursive Python function to check if a string is a palindrome."
   ]
  },
  {
   "cell_type": "code",
   "execution_count": 15,
   "id": "a35c01ea-2c1c-43d1-b8ec-2871d71741df",
   "metadata": {},
   "outputs": [
    {
     "data": {
      "text/plain": [
       "True"
      ]
     },
     "execution_count": 15,
     "metadata": {},
     "output_type": "execute_result"
    }
   ],
   "source": [
    "def is_palindrome(string):\n",
    "    # Base case: a string with 0 or 1 characters is a palindrome\n",
    "    if len(string) == 1:\n",
    "        return True\n",
    "    if string[0].lower() != string[-1].lower():\n",
    "        return False\n",
    "    else:\n",
    "        return is_palindrome(string[1:-1])\n",
    "    \n",
    "is_palindrome('madam')"
   ]
  },
  {
   "cell_type": "markdown",
   "id": "6922b0ad-081b-47d9-af40-787abc3cc1fd",
   "metadata": {},
   "source": [
    "11. Create a recursive Python function to generate all possible combinations of a list of elements."
   ]
  },
  {
   "cell_type": "code",
   "execution_count": 16,
   "id": "f6142691-6c14-4689-a267-a35f17f1b527",
   "metadata": {},
   "outputs": [
    {
     "name": "stdout",
     "output_type": "stream",
     "text": [
      "[[1, 2, 3], [1, 2], [1, 3], [1], [2, 3], [2], [3], []]\n"
     ]
    }
   ],
   "source": [
    "def generate_combinations(elements):\n",
    "    # Base case: if the list is empty, return an empty combination\n",
    "    if not elements:\n",
    "        return [[]]\n",
    "\n",
    "    # Generate combinations excluding the first element\n",
    "    combinations_without_first = generate_combinations(elements[1:])\n",
    "    \n",
    "    # Generate combinations including the first element\n",
    "    combinations_with_first = [[elements[0]] + rest for rest in combinations_without_first]\n",
    "\n",
    "    # Combine the two sets of combinations\n",
    "    return combinations_with_first + combinations_without_first\n",
    "\n",
    "# Example usage\n",
    "elements_to_combine = [1, 2, 3]\n",
    "combinations = generate_combinations(elements_to_combine)\n",
    "print(combinations)\n"
   ]
  },
  {
   "cell_type": "markdown",
   "id": "e493b977-6e48-4f3e-adac-62671e89cc6c",
   "metadata": {
    "tags": []
   },
   "source": [
    "## Basics of Functions:"
   ]
  },
  {
   "cell_type": "markdown",
   "id": "5658aef4-2c06-4342-b3e0-97282830e5bc",
   "metadata": {},
   "source": [
    "1. What is a function in Python, and why is it used?\n"
   ]
  },
  {
   "cell_type": "markdown",
   "id": "7a4b8f2b-e623-4fa4-a301-f90a5958d00b",
   "metadata": {},
   "source": [
    " a function is a block of organized, reusable code that performs a specific task or a group of related tasks. It is defined using the def keyword followed by the function name, parameters (if any), a colon, and the code block that constitutes the function's body. Functions can accept inputs (parameters), process them, and return results."
   ]
  },
  {
   "cell_type": "markdown",
   "id": "1dd4f146-43c2-41c5-b589-9c03c77b24c3",
   "metadata": {},
   "source": [
    "why we use functions::\n",
    "    1.Code Organization: Functions help in organizing the codebase by grouping related functionality together, making it easier to navigate and maintain.\n",
    "    2.Modularity and Reusability: Functions promote modularity by allowing you to break down a complex program into smaller, manageable pieces. These pieces can be reused in       multiple parts of your program or even in different programs, improving code reuse and maintainability.\n",
    "    3.Abstraction: Functions allow you to abstract away the implementation details and focus on what a piece of code does rather than how it achieves the result. This makes         the code easier to understand and use.\n",
    "    4.Avoiding Code Duplication: Functions allow you to avoid writing the same code multiple times by encapsulating common logic into a function that can be called whenever         needed.\n",
    "    "
   ]
  },
  {
   "cell_type": "markdown",
   "id": "b3c10e16-c131-48e0-89af-67fdf60f051f",
   "metadata": {},
   "source": [
    "2.How do you define a function in Python? Provide an example."
   ]
  },
  {
   "cell_type": "markdown",
   "id": "fc849243-205f-424b-ab3a-7a0b20197fdf",
   "metadata": {},
   "source": [
    " you use the def keyword followed by the function name, parentheses for parameters (if any), a colon, and then the code block that makes up the function's body. "
   ]
  },
  {
   "cell_type": "code",
   "execution_count": 1,
   "id": "8960b4f8-0183-4997-a86e-b3ba3b766c41",
   "metadata": {},
   "outputs": [
    {
     "name": "stdout",
     "output_type": "stream",
     "text": [
      "The sum is: 8\n"
     ]
    }
   ],
   "source": [
    "#syntax\n",
    "def function_name(parameters):\n",
    "    # Function body\n",
    "    # Statements that define what the function does\n",
    "    # Optionally, return a value using the return keyword\n",
    "    return something\n",
    "## simple function that adds 2 numbers\n",
    "def add_numbers(a, b):\n",
    "    \"\"\"This function adds two numbers and returns the sum.\"\"\"\n",
    "    sum_result = a + b\n",
    "    return sum_result\n",
    "\n",
    "# Call the function and print the result\n",
    "result = add_numbers(3, 5)\n",
    "print(\"The sum is:\", result) \n"
   ]
  },
  {
   "cell_type": "markdown",
   "id": "4b45232c-344f-45ac-ab28-a98aeb3f090b",
   "metadata": {},
   "source": [
    "3. Explain the difference between a function definition and a function call."
   ]
  },
  {
   "cell_type": "markdown",
   "id": "8dad1e93-519b-452a-b1f9-14354f6692fd",
   "metadata": {},
   "source": [
    "Function Definition:\n",
    "\n",
    "A function definition is where you define the structure, behavior, and logic of a function in Python.\n",
    "It starts with the def keyword, followed by the function name, parameter list (if any), a colon, and the function body.\n",
    "The function body contains the code that specifies what the function does when it's called.\n",
    "It defines how the function will behave when invoked with certain inputs.\n",
    "The function definition provides the blueprint for how the function will operate, but it doesn't execute any code until the function is called."
   ]
  },
  {
   "cell_type": "code",
   "execution_count": 3,
   "id": "658531d4-14cc-41ee-a4ac-9d987eba0edc",
   "metadata": {},
   "outputs": [],
   "source": [
    "# for example\n",
    "def greet(name):\n",
    "    \"\"\"This function greets the person passed in as an argument.\"\"\"\n",
    "    print(\"Hello, \" + name + \"!\")\n"
   ]
  },
  {
   "cell_type": "markdown",
   "id": "0d67c321-000f-4303-b439-64939bf36afc",
   "metadata": {},
   "source": [
    "Function Call (Invoking a Function):\n",
    "\n",
    "A function call is where you use the defined function in your code by providing the required arguments (if any).\n",
    "It is the actual execution of the function and the use of its defined logic to perform a specific task or computation.\n",
    "The function call is made using the function name followed by parentheses containing the arguments (if any) that the function expects.\n",
    "When a function is called, the program jumps to the defined function, executes the code inside it with the provided arguments, and then returns control to the calling point.\n",
    "A function call may also return a value (or None if not specified) that can be used or assigned to a variable."
   ]
  },
  {
   "cell_type": "code",
   "execution_count": 5,
   "id": "bf18b4f2-6ae2-45c8-be20-8aa5188be9b8",
   "metadata": {},
   "outputs": [
    {
     "name": "stdout",
     "output_type": "stream",
     "text": [
      "Hello, Alice!\n"
     ]
    }
   ],
   "source": [
    "# function call\n",
    "greet(\"Alice\")  # Calling the greet function with \"Alice\" as the argument\n"
   ]
  },
  {
   "cell_type": "markdown",
   "id": "51534d8a-4605-4910-8208-973ac1ead9ba",
   "metadata": {},
   "source": [
    "4. Write a Python program that defines a function to calculate the sum of two numbers and then\n",
    "calls the function."
   ]
  },
  {
   "cell_type": "code",
   "execution_count": 7,
   "id": "c2110a21-fea3-4f50-9405-968b10628bf9",
   "metadata": {},
   "outputs": [
    {
     "name": "stdin",
     "output_type": "stream",
     "text": [
      "Enter the first number:  4\n",
      "Enter the second number:  4\n"
     ]
    },
    {
     "name": "stdout",
     "output_type": "stream",
     "text": [
      "The sum of 4.0 and 4.0 is: 8.0\n"
     ]
    }
   ],
   "source": [
    "def calculate_sum(a, b):\n",
    "    \"\"\"This function calculates the sum of two numbers.\"\"\"\n",
    "    return a + b\n",
    "\n",
    "# Prompt the user to enter two numbers\n",
    "num1 = float(input(\"Enter the first number: \"))\n",
    "num2 = float(input(\"Enter the second number: \"))\n",
    "\n",
    "# Call the function to calculate the sum\n",
    "result_sum = calculate_sum(num1, num2)\n",
    "\n",
    "# Display the sum\n",
    "print(\"The sum of\", num1, \"and\", num2, \"is:\", result_sum)\n"
   ]
  },
  {
   "cell_type": "markdown",
   "id": "e813fb0c-af2c-438a-8ebe-cd49e6d950a5",
   "metadata": {},
   "source": [
    "5. What is a function signature, and what information does it typically include?"
   ]
  },
  {
   "cell_type": "markdown",
   "id": "6f39d5fc-6ea0-4a91-8c61-b4e1dcbaa56c",
   "metadata": {},
   "source": [
    "A function signature, often referred to as the function prototype, provides a high-level description of a function in a programming language. It defines the function's interface by specifying the function's name, return type, and the types of parameters it accepts (including their names). The function signature typically does not include the function's actual implementation or body."
   ]
  },
  {
   "cell_type": "markdown",
   "id": "91a799c7-9c63-4691-858d-db25789cc27d",
   "metadata": {},
   "source": [
    "A function signature includes the following information:\n",
    "\n",
    "Function Name:\n",
    "The name that identifies the function. It is used to call the function in the program.\n",
    "\n",
    "Return Type:\n",
    "The data type of the value that the function will return after execution. It can be any valid data type in the programming language.\n",
    "\n",
    "Parameters (if any):\n",
    "The list of parameters the function accepts, including their data types and names.\n",
    "Each parameter includes its data type and a name that will be used to refer to it within the function."
   ]
  },
  {
   "cell_type": "code",
   "execution_count": 10,
   "id": "4a166075-4140-409b-9dd0-6134cc5f2712",
   "metadata": {},
   "outputs": [],
   "source": [
    "#function signature\n",
    "def add_numbers(a: int, b: int) -> int:\n",
    "    # Function body will define the actual implementation\n",
    "    return a + b\n"
   ]
  },
  {
   "cell_type": "markdown",
   "id": "de29c288-d316-4bc8-b4cc-8b88a50fb6c5",
   "metadata": {},
   "source": [
    "6. Create a Python function that takes two arguments and returns their product."
   ]
  },
  {
   "cell_type": "code",
   "execution_count": 11,
   "id": "8d21b8dd-d8d7-4ae8-b9d0-c6ff05e65170",
   "metadata": {},
   "outputs": [
    {
     "name": "stdout",
     "output_type": "stream",
     "text": [
      "The product is: 35\n"
     ]
    }
   ],
   "source": [
    "def calculate_product(a, b):\n",
    "    \"\"\"This function calculates the product of two numbers.\"\"\"\n",
    "    return a * b\n",
    "\n",
    "# Example usage\n",
    "result_product = calculate_product(5, 7)\n",
    "print(\"The product is:\", result_product) \n"
   ]
  },
  {
   "cell_type": "markdown",
   "id": "e4c25d4d-664e-4ed8-aa42-0840224643e4",
   "metadata": {
    "tags": []
   },
   "source": [
    "## Function Parameters and Arguments:"
   ]
  },
  {
   "cell_type": "markdown",
   "id": "6f6349b5-f07c-4ee0-9843-d99183dda1bb",
   "metadata": {},
   "source": [
    "1. Explain the concepts of formal parameters and actual arguments in Python functions.\n"
   ]
  },
  {
   "cell_type": "markdown",
   "id": "f8a9878d-05b4-4b83-a9e0-47ffd6b19870",
   "metadata": {},
   "source": [
    "Formal Parameters:\n",
    "\n",
    "Formal parameters are placeholders or symbolic names used to represent the values that a function expects to receive during a function call.\n",
    "These parameters are defined in the function header when the function is defined, specifying the names that will be used to refer to the passed values within the function.\n",
    "Formal parameters are variables local to the function and are scoped to the function's body."
   ]
  },
  {
   "cell_type": "code",
   "execution_count": 14,
   "id": "032142b5-7e63-4357-9a1f-f469dd7c8c31",
   "metadata": {},
   "outputs": [],
   "source": [
    "def add_numbers(a, b):  # 'a' and 'b' are formal parameters\n",
    "    return a + b\n"
   ]
  },
  {
   "cell_type": "markdown",
   "id": "3dfdfe5b-ef2b-497d-ae18-27c05daa78e5",
   "metadata": {},
   "source": [
    "Actual Arguments:\n",
    "\n",
    "Actual arguments (or arguments) are the values passed to a function when it is called. These are the real values that correspond to the formal parameters.\n",
    "Actual arguments can be literals, variables, expressions, or any valid Python expressions that evaluate to a value.\n",
    "These are provided in the function call and are used to initialize the formal parameters defined in the function header."
   ]
  },
  {
   "cell_type": "code",
   "execution_count": 15,
   "id": "05dd3c65-16a6-46c8-9ffd-e1158852666f",
   "metadata": {},
   "outputs": [],
   "source": [
    "result = add_numbers(3, 5)  # '3' and '5' are actual arguments\n"
   ]
  },
  {
   "cell_type": "markdown",
   "id": "385a803c-cf1e-437e-bca5-b841e78542f4",
   "metadata": {},
   "source": [
    "2. Write a Python program that defines a function with default argument values.\n"
   ]
  },
  {
   "cell_type": "code",
   "execution_count": 20,
   "id": "e69fd7a7-c21c-471c-a4ee-7ef3b83ca0e0",
   "metadata": {},
   "outputs": [
    {
     "name": "stdout",
     "output_type": "stream",
     "text": [
      "Hello, User!\n",
      "Hello, Alice!\n"
     ]
    }
   ],
   "source": [
    "def greet(name=\"User\"):\n",
    "    \"\"\"This function greets the specified name (or 'User' if no name is provided).\"\"\"\n",
    "    print(\"Hello, \" + name + \"!\")\n",
    "\n",
    "# Call the function without providing an argument\n",
    "greet()  \n",
    "\n",
    "# Call the function with an argument\n",
    "greet(\"Alice\")  \n"
   ]
  },
  {
   "cell_type": "markdown",
   "id": "05904642-edcd-4c41-b779-968bd84b2982",
   "metadata": {},
   "source": [
    "3. How do you use keyword arguments in Python function calls? Provide an example"
   ]
  },
  {
   "cell_type": "markdown",
   "id": "cdad1386-94aa-414e-b304-f94468aebd9b",
   "metadata": {},
   "source": [
    "keyword arguments allow you to pass arguments to a function by specifying the parameter name along with the value, which can make function calls more explicit and easier to read. This method is especially useful when a function has multiple parameters and you want to provide values for specific parameters without relying on the order."
   ]
  },
  {
   "cell_type": "code",
   "execution_count": 22,
   "id": "351e9d13-df98-4db8-b485-8e942e8a06ab",
   "metadata": {},
   "outputs": [
    {
     "name": "stdout",
     "output_type": "stream",
     "text": [
      "Hello, Alice!\n"
     ]
    }
   ],
   "source": [
    "# for example\n",
    "def greet(name, greeting):\n",
    "    \"\"\"This function greets the specified name with a custom greeting.\"\"\"\n",
    "    print(greeting + \", \" + name + \"!\")\n",
    "\n",
    "# Using keyword arguments in the function call\n",
    "greet( greeting=\"Hello\",name=\"Alice\")  \n",
    "\n",
    "# we ahve provided the arguments in an non-orderly way to the parameters but it is still going to work since we used the keyword arguments\n"
   ]
  },
  {
   "cell_type": "markdown",
   "id": "4b6a61f8-754d-41df-843a-4d5f050404b9",
   "metadata": {},
   "source": [
    "4. Create a Python function that accepts a variable number of arguments and calculates their sum."
   ]
  },
  {
   "cell_type": "code",
   "execution_count": 48,
   "id": "003af352-724e-417d-8594-569a61715a4b",
   "metadata": {},
   "outputs": [
    {
     "data": {
      "text/plain": [
       "9"
      ]
     },
     "execution_count": 48,
     "metadata": {},
     "output_type": "execute_result"
    }
   ],
   "source": [
    "from functools import reduce\n",
    "# using the reduce function \n",
    "def calculate_sum(*args):\n",
    "    result = reduce(lambda a,b: a+b,args)\n",
    "    return result\n",
    "\n",
    "\n",
    "\n",
    "calculate_sum(2,3,4)\n"
   ]
  },
  {
   "cell_type": "code",
   "execution_count": 39,
   "id": "60809cde-9713-4a04-9fd0-232aed999b5e",
   "metadata": {},
   "outputs": [
    {
     "data": {
      "text/plain": [
       "15"
      ]
     },
     "execution_count": 39,
     "metadata": {},
     "output_type": "execute_result"
    }
   ],
   "source": [
    "def calculate_sum(*args):\n",
    "    \"\"\"This function calculates the sum of a variable number of arguments.\"\"\"\n",
    "    # using the sum function\n",
    "    total_sum = sum(args)\n",
    "    return total_sum\n",
    "\n",
    "\n",
    "calculate_sum(3, 5, 7)\n",
    " \n",
    "\n",
    "\n"
   ]
  },
  {
   "cell_type": "markdown",
   "id": "29ae4781-b2c7-4182-abd3-0a88f9a35afe",
   "metadata": {},
   "source": [
    "5. What is the purpose of the `*args` and `**kwargs` syntax in function parameter lists?"
   ]
  },
  {
   "cell_type": "markdown",
   "id": "f411022b-9781-47a7-83f7-c3232093d686",
   "metadata": {},
   "source": [
    "*args (Arbitrary Positional Arguments):\n",
    "\n",
    "The *args syntax allows a function to accept any number of positional arguments.\n",
    "It collects these arguments into a tuple within the function, allowing you to iterate over them or perform operations."
   ]
  },
  {
   "cell_type": "code",
   "execution_count": 50,
   "id": "e8189e50-f5b5-4fd4-9fc1-46c246c7537f",
   "metadata": {},
   "outputs": [
    {
     "name": "stdout",
     "output_type": "stream",
     "text": [
      "1\n",
      "1\n",
      "2\n",
      "3\n",
      "hello\n"
     ]
    }
   ],
   "source": [
    "def example_function(*args):\n",
    "    for arg in args:\n",
    "        print(arg)\n",
    "\n",
    "example_function(1,1,2, 3, \"hello\")  \n"
   ]
  },
  {
   "cell_type": "markdown",
   "id": "6d6feb7b-1723-44aa-89e8-3d1e8a1584d2",
   "metadata": {},
   "source": [
    "**kwargs (Arbitrary Keyword Arguments):\n",
    "\n",
    "The **kwargs syntax allows a function to accept any number of keyword arguments as a dictionary.\n",
    "It collects these arguments into a dictionary within the function, allowing you to access the values using their keys."
   ]
  },
  {
   "cell_type": "code",
   "execution_count": 51,
   "id": "1ea18509-9c04-4421-958e-50764738c145",
   "metadata": {},
   "outputs": [
    {
     "name": "stdout",
     "output_type": "stream",
     "text": [
      "name: Alice\n",
      "age: 30\n"
     ]
    }
   ],
   "source": [
    "def example_function(**kwargs):\n",
    "    for key, value in kwargs.items():\n",
    "        print(f\"{key}: {value}\")\n",
    "\n",
    "example_function(name=\"Alice\", age=30)  \n"
   ]
  },
  {
   "cell_type": "markdown",
   "id": "2179a6d8-31c4-49d3-a977-ee559122c15c",
   "metadata": {
    "tags": []
   },
   "source": [
    "## Return Values and Scoping:"
   ]
  },
  {
   "cell_type": "markdown",
   "id": "dc6792fc-ddda-4a37-9678-ce3a9f151d76",
   "metadata": {},
   "source": [
    "1. Describe the role of the `return` statement in Python functions and provide examples.\n"
   ]
  },
  {
   "cell_type": "markdown",
   "id": "d15f5d6a-b6b1-4c79-b28b-bd98e8aa1eb3",
   "metadata": {},
   "source": [
    "the return statement is used to exit a function and return a value or multiple values to the caller of the function. It allows functions to provide a result or output that can be used in the calling part of the code. The return statement is optional, and if it is not included in a function, the function will return None by default."
   ]
  },
  {
   "cell_type": "code",
   "execution_count": 10,
   "id": "6072c5a0-7ecc-474d-89ac-641efbb79fb8",
   "metadata": {},
   "outputs": [],
   "source": [
    "# syntax\n",
    "def function_name(arguments):\n",
    "    # function logic\n",
    "    return value\n"
   ]
  },
  {
   "cell_type": "code",
   "execution_count": 11,
   "id": "146a5606-0b04-4d6b-9e6c-ace85ef8ddb2",
   "metadata": {},
   "outputs": [
    {
     "name": "stdout",
     "output_type": "stream",
     "text": [
      "Sum: 8\n"
     ]
    }
   ],
   "source": [
    "#Example 1: Returning a Single Value\n",
    "def add_numbers(a, b):\n",
    "    sum_result = a + b\n",
    "    return sum_result\n",
    "\n",
    "result = add_numbers(3, 5)\n",
    "print(\"Sum:\", result) \n"
   ]
  },
  {
   "cell_type": "code",
   "execution_count": 12,
   "id": "7670d821-47fc-4b56-8856-8bb778d0f2fc",
   "metadata": {},
   "outputs": [
    {
     "name": "stdout",
     "output_type": "stream",
     "text": [
      "Sum: 15\n",
      "Difference: 5\n",
      "Product: 50\n"
     ]
    }
   ],
   "source": [
    "#Example 2: Returning Multiple Values\n",
    "def calculate(a, b):\n",
    "    return a + b, a - b, a * b\n",
    "\n",
    "sum_result, diff_result, prod_result = calculate(10, 5)\n",
    "print(\"Sum:\", sum_result)   \n",
    "print(\"Difference:\", diff_result)  \n",
    "print(\"Product:\", prod_result)    "
   ]
  },
  {
   "cell_type": "code",
   "execution_count": 21,
   "id": "507c8505-6ea5-4753-8d46-bc339f97420f",
   "metadata": {},
   "outputs": [
    {
     "name": "stdout",
     "output_type": "stream",
     "text": [
      "Result: None\n"
     ]
    }
   ],
   "source": [
    "#Example 3: Returning None (default behavior)\n",
    "def no_return():\n",
    "    # This function implicitly returns None\n",
    "    #  The pass statement allows the function to be syntactically correct while not doing anything.\n",
    "    pass\n",
    "\n",
    "result = no_return()\n",
    "print(\"Result:\", result)  \n"
   ]
  },
  {
   "cell_type": "markdown",
   "id": "0629f6e8-945b-4285-83ed-0be633ebc5c3",
   "metadata": {},
   "source": [
    "2. Explain the concept of variable scope in Python, including local and global variables.\n"
   ]
  },
  {
   "cell_type": "markdown",
   "id": "6d275be4-2f5f-4e68-a873-7bff70575f4c",
   "metadata": {},
   "source": [
    "Variable scope in Python refers to the region or context in which a variable can be accessed, modified, or referenced. Python has two main types of variable scope: local and global."
   ]
  },
  {
   "cell_type": "markdown",
   "id": "276a156b-0bda-450b-8234-bcf9d91d3d7d",
   "metadata": {},
   "source": [
    "Local Variables:\n",
    "Local variables are defined within a specific function, and their scope is limited to that function. They are created when the function is called and cease to exist once the function completes its execution. Local variables cannot be accessed outside the function in which they are defined."
   ]
  },
  {
   "cell_type": "code",
   "execution_count": 27,
   "id": "909446a8-41aa-4168-b247-63ad7cae2010",
   "metadata": {},
   "outputs": [
    {
     "name": "stdout",
     "output_type": "stream",
     "text": [
      "local-variable: 10\n"
     ]
    },
    {
     "ename": "NameError",
     "evalue": "name 'local_var' is not defined",
     "output_type": "error",
     "traceback": [
      "\u001b[0;31m---------------------------------------------------------------------------\u001b[0m",
      "\u001b[0;31mNameError\u001b[0m                                 Traceback (most recent call last)",
      "Cell \u001b[0;32mIn[27], line 8\u001b[0m\n\u001b[1;32m      6\u001b[0m example_var()\n\u001b[1;32m      7\u001b[0m \u001b[38;5;66;03m# Accessing local_var outside the function will result in an error\u001b[39;00m\n\u001b[0;32m----> 8\u001b[0m \u001b[38;5;28mprint\u001b[39m(\u001b[43mlocal_var\u001b[49m)  \u001b[38;5;66;03m# This will raise a NameError    \u001b[39;00m\n",
      "\u001b[0;31mNameError\u001b[0m: name 'local_var' is not defined"
     ]
    }
   ],
   "source": [
    "def example_var():\n",
    "    local_var = 10\n",
    "    print('local-variable:', local_var)\n",
    "\n",
    "    \n",
    "example_var()\n",
    "# Accessing local_var outside the function will result in an error\n",
    "print(local_var)  # This will raise a NameError    "
   ]
  },
  {
   "cell_type": "markdown",
   "id": "53dc8e9c-064b-4e4b-9c3f-acbb752c4eee",
   "metadata": {},
   "source": [
    "Global Variables:\n",
    "Global variables are defined outside of any function and can be accessed throughout the program, including within functions. They have a broader scope and are accessible from any part of the program, provided they are not shadowed by a local variable with the same name."
   ]
  },
  {
   "cell_type": "code",
   "execution_count": 30,
   "id": "c63f0812-2b8a-4572-9882-88384925abac",
   "metadata": {},
   "outputs": [
    {
     "name": "stdout",
     "output_type": "stream",
     "text": [
      "Global variable: 20\n",
      "Modified global variable: 30\n",
      "Global variable after modification: 30\n"
     ]
    }
   ],
   "source": [
    "global_var = 20\n",
    "\n",
    "def print_global():\n",
    "    # Accessing a global variable\n",
    "    print(\"Global variable:\", global_var)\n",
    "\n",
    "def modify_global():\n",
    "    # Modifying a global variable\n",
    "    # using the global keyword so that global_var inside the function wont be treated as a local variable and we can be  able to modify it\n",
    "    global global_var\n",
    "    global_var = 30\n",
    "    print(\"Modified global variable:\", global_var)\n",
    "\n",
    "print_global()\n",
    "modify_global()\n",
    "print(\"Global variable after modification:\", global_var)\n"
   ]
  },
  {
   "cell_type": "markdown",
   "id": "c530540b-311f-40f1-8988-e130da275d85",
   "metadata": {},
   "source": [
    "3. Write a Python program that demonstrates the use of global variables within functions"
   ]
  },
  {
   "cell_type": "code",
   "execution_count": 31,
   "id": "97328d3f-fc57-4289-b3a2-03ab3285a8c9",
   "metadata": {},
   "outputs": [
    {
     "name": "stdout",
     "output_type": "stream",
     "text": [
      "Initial global_var: 10\n",
      "Modified global_var inside function: 20\n",
      "Global_var after modification: 20\n",
      "Accessed global_var inside function: 20\n"
     ]
    }
   ],
   "source": [
    "# Global variable\n",
    "global_var = 10\n",
    "\n",
    "def modify_global():\n",
    "    # Access the global variable\n",
    "    global global_var\n",
    "    global_var = 20\n",
    "    print(\"Modified global_var inside function:\", global_var)\n",
    "\n",
    "def access_global():\n",
    "    # Access the global variable without modifying it\n",
    "    print(\"Accessed global_var inside function:\", global_var)\n",
    "\n",
    "# Display the initial value of the global variable\n",
    "print(\"Initial global_var:\", global_var)\n",
    "\n",
    "# Call the function to modify the global variable\n",
    "modify_global()\n",
    "\n",
    "# Display the value of the global variable after modification\n",
    "print(\"Global_var after modification:\", global_var)\n",
    "\n",
    "# Call another function to access the global variable without modification\n",
    "access_global()\n"
   ]
  },
  {
   "cell_type": "markdown",
   "id": "ebb09d1b-155b-486f-b173-5ad97bda3555",
   "metadata": {},
   "source": [
    "4. Create a Python function that calculates the factorial of a number and returns it.\n"
   ]
  },
  {
   "cell_type": "code",
   "execution_count": 32,
   "id": "c3bad1b3-6d32-4a7c-80e4-bb7b36743bec",
   "metadata": {},
   "outputs": [
    {
     "data": {
      "text/plain": [
       "120"
      ]
     },
     "execution_count": 32,
     "metadata": {},
     "output_type": "execute_result"
    }
   ],
   "source": [
    "# using recursive function to calculate the factorial\n",
    "def factorial(num):\n",
    "    if num == 1:\n",
    "        return 1\n",
    "    return num*factorial(num-1)\n",
    "\n",
    "factorial(5)"
   ]
  },
  {
   "cell_type": "markdown",
   "id": "fb9c9275-c628-46a2-9875-2903bf3ffbe6",
   "metadata": {},
   "source": [
    "5. How can you access variables defined outside a function from within the function?"
   ]
  },
  {
   "cell_type": "markdown",
   "id": "c27766a9-7bc4-47da-8346-57109df38398",
   "metadata": {},
   "source": [
    "you can access variables defined outside a function (global variables) from within the function using the global keyword or by directly referencing the variable's name. Here are the two main ways to achieve this:"
   ]
  },
  {
   "cell_type": "markdown",
   "id": "9a2c95ec-693b-4170-aaf0-59949080cdd6",
   "metadata": {},
   "source": [
    "Using the global Keyword:\n",
    "You can use the global keyword to indicate that a variable is a global variable, even within the function. This allows you to modify the global variable from within the function."
   ]
  },
  {
   "cell_type": "code",
   "execution_count": 33,
   "id": "53d2bb3f-b56d-4e36-94e9-62b30edfb2f1",
   "metadata": {},
   "outputs": [
    {
     "name": "stdout",
     "output_type": "stream",
     "text": [
      "Before modification: 10\n",
      "After modification: 20\n"
     ]
    }
   ],
   "source": [
    "global_var = 10\n",
    "\n",
    "def modify_global():\n",
    "    global global_var\n",
    "    global_var = 20\n",
    "\n",
    "print(\"Before modification:\", global_var)  \n",
    "modify_global()\n",
    "print(\"After modification:\", global_var) \n"
   ]
  },
  {
   "cell_type": "markdown",
   "id": "63dddc55-45ff-4522-be5a-afafea33b739",
   "metadata": {},
   "source": [
    "Directly Referencing the Variable:\n",
    "If you only need to access the value of a global variable without modifying it, you can directly reference the variable's name within the function."
   ]
  },
  {
   "cell_type": "code",
   "execution_count": 35,
   "id": "4010502c-4216-432f-bdfa-14ee749a4d8c",
   "metadata": {},
   "outputs": [
    {
     "name": "stdout",
     "output_type": "stream",
     "text": [
      "Global variable value: 10\n"
     ]
    }
   ],
   "source": [
    "global_var = 10\n",
    "\n",
    "\"\"\"modifying a global variable inside a function without using the global keyword will\n",
    "create a new local variable within the function with the same name, and it won't affect the actual global variable.\"\"\"\n",
    "\n",
    "def access_global():\n",
    "    print(\"Global variable value:\", global_var)\n",
    "\n",
    "access_global() \n"
   ]
  },
  {
   "cell_type": "markdown",
   "id": "0cca31f4-107c-4a22-9069-95bd515be308",
   "metadata": {
    "tags": []
   },
   "source": [
    "## Lambda Functions and Higher-Order Functions:"
   ]
  },
  {
   "cell_type": "markdown",
   "id": "b6a400f5-0213-44db-a7a7-2c37a540f32f",
   "metadata": {},
   "source": [
    "1. What are lambda functions in Python, and when are they typically used?"
   ]
  },
  {
   "cell_type": "markdown",
   "id": "b12a11cc-2411-46d4-ac97-c6b69d7cb25e",
   "metadata": {},
   "source": [
    "Lambda functions in Python are small, anonymous (unnamed) functions defined using the lambda keyword. Unlike regular functions defined using the def keyword, lambda functions are single-expression functions with a more compact and simplified syntax."
   ]
  },
  {
   "cell_type": "code",
   "execution_count": 36,
   "id": "15d65cb1-c4a7-4e7b-850e-c786641eae6a",
   "metadata": {},
   "outputs": [
    {
     "name": "stdout",
     "output_type": "stream",
     "text": [
      "10\n"
     ]
    }
   ],
   "source": [
    "# Lambda functions are typically used in the following scenarios:\n",
    "double = lambda i: i*2\n",
    "\n",
    "print(double(5))"
   ]
  },
  {
   "cell_type": "markdown",
   "id": "c4237951-cb90-4659-8547-360b0c6e7e26",
   "metadata": {},
   "source": [
    "Functional Programming:\n",
    "Lambda functions are commonly used in functional programming paradigms like map, filter, and reduce, where functions are passed as arguments."
   ]
  },
  {
   "cell_type": "code",
   "execution_count": 55,
   "id": "f3e40777-b1d4-494a-a0c2-43a9aa538b6b",
   "metadata": {},
   "outputs": [
    {
     "name": "stdout",
     "output_type": "stream",
     "text": [
      "[1, 4, 9, 16, 25]\n"
     ]
    }
   ],
   "source": [
    "numbers = [1, 2, 3, 4, 5]\n",
    "squared_numbers = list(map(lambda x: x**2, numbers))\n",
    "print(squared_numbers)  \n"
   ]
  },
  {
   "cell_type": "code",
   "execution_count": 54,
   "id": "d208442c-0836-4fa5-8eff-1ef9422843d0",
   "metadata": {},
   "outputs": [
    {
     "name": "stdout",
     "output_type": "stream",
     "text": [
      "ken\n",
      "course bigdata\n",
      "age 18\n",
      "trevor\n",
      "course datascience\n",
      "age 25\n",
      "bryan\n",
      "course cybersecurity\n",
      "age 30\n"
     ]
    }
   ],
   "source": [
    "data = {'trevor': {'course': 'datascience', 'age': 25},\n",
    "        'bryan': {'course': 'cybersecurity', 'age': 30},\n",
    "        'ken': {'course': 'bigdata', 'age': 18}\n",
    "       }\n",
    "\n",
    "# Sort the data based on age\n",
    "sorted_data = sorted(data.items(), key=lambda x: x[1]['age'])\n",
    "\n",
    "# Print the sorted data\n",
    "for key, value in sorted_data:\n",
    "    print(key)\n",
    "    for key,value in value.items():\n",
    "        print(key,value)\n"
   ]
  },
  {
   "cell_type": "markdown",
   "id": "80662ed2-9585-4fa2-832e-d38a45c95534",
   "metadata": {},
   "source": [
    "Inline Functions:\n",
    "When you need to define a function in a concise and readable manner directly at the point where it is called, without the need for a separate named function."
   ]
  },
  {
   "cell_type": "code",
   "execution_count": 57,
   "id": "8c075223-870c-4695-b14e-e93abb5350c2",
   "metadata": {},
   "outputs": [
    {
     "name": "stdout",
     "output_type": "stream",
     "text": [
      "[(1, 'apple'), (2, 'banana'), (3, 'cherry')]\n"
     ]
    }
   ],
   "source": [
    "# Sorting a list of tuples by the second element of each tuple\n",
    "data = [(3, 'cherry'), (1, 'apple'), (2, 'banana')]\n",
    "sorted_data = sorted(data, key=lambda x: x[1])\n",
    "print(sorted_data) \n"
   ]
  },
  {
   "cell_type": "markdown",
   "id": "f2a16142-f082-4ca3-b4b9-3bd161af0ed6",
   "metadata": {},
   "source": [
    "2. Write a Python program that uses lambda functions to sort a list of tuples based on the second\n",
    "element.\n"
   ]
  },
  {
   "cell_type": "code",
   "execution_count": 58,
   "id": "d136da40-5158-4d3d-af7d-ffa690cbbc63",
   "metadata": {},
   "outputs": [
    {
     "name": "stdout",
     "output_type": "stream",
     "text": [
      "[(1, 'apple'), (2, 'banana'), (3, 'cherry')]\n"
     ]
    }
   ],
   "source": [
    "# Sorting a list of tuples by the second element of each tuple\n",
    "data = [(3, 'cherry'), (1, 'apple'), (2, 'banana')]\n",
    "sorted_data = sorted(data, key=lambda x: x[1])\n",
    "print(sorted_data) \n"
   ]
  },
  {
   "cell_type": "markdown",
   "id": "e48604cd-ff99-4563-aa66-768a642c76be",
   "metadata": {},
   "source": [
    "3. Explain the concept of higher-order functions in Python, and provide an example."
   ]
  },
  {
   "cell_type": "markdown",
   "id": "d0707d54-589e-40e7-8cb5-8db58ca29ffd",
   "metadata": {},
   "source": [
    " a higher-order function is a function that can accept other functions as parameters and/or return functions as results. In other words, it treats functions as first-class citizens, allowing them to be manipulated and used in a similar way to other data types, such as integers or strings.\n",
    " Higher-order functions are a fundamental concept in functional programming and enable powerful programming paradigms like map, reduce, filter, and many more.\n",
    " \n",
    "two main characteristics of higher-order functions:\n",
    "Accepting Functions as Parameters:\n",
    "Higher-order functions can take one or more functions as arguments.\n",
    "\n",
    "Returning Functions:\n",
    "Higher-order functions can also return functions as output."
   ]
  },
  {
   "cell_type": "code",
   "execution_count": 4,
   "id": "a4b9c418-eddb-4685-b95d-5900e6dd4df8",
   "metadata": {},
   "outputs": [
    {
     "name": "stdout",
     "output_type": "stream",
     "text": [
      "Result of addition: 15\n",
      "Result of subtraction: 5\n"
     ]
    }
   ],
   "source": [
    "def apply_operation(operation, a,b):\n",
    "    # Higher-order function that accepts a function as a parameter\n",
    "    return operation(a,b)\n",
    "\n",
    "# Functions to be used with the higher-order function\n",
    "def add(a,b):\n",
    "    return a+b\n",
    "\n",
    "def subtract(a,b):\n",
    "    return a-b\n",
    "\n",
    "# Using the higher-order function with different operations\n",
    "result_add = apply_operation(add, 10, 5)  \n",
    "result_subtract = apply_operation(subtract, 10, 5)  \n",
    "\n",
    "print(\"Result of addition:\", result_add)  \n",
    "print(\"Result of subtraction:\", result_subtract)  "
   ]
  },
  {
   "cell_type": "markdown",
   "id": "3844a7c9-c1ac-4fc3-b788-dd7b85dfd489",
   "metadata": {},
   "source": [
    "4. Create a Python function that takes a list of numbers and a function as arguments, applying the\n",
    "function to each element in the list."
   ]
  },
  {
   "cell_type": "code",
   "execution_count": 6,
   "id": "e9eb7104-85e1-4593-a895-6b3538a84ed1",
   "metadata": {},
   "outputs": [
    {
     "data": {
      "text/plain": [
       "[4, 8, 12, 16]"
      ]
     },
     "execution_count": 6,
     "metadata": {},
     "output_type": "execute_result"
    }
   ],
   "source": [
    "# function takes square and lst as arguments\n",
    "def square_num(square, lst):\n",
    "    square_lst = map(square,lst)\n",
    "    return list(square_lst)\n",
    "\n",
    "\n",
    "square = lambda i: i*2\n",
    "lst = [2,4,6,8]\n",
    "square_num(square,lst)"
   ]
  },
  {
   "cell_type": "markdown",
   "id": "2c3cbb8d-ae93-4767-bba6-a985ed39483d",
   "metadata": {
    "tags": []
   },
   "source": [
    "## Built-in Functions:"
   ]
  },
  {
   "cell_type": "markdown",
   "id": "395255c8-f87b-477c-bc29-6be6de0f0b85",
   "metadata": {},
   "source": [
    "1. Describe the role of built-in functions like `len()`, `max()`, and `min()` in Python."
   ]
  },
  {
   "cell_type": "markdown",
   "id": "43185626-ec13-45c0-a5c6-47460c357b3a",
   "metadata": {},
   "source": [
    "Built-in functions like len(), max(), and min() are fundamental functions in Python that provide specific functionalities and operations on data. Here's a description of their roles:"
   ]
  },
  {
   "cell_type": "markdown",
   "id": "31a0193e-88ea-40b5-aebe-bfdcae97a599",
   "metadata": {},
   "source": [
    "len():\n",
    "The len() function is used to determine the length or size of an iterable or a sequence, such as strings, lists, tuples, dictionaries, and sets. It returns the number of elements in the given iterable."
   ]
  },
  {
   "cell_type": "code",
   "execution_count": 8,
   "id": "c1e5ca1e-0e4b-4c74-923d-26f88a77fa82",
   "metadata": {},
   "outputs": [
    {
     "name": "stdout",
     "output_type": "stream",
     "text": [
      "5\n"
     ]
    }
   ],
   "source": [
    "string_length = len(\"Hello, world!\")  \n",
    "list_length = len([1, 2, 3, 4, 5])  \n",
    "print(list_length)"
   ]
  },
  {
   "cell_type": "raw",
   "id": "d83059af-5021-4db9-955a-ca0db775a63b",
   "metadata": {},
   "source": [
    "max():\n",
    "The max() function is used to find the maximum value from a given set of values or an iterable. It can also accept multiple arguments and return the largest one."
   ]
  },
  {
   "cell_type": "code",
   "execution_count": 9,
   "id": "b4a51d3f-3316-4a3f-a9d3-4de22cad63de",
   "metadata": {},
   "outputs": [
    {
     "name": "stdout",
     "output_type": "stream",
     "text": [
      "10\n",
      "cherry\n"
     ]
    }
   ],
   "source": [
    "max_value = max(5, 10, 3, 8) \n",
    "max_string = max(\"apple\", \"banana\", \"cherry\")  \n",
    "print(max_value)\n",
    "print(max_string)"
   ]
  },
  {
   "cell_type": "raw",
   "id": "c081cd6d-de49-4b55-ba27-83737b78ea8a",
   "metadata": {},
   "source": [
    "min():\n",
    "The min() function is used to find the minimum value from a given set of values or an iterable. It can also accept multiple arguments and return the smallest one."
   ]
  },
  {
   "cell_type": "code",
   "execution_count": 10,
   "id": "536e1ecc-ab37-478b-85fc-11b091801e96",
   "metadata": {},
   "outputs": [
    {
     "name": "stdout",
     "output_type": "stream",
     "text": [
      "3\n",
      "apple\n"
     ]
    }
   ],
   "source": [
    "min_value = min(5, 10, 3, 8)  # Output: 3\n",
    "min_string = min(\"apple\", \"banana\", \"cherry\")  # Output: \"apple\"\n",
    "print(min_value)\n",
    "print(min_string)"
   ]
  },
  {
   "cell_type": "markdown",
   "id": "c8421f08-c1c3-4dce-9895-f0b9d49335dc",
   "metadata": {},
   "source": [
    "2. Write a Python program that uses the `map()` function to apply a function to each element of a\n",
    "list.\n"
   ]
  },
  {
   "cell_type": "code",
   "execution_count": 16,
   "id": "b38549a0-8f1a-4d6a-93ac-c139038340c3",
   "metadata": {},
   "outputs": [
    {
     "name": "stdout",
     "output_type": "stream",
     "text": [
      "list where the even numbers are squared:  [3, 16, 5, 36, 7, 64, 9]\n"
     ]
    }
   ],
   "source": [
    "lst = [3,4,5,6,7,8,9]\n",
    "\n",
    "def square_even_nums(i):\n",
    "    if i%2 == 0:\n",
    "        return i*i\n",
    "    else:\n",
    "        return i\n",
    "\n",
    "        \n",
    "square_even_nums = list(map(square_even_nums,lst))\n",
    "\n",
    "print('list where the even numbers are squared: ',square_even_nums)"
   ]
  },
  {
   "cell_type": "markdown",
   "id": "d22ee89b-0e9c-4959-b216-0c8a734afc9d",
   "metadata": {},
   "source": [
    "3. How does the `filter()` function work in Python, and when would you use it?"
   ]
  },
  {
   "cell_type": "markdown",
   "id": "86ad5d74-55fe-4bc7-8271-1b834e8c4c1f",
   "metadata": {},
   "source": [
    "filter() function in Python is a built-in function that is used to construct an iterator from elements of an iterable for which a function returns true. In other words, it filters out elements from an iterable based on a specified condition defined by a function."
   ]
  },
  {
   "cell_type": "code",
   "execution_count": 22,
   "id": "7e685f01-9896-4f78-9ab7-bab366499ad0",
   "metadata": {},
   "outputs": [],
   "source": [
    "# syntax\n",
    "#filter(function, iterable)\n"
   ]
  },
  {
   "cell_type": "markdown",
   "id": "83c15aee-b1f2-44f7-bfea-084a43413bf0",
   "metadata": {},
   "source": [
    "function: A function that tests whether each element of an iterable returns true or false. If None, it simply returns the elements of the iterable that are true.\n",
    "iterable: An iterable like lists, tuples, sets, or any other sequence."
   ]
  },
  {
   "cell_type": "markdown",
   "id": "2732b34a-09cd-4989-b45b-b9827621fbcc",
   "metadata": {},
   "source": [
    "how it works:\n",
    "    The filter() function calls the specified function for each item in the iterable.\n",
    "    If the function returns True for an item, that item is included in the result set.\n",
    "    If the function returns False, that item is excluded from the result set."
   ]
  },
  {
   "cell_type": "markdown",
   "id": "363b38fa-c1e1-434e-93d5-beb93033e701",
   "metadata": {},
   "source": [
    "Use cases for filter():\n",
    "\n",
    "Filtering based on a condition:\n",
    "You can use filter() to extract elements from an iterable that meet a certain condition specified by the function.\n",
    "\n",
    "Removing unwanted elements:\n",
    "It can be used to remove unwanted or invalid elements from a dataset.\n",
    "\n",
    "Filtering based on specific criteria:\n",
    "Filtering based on specific criteria such as filtering out even numbers, filtering based on certain attributes."
   ]
  },
  {
   "cell_type": "code",
   "execution_count": 23,
   "id": "c36f53da-063e-405e-a24e-0d20b47a7c9a",
   "metadata": {},
   "outputs": [
    {
     "name": "stdout",
     "output_type": "stream",
     "text": [
      "Non-empty strings: ['hello', 'world', 'python']\n"
     ]
    }
   ],
   "source": [
    "# Removing empty strings from a list\n",
    "def not_empty(s):\n",
    "    return s != \"\"\n",
    "\n",
    "strings = [\"hello\", \"\", \"world\", \"\", \"python\"]\n",
    "non_empty_strings = list(filter(not_empty, strings))\n",
    "\n",
    "print(\"Non-empty strings:\", non_empty_strings)  \n"
   ]
  },
  {
   "cell_type": "markdown",
   "id": "65d2ec26-70c3-4bc1-8480-2ff3ab15dfb3",
   "metadata": {},
   "source": [
    "4. Create a Python program that uses the `reduce()` function to find the product of all elements in\n",
    "a list."
   ]
  },
  {
   "cell_type": "code",
   "execution_count": 27,
   "id": "9920e57c-4ba4-4d2d-b6ff-be7aebdf7010",
   "metadata": {},
   "outputs": [
    {
     "name": "stdout",
     "output_type": "stream",
     "text": [
      "672\n"
     ]
    }
   ],
   "source": [
    "from functools import reduce\n",
    "lst = [2,2,4,6,7]\n",
    "\n",
    "product = reduce(lambda a,b: a*b,lst)\n",
    "\n",
    "print(product)\n",
    "\n"
   ]
  },
  {
   "cell_type": "markdown",
   "id": "4d41f75b-2168-41b1-b187-6c80d4712155",
   "metadata": {
    "tags": []
   },
   "source": [
    "## Function Documentation and Best Practices:"
   ]
  },
  {
   "cell_type": "markdown",
   "id": "065f1202-7c35-4ccf-868d-9994fd7f1ad0",
   "metadata": {},
   "source": [
    "1. Explain the purpose of docstrings in Python functions and how to write them.\n"
   ]
  },
  {
   "cell_type": "markdown",
   "id": "8229a63b-3cdb-4bf1-af7f-d8443f8015df",
   "metadata": {},
   "source": [
    "A docstring (documentation string) in Python is a special type of string that provides a way to document functions, modules, classes, or methods in a human-readable format. It serves as a form of documentation to explain the purpose, behavior, usage, and other relevant details of the code to developers. Docstrings are typically placed at the beginning of the function, module, class, or method definition."
   ]
  },
  {
   "cell_type": "markdown",
   "id": "a26adc6f-4b12-458a-a75d-304bb2ff88be",
   "metadata": {},
   "source": [
    "Purpose of Docstrings:\n",
    "Documentation: Docstrings provide a way to document the purpose, functionality, and usage of a particular piece of code. This is crucial for understanding the code's behavior and using it effectively.\n",
    "\n",
    "Readability and Maintainability: Well-documented code is more readable and easier to maintain, especially when multiple developers are working on a project.\n",
    "\n",
    "Autogeneration of Documentation: Docstrings can be automatically extracted to generate documentation in various formats, such as HTML, PDF, or plain text, using tools like Sphinx."
   ]
  },
  {
   "cell_type": "markdown",
   "id": "7e21a51b-faca-4ef0-b16e-2f70e3c5219f",
   "metadata": {},
   "source": [
    "How to Write Docstrings:\n",
    "Docstrings are written as triple-quoted strings (either single or double quotes) immediately after the function, module, class, or method definition. There are different conventions for writing docstrings, such as the \"Google style,\" \"Numpy style,\" or \"PEP 257 style.\" However, the main elements of a docstring generally include:\n",
    "\n",
    "Summary or One-Line Description:\n",
    "A brief, one-line summary that concisely describes the purpose or functionality of the function, method, class, or module.\n",
    "\n",
    "Detailed Description:\n",
    "A more detailed description that explains the purpose, behavior, and usage of the code.\n",
    "\n",
    "Parameters:\n",
    "Description of each parameter, including its name, type, and purpose.\n",
    "\n",
    "Returns:\n",
    "Description of the return value or values.\n",
    "\n",
    "Example Usage:\n",
    "Optional examples illustrating how to use the function or method."
   ]
  },
  {
   "cell_type": "code",
   "execution_count": 28,
   "id": "d0db1579-3b27-4a5f-9f53-df08363c0e6c",
   "metadata": {},
   "outputs": [],
   "source": [
    "# example"
   ]
  },
  {
   "cell_type": "code",
   "execution_count": 29,
   "id": "3b295756-0abe-4740-a9fc-551e5727d01b",
   "metadata": {},
   "outputs": [],
   "source": [
    "def example_function(parameter1, parameter2):\n",
    "    \"\"\"\n",
    "    This is a one-line summary of the function.\n",
    "\n",
    "    Detailed description of the function goes here, explaining what it does,\n",
    "    how it works, and how to use it.\n",
    "\n",
    "    Parameters:\n",
    "    parameter1 (type): Description of parameter1.\n",
    "    parameter2 (type): Description of parameter2.\n",
    "\n",
    "    Returns:\n",
    "    type: Description of the return value.\n",
    "    \"\"\"\n",
    "    # body of function\n"
   ]
  },
  {
   "cell_type": "markdown",
   "id": "e2251ae3-9eef-491e-a457-fa92553ea8f8",
   "metadata": {},
   "source": [
    "2.Describe some best practices for naming functions and variables in python,including namig conventions and guidelines"
   ]
  },
  {
   "cell_type": "markdown",
   "id": "4380ce14-aefc-4c44-b1ae-debc9c9b4d2f",
   "metadata": {},
   "source": [
    "Naming Conventions:\n",
    "Use Descriptive Names:\n",
    "Choose names that accurately describe the purpose or functionality of the function or variable. Names should be self-explanatory and reveal the intent of the code.\n",
    "\n",
    "Use Lowercase with Underscores for Variables:\n",
    "Variable names should be in lowercase and words should be separated by underscores. This convention is known as \"snake_case.\"\n",
    "for example:\n",
    "           my_variable = 10\n",
    "           \n",
    "Use Uppercase for Constants:\n",
    "For variables that are intended to be constants, use uppercase letters with underscores to separate words. This convention is known as \"UPPERCASE_SNAKE_CASE.\"\n",
    "for example:\n",
    "           PI = 3.14159\n",
    "\n",
    "Use Capitalized Words for Classes:\n",
    "Class names should be in \"PascalCase\" (also known as \"CamelCase\"), starting with a capital letter for each word. This convention helps differentiate classes from functions and variables.\n",
    "for example:\n",
    "            class MyClass:\n",
    "                pass\n",
    "\n"
   ]
  },
  {
   "cell_type": "markdown",
   "id": "c8550613-240e-48b5-a1be-2df2a6c27d85",
   "metadata": {},
   "source": [
    "Function Names:\n",
    "Use Verb-Noun Naming for Functions:\n",
    "Function names should start with a verb that describes the action the function performs, followed by a noun that represents the object or subject of the action.\n",
    "for example:\n",
    "            def calculate_sum(a, b):\n",
    "                  pass\n",
    "\n",
    "Be Explicit and Specific:\n",
    "Choose function names that clearly convey their purpose and operation. Avoid generic names that may cause confusion.\n",
    "for example:\n",
    "            # Avoid using generic names like \"process\" or \"run\"\n",
    "            def process_data(data):\n",
    "               pass\n",
    "\n",
    "            # Instead, be specific and descriptive\n",
    "            def calculate_average(numbers):\n",
    "                pass\n"
   ]
  },
  {
   "cell_type": "markdown",
   "id": "6e2eca18-11b1-42f3-afcb-49b52201086f",
   "metadata": {},
   "source": [
    "Variable Names:\n",
    "Use Meaningful and Concise Names:\n",
    "Variable names should be meaningful, reflecting the data they hold or represent. Aim for brevity without sacrificing clarity.\n",
    "for example:\n",
    "            num_students = 100\n",
    "\n",
    "            # Avoid excessive abbreviation or overly short names\n",
    "            n = 100  # Less clear and meaningful\n",
    "            numberOfStudents = 100  # Too verbose\n",
    "            \n",
    "Avoid Single-Character Variable Names:\n",
    "Unless used for simple loop counters or other well-understood cases, avoid using single-character variable names as they are usually not descriptive.\n",
    "\n",
    "Use Plural Names for Collections:\n",
    "When a variable holds a collection or iterable, use a plural name to indicate it's a collection.\n",
    "for example:\n",
    "           fruits = ['apple', 'banana', 'cherry']\n",
    "\n",
    "Prefix Boolean Variables with \"is\" or \"has\":\n",
    "For boolean variables, use prefixes like \"is\" or \"has\" to indicate their nature.\n",
    "for example:\n",
    "           is_active = True\n",
    "           has_permission = False\n",
    " "
   ]
  },
  {
   "cell_type": "code",
   "execution_count": null,
   "id": "dd26d07d-437b-4253-bbbd-65bd37252f07",
   "metadata": {},
   "outputs": [],
   "source": []
  }
 ],
 "metadata": {
  "kernelspec": {
   "display_name": "Python 3 (ipykernel)",
   "language": "python",
   "name": "python3"
  },
  "language_info": {
   "codemirror_mode": {
    "name": "ipython",
    "version": 3
   },
   "file_extension": ".py",
   "mimetype": "text/x-python",
   "name": "python",
   "nbconvert_exporter": "python",
   "pygments_lexer": "ipython3",
   "version": "3.10.8"
  }
 },
 "nbformat": 4,
 "nbformat_minor": 5
}
