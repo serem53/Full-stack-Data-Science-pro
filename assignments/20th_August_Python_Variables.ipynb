{
 "cells": [
  {
   "cell_type": "markdown",
   "id": "4c4d97f4-d36c-4a96-b87f-6011ef387bc3",
   "metadata": {},
   "source": [
    " **TOPIC: Python Basics Variable**"
   ]
  },
  {
   "cell_type": "markdown",
   "id": "a9d49d38-fac6-4b85-a2cc-72ab0b0f189b",
   "metadata": {},
   "source": [
    "1. Declare two variables, `x` and `y`, and assign them integer values.\n",
    "   Swap the values of these variables without using any temporary\n",
    "   variable."
   ]
  },
  {
   "cell_type": "code",
   "execution_count": 1,
   "id": "05ceca93-0c4e-44f8-a02d-b6524e8fd344",
   "metadata": {},
   "outputs": [],
   "source": [
    "x = 24\n",
    "y = 13"
   ]
  },
  {
   "cell_type": "code",
   "execution_count": 2,
   "id": "680f6b6c-b953-49e6-90e0-625d7f9e331a",
   "metadata": {},
   "outputs": [],
   "source": [
    "#   swapping using tuple unpacking\n",
    "x, y = y, x"
   ]
  },
  {
   "cell_type": "code",
   "execution_count": 6,
   "id": "952e992c-e197-451c-b77d-b3cb6f0f32c2",
   "metadata": {},
   "outputs": [
    {
     "name": "stdout",
     "output_type": "stream",
     "text": [
      "x has changed from 24 to: 13\n"
     ]
    }
   ],
   "source": [
    "# after swap\n",
    "print('x has changed from 24 to:',x)"
   ]
  },
  {
   "cell_type": "code",
   "execution_count": 7,
   "id": "84fa049f-9e9f-428e-8e13-20c201cc0b2f",
   "metadata": {},
   "outputs": [
    {
     "name": "stdout",
     "output_type": "stream",
     "text": [
      "y has changed from 13 to: 24\n"
     ]
    }
   ],
   "source": [
    "print('y has changed from 13 to:',y)"
   ]
  },
  {
   "cell_type": "markdown",
   "id": "a32a5afa-efc2-4754-93c9-2a64281a6118",
   "metadata": {},
   "source": [
    "\n",
    "  2. Create a program that calculates the area of a rectangle. Take the\n",
    "     length and width as inputs from the user and store them in variables.\n",
    "     Calculate and display the area."
   ]
  },
  {
   "cell_type": "code",
   "execution_count": 8,
   "id": "74f5e3f0-93e3-4306-baab-816d20b831c3",
   "metadata": {},
   "outputs": [
    {
     "name": "stdout",
     "output_type": "stream",
     "text": [
      "area of a rectangle calculation\n"
     ]
    },
    {
     "name": "stdin",
     "output_type": "stream",
     "text": [
      "enter length: 4\n",
      "enter width: 6\n"
     ]
    },
    {
     "name": "stdout",
     "output_type": "stream",
     "text": [
      "the area of the rectangle is: 24\n"
     ]
    }
   ],
   "source": [
    "print('area of a rectangle calculation')\n",
    "length = input('enter length:')\n",
    "width = input('enter width:')\n",
    "\n",
    "area = int(length) * int(width)\n",
    "\n",
    "print('the area of the rectangle is:',area)"
   ]
  },
  {
   "cell_type": "markdown",
   "id": "ad02f393-5968-45cc-b950-10b15870b775",
   "metadata": {},
   "source": [
    "\n",
    "3. Write a Python program that converts temperature from Celsius to\n",
    "   Fahrenheit. Take the temperature in Celsius as input, store it in a\n",
    "   variable, convert it to Fahrenheit, and display the result.\n"
   ]
  },
  {
   "cell_type": "code",
   "execution_count": 9,
   "id": "16fed075-3742-47af-8ff7-f8aa25814726",
   "metadata": {},
   "outputs": [
    {
     "name": "stdout",
     "output_type": "stream",
     "text": [
      "convert temperature from celsius to fahrenheit\n"
     ]
    },
    {
     "name": "stdin",
     "output_type": "stream",
     "text": [
      "enter temperature in celsius: 56\n"
     ]
    },
    {
     "name": "stdout",
     "output_type": "stream",
     "text": [
      "the temperature in fahrenheit is: 132.8 ° F\n"
     ]
    }
   ],
   "source": [
    "print('convert temperature from celsius to fahrenheit')\n",
    "celsius = input('enter temperature in celsius:')\n",
    "\n",
    "fahrenheit = (float(celsius) * 9/5) + 32\n",
    "print('the temperature in fahrenheit is:', fahrenheit,'\\u00B0','F')"
   ]
  },
  {
   "cell_type": "markdown",
   "id": "d014637c-cdae-48f9-ba0d-de2ca0c86a13",
   "metadata": {},
   "source": [
    "  ***TOPIC: String Based Questions***"
   ]
  },
  {
   "cell_type": "markdown",
   "id": "6142ac75-6865-4208-b553-71700216cd85",
   "metadata": {},
   "source": [
    "1. Write a Python program that takes a string as input and prints the\n",
    "   length of the string."
   ]
  },
  {
   "cell_type": "code",
   "execution_count": 10,
   "id": "fdb711b3-199b-453c-b034-317e98fc6ddf",
   "metadata": {},
   "outputs": [
    {
     "name": "stdout",
     "output_type": "stream",
     "text": [
      "Calculate  length of the string inside a word or sentence\n"
     ]
    },
    {
     "name": "stdin",
     "output_type": "stream",
     "text": [
      "Enter a word or sentence: trevor\n"
     ]
    },
    {
     "name": "stdout",
     "output_type": "stream",
     "text": [
      "Length of the input string is: 6\n"
     ]
    }
   ],
   "source": [
    "print('Calculate  length of the string inside a word or sentence')\n",
    "word = input('Enter a word or sentence:')\n",
    "length = len(str(word))\n",
    "\n",
    "print('Length of the input string is:',length)\n"
   ]
  },
  {
   "cell_type": "markdown",
   "id": "5bc61f0d-8a5a-4cf9-9d0e-b7c9a8985b2f",
   "metadata": {},
   "source": [
    "\n",
    "2. Create a program that takes a sentence from the user and counts the\n",
    "   number of vowels (a, e, i, o, u) in the string."
   ]
  },
  {
   "cell_type": "code",
   "execution_count": 11,
   "id": "6ac2daf4-d7f3-4403-b4e0-8a2db323b66b",
   "metadata": {},
   "outputs": [
    {
     "name": "stdout",
     "output_type": "stream",
     "text": [
      "count the number of vowels in your sentence\n"
     ]
    },
    {
     "name": "stdin",
     "output_type": "stream",
     "text": [
      "Enter a sentence: animal\n"
     ]
    },
    {
     "name": "stdout",
     "output_type": "stream",
     "text": [
      "the number of vowels is: 3\n"
     ]
    }
   ],
   "source": [
    "print('count the number of vowels in your sentence')\n",
    "sentence = input('Enter a sentence:')\n",
    "\n",
    "# making the sentence case-insensitive\n",
    "\n",
    "sentence = sentence.lower()\n",
    "\n",
    "# defining the list of vowels to be counted\n",
    "\n",
    "vowels = ['a','e','i','o','u']\n",
    "# counting using count() function and also list-comprehensions\n",
    "\n",
    "\n",
    "vowel_count = sum(sentence.count(vowel) for vowel in vowels)\n",
    "\n",
    "\n",
    "print('the number of vowels is:',vowel_count)\n",
    "\n"
   ]
  },
  {
   "cell_type": "markdown",
   "id": "5fddd098-c661-4def-9d72-02ce388f3792",
   "metadata": {},
   "source": [
    "\n",
    "3. Given a string, reverse the order of characters using string slicing and\n",
    "   print the reversed string."
   ]
  },
  {
   "cell_type": "code",
   "execution_count": 13,
   "id": "a5908e1a-7c11-4241-8515-1ffc84d1459f",
   "metadata": {},
   "outputs": [
    {
     "name": "stdout",
     "output_type": "stream",
     "text": [
      "the reversed string is: scisaBnohtyP\n"
     ]
    }
   ],
   "source": [
    "x = \"PythonBasics\"\n",
    "\n",
    "y =x[::-1] \n",
    "\n",
    "print('the reversed string is:', y)"
   ]
  },
  {
   "cell_type": "markdown",
   "id": "6aacefc5-9a31-44bc-9e59-8ddf9be49b8b",
   "metadata": {},
   "source": [
    "\n",
    "4. Write a program that takes a string as input and checks if it is a\n",
    "   palindrome (reads the same forwards and backwards)."
   ]
  },
  {
   "cell_type": "code",
   "execution_count": 14,
   "id": "82b823e4-8908-4afd-8adf-b013d406f19d",
   "metadata": {},
   "outputs": [
    {
     "name": "stdout",
     "output_type": "stream",
     "text": [
      "check if string is a palindrome\n"
     ]
    },
    {
     "name": "stdin",
     "output_type": "stream",
     "text": [
      "Enter the a word: civic\n"
     ]
    },
    {
     "name": "stdout",
     "output_type": "stream",
     "text": [
      "this word is a palindrome\n"
     ]
    }
   ],
   "source": [
    "print('check if string is a palindrome')\n",
    "word = input('Enter the a word:')\n",
    "\n",
    "reverse_word = word[::-1]\n",
    "\n",
    "if word == reverse_word :\n",
    "   print('this word is a palindrome')\n",
    "else:\n",
    "   print('this word is NOT a palindrome')"
   ]
  },
  {
   "cell_type": "markdown",
   "id": "d54052b3-b801-4cf3-9945-4abad9125ffd",
   "metadata": {},
   "source": [
    "\n",
    "5. Create a program that takes a string as input and removes all the\n",
    "   spaces from it. Print the modified string without spaces."
   ]
  },
  {
   "cell_type": "code",
   "execution_count": 15,
   "id": "93eeff49-565d-42e1-ba5f-550b8d82e084",
   "metadata": {},
   "outputs": [
    {
     "name": "stdout",
     "output_type": "stream",
     "text": [
      "remove spaces from a paragraph or sentence\n"
     ]
    },
    {
     "name": "stdin",
     "output_type": "stream",
     "text": [
      "Enter a paragraph or sentence i love python \n"
     ]
    },
    {
     "name": "stdout",
     "output_type": "stream",
     "text": [
      "ilovepython\n"
     ]
    }
   ],
   "source": [
    "print('remove spaces from a paragraph or sentence')\n",
    "sentence = input('Enter a paragraph or sentence')\n",
    "\n",
    "modified_sentence = sentence.replace(\" \", \"\")\n",
    "\n",
    "print(modified_sentence)"
   ]
  }
 ],
 "metadata": {
  "kernelspec": {
   "display_name": "Python 3 (ipykernel)",
   "language": "python",
   "name": "python3"
  },
  "language_info": {
   "codemirror_mode": {
    "name": "ipython",
    "version": 3
   },
   "file_extension": ".py",
   "mimetype": "text/x-python",
   "name": "python",
   "nbconvert_exporter": "python",
   "pygments_lexer": "ipython3",
   "version": "3.10.8"
  }
 },
 "nbformat": 4,
 "nbformat_minor": 5
}
