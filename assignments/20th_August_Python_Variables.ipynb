# TOPIC: Python Basics Variable
##1. Declare two variables, `x` and `y`, and assign them integer values.
Swap the values of these variables without using any temporary
variable.
{
 "cells": [
  {
   "cell_type": "code",
   "execution_count": null,
   "id": "8ce77482-4f98-4a68-ac89-89d870d1a2cd",
   "metadata": {},
   "outputs": [],
   "source": [
    "#### TOPIC: Python Basics Variable"
   ]
  },
  {
   "cell_type": "code",
   "execution_count": null,
   "id": "4c89b3cd-9b25-4376-b8cd-f995f68bf940",
   "metadata": {},
   "outputs": [],
   "source": [
    "### question one\n",
    "## swapping the values of x and y variables without using any temporary variable"
   ]
  },
  {
   "cell_type": "code",
   "execution_count": 27,
   "id": "05ceca93-0c4e-44f8-a02d-b6524e8fd344",
   "metadata": {},
   "outputs": [],
   "source": [
    "x = 24\n",
    "y = 13"
   ]
  },
  {
   "cell_type": "code",
   "execution_count": 62,
   "id": "680f6b6c-b953-49e6-90e0-625d7f9e331a",
   "metadata": {},
   "outputs": [],
   "source": [
    "#   swapping using tuple unpacking\n",
    "x, y = y, x"
   ]
  },
  {
   "cell_type": "code",
   "execution_count": 63,
   "id": "d385c2fd-c45c-456a-bdf6-6cfd16670f37",
   "metadata": {},
   "outputs": [
    {
     "data": {
      "text/plain": [
       "24"
      ]
     },
     "execution_count": 63,
     "metadata": {},
     "output_type": "execute_result"
    }
   ],
   "source": [
    "x"
   ]
  },
  {
   "cell_type": "code",
   "execution_count": 64,
   "id": "5c1dc55c-491a-4a15-95bb-859b09ff5078",
   "metadata": {},
   "outputs": [
    {
     "data": {
      "text/plain": [
       "13"
      ]
     },
     "execution_count": 64,
     "metadata": {},
     "output_type": "execute_result"
    }
   ],
   "source": [
    "y"
   ]
  },
  {
   "cell_type": "code",
   "execution_count": 65,
   "id": "952e992c-e197-451c-b77d-b3cb6f0f32c2",
   "metadata": {},
   "outputs": [
    {
     "name": "stdout",
     "output_type": "stream",
     "text": [
      "x has changed from 24 to: 24\n"
     ]
    }
   ],
   "source": [
    "# after swap\n",
    "print('x has changed from 24 to:',x)"
   ]
  },
  {
   "cell_type": "code",
   "execution_count": 66,
   "id": "84fa049f-9e9f-428e-8e13-20c201cc0b2f",
   "metadata": {},
   "outputs": [
    {
     "name": "stdout",
     "output_type": "stream",
     "text": [
      "y has changed from 13 to: 13\n"
     ]
    }
   ],
   "source": [
    "print('y has changed from 13 to:',y)"
   ]
  },
  {
   "cell_type": "code",
   "execution_count": 67,
   "id": "167ea14a-edfa-4aef-af73-5dba87e636f1",
   "metadata": {},
   "outputs": [],
   "source": [
    "### question two \n",
    "# program that calculates the area of a rectangle,user inputs L and W,then store them in variables and dispaly area"
   ]
  },
  {
   "cell_type": "code",
   "execution_count": 70,
   "id": "74f5e3f0-93e3-4306-baab-816d20b831c3",
   "metadata": {},
   "outputs": [
    {
     "name": "stdout",
     "output_type": "stream",
     "text": [
      "area of a rectangle calculation\n"
     ]
    },
    {
     "name": "stdin",
     "output_type": "stream",
     "text": [
      "enter length: 6\n",
      "enter width: 7\n"
     ]
    },
    {
     "name": "stdout",
     "output_type": "stream",
     "text": [
      "the area of the rectangle is: 42\n"
     ]
    }
   ],
   "source": [
    "print('area of a rectangle calculation')\n",
    "length = input('enter length:')\n",
    "width = input('enter width:')\n",
    "\n",
    "area = int(length) * int(width)\n",
    "\n",
    "print('the area of the rectangle is:',area)"
   ]
  },
  {
   "cell_type": "code",
   "execution_count": 69,
   "id": "bf6efe2c-5c12-4d55-881c-09c5ab58f420",
   "metadata": {},
   "outputs": [],
   "source": [
    "### question three\n",
    "# program that converts temperature from celsius to fahrenheit,user inputs temperature as celsius and i will display the fahrenheit equivalent\n"
   ]
  },
  {
   "cell_type": "code",
   "execution_count": 17,
   "id": "16fed075-3742-47af-8ff7-f8aa25814726",
   "metadata": {},
   "outputs": [
    {
     "name": "stdout",
     "output_type": "stream",
     "text": [
      "convert temperature from celsius to fahrenheit\n"
     ]
    },
    {
     "name": "stdin",
     "output_type": "stream",
     "text": [
      "enter temperature in celsius: 45\n"
     ]
    },
    {
     "name": "stdout",
     "output_type": "stream",
     "text": [
      "the temperature in fahrenheit is: 113.0 ° F\n"
     ]
    }
   ],
   "source": [
    "print('convert temperature from celsius to fahrenheit')\n",
    "celsius = input('enter temperature in celsius:')\n",
    "\n",
    "fahrenheit = (float(celsius) * 9/5) + 32\n",
    "print('the temperature in fahrenheit is:', fahrenheit,'\\u00B0','F')"
   ]
  },
  {
   "cell_type": "code",
   "execution_count": 85,
   "id": "b6a0f880-6136-411a-9d2f-65f2b16f6e4f",
   "metadata": {},
   "outputs": [],
   "source": [
    "#### TOPIC: String Based Questions"
   ]
  },
  {
   "cell_type": "code",
   "execution_count": 87,
   "id": "fdb711b3-199b-453c-b034-317e98fc6ddf",
   "metadata": {},
   "outputs": [
    {
     "name": "stdout",
     "output_type": "stream",
     "text": [
      "Calculate  length of the string inside a word or sentence\n"
     ]
    },
    {
     "name": "stdin",
     "output_type": "stream",
     "text": [
      "Enter a word or sentence: dfhbsdbfd\n"
     ]
    },
    {
     "name": "stdout",
     "output_type": "stream",
     "text": [
      "Length of the input string is: 9\n"
     ]
    }
   ],
   "source": [
    "### question one\n",
    "# input characters of strings and prints the length of the string\n",
    "\n",
    "print('Calculate  length of the string inside a word or sentence')\n",
    "word = input('Enter a word or sentence:')\n",
    "length = len(str(word))\n",
    "\n",
    "print('Length of the input string is:',length)\n"
   ]
  },
  {
   "cell_type": "code",
   "execution_count": 1,
   "id": "0a52538a-b3b5-4331-b862-0be76004cf98",
   "metadata": {},
   "outputs": [],
   "source": [
    "###question two\n",
    "#  program that takes a sentence from the user and counts the number of vowels in the string"
   ]
  },
  {
   "cell_type": "code",
   "execution_count": 12,
   "id": "6ac2daf4-d7f3-4403-b4e0-8a2db323b66b",
   "metadata": {},
   "outputs": [
    {
     "name": "stdout",
     "output_type": "stream",
     "text": [
      "count the number of vowels in your sentence\n"
     ]
    },
    {
     "name": "stdin",
     "output_type": "stream",
     "text": [
      "Enter a sentence: serem\n"
     ]
    },
    {
     "name": "stdout",
     "output_type": "stream",
     "text": [
      "the number of vowels is: 2\n"
     ]
    }
   ],
   "source": [
    "print('count the number of vowels in your sentence')\n",
    "sentence = input('Enter a sentence:')\n",
    "\n",
    "# making the sentence case-insensitive\n",
    "\n",
    "sentence = sentence.lower()\n",
    "\n",
    "# defining the list of vowels to be counted\n",
    "\n",
    "vowels = ['a','e','i','o','u']\n",
    "# counting using count() function and also list-comprehensions\n",
    "\n",
    "\n",
    "vowel_count = sum(sentence.count(vowel) for vowel in vowels)\n",
    "\n",
    "\n",
    "print('the number of vowels is:',vowel_count)\n",
    "\n"
   ]
  },
  {
   "cell_type": "code",
   "execution_count": 13,
   "id": "b754ac7f-53bd-434b-bbca-6c19c24dd4a7",
   "metadata": {},
   "outputs": [],
   "source": [
    "### question three\n",
    "# reverse the order of characters using string slicing and print reversed string"
   ]
  },
  {
   "cell_type": "code",
   "execution_count": 16,
   "id": "a5908e1a-7c11-4241-8515-1ffc84d1459f",
   "metadata": {},
   "outputs": [
    {
     "name": "stdout",
     "output_type": "stream",
     "text": [
      "the reversed string is: scisaBnohtyP\n"
     ]
    }
   ],
   "source": [
    "x = \"PythonBasics\"\n",
    "\n",
    "y =x[::-1] \n",
    "\n",
    "print('the reversed string is:', y)"
   ]
  },
  {
   "cell_type": "code",
   "execution_count": null,
   "id": "64e2a2c1-b2c0-4e15-af71-7613c9a0743b",
   "metadata": {},
   "outputs": [],
   "source": [
    "### question four\n",
    "# program that takes a string as input and checks if palindrome"
   ]
  },
  {
   "cell_type": "code",
   "execution_count": 9,
   "id": "82b823e4-8908-4afd-8adf-b013d406f19d",
   "metadata": {},
   "outputs": [
    {
     "name": "stdout",
     "output_type": "stream",
     "text": [
      "check if string is a palindrome\n"
     ]
    },
    {
     "name": "stdin",
     "output_type": "stream",
     "text": [
      "Enter the a word: civic\n"
     ]
    },
    {
     "name": "stdout",
     "output_type": "stream",
     "text": [
      "this word is a palindrome\n"
     ]
    }
   ],
   "source": [
    "print('check if string is a palindrome')\n",
    "word = input('Enter the a word:')\n",
    "\n",
    "reverse_word = word[::-1]\n",
    "\n",
    "if word == reverse_word :\n",
    "   print('this word is a palindrome')\n",
    "else:\n",
    "   print('this word is NOT a palindrome')"
   ]
  },
  {
   "cell_type": "code",
   "execution_count": 10,
   "id": "86cfef42-3d08-4470-8044-2d01735cb8c1",
   "metadata": {},
   "outputs": [],
   "source": [
    "### question five\n",
    "# program that takes string as input and removes spaces from it.print modified string"
   ]
  },
  {
   "cell_type": "code",
   "execution_count": 11,
   "id": "93eeff49-565d-42e1-ba5f-550b8d82e084",
   "metadata": {},
   "outputs": [
    {
     "name": "stdout",
     "output_type": "stream",
     "text": [
      "remove spaces from a paragraph or sentence\n"
     ]
    },
    {
     "name": "stdin",
     "output_type": "stream",
     "text": [
      "Enter a paragraph or sentence i love python code\n"
     ]
    },
    {
     "name": "stdout",
     "output_type": "stream",
     "text": [
      "ilovepythoncode\n"
     ]
    }
   ],
   "source": [
    "print('remove spaces from a paragraph or sentence')\n",
    "sentence = input('Enter a paragraph or sentence')\n",
    "\n",
    "modified_sentence = sentence.replace(\" \", \"\")\n",
    "\n",
    "print(modified_sentence)"
   ]
  }
 ],
 "metadata": {
  "kernelspec": {
   "display_name": "Python 3 (ipykernel)",
   "language": "python",
   "name": "python3"
  },
  "language_info": {
   "codemirror_mode": {
    "name": "ipython",
    "version": 3
   },
   "file_extension": ".py",
   "mimetype": "text/x-python",
   "name": "python",
   "nbconvert_exporter": "python",
   "pygments_lexer": "ipython3",
   "version": "3.10.8"
  }
 },
 "nbformat": 4,
 "nbformat_minor": 5
}
