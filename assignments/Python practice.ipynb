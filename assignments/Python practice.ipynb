{
 "cells": [
  {
   "cell_type": "markdown",
   "id": "c6a96559-9f9b-429a-b81d-741568d75a0a",
   "metadata": {
    "jp-MarkdownHeadingCollapsed": true,
    "tags": []
   },
   "source": [
    "## String Based Assignment Problem:"
   ]
  },
  {
   "cell_type": "markdown",
   "id": "700d7613-10f1-460e-8ac6-d21dda338032",
   "metadata": {},
   "source": [
    "1. Write a program to reverse a string."
   ]
  },
  {
   "cell_type": "code",
   "execution_count": 17,
   "id": "e73334df-660c-4b89-b4a0-09be05be3dbb",
   "metadata": {},
   "outputs": [
    {
     "data": {
      "text/plain": [
       "'scisabnohtyp'"
      ]
     },
     "execution_count": 17,
     "metadata": {},
     "output_type": "execute_result"
    }
   ],
   "source": [
    "word = 'pythonbasics'\n",
    "\n",
    "word[::-1]"
   ]
  },
  {
   "cell_type": "markdown",
   "id": "8221d025-0fd3-4454-811b-e3168667f7fa",
   "metadata": {},
   "source": [
    "2. Check if a string is a palindrome."
   ]
  },
  {
   "cell_type": "code",
   "execution_count": 18,
   "id": "90528713-8afd-4fe0-97ef-c6c516e5d9a5",
   "metadata": {},
   "outputs": [
    {
     "name": "stdin",
     "output_type": "stream",
     "text": [
      "enter a string: civic\n"
     ]
    },
    {
     "name": "stdout",
     "output_type": "stream",
     "text": [
      "civic is a palindrome\n"
     ]
    }
   ],
   "source": [
    "word = input('enter a string:')\n",
    "reverse_word = word[::-1]\n",
    "    \n",
    "if(reverse_word == word):\n",
    "    print(f'{word} is a palindrome')\n",
    "else:\n",
    "    print(f'{word} is NOT a palindrome')\n",
    "    \n"
   ]
  },
  {
   "cell_type": "markdown",
   "id": "380364f5-1d25-4d5c-9fef-be621947b7c7",
   "metadata": {},
   "source": [
    "3. Convert a string to uppercase."
   ]
  },
  {
   "cell_type": "code",
   "execution_count": 19,
   "id": "69e9e834-44d8-4729-86c3-c4c8a1d4dabf",
   "metadata": {},
   "outputs": [
    {
     "data": {
      "text/plain": [
       "'PYTHON'"
      ]
     },
     "execution_count": 19,
     "metadata": {},
     "output_type": "execute_result"
    }
   ],
   "source": [
    "string = \"python\"\n",
    "string.upper()"
   ]
  },
  {
   "cell_type": "markdown",
   "id": "44b21f56-f8f1-4566-b500-90e7d2b3007d",
   "metadata": {},
   "source": [
    "4. Convert a string to lowercase."
   ]
  },
  {
   "cell_type": "code",
   "execution_count": 20,
   "id": "b3891893-484e-4ee2-a51f-4717fb9eae81",
   "metadata": {},
   "outputs": [
    {
     "data": {
      "text/plain": [
       "'government'"
      ]
     },
     "execution_count": 20,
     "metadata": {},
     "output_type": "execute_result"
    }
   ],
   "source": [
    "word = \"GOVERNMENT\"\n",
    "word.lower()\n"
   ]
  },
  {
   "cell_type": "markdown",
   "id": "84ae9037-389f-46b6-968d-0c1dee9c6ee5",
   "metadata": {},
   "source": [
    "5. Count the number of vowels in a string."
   ]
  },
  {
   "cell_type": "code",
   "execution_count": 26,
   "id": "0a01bd21-ad91-4c2c-b23e-1948f4ad1c0a",
   "metadata": {},
   "outputs": [
    {
     "name": "stdout",
     "output_type": "stream",
     "text": [
      "9\n"
     ]
    }
   ],
   "source": [
    "vowels = ['a','e','i','o','u']\n",
    "word = 'aekoruaeiou'\n",
    "vowel_num = word.count('a')+word.count('e')+word.count('i')+word.count('o')+word.count('u')\n",
    "print(vowel_num)"
   ]
  },
  {
   "cell_type": "markdown",
   "id": "b72d0cb5-ed5e-4aae-9af6-e7741428b9e2",
   "metadata": {},
   "source": [
    "6. Count the number of consonants in a string."
   ]
  },
  {
   "cell_type": "code",
   "execution_count": 4,
   "id": "b93dcbee-336e-4335-a430-37d2233df057",
   "metadata": {},
   "outputs": [
    {
     "name": "stdout",
     "output_type": "stream",
     "text": [
      "4500\n"
     ]
    }
   ],
   "source": [
    "word = 'pythonBAsics' \n",
    "lower_words = word.lower()\n",
    "consonants = 'bcdfghjklmnpqrstvwxyz'\n",
    "consonant_count = sum(1 for letter in lower_words if letter in consonants )\n",
    "print(consonant_count)"
   ]
  },
  {
   "cell_type": "markdown",
   "id": "e4be869c-8752-404f-8b1f-a7ff91b129cb",
   "metadata": {},
   "source": [
    "7. Remove all whitespaces from a string."
   ]
  },
  {
   "cell_type": "code",
   "execution_count": 10,
   "id": "04932ad2-db5b-45aa-819d-0c1fc042b416",
   "metadata": {},
   "outputs": [
    {
     "name": "stdout",
     "output_type": "stream",
     "text": [
      "pythonbasics\n",
      "  pythonbasics\n"
     ]
    }
   ],
   "source": [
    "word = '  pythonbasics'\n",
    "word_trimmed = word.replace(' ','')\n",
    "print(word_trimmed)\n",
    "print(word)"
   ]
  },
  {
   "cell_type": "markdown",
   "id": "b86ece19-b54c-4067-a34b-c13fd359dde4",
   "metadata": {},
   "source": [
    "8. Find the length of a string without using the `len()` function."
   ]
  },
  {
   "cell_type": "code",
   "execution_count": 3,
   "id": "6962b29f-cc07-4c25-827f-7ae7c4098afc",
   "metadata": {},
   "outputs": [
    {
     "name": "stdout",
     "output_type": "stream",
     "text": [
      "12\n"
     ]
    }
   ],
   "source": [
    "word = '  pythonbasics'\n",
    "word_tr = word.translate(str.maketrans('','',' '))\n",
    "char_count = sum(1 for string in word_tr )\n",
    "print(char_count)"
   ]
  },
  {
   "cell_type": "markdown",
   "id": "955b1afa-7029-43f1-abb2-61cb4addb85b",
   "metadata": {},
   "source": [
    "9. Check if a string contains a specific word."
   ]
  },
  {
   "cell_type": "code",
   "execution_count": 19,
   "id": "72104733-1b92-4049-a2fe-2f76ce7ec2b0",
   "metadata": {},
   "outputs": [
    {
     "name": "stdin",
     "output_type": "stream",
     "text": [
      "search for a word in this sentence (hello my name is trevor serem and i love coding in python): frre\n"
     ]
    },
    {
     "name": "stdout",
     "output_type": "stream",
     "text": [
      "not found\n"
     ]
    }
   ],
   "source": [
    "word = 'hello my name is trevor serem and i love coding in python'\n",
    "check = input(f\"search for a word in this sentence ({word}):\")\n",
    "\n",
    "if check in word:\n",
    "    print(check)\n",
    "else:\n",
    "    print('not found')\n",
    "\n"
   ]
  },
  {
   "cell_type": "markdown",
   "id": "e546b10b-69a9-419e-be01-fad25e0db851",
   "metadata": {},
   "source": [
    "10. Replace a word in a string with another word."
   ]
  },
  {
   "cell_type": "code",
   "execution_count": 2,
   "id": "b07eb14a-3e5b-41d4-992d-1685563f0866",
   "metadata": {},
   "outputs": [
    {
     "name": "stdout",
     "output_type": "stream",
     "text": [
      "javascript is the best programming language\n"
     ]
    }
   ],
   "source": [
    "s = 'python is the best programming language'\n",
    "x = s.replace('python', 'javascript')\n",
    "print(x)\n"
   ]
  },
  {
   "cell_type": "markdown",
   "id": "0fdbf911-fae3-4e16-a329-b002eedb92c1",
   "metadata": {},
   "source": [
    "11. Count the occurrences of a word in a string."
   ]
  },
  {
   "cell_type": "code",
   "execution_count": 10,
   "id": "58881d49-5275-4dbe-8c2b-73ff5384a98e",
   "metadata": {},
   "outputs": [
    {
     "name": "stdout",
     "output_type": "stream",
     "text": [
      "3\n"
     ]
    }
   ],
   "source": [
    "s1 = 'bmw is a good car,the bmw is also consumes less fuel,the bmw is also easy to maintain'\n",
    "count = 0\n",
    "for word in s1.split():\n",
    "    if word == 'bmw':\n",
    "        count+=1\n",
    "print(count)"
   ]
  },
  {
   "cell_type": "markdown",
   "id": "903c98f2-4925-47ae-95bc-e78e130d1ff0",
   "metadata": {},
   "source": [
    "12. Find the first occurrence of a word in a string."
   ]
  },
  {
   "cell_type": "code",
   "execution_count": 24,
   "id": "55b435a5-eb0f-4492-bac2-a2d16d11ad63",
   "metadata": {},
   "outputs": [
    {
     "name": "stdout",
     "output_type": "stream",
     "text": [
      "the first occurence of bmw was found at index 17\n"
     ]
    }
   ],
   "source": [
    "s1 = 'we all love cars,bmw is a good car,the bmw is also consumes less fuel,the bmw is also easy to maintain'\n",
    "word = 'bmw'\n",
    "index = s1.find(word)\n",
    "if index != -1:\n",
    "    print(f\"the first occurence of bmw was found at index {index}\")\n",
    "else:\n",
    "    print(\"word not found\")\n",
    "\n"
   ]
  },
  {
   "cell_type": "markdown",
   "id": "e876a26c-b003-4c7e-93a4-169ced20f764",
   "metadata": {},
   "source": [
    "13. Find the last occurrence of a word in a string."
   ]
  },
  {
   "cell_type": "code",
   "execution_count": 23,
   "id": "9ecb06b0-7583-49da-b87a-a6594694b3c6",
   "metadata": {},
   "outputs": [
    {
     "name": "stdout",
     "output_type": "stream",
     "text": [
      "The last occurrence of 'bmw' is at index: 14\n"
     ]
    }
   ],
   "source": [
    "s1 = 'we all love cars,bmw is a good car,the bmw is also consumes less fuel,the bmw is also easy to maintain'\n",
    "words = s1.split()\n",
    "\n",
    "# Initialize a variable to store the index of the last occurrence\n",
    "last_index = -1\n",
    "\n",
    "# Iterate through the enumerated words in reverse\n",
    "for index, word in reversed(list(enumerate(words))):\n",
    "    if word == 'bmw':\n",
    "        last_index = index\n",
    "        break\n",
    "\n",
    "if last_index != -1:\n",
    "    print(f\"The last occurrence of 'bmw' is at index: {last_index}\")\n",
    "else:\n",
    "    print(\"'bmw' was not found in the string.\")\n"
   ]
  },
  {
   "cell_type": "markdown",
   "id": "d6a82b6e-de57-404e-8f5d-1d9f54aad290",
   "metadata": {},
   "source": [
    "14. Split a string into a list of words."
   ]
  },
  {
   "cell_type": "code",
   "execution_count": 42,
   "id": "79a1b6c7-c020-4d97-95dc-16011ef22b9a",
   "metadata": {},
   "outputs": [
    {
     "name": "stdout",
     "output_type": "stream",
     "text": [
      "['we', 'all', 'love', 'cars,bmw', 'is', 'a', 'good', 'car,the', 'bmw', 'is', 'also', 'consumes', 'less', 'fuel,the', 'bmw', 'is', 'also', 'easy', 'to', 'maintain']\n"
     ]
    }
   ],
   "source": [
    "s1 = 'we all love cars,bmw is a good car,the bmw is also consumes less fuel,the bmw is also easy to maintain'\n",
    "s2 = s1.split() #using the split function to split s1 to individual words\n",
    "print(s2)"
   ]
  },
  {
   "cell_type": "markdown",
   "id": "ade18784-6259-423e-bc62-4cd3ad8a837d",
   "metadata": {},
   "source": [
    "15. Join a list of words into a string."
   ]
  },
  {
   "cell_type": "code",
   "execution_count": 38,
   "id": "216c6e53-b1d7-4c8f-8f03-3022af4fa3f5",
   "metadata": {},
   "outputs": [
    {
     "name": "stdout",
     "output_type": "stream",
     "text": [
      "we all love cars,bmw is a good car,the bmw is also consumes less fuel,the bmw is also easy to maintain\n"
     ]
    }
   ],
   "source": [
    "s3 = ['we', 'all', 'love', 'cars,bmw', 'is', 'a', 'good', 'car,the', 'bmw', 'is', 'also', 'consumes', 'less', 'fuel,the', 'bmw', 'is', 'also', 'easy', 'to', 'maintain']\n",
    "s4 = ' '.join(s3) # using join function with an empty space as the separator \n",
    "print(s4)"
   ]
  },
  {
   "cell_type": "markdown",
   "id": "80eddc60-dae5-4589-bfe5-8cfe786a92f1",
   "metadata": {},
   "source": [
    "16. Convert a string where words are separated by spaces to one where words\n",
    "are separated by underscores."
   ]
  },
  {
   "cell_type": "code",
   "execution_count": 46,
   "id": "d0f5222a-0956-4d29-b393-d1436cc7e055",
   "metadata": {},
   "outputs": [
    {
     "name": "stdout",
     "output_type": "stream",
     "text": [
      "python_is_a_good_programming_language\n"
     ]
    }
   ],
   "source": [
    "s1 = 'python is a good programming language'\n",
    "s2 = s1.split()\n",
    "s3 = '_'.join(s2)\n",
    "print(s3)"
   ]
  },
  {
   "cell_type": "markdown",
   "id": "26d5d510-e6e4-45ce-8969-9f3b957e6b1c",
   "metadata": {},
   "source": [
    "17. Check if a string starts with a specific word or phrase."
   ]
  },
  {
   "cell_type": "code",
   "execution_count": 55,
   "id": "027ed868-de16-456a-a74f-0f71fe8bc5a3",
   "metadata": {},
   "outputs": [
    {
     "name": "stdout",
     "output_type": "stream",
     "text": [
      "The string starts with 'Hello'.\n"
     ]
    }
   ],
   "source": [
    "# using startswith function\n",
    "s = \"Hello, world! How are you?\"\n",
    "word_to_check = \"Hello\"\n",
    "\n",
    "if s.startswith(word_to_check):\n",
    "    print(f\"The string starts with '{word_to_check}'.\")\n",
    "else:\n",
    "    print(f\"The string does not start with '{word_to_check}'.\")\n"
   ]
  },
  {
   "cell_type": "markdown",
   "id": "4ab8dd6a-50e9-4365-844f-d7dc85beb2d1",
   "metadata": {},
   "source": [
    "18. Check if a string ends with a specific word or phrase."
   ]
  },
  {
   "cell_type": "code",
   "execution_count": 61,
   "id": "8399e05e-98c3-49d4-8d0d-e66a2210afea",
   "metadata": {},
   "outputs": [
    {
     "name": "stdout",
     "output_type": "stream",
     "text": [
      "The string ends with 'How are you?'.\n"
     ]
    }
   ],
   "source": [
    "# using startswith function\n",
    "s = \"Hello, world! How are you?\"\n",
    "word_to_check = \"How are you?\"\n",
    "\n",
    "if s.endswith(word_to_check):\n",
    "    print(f\"The string ends with '{word_to_check}'.\")\n",
    "else:\n",
    "    print(f\"The string does not end with '{word_to_check}'.\")\n"
   ]
  },
  {
   "cell_type": "markdown",
   "id": "1e3cbd91-b11e-497e-806c-20a0b612cbd2",
   "metadata": {},
   "source": [
    "19. Convert a string to title case (e.g., \"hello world\" to \"Hello World\")."
   ]
  },
  {
   "cell_type": "code",
   "execution_count": 63,
   "id": "5d20a762-45c3-4d1b-96a2-6f31125c88ad",
   "metadata": {},
   "outputs": [
    {
     "name": "stdout",
     "output_type": "stream",
     "text": [
      "Python Is A Good Programming Language\n"
     ]
    }
   ],
   "source": [
    "s1 = 'python is a good programming language'\n",
    "s2 = s1.title()\n",
    "print(s2)"
   ]
  },
  {
   "cell_type": "markdown",
   "id": "d7c88148-6af6-448e-82dd-02287a05a7e3",
   "metadata": {},
   "source": [
    "20. Find the longest word in a string."
   ]
  },
  {
   "cell_type": "code",
   "execution_count": 69,
   "id": "dfcfa90f-7fd7-4d16-b989-7015f40469a2",
   "metadata": {},
   "outputs": [
    {
     "name": "stdout",
     "output_type": "stream",
     "text": [
      "longest word is:  programming\n",
      "the length is:  8\n"
     ]
    }
   ],
   "source": [
    "s1 = 'python is a good programming language'\n",
    "s2 = s1.split()\n",
    "longest_word = \"\"\n",
    "max_length = 0\n",
    "for word in s2:\n",
    "    st_num = len(word)\n",
    "    if st_num > max_length:\n",
    "        max_length = st_num\n",
    "        longest_word = word\n",
    "        \n",
    "print('longest word is: ',longest_word)\n",
    "print('the length is: ', st_num)"
   ]
  },
  {
   "cell_type": "markdown",
   "id": "475469bb-6f18-49c8-a3e0-f167d4286135",
   "metadata": {},
   "source": [
    "21. Find the shortest word in a string."
   ]
  },
  {
   "cell_type": "code",
   "execution_count": 78,
   "id": "85939fde-ffae-4177-b5a4-4ec5e4a9dd73",
   "metadata": {},
   "outputs": [
    {
     "name": "stdout",
     "output_type": "stream",
     "text": [
      "the shortest word:  a\n",
      "the length is:  1\n"
     ]
    }
   ],
   "source": [
    "s1 = 'python is a good programming language'\n",
    "s2 = s1.split()\n",
    "shortest_word = \"\"\n",
    "min_length = float('inf')\n",
    "for word in s2:\n",
    "    st_num = len(word)\n",
    "    if st_num < min_length:\n",
    "        min_length = st_num\n",
    "        shortest_word = word\n",
    "        \n",
    "print('the shortest word: ',shortest_word)\n",
    "print('the length is: ',min_length)"
   ]
  },
  {
   "cell_type": "markdown",
   "id": "763a036f-11ad-4ceb-80ec-5e38b1d9f965",
   "metadata": {},
   "source": [
    "22. Reverse the order of words in a string."
   ]
  },
  {
   "cell_type": "code",
   "execution_count": 15,
   "id": "55ab9f82-c907-45b0-8fb3-04a414bc389a",
   "metadata": {},
   "outputs": [
    {
     "name": "stdout",
     "output_type": "stream",
     "text": [
      "language programming good a is python\n"
     ]
    }
   ],
   "source": [
    "s1 = 'python is a good programming language'\n",
    "s2 = s1.split()\n",
    "s3 = s2[::-1]\n",
    "s4 = ' '.join(s3)\n",
    "print(s4)"
   ]
  },
  {
   "cell_type": "markdown",
   "id": "18707b30-7882-48d2-ba2f-07c26c74e112",
   "metadata": {},
   "source": [
    "23. Check if a string is alphanumeric."
   ]
  },
  {
   "cell_type": "code",
   "execution_count": 13,
   "id": "1570c56c-2aa0-4157-936e-719a3c64a54e",
   "metadata": {},
   "outputs": [
    {
     "name": "stdout",
     "output_type": "stream",
     "text": [
      "the string is alphanumeric\n"
     ]
    }
   ],
   "source": [
    "s5 = 'kenya001'\n",
    "punctuation_char = [',',' ','*','(',')']\n",
    "is_alphanumeric = True\n",
    "for letter in s5:\n",
    "    if letter in punctuation_char:\n",
    "        is_alphanumeric = False\n",
    "        break\n",
    "if is_alphanumeric:\n",
    "    print('the string is alphanumeric')\n",
    "else:\n",
    "    print('the string is not alphanumeric')"
   ]
  },
  {
   "cell_type": "markdown",
   "id": "2163f8f2-602d-4b05-a2e6-99e0caf8a341",
   "metadata": {},
   "source": [
    "24. Extract all digits from a string."
   ]
  },
  {
   "cell_type": "code",
   "execution_count": 32,
   "id": "6c87ee0b-ac22-422d-bf38-de0feb57f4e2",
   "metadata": {},
   "outputs": [
    {
     "name": "stdout",
     "output_type": "stream",
     "text": [
      "['0', '0', '1', '5', '3', '1', '0', '0', '0']\n"
     ]
    }
   ],
   "source": [
    "s5 = 'kenya001 serem53 is haS 1000 DOLLARS'\n",
    "s5_digits = []\n",
    "digits = ('0','1','2','3','4','5','6','7','8','9')\n",
    "for char in s5:\n",
    "    if char in digits:\n",
    "        s5_digits.append(char)\n",
    "    \n",
    "print(s5_digits)        \n",
    "        \n"
   ]
  },
  {
   "cell_type": "code",
   "execution_count": 55,
   "id": "ac20c7f1-d5ce-4fba-b7a3-4026defd3fd3",
   "metadata": {},
   "outputs": [
    {
     "name": "stdout",
     "output_type": "stream",
     "text": [
      "['0', '0', '1']\n"
     ]
    }
   ],
   "source": [
    "# using regular expression\n",
    "import re\n",
    "s2 = 'KENYA001 is the best country'\n",
    "s2_digits = re.findall(r'\\d', s2)\n",
    "print(s2_digits)"
   ]
  },
  {
   "cell_type": "markdown",
   "id": "e209a6ea-a828-4868-b332-874d30d6955a",
   "metadata": {},
   "source": [
    "25. Extract all alphabets from a string."
   ]
  },
  {
   "cell_type": "code",
   "execution_count": 48,
   "id": "06350f72-6ca0-4a5b-b656-df12898dc7c7",
   "metadata": {},
   "outputs": [
    {
     "name": "stdout",
     "output_type": "stream",
     "text": [
      "KENYAISTHEBESTCOUNTRY\n"
     ]
    }
   ],
   "source": [
    "s2 = 'KENYA001 is the best country'\n",
    "s3 = s2.lower()\n",
    "s3_alphabets = []\n",
    "alphabets = list('abcdefghijklmnopqrstuvwxyz')\n",
    "for char in s3:\n",
    "    if char in alphabets:\n",
    "        s3_alphabets.append(char)\n",
    "s3_alphabets = ''.join(s3_alphabets)  \n",
    "s3_alphabets = s3_alphabets.upper()\n",
    "print(s3_alphabets)\n",
    "        \n",
    "\n",
    "\n"
   ]
  },
  {
   "cell_type": "code",
   "execution_count": 51,
   "id": "98a7290f-a8f5-4282-9f24-663c5d1df885",
   "metadata": {},
   "outputs": [
    {
     "name": "stdout",
     "output_type": "stream",
     "text": [
      "['K', 'E', 'N', 'Y', 'A', 'i', 's', 't', 'h', 'e', 'b', 'e', 's', 't', 'c', 'o', 'u', 'n', 't', 'r', 'y']\n"
     ]
    }
   ],
   "source": [
    "#using list comprehension\n",
    "s2 = 'KENYA001 is the best country'\n",
    "s2_alphabets = [char for char in s2 if char.isalpha()]\n",
    "print(s2_alphabets)"
   ]
  },
  {
   "cell_type": "markdown",
   "id": "5947a064-f8ae-466a-b208-3f25da124f7e",
   "metadata": {},
   "source": [
    "26. Count the number of uppercase letters in a string."
   ]
  },
  {
   "cell_type": "code",
   "execution_count": 10,
   "id": "21a6ca85-123b-42f1-8fca-242b21e7411f",
   "metadata": {},
   "outputs": [
    {
     "name": "stdout",
     "output_type": "stream",
     "text": [
      "5\n"
     ]
    }
   ],
   "source": [
    "s2 = 'KENYA001 is the best country'\n",
    "# list comprehension\n",
    "s3 = [char for char in s2 if char.isalpha()]\n",
    "upper_num = 0\n",
    "for letter in s3:\n",
    "    if letter.isupper():\n",
    "        upper_num+=1\n",
    "print(upper_num)"
   ]
  },
  {
   "cell_type": "markdown",
   "id": "cd906fd5-e865-40bf-b692-4c9ad781ec7c",
   "metadata": {},
   "source": [
    "\n",
    "27. Count the number of lowercase letters in a string."
   ]
  },
  {
   "cell_type": "code",
   "execution_count": 16,
   "id": "54204e92-a43d-4457-acf1-a2ce452e5870",
   "metadata": {},
   "outputs": [
    {
     "name": "stdout",
     "output_type": "stream",
     "text": [
      "16\n"
     ]
    }
   ],
   "source": [
    "s2 = 'KENYA001 is the best country'\n",
    "# list comprehension\n",
    "s3 = [char for char in s2 if char.isalpha()]\n",
    "lower_num = 0\n",
    "for letter in s3:\n",
    "    if letter.islower():\n",
    "        lower_num+=1\n",
    "print(lower_num)"
   ]
  },
  {
   "cell_type": "markdown",
   "id": "ea69be07-05be-4418-a60a-2d1b38d62b49",
   "metadata": {},
   "source": [
    "28. Swap the case of each character in a string."
   ]
  },
  {
   "cell_type": "code",
   "execution_count": 29,
   "id": "fd285642-34e9-46bd-bd84-21e6cea83b15",
   "metadata": {},
   "outputs": [
    {
     "name": "stdout",
     "output_type": "stream",
     "text": [
      "kenya001 IS THE BEST COUNTRY\n"
     ]
    }
   ],
   "source": [
    "s2 = 'KENYA001 is the best country'\n",
    "s3 = [letter.lower() if letter.isupper() else letter.upper() for letter in s2 ]\n",
    "s3 = ''.join(s3)\n",
    "print(s3)\n"
   ]
  },
  {
   "cell_type": "markdown",
   "id": "02ab3002-dbe1-489f-a270-21c0f985ba73",
   "metadata": {},
   "source": [
    "29. Remove a specific word from a string."
   ]
  },
  {
   "cell_type": "code",
   "execution_count": 58,
   "id": "c5252365-c174-482e-b792-5cbfe7ea624e",
   "metadata": {},
   "outputs": [
    {
     "name": "stdout",
     "output_type": "stream",
     "text": [
      "KENYA001 is the best\n"
     ]
    }
   ],
   "source": [
    "s2 = 'KENYA001 is the best country'\n",
    "s3 = s2.split()\n",
    "word_del = 'country'\n",
    "\n",
    "if word_del  in s3:\n",
    "    s3.remove(word_del)\n",
    "    s3 = ' '.join(s3)\n",
    "    print(s3)\n",
    "else:\n",
    "     print('the word is not found')\n",
    "   \n",
    "   "
   ]
  },
  {
   "cell_type": "markdown",
   "id": "0ab236df-aba5-460d-967c-1a4723f1b354",
   "metadata": {},
   "source": [
    "30. Check if a string is a valid email address."
   ]
  },
  {
   "cell_type": "code",
   "execution_count": 44,
   "id": "383d5d76-fa64-4b19-812e-7411532a2490",
   "metadata": {},
   "outputs": [
    {
     "name": "stdout",
     "output_type": "stream",
     "text": [
      "the email is valid\n"
     ]
    }
   ],
   "source": [
    "import re\n",
    "# Test cases\n",
    "email = 'trevorserem53@gmail.com'\n",
    "email1 = \"john.doe@example.com\"\n",
    "email2 = \"invalid-email\"\n",
    "email3 = \"user@subdomain.domain\"\n",
    "email4 = \"name@123.45\"\n",
    "email5 = \"noatsign.com\"\n",
    "\n",
    "pattern = r'^([\\w\\.\\-]+[\\@\\w\\.\\-]+\\.\\w+)$'\n",
    "#^ and $: These are anchors that represent the start and end of the string\n",
    "def check_mail(email):\n",
    "    return re.match(pattern, email) is not None\n",
    "if check_mail(email):\n",
    "    print('the email is valid')\n",
    "else:\n",
    "    print('the email is not valid')\n",
    "    "
   ]
  },
  {
   "cell_type": "code",
   "execution_count": 29,
   "id": "8f7da9ee-2d15-41aa-86e2-6e4a02c61269",
   "metadata": {},
   "outputs": [
    {
     "name": "stdout",
     "output_type": "stream",
     "text": [
      "Collecting validate_email\n",
      "  Downloading validate_email-1.3.tar.gz (4.7 kB)\n",
      "  Preparing metadata (setup.py) ... \u001b[?25ldone\n",
      "\u001b[?25hBuilding wheels for collected packages: validate_email\n",
      "  Building wheel for validate_email (setup.py) ... \u001b[?25ldone\n",
      "\u001b[?25h  Created wheel for validate_email: filename=validate_email-1.3-py3-none-any.whl size=5467 sha256=dee4ce7fe07590ac0839cd4305b8c8ecb2a085015521144756cc8dd0c48064c4\n",
      "  Stored in directory: /home/jovyan/.cache/pip/wheels/2a/7c/c9/0a5b1d17f87faadbf9c515122c4916f1f5b2cd34fca25b90af\n",
      "Successfully built validate_email\n",
      "Installing collected packages: validate_email\n",
      "Successfully installed validate_email-1.3\n",
      "Note: you may need to restart the kernel to use updated packages.\n"
     ]
    }
   ],
   "source": [
    "pip install validate_email\n"
   ]
  },
  {
   "cell_type": "code",
   "execution_count": 33,
   "id": "adff27f0-8f6e-4aea-81fd-2a00145a5064",
   "metadata": {},
   "outputs": [
    {
     "name": "stdout",
     "output_type": "stream",
     "text": [
      "the email is invalid\n"
     ]
    }
   ],
   "source": [
    "# using validate_email library\n",
    "from validate_email import validate_email\n",
    "\n",
    "email = 'trevorserem53@gmail.com'\n",
    "email1 = \"john.doe@example.com\"\n",
    "email2 = \"invalid-email\"\n",
    "email3 = \"user@subdomain.domain\"\n",
    "email4 = \"name@123.45\"\n",
    "email5 = \"noatsign.com\"\n",
    "\n",
    "\n",
    "if validate_email(email2):\n",
    "    print('the email is valid')\n",
    "else:\n",
    "    print('the email is invalid')"
   ]
  },
  {
   "cell_type": "markdown",
   "id": "22dd2079-5998-47ac-a586-7cbdff32dac6",
   "metadata": {},
   "source": [
    "31. Extract the username from an email address string."
   ]
  },
  {
   "cell_type": "code",
   "execution_count": 46,
   "id": "94d04a8a-575d-4231-8587-34ffd0193826",
   "metadata": {},
   "outputs": [
    {
     "name": "stdout",
     "output_type": "stream",
     "text": [
      "trevorserem53\n"
     ]
    }
   ],
   "source": [
    "# using regular expression library\n",
    "import re\n",
    "email = 'trevorserem53@gmail.com'\n",
    "\n",
    "match = re.match(r'^([\\w\\.\\-]+)@', email)\n",
    "if match:\n",
    "    username = match.group(1)\n",
    "print(username)\n",
    "\n"
   ]
  },
  {
   "cell_type": "code",
   "execution_count": 48,
   "id": "c7f2bae2-eded-43cd-b9f9-aac608b80a5a",
   "metadata": {},
   "outputs": [
    {
     "name": "stdout",
     "output_type": "stream",
     "text": [
      "trevorserem53\n"
     ]
    }
   ],
   "source": [
    "# using split method on string\n",
    "email = 'trevorserem53@gmail.com'\n",
    "username =email.split('@')\n",
    "#selecting the first part of the username\n",
    "print(username[0])"
   ]
  },
  {
   "cell_type": "markdown",
   "id": "603b857a-0201-4c4a-91d0-6e08063be604",
   "metadata": {},
   "source": [
    "32. Extract the domain name from an email address string."
   ]
  },
  {
   "cell_type": "code",
   "execution_count": 5,
   "id": "b8f6f165-eee7-4d45-84f9-44b9397b8bef",
   "metadata": {},
   "outputs": [
    {
     "name": "stdout",
     "output_type": "stream",
     "text": [
      "gmail\n"
     ]
    }
   ],
   "source": [
    "# using split method on string\n",
    "#using re.match  tries to match the regular expression pattern from the beginning of the string.\n",
    "import re\n",
    "email = 'trevorserem53@gmail.com'\n",
    "match = re.match(r'^([\\w\\.\\-]+)@([\\w]+).', email)\n",
    "if match:\n",
    "    domain = match.group(2)\n",
    "    print(domain)    \n",
    "    "
   ]
  },
  {
   "cell_type": "code",
   "execution_count": 8,
   "id": "c7f880be-7fbe-4b17-8fa5-dc30e58cc5f9",
   "metadata": {},
   "outputs": [
    {
     "name": "stdout",
     "output_type": "stream",
     "text": [
      "gmail\n"
     ]
    }
   ],
   "source": [
    "# using re.search  searches for the pattern anywhere in the string.\n",
    "import re \n",
    "email = 'trevorserem53@gmail.com'\n",
    "search = re.search(r'@([\\w]+).', email)\n",
    "if search:\n",
    "    domain = search.group(1)\n",
    "    print(domain)    \n",
    "    "
   ]
  },
  {
   "cell_type": "markdown",
   "id": "d96d1eca-3e97-4517-89a8-ba345420fff1",
   "metadata": {},
   "source": [
    "33. Replace multiple spaces in a string with a single space."
   ]
  },
  {
   "cell_type": "code",
   "execution_count": 25,
   "id": "9c72e96b-6316-4a23-bec4-9318c76a0ab0",
   "metadata": {},
   "outputs": [
    {
     "name": "stdout",
     "output_type": "stream",
     "text": [
      "i love python. python is a goood programming language\n"
     ]
    }
   ],
   "source": [
    "s1 = 'i love python.  python   is      a goood programming language'\n",
    "spaces = ['  ','   ','    ','  ']\n",
    "for space in spaces:\n",
    "    if space in s1:\n",
    "        s1 = s1.replace(space, ' ')\n",
    "print(s1)        "
   ]
  },
  {
   "cell_type": "code",
   "execution_count": 15,
   "id": "ac08064c-1da1-41d0-b5b0-1bbb9908be6e",
   "metadata": {},
   "outputs": [
    {
     "name": "stdout",
     "output_type": "stream",
     "text": [
      "i love python. python is a goood programming language\n"
     ]
    }
   ],
   "source": [
    "# using re\n",
    "import re\n",
    "\n",
    "s1 = 'i love python.  python    is     a goood programming language'\n",
    "pattern = r'\\s+'\n",
    "replacement = ' '\n",
    "\n",
    "s1 = re.sub(pattern, replacement, s1)\n",
    "\n",
    "print(s1)\n"
   ]
  },
  {
   "cell_type": "code",
   "execution_count": 29,
   "id": "c3f1a126-fdd2-452e-994c-c1dfef0de54a",
   "metadata": {},
   "outputs": [
    {
     "name": "stdout",
     "output_type": "stream",
     "text": [
      "i love python. python is a goood programming language\n"
     ]
    }
   ],
   "source": [
    "#using list comprehension\n",
    "s1 = 'i love python.  python    is                      a goood programming language'\n",
    "# Split the string into words, filter out empty strings, and join with a single space\n",
    "s1 = ' '.join(s1.split())\n",
    "print(s1)"
   ]
  },
  {
   "cell_type": "markdown",
   "id": "b8b4d4d4-df4d-42bb-bb27-e9b0f72546f8",
   "metadata": {},
   "source": [
    "34. Check if a string is a valid URL."
   ]
  },
  {
   "cell_type": "code",
   "execution_count": 36,
   "id": "99d27790-ea1c-422c-a0b1-47b924f3a994",
   "metadata": {},
   "outputs": [
    {
     "name": "stdout",
     "output_type": "stream",
     "text": [
      "the url is valid\n"
     ]
    }
   ],
   "source": [
    "import re\n",
    "url = 'https://drive.google.com/'\n",
    "url1 = 'http://drive.google.com/'\n",
    "search = re.search('https://|http://', url)\n",
    "if search:\n",
    "    print('the url is valid')\n",
    "else:\n",
    "    print('the url is not valid')\n"
   ]
  },
  {
   "cell_type": "code",
   "execution_count": 37,
   "id": "6596f200-f36e-4b85-83b2-55c026c98de2",
   "metadata": {},
   "outputs": [],
   "source": [
    "## using validators library"
   ]
  },
  {
   "cell_type": "code",
   "execution_count": 39,
   "id": "698d9caf-e49f-4ec4-80e2-5340a83e909b",
   "metadata": {},
   "outputs": [
    {
     "name": "stdout",
     "output_type": "stream",
     "text": [
      "Collecting validators\n",
      "  Downloading validators-0.21.2-py3-none-any.whl (25 kB)\n",
      "Installing collected packages: validators\n",
      "Successfully installed validators-0.21.2\n",
      "Note: you may need to restart the kernel to use updated packages.\n"
     ]
    }
   ],
   "source": [
    "pip install validators"
   ]
  },
  {
   "cell_type": "code",
   "execution_count": 44,
   "id": "a7430b2d-6d42-4753-bfe9-14940d07abd2",
   "metadata": {},
   "outputs": [
    {
     "name": "stdout",
     "output_type": "stream",
     "text": [
      "valid url\n"
     ]
    }
   ],
   "source": [
    "import validators\n",
    "url = \"https://www.example.com\"\n",
    "if validators.url(url):\n",
    "    print('valid url')\n",
    "else:\n",
    "    print('invalid url')"
   ]
  },
  {
   "cell_type": "markdown",
   "id": "bda8b5d9-b267-4c71-9faa-d9bffca2cb9d",
   "metadata": {},
   "source": [
    "35. Extract the protocol (http or https) from a URL string."
   ]
  },
  {
   "cell_type": "code",
   "execution_count": 52,
   "id": "bcd131d0-57cf-462d-b851-337c9f8bb06d",
   "metadata": {},
   "outputs": [
    {
     "name": "stdout",
     "output_type": "stream",
     "text": [
      "https\n"
     ]
    }
   ],
   "source": [
    "import re\n",
    "url = \"https://www.example.com\"\n",
    "url1 = \"http://www.example.com\"\n",
    "search = re.search(r'(https|http)', url)\n",
    "if search:\n",
    "    protocol = search.group(1)\n",
    "    print(protocol)"
   ]
  },
  {
   "cell_type": "markdown",
   "id": "f20873d4-5308-4ef9-9d6e-585e7c2abf76",
   "metadata": {},
   "source": [
    "36. Find the frequency of each character in a string."
   ]
  },
  {
   "cell_type": "code",
   "execution_count": 18,
   "id": "0cd6badf-0adb-4adb-ab08-e8bbae45c563",
   "metadata": {},
   "outputs": [
    {
     "name": "stdout",
     "output_type": "stream",
     "text": [
      "character: t frequency: 1\n",
      "character: o frequency: 3\n",
      "character: d frequency: 3\n",
      "character: a frequency: 3\n",
      "character: y frequency: 2\n",
      "character: i frequency: 1\n",
      "character: s frequency: 1\n",
      "character: g frequency: 1\n"
     ]
    }
   ],
   "source": [
    "# using dictionary \n",
    "s2 = 'today is a good day'\n",
    "# Create an empty dictionary to store character frequencies\n",
    "char_freq = {}\n",
    "for char in s2:\n",
    "    if char != ' ':\n",
    "        char_freq[char] = char_freq.get(char,0)+1\n",
    "for char,freq in char_freq.items():\n",
    "    print(f\"character: {char} frequency: {freq}\")"
   ]
  },
  {
   "cell_type": "code",
   "execution_count": 19,
   "id": "60b28424-5583-46dd-ade9-13392d4238cd",
   "metadata": {},
   "outputs": [
    {
     "name": "stdout",
     "output_type": "stream",
     "text": [
      "character: t frequency: 1\n",
      "character: o frequency: 3\n",
      "character: d frequency: 3\n",
      "character: a frequency: 3\n",
      "character: y frequency: 2\n",
      "character: i frequency: 1\n",
      "character: s frequency: 1\n",
      "character: g frequency: 1\n"
     ]
    }
   ],
   "source": [
    "# another way\n",
    "s2 = 'today is a good day'\n",
    "char_count = {}\n",
    "for char in s2:\n",
    "    if char != ' ':\n",
    "        if char in char_count:\n",
    "            char_count[char] += 1\n",
    "        else:\n",
    "            char_count[char] = 1\n",
    "for key, value in char_count.items():\n",
    "    print(f\"character: {key} frequency: {value}\")\n",
    "    "
   ]
  },
  {
   "cell_type": "markdown",
   "id": "d2f99893-35ce-445f-8868-d6dab2510e9d",
   "metadata": {},
   "source": [
    "37. Remove all punctuation from a string."
   ]
  },
  {
   "cell_type": "code",
   "execution_count": 29,
   "id": "8fbf808f-b4bd-4ca1-8a6a-79a38ae0585d",
   "metadata": {},
   "outputs": [
    {
     "name": "stdout",
     "output_type": "stream",
     "text": [
      "hello worldcome today.\n"
     ]
    }
   ],
   "source": [
    "import string\n",
    "s2 = 'hello! world.come, today..'\n",
    "s3 = list(s2)\n",
    "punctuation = list(string.punctuation)\n",
    "for char in s3:\n",
    "    if char in punctuation:\n",
    "        s3.remove(char)\n",
    "        \n",
    "s4 = ''.join(s3)\n",
    "        \n",
    "print(s4)       \n",
    "        "
   ]
  },
  {
   "cell_type": "markdown",
   "id": "68488cec-11be-458e-a21c-88602c3a62a2",
   "metadata": {},
   "source": [
    "38. Check if a string contains only digits."
   ]
  },
  {
   "cell_type": "code",
   "execution_count": 18,
   "id": "9458213c-c04a-4539-ab21-4fbabb19f4c5",
   "metadata": {},
   "outputs": [],
   "source": [
    "# using str.isdigit() method\n",
    "def is_all_digits(string):\n",
    "    if string.isdigit():\n",
    "        return 'the string contains only digits'\n",
    "    else:\n",
    "        return 'the string is not all digits'\n",
    "\n"
   ]
  },
  {
   "cell_type": "code",
   "execution_count": 20,
   "id": "9e5a7002-a803-4795-b9cd-16211e16e434",
   "metadata": {},
   "outputs": [
    {
     "data": {
      "text/plain": [
       "'the string is not all digits'"
      ]
     },
     "execution_count": 20,
     "metadata": {},
     "output_type": "execute_result"
    }
   ],
   "source": [
    "s = '12345 trevor'\n",
    "is_all_digits(s)"
   ]
  },
  {
   "cell_type": "markdown",
   "id": "11d0203c-79e9-4926-9131-5562209b060e",
   "metadata": {},
   "source": [
    "39. Check if a string contains only alphabets."
   ]
  },
  {
   "cell_type": "code",
   "execution_count": 4,
   "id": "3df111b1-e180-406d-a5f9-c8953edb8e42",
   "metadata": {},
   "outputs": [
    {
     "name": "stdout",
     "output_type": "stream",
     "text": [
      "string not fully alphabets\n"
     ]
    }
   ],
   "source": [
    "string = 'i love python language2'\n",
    "# remove spaces\n",
    "string2 = string.replace(' ','')\n",
    "if string2.isalpha():\n",
    "    print('string is only alpahbets')\n",
    "else:\n",
    "    print('string not fully alphabets')"
   ]
  },
  {
   "cell_type": "code",
   "execution_count": 15,
   "id": "2ab2ca3f-4a2f-4232-82b4-9da788b5005f",
   "metadata": {},
   "outputs": [
    {
     "name": "stdout",
     "output_type": "stream",
     "text": [
      "string not fully alphabets\n"
     ]
    }
   ],
   "source": [
    "##checking each character individually\n",
    "string = 'i love python language2'\n",
    "string1 = string.replace(' ','')\n",
    "is_alpha = True\n",
    "for letter in string1:\n",
    "    if not letter.isalpha():\n",
    "        is_alpha = False\n",
    "        break\n",
    "        \n",
    "if is_alpha:\n",
    "    print('string is only alpahbets')\n",
    "else:\n",
    "    print('string not fully alphabets')"
   ]
  },
  {
   "cell_type": "markdown",
   "id": "eefa0779-871b-4787-8b4b-857b04ca3da8",
   "metadata": {},
   "source": [
    "40. Convert a string to a list of characters."
   ]
  },
  {
   "cell_type": "code",
   "execution_count": 14,
   "id": "b3bdf28d-adae-4183-b709-ce61a1cf867e",
   "metadata": {},
   "outputs": [
    {
     "data": {
      "text/plain": [
       "['i', 'l', 'o', 'v', 'e', 'p', 'y', 't', 'h', 'o', 'n']"
      ]
     },
     "execution_count": 14,
     "metadata": {},
     "output_type": "execute_result"
    }
   ],
   "source": [
    "s2 = 'i love python'\n",
    "s3 = s2.replace(' ','')\n",
    "s4 = list(s3)\n",
    "s4"
   ]
  },
  {
   "cell_type": "markdown",
   "id": "9cd6be8e-ffc7-47d0-adce-a913ec37d9a8",
   "metadata": {},
   "source": [
    "41. Check if two strings are anagrams."
   ]
  },
  {
   "cell_type": "code",
   "execution_count": 19,
   "id": "6fbb9bc8-b1e6-464a-9a9b-0de8e9ec215c",
   "metadata": {},
   "outputs": [],
   "source": [
    "def is_anagrams(str1,str2):\n",
    "    #remove spaces and convert both strings to lowercase for case-insensitivity\n",
    "    str1 = str1.replace(' ','').lower()\n",
    "    str2 = str2.replace(' ','').lower()\n",
    "    #check if the lengths are the same\n",
    "    if len(str1) != len(str2):\n",
    "        return False\n",
    "    else:\n",
    "        # use dictionaries to count the frequency of characters in both strings \n",
    "        char_count1 = {}\n",
    "        char_count2 = {}\n",
    "        #count characters in str1\n",
    "        for char in str1:\n",
    "            if char in char_count1:\n",
    "                char_count1[char] += 1\n",
    "            else:\n",
    "                char_count1[char] = 1\n",
    "         #count characters in str2\n",
    "        for char in str2:\n",
    "            if char in char_count2:\n",
    "                char_count2[char] += 1\n",
    "            else:\n",
    "                char_count2[char] = 1\n",
    "        if char_count1 == char_count2:\n",
    "            return True\n",
    "    \n",
    "        "
   ]
  },
  {
   "cell_type": "code",
   "execution_count": 23,
   "id": "0894cac4-c619-4776-8aab-dd3826040f18",
   "metadata": {},
   "outputs": [
    {
     "name": "stdout",
     "output_type": "stream",
     "text": [
      "serem and meres are anagrams\n"
     ]
    }
   ],
   "source": [
    "str1 = 'serem'\n",
    "str2 = 'meres'\n",
    "result = is_anagrams(str1,str2)\n",
    "if result:\n",
    "    print(f'{str1} and {str2} are anagrams')\n",
    "else:\n",
    "    print(f'{str1} and {str2} are not anagrams')"
   ]
  },
  {
   "cell_type": "markdown",
   "id": "fe293d0c-2fc8-4a0d-8ba1-9b470b49e596",
   "metadata": {},
   "source": [
    "42. Encode a string using a Caesar cipher."
   ]
  },
  {
   "cell_type": "code",
   "execution_count": 58,
   "id": "71643464-ef61-4b09-94a0-1b644463d5b4",
   "metadata": {},
   "outputs": [],
   "source": [
    "def cipher(text,shift):\n",
    "    letters = 'ABCDEFGHIJKLMNOPQRSTUVWXYZ'\n",
    "    encoded_text = ''\n",
    "    for char in text:\n",
    "        if char.islower():\n",
    "            char = char.upper()\n",
    "        if char in letters:\n",
    "            char_index = letters.index(char)\n",
    "            encoded_index = (char_index + shift)\n",
    "            if encoded_index >= 26:\n",
    "                encoded_index = encoded_index%26\n",
    "            encoded_char = letters[encoded_index]\n",
    "            encoded_text += encoded_char\n",
    "        else:\n",
    "            encoded_text += char\n",
    "    return encoded_text\n",
    "               \n",
    "        "
   ]
  },
  {
   "cell_type": "code",
   "execution_count": 62,
   "id": "6023f5c6-1b11-4719-be39-f6dd88039e47",
   "metadata": {},
   "outputs": [
    {
     "name": "stdout",
     "output_type": "stream",
     "text": [
      "the ceaser cipher of the word xavier is adylhu\n"
     ]
    }
   ],
   "source": [
    "text = 'xavier'\n",
    "shift = 3\n",
    "if text.islower():\n",
    "    result = cipher(text,shift).lower()\n",
    "else:\n",
    "    result = cipher(text,shift)\n",
    "print(f'the ceaser cipher of the word {text} is {result}')    "
   ]
  },
  {
   "cell_type": "code",
   "execution_count": null,
   "id": "a6c0e7ae-48a6-4421-90c4-0c6564d82848",
   "metadata": {},
   "outputs": [],
   "source": []
  },
  {
   "cell_type": "markdown",
   "id": "6ccfc829-d685-4b85-b79e-4f4d162382df",
   "metadata": {},
   "source": [
    "43. Decode a Caesar cipher encoded string."
   ]
  },
  {
   "cell_type": "code",
   "execution_count": 71,
   "id": "4e60d251-936b-40d3-a8aa-cb488e04db3f",
   "metadata": {},
   "outputs": [],
   "source": [
    "def decode(text,shift):\n",
    "    letters = 'ABCDEFGHIJKLMNOPQRSTUVWXYZ'\n",
    "    decoded_text  = ''\n",
    "    for char in text:\n",
    "        if char.islower():\n",
    "            char = char.upper()\n",
    "        if char in letters:\n",
    "            char_index =letters.index(char)\n",
    "            decoded_index = (char_index-shift)\n",
    "            decoded_char = letters[decoded_index]\n",
    "            decoded_text += decoded_char\n",
    "        else:\n",
    "            decoded_text += char\n",
    "    return decoded_text       "
   ]
  },
  {
   "cell_type": "code",
   "execution_count": 72,
   "id": "44ab4f94-a2fb-45e1-b1ad-96c5e9d2c9fb",
   "metadata": {},
   "outputs": [
    {
     "name": "stdout",
     "output_type": "stream",
     "text": [
      "the  decoded ceaser cipher of the word adylhu is xavier\n"
     ]
    }
   ],
   "source": [
    "text = 'adylhu'\n",
    "shift = 3\n",
    "if text.islower():\n",
    "    result = decode(text,shift).lower()\n",
    "else:\n",
    "    result = decode(text,shift)\n",
    "print(f'the  decoded ceaser cipher of the word {text} is {result}')    "
   ]
  },
  {
   "cell_type": "markdown",
   "id": "f537fd29-4d6c-4d2f-ba31-3aaf0aa7a559",
   "metadata": {},
   "source": [
    "44. Find the most frequent word in a string."
   ]
  },
  {
   "cell_type": "code",
   "execution_count": 15,
   "id": "c2202495-b650-4a5f-b1de-dc706f412720",
   "metadata": {},
   "outputs": [],
   "source": [
    "##remove punctuation characters  first isng re\n",
    "import string\n",
    "def remove_punctuation(text):\n",
    "    punctuation_chars = string.punctuation\n",
    "    for char in text:\n",
    "        if char in punctuation_chars:\n",
    "            text = text.replace(char,'')\n",
    "    return text\n",
    "            "
   ]
  },
  {
   "cell_type": "code",
   "execution_count": 27,
   "id": "e897a68e-7324-4d05-ae28-0fb33515ee60",
   "metadata": {},
   "outputs": [
    {
     "name": "stdout",
     "output_type": "stream",
     "text": [
      "trevor is the word with the highest frequency of 3\n"
     ]
    }
   ],
   "source": [
    "s1 = 'trevor, trevor, trevor'\n",
    "s2 = remove_punctuation(s1)\n",
    "s2 = s2.split()\n",
    "count_dict = {}\n",
    "high_freq = 0\n",
    "for word in s2:\n",
    "    if word in count_dict:\n",
    "        count_dict[word] += 1\n",
    "    else:\n",
    "        count_dict[word] = 1\n",
    "for key,value in count_dict.items():\n",
    "    if value > high_freq:\n",
    "        high_freq = value\n",
    "        print(f'{key} is the word with the highest frequency of {value}')\n",
    "    \n",
    "       \n",
    "    \n",
    "        \n",
    "        "
   ]
  },
  {
   "cell_type": "markdown",
   "id": "807c8126-bc6e-4d7b-8725-e8d94a623568",
   "metadata": {},
   "source": [
    "45. Find all unique words in a string."
   ]
  },
  {
   "cell_type": "code",
   "execution_count": 32,
   "id": "b150e9c9-efcf-4679-8de5-546598047f84",
   "metadata": {},
   "outputs": [
    {
     "name": "stdout",
     "output_type": "stream",
     "text": [
      "unique-words:\n",
      "sample\n",
      "a\n",
      "this\n",
      "string\n",
      "words\n",
      "contains\n",
      "some\n",
      "it\n",
      "is\n"
     ]
    }
   ],
   "source": [
    "def find_unique_words(input_string):\n",
    "    # split by spaces\n",
    "    words = input_string.split()\n",
    "\n",
    "    # Create a set to store unique words sets cannot contain duplicate elements!!\n",
    "    unique_words = set()\n",
    "\n",
    "    # Iterate through the words and add them to the set\n",
    "    for word in words:\n",
    "        # Remove punctuation and convert to lowercase (if needed)\n",
    "        cleaned_word = word.strip(\".,!?\").lower()\n",
    "        unique_words.add(cleaned_word)\n",
    "\n",
    "    return unique_words\n",
    "\n",
    "# Example usage:\n",
    "input_string = \"This is a sample string. It contains some sample words.\"\n",
    "unique_words = find_unique_words(input_string)\n",
    "\n",
    "# Print the unique words\n",
    "print('unique-words:')\n",
    "for word in unique_words:\n",
    "    print(word)\n"
   ]
  },
  {
   "cell_type": "markdown",
   "id": "0d3f2972-a572-45a4-8fd4-b200d5aef832",
   "metadata": {},
   "source": [
    "46. Count the number of syllables in a string."
   ]
  },
  {
   "cell_type": "code",
   "execution_count": 33,
   "id": "210223f4-2114-4e69-a490-139ca5fe6879",
   "metadata": {},
   "outputs": [
    {
     "name": "stdout",
     "output_type": "stream",
     "text": [
      "Hello,: 2 syllables\n",
      "this: 1 syllables\n",
      "is: 1 syllables\n",
      "an: 1 syllables\n",
      "example: 4 syllables\n",
      "sentence.: 3 syllables\n"
     ]
    }
   ],
   "source": [
    "def count_syllables(word):\n",
    "    # Convert the word to lowercase to simplify checks\n",
    "    word = word.lower()\n",
    "    \n",
    "    # Define a list of common syllable prefixes and suffixes\n",
    "    prefixes = ['anti', 'auto', 'bio', 'dis', 'mis', 'pre', 'un', 'inter']\n",
    "    suffixes = ['es', 'ed', 'ing', 'ly']\n",
    "    \n",
    "    # Initialize a count of syllables\n",
    "    syllable_count = 0\n",
    "    \n",
    "    # Handle some special cases\n",
    "    if word in ['a', 'e', 'i', 'o', 'u']:\n",
    "        syllable_count = 1\n",
    "    elif word.endswith('e'):\n",
    "        syllable_count = max(1, syllable_count)\n",
    "    \n",
    "    # Iterate through the characters in the word\n",
    "    for char in word:\n",
    "        if char in 'aeiouy':\n",
    "            syllable_count += 1\n",
    "    \n",
    "    # Adjust for prefixes and suffixes\n",
    "    for prefix in prefixes:\n",
    "        if word.startswith(prefix):\n",
    "            syllable_count -= 1\n",
    "    \n",
    "    for suffix in suffixes:\n",
    "        if word.endswith(suffix):\n",
    "            syllable_count -= 1\n",
    "    \n",
    "    # Ensure the count is at least 1\n",
    "    syllable_count = max(1, syllable_count)\n",
    "    \n",
    "    return syllable_count\n",
    "\n",
    "# Example usage:\n",
    "input_string = \"Hello, this is an example sentence.\"\n",
    "words = input_string.split()\n",
    "\n",
    "for word in words:\n",
    "    print(f\"{word}: {count_syllables(word)} syllables\")\n"
   ]
  },
  {
   "cell_type": "markdown",
   "id": "f9c54bfd-a0e0-44ca-9680-c12c949437f6",
   "metadata": {},
   "source": [
    "47. Check if a string contains any special characters."
   ]
  },
  {
   "cell_type": "code",
   "execution_count": 13,
   "id": "bba6a140-c375-49a0-a6ba-5aa2e88eb577",
   "metadata": {},
   "outputs": [
    {
     "name": "stdout",
     "output_type": "stream",
     "text": [
      "string contains special characters\n"
     ]
    }
   ],
   "source": [
    "import re\n",
    "def check_special_char(input_string):\n",
    "      # Define a pattern to match special characters\n",
    "    pattern = r'[!,@#$%^&*()_+{}[]|\\/:;<>,.?~-]'\n",
    "     # Use re.search to check if any character in the input_string matches the pattern\n",
    "    match = re.search(pattern, input_string)\n",
    "    if match:\n",
    "        print('string contains special characters')\n",
    "    else:\n",
    "        print('String does not contain special characters')\n",
    "            \n",
    "       \n",
    " # Test the function           \n",
    "check_special_char('hey,') \n"
   ]
  },
  {
   "cell_type": "markdown",
   "id": "46bdc386-ff45-4029-af4c-5219981a8d56",
   "metadata": {},
   "source": [
    "48. Remove the nth word from a string."
   ]
  },
  {
   "cell_type": "code",
   "execution_count": 21,
   "id": "c33c9033-3672-4bbb-8eff-89633f894595",
   "metadata": {},
   "outputs": [
    {
     "data": {
      "text/plain": [
       "'hello will come tomorrow'"
      ]
     },
     "execution_count": 21,
     "metadata": {},
     "output_type": "execute_result"
    }
   ],
   "source": [
    "def remove_word(text,n):\n",
    "    words = text.split()\n",
    "    if n >= 1 and n <= len(words):\n",
    "        words.pop(n-1)\n",
    "        new_words = ' '.join(words)\n",
    "        return  new_words\n",
    "    else:\n",
    "        print('invalid number to be removed')\n",
    "        \n",
    "remove_word('hello will you come tomorrow', 3)    "
   ]
  },
  {
   "cell_type": "markdown",
   "id": "75b0b99a-d928-4fa3-827c-71f6dec5ac80",
   "metadata": {},
   "source": [
    "49. Insert a word at the nth position in a string."
   ]
  },
  {
   "cell_type": "code",
   "execution_count": 22,
   "id": "1d5948b4-d8ab-4693-b208-d3bdb807bf95",
   "metadata": {},
   "outputs": [
    {
     "data": {
      "text/plain": [
       "'hello will trevor come tomorrow'"
      ]
     },
     "execution_count": 22,
     "metadata": {},
     "output_type": "execute_result"
    }
   ],
   "source": [
    "def add_word(text,n):\n",
    "    words = 'hello will come tomorrow'\n",
    "    words = words.split()\n",
    "    if n >= 1 and n <= len(words):\n",
    "        words.insert(n-1, text)\n",
    "        new_words = ' '.join(words)\n",
    "        return  new_words\n",
    "    else:\n",
    "        print('invalid number to be removed')\n",
    "        \n",
    "add_word('trevor', 3)    "
   ]
  },
  {
   "cell_type": "markdown",
   "id": "5d922522-e9a6-46aa-87d8-53bad2b3b017",
   "metadata": {},
   "source": [
    "50. Convert a CSV string to a list of lists."
   ]
  },
  {
   "cell_type": "code",
   "execution_count": 3,
   "id": "5b0f1564-4b97-4adc-9056-09251e1925c9",
   "metadata": {},
   "outputs": [
    {
     "name": "stdout",
     "output_type": "stream",
     "text": [
      "[['Name', 'Age', 'Location'], ['John', '30', 'New York'], ['Alice', '25', 'Los Angeles'], ['Bob', '35', 'Chicago']]\n"
     ]
    }
   ],
   "source": [
    "input_string = \"\"\"Name,Age,Location\n",
    "John,30,New York\n",
    "Alice,25,Los Angeles\n",
    "Bob,35,Chicago\n",
    "\"\"\"\n",
    "lines = input_string.strip().split('\\n')   # Remove leading/trailing whitespace and split by newline\n",
    "result = []\n",
    "for line in lines:\n",
    "    fields = line.split(',')\n",
    "    result.append(fields)\n",
    "print(result)    \n",
    "    \n"
   ]
  },
  {
   "cell_type": "code",
   "execution_count": 4,
   "id": "50d37f79-1117-40f1-b65a-5d9fda95ac2b",
   "metadata": {},
   "outputs": [
    {
     "name": "stdout",
     "output_type": "stream",
     "text": [
      "['Name', 'Age', 'Location']\n",
      "['John', '30', 'New York']\n",
      "['Alice', '25', 'Los Angeles']\n",
      "['Bob', '35', 'Chicago']\n"
     ]
    }
   ],
   "source": [
    "## csv module, which provides functions for working with CSV data\n",
    "import csv\n",
    "from io import StringIO\n",
    "\n",
    "# Sample CSV string\n",
    "csv_string = \"\"\"Name,Age,Location\n",
    "John,30,New York\n",
    "Alice,25,Los Angeles\n",
    "Bob,35,Chicago\"\"\"\n",
    "\n",
    "# Create a StringIO object to simulate a file-like object\n",
    "csv_file = StringIO(csv_string)\n",
    "# Initialize a CSV reader\n",
    "csv_reader = csv.reader(csv_file)\n",
    "# Convert the CSV data to a list of lists\n",
    "csv_data = [row for row in csv_reader]\n",
    "# Print the resulting list of lists\n",
    "for row in csv_data:\n",
    "    print(row)"
   ]
  },
  {
   "cell_type": "markdown",
   "id": "d7a7d556-a2de-415a-8362-871cea6d1d7e",
   "metadata": {
    "jp-MarkdownHeadingCollapsed": true,
    "tags": []
   },
   "source": [
    "## List Based Practice Problem :"
   ]
  },
  {
   "cell_type": "markdown",
   "id": "ede929eb-f4d0-4722-aaab-7eb6d6a75304",
   "metadata": {},
   "source": [
    "1. Create a list with integers from 1 to 10."
   ]
  },
  {
   "cell_type": "code",
   "execution_count": 8,
   "id": "7d087aec-5cc4-420d-acce-f3adafb9d852",
   "metadata": {},
   "outputs": [
    {
     "data": {
      "text/plain": [
       "[1, 2, 3, 4, 5, 6, 7, 8, 9, 10]"
      ]
     },
     "execution_count": 8,
     "metadata": {},
     "output_type": "execute_result"
    }
   ],
   "source": [
    "list(range(1,11))"
   ]
  },
  {
   "cell_type": "markdown",
   "id": "a0eed1d8-9333-4227-af95-f29142065f08",
   "metadata": {},
   "source": [
    "2. Find the length of a list without using the `len()` function."
   ]
  },
  {
   "cell_type": "code",
   "execution_count": 12,
   "id": "75efbece-d496-41ef-83c0-9581bc0d7abb",
   "metadata": {},
   "outputs": [
    {
     "name": "stdout",
     "output_type": "stream",
     "text": [
      "the length of my_list is 10\n"
     ]
    }
   ],
   "source": [
    "my_list = list(range(1,11))\n",
    "count = 0\n",
    "for i in my_list:\n",
    "    count += 1\n",
    "print('the length of my_list is',count)    "
   ]
  },
  {
   "cell_type": "markdown",
   "id": "3527fcfc-d6a0-4a79-bc89-440dc0d22842",
   "metadata": {},
   "source": [
    "3. Append an element to the end of a list."
   ]
  },
  {
   "cell_type": "code",
   "execution_count": 15,
   "id": "08fa9e1c-4aab-4dcb-8d17-aae552c2359d",
   "metadata": {},
   "outputs": [
    {
     "name": "stdout",
     "output_type": "stream",
     "text": [
      "[0, 1, 2, 3, 4, 12]\n"
     ]
    }
   ],
   "source": [
    "my_list1 = list(range(5))\n",
    "add_element = 12\n",
    "my_list1.append(add_element)\n",
    "print(my_list1)"
   ]
  },
  {
   "cell_type": "markdown",
   "id": "2403669c-4a47-4626-ba16-48066b003d5d",
   "metadata": {},
   "source": [
    "4. Insert an element at a specific index in a list."
   ]
  },
  {
   "cell_type": "code",
   "execution_count": 19,
   "id": "7809f5b7-c211-4a5f-8992-a2882fd3bcee",
   "metadata": {},
   "outputs": [
    {
     "name": "stdout",
     "output_type": "stream",
     "text": [
      "[0, 1, 2, 13, 3, 4]\n"
     ]
    }
   ],
   "source": [
    "my_list2 = list(range(5))\n",
    "# Insert the new element at the specified index\n",
    "# 3 = index to be inserted and 13 = element to be inserted\n",
    "my_list2.insert(3, 13)\n",
    "print(my_list2)"
   ]
  },
  {
   "cell_type": "markdown",
   "id": "3cfa4388-6598-45dd-964b-c31c731162fa",
   "metadata": {},
   "source": [
    "5. Remove an element from a list by its value."
   ]
  },
  {
   "cell_type": "code",
   "execution_count": 22,
   "id": "e4f2d88a-c6c4-40fc-8a4b-9eea2e82fbf8",
   "metadata": {},
   "outputs": [
    {
     "name": "stdout",
     "output_type": "stream",
     "text": [
      "[1, 2, 3, 5, 6]\n"
     ]
    }
   ],
   "source": [
    "my_list = [1,2,3,4,5,6]\n",
    "my_list.remove(4)\n",
    "print(my_list)"
   ]
  },
  {
   "cell_type": "markdown",
   "id": "3d78912b-956a-4edf-94d7-9717e31b5763",
   "metadata": {},
   "source": [
    "remove() removes an element by its value and doesn't require specifying an index. It's useful when you know the value you want to remove.\n",
    "\n",
    "pop() removes an element by its index and returns the removed element. It's useful when you need to access and use the removed element, or when you want to remove elements from specific positions in the list."
   ]
  },
  {
   "cell_type": "markdown",
   "id": "5d502059-c524-4fa0-bc56-240af1e502b8",
   "metadata": {},
   "source": [
    "6. Remove an element from a list by its index."
   ]
  },
  {
   "cell_type": "code",
   "execution_count": 23,
   "id": "367889ae-b1c5-4127-bb9e-5402ccfed446",
   "metadata": {},
   "outputs": [
    {
     "name": "stdout",
     "output_type": "stream",
     "text": [
      "[1, 2, 3, 4, 6]\n"
     ]
    }
   ],
   "source": [
    "my_list = [1,2,3,4,5,6]\n",
    "my_list.pop(4)\n",
    "print(my_list)"
   ]
  },
  {
   "cell_type": "markdown",
   "id": "31618fd3-bd98-457e-96d3-243aff33cb00",
   "metadata": {},
   "source": [
    "7. Check if an element exists in a list."
   ]
  },
  {
   "cell_type": "code",
   "execution_count": 1,
   "id": "b463a3de-e096-48da-9324-feab0e1857c4",
   "metadata": {},
   "outputs": [
    {
     "name": "stdout",
     "output_type": "stream",
     "text": [
      "the element does not exist\n"
     ]
    }
   ],
   "source": [
    "my_list = [1,2,3,4,5,6]\n",
    "search_element = 12\n",
    "for i in my_list:\n",
    "    if i == search_element:\n",
    "        print('the element exists')\n",
    "        break\n",
    "else:\n",
    "    print('the element does not exist')\n",
    "    \n",
    "       "
   ]
  },
  {
   "cell_type": "markdown",
   "id": "694cbc56-d263-4d7c-8b9a-d1c3f92d0bf2",
   "metadata": {},
   "source": [
    "8. Find the index of the first occurrence of an element in a list."
   ]
  },
  {
   "cell_type": "code",
   "execution_count": 8,
   "id": "3d73bbe8-6669-4dee-8fbc-ca2a3314ec88",
   "metadata": {},
   "outputs": [
    {
     "name": "stdout",
     "output_type": "stream",
     "text": [
      "The index of 3 is 2\n"
     ]
    }
   ],
   "source": [
    "# Example list\n",
    "my_list = [1,2,3,4,5,3]\n",
    "\n",
    "# Element to find the index of\n",
    "element_to_find = 3\n",
    "\n",
    "# Find the index of the first occurrence of the element\n",
    "index = my_list.index(element_to_find)\n",
    "\n",
    "# Print the index\n",
    "print(f\"The index of {element_to_find} is {index}\")"
   ]
  },
  {
   "cell_type": "markdown",
   "id": "f701c555-7bbb-4410-8703-5bc07327a77d",
   "metadata": {},
   "source": [
    "9. Count the occurrences of an element in a list."
   ]
  },
  {
   "cell_type": "code",
   "execution_count": 13,
   "id": "17644390-241f-41b8-b070-3d2f7c319f9f",
   "metadata": {},
   "outputs": [
    {
     "name": "stdout",
     "output_type": "stream",
     "text": [
      "1 is repeated 1 times\n",
      "2 is repeated 1 times\n",
      "3 is repeated 2 times\n",
      "4 is repeated 1 times\n",
      "5 is repeated 5 times\n"
     ]
    }
   ],
   "source": [
    "my_list = [1,2,3,4,5,3,5,5,5,5]\n",
    "occurences = {}\n",
    "for i in my_list:\n",
    "    if i in occurences.keys():\n",
    "        occurences[i] += 1\n",
    "    else:\n",
    "        occurences[i] = 1\n",
    "        \n",
    "for key,value in occurences.items():\n",
    "    print(f'{key} is repeated {value} times')\n",
    "        "
   ]
  },
  {
   "cell_type": "markdown",
   "id": "5d111d71-3494-4762-9cce-50eb52fdad00",
   "metadata": {},
   "source": [
    "10. Reverse the order of elements in a list."
   ]
  },
  {
   "cell_type": "code",
   "execution_count": 17,
   "id": "c606547c-4e37-4f72-a11e-7843d8c4162f",
   "metadata": {},
   "outputs": [
    {
     "name": "stdout",
     "output_type": "stream",
     "text": [
      "[5, 4, 3, 2, 1]\n"
     ]
    }
   ],
   "source": [
    "#  slicing the list with a step of -1. \n",
    "my_list = [1,2,3,4,5]\n",
    "reversed_list  = my_list[::-1]\n",
    "print(reversed_list)"
   ]
  },
  {
   "cell_type": "code",
   "execution_count": 18,
   "id": "0f53cda7-530f-4982-94c6-23879354e245",
   "metadata": {},
   "outputs": [
    {
     "name": "stdout",
     "output_type": "stream",
     "text": [
      "Reversed list: [5, 4, 3, 2, 1]\n"
     ]
    }
   ],
   "source": [
    "# using reverse() function\n",
    "# Example list\n",
    "my_list = [1,2,3,4,5]\n",
    "\n",
    "# Reverse the order of elements in the list\n",
    "my_list.reverse()\n",
    "\n",
    "# Print the reversed list\n",
    "print(\"Reversed list:\", my_list)"
   ]
  },
  {
   "cell_type": "markdown",
   "id": "d92390fa-54ef-4fe2-9896-f9042874958b",
   "metadata": {},
   "source": [
    "11. Sort a list in ascending order."
   ]
  },
  {
   "cell_type": "code",
   "execution_count": 22,
   "id": "3e71ada6-f744-4f52-a3e1-286ce0d9ab43",
   "metadata": {},
   "outputs": [
    {
     "name": "stdout",
     "output_type": "stream",
     "text": [
      "[1, 2, 3, 4, 5]\n"
     ]
    }
   ],
   "source": [
    "my_list = [4,3,1,5,2]\n",
    "my_list.sort()\n",
    "print(my_list)\n"
   ]
  },
  {
   "cell_type": "markdown",
   "id": "a674e0c7-1c0f-45b9-8b06-123f481ba0c9",
   "metadata": {},
   "source": [
    "12. Sort a list in descending order."
   ]
  },
  {
   "cell_type": "code",
   "execution_count": 28,
   "id": "5902985a-8092-4d2d-859d-c56550dd9ac3",
   "metadata": {},
   "outputs": [
    {
     "name": "stdout",
     "output_type": "stream",
     "text": [
      "[5, 4, 3, 2, 1]\n"
     ]
    }
   ],
   "source": [
    "# using sorted() this will not modify the original list\n",
    "my_list = [4,3,1,5,2]\n",
    "des = sorted(my_list,reverse=True)\n",
    "print(des)\n"
   ]
  },
  {
   "cell_type": "markdown",
   "id": "2ebbaa54-8e5e-4fd9-9782-b885d69f1170",
   "metadata": {},
   "source": [
    "13. Create a list of even numbers from 1 to 20."
   ]
  },
  {
   "cell_type": "code",
   "execution_count": 31,
   "id": "83cb4574-3918-492d-a90b-2d463ee9625d",
   "metadata": {},
   "outputs": [
    {
     "name": "stdout",
     "output_type": "stream",
     "text": [
      "[2, 4, 6, 8, 10, 12, 14, 16, 18, 20]\n"
     ]
    }
   ],
   "source": [
    "# using range()\n",
    "my_list = list(range(2,21,2))\n",
    "print(my_list)"
   ]
  },
  {
   "cell_type": "code",
   "execution_count": 32,
   "id": "2672145f-b6fd-4e69-9bb4-e72fe8869a17",
   "metadata": {},
   "outputs": [
    {
     "name": "stdout",
     "output_type": "stream",
     "text": [
      "[2, 4, 6, 8, 10, 12, 14, 16, 18, 20]\n"
     ]
    }
   ],
   "source": [
    "# using list compreensions\n",
    "even_numbers = [i for i in range(2,21,2)]\n",
    "print(even_numbers)"
   ]
  },
  {
   "cell_type": "markdown",
   "id": "01eeb162-cc5a-42e7-a638-746b63e7594f",
   "metadata": {},
   "source": [
    "14. Create a list of odd numbers from 1 to 20."
   ]
  },
  {
   "cell_type": "code",
   "execution_count": 4,
   "id": "4fcd183d-87bb-4925-9c5a-42ef4e993a6f",
   "metadata": {},
   "outputs": [
    {
     "name": "stdout",
     "output_type": "stream",
     "text": [
      "[1, 3, 5, 7, 9, 11, 13, 15, 17, 19]\n"
     ]
    }
   ],
   "source": [
    "my_list =list(range(1,21,2))\n",
    "print(my_list)"
   ]
  },
  {
   "cell_type": "markdown",
   "id": "f35f6931-7ef6-4569-b280-04bc3abdc533",
   "metadata": {},
   "source": [
    "15. Find the sum of all elements in a list."
   ]
  },
  {
   "cell_type": "code",
   "execution_count": 5,
   "id": "a04610f3-86c9-434d-bec3-83e6c2d43dad",
   "metadata": {},
   "outputs": [
    {
     "name": "stdout",
     "output_type": "stream",
     "text": [
      "30\n"
     ]
    }
   ],
   "source": [
    "my_list = [2,4,6,8,10]\n",
    "total_sum = 0\n",
    "for i in my_list:\n",
    "    total_sum = total_sum+i\n",
    "print(total_sum)"
   ]
  },
  {
   "cell_type": "code",
   "execution_count": 6,
   "id": "266ac6f2-3420-42f4-a1cf-42e340a2a1e4",
   "metadata": {},
   "outputs": [
    {
     "name": "stdout",
     "output_type": "stream",
     "text": [
      "30\n"
     ]
    }
   ],
   "source": [
    "# using sum()\n",
    "my_list = [2,4,6,8,10]\n",
    "total_sum = sum(my_list)\n",
    "print(total_sum)\n",
    "\n"
   ]
  },
  {
   "cell_type": "markdown",
   "id": "73ebea25-f3e2-42d6-8f1e-bc69eb326f5d",
   "metadata": {},
   "source": [
    "16. Find the maximum value in a list."
   ]
  },
  {
   "cell_type": "code",
   "execution_count": 9,
   "id": "5e79bfe0-f41e-456f-9f21-03873e995d07",
   "metadata": {},
   "outputs": [
    {
     "name": "stdout",
     "output_type": "stream",
     "text": [
      "122\n"
     ]
    }
   ],
   "source": [
    "# using max function\n",
    "my_list = [2,4,6,8,10,122]\n",
    "max_value = max(my_list)\n",
    "print(max_value)"
   ]
  },
  {
   "cell_type": "markdown",
   "id": "f1dee3e1-a826-46cd-b207-79861dbcf61e",
   "metadata": {},
   "source": [
    "17. Find the minimum value in a list."
   ]
  },
  {
   "cell_type": "code",
   "execution_count": 10,
   "id": "0413527b-6cf7-4ff2-8175-1c94ed57f319",
   "metadata": {},
   "outputs": [
    {
     "name": "stdout",
     "output_type": "stream",
     "text": [
      "2\n"
     ]
    }
   ],
   "source": [
    "# using min function\n",
    "my_list = [2,4,6,8,10,122]\n",
    "min_value = min(my_list)\n",
    "print(min_value)"
   ]
  },
  {
   "cell_type": "markdown",
   "id": "4edafbd7-8584-456f-9e8b-5fea5ef34ded",
   "metadata": {},
   "source": [
    "18. Create a list of squares of numbers from 1 to 10."
   ]
  },
  {
   "cell_type": "code",
   "execution_count": 12,
   "id": "119c631f-1650-493a-afc2-b7a51ad2951c",
   "metadata": {},
   "outputs": [
    {
     "name": "stdout",
     "output_type": "stream",
     "text": [
      "[1, 4, 9, 16, 25, 36, 49, 64, 81, 100]\n"
     ]
    }
   ],
   "source": [
    "my_list = [1,2,3,4,5,6,7,8,9,10]\n",
    "squared_list = []\n",
    "for i in my_list:\n",
    "    squared_list.append(i*i)\n",
    "print(squared_list)    "
   ]
  },
  {
   "cell_type": "code",
   "execution_count": 13,
   "id": "d02bd077-7b0e-40a0-b683-207c28364416",
   "metadata": {},
   "outputs": [
    {
     "name": "stdout",
     "output_type": "stream",
     "text": [
      "[1, 4, 9, 16, 25, 36, 49, 64, 81, 100]\n"
     ]
    }
   ],
   "source": [
    "# Use a list comprehension to create a list of squares of numbers from 1 to 10\n",
    "squares = [x ** 2 for x in range(1, 11)]\n",
    "\n",
    "# Print the list of squares\n",
    "print(squares)"
   ]
  },
  {
   "cell_type": "markdown",
   "id": "0fdb09e4-4e2c-4440-a3a4-08ab9b36d0ee",
   "metadata": {},
   "source": [
    "19. Create a list of random numbers."
   ]
  },
  {
   "cell_type": "code",
   "execution_count": 3,
   "id": "e281a00f-4ca9-4b94-8eec-c6a4638542af",
   "metadata": {},
   "outputs": [
    {
     "name": "stdout",
     "output_type": "stream",
     "text": [
      "[39, 38, 31, 42, 15, 40, 11, 47, 10, 46]\n"
     ]
    }
   ],
   "source": [
    "import random \n",
    "# creating a list of random numbers between 1 and 50\n",
    "random_nums = [random.randint(1,50) for i in range(10)]\n",
    "print(random_nums)"
   ]
  },
  {
   "cell_type": "markdown",
   "id": "b2f6fcc0-190d-4dab-90d5-9c8862839cec",
   "metadata": {},
   "source": [
    "20. Remove duplicates from a list."
   ]
  },
  {
   "cell_type": "code",
   "execution_count": 6,
   "id": "e15f8c78-a117-433e-888c-00815941e5e3",
   "metadata": {},
   "outputs": [
    {
     "name": "stdout",
     "output_type": "stream",
     "text": [
      "[1, 2, 3, 4, 5]\n"
     ]
    }
   ],
   "source": [
    "my_list = [1,2,2,3,4,5,5]\n",
    "duplicates = []\n",
    "for i in my_list:\n",
    "    if i in duplicates:\n",
    "        my_list.remove(i)\n",
    "    else:\n",
    "        duplicates.append(i)\n",
    "print(my_list)        \n",
    "        "
   ]
  },
  {
   "cell_type": "code",
   "execution_count": 9,
   "id": "9feb2a4e-56c9-40f7-87f9-773a609ea422",
   "metadata": {},
   "outputs": [
    {
     "name": "stdout",
     "output_type": "stream",
     "text": [
      "[1, 2, 3, 4, 5]\n"
     ]
    }
   ],
   "source": [
    "#Remove duplicates by converting to a set and back to a list\n",
    "my_list = [1,2,2,3,4,5,5]\n",
    "myset = set(my_list)\n",
    "unique_list = list(myset)\n",
    "print(unique_list)"
   ]
  },
  {
   "cell_type": "markdown",
   "id": "e958dcb2-c37b-4203-9b3e-4d176264d7dd",
   "metadata": {},
   "source": [
    "21. Find the common elements between two lists."
   ]
  },
  {
   "cell_type": "code",
   "execution_count": 14,
   "id": "13fbeddd-fed3-45bd-a75a-658fbbb8431c",
   "metadata": {},
   "outputs": [
    {
     "name": "stdout",
     "output_type": "stream",
     "text": [
      "[5]\n"
     ]
    }
   ],
   "source": [
    "mylist1 = [1,2,3,4,5]\n",
    "mylist2 = [5,6,7,8,9]\n",
    "common_elements = []\n",
    "for i in mylist1:\n",
    "    if i in mylist2:\n",
    "        common_elements.append(i)\n",
    "print(common_elements)    "
   ]
  },
  {
   "cell_type": "markdown",
   "id": "dda9a5f3-4151-4c32-8352-923f72867af6",
   "metadata": {},
   "source": [
    "22. Find the difference between two lists."
   ]
  },
  {
   "cell_type": "code",
   "execution_count": 15,
   "id": "88f1a57a-0ba0-4950-8250-3b29ba1493c8",
   "metadata": {},
   "outputs": [
    {
     "name": "stdout",
     "output_type": "stream",
     "text": [
      "Difference between lists: [1, 2]\n"
     ]
    }
   ],
   "source": [
    "# Example lists\n",
    "list1 = [1,2,3,4,5]\n",
    "list2 = [3,4,5,6,7]\n",
    "\n",
    "# Find the difference between lists using the difference() method\n",
    "difference = list(set(list1).difference(list2))\n",
    "\n",
    "# Print the difference\n",
    "print(\"Difference between lists:\", difference)"
   ]
  },
  {
   "cell_type": "markdown",
   "id": "78ebdae2-4f03-4ff0-aaed-9aa65524bb7c",
   "metadata": {},
   "source": [
    "23. Merge two lists."
   ]
  },
  {
   "cell_type": "code",
   "execution_count": 1,
   "id": "4ae63257-f8fd-4812-97f1-061ba701deda",
   "metadata": {},
   "outputs": [
    {
     "name": "stdout",
     "output_type": "stream",
     "text": [
      "[1, 2, 3, 4, 5, 6, 7, 8, 9, 10]\n"
     ]
    }
   ],
   "source": [
    "list1 = [1,2,3,4,5]\n",
    "list2 = [6,7,8,9,10]\n",
    "\n",
    "merged_list =(list1+list2)\n",
    "print(merged_list)"
   ]
  },
  {
   "cell_type": "markdown",
   "id": "23ba4bed-adf9-4ad1-ade7-1dfeb942e342",
   "metadata": {},
   "source": [
    "24. Multiply all elements in a list by 2."
   ]
  },
  {
   "cell_type": "code",
   "execution_count": 8,
   "id": "8a3ac3fd-cc5d-46dc-9f49-cba3d5e50576",
   "metadata": {},
   "outputs": [
    {
     "name": "stdout",
     "output_type": "stream",
     "text": [
      "[2, 4, 6, 8, 10]\n"
     ]
    }
   ],
   "source": [
    "list1 = [1,2,3,4,5]\n",
    "list2 = [i*2 for i in list1 ]\n",
    "print(list2)"
   ]
  },
  {
   "cell_type": "markdown",
   "id": "a858a45e-a0e9-45e1-9f50-a5b6574dec65",
   "metadata": {},
   "source": [
    "25. Filter out all even numbers from a list."
   ]
  },
  {
   "cell_type": "code",
   "execution_count": 13,
   "id": "9805b789-287f-412a-9a73-a35368adfc29",
   "metadata": {},
   "outputs": [
    {
     "name": "stdout",
     "output_type": "stream",
     "text": [
      "[5, 9, 11]\n"
     ]
    }
   ],
   "source": [
    "# getting even numbers first then removing them from list1\n",
    "list1 = [2,4,5,8,9,11]\n",
    "even_num = [i for i in list1 if i%2 == 0]\n",
    "for i in even_num:\n",
    "    if i in list1:\n",
    "        list1.remove(i)\n",
    "print(list1)        "
   ]
  },
  {
   "cell_type": "markdown",
   "id": "8a53f90b-1999-4e9f-b6b5-11b19329e066",
   "metadata": {},
   "source": [
    "26. Convert a list of strings to a list of integers."
   ]
  },
  {
   "cell_type": "code",
   "execution_count": 15,
   "id": "cd7e6e03-3c34-48ec-8391-f5e7b425e85b",
   "metadata": {},
   "outputs": [
    {
     "name": "stdout",
     "output_type": "stream",
     "text": [
      "[1, 2, 3, 4, 5, 6]\n"
     ]
    }
   ],
   "source": [
    "list1 = ['1','2','3','4','5','6']\n",
    "list2 = []\n",
    "for i in list1:\n",
    "    i = int(i)\n",
    "    list2.append(i)\n",
    "\n",
    "print(list2)\n",
    "    "
   ]
  },
  {
   "cell_type": "markdown",
   "id": "d2925fb8-ffc2-495f-bc26-f3a21b513494",
   "metadata": {},
   "source": [
    "27. Convert a list of integers to a list of strings."
   ]
  },
  {
   "cell_type": "code",
   "execution_count": 17,
   "id": "cf2c8c95-6d09-4b00-9d0d-c74d7444f886",
   "metadata": {},
   "outputs": [
    {
     "name": "stdout",
     "output_type": "stream",
     "text": [
      "['1', '2', '3', '4', '5', '6']\n"
     ]
    }
   ],
   "source": [
    "list1 = [1,2,3,4,5,6]\n",
    "list2 = [str(i) for i in list1 ]\n",
    "print(list2)"
   ]
  },
  {
   "cell_type": "markdown",
   "id": "dcc10066-3045-4a20-940c-213e23239c31",
   "metadata": {},
   "source": [
    "28. Flatten a nested list."
   ]
  },
  {
   "cell_type": "code",
   "execution_count": 20,
   "id": "ad677b20-3531-46d6-ae26-25d5f57ca7b5",
   "metadata": {},
   "outputs": [
    {
     "name": "stdout",
     "output_type": "stream",
     "text": [
      "[1, 2, 3, 4, 5, 6, 7, 8, 9]\n"
     ]
    }
   ],
   "source": [
    "nested_list = [[1,2,3],[4,5],[6,7,8,9]]\n",
    "flattened_list = []\n",
    "for i in nested_list:\n",
    "    for element in i:\n",
    "        flattened_list.append(element)\n",
    "print(flattened_list)"
   ]
  },
  {
   "cell_type": "markdown",
   "id": "83961dd7-9ecf-4cd8-93f6-ef78e4b219d2",
   "metadata": {},
   "source": [
    "29. Create a list of the first 10 Fibonacci numbers."
   ]
  },
  {
   "cell_type": "code",
   "execution_count": 30,
   "id": "45531280-b588-4e25-8b74-fbc58f0934f3",
   "metadata": {},
   "outputs": [
    {
     "name": "stdout",
     "output_type": "stream",
     "text": [
      "[0, 1, 1, 2, 3, 5, 8, 13, 21, 34]\n"
     ]
    }
   ],
   "source": [
    "a = 0\n",
    "b = 1\n",
    "fib_num = [a,b]\n",
    "while len(fib_num) < 10:\n",
    "    next_num = fib_num[-1]+fib_num[-2]\n",
    "    fib_num.append(next_num)\n",
    "print(fib_num)\n",
    "    \n",
    "\n"
   ]
  },
  {
   "cell_type": "markdown",
   "id": "f1025031-5520-4f4b-bb7c-16d0255108cb",
   "metadata": {},
   "source": [
    "30. Check if a list is sorted."
   ]
  },
  {
   "cell_type": "code",
   "execution_count": 9,
   "id": "410a9a6e-3eaa-4aef-95d2-212c4cc2a0ba",
   "metadata": {},
   "outputs": [
    {
     "name": "stdout",
     "output_type": "stream",
     "text": [
      "this list is sorted in ascending order\n"
     ]
    }
   ],
   "source": [
    "list1 = [1,2,3,4,5]\n",
    "sort_asc = True\n",
    "sort_desc = True\n",
    "\n",
    "for i in range(1, len(list1)):\n",
    "    if list1[i] > list1[i-1]:\n",
    "        sort_desc = False\n",
    "    elif list1[i] < list1[i-1]:\n",
    "        sort_asc = False\n",
    "        \n",
    "if sort_asc:\n",
    "    print('this list is sorted in ascending order')\n",
    "elif sort_desc:\n",
    "    print('this list is sorted in descending order')\n",
    "else:\n",
    "    print('this list is not sorted')\n",
    "    \n",
    "            \n"
   ]
  },
  {
   "cell_type": "code",
   "execution_count": 10,
   "id": "9ee83104-74f0-4520-b19c-d3199b1a5d6c",
   "metadata": {},
   "outputs": [
    {
     "name": "stdout",
     "output_type": "stream",
     "text": [
      "this list is not sorted\n"
     ]
    }
   ],
   "source": [
    "list1 = [1, 2, 12, 3.2, 4, 5]\n",
    "sort_asc = True\n",
    "sort_desc = True\n",
    "\n",
    "for i in range(1, len(list1)):\n",
    "    if list1[i] > list1[i - 1]:\n",
    "        sort_desc = False\n",
    "    elif list1[i] < list1[i - 1]:\n",
    "        sort_asc = False\n",
    "\n",
    "if sort_asc:\n",
    "    print('this list is sorted in ascending order')\n",
    "elif sort_desc:\n",
    "    print('this list is sorted in descending order')\n",
    "else:\n",
    "    print('this list is not sorted')\n"
   ]
  },
  {
   "cell_type": "markdown",
   "id": "c96f6e09-cbd3-4044-9e16-198c3dbc92b2",
   "metadata": {},
   "source": [
    "31. Rotate a list to the left by `n` positions."
   ]
  },
  {
   "cell_type": "code",
   "execution_count": 12,
   "id": "6c4ae60c-9a9b-488a-9623-50988ce30df5",
   "metadata": {},
   "outputs": [
    {
     "name": "stdout",
     "output_type": "stream",
     "text": [
      "Rotated list: [6, 1, 2, 3, 4, 5]\n"
     ]
    }
   ],
   "source": [
    "# Function to rotate a list to the left by n positions\n",
    "def rotate_left(lst, n):\n",
    "    n = n % len(lst)  # Normalize n to handle cases where n is larger than the list length\n",
    "    rotated = lst[n:] + lst[:n]\n",
    "    return rotated\n",
    "\n",
    "# Example list\n",
    "my_list = [1, 2, 3, 4, 5, 6]\n",
    "\n",
    "# Number of positions to rotate by\n",
    "n = 5\n",
    "\n",
    "# Rotate the list to the left by n positions\n",
    "rotated_list = rotate_left(my_list, n)\n",
    "\n",
    "# Print the rotated list\n",
    "print(\"Rotated list:\", rotated_list)"
   ]
  },
  {
   "cell_type": "markdown",
   "id": "f5f197f4-4555-4556-8337-74577cb29e9e",
   "metadata": {},
   "source": [
    "32. Rotate a list to the right by `n` positions."
   ]
  },
  {
   "cell_type": "code",
   "execution_count": 29,
   "id": "1d44af86-34c9-4970-b780-3aefbddc3e01",
   "metadata": {},
   "outputs": [
    {
     "name": "stdout",
     "output_type": "stream",
     "text": [
      "[3, 4, 5, 1, 2]\n"
     ]
    }
   ],
   "source": [
    "list1 = [1,2,3,4,5]\n",
    "n = 3\n",
    "\n",
    "rotated = list1[-n:] + list1[:-n]\n",
    "print(rotated)"
   ]
  },
  {
   "cell_type": "markdown",
   "id": "fe1b675f-4d86-477c-86d1-64e4806ebf4d",
   "metadata": {},
   "source": [
    "33. Create a list of prime numbers up to 50."
   ]
  },
  {
   "cell_type": "code",
   "execution_count": 56,
   "id": "ead3a33a-585b-4a62-b42a-a1aeb72ea83a",
   "metadata": {},
   "outputs": [
    {
     "name": "stdout",
     "output_type": "stream",
     "text": [
      "[2, 5, 9, 11, 13, 17, 19, 23, 27, 29, 31, 35, 37, 41, 43, 47]\n"
     ]
    }
   ],
   "source": [
    "prime_num = [2,3]\n",
    "for i in range(4,51):\n",
    "    if i%2 != 0:\n",
    "        prime_num.append(i)\n",
    "for i in prime_num:\n",
    "    if i%3 == 0 or i%5 == 0 or i%7 == 0:\n",
    "        prime_num.remove(i)\n",
    "print(prime_num)        \n",
    "    "
   ]
  },
  {
   "cell_type": "code",
   "execution_count": 55,
   "id": "1b3594fa-1712-428b-9c7e-48799521d240",
   "metadata": {},
   "outputs": [
    {
     "name": "stdout",
     "output_type": "stream",
     "text": [
      "2 3 5 7 11 13 17 19 23 29 31 37 41 43 47 "
     ]
    }
   ],
   "source": [
    "def is_prime(number):\n",
    "    if number <= 1:\n",
    "        return False\n",
    "    if number <= 3:\n",
    "        return True\n",
    "    if number % 2 == 0 or number % 3 == 0:\n",
    "        return False\n",
    "    i = 5\n",
    "    while i * i <= number:\n",
    "        if number % i == 0 or number % (i + 2) == 0:\n",
    "            return False\n",
    "        i += 6\n",
    "    return True\n",
    "\n",
    "# Generate and print prime numbers between 1 and 50\n",
    "for num in range(1, 51):\n",
    "    if is_prime(num):\n",
    "        print(num, end=' ')\n"
   ]
  },
  {
   "cell_type": "markdown",
   "id": "ee99fd3b-42f6-4f6d-ba02-c85dcba2cdf7",
   "metadata": {},
   "source": [
    "34. Split a list into chunks of size `n`."
   ]
  },
  {
   "cell_type": "code",
   "execution_count": 16,
   "id": "68914b0a-a497-4ed7-9710-4c1e5d9c3664",
   "metadata": {},
   "outputs": [
    {
     "name": "stdout",
     "output_type": "stream",
     "text": [
      "[[1, 2], [3, 4], [5, 6], [7, 8], [9, 10]]\n"
     ]
    }
   ],
   "source": [
    "def chunk_split(lst, n):\n",
    "    chunks = []\n",
    "    for i in range(0,len(lst),n):\n",
    "        chunks.append(lst[i:i+n])\n",
    "    return chunks\n",
    "    \n",
    "# example usage\n",
    "my_list = [1,2,3,4,5,6,7,8,9,10]\n",
    "n = 2\n",
    "chunks = chunk_split(my_list,n)\n",
    "print(chunks)"
   ]
  },
  {
   "cell_type": "code",
   "execution_count": 18,
   "id": "d8b10288-f52e-4a57-8f22-d488c50bb618",
   "metadata": {},
   "outputs": [
    {
     "name": "stdout",
     "output_type": "stream",
     "text": [
      "[[1, 2, 3], [4, 5, 6], [7, 8, 9], [10]]\n"
     ]
    }
   ],
   "source": [
    "# using yield\n",
    "def chunk_split(lst, n):\n",
    "    for i in range(0, len(lst), n):\n",
    "        yield lst[i:i + n]\n",
    "\n",
    "# Example usage:\n",
    "my_list = [1, 2, 3, 4, 5, 6, 7, 8, 9, 10]\n",
    "n = 3\n",
    "chunks = list(chunk_split(my_list, n))\n",
    "print(chunks)\n"
   ]
  },
  {
   "cell_type": "markdown",
   "id": "8ae91d15-8cfb-42c6-872f-10080a99010b",
   "metadata": {},
   "source": [
    "35. Find the second largest number in a list."
   ]
  },
  {
   "cell_type": "code",
   "execution_count": 18,
   "id": "da367f52-e03a-4745-9e5d-e7f5328823e4",
   "metadata": {},
   "outputs": [
    {
     "name": "stdout",
     "output_type": "stream",
     "text": [
      "second largest number is:  4\n"
     ]
    }
   ],
   "source": [
    "list1 = [5,4]\n",
    "sorted_list = sorted(set(list1))\n",
    "if len(sorted_list) >= 2:\n",
    "    print('second largest number is: ',sorted_list[-2])\n",
    "else:\n",
    "    print('their is not enough elements')"
   ]
  },
  {
   "cell_type": "markdown",
   "id": "1cc429dc-b8f9-490d-8786-5859996ed084",
   "metadata": {},
   "source": [
    "36. Replace every element in a list with its square."
   ]
  },
  {
   "cell_type": "code",
   "execution_count": 20,
   "id": "531efdc9-e6d5-46bd-a804-d1e1721bdcc1",
   "metadata": {},
   "outputs": [
    {
     "name": "stdout",
     "output_type": "stream",
     "text": [
      "[4, 16, 36, 64]\n"
     ]
    }
   ],
   "source": [
    "my_list = [2,4,6,8]\n",
    "squared_list = []\n",
    "for i in my_list:\n",
    "    i = i*i\n",
    "    squared_list.append(i)\n",
    "print(squared_list)    "
   ]
  },
  {
   "cell_type": "markdown",
   "id": "82cc60e6-87c4-4380-8b03-51cef9653d31",
   "metadata": {},
   "source": [
    "37. Convert a list to a dictionary where list elements become keys and their\n",
    "indices become values."
   ]
  },
  {
   "cell_type": "code",
   "execution_count": 5,
   "id": "ece2c201-ee65-4f1e-9050-b75af253a835",
   "metadata": {},
   "outputs": [
    {
     "name": "stdout",
     "output_type": "stream",
     "text": [
      "{'ken': 0, 'serem': 1, 'victor': 2, 'bryan': 3}\n"
     ]
    }
   ],
   "source": [
    "my_list = ['ken','serem','victor','bryan']\n",
    "my_dict ={}\n",
    "for i in my_list:\n",
    "    my_dict[i] = my_list.index(i)\n",
    "print(my_dict)    \n"
   ]
  },
  {
   "cell_type": "code",
   "execution_count": 6,
   "id": "2450885a-efed-45a1-9537-8eb6b7867ff2",
   "metadata": {},
   "outputs": [
    {
     "name": "stdout",
     "output_type": "stream",
     "text": [
      "Converted dictionary: {'apple': 0, 'banana': 1, 'cherry': 2, 'date': 3, 'elderberry': 4}\n"
     ]
    }
   ],
   "source": [
    "# Example list\n",
    "my_list = ['apple', 'banana', 'cherry', 'date', 'elderberry']\n",
    "\n",
    "# Convert list to dictionary using dictionary comprehension\n",
    "my_dict = {element: index for index, element in enumerate(my_list)}\n",
    "\n",
    "# Print the resulting dictionary\n",
    "print(\"Converted dictionary:\", my_dict)"
   ]
  },
  {
   "cell_type": "markdown",
   "id": "187f9c44-23d8-4853-969c-367a27772d3d",
   "metadata": {},
   "source": [
    "38. Shuffle the elements of a list randomly."
   ]
  },
  {
   "cell_type": "code",
   "execution_count": 7,
   "id": "9547e849-6c18-4f35-9b9a-bf4840b74bf6",
   "metadata": {},
   "outputs": [
    {
     "name": "stdout",
     "output_type": "stream",
     "text": [
      "shuffled list:  [5, 4, 1, 3, 7, 9, 10, 8, 2, 6]\n"
     ]
    }
   ],
   "source": [
    "# import random\n",
    "import random\n",
    "my_list = [1,2,3,4,5,6,7,8,9,10]\n",
    "random.shuffle(my_list)\n",
    "print('shuffled list: ',my_list)"
   ]
  },
  {
   "cell_type": "markdown",
   "id": "cdd5df03-e6dd-4ae0-89ca-77ec89b71062",
   "metadata": {},
   "source": [
    "39. Create a list of the first 10 factorial numbers."
   ]
  },
  {
   "cell_type": "code",
   "execution_count": 4,
   "id": "5e6cd6fb-94a2-4cfa-ad9a-40ae518e10b6",
   "metadata": {},
   "outputs": [
    {
     "name": "stdout",
     "output_type": "stream",
     "text": [
      "[1, 1, 2, 6, 24, 120, 720, 5040, 40320, 362880, 3628800]\n"
     ]
    }
   ],
   "source": [
    "factorials = [1]\n",
    "result = 1\n",
    "\n",
    "for n in range(1, 11):\n",
    "    result *= n\n",
    "    factorials.append(result)\n",
    "\n",
    "print(factorials)\n",
    "\n"
   ]
  },
  {
   "cell_type": "code",
   "execution_count": 5,
   "id": "e968d9f8-e787-4d88-ac9a-4facd844d3fe",
   "metadata": {},
   "outputs": [
    {
     "name": "stdout",
     "output_type": "stream",
     "text": [
      "List of the first 10 factorial numbers: [1, 1, 2, 6, 24, 120, 720, 5040, 40320, 362880]\n"
     ]
    }
   ],
   "source": [
    "# Function to calculate factorial\n",
    "def factorial(n):\n",
    "    if n == 0 or n == 1:\n",
    "        return 1\n",
    "    else:\n",
    "        return n * factorial(n - 1)\n",
    "\n",
    "# Create a list of the first 10 factorial numbers\n",
    "factorial_numbers = [factorial(i) for i in range(10)]\n",
    "\n",
    "# Print the list of factorial numbers\n",
    "print(\"List of the first 10 factorial numbers:\", factorial_numbers)"
   ]
  },
  {
   "cell_type": "markdown",
   "id": "a649d607-884b-4acd-aa82-ba515efb52fa",
   "metadata": {},
   "source": [
    "40. Check if two lists have at least one element in common."
   ]
  },
  {
   "cell_type": "code",
   "execution_count": 10,
   "id": "df09a67c-a231-4412-9d9b-6940ac594b79",
   "metadata": {},
   "outputs": [
    {
     "name": "stdout",
     "output_type": "stream",
     "text": [
      "the common elements are:  [1, 3, 5]\n"
     ]
    }
   ],
   "source": [
    "list1 = [1,2,3,4,5]\n",
    "list2 = [1,5,3,6,7,8,9]\n",
    "com_el = []\n",
    "for i in list1:\n",
    "    if i in list2:\n",
    "        com_el.append(i)\n",
    "if len(com_el) == 0:\n",
    "    print('their are no common elements')\n",
    "else:    \n",
    "    print('the common elements are: ',com_el) \n",
    "        "
   ]
  },
  {
   "cell_type": "markdown",
   "id": "52a212a0-1762-44b6-9f28-98fbb48abfdc",
   "metadata": {},
   "source": [
    "41. Remove all elements from a list."
   ]
  },
  {
   "cell_type": "code",
   "execution_count": 12,
   "id": "3d39d756-96c4-4c9c-906d-4f6cec763474",
   "metadata": {},
   "outputs": [
    {
     "name": "stdout",
     "output_type": "stream",
     "text": [
      "[]\n"
     ]
    }
   ],
   "source": [
    "my_list = [1,2,3,4,5,6]\n",
    "my_list = []\n",
    "print(my_list)"
   ]
  },
  {
   "cell_type": "code",
   "execution_count": 13,
   "id": "6416c505-4ceb-45e3-bc96-73323b752503",
   "metadata": {},
   "outputs": [],
   "source": [
    "# using the clear method"
   ]
  },
  {
   "cell_type": "code",
   "execution_count": 15,
   "id": "a0f9472c-edb5-4812-ace8-721982ed9ef4",
   "metadata": {},
   "outputs": [
    {
     "name": "stdout",
     "output_type": "stream",
     "text": [
      "[]\n"
     ]
    }
   ],
   "source": [
    "my_list = [1,2,3,4,5,6]\n",
    "my_list.clear()\n",
    "print(my_list)"
   ]
  },
  {
   "cell_type": "markdown",
   "id": "6c6db264-bd0d-418a-b53a-e7af1312c5b5",
   "metadata": {},
   "source": [
    "42. Replace negative numbers in a list with 0."
   ]
  },
  {
   "cell_type": "code",
   "execution_count": 19,
   "id": "3fee930e-9b45-4ee6-adf0-487b89eb8f1e",
   "metadata": {},
   "outputs": [
    {
     "name": "stdout",
     "output_type": "stream",
     "text": [
      "[0, 0, 1, 2, 3]\n"
     ]
    }
   ],
   "source": [
    "list1 = [-3,-2,1,2,3]\n",
    "list1 = [0 if i < 0 else i for i in list1]\n",
    "print(list1)"
   ]
  },
  {
   "cell_type": "markdown",
   "id": "a3b317f2-8ca1-4fb7-8926-3ee218dc48d5",
   "metadata": {},
   "source": [
    "43. Convert a string into a list of words."
   ]
  },
  {
   "cell_type": "code",
   "execution_count": 23,
   "id": "2f05d57e-6ab1-43d7-9b6c-b9e399c92d35",
   "metadata": {},
   "outputs": [
    {
     "name": "stdout",
     "output_type": "stream",
     "text": [
      "['we', 'all', 'love', 'python', 'soo', 'much']\n"
     ]
    }
   ],
   "source": [
    "string1 = 'we all love python soo much'\n",
    "string1 = string1.split(' ')\n",
    "my_list = list(string1)\n",
    "print(my_list)\n"
   ]
  },
  {
   "cell_type": "markdown",
   "id": "ee2509f0-8af7-4b74-bfed-0f9a3496f0cb",
   "metadata": {},
   "source": [
    "44. Convert a list of words into a string."
   ]
  },
  {
   "cell_type": "code",
   "execution_count": 26,
   "id": "7b64ea93-59c8-43a3-b291-4ea5932a1af9",
   "metadata": {},
   "outputs": [
    {
     "data": {
      "text/plain": [
       "'we all love python soo much'"
      ]
     },
     "execution_count": 26,
     "metadata": {},
     "output_type": "execute_result"
    }
   ],
   "source": [
    "my_list = ['we', 'all', 'love', 'python', 'soo', 'much']\n",
    "' '.join(my_list)\n"
   ]
  },
  {
   "cell_type": "markdown",
   "id": "abacdfa7-9ae8-4c36-828f-a46c13e54eaf",
   "metadata": {},
   "source": [
    "45. Create a list of the first `n` powers of 2."
   ]
  },
  {
   "cell_type": "code",
   "execution_count": 34,
   "id": "dccb61a0-0461-483e-8f0c-4e03a56aaa2a",
   "metadata": {},
   "outputs": [
    {
     "name": "stdout",
     "output_type": "stream",
     "text": [
      "[1, 2, 4, 8, 16, 32]\n"
     ]
    }
   ],
   "source": [
    "def powers_of_two(n):\n",
    "    list2 = [2**i for i in range(n+1)]\n",
    "    print(list2)\n",
    "powers_of_two(5)\n"
   ]
  },
  {
   "cell_type": "markdown",
   "id": "715e6cda-27ce-463d-ac17-4b7cb008f7c8",
   "metadata": {},
   "source": [
    "46. Find the longest string in a list of strings."
   ]
  },
  {
   "cell_type": "code",
   "execution_count": 37,
   "id": "5358384a-59b6-4b86-a44f-7b65758fa859",
   "metadata": {},
   "outputs": [
    {
     "name": "stdout",
     "output_type": "stream",
     "text": [
      "trevor\n"
     ]
    }
   ],
   "source": [
    "my_list = ['trevor','ken','serem','bryan','regan']\n",
    "longest = ''\n",
    "for i in my_list:\n",
    "    if len(i) > len(longest):\n",
    "        longest = i\n",
    "print(longest)        \n",
    "            "
   ]
  },
  {
   "cell_type": "markdown",
   "id": "b9a9b807-f508-4176-b7f0-e641cb8eba84",
   "metadata": {},
   "source": [
    "47. Find the shortest string in a list of strings."
   ]
  },
  {
   "cell_type": "code",
   "execution_count": 7,
   "id": "2a2c21d3-878a-433a-9e40-6f80810eb710",
   "metadata": {},
   "outputs": [
    {
     "name": "stdout",
     "output_type": "stream",
     "text": [
      "ken\n"
     ]
    }
   ],
   "source": [
    "my_list = ['trevor','ken','serem','bryan','regan','gin']\n",
    "shortest = float('inf')\n",
    "shortest_str = None\n",
    "for i in my_list:\n",
    "    if len(i) < shortest:\n",
    "        shortest = len(i)\n",
    "        shortest_str = i\n",
    "print(shortest_str)        \n",
    "            "
   ]
  },
  {
   "cell_type": "code",
   "execution_count": 9,
   "id": "ef07bf64-f11c-4579-a7ec-5ca17d52f6ea",
   "metadata": {},
   "outputs": [
    {
     "name": "stdout",
     "output_type": "stream",
     "text": [
      "Shortest words: ['ken', 'gin']\n"
     ]
    }
   ],
   "source": [
    "my_list = ['trevor', 'ken', 'serem', 'bryan', 'regan','gin']\n",
    "shortest_length = float('inf')\n",
    "shortest_words = []\n",
    "\n",
    "for word in my_list:\n",
    "    word_length = len(word)\n",
    "    \n",
    "    if word_length < shortest_length:\n",
    "        shortest_length = word_length\n",
    "        shortest_words = [word]  # Start a new list with the current shortest word\n",
    "    elif word_length == shortest_length:\n",
    "        shortest_words.append(word)  # Add word to the list of shortest words\n",
    "\n",
    "print(\"Shortest words:\", shortest_words)\n"
   ]
  },
  {
   "cell_type": "markdown",
   "id": "b3d2397f-a4bc-4640-bec9-b764042d8588",
   "metadata": {},
   "source": [
    "48. Create a list of the first `n` triangular numbers."
   ]
  },
  {
   "cell_type": "code",
   "execution_count": 12,
   "id": "8b2d86dd-14f2-4133-8e6d-1a77efb5486e",
   "metadata": {},
   "outputs": [
    {
     "data": {
      "text/plain": [
       "[1, 3, 6, 10, 15, 21, 28, 36, 45, 55]"
      ]
     },
     "execution_count": 12,
     "metadata": {},
     "output_type": "execute_result"
    }
   ],
   "source": [
    "def triangular_nums(n):\n",
    "    sum1 = None\n",
    "    list1 = []\n",
    "    for i in range(1,n+1):\n",
    "        if i == 1:\n",
    "            sum1 = 1\n",
    "            list1.append(sum1)\n",
    "        else:\n",
    "            sum1 = i+sum1\n",
    "            list1.append(sum1)\n",
    "            \n",
    "    return list1\n",
    "\n",
    "triangular_nums(10)\n",
    "            \n",
    "        \n",
    "        "
   ]
  },
  {
   "cell_type": "markdown",
   "id": "a62752fb-0110-47ee-ac63-c01b9a9060d1",
   "metadata": {},
   "source": [
    "49. Check if a list contains another list as a subsequence."
   ]
  },
  {
   "cell_type": "code",
   "execution_count": 15,
   "id": "d8b1e214-e84b-4def-8640-30e8d9060198",
   "metadata": {},
   "outputs": [
    {
     "name": "stdout",
     "output_type": "stream",
     "text": [
      "this list has another list\n"
     ]
    }
   ],
   "source": [
    "my_list = [1,2,[3,4,5,6],7,8]\n",
    "another_list = False\n",
    "for i in my_list:\n",
    "    if type(i) == list:\n",
    "        another_list = True\n",
    "if another_list:\n",
    "    print('this list has another list')\n",
    "else:\n",
    "    print('this list has no other list inside')\n",
    "        "
   ]
  },
  {
   "cell_type": "markdown",
   "id": "9717ce7a-e67f-42e9-a145-e712fb57856f",
   "metadata": {},
   "source": [
    "50. Swap two elements in a list by their indices."
   ]
  },
  {
   "cell_type": "code",
   "execution_count": 18,
   "id": "e619f292-2f77-498f-86ac-0166ae18efc4",
   "metadata": {},
   "outputs": [
    {
     "name": "stdout",
     "output_type": "stream",
     "text": [
      "['trevor', 'serem', 'forever', 'programmer']\n"
     ]
    }
   ],
   "source": [
    "my_list = ['trevor','serem','programmer','forever']\n",
    "# indexes to swap\n",
    "index1 = 3\n",
    "index2 = 2\n",
    "# Swap the elements at the specified indices\n",
    "temp = my_list[index1]\n",
    "my_list[index1] = my_list[index2]\n",
    "my_list[index2] = temp\n",
    "\n",
    "print(my_list)"
   ]
  },
  {
   "cell_type": "markdown",
   "id": "1b55488c-eea2-4a54-bb61-caac9275acf6",
   "metadata": {
    "jp-MarkdownHeadingCollapsed": true,
    "tags": []
   },
   "source": [
    "## Tuple Based Practice Problem :"
   ]
  },
  {
   "cell_type": "markdown",
   "id": "c9810245-5823-4e45-a796-a1adeee339fd",
   "metadata": {},
   "source": [
    "1. Create a tuple with integers from 1 to 5."
   ]
  },
  {
   "cell_type": "code",
   "execution_count": 2,
   "id": "621f6876-d8a3-4fc8-9c88-cadbe1fd9a86",
   "metadata": {},
   "outputs": [
    {
     "data": {
      "text/plain": [
       "(1, 2, 3, 4, 5)"
      ]
     },
     "execution_count": 2,
     "metadata": {},
     "output_type": "execute_result"
    }
   ],
   "source": [
    "my_tuple = (1,2,3,4,5)\n",
    "my_tuple"
   ]
  },
  {
   "cell_type": "markdown",
   "id": "5168a06e-b3df-4d1c-b788-0388b229892f",
   "metadata": {},
   "source": [
    "2. Access the third element of a tuple."
   ]
  },
  {
   "cell_type": "code",
   "execution_count": 3,
   "id": "cdbce8de-e349-4c4d-b5a6-e2c076aaffce",
   "metadata": {},
   "outputs": [
    {
     "data": {
      "text/plain": [
       "3"
      ]
     },
     "execution_count": 3,
     "metadata": {},
     "output_type": "execute_result"
    }
   ],
   "source": [
    "my_tuple = (1,2,3,4,5)\n",
    "my_tuple[2]"
   ]
  },
  {
   "cell_type": "markdown",
   "id": "41dce84b-f268-41bb-8ed9-d7e7a1e2c554",
   "metadata": {},
   "source": [
    "3. Find the length of a tuple without using the `len()` function."
   ]
  },
  {
   "cell_type": "code",
   "execution_count": 5,
   "id": "34cbdea1-7b5a-4a89-9908-e86e9858738a",
   "metadata": {},
   "outputs": [
    {
     "name": "stdout",
     "output_type": "stream",
     "text": [
      "my_tuple has 10 items\n"
     ]
    }
   ],
   "source": [
    "my_tuple = (1,2,3,4,5,6,7,8,9,10)\n",
    "count = 0\n",
    "for i in my_tuple:\n",
    "    count += 1\n",
    "print(f'my_tuple has {count} items')\n",
    "    "
   ]
  },
  {
   "cell_type": "markdown",
   "id": "d53ea0bc-aa01-485c-8dbe-8d2534d5c1fb",
   "metadata": {},
   "source": [
    "4. Count the occurrences of an element in a tuple."
   ]
  },
  {
   "cell_type": "code",
   "execution_count": 8,
   "id": "0574f8b7-093b-4967-9b01-73efd9e5450d",
   "metadata": {},
   "outputs": [
    {
     "name": "stdout",
     "output_type": "stream",
     "text": [
      "2\n"
     ]
    }
   ],
   "source": [
    "my_tuple = (10,30,30,20,45,16)\n",
    "element = 30\n",
    "count = 0\n",
    "for i in my_tuple:\n",
    "    if i == element:\n",
    "        count += 1\n",
    "print(count)"
   ]
  },
  {
   "cell_type": "markdown",
   "id": "ee3b2a23-e274-478a-b397-083c61bd00fc",
   "metadata": {},
   "source": [
    "5. Find the index of the first occurrence of an element in a tuple."
   ]
  },
  {
   "cell_type": "code",
   "execution_count": 11,
   "id": "1a7400dc-0250-4765-bba2-b99259826222",
   "metadata": {},
   "outputs": [
    {
     "name": "stdout",
     "output_type": "stream",
     "text": [
      "the first occurence of element 30 is 1\n"
     ]
    }
   ],
   "source": [
    "my_tuple = (10,30,30,20,45,16)\n",
    "element = 30\n",
    "index_to_find = -1\n",
    "for index, item in enumerate(my_tuple):\n",
    "    if item == element:\n",
    "        index_to_find = index\n",
    "        break #once the index is found no need to continue in the looop\n",
    "if index_to_find != -1:\n",
    "    print(f'the first occurence of element {element} is {index_to_find}')\n",
    "else:\n",
    "    print(f'the element {element} was not found in the table')"
   ]
  },
  {
   "cell_type": "markdown",
   "id": "dd9cfc37-ebc0-4c12-9850-21c5f01aeae6",
   "metadata": {},
   "source": [
    "6. Check if an element exists in a tuple."
   ]
  },
  {
   "cell_type": "code",
   "execution_count": 15,
   "id": "855697b5-55ac-47c0-8d08-04c22ecbb67d",
   "metadata": {},
   "outputs": [
    {
     "name": "stdout",
     "output_type": "stream",
     "text": [
      "the element 20 exists\n"
     ]
    }
   ],
   "source": [
    "my_tuple = (10,30,30,20,45,16)\n",
    "element = 20\n",
    "print(f'the element {element} exists') if element in my_tuple else print(f'the element {element} does not exist')"
   ]
  },
  {
   "cell_type": "markdown",
   "id": "7e155b8b-667b-48a2-ac97-ee3a37cd66f2",
   "metadata": {},
   "source": [
    "7. Convert a tuple to a list."
   ]
  },
  {
   "cell_type": "code",
   "execution_count": 16,
   "id": "e3c6504e-30c9-4f74-9b52-73a0dd77863e",
   "metadata": {},
   "outputs": [
    {
     "name": "stdout",
     "output_type": "stream",
     "text": [
      "[1, 2, 3, 4, 5, 6]\n"
     ]
    }
   ],
   "source": [
    "my_tuple = (1,2,3,4,5,6)\n",
    "my_list = list(my_tuple)\n",
    "print(my_list)"
   ]
  },
  {
   "cell_type": "markdown",
   "id": "dcb1fa91-3768-476d-80ef-1795ec863e61",
   "metadata": {},
   "source": [
    "8. Convert a list to a tuple."
   ]
  },
  {
   "cell_type": "code",
   "execution_count": 19,
   "id": "18a1b023-ff23-4d7f-bc3f-77da3bfda250",
   "metadata": {},
   "outputs": [
    {
     "name": "stdout",
     "output_type": "stream",
     "text": [
      "(1, 2, 3, 4, 5)\n"
     ]
    }
   ],
   "source": [
    "# Create a list\n",
    "my_list = [1,2,3,4,5]\n",
    "\n",
    "my_tuple = tuple(my_list)\n",
    "\n",
    "\n",
    "print(my_tuple)\n",
    "\n"
   ]
  },
  {
   "cell_type": "markdown",
   "id": "d226ccac-e098-42d4-aef2-fbe011d69ed4",
   "metadata": {},
   "source": [
    "9. Unpack the elements of a tuple into variables."
   ]
  },
  {
   "cell_type": "code",
   "execution_count": 2,
   "id": "53e7ab5b-ba7f-4fad-bd0b-af2316b7e77b",
   "metadata": {},
   "outputs": [
    {
     "name": "stdout",
     "output_type": "stream",
     "text": [
      "variable 1: 10\n",
      "variable 2: 20\n",
      "variable 3: 30\n",
      "variable 4: 40\n"
     ]
    }
   ],
   "source": [
    "my_tuple = (10,20,30,40)\n",
    "var1,var2,var3,var4 = my_tuple\n",
    "print('variable 1:', var1)\n",
    "print('variable 2:', var2)\n",
    "print('variable 3:', var3)\n",
    "print('variable 4:', var4)"
   ]
  },
  {
   "cell_type": "code",
   "execution_count": 5,
   "id": "a6e3291d-8b3a-4273-9ecf-a44b564ddb47",
   "metadata": {},
   "outputs": [
    {
     "name": "stdout",
     "output_type": "stream",
     "text": [
      "1\n"
     ]
    }
   ],
   "source": [
    "# Unpacking with the * operator to capture remaining elements as a list\n",
    "my_tuple = (1, 2, 3, 4, 5)\n",
    "first, *rest = my_tuple\n",
    "\n",
    "# first will be 1, and rest will be [2, 3, 4, 5]\n",
    "print(first)"
   ]
  },
  {
   "cell_type": "markdown",
   "id": "c6fb9b66-42f5-4a2a-9264-db5bf708b323",
   "metadata": {},
   "source": [
    "10. Create a tuple of even numbers from 1 to 10."
   ]
  },
  {
   "cell_type": "code",
   "execution_count": 9,
   "id": "06f0d02f-40e8-472c-bb99-aafa4dea2a13",
   "metadata": {},
   "outputs": [
    {
     "name": "stdout",
     "output_type": "stream",
     "text": [
      "(2, 4, 6, 8, 10)\n"
     ]
    }
   ],
   "source": [
    "even_tuple = tuple(i for i in range(1,11) if i % 2 == 0)\n",
    "print(even_tuple)"
   ]
  },
  {
   "cell_type": "markdown",
   "id": "2e66704c-4c16-4413-adfa-ed2c917110fe",
   "metadata": {},
   "source": [
    "11. Create a tuple of odd numbers from 1 to 10."
   ]
  },
  {
   "cell_type": "code",
   "execution_count": 10,
   "id": "9ed693fc-b8b4-4c11-b7bd-119a578a439d",
   "metadata": {},
   "outputs": [
    {
     "name": "stdout",
     "output_type": "stream",
     "text": [
      "(1, 3, 5, 7, 9)\n"
     ]
    }
   ],
   "source": [
    "odd_tuple = tuple(i for i in range(1,11) if i % 2 != 0)\n",
    "print(odd_tuple)"
   ]
  },
  {
   "cell_type": "markdown",
   "id": "982bcb3b-77a8-4cf0-9aea-a039f8b477d8",
   "metadata": {},
   "source": [
    "12. Concatenate two tuples."
   ]
  },
  {
   "cell_type": "code",
   "execution_count": 12,
   "id": "8121dd63-dcb7-4694-b598-dafe07e0a6ae",
   "metadata": {},
   "outputs": [
    {
     "name": "stdout",
     "output_type": "stream",
     "text": [
      "(1, 2, 3, 4, 5, 5, 6, 7, 8, 9)\n"
     ]
    }
   ],
   "source": [
    "tuple1 = (1,2,3,4,5)\n",
    "tuple2 = (5,6,7,8,9)\n",
    "# using + to concatenate\n",
    "tuple3 = tuple1+tuple2\n",
    "print(tuple3)"
   ]
  },
  {
   "cell_type": "markdown",
   "id": "cfec3090-053b-428f-a057-b4e6fd36a731",
   "metadata": {},
   "source": [
    "13. Repeat a tuple three times."
   ]
  },
  {
   "cell_type": "code",
   "execution_count": 13,
   "id": "2623dd32-1b49-45bc-ad85-18065cbb40be",
   "metadata": {},
   "outputs": [
    {
     "name": "stdout",
     "output_type": "stream",
     "text": [
      "(3, 2, 1, 3, 2, 1, 3, 2, 1)\n"
     ]
    }
   ],
   "source": [
    "my_tuple = (3,2,1)\n",
    "repeated_tuple = my_tuple*3\n",
    "print(repeated_tuple)"
   ]
  },
  {
   "cell_type": "markdown",
   "id": "ea2b7d39-3fe9-4985-9692-9b86a7c4d75a",
   "metadata": {},
   "source": [
    "14. Check if a tuple is empty."
   ]
  },
  {
   "cell_type": "code",
   "execution_count": 14,
   "id": "e0d6e603-f6bc-4dfa-8f1d-a1b80ecc5088",
   "metadata": {},
   "outputs": [
    {
     "name": "stdout",
     "output_type": "stream",
     "text": [
      "the tuple is not empty\n"
     ]
    }
   ],
   "source": [
    "tuple1 = (1,2,3)\n",
    "if len(tuple1) == 0:\n",
    "    print('the tuple is empty')\n",
    "else:\n",
    "    print('the tuple is not empty')"
   ]
  },
  {
   "cell_type": "markdown",
   "id": "03ef779a-9938-4a6c-8481-fdbaedb01b55",
   "metadata": {},
   "source": [
    "15. Create a nested tuple."
   ]
  },
  {
   "cell_type": "code",
   "execution_count": 20,
   "id": "f8f14549-304f-4499-be65-7381fb00b55f",
   "metadata": {},
   "outputs": [
    {
     "name": "stdout",
     "output_type": "stream",
     "text": [
      "Nested tuple: ((1, 2, 3), ('a', 'b', 'c'), (True, False))\n"
     ]
    }
   ],
   "source": [
    "# Step 1: Create a nested tuple\n",
    "nested_tuple = ((1, 2, 3), ('a', 'b', 'c'), (True, False))\n",
    "\n",
    "# Step 2: Print the nested tuple\n",
    "print(\"Nested tuple:\", nested_tuple)"
   ]
  },
  {
   "cell_type": "markdown",
   "id": "eb99a0bd-11e7-42a6-b998-b710d9934c40",
   "metadata": {},
   "source": [
    "16. Access the first element of a nested tuple."
   ]
  },
  {
   "cell_type": "code",
   "execution_count": 19,
   "id": "bb2355ba-1d0e-4f46-9b47-f4d52262ed97",
   "metadata": {},
   "outputs": [
    {
     "name": "stdout",
     "output_type": "stream",
     "text": [
      "(1, 2, 3)\n"
     ]
    }
   ],
   "source": [
    "nested_tuple = ((1, 2, 3), ('a', 'b', 'c'), (True, False))\n",
    "first_element = nested_tuple[0]\n",
    "print(first_element)"
   ]
  },
  {
   "cell_type": "markdown",
   "id": "ac9d1397-874b-43e1-b50e-f1e0325e9d67",
   "metadata": {},
   "source": [
    "17. Create a tuple with a single element."
   ]
  },
  {
   "cell_type": "code",
   "execution_count": 22,
   "id": "211dd88c-c1b9-4a77-a8c1-2989e22abca7",
   "metadata": {},
   "outputs": [
    {
     "name": "stdout",
     "output_type": "stream",
     "text": [
      "single element tuple: (2,)\n"
     ]
    }
   ],
   "source": [
    "#Create a tuple with a single element\n",
    "# the key is to include a comma, which inorms python that you want to create a tuple with only one element\n",
    "\n",
    "my_tuple = (2,)\n",
    "print('single element tuple:' ,my_tuple)"
   ]
  },
  {
   "cell_type": "markdown",
   "id": "b794d3ca-9e2d-43e4-9806-7e3a07f6ff6b",
   "metadata": {},
   "source": [
    "18. Compare two tuples."
   ]
  },
  {
   "cell_type": "code",
   "execution_count": 23,
   "id": "59b692b2-8aa5-47eb-b309-c1d3b38ca551",
   "metadata": {},
   "outputs": [
    {
     "name": "stdout",
     "output_type": "stream",
     "text": [
      "tuple1 == tuple2: False\n",
      "tuple1 != tuple2: True\n",
      "tuple1 < tuple2: True\n",
      "tuple1 <= tuple2: True\n",
      "tuple1 > tuple2: False\n",
      "tuple1 >= tuple2: False\n"
     ]
    }
   ],
   "source": [
    "# Step 1: Create two tuples\n",
    "tuple1 = (1, 2, 3)\n",
    "tuple2 = (1, 2, 4)\n",
    "\n",
    "# Step 2: Compare the two tuples using comparison operators\n",
    "print(\"tuple1 == tuple2:\", tuple1 == tuple2)  # Equality check\n",
    "print(\"tuple1 != tuple2:\", tuple1 != tuple2)  # Inequality check\n",
    "print(\"tuple1 < tuple2:\", tuple1 < tuple2)    # Less than check\n",
    "print(\"tuple1 <= tuple2:\", tuple1 <= tuple2)  # Less than or equal to check\n",
    "print(\"tuple1 > tuple2:\", tuple1 > tuple2)    # Greater than check\n",
    "print(\"tuple1 >= tuple2:\", tuple1 >= tuple2)  # Greater than or equal to check"
   ]
  },
  {
   "cell_type": "markdown",
   "id": "533602e7-5580-40bc-b2e0-28851c894b8d",
   "metadata": {},
   "source": [
    "19. Delete a tuple."
   ]
  },
  {
   "cell_type": "code",
   "execution_count": 25,
   "id": "72452f16-2cf4-484e-9644-73d9a30f80d1",
   "metadata": {},
   "outputs": [
    {
     "ename": "NameError",
     "evalue": "name 'my_tuple' is not defined",
     "output_type": "error",
     "traceback": [
      "\u001b[0;31m---------------------------------------------------------------------------\u001b[0m",
      "\u001b[0;31mNameError\u001b[0m                                 Traceback (most recent call last)",
      "Cell \u001b[0;32mIn[25], line 3\u001b[0m\n\u001b[1;32m      1\u001b[0m my_tuple \u001b[38;5;241m=\u001b[39m (\u001b[38;5;241m1\u001b[39m,\u001b[38;5;241m2\u001b[39m,\u001b[38;5;241m3\u001b[39m)\n\u001b[1;32m      2\u001b[0m \u001b[38;5;28;01mdel\u001b[39;00m my_tuple\n\u001b[0;32m----> 3\u001b[0m \u001b[38;5;28mprint\u001b[39m(\u001b[43mmy_tuple\u001b[49m)\n",
      "\u001b[0;31mNameError\u001b[0m: name 'my_tuple' is not defined"
     ]
    }
   ],
   "source": [
    "my_tuple = (1,2,3)\n",
    "del my_tuple\n",
    "print(my_tuple)\n",
    "# when i try to print the tuple i will get an error that it is not defined"
   ]
  },
  {
   "cell_type": "markdown",
   "id": "42acb08e-0a16-4126-b07c-d932c685cdaf",
   "metadata": {},
   "source": [
    "20. Slice a tuple."
   ]
  },
  {
   "cell_type": "code",
   "execution_count": 27,
   "id": "9e5cd695-24a7-4266-93b1-cb677f8d7bb4",
   "metadata": {},
   "outputs": [
    {
     "name": "stdout",
     "output_type": "stream",
     "text": [
      "(3, 4, 5)\n"
     ]
    }
   ],
   "source": [
    "my_tuple  = (1,2,3,4,5,6,7,8)\n",
    "# We use slicing [start:end] to extract a portion of the tuple. In this example\n",
    "sliced_tuple = my_tuple[2:5]\n",
    "print(sliced_tuple)"
   ]
  },
  {
   "cell_type": "markdown",
   "id": "05d9ac2a-6b0c-45d7-9bca-f5cf4e376371",
   "metadata": {},
   "source": [
    "21. Find the maximum value in a tuple."
   ]
  },
  {
   "cell_type": "code",
   "execution_count": 4,
   "id": "4f48c8df-745d-48d6-98ab-d1fbfba971b4",
   "metadata": {},
   "outputs": [
    {
     "name": "stdout",
     "output_type": "stream",
     "text": [
      "40\n"
     ]
    }
   ],
   "source": [
    "tuple1 = (10,20,30,40)\n",
    "# using max()\n",
    "max_value = max(tuple1)\n",
    "print(max_value)\n"
   ]
  },
  {
   "cell_type": "markdown",
   "id": "dce90a35-8c48-4ec6-a3c3-9c10eddd36d5",
   "metadata": {},
   "source": [
    "22. Find the minimum value in a tuple."
   ]
  },
  {
   "cell_type": "code",
   "execution_count": 6,
   "id": "897c69a0-b231-4593-81b0-1a3c15074b0c",
   "metadata": {},
   "outputs": [
    {
     "name": "stdout",
     "output_type": "stream",
     "text": [
      "10\n"
     ]
    }
   ],
   "source": [
    "tuple1 = (10,20,30,40)\n",
    "# using min()\n",
    "max_value = min(tuple1)\n",
    "print(max_value)\n"
   ]
  },
  {
   "cell_type": "markdown",
   "id": "bfd41223-e31e-4dc0-b6da-624936cf3229",
   "metadata": {},
   "source": [
    "23. Convert a string to a tuple of characters."
   ]
  },
  {
   "cell_type": "code",
   "execution_count": 10,
   "id": "59405b94-8803-442f-bcbd-6f6184aa1cc9",
   "metadata": {},
   "outputs": [
    {
     "name": "stdout",
     "output_type": "stream",
     "text": [
      "('s', 'e', 'r', 'e', 'm')\n"
     ]
    }
   ],
   "source": [
    "my_string = 'serem'\n",
    "my_tuple = tuple(my_string)\n",
    "print(my_tuple)"
   ]
  },
  {
   "cell_type": "markdown",
   "id": "fbe00de9-770a-4e28-b0b9-7e0dda024e99",
   "metadata": {},
   "source": [
    "24. Convert a tuple of characters to a string."
   ]
  },
  {
   "cell_type": "code",
   "execution_count": 13,
   "id": "6162f339-f92b-4513-9bbc-9ebdc0eadb23",
   "metadata": {},
   "outputs": [
    {
     "name": "stdout",
     "output_type": "stream",
     "text": [
      "serem\n"
     ]
    }
   ],
   "source": [
    "my_tuple = ('s', 'e', 'r', 'e', 'm')\n",
    "my_string = ''.join(my_tuple)\n",
    "print(my_string)"
   ]
  },
  {
   "cell_type": "markdown",
   "id": "9b372ea3-5ed2-4051-b744-1d4547dc2a38",
   "metadata": {},
   "source": [
    "25. Create a tuple from multiple data types."
   ]
  },
  {
   "cell_type": "code",
   "execution_count": 15,
   "id": "f8e98e79-f3a4-49b8-806b-35fbd922baa9",
   "metadata": {},
   "outputs": [
    {
     "name": "stdout",
     "output_type": "stream",
     "text": [
      "(1, 'hello', 3.14, True)\n"
     ]
    }
   ],
   "source": [
    "# tuple with elements of different data types\n",
    "mixed_tuple = (1, \"hello\", 3.14, True)\n",
    "\n",
    "# Printing the tuple\n",
    "print(mixed_tuple)"
   ]
  },
  {
   "cell_type": "markdown",
   "id": "e8c71b80-3981-461c-9724-5e30bd8c9ac4",
   "metadata": {},
   "source": [
    "26. Check if two tuples are identical."
   ]
  },
  {
   "cell_type": "code",
   "execution_count": 16,
   "id": "50e60d67-1885-4156-b64a-424fd36f7281",
   "metadata": {},
   "outputs": [
    {
     "name": "stdout",
     "output_type": "stream",
     "text": [
      "the two tuples are identical\n"
     ]
    }
   ],
   "source": [
    "tuple1 = (1,2,3)\n",
    "tuple2 = (1,2,3)\n",
    "identical = tuple1 == tuple2\n",
    "if identical:\n",
    "    print('the two tuples are identical')\n",
    "else:\n",
    "    print('the two tuples are not identical')"
   ]
  },
  {
   "cell_type": "markdown",
   "id": "5521f6e4-a320-465f-a075-eeefceb0bc70",
   "metadata": {},
   "source": [
    "27. Sort the elements of a tuple."
   ]
  },
  {
   "cell_type": "code",
   "execution_count": 19,
   "id": "7d95fb09-c137-4d85-badb-5bf0ab343eb5",
   "metadata": {},
   "outputs": [
    {
     "name": "stdout",
     "output_type": "stream",
     "text": [
      "[2, 5, 6, 7, 9, 15, 23]\n"
     ]
    }
   ],
   "source": [
    "my_tuple = (5,2,7,9,15,23,6)\n",
    "# using sorted()\n",
    "sorted_tuple = sorted(my_tuple)\n",
    "print(sorted_tuple)"
   ]
  },
  {
   "cell_type": "markdown",
   "id": "2b257ee1-1908-4c79-8171-6eca33ac5e04",
   "metadata": {},
   "source": [
    "28. Convert a tuple of integers to a tuple of strings."
   ]
  },
  {
   "cell_type": "code",
   "execution_count": 23,
   "id": "6c5b2cb7-4417-49d5-ba6b-5b7808971880",
   "metadata": {},
   "outputs": [
    {
     "name": "stdout",
     "output_type": "stream",
     "text": [
      "('1', '2', '3', '4', '5')\n"
     ]
    }
   ],
   "source": [
    "int_tuples = (1,2,3,4,5)\n",
    "str_tuples = tuple((str(i) for i in int_tuples))\n",
    "print(str_tuples)"
   ]
  },
  {
   "cell_type": "markdown",
   "id": "3aeb94f9-364c-42fa-8faf-25ab20d121d9",
   "metadata": {},
   "source": [
    "29. Convert a tuple of strings to a tuple of integers."
   ]
  },
  {
   "cell_type": "code",
   "execution_count": 26,
   "id": "4a2b8491-9810-4bcb-b4ad-53b4e3b922aa",
   "metadata": {},
   "outputs": [
    {
     "name": "stdout",
     "output_type": "stream",
     "text": [
      "(1, 2, 3, 4, 5)\n"
     ]
    }
   ],
   "source": [
    "str_tuples = ('1', '2', '3', '4', '5')\n",
    "int_tuples = tuple((int(i) for i in str_tuples))\n",
    "print(int_tuples)"
   ]
  },
  {
   "cell_type": "markdown",
   "id": "25695be1-8fff-4896-a36a-ca2c23e6c8df",
   "metadata": {},
   "source": [
    "30. Merge two tuples."
   ]
  },
  {
   "cell_type": "code",
   "execution_count": 28,
   "id": "27da47f1-2fbb-4651-b99e-2b56f9e589f2",
   "metadata": {},
   "outputs": [
    {
     "name": "stdout",
     "output_type": "stream",
     "text": [
      "(1, 2, 3, 4, 5, 6)\n"
     ]
    }
   ],
   "source": [
    "tuple1 = (1,2,3)\n",
    "tuple2 = (4,5,6)\n",
    "merged_tuples = tuple1+tuple2\n",
    "print(merged_tuples)"
   ]
  },
  {
   "cell_type": "markdown",
   "id": "56a0b6b1-1eff-4d68-9919-b4b9a0caa37c",
   "metadata": {},
   "source": [
    "31. Flatten a nested tuple."
   ]
  },
  {
   "cell_type": "code",
   "execution_count": 35,
   "id": "53f30c13-30e2-492b-81df-944c8de31b7c",
   "metadata": {},
   "outputs": [
    {
     "data": {
      "text/plain": [
       "(1, 2, 3, 4, 5, 6, 7, 8, 1, 2)"
      ]
     },
     "execution_count": 35,
     "metadata": {},
     "output_type": "execute_result"
    }
   ],
   "source": [
    "def flatten_tuple(nested_tuple):\n",
    "    flattened_tuple =[] \n",
    "    for i in nested_tuple:\n",
    "        # using isinstance of  and  the extend() to flatten the tuple or list and adding it to the flattened\n",
    "        if isinstance(i, tuple) or isinstance(i ,list):\n",
    "            flattened_tuple.extend(i)\n",
    "        else:\n",
    "            flattened_tuple.append(i)\n",
    "    return tuple(flattened_tuple)\n",
    "\n",
    "nested_tuple = (1,2,(3,4,5),(6,7,8),[1,2])\n",
    "flatten_tuple(nested_tuple)"
   ]
  },
  {
   "cell_type": "markdown",
   "id": "f8b54756-5c2d-4394-b54e-f06b54453ef0",
   "metadata": {},
   "source": [
    "32. Create a tuple of the first 5 prime numbers."
   ]
  },
  {
   "cell_type": "code",
   "execution_count": 54,
   "id": "4b565a74-f447-4670-b8e0-22a10855c92c",
   "metadata": {},
   "outputs": [
    {
     "name": "stdout",
     "output_type": "stream",
     "text": [
      "(2, 3, 5)\n"
     ]
    }
   ],
   "source": [
    "# Define a function to check if a number i is prime\n",
    "def is_prime(i):\n",
    "    # Check if i is less than or equal to 1; not prime\n",
    "    if i <= 1:\n",
    "        return False\n",
    "    # Check if i is less than or equal to 3; prime\n",
    "    if i <= 3:\n",
    "        return True\n",
    "    # Check if i is divisible by 2 or 3; not prime\n",
    "    if i % 2 == 0 or i % 3 == 0:\n",
    "        return False\n",
    "    # Iterate through potential divisors from 5 up to the square root of i, with a step size of 6\n",
    "    for divisor in range(5, int(i ** 0.5) + 1, 6):\n",
    "        # Check if i is divisible by the current divisor or divisor + 2; not prime\n",
    "        if i % divisor == 0 or i % (divisor + 2) == 0:\n",
    "            return False\n",
    "    # If none of the conditions are met, i is prime\n",
    "    return True\n",
    "\n",
    "prime_num = []\n",
    "for i in range(1,6):\n",
    "    if is_prime(i):\n",
    "        prime_num.append(i)\n",
    "print(tuple(prime_num))    \n",
    "            "
   ]
  },
  {
   "cell_type": "code",
   "execution_count": 41,
   "id": "db99164b-ce77-4db2-acf2-cc3d56835622",
   "metadata": {},
   "outputs": [
    {
     "name": "stdout",
     "output_type": "stream",
     "text": [
      "(2, 3, 5, 7, 11, 13, 17, 19, 23, 29)\n"
     ]
    }
   ],
   "source": [
    "def is_prime(number):\n",
    "    if number <= 1:\n",
    "        return False\n",
    "    elif number <= 3:\n",
    "        return True\n",
    "    elif number % 2 == 0 or number % 3 == 0:\n",
    "        return False\n",
    "    i = 5\n",
    "    while i * i <= number:\n",
    "        if number % i == 0 or number % (i + 2) == 0:\n",
    "            return False\n",
    "        i += 6\n",
    "    return True\n",
    "\n",
    "prime_numbers = []\n",
    "number = 2\n",
    "\n",
    "while len(prime_numbers) < 10:\n",
    "    if is_prime(number):\n",
    "        prime_numbers.append(number)\n",
    "    number += 1\n",
    "\n",
    "print(tuple(prime_numbers))\n"
   ]
  },
  {
   "cell_type": "markdown",
   "id": "7aab2c44-d2e3-47ad-9c44-7a7e2ac7e8e2",
   "metadata": {},
   "source": [
    "33. Check if a tuple is a palindrome."
   ]
  },
  {
   "cell_type": "code",
   "execution_count": 44,
   "id": "0df85aca-6778-45c4-bb11-5bd66f5d5f0a",
   "metadata": {},
   "outputs": [
    {
     "name": "stdout",
     "output_type": "stream",
     "text": [
      "this tuple is a palndrome\n"
     ]
    }
   ],
   "source": [
    "def is_palindrome(my_tuple):\n",
    "    return my_tuple == my_tuple[::-1]\n",
    "\n",
    "my_tuple = ('radar')\n",
    "if is_palindrome(my_tuple):\n",
    "    print('this tuple is a palndrome')\n",
    "else:\n",
    "    print('this tuple is not a palindrome')"
   ]
  },
  {
   "cell_type": "markdown",
   "id": "dace87c5-1ca7-480d-a772-f6afd4f96bc6",
   "metadata": {},
   "source": [
    "34. Create a tuple of squares of numbers from 1 to 5."
   ]
  },
  {
   "cell_type": "code",
   "execution_count": 46,
   "id": "fad88bb6-9176-45a1-aa51-635825f89ff5",
   "metadata": {},
   "outputs": [
    {
     "name": "stdout",
     "output_type": "stream",
     "text": [
      "(1, 4, 9, 16, 25)\n"
     ]
    }
   ],
   "source": [
    "squared_nums = [i**2 for i in range(1,6)]\n",
    "print(tuple(squared_nums))"
   ]
  },
  {
   "cell_type": "markdown",
   "id": "abe9f503-02de-46c6-952f-4723cd2fd691",
   "metadata": {},
   "source": [
    "35. Filter out all even numbers from a tuple."
   ]
  },
  {
   "cell_type": "code",
   "execution_count": 2,
   "id": "07b26ec2-ef0e-406f-9a6b-236c5d1b6777",
   "metadata": {},
   "outputs": [
    {
     "name": "stdout",
     "output_type": "stream",
     "text": [
      "(13, 15, 21)\n"
     ]
    }
   ],
   "source": [
    "def is_even(i):\n",
    "    if i%2 == 0:\n",
    "        return True\n",
    "    \n",
    "my_tuple = (12,13,15,16,20,22,21)\n",
    "new_list = []\n",
    "for i in my_tuple:\n",
    "    if not is_even(i):\n",
    "        new_list.append(i)\n",
    "final_tuple = tuple(new_list)\n",
    "print(final_tuple)"
   ]
  },
  {
   "cell_type": "markdown",
   "id": "b2f32872-957f-46f4-b248-725905dff4a8",
   "metadata": {},
   "source": [
    "36. Multiply all elements in a tuple by 2."
   ]
  },
  {
   "cell_type": "code",
   "execution_count": 3,
   "id": "69cd1e89-24ca-4094-bd70-9391f05f195c",
   "metadata": {},
   "outputs": [
    {
     "name": "stdout",
     "output_type": "stream",
     "text": [
      "(24, 26, 30, 32, 40, 44, 42)\n"
     ]
    }
   ],
   "source": [
    "my_tuple = (12,13,15,16,20,22,21)\n",
    "my_list = [i*2 for i in my_tuple]\n",
    "final_tuple = tuple(my_list)\n",
    "print(final_tuple)"
   ]
  },
  {
   "cell_type": "markdown",
   "id": "f00a5fc4-eb91-4f70-94f7-e0230909de9e",
   "metadata": {},
   "source": [
    "37. Create a tuple of random numbers."
   ]
  },
  {
   "cell_type": "code",
   "execution_count": 10,
   "id": "73bb95a8-74d3-4854-9392-7b71752cbb49",
   "metadata": {},
   "outputs": [
    {
     "name": "stdin",
     "output_type": "stream",
     "text": [
      "enter the number of random numbers you want:  10\n"
     ]
    },
    {
     "data": {
      "text/plain": [
       "(91, 30, 93, 25, 55, 78, 6, 48, 28, 84)"
      ]
     },
     "execution_count": 10,
     "metadata": {},
     "output_type": "execute_result"
    }
   ],
   "source": [
    "# need to import random library\n",
    "import random\n",
    "def generate_random(n):\n",
    "    random_list = []\n",
    "    count = 0\n",
    "    while count < n:\n",
    "        num = random.randint(1,100)\n",
    "        # using random.randint to create a random number between 1 and 100\n",
    "        random_list.append(num)\n",
    "        count += 1\n",
    "    random_tuple = tuple(random_list)\n",
    "    return random_tuple\n",
    "n = int(input('enter the number of random numbers you want: '))\n",
    "generate_random(n)\n",
    "        "
   ]
  },
  {
   "cell_type": "markdown",
   "id": "b9800301-8027-4e03-a937-860d8e9b447e",
   "metadata": {},
   "source": [
    "38. Check if a tuple is sorted."
   ]
  },
  {
   "cell_type": "code",
   "execution_count": 10,
   "id": "fc89f97a-9388-43f4-b74d-ca52fb56431f",
   "metadata": {},
   "outputs": [
    {
     "name": "stdout",
     "output_type": "stream",
     "text": [
      "this tuple is not sorted\n"
     ]
    }
   ],
   "source": [
    "def is_sorted(my_tuple):\n",
    "    sorted_ascending = True\n",
    "    sorted_descending = True\n",
    "\n",
    "    for i in range(len(my_tuple)-1):\n",
    "        if my_tuple[i] > my_tuple[i+1]:\n",
    "            sorted_ascending= False\n",
    "        elif my_tuple[i] < my_tuple[i+1]:\n",
    "            sorted_descending=False\n",
    "        \n",
    "    if sorted_ascending:\n",
    "        print('this tuple is sorted in ascending order')\n",
    "    elif sorted_descending:\n",
    "        print('this tuple is sorted in descending order')\n",
    "    else:\n",
    "        print('this tuple is not sorted')\n",
    "        \n",
    "        \n",
    "tuple1 = (1,2,3,4,5)\n",
    "tuple2 = (5,4,3,2,1)\n",
    "tuple3 = (1,4,2,3,5)\n",
    "is_sorted(tuple3)"
   ]
  },
  {
   "cell_type": "markdown",
   "id": "abefb934-ab45-4a19-90cb-950ae8a16c07",
   "metadata": {},
   "source": [
    "39. Rotate a tuple to the left by `n` positions."
   ]
  },
  {
   "cell_type": "code",
   "execution_count": 11,
   "id": "886ece72-2131-4e80-bf75-c8100827d712",
   "metadata": {},
   "outputs": [
    {
     "name": "stdout",
     "output_type": "stream",
     "text": [
      "(3, 4, 5, 1, 2)\n"
     ]
    }
   ],
   "source": [
    "def rotate_tuple_left(my_tuple, n):\n",
    "    n = n % len(tup)  # Ensure n is within the range of tuple length\n",
    "    rotated_tuple = my_tuple[n:] + my_tuple[:n]  # Rotate the tuple\n",
    "    return rotated_tuple\n",
    "\n",
    "# Example tuple\n",
    "my_tuple = (1, 2, 3, 4, 5)\n",
    "n_positions = 2\n",
    "result = rotate_tuple_left(my_tuple, n_positions)\n",
    "print(result)"
   ]
  },
  {
   "cell_type": "markdown",
   "id": "728b0e3a-7936-488d-b01a-a240a62da5b2",
   "metadata": {},
   "source": [
    "40. Rotate a tuple to the right by `n` positions."
   ]
  },
  {
   "cell_type": "code",
   "execution_count": 12,
   "id": "5686b57a-a92d-453c-af00-08933688bc9f",
   "metadata": {},
   "outputs": [
    {
     "name": "stdout",
     "output_type": "stream",
     "text": [
      "(4, 5, 1, 2, 3)\n"
     ]
    }
   ],
   "source": [
    "def rotate_tuple_right(tup, n):\n",
    "    n = n % len(tup)  # Ensure n is within the range of tuple length\n",
    "    rotated_tuple = tup[-n:] + tup[:-n]  # Rotate the tuple\n",
    "    return rotated_tuple\n",
    "\n",
    "# Example tuple\n",
    "my_tuple = (1, 2, 3, 4, 5)\n",
    "n_positions = 2\n",
    "result = rotate_tuple_right(my_tuple, n_positions)\n",
    "print(result)"
   ]
  },
  {
   "cell_type": "markdown",
   "id": "c6f34e81-d46b-48f9-ad9f-c872419b1e63",
   "metadata": {},
   "source": [
    "41. Create a tuple of the first 5 Fibonacci numbers."
   ]
  },
  {
   "cell_type": "code",
   "execution_count": 18,
   "id": "da1b03f0-c3f9-4e1f-9994-26f1e14b9783",
   "metadata": {},
   "outputs": [
    {
     "data": {
      "text/plain": [
       "(0, 1, 1, 2, 3)"
      ]
     },
     "execution_count": 18,
     "metadata": {},
     "output_type": "execute_result"
    }
   ],
   "source": [
    "def generate_fibonacci(n):\n",
    "    a,b = 0,1\n",
    "    fibonacci = [a,b]\n",
    "    while len(fibonacci) < n:\n",
    "        next_num = a+b\n",
    "        fibonacci.append(next_num)\n",
    "        a = b\n",
    "        b=next_num \n",
    "    return tuple(fibonacci)\n",
    "generate_fibonacci(5)"
   ]
  },
  {
   "cell_type": "markdown",
   "id": "1ca5be05-c838-45b9-9c33-a9e7a36fc0ea",
   "metadata": {},
   "source": [
    "42. Create a tuple from user input.\n"
   ]
  },
  {
   "cell_type": "code",
   "execution_count": 23,
   "id": "fcafd05f-87d1-4bde-8aab-949ba1cac41d",
   "metadata": {},
   "outputs": [
    {
     "name": "stdin",
     "output_type": "stream",
     "text": [
      "create a tuple separated by commas:  10,20,30\n"
     ]
    },
    {
     "name": "stdout",
     "output_type": "stream",
     "text": [
      "('10', '20', '30')\n"
     ]
    }
   ],
   "source": [
    "my_input = input('create a tuple separated by commas: ')\n",
    "my_input = my_input.split(',')\n",
    "my_tuple = tuple(my_input)\n",
    "print(my_tuple)"
   ]
  },
  {
   "cell_type": "markdown",
   "id": "2cd33aea-a163-46c7-91b1-4da205c4de96",
   "metadata": {},
   "source": [
    "43. Swap two elements in a tuple."
   ]
  },
  {
   "cell_type": "code",
   "execution_count": 27,
   "id": "f62d3ce5-07aa-41e0-a39b-0633cef2ef71",
   "metadata": {},
   "outputs": [
    {
     "name": "stdout",
     "output_type": "stream",
     "text": [
      "(1, 4, 3, 2, 5)\n"
     ]
    }
   ],
   "source": [
    "my_tuple = (1,2,3,4,5)\n",
    "my_list = list(my_tuple)\n",
    "# indexes to swap\n",
    "index1 = 1\n",
    "index2 = 3\n",
    "first = my_list[index1]\n",
    "my_list[index1] = my_list[index2]\n",
    "my_list[index2] = first\n",
    "\n",
    "print(tuple(my_list))"
   ]
  },
  {
   "cell_type": "markdown",
   "id": "b3a7db52-b5a8-496c-b674-800ef2d155b5",
   "metadata": {},
   "source": [
    "44. Reverse the elements of a tuple."
   ]
  },
  {
   "cell_type": "code",
   "execution_count": 30,
   "id": "72725a11-ce16-44a5-bc9f-ebc187c6e588",
   "metadata": {},
   "outputs": [
    {
     "name": "stdout",
     "output_type": "stream",
     "text": [
      "(5, 4, 3, 2, 1)\n"
     ]
    }
   ],
   "source": [
    "my_tuple = (1,2,3,4,5)\n",
    "reversed_tuple = my_tuple[::-1]\n",
    "print(m1)"
   ]
  },
  {
   "cell_type": "markdown",
   "id": "76aed71a-2963-4dbb-b36d-e0770e4811fb",
   "metadata": {},
   "source": [
    "45. Create a tuple of the first `n` powers of 2."
   ]
  },
  {
   "cell_type": "code",
   "execution_count": 31,
   "id": "9612fba7-b728-4a9c-8d23-a605c3aeeaec",
   "metadata": {},
   "outputs": [
    {
     "name": "stdin",
     "output_type": "stream",
     "text": [
      "enter how many powers of 2 you want:  5\n"
     ]
    },
    {
     "name": "stdout",
     "output_type": "stream",
     "text": [
      "(2, 4, 8, 16, 32)\n"
     ]
    }
   ],
   "source": [
    "n = int(input('enter how many powers of 2 you want: '))\n",
    "powers_2 = [2**i for i in range(1,n+1)]\n",
    "print(tuple(powers_2))"
   ]
  },
  {
   "cell_type": "markdown",
   "id": "f2fbeee8-75f8-4bc7-92d8-83a543c9a403",
   "metadata": {},
   "source": [
    "46. Find the longest string in a tuple of strings."
   ]
  },
  {
   "cell_type": "code",
   "execution_count": 36,
   "id": "fa869264-3c7a-4da1-bdbb-93c0364d61c2",
   "metadata": {},
   "outputs": [
    {
     "name": "stdout",
     "output_type": "stream",
     "text": [
      "pegassi is the longest string with 7 characters\n"
     ]
    }
   ],
   "source": [
    "my_tuple = ('serem','ken','ryan','pegassi')\n",
    "length = 0\n",
    "longest_word = ''\n",
    "for i in my_tuple:\n",
    "    if len(i) > length:\n",
    "        longest_word = i\n",
    "        length = len(i)\n",
    "print(f'{longest_word} is the longest string with {length} characters')\n",
    "    \n",
    "    \n",
    "    "
   ]
  },
  {
   "cell_type": "markdown",
   "id": "16f31fd9-d57e-4cca-8094-b75bd26c420c",
   "metadata": {},
   "source": [
    "48. Create a tuple of the first `n` triangular numbers."
   ]
  },
  {
   "cell_type": "code",
   "execution_count": 39,
   "id": "fe26a3ea-51cc-4a8d-8f63-a905addb7196",
   "metadata": {},
   "outputs": [
    {
     "name": "stdout",
     "output_type": "stream",
     "text": [
      "ken is the shortest string with 3 characters\n"
     ]
    }
   ],
   "source": [
    "my_tuple = ('serem','ken','ryan','pegassi')\n",
    "length = float('inf')\n",
    "shortest_word = ''\n",
    "for i in my_tuple:\n",
    "    if len(i) < length:\n",
    "        shortest_word = i\n",
    "        length = len(i)\n",
    "print(f'{shortest_word} is the shortest string with {length} characters')\n",
    "    \n",
    "    \n",
    "    "
   ]
  },
  {
   "cell_type": "markdown",
   "id": "8a818416-2084-4494-b46c-23fdb5e44cf9",
   "metadata": {},
   "source": [
    "48. Create a list of the first `n` triangular numbers."
   ]
  },
  {
   "cell_type": "code",
   "execution_count": 42,
   "id": "dccb0e65-8980-4f18-81a6-97287713d6e9",
   "metadata": {},
   "outputs": [
    {
     "name": "stdout",
     "output_type": "stream",
     "text": [
      "(1, 3, 6, 10, 15, 21, 28, 36, 45, 55, 66, 78, 91, 105, 120)\n"
     ]
    }
   ],
   "source": [
    "def generate_triangular_numbers(n):\n",
    "    sum1 = 1\n",
    "    tri_nums = [sum1]\n",
    "    while len(tri_nums) < n:\n",
    "        for i in range(2,n+1):\n",
    "            sum1 = sum1+i\n",
    "            tri_nums.append(sum1)\n",
    "    return tri_nums        \n",
    "result = generate_triangular_numbers(15)\n",
    "print(tuple(result))       \n",
    "        "
   ]
  },
  {
   "cell_type": "markdown",
   "id": "bedff04c-36a4-4b5d-8304-80df8dcaf3df",
   "metadata": {},
   "source": [
    "49. Check if a tuple contains another tuple as a subsequence."
   ]
  },
  {
   "cell_type": "code",
   "execution_count": 4,
   "id": "c6c0c7df-b83a-41f5-98f7-930bc594125d",
   "metadata": {},
   "outputs": [
    {
     "name": "stdout",
     "output_type": "stream",
     "text": [
      "the main tuple contains another tuple as a subsequence\n"
     ]
    }
   ],
   "source": [
    "def check_subsequence(main_tuple,sub_tuple):\n",
    "    main_length= len(main_tuple)\n",
    "    sub_length = len(sub_tuple)\n",
    "    # We iterate through the main_tuple using a loop that runs until the end of the main tuple minus the length of the subtuple.\n",
    "    #  This is because there's no need to compare subsequences if there isn't enough space left in the main tuple.\n",
    "    for i in range(main_length-sub_length+1):\n",
    "        if main_tuple[i:i+sub_length] == sub_tuple:\n",
    "            return True\n",
    "    return False\n",
    "#main tuple\n",
    "main_tuple = (1,2,3,4,5,6,7,8,9)\n",
    "#sub tuple\n",
    "sub_tuple = (6,7,8)\n",
    "\n",
    "if check_subsequence(main_tuple,sub_tuple):\n",
    "    print('the main tuple contains another tuple as a subsequence')\n",
    "else:\n",
    "    print('the main tuple doesnot contain another tuple ')"
   ]
  },
  {
   "cell_type": "markdown",
   "id": "b3a7c76e-e00b-4393-9fb7-d18976755253",
   "metadata": {},
   "source": [
    "50. Create a tuple of alternating 1s and 0s of length `n`."
   ]
  },
  {
   "cell_type": "code",
   "execution_count": 16,
   "id": "3f2c9203-e54b-4425-b0ad-f44556b58fbe",
   "metadata": {},
   "outputs": [
    {
     "data": {
      "text/plain": [
       "[1, 0, 1, 0, 1, 0, 1, 0, 1, 0]"
      ]
     },
     "execution_count": 16,
     "metadata": {},
     "output_type": "execute_result"
    }
   ],
   "source": [
    "def alt_1and0(n):\n",
    "    my_list = []\n",
    "    while len(my_list) < n:\n",
    "        my_list.extend([1,0])\n",
    "    # since the code will return more alternating 1 and 0 than required when n is odd number, we trim my_list  to only get values till n from 0 index\n",
    "    return my_list[:n]\n",
    "alt_1and0(10)"
   ]
  },
  {
   "cell_type": "markdown",
   "id": "bb608742-f82e-41b1-8d6f-cba4ba0b4d84",
   "metadata": {
    "jp-MarkdownHeadingCollapsed": true,
    "tags": []
   },
   "source": [
    "## Set Based Practice Problem :"
   ]
  },
  {
   "cell_type": "markdown",
   "id": "f38317c2-2192-4209-83ec-7141d52f5380",
   "metadata": {},
   "source": [
    "1. Create a set with integers from 1 to 5."
   ]
  },
  {
   "cell_type": "code",
   "execution_count": 4,
   "id": "9e09fda3-eb27-497e-bc09-477c4b7da42a",
   "metadata": {},
   "outputs": [
    {
     "name": "stdout",
     "output_type": "stream",
     "text": [
      "{1, 2, 3, 4, 5}\n"
     ]
    }
   ],
   "source": [
    "my_set = {i for i in range(1,6)}\n",
    "print(my_set)"
   ]
  },
  {
   "cell_type": "markdown",
   "id": "ca36e648-8755-4fe2-9135-ef8f2b3ac30a",
   "metadata": {},
   "source": [
    "2. Add an element to a set."
   ]
  },
  {
   "cell_type": "code",
   "execution_count": 5,
   "id": "eb0f5959-3e11-44c0-880d-d7493ded6dd6",
   "metadata": {},
   "outputs": [
    {
     "name": "stdout",
     "output_type": "stream",
     "text": [
      "{1, 2, 3, 4, 5, 6}\n"
     ]
    }
   ],
   "source": [
    "my_set = {1, 2, 3, 4, 5}\n",
    "# using the addd() function\n",
    "my_set.add(6)\n",
    "print(my_set)"
   ]
  },
  {
   "cell_type": "markdown",
   "id": "02a41e73-c189-4bc0-9e1a-770e9edf2bc4",
   "metadata": {},
   "source": [
    "3. Remove an element from a set."
   ]
  },
  {
   "cell_type": "code",
   "execution_count": 6,
   "id": "6b42d087-481b-4d5d-bc1e-f0b2ce7f9108",
   "metadata": {},
   "outputs": [
    {
     "name": "stdout",
     "output_type": "stream",
     "text": [
      "{1, 2, 4, 5}\n"
     ]
    }
   ],
   "source": [
    "my_set = {1, 2, 3, 4, 5}\n",
    "# using the remove() function\n",
    "my_set.remove(3)\n",
    "print(my_set)"
   ]
  },
  {
   "cell_type": "markdown",
   "id": "460c6848-df2c-46a1-b1e9-0046405b9df1",
   "metadata": {},
   "source": [
    "4. Check if an element exists in a set."
   ]
  },
  {
   "cell_type": "code",
   "execution_count": 9,
   "id": "c0c6a017-2b66-449b-a5be-522a41ccb69f",
   "metadata": {},
   "outputs": [
    {
     "name": "stdout",
     "output_type": "stream",
     "text": [
      "the set contains the element\n"
     ]
    }
   ],
   "source": [
    "my_set = {1, 2, 3, 4, 5}\n",
    "element_to_check = 4\n",
    "if element_to_check in my_set:\n",
    "    print('the set contains the element')\n",
    "else:\n",
    "    print('the set does not contain the element')\n",
    "    \n"
   ]
  },
  {
   "cell_type": "markdown",
   "id": "ef221dc3-7459-401b-a6a5-67d1e0824971",
   "metadata": {},
   "source": [
    "5. Find the length of a set without using the `len()` function."
   ]
  },
  {
   "cell_type": "code",
   "execution_count": 10,
   "id": "db248851-9abc-487e-9d4f-9bff143d3626",
   "metadata": {},
   "outputs": [
    {
     "name": "stdout",
     "output_type": "stream",
     "text": [
      "the length of the set is 5 characters\n"
     ]
    }
   ],
   "source": [
    "my_set = {1, 2, 3, 4, 5}\n",
    "count = 0\n",
    "for i in my_set:\n",
    "    count += 1\n",
    "print(f'the length of the set is {count} characters')"
   ]
  },
  {
   "cell_type": "markdown",
   "id": "b107754d-e156-429c-8706-fe071ace152f",
   "metadata": {},
   "source": [
    "6. Clear all elements from a set."
   ]
  },
  {
   "cell_type": "code",
   "execution_count": 12,
   "id": "54b90a64-aa74-4f30-98f3-c5b3fc5c4d06",
   "metadata": {},
   "outputs": [
    {
     "name": "stdout",
     "output_type": "stream",
     "text": [
      "set()\n"
     ]
    }
   ],
   "source": [
    "my_set = {1, 2, 3, 4, 5}\n",
    "# using the clear() function\n",
    "my_set.clear()\n",
    "print(my_set)"
   ]
  },
  {
   "cell_type": "markdown",
   "id": "bcbda6ff-08ee-478d-a302-b88dc55b9f9b",
   "metadata": {},
   "source": [
    "7. Create a set of even numbers from 1 to 10."
   ]
  },
  {
   "cell_type": "code",
   "execution_count": 14,
   "id": "e0f3f49a-3dec-4438-8a3d-f4d1cfb1d47d",
   "metadata": {},
   "outputs": [
    {
     "name": "stdout",
     "output_type": "stream",
     "text": [
      "{2, 4, 6, 8, 10}\n"
     ]
    }
   ],
   "source": [
    "even_set = set()\n",
    "for i in range(1,11):\n",
    "    if i%2 == 0:\n",
    "        even_set.add(i)\n",
    "        \n",
    "print(even_set)"
   ]
  },
  {
   "cell_type": "markdown",
   "id": "57180cb9-d581-47ba-bf9c-91aa5ceb0541",
   "metadata": {},
   "source": [
    "8. Create a set of odd numbers from 1 to 10."
   ]
  },
  {
   "cell_type": "code",
   "execution_count": 15,
   "id": "bb1e574b-9605-4a09-b457-36f12b27fe5f",
   "metadata": {},
   "outputs": [
    {
     "name": "stdout",
     "output_type": "stream",
     "text": [
      "{1, 3, 5, 7, 9}\n"
     ]
    }
   ],
   "source": [
    "odd_set = set()\n",
    "for i in range(1,11):\n",
    "    if i%2 != 0:\n",
    "        odd_set.add(i)\n",
    "        \n",
    "print(odd_set)"
   ]
  },
  {
   "cell_type": "markdown",
   "id": "eb69b489-89ad-494e-b692-7701f1873323",
   "metadata": {},
   "source": [
    "9. Find the union of two sets."
   ]
  },
  {
   "cell_type": "code",
   "execution_count": 18,
   "id": "52eb3fa6-9ae4-44e3-a274-ce4102209c9d",
   "metadata": {},
   "outputs": [
    {
     "name": "stdout",
     "output_type": "stream",
     "text": [
      "the union of set1 and set2 is:  {1, 2, 3, 4, 5, 6, 7, 8}\n"
     ]
    }
   ],
   "source": [
    "set1 = {1, 2, 3, 4, 5}\n",
    "set2 = {4, 5, 6, 7, 8}\n",
    "# using union()\n",
    "union_set = set1.union(set2)\n",
    "print('the union of set1 and set2 is: ',union_set)"
   ]
  },
  {
   "cell_type": "markdown",
   "id": "37928dac-5909-4fdc-a3ce-7c4fb111d71a",
   "metadata": {},
   "source": [
    "10. Find the intersection of two sets."
   ]
  },
  {
   "cell_type": "code",
   "execution_count": 19,
   "id": "aebf1545-cdf5-407d-b26e-19ce7119c4b8",
   "metadata": {},
   "outputs": [
    {
     "name": "stdout",
     "output_type": "stream",
     "text": [
      "the intersection of set1 and set2 is:  {3, 4, 5}\n"
     ]
    }
   ],
   "source": [
    "set1 = {1, 2, 3, 4, 5}\n",
    "set2 = {3, 4, 5, 6, 7}\n",
    "intersection_set = set1.intersection(set2)\n",
    "print('the intersection of set1 and set2 is: ',intersection_set)"
   ]
  },
  {
   "cell_type": "markdown",
   "id": "557b634f-64ef-4ef3-98ac-87dbf1e19efd",
   "metadata": {},
   "source": [
    "11. Find the difference between two sets."
   ]
  },
  {
   "cell_type": "code",
   "execution_count": 20,
   "id": "5df14223-b3a7-4f09-8dda-dfffbdfcbe03",
   "metadata": {},
   "outputs": [
    {
     "name": "stdout",
     "output_type": "stream",
     "text": [
      "the diffference between set1 and set2 {1, 2}\n"
     ]
    }
   ],
   "source": [
    "set1 = {1, 2, 3, 4, 5}\n",
    "set2 = {3, 4, 5, 6, 7}\n",
    "difference_set = set1.difference(set2)\n",
    "print('the diffference between set1 and set2',difference_set)"
   ]
  },
  {
   "cell_type": "markdown",
   "id": "8a9f884b-2af6-4aa5-922a-462a0d35748a",
   "metadata": {},
   "source": [
    "12. Check if a set is a subset of another set."
   ]
  },
  {
   "cell_type": "code",
   "execution_count": 22,
   "id": "01a4fd10-2d15-430f-ac0b-4484ae3377c2",
   "metadata": {},
   "outputs": [
    {
     "name": "stdout",
     "output_type": "stream",
     "text": [
      "set1 is a subset of set2\n"
     ]
    }
   ],
   "source": [
    "set1 = {1, 2, 3}\n",
    "set2 = {1, 2, 3, 4, 5}\n",
    "# using the  is subset() method to check for subset\n",
    "is_subset = set1.issubset(set2)\n",
    "if is_subset:\n",
    "        print('set1 is a subset of set2')\n",
    "else:\n",
    "    print('set1 is not a subset of set2')"
   ]
  },
  {
   "cell_type": "markdown",
   "id": "9fe54e09-e1ec-400a-a23c-7587afaca516",
   "metadata": {},
   "source": [
    "13. Check if a set is a superset of another set."
   ]
  },
  {
   "cell_type": "code",
   "execution_count": 23,
   "id": "88370d9e-4367-4fb4-ab13-e64b730ae510",
   "metadata": {},
   "outputs": [
    {
     "name": "stdout",
     "output_type": "stream",
     "text": [
      "set1 is a superset of set2\n"
     ]
    }
   ],
   "source": [
    "set1 = {1, 2, 3, 4, 5, 6}\n",
    "set2 = {3, 4}\n",
    "# checking using the isusperset() method\n",
    "is_superset = set1.issuperset(set2)\n",
    "if is_superset:\n",
    "    print('set1 is a superset of set2')\n",
    "else:\n",
    "    print('set1 is not a superset of set2')"
   ]
  },
  {
   "cell_type": "markdown",
   "id": "ab47c6e6-8ad5-4807-802a-cfdecaa7e23f",
   "metadata": {},
   "source": [
    "14. Create a set from a list.\n"
   ]
  },
  {
   "cell_type": "code",
   "execution_count": 25,
   "id": "f9a78d46-da47-4438-b12d-940caf79f879",
   "metadata": {},
   "outputs": [
    {
     "name": "stdout",
     "output_type": "stream",
     "text": [
      "{1, 2, 3, 4, 5}\n"
     ]
    }
   ],
   "source": [
    "my_list = [1,2,3,4,5]\n",
    "# Use the set() constructor to convert the list into a set\n",
    "my_set = set(my_list)\n",
    "print(my_set)"
   ]
  },
  {
   "cell_type": "markdown",
   "id": "afb09aa6-a2fd-453e-a9b5-9c91168451c0",
   "metadata": {},
   "source": [
    "15. Convert a set to a list.\n"
   ]
  },
  {
   "cell_type": "code",
   "execution_count": 27,
   "id": "faf2723a-3256-4d1f-b87a-4388ddcd4335",
   "metadata": {},
   "outputs": [
    {
     "name": "stdout",
     "output_type": "stream",
     "text": [
      "[1, 2, 3, 4, 5]\n"
     ]
    }
   ],
   "source": [
    "my_set = {1, 2, 3, 4, 5}\n",
    "my_list = list(my_set)\n",
    "print(my_list)"
   ]
  },
  {
   "cell_type": "markdown",
   "id": "0ef84a60-c5f6-44d0-9849-e446c4f4182f",
   "metadata": {},
   "source": [
    "16. Remove a random element from a set."
   ]
  },
  {
   "cell_type": "code",
   "execution_count": 31,
   "id": "58ad8f11-323e-4db3-b9ea-da87004f216e",
   "metadata": {},
   "outputs": [
    {
     "name": "stdout",
     "output_type": "stream",
     "text": [
      "{1, 2, 3, 4}\n"
     ]
    }
   ],
   "source": [
    "import random  # Import the random module\n",
    "my_set = {1, 2, 3, 4, 5}\n",
    "random_num = random.choice(list(my_set))\n",
    "my_set.remove(random_num)\n",
    "print(my_set)"
   ]
  },
  {
   "cell_type": "markdown",
   "id": "0a23647d-6f5a-4b15-8a7b-ad8331d44d69",
   "metadata": {},
   "source": [
    "17. Pop an element from a set."
   ]
  },
  {
   "cell_type": "code",
   "execution_count": 3,
   "id": "ea02e14c-b01c-4530-87a4-1f2a2d262d49",
   "metadata": {},
   "outputs": [
    {
     "name": "stdout",
     "output_type": "stream",
     "text": [
      "popped element:  1\n",
      "original set {2, 3, 4, 5}\n"
     ]
    }
   ],
   "source": [
    "my_set = {1, 2, 3, 4, 5}\n",
    "popped_element = my_set.pop()\n",
    "print('popped element: ', popped_element)\n",
    "print('original set', my_set)"
   ]
  },
  {
   "cell_type": "markdown",
   "id": "c2870b64-1b67-4c54-8301-7b47839ad910",
   "metadata": {},
   "source": [
    "18. Check if two sets have no elements in common."
   ]
  },
  {
   "cell_type": "code",
   "execution_count": 7,
   "id": "6e9dbf58-d4fe-4ed6-a4e5-335c51dd047c",
   "metadata": {},
   "outputs": [
    {
     "name": "stdout",
     "output_type": "stream",
     "text": [
      "the two sets have no elements in common\n"
     ]
    }
   ],
   "source": [
    "set1 = {1, 2, 3, 4}\n",
    "set2 = {5, 6, 7, 8}\n",
    "\n",
    "common_elements=set1.intersection(set2)\n",
    "if not common_elements:\n",
    "    print('the two sets have no elements in common')\n",
    "else:\n",
    "    print('the two sets have elements in common,',common_elements)"
   ]
  },
  {
   "cell_type": "markdown",
   "id": "33dac4d1-e2ae-432d-b77a-5d04aaed8b78",
   "metadata": {},
   "source": [
    "19. Find the symmetric difference between two sets."
   ]
  },
  {
   "cell_type": "code",
   "execution_count": 8,
   "id": "4a4f47da-474f-4a1a-8e4d-4d89f68b4bc5",
   "metadata": {},
   "outputs": [
    {
     "name": "stdout",
     "output_type": "stream",
     "text": [
      "symmetric difference:  {2, 3, 6, 9}\n"
     ]
    }
   ],
   "source": [
    "set1 = {1,2,3,4,5}\n",
    "set2 = {1,9,6,4,5}\n",
    "# finding the difference between 2 sets,what is in set1 that is not in set2 and vice versa.dont confuse with intersection()\n",
    "symmetric_difference = set1^set2\n",
    "print('symmetric difference: ',symmetric_difference)\n",
    "\n",
    "\n",
    "\n"
   ]
  },
  {
   "cell_type": "markdown",
   "id": "a1f237f5-81c7-466a-8d5d-a0fd076ec569",
   "metadata": {},
   "source": [
    "20. Update a set with elements from another set."
   ]
  },
  {
   "cell_type": "code",
   "execution_count": 9,
   "id": "68132e54-a2f3-463d-ad92-7f94d09b5cbb",
   "metadata": {},
   "outputs": [
    {
     "name": "stdout",
     "output_type": "stream",
     "text": [
      "{1, 2, 3, 4, 5, 6, 7}\n"
     ]
    }
   ],
   "source": [
    "set1 = {1,2,3,4}\n",
    "set2 = {3,4,5,6,7}\n",
    "# will also remove duplicates\n",
    "set1.update(set2)\n",
    "print(set1)"
   ]
  },
  {
   "cell_type": "markdown",
   "id": "8323cd3f-4d62-4133-a88e-ade20ad6a926",
   "metadata": {},
   "source": [
    "21. Create a set of the first 5 prime numbers."
   ]
  },
  {
   "cell_type": "code",
   "execution_count": 52,
   "id": "947eca77-020a-4fac-85a4-337f024b4671",
   "metadata": {},
   "outputs": [
    {
     "name": "stdout",
     "output_type": "stream",
     "text": [
      "{2, 3, 5}\n"
     ]
    }
   ],
   "source": [
    "# Define a function to check if a number i is prime\n",
    "def is_prime(i):\n",
    "    # Check if i is less than or equal to 1; not prime\n",
    "    if i <= 1:\n",
    "        return False\n",
    "    # Check if i is less than or equal to 3; prime\n",
    "    if i <= 3:\n",
    "        return True\n",
    "    # Check if i is divisible by 2 or 3; not prime\n",
    "    if i % 2 == 0 or i % 3 == 0:\n",
    "        return False\n",
    "    # Iterate through potential divisors from 5 up to the square root of i, with a step size of 6\n",
    "    for divisor in range(5, int(i ** 0.5) + 1, 6):\n",
    "        # Check if i is divisible by the current divisor or divisor + 2; not prime\n",
    "        if i % divisor == 0 or i % (divisor + 2) == 0:\n",
    "            return False\n",
    "    # If none of the conditions are met, i is prime\n",
    "    return True\n",
    "\n",
    "# Create an empty set to store prime numbers\n",
    "prime_set = set()\n",
    "\n",
    "# Iterate through numbers from 1 to 5\n",
    "for i in range(1, 6):\n",
    "    # Check if each number is prime using the is_prime function\n",
    "    if is_prime(i):\n",
    "        # If the number is prime, add it to the prime_set\n",
    "        prime_set.add(i)\n",
    "\n",
    "# Print the set of prime numbers\n",
    "print(prime_set)\n"
   ]
  },
  {
   "cell_type": "markdown",
   "id": "a29169b2-a798-475f-aa03-f82dfb7719ce",
   "metadata": {},
   "source": [
    "22. Check if two sets are identical."
   ]
  },
  {
   "cell_type": "code",
   "execution_count": 55,
   "id": "ad67d6aa-fe3a-4a36-8a08-2ce75f97a3c9",
   "metadata": {},
   "outputs": [
    {
     "name": "stdout",
     "output_type": "stream",
     "text": [
      "the sets are identical\n"
     ]
    }
   ],
   "source": [
    "set1 = {1, 2, 3, 4, 5}\n",
    "set2 = {3, 1, 5, 2, 4} \n",
    "\n",
    "# order of elements in sets dont matter\n",
    "if set1 == set2:\n",
    "    print('the sets are identical')\n",
    "else:\n",
    "    print('the sets are not identical')"
   ]
  },
  {
   "cell_type": "markdown",
   "id": "6a39296e-841e-402f-babb-8af4f9505f47",
   "metadata": {},
   "source": [
    "23. Create a frozen set."
   ]
  },
  {
   "cell_type": "code",
   "execution_count": 57,
   "id": "b4fafd47-7242-484d-b7f3-394e2bfa0064",
   "metadata": {},
   "outputs": [
    {
     "name": "stdout",
     "output_type": "stream",
     "text": [
      "frozenset({1, 2, 3, 4, 5})\n"
     ]
    }
   ],
   "source": [
    "my_set = {1,2,3,4,5}\n",
    "#using frozenset() frozensets are immutable\n",
    "my_frozen_set = frozenset(my_set)\n",
    "print(my_frozen_set)\n",
    "\n"
   ]
  },
  {
   "cell_type": "markdown",
   "id": "cc4e90f3-0222-4b5d-b87f-79dd57449b50",
   "metadata": {},
   "source": [
    "24. Check if a set is disjoint with another set."
   ]
  },
  {
   "cell_type": "code",
   "execution_count": 60,
   "id": "114462d8-8eb3-4bfb-9dc1-f6513da2af49",
   "metadata": {},
   "outputs": [
    {
     "name": "stdout",
     "output_type": "stream",
     "text": [
      "set 1 is disjoint with set2\n"
     ]
    }
   ],
   "source": [
    "set1 = {1, 2, 3, 4}\n",
    "set2 = {5, 6, 7, 8}\n",
    "# The `isdisjoint()` method returns True if the sets have no common elements,\n",
    "# and False if they have at least one common element.\n",
    "is_disjoint = set1.isdisjoint(set2)\n",
    "if is_disjoint:\n",
    "    print('set 1 is disjoint with set2')\n",
    "else:\n",
    "    print('set1 and set2 are joint')"
   ]
  },
  {
   "cell_type": "markdown",
   "id": "a7b9726d-c59f-4c78-a3f5-998f0a24fc7b",
   "metadata": {},
   "source": [
    "25. Create a set of squares of numbers from 1 to 5."
   ]
  },
  {
   "cell_type": "code",
   "execution_count": 62,
   "id": "f7c606f7-c1b2-401b-9536-def916d33c9f",
   "metadata": {},
   "outputs": [
    {
     "name": "stdout",
     "output_type": "stream",
     "text": [
      "{1, 4, 9, 16, 25}\n"
     ]
    }
   ],
   "source": [
    "my_set = set()\n",
    "for i in range(1,6):\n",
    "    i = i**2\n",
    "    my_set.add(i)\n",
    "print(my_set)"
   ]
  },
  {
   "cell_type": "markdown",
   "id": "50e2542c-6577-4a6f-ac76-a4dccb5f582b",
   "metadata": {},
   "source": [
    "26. Filter out all even numbers from a set."
   ]
  },
  {
   "cell_type": "code",
   "execution_count": 63,
   "id": "359a743d-a862-4de2-8f69-aa076219bc57",
   "metadata": {},
   "outputs": [],
   "source": [
    "def is_even(num):\n",
    "    if num%2 == 0:\n",
    "        return True\n",
    "my_set = {2,3,6,7,5,9,8,14,12}\n",
    "even_numbers = set()\n",
    "for i in my_set:\n",
    "    if is_even(i):\n",
    "        even_numbers.add(i)\n",
    " "
   ]
  },
  {
   "cell_type": "code",
   "execution_count": 64,
   "id": "e7333f6c-4c16-4258-b2ff-b8285293cfb1",
   "metadata": {},
   "outputs": [
    {
     "name": "stdout",
     "output_type": "stream",
     "text": [
      "original set:  {2, 3, 5, 6, 7, 8, 9, 12, 14}\n",
      "even numbers:  {2, 6, 8, 12, 14}\n"
     ]
    }
   ],
   "source": [
    "print('original set: ',my_set)\n",
    "print('even numbers: ',even_numbers)"
   ]
  },
  {
   "cell_type": "markdown",
   "id": "debcd363-d78a-4fa6-8e38-2b35a4d2ab54",
   "metadata": {},
   "source": [
    "27. Multiply all elements in a set by 2."
   ]
  },
  {
   "cell_type": "code",
   "execution_count": 65,
   "id": "a3998aa6-5911-478c-8c10-639b2aa8cfcb",
   "metadata": {},
   "outputs": [
    {
     "name": "stdout",
     "output_type": "stream",
     "text": [
      "{4, 6, 10, 12, 14, 16, 18, 24, 28}\n"
     ]
    }
   ],
   "source": [
    "my_set = {2,3,6,7,5,9,8,14,12}\n",
    "# using list comprehension\n",
    "multi_2 = [i*2 for i in my_set]\n",
    "print(set(multi_2))"
   ]
  },
  {
   "cell_type": "markdown",
   "id": "87828516-e313-49b5-be7a-265f661b11f2",
   "metadata": {},
   "source": [
    "28. Create a set of random numbers."
   ]
  },
  {
   "cell_type": "code",
   "execution_count": 71,
   "id": "3be26167-f05f-493c-97ac-fa1c1e7989bb",
   "metadata": {},
   "outputs": [
    {
     "data": {
      "text/plain": [
       "{6, 22, 39, 41, 43, 56, 57, 75, 88, 91}"
      ]
     },
     "execution_count": 71,
     "metadata": {},
     "output_type": "execute_result"
    }
   ],
   "source": [
    "import random\n",
    "def random_nums(n):\n",
    "    random_set = set()\n",
    "    for i in range(n+1):\n",
    "        new_num = random.randint(1,100)\n",
    "        random_set.add(new_num)\n",
    "    return random_set\n",
    "\n",
    "# n is the number of random numbers to be genrated\n",
    "n= 10\n",
    "random_nums(n)"
   ]
  },
  {
   "cell_type": "markdown",
   "id": "fba6a482-81aa-4e46-966f-d75175570820",
   "metadata": {},
   "source": [
    "29. Check if a set is empty."
   ]
  },
  {
   "cell_type": "code",
   "execution_count": 73,
   "id": "c4f070ec-e5d9-4e68-bd95-a158a8c4941d",
   "metadata": {},
   "outputs": [
    {
     "name": "stdout",
     "output_type": "stream",
     "text": [
      "my_set is not empty\n",
      "empty_set is empty\n"
     ]
    }
   ],
   "source": [
    "my_set = {2,3,6,7,5,9,8,14,12}\n",
    "empty_set = set()\n",
    "# checking my_set\n",
    "if not my_set:\n",
    "    print('my_set is empty')\n",
    "else:\n",
    "    print('my_set is not empty')\n",
    "# checking empty_set\n",
    "if not empty_set:\n",
    "    print('empty_set is empty')\n",
    "else:\n",
    "    print('empy_set is not empty')\n"
   ]
  },
  {
   "cell_type": "markdown",
   "id": "71847830-1199-47da-8fdf-7c5f104e5411",
   "metadata": {},
   "source": [
    "30. Create a nested set (hint: use frozenset)."
   ]
  },
  {
   "cell_type": "code",
   "execution_count": 2,
   "id": "ff8f9024-a322-42b4-b34a-80870ddc01d8",
   "metadata": {},
   "outputs": [
    {
     "name": "stdout",
     "output_type": "stream",
     "text": [
      "Nested Set: {frozenset({1, 2, 3, 4, 5}), frozenset({6, 7, 8, 9, 10})}\n"
     ]
    }
   ],
   "source": [
    "set1 = {1, 2, 3, 4, 5}\n",
    "set2 = {6, 7, 8, 9, 10}\n",
    "\n",
    "#Create frozensets from the inner sets\n",
    "frozen_set1 = frozenset(set1)\n",
    "frozen_set2 = frozenset(set2)\n",
    "\n",
    "#Create the nested set using the frozensets\n",
    "nested_set = {frozen_set1, frozen_set2}\n",
    "\n",
    "# Print the nested set\n",
    "print(\"Nested Set:\", nested_set)"
   ]
  },
  {
   "cell_type": "markdown",
   "id": "29feb1e7-03f4-4498-9eb3-79fbb9c788c2",
   "metadata": {},
   "source": [
    "31. Remove an element from a set using the discard method."
   ]
  },
  {
   "cell_type": "code",
   "execution_count": 3,
   "id": "adf7147f-9970-448d-b0a9-f80fc38db53d",
   "metadata": {},
   "outputs": [
    {
     "name": "stdout",
     "output_type": "stream",
     "text": [
      "{1, 2, 3, 5}\n"
     ]
    }
   ],
   "source": [
    "my_set = {1,2,3,4,5}\n",
    "element_to_remove = 4\n",
    "# Use the discard() method to remove the element from the set\n",
    "# If the element is not present in the set, discard() won't raise an error\n",
    "my_set.discard(element_to_remove)\n",
    "print(my_set)"
   ]
  },
  {
   "cell_type": "markdown",
   "id": "88762411-0f0e-4ec3-9910-e5ef3418c752",
   "metadata": {},
   "source": [
    "32. Compare two sets."
   ]
  },
  {
   "cell_type": "code",
   "execution_count": 6,
   "id": "b23d782f-2179-431e-a15f-ee581164623e",
   "metadata": {},
   "outputs": [
    {
     "name": "stdout",
     "output_type": "stream",
     "text": [
      "set 1 {1, 2, 3, 4, 5}\n",
      "set 2 {4, 5, 6, 7, 8}\n",
      "is set1 a subset of set2:  False\n",
      "is set2 a subset of set2:  False\n",
      "the common elements between the sets are:  {4, 5}\n",
      "the union of set1 and  is:  {1, 2, 3, 4, 5, 6, 7, 8}\n",
      "elements that are in set1 and not in set2:  {1, 2, 3}\n",
      "elements that are in set2 and not in set1:  {8, 6, 7}\n"
     ]
    }
   ],
   "source": [
    "set1 = {1,2,3,4,5}\n",
    "set2 = {4,5,6,7,8}\n",
    "\n",
    "# using set operations to compare the sets\n",
    "# 1.checking for subset\n",
    "# check if set1 is a subset of set2\n",
    "is_subset = set1.issubset(set2)\n",
    "#check if set2 is a subset of set1\n",
    "is_superset = set1.issuperset(set2)\n",
    "# 2. finding the intersection of the sets\n",
    "intersection = set1.intersection(set2)\n",
    "# 3.finding the union the sets\n",
    "union = set1.union(set2)\n",
    "# finding the elements that are in set1 but not in set2\n",
    "difference1 = set1.difference(set2)\n",
    "# finding the elements that are in set2 but not in set1\n",
    "difference2 = set2.difference(set1)\n",
    "\n",
    "#output\n",
    "print('set 1', set1)\n",
    "print('set 2', set2)\n",
    "print('is set1 a subset of set2: ',is_subset)\n",
    "print('is set2 a subset of set2: ',is_superset)\n",
    "print('the common elements between the sets are: ',intersection)\n",
    "print('the union of set1 and  is: ',union)\n",
    "print('elements that are in set1 and not in set2: ',difference1)\n",
    "print('elements that are in set2 and not in set1: ',difference2)\n"
   ]
  },
  {
   "cell_type": "markdown",
   "id": "4beb350b-41fe-48c7-a6e5-138c547f8659",
   "metadata": {},
   "source": [
    "33. Create a set from a string."
   ]
  },
  {
   "cell_type": "code",
   "execution_count": 9,
   "id": "0475046a-4418-4f37-bef6-7dbc4ed34d30",
   "metadata": {},
   "outputs": [
    {
     "name": "stdout",
     "output_type": "stream",
     "text": [
      "{'e', 'o', 'v', 't', 'r'}\n"
     ]
    }
   ],
   "source": [
    "my_string = 'trevor'\n",
    "my_set = set(my_string)\n",
    "print(my_set)"
   ]
  },
  {
   "cell_type": "markdown",
   "id": "4df1588d-3d7e-476a-a608-d4e1201250ae",
   "metadata": {},
   "source": [
    "34. Convert a set of strings to a set of integers."
   ]
  },
  {
   "cell_type": "code",
   "execution_count": 12,
   "id": "6aeff77b-f140-4056-a48d-4e4e8ed5c009",
   "metadata": {},
   "outputs": [
    {
     "name": "stdout",
     "output_type": "stream",
     "text": [
      "{1, 2, 3, 4, 5}\n"
     ]
    }
   ],
   "source": [
    "set_str = {'1','2','3','4','5'}\n",
    "set_int = set()\n",
    "for i in set_str:\n",
    "    i = int(i)\n",
    "    set_int.add(i)\n",
    "    \n",
    "print(set_int)"
   ]
  },
  {
   "cell_type": "markdown",
   "id": "ec20c948-eb82-4896-8bc0-499812cc31da",
   "metadata": {},
   "source": [
    "35. Convert a set of integers to a set of strings."
   ]
  },
  {
   "cell_type": "code",
   "execution_count": 16,
   "id": "728e1caf-29e2-41bf-96c1-4c0eb1d3627b",
   "metadata": {},
   "outputs": [
    {
     "name": "stdout",
     "output_type": "stream",
     "text": [
      "{'3', '4', '5', '1', '2'}\n"
     ]
    }
   ],
   "source": [
    "set_int = {1,2,3,4,5}\n",
    "set_str = set()\n",
    "for i in set_int:\n",
    "    i = str(i)\n",
    "    set_str.add(i)\n",
    "    \n",
    "print(set_str)"
   ]
  },
  {
   "cell_type": "markdown",
   "id": "89b969fb-825f-42c0-8f09-1250f667d1aa",
   "metadata": {},
   "source": [
    "36. Create a set from a tuple."
   ]
  },
  {
   "cell_type": "code",
   "execution_count": 17,
   "id": "e35b1690-a212-4143-8d9a-39bcd893d371",
   "metadata": {},
   "outputs": [
    {
     "name": "stdout",
     "output_type": "stream",
     "text": [
      "{1, 2, 3, 4, 5}\n"
     ]
    }
   ],
   "source": [
    "my_tuple = (1,2,3,4,5)\n",
    "my_set = set(my_tuple)\n",
    "print(my_set)"
   ]
  },
  {
   "cell_type": "markdown",
   "id": "133ba9c8-6f36-43b7-b24f-ed065d8fa6fe",
   "metadata": {},
   "source": [
    "37. Convert a set to a tuple."
   ]
  },
  {
   "cell_type": "code",
   "execution_count": 18,
   "id": "a4dc997d-bd45-4f18-a2b8-0655cc6b69ef",
   "metadata": {},
   "outputs": [
    {
     "name": "stdout",
     "output_type": "stream",
     "text": [
      "(1, 2, 3, 4, 5)\n"
     ]
    }
   ],
   "source": [
    "my_set = {1,2,3,4,5}\n",
    "my_tuple = tuple(my_set)\n",
    "print(my_tuple)"
   ]
  },
  {
   "cell_type": "markdown",
   "id": "62c571c7-2cd5-4437-865d-3a840a48010a",
   "metadata": {},
   "source": [
    "38. Find the maximum value in a set."
   ]
  },
  {
   "cell_type": "code",
   "execution_count": 20,
   "id": "519b1baa-fc52-4f15-b501-b501ba38d8e0",
   "metadata": {},
   "outputs": [
    {
     "name": "stdout",
     "output_type": "stream",
     "text": [
      "5\n"
     ]
    }
   ],
   "source": [
    "my_set = {1,2,3,4,5}\n",
    "# using the max()\n",
    "max_value = max(my_set)\n",
    "print(max_value)"
   ]
  },
  {
   "cell_type": "markdown",
   "id": "974834d5-a9ee-4ac3-a7e5-d84593a18368",
   "metadata": {},
   "source": [
    "39. Find the minimum value in a set."
   ]
  },
  {
   "cell_type": "code",
   "execution_count": 21,
   "id": "006510eb-787a-4bee-9cbc-efb356fef109",
   "metadata": {},
   "outputs": [
    {
     "name": "stdout",
     "output_type": "stream",
     "text": [
      "1\n"
     ]
    }
   ],
   "source": [
    "my_set = {1,2,3,4,5}\n",
    "# using the min()\n",
    "min_value = min(my_set)\n",
    "print(min_value)"
   ]
  },
  {
   "cell_type": "markdown",
   "id": "d52e533b-43e2-4b5c-b412-548346165f63",
   "metadata": {},
   "source": [
    "40. Create a set from user input."
   ]
  },
  {
   "cell_type": "code",
   "execution_count": 23,
   "id": "3500bddc-5395-4c5f-8e45-fe4427c30ac3",
   "metadata": {},
   "outputs": [
    {
     "name": "stdin",
     "output_type": "stream",
     "text": [
      "enter the elements for your set,they should be comma separated:  serem,ken,francis\n"
     ]
    },
    {
     "data": {
      "text/plain": [
       "{'francis', 'ken', 'serem'}"
      ]
     },
     "execution_count": 23,
     "metadata": {},
     "output_type": "execute_result"
    }
   ],
   "source": [
    "def create_set(elements):\n",
    "    my_set = set(elements)\n",
    "    return my_set\n",
    "\n",
    "args = input('enter the elements for your set,they should be comma separated: ')\n",
    "# Split the input string into individual elements using ','\n",
    "elements = args.split(',')\n",
    "create_set(elements)\n",
    "    "
   ]
  },
  {
   "cell_type": "code",
   "execution_count": 24,
   "id": "d2135014-6e6e-4573-bfc3-63c9bb80249a",
   "metadata": {},
   "outputs": [
    {
     "name": "stdout",
     "output_type": "stream",
     "text": [
      "Enter elements for the set (type 'done' to finish):\n"
     ]
    },
    {
     "name": "stdin",
     "output_type": "stream",
     "text": [
      ">  12,11,15\n",
      ">  serem,ken\n",
      ">  yes,no\n",
      ">  done\n"
     ]
    },
    {
     "name": "stdout",
     "output_type": "stream",
     "text": [
      "Final set: {'serem,ken', '12,11,15', 'yes,no'}\n"
     ]
    }
   ],
   "source": [
    "# Step 1: Initialize an empty set\n",
    "user_set = set()\n",
    "\n",
    "# Step 2: Get input from the user\n",
    "print(\"Enter elements for the set (type 'done' to finish):\")\n",
    "while True:\n",
    "    user_input = input(\"> \")  # Get input from the user\n",
    "\n",
    "    if user_input.lower() == 'done':\n",
    "        break  # Exit the loop if the user enters 'done'\n",
    "\n",
    "    # Step 3: Add the user input to the set\n",
    "    user_set.add(user_input)\n",
    "\n",
    "# Step 4: Display the final set created from user input\n",
    "print(\"Final set:\", user_set)"
   ]
  },
  {
   "cell_type": "markdown",
   "id": "c2a54966-7f49-4e97-ab5f-4a2bb4788061",
   "metadata": {},
   "source": [
    "41. Check if the intersection of two sets is empty."
   ]
  },
  {
   "cell_type": "code",
   "execution_count": 29,
   "id": "4eb08df5-2956-44c7-9b49-62d345b17b76",
   "metadata": {},
   "outputs": [
    {
     "name": "stdout",
     "output_type": "stream",
     "text": [
      "set1 and set2 dont intersect\n"
     ]
    }
   ],
   "source": [
    "set1 = {1,2,3,4,5}\n",
    "set2 = {6,7,8}\n",
    "\n",
    "intersection = set1.intersection(set2)\n",
    "# checking if they intersect \n",
    "if not intersection:\n",
    "    print('set1 and set2 dont intersect')\n",
    "else:\n",
    "    print(intersection)"
   ]
  },
  {
   "cell_type": "markdown",
   "id": "807714db-6599-4437-8f28-23a7514386ac",
   "metadata": {},
   "source": [
    "42. Create a set of the first 5 Fibonacci numbers."
   ]
  },
  {
   "cell_type": "code",
   "execution_count": 35,
   "id": "0a585e2e-501b-41c1-a449-6de46a5d7e71",
   "metadata": {},
   "outputs": [
    {
     "name": "stdout",
     "output_type": "stream",
     "text": [
      "{0, 1, 2, 3, 5}\n"
     ]
    }
   ],
   "source": [
    "\n",
    "a,b = 0,1\n",
    "fib_nums = {a,b}\n",
    "\n",
    "while len(fib_nums) < 5:\n",
    "    sum = a+b\n",
    "    fib_nums.add(sum)\n",
    "    a = b\n",
    "    b = sum\n",
    "# sets dont allow duplicates so the exta 1 , wont be printed\n",
    "print(fib_nums)"
   ]
  },
  {
   "cell_type": "markdown",
   "id": "9d24b913-7c27-4024-bfc2-5ae02996fdb1",
   "metadata": {},
   "source": [
    "43. Remove duplicates from a list using sets."
   ]
  },
  {
   "cell_type": "code",
   "execution_count": 37,
   "id": "cdcea538-7f4b-4c53-a65b-3c47ddbb5035",
   "metadata": {},
   "outputs": [
    {
     "name": "stdout",
     "output_type": "stream",
     "text": [
      "[1, 2, 3, 5, 6]\n"
     ]
    }
   ],
   "source": [
    "my_list = [5,5,3,2,2,1,6]\n",
    "# convert to a set to remove duplicates\n",
    "my_set = set(my_list)\n",
    "\n",
    "# convert back to a list\n",
    "my_list = list(my_set)\n",
    "print(my_list)"
   ]
  },
  {
   "cell_type": "markdown",
   "id": "c0fb7b8e-b64d-429b-b5f6-0a8fb4cd07b7",
   "metadata": {},
   "source": [
    "44. Check if two sets have the same elements, regardless of their count."
   ]
  },
  {
   "cell_type": "code",
   "execution_count": 38,
   "id": "90f1d684-69fd-4e19-84d9-f758e6e969e1",
   "metadata": {},
   "outputs": [
    {
     "name": "stdout",
     "output_type": "stream",
     "text": [
      "The sets have the same elements.\n"
     ]
    }
   ],
   "source": [
    "def have_same_elements(set1, set2):\n",
    "    # Convert the sets to lists and sort them\n",
    "    sorted_list1 = sorted(list(set1))\n",
    "    sorted_list2 = sorted(list(set2))\n",
    "\n",
    "    # Compare the sorted lists to check if they are equal\n",
    "    return sorted_list1 == sorted_list2\n",
    "\n",
    "# Example sets\n",
    "set1 = {1,7,8}\n",
    "set2 = {8,7,1}\n",
    "\n",
    "# Check if the sets have the same elements\n",
    "result = have_same_elements(set1, set2)\n",
    "\n",
    "# Print the result\n",
    "if result:\n",
    "    print(\"The sets have the same elements.\")\n",
    "else:\n",
    "    print(\"The sets do not have the same elements.\")"
   ]
  },
  {
   "cell_type": "markdown",
   "id": "55d4957d-c540-4196-8174-8b01ed738466",
   "metadata": {},
   "source": [
    "45. Create a set of the first `n` powers of 2."
   ]
  },
  {
   "cell_type": "code",
   "execution_count": 39,
   "id": "1bf669b6-f056-4046-a04e-d44f834817b6",
   "metadata": {},
   "outputs": [
    {
     "data": {
      "text/plain": [
       "{0, 1, 4, 9, 16, 25, 36, 49, 64, 81, 100}"
      ]
     },
     "execution_count": 39,
     "metadata": {},
     "output_type": "execute_result"
    }
   ],
   "source": [
    "def powers_2(n):\n",
    "    power_set = set()\n",
    "    for i in range(n+1):\n",
    "        i = i**2\n",
    "        power_set.add(i)\n",
    "    return power_set\n",
    "\n",
    "powers_2(10)"
   ]
  },
  {
   "cell_type": "markdown",
   "id": "5ff20855-a31f-47fa-9855-6ef4ea99723c",
   "metadata": {},
   "source": [
    "46. Find the common elements between a set and a list."
   ]
  },
  {
   "cell_type": "code",
   "execution_count": 40,
   "id": "3371c64a-39cb-4e30-9cbc-b0155de756b1",
   "metadata": {},
   "outputs": [
    {
     "name": "stdout",
     "output_type": "stream",
     "text": [
      "{1, 2, 3}\n"
     ]
    }
   ],
   "source": [
    "my_list = [1,1,2,3,4,5,5]\n",
    "my_set = {1,2,3,6}\n",
    "\n",
    "#convert list to set to remove duplicates\n",
    "list_set = set(my_list)\n",
    "# find the intersection\n",
    "comm_elements = my_set.intersection(list_set)\n",
    "\n",
    "if not comm_elements:\n",
    "    print('the list and set have no elements in common')\n",
    "else:\n",
    "    print(comm_elements)"
   ]
  },
  {
   "cell_type": "markdown",
   "id": "586f4af6-a5ed-47af-86c4-900bdebbeb5b",
   "metadata": {},
   "source": [
    "47. Create a set of the first `n` triangular numbers."
   ]
  },
  {
   "cell_type": "code",
   "execution_count": 51,
   "id": "d250daed-03ad-488a-a077-0b2d60874451",
   "metadata": {},
   "outputs": [
    {
     "data": {
      "text/plain": [
       "{1, 3, 6, 10, 15}"
      ]
     },
     "execution_count": 51,
     "metadata": {},
     "output_type": "execute_result"
    }
   ],
   "source": [
    "def triangular_nums(n):\n",
    "    my_set = set()\n",
    "    sum = 0\n",
    "    for i in range(1,n+1):\n",
    "        sum = i+sum\n",
    "        my_set.add(sum)\n",
    "    return my_set\n",
    "\n",
    "triangular_nums(5)"
   ]
  },
  {
   "cell_type": "markdown",
   "id": "df684585-a9e2-4dfc-b66c-33a19e30e634",
   "metadata": {},
   "source": [
    "48. Check if a set contains another set as a subset."
   ]
  },
  {
   "cell_type": "code",
   "execution_count": 54,
   "id": "a61f8b4a-ece5-45ec-a6b8-25080caf9882",
   "metadata": {},
   "outputs": [
    {
     "name": "stdout",
     "output_type": "stream",
     "text": [
      "set2 is a subset of set1\n"
     ]
    }
   ],
   "source": [
    "set1 = {1,2,3,4,5}\n",
    "set2 = {1,2,3}\n",
    "# using issubset()\n",
    "is_subset = set2.issubset(set1)\n",
    "if is_subset:\n",
    "    print('set2 is a subset of set1')\n",
    "else:\n",
    "    print('set2 is not a subset of set1')"
   ]
  },
  {
   "cell_type": "markdown",
   "id": "3f6d47a9-fbfb-4adb-90f3-fca381bc6d81",
   "metadata": {},
   "source": [
    "49. Create a set of alternating 1s and 0s of length `n`."
   ]
  },
  {
   "cell_type": "code",
   "execution_count": 3,
   "id": "400a5f8b-1cf9-4e7f-a0b4-fba1c8e4b97d",
   "metadata": {},
   "outputs": [
    {
     "name": "stdout",
     "output_type": "stream",
     "text": [
      "{0, 1}\n"
     ]
    }
   ],
   "source": [
    "def alternating_1and0(n):\n",
    "    my_set = set()\n",
    "    while len(my_set) < n:\n",
    "        my_set.add(1)\n",
    "        if len(my_set) < n:\n",
    "            my_set.add(0)\n",
    "    return my_set\n",
    "\n",
    "result = alternating_1and0(5)\n",
    "print(result)\n"
   ]
  },
  {
   "cell_type": "markdown",
   "id": "d5029e8e-99dd-44ee-aac7-7af81224cc11",
   "metadata": {},
   "source": [
    "50. Merge multiple sets into one."
   ]
  },
  {
   "cell_type": "code",
   "execution_count": 2,
   "id": "166cb838-12eb-441b-b326-7f738e5c643a",
   "metadata": {},
   "outputs": [
    {
     "name": "stdout",
     "output_type": "stream",
     "text": [
      "Merged Set: {1, 2, 3, 4, 5, 6, 7}\n"
     ]
    }
   ],
   "source": [
    "set1 = {1, 2, 3}\n",
    "set2 = {3, 4, 5}\n",
    "set3 = {5, 6, 7}\n",
    "\n",
    "# using the | operator\n",
    "merged_set = set1 | set2  | set3\n",
    "    # similar to this\n",
    "# merged_set = set1.union(set2, set3)\n",
    "\n",
    "print(\"Merged Set:\", merged_set)"
   ]
  }
 ],
 "metadata": {
  "kernelspec": {
   "display_name": "Python 3 (ipykernel)",
   "language": "python",
   "name": "python3"
  },
  "language_info": {
   "codemirror_mode": {
    "name": "ipython",
    "version": 3
   },
   "file_extension": ".py",
   "mimetype": "text/x-python",
   "name": "python",
   "nbconvert_exporter": "python",
   "pygments_lexer": "ipython3",
   "version": "3.10.8"
  }
 },
 "nbformat": 4,
 "nbformat_minor": 5
}
